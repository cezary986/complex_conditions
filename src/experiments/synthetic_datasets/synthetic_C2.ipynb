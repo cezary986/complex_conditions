{
 "cells": [
  {
   "cell_type": "code",
   "execution_count": 2,
   "metadata": {},
   "outputs": [],
   "source": [
    "import sys\n",
    "sys.path.append('../../utils')"
   ]
  },
  {
   "cell_type": "code",
   "execution_count": 4,
   "metadata": {},
   "outputs": [
    {
     "data": {
      "text/html": [
       "        <script type=\"text/javascript\">\n",
       "        window.PlotlyConfig = {MathJaxConfig: 'local'};\n",
       "        if (window.MathJax && window.MathJax.Hub && window.MathJax.Hub.Config) {window.MathJax.Hub.Config({SVG: {font: \"STIX-Web\"}});}\n",
       "        if (typeof require !== 'undefined') {\n",
       "        require.undef(\"plotly\");\n",
       "        requirejs.config({\n",
       "            paths: {\n",
       "                'plotly': ['https://cdn.plot.ly/plotly-2.16.1.min']\n",
       "            }\n",
       "        });\n",
       "        require(['plotly'], function(Plotly) {\n",
       "            window._Plotly = Plotly;\n",
       "        });\n",
       "        }\n",
       "        </script>\n",
       "        "
      ]
     },
     "metadata": {},
     "output_type": "display_data"
    }
   ],
   "source": [
    "import pandas as pd\n",
    "import numpy as np\n",
    "import plotly.express as px\n",
    "import random\n",
    "\n",
    "from rulekit import RuleKit\n",
    "from rulekit.classification import RuleClassifier\n",
    "from rulekit.params import Measures\n",
    "\n",
    "from plotly.offline import plot, iplot, init_notebook_mode\n",
    "init_notebook_mode(connected=True)\n",
    "\n",
    "RuleKit.init()"
   ]
  },
  {
   "cell_type": "code",
   "execution_count": 5,
   "metadata": {},
   "outputs": [],
   "source": [
    "clf_simple = RuleClassifier(induction_measure=Measures.C2,\n",
    "                        pruning_measure=Measures.C2,\n",
    "                        voting_measure=Measures.C2,\n",
    "                        discrete_set_conditions_enabled = False,\n",
    "                        negated_conditions_enabled = False,\n",
    "                        intervals_conditions_enabled = False,\n",
    "                        numerical_attributes_conditions_enabled = False,\n",
    "                        nominal_attributes_conditions_enabled = False,\n",
    "                        inner_alternatives_enabled = False,\n",
    "                        )\n",
    "clf_complex = RuleClassifier(induction_measure=Measures.C2,\n",
    "                        pruning_measure=Measures.C2,\n",
    "                        voting_measure=Measures.C2,\n",
    "                        discrete_set_conditions_enabled = True,\n",
    "                        negated_conditions_enabled = True,\n",
    "                        intervals_conditions_enabled = True,\n",
    "                        numerical_attributes_conditions_enabled = True,\n",
    "                        nominal_attributes_conditions_enabled = True,\n",
    "                        inner_alternatives_enabled = False,\n",
    ")\n",
    "\n",
    "clf_complex_with_inners = RuleClassifier(induction_measure=Measures.C2,\n",
    "                        pruning_measure=Measures.C2,\n",
    "                        voting_measure=Measures.C2,\n",
    "                        discrete_set_conditions_enabled = True,\n",
    "                        negated_conditions_enabled = True,\n",
    "                        intervals_conditions_enabled = True,\n",
    "                        numerical_attributes_conditions_enabled = True,\n",
    "                        nominal_attributes_conditions_enabled = True,\n",
    "                        inner_alternatives_enabled = True,\n",
    ")\n"
   ]
  },
  {
   "attachments": {},
   "cell_type": "markdown",
   "metadata": {},
   "source": [
    "# Numeryczne"
   ]
  },
  {
   "attachments": {},
   "cell_type": "markdown",
   "metadata": {},
   "source": [
    "## a E {v1, v2}"
   ]
  },
  {
   "cell_type": "code",
   "execution_count": 3,
   "metadata": {},
   "outputs": [
    {
     "data": {
      "text/html": [
       "<div>\n",
       "<style scoped>\n",
       "    .dataframe tbody tr th:only-of-type {\n",
       "        vertical-align: middle;\n",
       "    }\n",
       "\n",
       "    .dataframe tbody tr th {\n",
       "        vertical-align: top;\n",
       "    }\n",
       "\n",
       "    .dataframe thead th {\n",
       "        text-align: right;\n",
       "    }\n",
       "</style>\n",
       "<table border=\"1\" class=\"dataframe\">\n",
       "  <thead>\n",
       "    <tr style=\"text-align: right;\">\n",
       "      <th></th>\n",
       "      <th>a</th>\n",
       "      <th>b</th>\n",
       "      <th>class</th>\n",
       "    </tr>\n",
       "  </thead>\n",
       "  <tbody>\n",
       "    <tr>\n",
       "      <th>0</th>\n",
       "      <td>3.92</td>\n",
       "      <td>4.86</td>\n",
       "      <td>1</td>\n",
       "    </tr>\n",
       "    <tr>\n",
       "      <th>1</th>\n",
       "      <td>5.02</td>\n",
       "      <td>8.98</td>\n",
       "      <td>1</td>\n",
       "    </tr>\n",
       "    <tr>\n",
       "      <th>2</th>\n",
       "      <td>8.20</td>\n",
       "      <td>8.28</td>\n",
       "      <td>0</td>\n",
       "    </tr>\n",
       "    <tr>\n",
       "      <th>3</th>\n",
       "      <td>6.10</td>\n",
       "      <td>7.29</td>\n",
       "      <td>1</td>\n",
       "    </tr>\n",
       "    <tr>\n",
       "      <th>4</th>\n",
       "      <td>0.76</td>\n",
       "      <td>7.94</td>\n",
       "      <td>0</td>\n",
       "    </tr>\n",
       "    <tr>\n",
       "      <th>...</th>\n",
       "      <td>...</td>\n",
       "      <td>...</td>\n",
       "      <td>...</td>\n",
       "    </tr>\n",
       "    <tr>\n",
       "      <th>95</th>\n",
       "      <td>7.64</td>\n",
       "      <td>0.40</td>\n",
       "      <td>0</td>\n",
       "    </tr>\n",
       "    <tr>\n",
       "      <th>96</th>\n",
       "      <td>4.72</td>\n",
       "      <td>7.77</td>\n",
       "      <td>1</td>\n",
       "    </tr>\n",
       "    <tr>\n",
       "      <th>97</th>\n",
       "      <td>6.76</td>\n",
       "      <td>5.82</td>\n",
       "      <td>1</td>\n",
       "    </tr>\n",
       "    <tr>\n",
       "      <th>98</th>\n",
       "      <td>7.77</td>\n",
       "      <td>4.50</td>\n",
       "      <td>0</td>\n",
       "    </tr>\n",
       "    <tr>\n",
       "      <th>99</th>\n",
       "      <td>4.54</td>\n",
       "      <td>2.94</td>\n",
       "      <td>1</td>\n",
       "    </tr>\n",
       "  </tbody>\n",
       "</table>\n",
       "<p>100 rows × 3 columns</p>\n",
       "</div>"
      ],
      "text/plain": [
       "       a     b class\n",
       "0   3.92  4.86     1\n",
       "1   5.02  8.98     1\n",
       "2   8.20  8.28     0\n",
       "3   6.10  7.29     1\n",
       "4   0.76  7.94     0\n",
       "..   ...   ...   ...\n",
       "95  7.64  0.40     0\n",
       "96  4.72  7.77     1\n",
       "97  6.76  5.82     1\n",
       "98  7.77  4.50     0\n",
       "99  4.54  2.94     1\n",
       "\n",
       "[100 rows x 3 columns]"
      ]
     },
     "execution_count": 3,
     "metadata": {},
     "output_type": "execute_result"
    }
   ],
   "source": [
    "df = pd.DataFrame(columns=[\"a\", \"b\", \"class\"], index = [i for i in range(0,100)])\n",
    "\n",
    "\n",
    "a = [round(random.uniform(0, 9),2) for i in range(100)]\n",
    "b = [round(random.uniform(0, 9),2) for i in range(100)]\n",
    "\n",
    "df[\"a\"] = a\n",
    "df[\"b\"] = b\n",
    "\n",
    "df.loc[(df[\"a\"] >= 3) & (df[\"a\"] <= 7),\"class\"] = \"1\"\n",
    "df = df.fillna(\"0\")\n",
    "df"
   ]
  },
  {
   "cell_type": "code",
   "execution_count": 4,
   "metadata": {},
   "outputs": [
    {
     "data": {
      "application/vnd.plotly.v1+json": {
       "config": {
        "plotlyServerURL": "https://plot.ly"
       },
       "data": [
        {
         "hovertemplate": "class=1<br>a=%{x}<br>b=%{y}<extra></extra>",
         "legendgroup": "1",
         "marker": {
          "color": "#636efa",
          "symbol": "circle"
         },
         "mode": "markers",
         "name": "1",
         "orientation": "v",
         "showlegend": true,
         "type": "scatter",
         "x": [
          3.92,
          5.02,
          6.1,
          5.27,
          6.34,
          6.7,
          6.3,
          6.14,
          5.75,
          6.57,
          5.46,
          3.12,
          6.13,
          6.56,
          6.9,
          4.55,
          5.86,
          3.76,
          6.51,
          4.18,
          3.89,
          5.71,
          6.66,
          5.28,
          6.38,
          4.83,
          3.62,
          6.89,
          3.33,
          3.78,
          6.56,
          4.9,
          4.44,
          4.91,
          6.51,
          3.56,
          3.71,
          3.72,
          6.4,
          5,
          6.22,
          4.21,
          4.41,
          4.72,
          6.76,
          4.54
         ],
         "xaxis": "x",
         "y": [
          4.86,
          8.98,
          7.29,
          0.65,
          1.53,
          6.24,
          1.99,
          4.74,
          7.53,
          0.27,
          0.66,
          4.88,
          3.27,
          2.09,
          0.9,
          3.83,
          5.69,
          4.82,
          1.27,
          6.55,
          4.54,
          2.15,
          5.12,
          3.41,
          4.58,
          7.26,
          2.34,
          1.59,
          3.5,
          3.7,
          1.07,
          1.18,
          7.62,
          0.17,
          0.98,
          8.87,
          1.16,
          8.74,
          7.02,
          8.79,
          6.83,
          0.31,
          5.09,
          7.77,
          5.82,
          2.94
         ],
         "yaxis": "y"
        },
        {
         "hovertemplate": "class=0<br>a=%{x}<br>b=%{y}<extra></extra>",
         "legendgroup": "0",
         "marker": {
          "color": "#EF553B",
          "symbol": "circle"
         },
         "mode": "markers",
         "name": "0",
         "orientation": "v",
         "showlegend": true,
         "type": "scatter",
         "x": [
          8.2,
          0.76,
          0.78,
          8.11,
          2.83,
          8.63,
          7.27,
          2.62,
          0.83,
          2.3,
          2.88,
          1.44,
          7.05,
          2.41,
          1.96,
          2.32,
          8.12,
          1.28,
          0.08,
          8.81,
          2.25,
          0.56,
          2.12,
          1.28,
          2.92,
          0.9,
          8.95,
          0.67,
          0.03,
          7.14,
          0.59,
          7.72,
          7.64,
          0.34,
          8.92,
          2.03,
          1.84,
          8.08,
          1.34,
          8.66,
          8.6,
          8.6,
          8.95,
          0.62,
          2.34,
          8.92,
          1.44,
          0.26,
          0.16,
          0.36,
          0.44,
          8.4,
          7.64,
          7.77
         ],
         "xaxis": "x",
         "y": [
          8.28,
          7.94,
          8.32,
          4.63,
          3.04,
          2.57,
          4.77,
          7.43,
          4.88,
          4.3,
          5.92,
          6.07,
          7.29,
          7.03,
          6.07,
          8,
          5.87,
          6.45,
          4.93,
          6.2,
          0.43,
          5.22,
          1.13,
          4.77,
          2.2,
          8.48,
          8.68,
          3.9,
          6.44,
          7.92,
          3.76,
          8.62,
          8.53,
          0.89,
          8.95,
          8.54,
          0.9,
          2.28,
          1.65,
          5.15,
          3.52,
          0.71,
          8.17,
          2.43,
          7.74,
          8.04,
          7.68,
          4.59,
          0.74,
          1.11,
          7.49,
          3.01,
          0.4,
          4.5
         ],
         "yaxis": "y"
        }
       ],
       "layout": {
        "height": 560,
        "legend": {
         "title": {
          "text": "class"
         },
         "tracegroupgap": 0
        },
        "margin": {
         "t": 60
        },
        "template": {
         "data": {
          "bar": [
           {
            "error_x": {
             "color": "#2a3f5f"
            },
            "error_y": {
             "color": "#2a3f5f"
            },
            "marker": {
             "line": {
              "color": "#E5ECF6",
              "width": 0.5
             },
             "pattern": {
              "fillmode": "overlay",
              "size": 10,
              "solidity": 0.2
             }
            },
            "type": "bar"
           }
          ],
          "barpolar": [
           {
            "marker": {
             "line": {
              "color": "#E5ECF6",
              "width": 0.5
             },
             "pattern": {
              "fillmode": "overlay",
              "size": 10,
              "solidity": 0.2
             }
            },
            "type": "barpolar"
           }
          ],
          "carpet": [
           {
            "aaxis": {
             "endlinecolor": "#2a3f5f",
             "gridcolor": "white",
             "linecolor": "white",
             "minorgridcolor": "white",
             "startlinecolor": "#2a3f5f"
            },
            "baxis": {
             "endlinecolor": "#2a3f5f",
             "gridcolor": "white",
             "linecolor": "white",
             "minorgridcolor": "white",
             "startlinecolor": "#2a3f5f"
            },
            "type": "carpet"
           }
          ],
          "choropleth": [
           {
            "colorbar": {
             "outlinewidth": 0,
             "ticks": ""
            },
            "type": "choropleth"
           }
          ],
          "contour": [
           {
            "colorbar": {
             "outlinewidth": 0,
             "ticks": ""
            },
            "colorscale": [
             [
              0,
              "#0d0887"
             ],
             [
              0.1111111111111111,
              "#46039f"
             ],
             [
              0.2222222222222222,
              "#7201a8"
             ],
             [
              0.3333333333333333,
              "#9c179e"
             ],
             [
              0.4444444444444444,
              "#bd3786"
             ],
             [
              0.5555555555555556,
              "#d8576b"
             ],
             [
              0.6666666666666666,
              "#ed7953"
             ],
             [
              0.7777777777777778,
              "#fb9f3a"
             ],
             [
              0.8888888888888888,
              "#fdca26"
             ],
             [
              1,
              "#f0f921"
             ]
            ],
            "type": "contour"
           }
          ],
          "contourcarpet": [
           {
            "colorbar": {
             "outlinewidth": 0,
             "ticks": ""
            },
            "type": "contourcarpet"
           }
          ],
          "heatmap": [
           {
            "colorbar": {
             "outlinewidth": 0,
             "ticks": ""
            },
            "colorscale": [
             [
              0,
              "#0d0887"
             ],
             [
              0.1111111111111111,
              "#46039f"
             ],
             [
              0.2222222222222222,
              "#7201a8"
             ],
             [
              0.3333333333333333,
              "#9c179e"
             ],
             [
              0.4444444444444444,
              "#bd3786"
             ],
             [
              0.5555555555555556,
              "#d8576b"
             ],
             [
              0.6666666666666666,
              "#ed7953"
             ],
             [
              0.7777777777777778,
              "#fb9f3a"
             ],
             [
              0.8888888888888888,
              "#fdca26"
             ],
             [
              1,
              "#f0f921"
             ]
            ],
            "type": "heatmap"
           }
          ],
          "heatmapgl": [
           {
            "colorbar": {
             "outlinewidth": 0,
             "ticks": ""
            },
            "colorscale": [
             [
              0,
              "#0d0887"
             ],
             [
              0.1111111111111111,
              "#46039f"
             ],
             [
              0.2222222222222222,
              "#7201a8"
             ],
             [
              0.3333333333333333,
              "#9c179e"
             ],
             [
              0.4444444444444444,
              "#bd3786"
             ],
             [
              0.5555555555555556,
              "#d8576b"
             ],
             [
              0.6666666666666666,
              "#ed7953"
             ],
             [
              0.7777777777777778,
              "#fb9f3a"
             ],
             [
              0.8888888888888888,
              "#fdca26"
             ],
             [
              1,
              "#f0f921"
             ]
            ],
            "type": "heatmapgl"
           }
          ],
          "histogram": [
           {
            "marker": {
             "pattern": {
              "fillmode": "overlay",
              "size": 10,
              "solidity": 0.2
             }
            },
            "type": "histogram"
           }
          ],
          "histogram2d": [
           {
            "colorbar": {
             "outlinewidth": 0,
             "ticks": ""
            },
            "colorscale": [
             [
              0,
              "#0d0887"
             ],
             [
              0.1111111111111111,
              "#46039f"
             ],
             [
              0.2222222222222222,
              "#7201a8"
             ],
             [
              0.3333333333333333,
              "#9c179e"
             ],
             [
              0.4444444444444444,
              "#bd3786"
             ],
             [
              0.5555555555555556,
              "#d8576b"
             ],
             [
              0.6666666666666666,
              "#ed7953"
             ],
             [
              0.7777777777777778,
              "#fb9f3a"
             ],
             [
              0.8888888888888888,
              "#fdca26"
             ],
             [
              1,
              "#f0f921"
             ]
            ],
            "type": "histogram2d"
           }
          ],
          "histogram2dcontour": [
           {
            "colorbar": {
             "outlinewidth": 0,
             "ticks": ""
            },
            "colorscale": [
             [
              0,
              "#0d0887"
             ],
             [
              0.1111111111111111,
              "#46039f"
             ],
             [
              0.2222222222222222,
              "#7201a8"
             ],
             [
              0.3333333333333333,
              "#9c179e"
             ],
             [
              0.4444444444444444,
              "#bd3786"
             ],
             [
              0.5555555555555556,
              "#d8576b"
             ],
             [
              0.6666666666666666,
              "#ed7953"
             ],
             [
              0.7777777777777778,
              "#fb9f3a"
             ],
             [
              0.8888888888888888,
              "#fdca26"
             ],
             [
              1,
              "#f0f921"
             ]
            ],
            "type": "histogram2dcontour"
           }
          ],
          "mesh3d": [
           {
            "colorbar": {
             "outlinewidth": 0,
             "ticks": ""
            },
            "type": "mesh3d"
           }
          ],
          "parcoords": [
           {
            "line": {
             "colorbar": {
              "outlinewidth": 0,
              "ticks": ""
             }
            },
            "type": "parcoords"
           }
          ],
          "pie": [
           {
            "automargin": true,
            "type": "pie"
           }
          ],
          "scatter": [
           {
            "fillpattern": {
             "fillmode": "overlay",
             "size": 10,
             "solidity": 0.2
            },
            "type": "scatter"
           }
          ],
          "scatter3d": [
           {
            "line": {
             "colorbar": {
              "outlinewidth": 0,
              "ticks": ""
             }
            },
            "marker": {
             "colorbar": {
              "outlinewidth": 0,
              "ticks": ""
             }
            },
            "type": "scatter3d"
           }
          ],
          "scattercarpet": [
           {
            "marker": {
             "colorbar": {
              "outlinewidth": 0,
              "ticks": ""
             }
            },
            "type": "scattercarpet"
           }
          ],
          "scattergeo": [
           {
            "marker": {
             "colorbar": {
              "outlinewidth": 0,
              "ticks": ""
             }
            },
            "type": "scattergeo"
           }
          ],
          "scattergl": [
           {
            "marker": {
             "colorbar": {
              "outlinewidth": 0,
              "ticks": ""
             }
            },
            "type": "scattergl"
           }
          ],
          "scattermapbox": [
           {
            "marker": {
             "colorbar": {
              "outlinewidth": 0,
              "ticks": ""
             }
            },
            "type": "scattermapbox"
           }
          ],
          "scatterpolar": [
           {
            "marker": {
             "colorbar": {
              "outlinewidth": 0,
              "ticks": ""
             }
            },
            "type": "scatterpolar"
           }
          ],
          "scatterpolargl": [
           {
            "marker": {
             "colorbar": {
              "outlinewidth": 0,
              "ticks": ""
             }
            },
            "type": "scatterpolargl"
           }
          ],
          "scatterternary": [
           {
            "marker": {
             "colorbar": {
              "outlinewidth": 0,
              "ticks": ""
             }
            },
            "type": "scatterternary"
           }
          ],
          "surface": [
           {
            "colorbar": {
             "outlinewidth": 0,
             "ticks": ""
            },
            "colorscale": [
             [
              0,
              "#0d0887"
             ],
             [
              0.1111111111111111,
              "#46039f"
             ],
             [
              0.2222222222222222,
              "#7201a8"
             ],
             [
              0.3333333333333333,
              "#9c179e"
             ],
             [
              0.4444444444444444,
              "#bd3786"
             ],
             [
              0.5555555555555556,
              "#d8576b"
             ],
             [
              0.6666666666666666,
              "#ed7953"
             ],
             [
              0.7777777777777778,
              "#fb9f3a"
             ],
             [
              0.8888888888888888,
              "#fdca26"
             ],
             [
              1,
              "#f0f921"
             ]
            ],
            "type": "surface"
           }
          ],
          "table": [
           {
            "cells": {
             "fill": {
              "color": "#EBF0F8"
             },
             "line": {
              "color": "white"
             }
            },
            "header": {
             "fill": {
              "color": "#C8D4E3"
             },
             "line": {
              "color": "white"
             }
            },
            "type": "table"
           }
          ]
         },
         "layout": {
          "annotationdefaults": {
           "arrowcolor": "#2a3f5f",
           "arrowhead": 0,
           "arrowwidth": 1
          },
          "autotypenumbers": "strict",
          "coloraxis": {
           "colorbar": {
            "outlinewidth": 0,
            "ticks": ""
           }
          },
          "colorscale": {
           "diverging": [
            [
             0,
             "#8e0152"
            ],
            [
             0.1,
             "#c51b7d"
            ],
            [
             0.2,
             "#de77ae"
            ],
            [
             0.3,
             "#f1b6da"
            ],
            [
             0.4,
             "#fde0ef"
            ],
            [
             0.5,
             "#f7f7f7"
            ],
            [
             0.6,
             "#e6f5d0"
            ],
            [
             0.7,
             "#b8e186"
            ],
            [
             0.8,
             "#7fbc41"
            ],
            [
             0.9,
             "#4d9221"
            ],
            [
             1,
             "#276419"
            ]
           ],
           "sequential": [
            [
             0,
             "#0d0887"
            ],
            [
             0.1111111111111111,
             "#46039f"
            ],
            [
             0.2222222222222222,
             "#7201a8"
            ],
            [
             0.3333333333333333,
             "#9c179e"
            ],
            [
             0.4444444444444444,
             "#bd3786"
            ],
            [
             0.5555555555555556,
             "#d8576b"
            ],
            [
             0.6666666666666666,
             "#ed7953"
            ],
            [
             0.7777777777777778,
             "#fb9f3a"
            ],
            [
             0.8888888888888888,
             "#fdca26"
            ],
            [
             1,
             "#f0f921"
            ]
           ],
           "sequentialminus": [
            [
             0,
             "#0d0887"
            ],
            [
             0.1111111111111111,
             "#46039f"
            ],
            [
             0.2222222222222222,
             "#7201a8"
            ],
            [
             0.3333333333333333,
             "#9c179e"
            ],
            [
             0.4444444444444444,
             "#bd3786"
            ],
            [
             0.5555555555555556,
             "#d8576b"
            ],
            [
             0.6666666666666666,
             "#ed7953"
            ],
            [
             0.7777777777777778,
             "#fb9f3a"
            ],
            [
             0.8888888888888888,
             "#fdca26"
            ],
            [
             1,
             "#f0f921"
            ]
           ]
          },
          "colorway": [
           "#636efa",
           "#EF553B",
           "#00cc96",
           "#ab63fa",
           "#FFA15A",
           "#19d3f3",
           "#FF6692",
           "#B6E880",
           "#FF97FF",
           "#FECB52"
          ],
          "font": {
           "color": "#2a3f5f"
          },
          "geo": {
           "bgcolor": "white",
           "lakecolor": "white",
           "landcolor": "#E5ECF6",
           "showlakes": true,
           "showland": true,
           "subunitcolor": "white"
          },
          "hoverlabel": {
           "align": "left"
          },
          "hovermode": "closest",
          "mapbox": {
           "style": "light"
          },
          "paper_bgcolor": "white",
          "plot_bgcolor": "#E5ECF6",
          "polar": {
           "angularaxis": {
            "gridcolor": "white",
            "linecolor": "white",
            "ticks": ""
           },
           "bgcolor": "#E5ECF6",
           "radialaxis": {
            "gridcolor": "white",
            "linecolor": "white",
            "ticks": ""
           }
          },
          "scene": {
           "xaxis": {
            "backgroundcolor": "#E5ECF6",
            "gridcolor": "white",
            "gridwidth": 2,
            "linecolor": "white",
            "showbackground": true,
            "ticks": "",
            "zerolinecolor": "white"
           },
           "yaxis": {
            "backgroundcolor": "#E5ECF6",
            "gridcolor": "white",
            "gridwidth": 2,
            "linecolor": "white",
            "showbackground": true,
            "ticks": "",
            "zerolinecolor": "white"
           },
           "zaxis": {
            "backgroundcolor": "#E5ECF6",
            "gridcolor": "white",
            "gridwidth": 2,
            "linecolor": "white",
            "showbackground": true,
            "ticks": "",
            "zerolinecolor": "white"
           }
          },
          "shapedefaults": {
           "line": {
            "color": "#2a3f5f"
           }
          },
          "ternary": {
           "aaxis": {
            "gridcolor": "white",
            "linecolor": "white",
            "ticks": ""
           },
           "baxis": {
            "gridcolor": "white",
            "linecolor": "white",
            "ticks": ""
           },
           "bgcolor": "#E5ECF6",
           "caxis": {
            "gridcolor": "white",
            "linecolor": "white",
            "ticks": ""
           }
          },
          "title": {
           "x": 0.05
          },
          "xaxis": {
           "automargin": true,
           "gridcolor": "white",
           "linecolor": "white",
           "ticks": "",
           "title": {
            "standoff": 15
           },
           "zerolinecolor": "white",
           "zerolinewidth": 2
          },
          "yaxis": {
           "automargin": true,
           "gridcolor": "white",
           "linecolor": "white",
           "ticks": "",
           "title": {
            "standoff": 15
           },
           "zerolinecolor": "white",
           "zerolinewidth": 2
          }
         }
        },
        "width": 560,
        "xaxis": {
         "anchor": "y",
         "domain": [
          0,
          1
         ],
         "title": {
          "text": "a"
         }
        },
        "yaxis": {
         "anchor": "x",
         "domain": [
          0,
          1
         ],
         "title": {
          "text": "b"
         }
        }
       }
      },
      "text/html": [
       "<div>                            <div id=\"0d3eb6a3-b45d-4211-8da3-6f1aa3a490c4\" class=\"plotly-graph-div\" style=\"height:560px; width:560px;\"></div>            <script type=\"text/javascript\">                require([\"plotly\"], function(Plotly) {                    window.PLOTLYENV=window.PLOTLYENV || {};                                    if (document.getElementById(\"0d3eb6a3-b45d-4211-8da3-6f1aa3a490c4\")) {                    Plotly.newPlot(                        \"0d3eb6a3-b45d-4211-8da3-6f1aa3a490c4\",                        [{\"hovertemplate\":\"class=1<br>a=%{x}<br>b=%{y}<extra></extra>\",\"legendgroup\":\"1\",\"marker\":{\"color\":\"#636efa\",\"symbol\":\"circle\"},\"mode\":\"markers\",\"name\":\"1\",\"orientation\":\"v\",\"showlegend\":true,\"x\":[3.92,5.02,6.1,5.27,6.34,6.7,6.3,6.14,5.75,6.57,5.46,3.12,6.13,6.56,6.9,4.55,5.86,3.76,6.51,4.18,3.89,5.71,6.66,5.28,6.38,4.83,3.62,6.89,3.33,3.78,6.56,4.9,4.44,4.91,6.51,3.56,3.71,3.72,6.4,5.0,6.22,4.21,4.41,4.72,6.76,4.54],\"xaxis\":\"x\",\"y\":[4.86,8.98,7.29,0.65,1.53,6.24,1.99,4.74,7.53,0.27,0.66,4.88,3.27,2.09,0.9,3.83,5.69,4.82,1.27,6.55,4.54,2.15,5.12,3.41,4.58,7.26,2.34,1.59,3.5,3.7,1.07,1.18,7.62,0.17,0.98,8.87,1.16,8.74,7.02,8.79,6.83,0.31,5.09,7.77,5.82,2.94],\"yaxis\":\"y\",\"type\":\"scatter\"},{\"hovertemplate\":\"class=0<br>a=%{x}<br>b=%{y}<extra></extra>\",\"legendgroup\":\"0\",\"marker\":{\"color\":\"#EF553B\",\"symbol\":\"circle\"},\"mode\":\"markers\",\"name\":\"0\",\"orientation\":\"v\",\"showlegend\":true,\"x\":[8.2,0.76,0.78,8.11,2.83,8.63,7.27,2.62,0.83,2.3,2.88,1.44,7.05,2.41,1.96,2.32,8.12,1.28,0.08,8.81,2.25,0.56,2.12,1.28,2.92,0.9,8.95,0.67,0.03,7.14,0.59,7.72,7.64,0.34,8.92,2.03,1.84,8.08,1.34,8.66,8.6,8.6,8.95,0.62,2.34,8.92,1.44,0.26,0.16,0.36,0.44,8.4,7.64,7.77],\"xaxis\":\"x\",\"y\":[8.28,7.94,8.32,4.63,3.04,2.57,4.77,7.43,4.88,4.3,5.92,6.07,7.29,7.03,6.07,8.0,5.87,6.45,4.93,6.2,0.43,5.22,1.13,4.77,2.2,8.48,8.68,3.9,6.44,7.92,3.76,8.62,8.53,0.89,8.95,8.54,0.9,2.28,1.65,5.15,3.52,0.71,8.17,2.43,7.74,8.04,7.68,4.59,0.74,1.11,7.49,3.01,0.4,4.5],\"yaxis\":\"y\",\"type\":\"scatter\"}],                        {\"template\":{\"data\":{\"histogram2dcontour\":[{\"type\":\"histogram2dcontour\",\"colorbar\":{\"outlinewidth\":0,\"ticks\":\"\"},\"colorscale\":[[0.0,\"#0d0887\"],[0.1111111111111111,\"#46039f\"],[0.2222222222222222,\"#7201a8\"],[0.3333333333333333,\"#9c179e\"],[0.4444444444444444,\"#bd3786\"],[0.5555555555555556,\"#d8576b\"],[0.6666666666666666,\"#ed7953\"],[0.7777777777777778,\"#fb9f3a\"],[0.8888888888888888,\"#fdca26\"],[1.0,\"#f0f921\"]]}],\"choropleth\":[{\"type\":\"choropleth\",\"colorbar\":{\"outlinewidth\":0,\"ticks\":\"\"}}],\"histogram2d\":[{\"type\":\"histogram2d\",\"colorbar\":{\"outlinewidth\":0,\"ticks\":\"\"},\"colorscale\":[[0.0,\"#0d0887\"],[0.1111111111111111,\"#46039f\"],[0.2222222222222222,\"#7201a8\"],[0.3333333333333333,\"#9c179e\"],[0.4444444444444444,\"#bd3786\"],[0.5555555555555556,\"#d8576b\"],[0.6666666666666666,\"#ed7953\"],[0.7777777777777778,\"#fb9f3a\"],[0.8888888888888888,\"#fdca26\"],[1.0,\"#f0f921\"]]}],\"heatmap\":[{\"type\":\"heatmap\",\"colorbar\":{\"outlinewidth\":0,\"ticks\":\"\"},\"colorscale\":[[0.0,\"#0d0887\"],[0.1111111111111111,\"#46039f\"],[0.2222222222222222,\"#7201a8\"],[0.3333333333333333,\"#9c179e\"],[0.4444444444444444,\"#bd3786\"],[0.5555555555555556,\"#d8576b\"],[0.6666666666666666,\"#ed7953\"],[0.7777777777777778,\"#fb9f3a\"],[0.8888888888888888,\"#fdca26\"],[1.0,\"#f0f921\"]]}],\"heatmapgl\":[{\"type\":\"heatmapgl\",\"colorbar\":{\"outlinewidth\":0,\"ticks\":\"\"},\"colorscale\":[[0.0,\"#0d0887\"],[0.1111111111111111,\"#46039f\"],[0.2222222222222222,\"#7201a8\"],[0.3333333333333333,\"#9c179e\"],[0.4444444444444444,\"#bd3786\"],[0.5555555555555556,\"#d8576b\"],[0.6666666666666666,\"#ed7953\"],[0.7777777777777778,\"#fb9f3a\"],[0.8888888888888888,\"#fdca26\"],[1.0,\"#f0f921\"]]}],\"contourcarpet\":[{\"type\":\"contourcarpet\",\"colorbar\":{\"outlinewidth\":0,\"ticks\":\"\"}}],\"contour\":[{\"type\":\"contour\",\"colorbar\":{\"outlinewidth\":0,\"ticks\":\"\"},\"colorscale\":[[0.0,\"#0d0887\"],[0.1111111111111111,\"#46039f\"],[0.2222222222222222,\"#7201a8\"],[0.3333333333333333,\"#9c179e\"],[0.4444444444444444,\"#bd3786\"],[0.5555555555555556,\"#d8576b\"],[0.6666666666666666,\"#ed7953\"],[0.7777777777777778,\"#fb9f3a\"],[0.8888888888888888,\"#fdca26\"],[1.0,\"#f0f921\"]]}],\"surface\":[{\"type\":\"surface\",\"colorbar\":{\"outlinewidth\":0,\"ticks\":\"\"},\"colorscale\":[[0.0,\"#0d0887\"],[0.1111111111111111,\"#46039f\"],[0.2222222222222222,\"#7201a8\"],[0.3333333333333333,\"#9c179e\"],[0.4444444444444444,\"#bd3786\"],[0.5555555555555556,\"#d8576b\"],[0.6666666666666666,\"#ed7953\"],[0.7777777777777778,\"#fb9f3a\"],[0.8888888888888888,\"#fdca26\"],[1.0,\"#f0f921\"]]}],\"mesh3d\":[{\"type\":\"mesh3d\",\"colorbar\":{\"outlinewidth\":0,\"ticks\":\"\"}}],\"scatter\":[{\"fillpattern\":{\"fillmode\":\"overlay\",\"size\":10,\"solidity\":0.2},\"type\":\"scatter\"}],\"parcoords\":[{\"type\":\"parcoords\",\"line\":{\"colorbar\":{\"outlinewidth\":0,\"ticks\":\"\"}}}],\"scatterpolargl\":[{\"type\":\"scatterpolargl\",\"marker\":{\"colorbar\":{\"outlinewidth\":0,\"ticks\":\"\"}}}],\"bar\":[{\"error_x\":{\"color\":\"#2a3f5f\"},\"error_y\":{\"color\":\"#2a3f5f\"},\"marker\":{\"line\":{\"color\":\"#E5ECF6\",\"width\":0.5},\"pattern\":{\"fillmode\":\"overlay\",\"size\":10,\"solidity\":0.2}},\"type\":\"bar\"}],\"scattergeo\":[{\"type\":\"scattergeo\",\"marker\":{\"colorbar\":{\"outlinewidth\":0,\"ticks\":\"\"}}}],\"scatterpolar\":[{\"type\":\"scatterpolar\",\"marker\":{\"colorbar\":{\"outlinewidth\":0,\"ticks\":\"\"}}}],\"histogram\":[{\"marker\":{\"pattern\":{\"fillmode\":\"overlay\",\"size\":10,\"solidity\":0.2}},\"type\":\"histogram\"}],\"scattergl\":[{\"type\":\"scattergl\",\"marker\":{\"colorbar\":{\"outlinewidth\":0,\"ticks\":\"\"}}}],\"scatter3d\":[{\"type\":\"scatter3d\",\"line\":{\"colorbar\":{\"outlinewidth\":0,\"ticks\":\"\"}},\"marker\":{\"colorbar\":{\"outlinewidth\":0,\"ticks\":\"\"}}}],\"scattermapbox\":[{\"type\":\"scattermapbox\",\"marker\":{\"colorbar\":{\"outlinewidth\":0,\"ticks\":\"\"}}}],\"scatterternary\":[{\"type\":\"scatterternary\",\"marker\":{\"colorbar\":{\"outlinewidth\":0,\"ticks\":\"\"}}}],\"scattercarpet\":[{\"type\":\"scattercarpet\",\"marker\":{\"colorbar\":{\"outlinewidth\":0,\"ticks\":\"\"}}}],\"carpet\":[{\"aaxis\":{\"endlinecolor\":\"#2a3f5f\",\"gridcolor\":\"white\",\"linecolor\":\"white\",\"minorgridcolor\":\"white\",\"startlinecolor\":\"#2a3f5f\"},\"baxis\":{\"endlinecolor\":\"#2a3f5f\",\"gridcolor\":\"white\",\"linecolor\":\"white\",\"minorgridcolor\":\"white\",\"startlinecolor\":\"#2a3f5f\"},\"type\":\"carpet\"}],\"table\":[{\"cells\":{\"fill\":{\"color\":\"#EBF0F8\"},\"line\":{\"color\":\"white\"}},\"header\":{\"fill\":{\"color\":\"#C8D4E3\"},\"line\":{\"color\":\"white\"}},\"type\":\"table\"}],\"barpolar\":[{\"marker\":{\"line\":{\"color\":\"#E5ECF6\",\"width\":0.5},\"pattern\":{\"fillmode\":\"overlay\",\"size\":10,\"solidity\":0.2}},\"type\":\"barpolar\"}],\"pie\":[{\"automargin\":true,\"type\":\"pie\"}]},\"layout\":{\"autotypenumbers\":\"strict\",\"colorway\":[\"#636efa\",\"#EF553B\",\"#00cc96\",\"#ab63fa\",\"#FFA15A\",\"#19d3f3\",\"#FF6692\",\"#B6E880\",\"#FF97FF\",\"#FECB52\"],\"font\":{\"color\":\"#2a3f5f\"},\"hovermode\":\"closest\",\"hoverlabel\":{\"align\":\"left\"},\"paper_bgcolor\":\"white\",\"plot_bgcolor\":\"#E5ECF6\",\"polar\":{\"bgcolor\":\"#E5ECF6\",\"angularaxis\":{\"gridcolor\":\"white\",\"linecolor\":\"white\",\"ticks\":\"\"},\"radialaxis\":{\"gridcolor\":\"white\",\"linecolor\":\"white\",\"ticks\":\"\"}},\"ternary\":{\"bgcolor\":\"#E5ECF6\",\"aaxis\":{\"gridcolor\":\"white\",\"linecolor\":\"white\",\"ticks\":\"\"},\"baxis\":{\"gridcolor\":\"white\",\"linecolor\":\"white\",\"ticks\":\"\"},\"caxis\":{\"gridcolor\":\"white\",\"linecolor\":\"white\",\"ticks\":\"\"}},\"coloraxis\":{\"colorbar\":{\"outlinewidth\":0,\"ticks\":\"\"}},\"colorscale\":{\"sequential\":[[0.0,\"#0d0887\"],[0.1111111111111111,\"#46039f\"],[0.2222222222222222,\"#7201a8\"],[0.3333333333333333,\"#9c179e\"],[0.4444444444444444,\"#bd3786\"],[0.5555555555555556,\"#d8576b\"],[0.6666666666666666,\"#ed7953\"],[0.7777777777777778,\"#fb9f3a\"],[0.8888888888888888,\"#fdca26\"],[1.0,\"#f0f921\"]],\"sequentialminus\":[[0.0,\"#0d0887\"],[0.1111111111111111,\"#46039f\"],[0.2222222222222222,\"#7201a8\"],[0.3333333333333333,\"#9c179e\"],[0.4444444444444444,\"#bd3786\"],[0.5555555555555556,\"#d8576b\"],[0.6666666666666666,\"#ed7953\"],[0.7777777777777778,\"#fb9f3a\"],[0.8888888888888888,\"#fdca26\"],[1.0,\"#f0f921\"]],\"diverging\":[[0,\"#8e0152\"],[0.1,\"#c51b7d\"],[0.2,\"#de77ae\"],[0.3,\"#f1b6da\"],[0.4,\"#fde0ef\"],[0.5,\"#f7f7f7\"],[0.6,\"#e6f5d0\"],[0.7,\"#b8e186\"],[0.8,\"#7fbc41\"],[0.9,\"#4d9221\"],[1,\"#276419\"]]},\"xaxis\":{\"gridcolor\":\"white\",\"linecolor\":\"white\",\"ticks\":\"\",\"title\":{\"standoff\":15},\"zerolinecolor\":\"white\",\"automargin\":true,\"zerolinewidth\":2},\"yaxis\":{\"gridcolor\":\"white\",\"linecolor\":\"white\",\"ticks\":\"\",\"title\":{\"standoff\":15},\"zerolinecolor\":\"white\",\"automargin\":true,\"zerolinewidth\":2},\"scene\":{\"xaxis\":{\"backgroundcolor\":\"#E5ECF6\",\"gridcolor\":\"white\",\"linecolor\":\"white\",\"showbackground\":true,\"ticks\":\"\",\"zerolinecolor\":\"white\",\"gridwidth\":2},\"yaxis\":{\"backgroundcolor\":\"#E5ECF6\",\"gridcolor\":\"white\",\"linecolor\":\"white\",\"showbackground\":true,\"ticks\":\"\",\"zerolinecolor\":\"white\",\"gridwidth\":2},\"zaxis\":{\"backgroundcolor\":\"#E5ECF6\",\"gridcolor\":\"white\",\"linecolor\":\"white\",\"showbackground\":true,\"ticks\":\"\",\"zerolinecolor\":\"white\",\"gridwidth\":2}},\"shapedefaults\":{\"line\":{\"color\":\"#2a3f5f\"}},\"annotationdefaults\":{\"arrowcolor\":\"#2a3f5f\",\"arrowhead\":0,\"arrowwidth\":1},\"geo\":{\"bgcolor\":\"white\",\"landcolor\":\"#E5ECF6\",\"subunitcolor\":\"white\",\"showland\":true,\"showlakes\":true,\"lakecolor\":\"white\"},\"title\":{\"x\":0.05},\"mapbox\":{\"style\":\"light\"}}},\"xaxis\":{\"anchor\":\"y\",\"domain\":[0.0,1.0],\"title\":{\"text\":\"a\"}},\"yaxis\":{\"anchor\":\"x\",\"domain\":[0.0,1.0],\"title\":{\"text\":\"b\"}},\"legend\":{\"title\":{\"text\":\"class\"},\"tracegroupgap\":0},\"margin\":{\"t\":60},\"height\":560,\"width\":560},                        {\"responsive\": true}                    ).then(function(){\n",
       "                            \n",
       "var gd = document.getElementById('0d3eb6a3-b45d-4211-8da3-6f1aa3a490c4');\n",
       "var x = new MutationObserver(function (mutations, observer) {{\n",
       "        var display = window.getComputedStyle(gd).display;\n",
       "        if (!display || display === 'none') {{\n",
       "            console.log([gd, 'removed!']);\n",
       "            Plotly.purge(gd);\n",
       "            observer.disconnect();\n",
       "        }}\n",
       "}});\n",
       "\n",
       "// Listen for the removal of the full notebook cells\n",
       "var notebookContainer = gd.closest('#notebook-container');\n",
       "if (notebookContainer) {{\n",
       "    x.observe(notebookContainer, {childList: true});\n",
       "}}\n",
       "\n",
       "// Listen for the clearing of the current output cell\n",
       "var outputEl = gd.closest('.output');\n",
       "if (outputEl) {{\n",
       "    x.observe(outputEl, {childList: true});\n",
       "}}\n",
       "\n",
       "                        })                };                });            </script>        </div>"
      ]
     },
     "metadata": {},
     "output_type": "display_data"
    }
   ],
   "source": [
    "fig = px.scatter(df, x='a',\n",
    "            y='b',\n",
    "            color='class',\n",
    "            height=560,\n",
    "            width=560,\n",
    "            )\n",
    "fig.show()"
   ]
  },
  {
   "cell_type": "code",
   "execution_count": 5,
   "metadata": {},
   "outputs": [
    {
     "name": "stdout",
     "output_type": "stream",
     "text": [
      "Rules original\n",
      "IF a = <3.02, 6.98) THEN class = {1} (p = 46.0, n = 0.0, P = 46.0, N = 54.0, weight = 1.0, pvalue = 1.361081276455314e-29)\n",
      "IF a = (-inf, 3.02) THEN class = {0} (p = 33.0, n = 0.0, P = 54.0, N = 46.0, weight = 0.8055555555555556, pvalue = 1.7657102882534904e-12)\n",
      "IF a = <6.98, inf) THEN class = {0} (p = 21.0, n = 0.0, P = 54.0, N = 46.0, weight = 0.6944444444444444, pvalue = 2.5483930703189164e-07)\n",
      "\n",
      "\n",
      "Complex rules\n",
      "IF a = <3.02, 7.05) THEN class = {1} (p = 46.0, n = 0.0, P = 46.0, N = 54.0, weight = 1.0, pvalue = 1.361081276455314e-29)\n",
      "IF a != <3.02, 7.05) THEN class = {0} (p = 54.0, n = 0.0, P = 54.0, N = 46.0, weight = 1.0, pvalue = 1.361081276455314e-29)\n",
      "\n",
      "\n",
      "Complex rules + inners alternatives\n",
      "IF #(a = <3.02, 6.76)) THEN class = {1} (p = 46.0, n = 0.0, P = 46.0, N = 54.0, weight = 1.0, pvalue = 1.361081276455314e-29)\n",
      "IF #(a != <0.77, 7.05) OR a != <0.80, 7.05) OR a != <0.87, 7.05) OR a != <1.09, 7.05) OR a != <1.31, 7.05) OR a != <3.02, 7.05)) THEN class = {0} (p = 54.0, n = 0.0, P = 54.0, N = 46.0, weight = 1.0, pvalue = 1.361081276455314e-29)\n"
     ]
    }
   ],
   "source": [
    "X = df.drop(['class'], axis=1)\n",
    "y = df['class']\n",
    "\n",
    "clf_simple.fit(X, y)\n",
    "\n",
    "print(\"Rules original\")\n",
    "for rule in clf_simple.model.rules:\n",
    "    print(rule, rule.stats)\n",
    "\n",
    "print(\"\\n\\nComplex rules\")\n",
    "clf_complex.fit(X, y)\n",
    "for rule in clf_complex.model.rules:\n",
    "    print(rule, rule.stats)\n",
    "\n",
    "\n",
    "print(\"\\n\\nComplex rules + inners alternatives\")\n",
    "clf_complex_with_inners.fit(X, y)\n",
    "for rule in clf_complex_with_inners.model.rules:\n",
    "    print(rule, rule.stats)"
   ]
  },
  {
   "attachments": {},
   "cell_type": "markdown",
   "metadata": {},
   "source": [
    "## a !E {v1, v2}"
   ]
  },
  {
   "cell_type": "code",
   "execution_count": 6,
   "metadata": {},
   "outputs": [
    {
     "data": {
      "text/html": [
       "<div>\n",
       "<style scoped>\n",
       "    .dataframe tbody tr th:only-of-type {\n",
       "        vertical-align: middle;\n",
       "    }\n",
       "\n",
       "    .dataframe tbody tr th {\n",
       "        vertical-align: top;\n",
       "    }\n",
       "\n",
       "    .dataframe thead th {\n",
       "        text-align: right;\n",
       "    }\n",
       "</style>\n",
       "<table border=\"1\" class=\"dataframe\">\n",
       "  <thead>\n",
       "    <tr style=\"text-align: right;\">\n",
       "      <th></th>\n",
       "      <th>a</th>\n",
       "      <th>b</th>\n",
       "      <th>class</th>\n",
       "    </tr>\n",
       "  </thead>\n",
       "  <tbody>\n",
       "    <tr>\n",
       "      <th>0</th>\n",
       "      <td>7.47</td>\n",
       "      <td>0.85</td>\n",
       "      <td>1</td>\n",
       "    </tr>\n",
       "    <tr>\n",
       "      <th>1</th>\n",
       "      <td>1.47</td>\n",
       "      <td>3.05</td>\n",
       "      <td>1</td>\n",
       "    </tr>\n",
       "    <tr>\n",
       "      <th>2</th>\n",
       "      <td>1.47</td>\n",
       "      <td>7.33</td>\n",
       "      <td>1</td>\n",
       "    </tr>\n",
       "    <tr>\n",
       "      <th>3</th>\n",
       "      <td>7.31</td>\n",
       "      <td>0.22</td>\n",
       "      <td>1</td>\n",
       "    </tr>\n",
       "    <tr>\n",
       "      <th>4</th>\n",
       "      <td>5.38</td>\n",
       "      <td>0.80</td>\n",
       "      <td>0</td>\n",
       "    </tr>\n",
       "    <tr>\n",
       "      <th>...</th>\n",
       "      <td>...</td>\n",
       "      <td>...</td>\n",
       "      <td>...</td>\n",
       "    </tr>\n",
       "    <tr>\n",
       "      <th>95</th>\n",
       "      <td>3.04</td>\n",
       "      <td>4.56</td>\n",
       "      <td>0</td>\n",
       "    </tr>\n",
       "    <tr>\n",
       "      <th>96</th>\n",
       "      <td>4.23</td>\n",
       "      <td>7.59</td>\n",
       "      <td>0</td>\n",
       "    </tr>\n",
       "    <tr>\n",
       "      <th>97</th>\n",
       "      <td>1.31</td>\n",
       "      <td>4.09</td>\n",
       "      <td>1</td>\n",
       "    </tr>\n",
       "    <tr>\n",
       "      <th>98</th>\n",
       "      <td>7.83</td>\n",
       "      <td>0.66</td>\n",
       "      <td>1</td>\n",
       "    </tr>\n",
       "    <tr>\n",
       "      <th>99</th>\n",
       "      <td>1.19</td>\n",
       "      <td>1.88</td>\n",
       "      <td>1</td>\n",
       "    </tr>\n",
       "  </tbody>\n",
       "</table>\n",
       "<p>100 rows × 3 columns</p>\n",
       "</div>"
      ],
      "text/plain": [
       "       a     b class\n",
       "0   7.47  0.85     1\n",
       "1   1.47  3.05     1\n",
       "2   1.47  7.33     1\n",
       "3   7.31  0.22     1\n",
       "4   5.38  0.80     0\n",
       "..   ...   ...   ...\n",
       "95  3.04  4.56     0\n",
       "96  4.23  7.59     0\n",
       "97  1.31  4.09     1\n",
       "98  7.83  0.66     1\n",
       "99  1.19  1.88     1\n",
       "\n",
       "[100 rows x 3 columns]"
      ]
     },
     "execution_count": 6,
     "metadata": {},
     "output_type": "execute_result"
    }
   ],
   "source": [
    "df = pd.DataFrame(columns=[\"a\", \"b\", \"class\"], index = [i for i in range(0,100)])\n",
    "\n",
    "\n",
    "a = [round(random.uniform(0, 9),2) for i in range(100)]\n",
    "b = [round(random.uniform(0, 9),2) for i in range(100)]\n",
    "\n",
    "df[\"a\"] = a\n",
    "df[\"b\"] = b\n",
    "\n",
    "df.loc[(df[\"a\"] >= 3) & (df[\"a\"] <= 7),\"class\"] = \"0\"\n",
    "df = df.fillna(\"1\")\n",
    "df"
   ]
  },
  {
   "cell_type": "code",
   "execution_count": 7,
   "metadata": {},
   "outputs": [
    {
     "data": {
      "application/vnd.plotly.v1+json": {
       "config": {
        "plotlyServerURL": "https://plot.ly"
       },
       "data": [
        {
         "hovertemplate": "class=1<br>a=%{x}<br>b=%{y}<extra></extra>",
         "legendgroup": "1",
         "marker": {
          "color": "#636efa",
          "symbol": "circle"
         },
         "mode": "markers",
         "name": "1",
         "orientation": "v",
         "showlegend": true,
         "type": "scatter",
         "x": [
          7.47,
          1.47,
          1.47,
          7.31,
          8.39,
          7.36,
          0.14,
          1.34,
          1.87,
          1.82,
          8.21,
          7.79,
          8.66,
          8.72,
          1.69,
          2.61,
          8.96,
          8.72,
          2.58,
          8.67,
          0.26,
          7.78,
          8.7,
          2.65,
          1.97,
          2.08,
          1.56,
          8.31,
          8.45,
          2.11,
          8.79,
          2.24,
          7.08,
          2.71,
          1.91,
          1.64,
          1.95,
          2.59,
          2.46,
          7.73,
          8.03,
          8.13,
          0.13,
          8.99,
          8.92,
          8.7,
          1.35,
          0.13,
          7.21,
          2.65,
          7.75,
          2.34,
          1.57,
          1,
          2.23,
          2.09,
          2.86,
          0.99,
          7.14,
          1.31,
          7.83,
          1.19
         ],
         "xaxis": "x",
         "y": [
          0.85,
          3.05,
          7.33,
          0.22,
          4.57,
          5.36,
          7.62,
          5.1,
          2.32,
          2.78,
          6.63,
          8,
          5.97,
          4.42,
          2.73,
          4.29,
          6.64,
          8.11,
          3.03,
          6.34,
          4.46,
          0.11,
          4.37,
          1.59,
          3.07,
          1.83,
          4.81,
          7.46,
          6.5,
          5.2,
          6.97,
          4.4,
          0.55,
          0.9,
          4.55,
          0.45,
          6.99,
          5.09,
          5.24,
          5.78,
          6.15,
          5.73,
          4.07,
          8.92,
          4.96,
          3.86,
          5.18,
          0.56,
          2.13,
          8.62,
          0.21,
          3.02,
          2.2,
          8.37,
          0.26,
          3.91,
          2.29,
          0.19,
          2.18,
          4.09,
          0.66,
          1.88
         ],
         "yaxis": "y"
        },
        {
         "hovertemplate": "class=0<br>a=%{x}<br>b=%{y}<extra></extra>",
         "legendgroup": "0",
         "marker": {
          "color": "#EF553B",
          "symbol": "circle"
         },
         "mode": "markers",
         "name": "0",
         "orientation": "v",
         "showlegend": true,
         "type": "scatter",
         "x": [
          5.38,
          6.11,
          4.25,
          5.32,
          3.65,
          6.6,
          6.86,
          6.63,
          5.83,
          3.88,
          5.53,
          4.01,
          3.28,
          5.01,
          3.67,
          4.74,
          3.7,
          5.49,
          4.94,
          4.72,
          5.54,
          6.89,
          6.02,
          6.97,
          6.27,
          5.37,
          4.06,
          4.01,
          3.59,
          4.16,
          4.18,
          6.1,
          4.39,
          4.65,
          4.29,
          5.5,
          3.04,
          4.23
         ],
         "xaxis": "x",
         "y": [
          0.8,
          7.31,
          2.55,
          6.1,
          0.83,
          4,
          5.2,
          3.3,
          3.81,
          4.52,
          4.1,
          3.37,
          6.86,
          0.9,
          4.98,
          1.23,
          3.98,
          7.59,
          2.92,
          0.66,
          1.27,
          7.8,
          8.42,
          8.91,
          6.65,
          5.31,
          4.12,
          1.39,
          4.8,
          2.23,
          0.53,
          8.42,
          7.03,
          1.7,
          7.27,
          7.07,
          4.56,
          7.59
         ],
         "yaxis": "y"
        }
       ],
       "layout": {
        "height": 560,
        "legend": {
         "title": {
          "text": "class"
         },
         "tracegroupgap": 0
        },
        "margin": {
         "t": 60
        },
        "template": {
         "data": {
          "bar": [
           {
            "error_x": {
             "color": "#2a3f5f"
            },
            "error_y": {
             "color": "#2a3f5f"
            },
            "marker": {
             "line": {
              "color": "#E5ECF6",
              "width": 0.5
             },
             "pattern": {
              "fillmode": "overlay",
              "size": 10,
              "solidity": 0.2
             }
            },
            "type": "bar"
           }
          ],
          "barpolar": [
           {
            "marker": {
             "line": {
              "color": "#E5ECF6",
              "width": 0.5
             },
             "pattern": {
              "fillmode": "overlay",
              "size": 10,
              "solidity": 0.2
             }
            },
            "type": "barpolar"
           }
          ],
          "carpet": [
           {
            "aaxis": {
             "endlinecolor": "#2a3f5f",
             "gridcolor": "white",
             "linecolor": "white",
             "minorgridcolor": "white",
             "startlinecolor": "#2a3f5f"
            },
            "baxis": {
             "endlinecolor": "#2a3f5f",
             "gridcolor": "white",
             "linecolor": "white",
             "minorgridcolor": "white",
             "startlinecolor": "#2a3f5f"
            },
            "type": "carpet"
           }
          ],
          "choropleth": [
           {
            "colorbar": {
             "outlinewidth": 0,
             "ticks": ""
            },
            "type": "choropleth"
           }
          ],
          "contour": [
           {
            "colorbar": {
             "outlinewidth": 0,
             "ticks": ""
            },
            "colorscale": [
             [
              0,
              "#0d0887"
             ],
             [
              0.1111111111111111,
              "#46039f"
             ],
             [
              0.2222222222222222,
              "#7201a8"
             ],
             [
              0.3333333333333333,
              "#9c179e"
             ],
             [
              0.4444444444444444,
              "#bd3786"
             ],
             [
              0.5555555555555556,
              "#d8576b"
             ],
             [
              0.6666666666666666,
              "#ed7953"
             ],
             [
              0.7777777777777778,
              "#fb9f3a"
             ],
             [
              0.8888888888888888,
              "#fdca26"
             ],
             [
              1,
              "#f0f921"
             ]
            ],
            "type": "contour"
           }
          ],
          "contourcarpet": [
           {
            "colorbar": {
             "outlinewidth": 0,
             "ticks": ""
            },
            "type": "contourcarpet"
           }
          ],
          "heatmap": [
           {
            "colorbar": {
             "outlinewidth": 0,
             "ticks": ""
            },
            "colorscale": [
             [
              0,
              "#0d0887"
             ],
             [
              0.1111111111111111,
              "#46039f"
             ],
             [
              0.2222222222222222,
              "#7201a8"
             ],
             [
              0.3333333333333333,
              "#9c179e"
             ],
             [
              0.4444444444444444,
              "#bd3786"
             ],
             [
              0.5555555555555556,
              "#d8576b"
             ],
             [
              0.6666666666666666,
              "#ed7953"
             ],
             [
              0.7777777777777778,
              "#fb9f3a"
             ],
             [
              0.8888888888888888,
              "#fdca26"
             ],
             [
              1,
              "#f0f921"
             ]
            ],
            "type": "heatmap"
           }
          ],
          "heatmapgl": [
           {
            "colorbar": {
             "outlinewidth": 0,
             "ticks": ""
            },
            "colorscale": [
             [
              0,
              "#0d0887"
             ],
             [
              0.1111111111111111,
              "#46039f"
             ],
             [
              0.2222222222222222,
              "#7201a8"
             ],
             [
              0.3333333333333333,
              "#9c179e"
             ],
             [
              0.4444444444444444,
              "#bd3786"
             ],
             [
              0.5555555555555556,
              "#d8576b"
             ],
             [
              0.6666666666666666,
              "#ed7953"
             ],
             [
              0.7777777777777778,
              "#fb9f3a"
             ],
             [
              0.8888888888888888,
              "#fdca26"
             ],
             [
              1,
              "#f0f921"
             ]
            ],
            "type": "heatmapgl"
           }
          ],
          "histogram": [
           {
            "marker": {
             "pattern": {
              "fillmode": "overlay",
              "size": 10,
              "solidity": 0.2
             }
            },
            "type": "histogram"
           }
          ],
          "histogram2d": [
           {
            "colorbar": {
             "outlinewidth": 0,
             "ticks": ""
            },
            "colorscale": [
             [
              0,
              "#0d0887"
             ],
             [
              0.1111111111111111,
              "#46039f"
             ],
             [
              0.2222222222222222,
              "#7201a8"
             ],
             [
              0.3333333333333333,
              "#9c179e"
             ],
             [
              0.4444444444444444,
              "#bd3786"
             ],
             [
              0.5555555555555556,
              "#d8576b"
             ],
             [
              0.6666666666666666,
              "#ed7953"
             ],
             [
              0.7777777777777778,
              "#fb9f3a"
             ],
             [
              0.8888888888888888,
              "#fdca26"
             ],
             [
              1,
              "#f0f921"
             ]
            ],
            "type": "histogram2d"
           }
          ],
          "histogram2dcontour": [
           {
            "colorbar": {
             "outlinewidth": 0,
             "ticks": ""
            },
            "colorscale": [
             [
              0,
              "#0d0887"
             ],
             [
              0.1111111111111111,
              "#46039f"
             ],
             [
              0.2222222222222222,
              "#7201a8"
             ],
             [
              0.3333333333333333,
              "#9c179e"
             ],
             [
              0.4444444444444444,
              "#bd3786"
             ],
             [
              0.5555555555555556,
              "#d8576b"
             ],
             [
              0.6666666666666666,
              "#ed7953"
             ],
             [
              0.7777777777777778,
              "#fb9f3a"
             ],
             [
              0.8888888888888888,
              "#fdca26"
             ],
             [
              1,
              "#f0f921"
             ]
            ],
            "type": "histogram2dcontour"
           }
          ],
          "mesh3d": [
           {
            "colorbar": {
             "outlinewidth": 0,
             "ticks": ""
            },
            "type": "mesh3d"
           }
          ],
          "parcoords": [
           {
            "line": {
             "colorbar": {
              "outlinewidth": 0,
              "ticks": ""
             }
            },
            "type": "parcoords"
           }
          ],
          "pie": [
           {
            "automargin": true,
            "type": "pie"
           }
          ],
          "scatter": [
           {
            "fillpattern": {
             "fillmode": "overlay",
             "size": 10,
             "solidity": 0.2
            },
            "type": "scatter"
           }
          ],
          "scatter3d": [
           {
            "line": {
             "colorbar": {
              "outlinewidth": 0,
              "ticks": ""
             }
            },
            "marker": {
             "colorbar": {
              "outlinewidth": 0,
              "ticks": ""
             }
            },
            "type": "scatter3d"
           }
          ],
          "scattercarpet": [
           {
            "marker": {
             "colorbar": {
              "outlinewidth": 0,
              "ticks": ""
             }
            },
            "type": "scattercarpet"
           }
          ],
          "scattergeo": [
           {
            "marker": {
             "colorbar": {
              "outlinewidth": 0,
              "ticks": ""
             }
            },
            "type": "scattergeo"
           }
          ],
          "scattergl": [
           {
            "marker": {
             "colorbar": {
              "outlinewidth": 0,
              "ticks": ""
             }
            },
            "type": "scattergl"
           }
          ],
          "scattermapbox": [
           {
            "marker": {
             "colorbar": {
              "outlinewidth": 0,
              "ticks": ""
             }
            },
            "type": "scattermapbox"
           }
          ],
          "scatterpolar": [
           {
            "marker": {
             "colorbar": {
              "outlinewidth": 0,
              "ticks": ""
             }
            },
            "type": "scatterpolar"
           }
          ],
          "scatterpolargl": [
           {
            "marker": {
             "colorbar": {
              "outlinewidth": 0,
              "ticks": ""
             }
            },
            "type": "scatterpolargl"
           }
          ],
          "scatterternary": [
           {
            "marker": {
             "colorbar": {
              "outlinewidth": 0,
              "ticks": ""
             }
            },
            "type": "scatterternary"
           }
          ],
          "surface": [
           {
            "colorbar": {
             "outlinewidth": 0,
             "ticks": ""
            },
            "colorscale": [
             [
              0,
              "#0d0887"
             ],
             [
              0.1111111111111111,
              "#46039f"
             ],
             [
              0.2222222222222222,
              "#7201a8"
             ],
             [
              0.3333333333333333,
              "#9c179e"
             ],
             [
              0.4444444444444444,
              "#bd3786"
             ],
             [
              0.5555555555555556,
              "#d8576b"
             ],
             [
              0.6666666666666666,
              "#ed7953"
             ],
             [
              0.7777777777777778,
              "#fb9f3a"
             ],
             [
              0.8888888888888888,
              "#fdca26"
             ],
             [
              1,
              "#f0f921"
             ]
            ],
            "type": "surface"
           }
          ],
          "table": [
           {
            "cells": {
             "fill": {
              "color": "#EBF0F8"
             },
             "line": {
              "color": "white"
             }
            },
            "header": {
             "fill": {
              "color": "#C8D4E3"
             },
             "line": {
              "color": "white"
             }
            },
            "type": "table"
           }
          ]
         },
         "layout": {
          "annotationdefaults": {
           "arrowcolor": "#2a3f5f",
           "arrowhead": 0,
           "arrowwidth": 1
          },
          "autotypenumbers": "strict",
          "coloraxis": {
           "colorbar": {
            "outlinewidth": 0,
            "ticks": ""
           }
          },
          "colorscale": {
           "diverging": [
            [
             0,
             "#8e0152"
            ],
            [
             0.1,
             "#c51b7d"
            ],
            [
             0.2,
             "#de77ae"
            ],
            [
             0.3,
             "#f1b6da"
            ],
            [
             0.4,
             "#fde0ef"
            ],
            [
             0.5,
             "#f7f7f7"
            ],
            [
             0.6,
             "#e6f5d0"
            ],
            [
             0.7,
             "#b8e186"
            ],
            [
             0.8,
             "#7fbc41"
            ],
            [
             0.9,
             "#4d9221"
            ],
            [
             1,
             "#276419"
            ]
           ],
           "sequential": [
            [
             0,
             "#0d0887"
            ],
            [
             0.1111111111111111,
             "#46039f"
            ],
            [
             0.2222222222222222,
             "#7201a8"
            ],
            [
             0.3333333333333333,
             "#9c179e"
            ],
            [
             0.4444444444444444,
             "#bd3786"
            ],
            [
             0.5555555555555556,
             "#d8576b"
            ],
            [
             0.6666666666666666,
             "#ed7953"
            ],
            [
             0.7777777777777778,
             "#fb9f3a"
            ],
            [
             0.8888888888888888,
             "#fdca26"
            ],
            [
             1,
             "#f0f921"
            ]
           ],
           "sequentialminus": [
            [
             0,
             "#0d0887"
            ],
            [
             0.1111111111111111,
             "#46039f"
            ],
            [
             0.2222222222222222,
             "#7201a8"
            ],
            [
             0.3333333333333333,
             "#9c179e"
            ],
            [
             0.4444444444444444,
             "#bd3786"
            ],
            [
             0.5555555555555556,
             "#d8576b"
            ],
            [
             0.6666666666666666,
             "#ed7953"
            ],
            [
             0.7777777777777778,
             "#fb9f3a"
            ],
            [
             0.8888888888888888,
             "#fdca26"
            ],
            [
             1,
             "#f0f921"
            ]
           ]
          },
          "colorway": [
           "#636efa",
           "#EF553B",
           "#00cc96",
           "#ab63fa",
           "#FFA15A",
           "#19d3f3",
           "#FF6692",
           "#B6E880",
           "#FF97FF",
           "#FECB52"
          ],
          "font": {
           "color": "#2a3f5f"
          },
          "geo": {
           "bgcolor": "white",
           "lakecolor": "white",
           "landcolor": "#E5ECF6",
           "showlakes": true,
           "showland": true,
           "subunitcolor": "white"
          },
          "hoverlabel": {
           "align": "left"
          },
          "hovermode": "closest",
          "mapbox": {
           "style": "light"
          },
          "paper_bgcolor": "white",
          "plot_bgcolor": "#E5ECF6",
          "polar": {
           "angularaxis": {
            "gridcolor": "white",
            "linecolor": "white",
            "ticks": ""
           },
           "bgcolor": "#E5ECF6",
           "radialaxis": {
            "gridcolor": "white",
            "linecolor": "white",
            "ticks": ""
           }
          },
          "scene": {
           "xaxis": {
            "backgroundcolor": "#E5ECF6",
            "gridcolor": "white",
            "gridwidth": 2,
            "linecolor": "white",
            "showbackground": true,
            "ticks": "",
            "zerolinecolor": "white"
           },
           "yaxis": {
            "backgroundcolor": "#E5ECF6",
            "gridcolor": "white",
            "gridwidth": 2,
            "linecolor": "white",
            "showbackground": true,
            "ticks": "",
            "zerolinecolor": "white"
           },
           "zaxis": {
            "backgroundcolor": "#E5ECF6",
            "gridcolor": "white",
            "gridwidth": 2,
            "linecolor": "white",
            "showbackground": true,
            "ticks": "",
            "zerolinecolor": "white"
           }
          },
          "shapedefaults": {
           "line": {
            "color": "#2a3f5f"
           }
          },
          "ternary": {
           "aaxis": {
            "gridcolor": "white",
            "linecolor": "white",
            "ticks": ""
           },
           "baxis": {
            "gridcolor": "white",
            "linecolor": "white",
            "ticks": ""
           },
           "bgcolor": "#E5ECF6",
           "caxis": {
            "gridcolor": "white",
            "linecolor": "white",
            "ticks": ""
           }
          },
          "title": {
           "x": 0.05
          },
          "xaxis": {
           "automargin": true,
           "gridcolor": "white",
           "linecolor": "white",
           "ticks": "",
           "title": {
            "standoff": 15
           },
           "zerolinecolor": "white",
           "zerolinewidth": 2
          },
          "yaxis": {
           "automargin": true,
           "gridcolor": "white",
           "linecolor": "white",
           "ticks": "",
           "title": {
            "standoff": 15
           },
           "zerolinecolor": "white",
           "zerolinewidth": 2
          }
         }
        },
        "width": 560,
        "xaxis": {
         "anchor": "y",
         "domain": [
          0,
          1
         ],
         "title": {
          "text": "a"
         }
        },
        "yaxis": {
         "anchor": "x",
         "domain": [
          0,
          1
         ],
         "title": {
          "text": "b"
         }
        }
       }
      },
      "text/html": [
       "<div>                            <div id=\"83068b79-8d66-4d01-8d17-2ba4e8b2e4ad\" class=\"plotly-graph-div\" style=\"height:560px; width:560px;\"></div>            <script type=\"text/javascript\">                require([\"plotly\"], function(Plotly) {                    window.PLOTLYENV=window.PLOTLYENV || {};                                    if (document.getElementById(\"83068b79-8d66-4d01-8d17-2ba4e8b2e4ad\")) {                    Plotly.newPlot(                        \"83068b79-8d66-4d01-8d17-2ba4e8b2e4ad\",                        [{\"hovertemplate\":\"class=1<br>a=%{x}<br>b=%{y}<extra></extra>\",\"legendgroup\":\"1\",\"marker\":{\"color\":\"#636efa\",\"symbol\":\"circle\"},\"mode\":\"markers\",\"name\":\"1\",\"orientation\":\"v\",\"showlegend\":true,\"x\":[7.47,1.47,1.47,7.31,8.39,7.36,0.14,1.34,1.87,1.82,8.21,7.79,8.66,8.72,1.69,2.61,8.96,8.72,2.58,8.67,0.26,7.78,8.7,2.65,1.97,2.08,1.56,8.31,8.45,2.11,8.79,2.24,7.08,2.71,1.91,1.64,1.95,2.59,2.46,7.73,8.03,8.13,0.13,8.99,8.92,8.7,1.35,0.13,7.21,2.65,7.75,2.34,1.57,1.0,2.23,2.09,2.86,0.99,7.14,1.31,7.83,1.19],\"xaxis\":\"x\",\"y\":[0.85,3.05,7.33,0.22,4.57,5.36,7.62,5.1,2.32,2.78,6.63,8.0,5.97,4.42,2.73,4.29,6.64,8.11,3.03,6.34,4.46,0.11,4.37,1.59,3.07,1.83,4.81,7.46,6.5,5.2,6.97,4.4,0.55,0.9,4.55,0.45,6.99,5.09,5.24,5.78,6.15,5.73,4.07,8.92,4.96,3.86,5.18,0.56,2.13,8.62,0.21,3.02,2.2,8.37,0.26,3.91,2.29,0.19,2.18,4.09,0.66,1.88],\"yaxis\":\"y\",\"type\":\"scatter\"},{\"hovertemplate\":\"class=0<br>a=%{x}<br>b=%{y}<extra></extra>\",\"legendgroup\":\"0\",\"marker\":{\"color\":\"#EF553B\",\"symbol\":\"circle\"},\"mode\":\"markers\",\"name\":\"0\",\"orientation\":\"v\",\"showlegend\":true,\"x\":[5.38,6.11,4.25,5.32,3.65,6.6,6.86,6.63,5.83,3.88,5.53,4.01,3.28,5.01,3.67,4.74,3.7,5.49,4.94,4.72,5.54,6.89,6.02,6.97,6.27,5.37,4.06,4.01,3.59,4.16,4.18,6.1,4.39,4.65,4.29,5.5,3.04,4.23],\"xaxis\":\"x\",\"y\":[0.8,7.31,2.55,6.1,0.83,4.0,5.2,3.3,3.81,4.52,4.1,3.37,6.86,0.9,4.98,1.23,3.98,7.59,2.92,0.66,1.27,7.8,8.42,8.91,6.65,5.31,4.12,1.39,4.8,2.23,0.53,8.42,7.03,1.7,7.27,7.07,4.56,7.59],\"yaxis\":\"y\",\"type\":\"scatter\"}],                        {\"template\":{\"data\":{\"histogram2dcontour\":[{\"type\":\"histogram2dcontour\",\"colorbar\":{\"outlinewidth\":0,\"ticks\":\"\"},\"colorscale\":[[0.0,\"#0d0887\"],[0.1111111111111111,\"#46039f\"],[0.2222222222222222,\"#7201a8\"],[0.3333333333333333,\"#9c179e\"],[0.4444444444444444,\"#bd3786\"],[0.5555555555555556,\"#d8576b\"],[0.6666666666666666,\"#ed7953\"],[0.7777777777777778,\"#fb9f3a\"],[0.8888888888888888,\"#fdca26\"],[1.0,\"#f0f921\"]]}],\"choropleth\":[{\"type\":\"choropleth\",\"colorbar\":{\"outlinewidth\":0,\"ticks\":\"\"}}],\"histogram2d\":[{\"type\":\"histogram2d\",\"colorbar\":{\"outlinewidth\":0,\"ticks\":\"\"},\"colorscale\":[[0.0,\"#0d0887\"],[0.1111111111111111,\"#46039f\"],[0.2222222222222222,\"#7201a8\"],[0.3333333333333333,\"#9c179e\"],[0.4444444444444444,\"#bd3786\"],[0.5555555555555556,\"#d8576b\"],[0.6666666666666666,\"#ed7953\"],[0.7777777777777778,\"#fb9f3a\"],[0.8888888888888888,\"#fdca26\"],[1.0,\"#f0f921\"]]}],\"heatmap\":[{\"type\":\"heatmap\",\"colorbar\":{\"outlinewidth\":0,\"ticks\":\"\"},\"colorscale\":[[0.0,\"#0d0887\"],[0.1111111111111111,\"#46039f\"],[0.2222222222222222,\"#7201a8\"],[0.3333333333333333,\"#9c179e\"],[0.4444444444444444,\"#bd3786\"],[0.5555555555555556,\"#d8576b\"],[0.6666666666666666,\"#ed7953\"],[0.7777777777777778,\"#fb9f3a\"],[0.8888888888888888,\"#fdca26\"],[1.0,\"#f0f921\"]]}],\"heatmapgl\":[{\"type\":\"heatmapgl\",\"colorbar\":{\"outlinewidth\":0,\"ticks\":\"\"},\"colorscale\":[[0.0,\"#0d0887\"],[0.1111111111111111,\"#46039f\"],[0.2222222222222222,\"#7201a8\"],[0.3333333333333333,\"#9c179e\"],[0.4444444444444444,\"#bd3786\"],[0.5555555555555556,\"#d8576b\"],[0.6666666666666666,\"#ed7953\"],[0.7777777777777778,\"#fb9f3a\"],[0.8888888888888888,\"#fdca26\"],[1.0,\"#f0f921\"]]}],\"contourcarpet\":[{\"type\":\"contourcarpet\",\"colorbar\":{\"outlinewidth\":0,\"ticks\":\"\"}}],\"contour\":[{\"type\":\"contour\",\"colorbar\":{\"outlinewidth\":0,\"ticks\":\"\"},\"colorscale\":[[0.0,\"#0d0887\"],[0.1111111111111111,\"#46039f\"],[0.2222222222222222,\"#7201a8\"],[0.3333333333333333,\"#9c179e\"],[0.4444444444444444,\"#bd3786\"],[0.5555555555555556,\"#d8576b\"],[0.6666666666666666,\"#ed7953\"],[0.7777777777777778,\"#fb9f3a\"],[0.8888888888888888,\"#fdca26\"],[1.0,\"#f0f921\"]]}],\"surface\":[{\"type\":\"surface\",\"colorbar\":{\"outlinewidth\":0,\"ticks\":\"\"},\"colorscale\":[[0.0,\"#0d0887\"],[0.1111111111111111,\"#46039f\"],[0.2222222222222222,\"#7201a8\"],[0.3333333333333333,\"#9c179e\"],[0.4444444444444444,\"#bd3786\"],[0.5555555555555556,\"#d8576b\"],[0.6666666666666666,\"#ed7953\"],[0.7777777777777778,\"#fb9f3a\"],[0.8888888888888888,\"#fdca26\"],[1.0,\"#f0f921\"]]}],\"mesh3d\":[{\"type\":\"mesh3d\",\"colorbar\":{\"outlinewidth\":0,\"ticks\":\"\"}}],\"scatter\":[{\"fillpattern\":{\"fillmode\":\"overlay\",\"size\":10,\"solidity\":0.2},\"type\":\"scatter\"}],\"parcoords\":[{\"type\":\"parcoords\",\"line\":{\"colorbar\":{\"outlinewidth\":0,\"ticks\":\"\"}}}],\"scatterpolargl\":[{\"type\":\"scatterpolargl\",\"marker\":{\"colorbar\":{\"outlinewidth\":0,\"ticks\":\"\"}}}],\"bar\":[{\"error_x\":{\"color\":\"#2a3f5f\"},\"error_y\":{\"color\":\"#2a3f5f\"},\"marker\":{\"line\":{\"color\":\"#E5ECF6\",\"width\":0.5},\"pattern\":{\"fillmode\":\"overlay\",\"size\":10,\"solidity\":0.2}},\"type\":\"bar\"}],\"scattergeo\":[{\"type\":\"scattergeo\",\"marker\":{\"colorbar\":{\"outlinewidth\":0,\"ticks\":\"\"}}}],\"scatterpolar\":[{\"type\":\"scatterpolar\",\"marker\":{\"colorbar\":{\"outlinewidth\":0,\"ticks\":\"\"}}}],\"histogram\":[{\"marker\":{\"pattern\":{\"fillmode\":\"overlay\",\"size\":10,\"solidity\":0.2}},\"type\":\"histogram\"}],\"scattergl\":[{\"type\":\"scattergl\",\"marker\":{\"colorbar\":{\"outlinewidth\":0,\"ticks\":\"\"}}}],\"scatter3d\":[{\"type\":\"scatter3d\",\"line\":{\"colorbar\":{\"outlinewidth\":0,\"ticks\":\"\"}},\"marker\":{\"colorbar\":{\"outlinewidth\":0,\"ticks\":\"\"}}}],\"scattermapbox\":[{\"type\":\"scattermapbox\",\"marker\":{\"colorbar\":{\"outlinewidth\":0,\"ticks\":\"\"}}}],\"scatterternary\":[{\"type\":\"scatterternary\",\"marker\":{\"colorbar\":{\"outlinewidth\":0,\"ticks\":\"\"}}}],\"scattercarpet\":[{\"type\":\"scattercarpet\",\"marker\":{\"colorbar\":{\"outlinewidth\":0,\"ticks\":\"\"}}}],\"carpet\":[{\"aaxis\":{\"endlinecolor\":\"#2a3f5f\",\"gridcolor\":\"white\",\"linecolor\":\"white\",\"minorgridcolor\":\"white\",\"startlinecolor\":\"#2a3f5f\"},\"baxis\":{\"endlinecolor\":\"#2a3f5f\",\"gridcolor\":\"white\",\"linecolor\":\"white\",\"minorgridcolor\":\"white\",\"startlinecolor\":\"#2a3f5f\"},\"type\":\"carpet\"}],\"table\":[{\"cells\":{\"fill\":{\"color\":\"#EBF0F8\"},\"line\":{\"color\":\"white\"}},\"header\":{\"fill\":{\"color\":\"#C8D4E3\"},\"line\":{\"color\":\"white\"}},\"type\":\"table\"}],\"barpolar\":[{\"marker\":{\"line\":{\"color\":\"#E5ECF6\",\"width\":0.5},\"pattern\":{\"fillmode\":\"overlay\",\"size\":10,\"solidity\":0.2}},\"type\":\"barpolar\"}],\"pie\":[{\"automargin\":true,\"type\":\"pie\"}]},\"layout\":{\"autotypenumbers\":\"strict\",\"colorway\":[\"#636efa\",\"#EF553B\",\"#00cc96\",\"#ab63fa\",\"#FFA15A\",\"#19d3f3\",\"#FF6692\",\"#B6E880\",\"#FF97FF\",\"#FECB52\"],\"font\":{\"color\":\"#2a3f5f\"},\"hovermode\":\"closest\",\"hoverlabel\":{\"align\":\"left\"},\"paper_bgcolor\":\"white\",\"plot_bgcolor\":\"#E5ECF6\",\"polar\":{\"bgcolor\":\"#E5ECF6\",\"angularaxis\":{\"gridcolor\":\"white\",\"linecolor\":\"white\",\"ticks\":\"\"},\"radialaxis\":{\"gridcolor\":\"white\",\"linecolor\":\"white\",\"ticks\":\"\"}},\"ternary\":{\"bgcolor\":\"#E5ECF6\",\"aaxis\":{\"gridcolor\":\"white\",\"linecolor\":\"white\",\"ticks\":\"\"},\"baxis\":{\"gridcolor\":\"white\",\"linecolor\":\"white\",\"ticks\":\"\"},\"caxis\":{\"gridcolor\":\"white\",\"linecolor\":\"white\",\"ticks\":\"\"}},\"coloraxis\":{\"colorbar\":{\"outlinewidth\":0,\"ticks\":\"\"}},\"colorscale\":{\"sequential\":[[0.0,\"#0d0887\"],[0.1111111111111111,\"#46039f\"],[0.2222222222222222,\"#7201a8\"],[0.3333333333333333,\"#9c179e\"],[0.4444444444444444,\"#bd3786\"],[0.5555555555555556,\"#d8576b\"],[0.6666666666666666,\"#ed7953\"],[0.7777777777777778,\"#fb9f3a\"],[0.8888888888888888,\"#fdca26\"],[1.0,\"#f0f921\"]],\"sequentialminus\":[[0.0,\"#0d0887\"],[0.1111111111111111,\"#46039f\"],[0.2222222222222222,\"#7201a8\"],[0.3333333333333333,\"#9c179e\"],[0.4444444444444444,\"#bd3786\"],[0.5555555555555556,\"#d8576b\"],[0.6666666666666666,\"#ed7953\"],[0.7777777777777778,\"#fb9f3a\"],[0.8888888888888888,\"#fdca26\"],[1.0,\"#f0f921\"]],\"diverging\":[[0,\"#8e0152\"],[0.1,\"#c51b7d\"],[0.2,\"#de77ae\"],[0.3,\"#f1b6da\"],[0.4,\"#fde0ef\"],[0.5,\"#f7f7f7\"],[0.6,\"#e6f5d0\"],[0.7,\"#b8e186\"],[0.8,\"#7fbc41\"],[0.9,\"#4d9221\"],[1,\"#276419\"]]},\"xaxis\":{\"gridcolor\":\"white\",\"linecolor\":\"white\",\"ticks\":\"\",\"title\":{\"standoff\":15},\"zerolinecolor\":\"white\",\"automargin\":true,\"zerolinewidth\":2},\"yaxis\":{\"gridcolor\":\"white\",\"linecolor\":\"white\",\"ticks\":\"\",\"title\":{\"standoff\":15},\"zerolinecolor\":\"white\",\"automargin\":true,\"zerolinewidth\":2},\"scene\":{\"xaxis\":{\"backgroundcolor\":\"#E5ECF6\",\"gridcolor\":\"white\",\"linecolor\":\"white\",\"showbackground\":true,\"ticks\":\"\",\"zerolinecolor\":\"white\",\"gridwidth\":2},\"yaxis\":{\"backgroundcolor\":\"#E5ECF6\",\"gridcolor\":\"white\",\"linecolor\":\"white\",\"showbackground\":true,\"ticks\":\"\",\"zerolinecolor\":\"white\",\"gridwidth\":2},\"zaxis\":{\"backgroundcolor\":\"#E5ECF6\",\"gridcolor\":\"white\",\"linecolor\":\"white\",\"showbackground\":true,\"ticks\":\"\",\"zerolinecolor\":\"white\",\"gridwidth\":2}},\"shapedefaults\":{\"line\":{\"color\":\"#2a3f5f\"}},\"annotationdefaults\":{\"arrowcolor\":\"#2a3f5f\",\"arrowhead\":0,\"arrowwidth\":1},\"geo\":{\"bgcolor\":\"white\",\"landcolor\":\"#E5ECF6\",\"subunitcolor\":\"white\",\"showland\":true,\"showlakes\":true,\"lakecolor\":\"white\"},\"title\":{\"x\":0.05},\"mapbox\":{\"style\":\"light\"}}},\"xaxis\":{\"anchor\":\"y\",\"domain\":[0.0,1.0],\"title\":{\"text\":\"a\"}},\"yaxis\":{\"anchor\":\"x\",\"domain\":[0.0,1.0],\"title\":{\"text\":\"b\"}},\"legend\":{\"title\":{\"text\":\"class\"},\"tracegroupgap\":0},\"margin\":{\"t\":60},\"height\":560,\"width\":560},                        {\"responsive\": true}                    ).then(function(){\n",
       "                            \n",
       "var gd = document.getElementById('83068b79-8d66-4d01-8d17-2ba4e8b2e4ad');\n",
       "var x = new MutationObserver(function (mutations, observer) {{\n",
       "        var display = window.getComputedStyle(gd).display;\n",
       "        if (!display || display === 'none') {{\n",
       "            console.log([gd, 'removed!']);\n",
       "            Plotly.purge(gd);\n",
       "            observer.disconnect();\n",
       "        }}\n",
       "}});\n",
       "\n",
       "// Listen for the removal of the full notebook cells\n",
       "var notebookContainer = gd.closest('#notebook-container');\n",
       "if (notebookContainer) {{\n",
       "    x.observe(notebookContainer, {childList: true});\n",
       "}}\n",
       "\n",
       "// Listen for the clearing of the current output cell\n",
       "var outputEl = gd.closest('.output');\n",
       "if (outputEl) {{\n",
       "    x.observe(outputEl, {childList: true});\n",
       "}}\n",
       "\n",
       "                        })                };                });            </script>        </div>"
      ]
     },
     "metadata": {},
     "output_type": "display_data"
    }
   ],
   "source": [
    "fig = px.scatter(df, x='a',\n",
    "            y='b',\n",
    "            color='class',\n",
    "            height=560,\n",
    "            width=560,\n",
    "            )\n",
    "fig.show()"
   ]
  },
  {
   "cell_type": "code",
   "execution_count": 8,
   "metadata": {},
   "outputs": [
    {
     "name": "stdout",
     "output_type": "stream",
     "text": [
      "Rules original\n",
      "IF a = (-inf, 2.95) THEN class = {1} (p = 35.0, n = 0.0, P = 62.0, N = 38.0, weight = 0.782258064516129, pvalue = 2.554113438907091e-10)\n",
      "IF a = <7.03, inf) THEN class = {1} (p = 27.0, n = 0.0, P = 62.0, N = 38.0, weight = 0.717741935483871, pvalue = 1.4587430898619218e-07)\n",
      "IF a = <2.95, 7.03) THEN class = {0} (p = 38.0, n = 0.0, P = 38.0, N = 62.0, weight = 1.0, pvalue = 1.7636531930450345e-28)\n",
      "\n",
      "\n",
      "Complex rules\n",
      "IF a != <2.95, 7.08) THEN class = {1} (p = 62.0, n = 0.0, P = 62.0, N = 38.0, weight = 1.0, pvalue = 1.7636531930450345e-28)\n",
      "IF a = <2.95, 7.08) THEN class = {0} (p = 38.0, n = 0.0, P = 38.0, N = 62.0, weight = 1.0, pvalue = 1.7636531930450345e-28)\n",
      "\n",
      "\n",
      "Complex rules + inners alternatives\n",
      "IF #(a != <1.25, 7.08) OR a != <1.33, 7.08) OR a != <1.35, 7.08) OR a != <1.41, 7.08) OR a != <1.52, 7.08) OR a != <2.95, 7.08)) THEN class = {1} (p = 62.0, n = 0.0, P = 62.0, N = 38.0, weight = 1.0, pvalue = 1.7636531930450345e-28)\n",
      "IF #(a = <2.95, 6.86)) THEN class = {0} (p = 38.0, n = 0.0, P = 38.0, N = 62.0, weight = 1.0, pvalue = 1.7636531930450345e-28)\n"
     ]
    }
   ],
   "source": [
    "X = df.drop(['class'], axis=1)\n",
    "y = df['class']\n",
    "\n",
    "clf_simple.fit(X, y)\n",
    "\n",
    "print(\"Rules original\")\n",
    "for rule in clf_simple.model.rules:\n",
    "    print(rule, rule.stats)\n",
    "\n",
    "print(\"\\n\\nComplex rules\")\n",
    "clf_complex.fit(X, y)\n",
    "for rule in clf_complex.model.rules:\n",
    "    print(rule, rule.stats)\n",
    "\n",
    "print(\"\\n\\nComplex rules + inners alternatives\")\n",
    "clf_complex_with_inners.fit(X, y)\n",
    "for rule in clf_complex_with_inners.model.rules:\n",
    "    print(rule, rule.stats)"
   ]
  },
  {
   "attachments": {},
   "cell_type": "markdown",
   "metadata": {},
   "source": [
    "## a<b"
   ]
  },
  {
   "cell_type": "code",
   "execution_count": 9,
   "metadata": {},
   "outputs": [
    {
     "data": {
      "text/html": [
       "<div>\n",
       "<style scoped>\n",
       "    .dataframe tbody tr th:only-of-type {\n",
       "        vertical-align: middle;\n",
       "    }\n",
       "\n",
       "    .dataframe tbody tr th {\n",
       "        vertical-align: top;\n",
       "    }\n",
       "\n",
       "    .dataframe thead th {\n",
       "        text-align: right;\n",
       "    }\n",
       "</style>\n",
       "<table border=\"1\" class=\"dataframe\">\n",
       "  <thead>\n",
       "    <tr style=\"text-align: right;\">\n",
       "      <th></th>\n",
       "      <th>a</th>\n",
       "      <th>b</th>\n",
       "      <th>class</th>\n",
       "    </tr>\n",
       "  </thead>\n",
       "  <tbody>\n",
       "    <tr>\n",
       "      <th>0</th>\n",
       "      <td>3.25</td>\n",
       "      <td>3.33</td>\n",
       "      <td>1</td>\n",
       "    </tr>\n",
       "    <tr>\n",
       "      <th>1</th>\n",
       "      <td>6.26</td>\n",
       "      <td>3.44</td>\n",
       "      <td>0</td>\n",
       "    </tr>\n",
       "    <tr>\n",
       "      <th>2</th>\n",
       "      <td>0.54</td>\n",
       "      <td>6.82</td>\n",
       "      <td>1</td>\n",
       "    </tr>\n",
       "    <tr>\n",
       "      <th>3</th>\n",
       "      <td>1.33</td>\n",
       "      <td>6.55</td>\n",
       "      <td>1</td>\n",
       "    </tr>\n",
       "    <tr>\n",
       "      <th>4</th>\n",
       "      <td>7.91</td>\n",
       "      <td>3.87</td>\n",
       "      <td>0</td>\n",
       "    </tr>\n",
       "    <tr>\n",
       "      <th>...</th>\n",
       "      <td>...</td>\n",
       "      <td>...</td>\n",
       "      <td>...</td>\n",
       "    </tr>\n",
       "    <tr>\n",
       "      <th>95</th>\n",
       "      <td>6.66</td>\n",
       "      <td>8.21</td>\n",
       "      <td>1</td>\n",
       "    </tr>\n",
       "    <tr>\n",
       "      <th>96</th>\n",
       "      <td>7.55</td>\n",
       "      <td>3.63</td>\n",
       "      <td>0</td>\n",
       "    </tr>\n",
       "    <tr>\n",
       "      <th>97</th>\n",
       "      <td>2.39</td>\n",
       "      <td>3.68</td>\n",
       "      <td>1</td>\n",
       "    </tr>\n",
       "    <tr>\n",
       "      <th>98</th>\n",
       "      <td>2.58</td>\n",
       "      <td>3.27</td>\n",
       "      <td>1</td>\n",
       "    </tr>\n",
       "    <tr>\n",
       "      <th>99</th>\n",
       "      <td>7.03</td>\n",
       "      <td>4.49</td>\n",
       "      <td>0</td>\n",
       "    </tr>\n",
       "  </tbody>\n",
       "</table>\n",
       "<p>100 rows × 3 columns</p>\n",
       "</div>"
      ],
      "text/plain": [
       "       a     b class\n",
       "0   3.25  3.33     1\n",
       "1   6.26  3.44     0\n",
       "2   0.54  6.82     1\n",
       "3   1.33  6.55     1\n",
       "4   7.91  3.87     0\n",
       "..   ...   ...   ...\n",
       "95  6.66  8.21     1\n",
       "96  7.55  3.63     0\n",
       "97  2.39  3.68     1\n",
       "98  2.58  3.27     1\n",
       "99  7.03  4.49     0\n",
       "\n",
       "[100 rows x 3 columns]"
      ]
     },
     "execution_count": 9,
     "metadata": {},
     "output_type": "execute_result"
    }
   ],
   "source": [
    "df = pd.DataFrame(columns=[\"a\", \"b\", \"class\"], index = [i for i in range(0,100)])\n",
    "\n",
    "\n",
    "a = [round(random.uniform(0, 9),2) for i in range(100)]\n",
    "b = [round(random.uniform(0, 9),2) for i in range(100)]\n",
    "\n",
    "df[\"a\"] = a\n",
    "df[\"b\"] = b\n",
    "\n",
    "df.loc[(df[\"a\"] < df[\"b\"]),\"class\"] = \"1\"\n",
    "df = df.fillna(\"0\")\n",
    "df"
   ]
  },
  {
   "cell_type": "code",
   "execution_count": 10,
   "metadata": {},
   "outputs": [
    {
     "data": {
      "application/vnd.plotly.v1+json": {
       "config": {
        "plotlyServerURL": "https://plot.ly"
       },
       "data": [
        {
         "hovertemplate": "class=1<br>a=%{x}<br>b=%{y}<extra></extra>",
         "legendgroup": "1",
         "marker": {
          "color": "#636efa",
          "symbol": "circle"
         },
         "mode": "markers",
         "name": "1",
         "orientation": "v",
         "showlegend": true,
         "type": "scatter",
         "x": [
          3.25,
          0.54,
          1.33,
          4.98,
          1.44,
          0.45,
          2.27,
          2.45,
          3.06,
          1.89,
          2.41,
          1.35,
          4.64,
          2.57,
          3.29,
          3.33,
          1.23,
          3.4,
          5.84,
          1.77,
          7.59,
          7.13,
          1.66,
          1.43,
          1.25,
          2.08,
          3.48,
          5.29,
          0.4,
          0.97,
          3.68,
          1.21,
          3.1,
          1.65,
          1.25,
          6.05,
          4.07,
          2.84,
          8.24,
          2.84,
          1.48,
          0.05,
          2.69,
          5.35,
          6.66,
          2.39,
          2.58
         ],
         "xaxis": "x",
         "y": [
          3.33,
          6.82,
          6.55,
          6.29,
          3.48,
          6.64,
          6.93,
          8.77,
          3.74,
          2.45,
          2.71,
          1.41,
          6.2,
          4.3,
          5.43,
          7.89,
          6.5,
          6.35,
          8.95,
          7.37,
          8.37,
          8.67,
          2.26,
          5.76,
          1.96,
          3.34,
          8.85,
          7.18,
          4.91,
          8.56,
          7.88,
          3.43,
          4.99,
          2.89,
          5.67,
          6.41,
          6.03,
          3.1,
          8.27,
          7.33,
          5.76,
          2.72,
          6.13,
          6.88,
          8.21,
          3.68,
          3.27
         ],
         "yaxis": "y"
        },
        {
         "hovertemplate": "class=0<br>a=%{x}<br>b=%{y}<extra></extra>",
         "legendgroup": "0",
         "marker": {
          "color": "#EF553B",
          "symbol": "circle"
         },
         "mode": "markers",
         "name": "0",
         "orientation": "v",
         "showlegend": true,
         "type": "scatter",
         "x": [
          6.26,
          7.91,
          7.8,
          0.94,
          8.02,
          8.1,
          0.79,
          7.42,
          3.48,
          5.34,
          5.94,
          5.93,
          8.01,
          4.48,
          3.21,
          7.68,
          6.8,
          3.31,
          1.16,
          5.94,
          8.79,
          5.68,
          6.45,
          4.25,
          6.83,
          8.52,
          2.4,
          4.03,
          2.7,
          6.53,
          7.48,
          8.76,
          3.25,
          7.59,
          8.75,
          6.43,
          7.54,
          4.99,
          8.12,
          6.89,
          6.04,
          3.64,
          4.05,
          6.3,
          5.69,
          7.08,
          6.84,
          6.26,
          6.38,
          0.98,
          2.24,
          7.55,
          7.03
         ],
         "xaxis": "x",
         "y": [
          3.44,
          3.87,
          7.01,
          0.7,
          5.36,
          6.25,
          0.19,
          2.93,
          0.42,
          3.03,
          4,
          5.21,
          6.3,
          1.98,
          1.95,
          2.49,
          4.06,
          0.09,
          0.79,
          3.41,
          6.73,
          0.55,
          2.78,
          3.96,
          2.81,
          5.07,
          1.1,
          1.95,
          0.86,
          0.64,
          4.18,
          4.52,
          2.81,
          6.18,
          4.91,
          4.5,
          6.37,
          1.32,
          7.85,
          3.06,
          4.7,
          1.24,
          2.26,
          3.32,
          5.19,
          6.79,
          3.22,
          2.71,
          3.33,
          0.28,
          1.86,
          3.63,
          4.49
         ],
         "yaxis": "y"
        }
       ],
       "layout": {
        "height": 560,
        "legend": {
         "title": {
          "text": "class"
         },
         "tracegroupgap": 0
        },
        "margin": {
         "t": 60
        },
        "template": {
         "data": {
          "bar": [
           {
            "error_x": {
             "color": "#2a3f5f"
            },
            "error_y": {
             "color": "#2a3f5f"
            },
            "marker": {
             "line": {
              "color": "#E5ECF6",
              "width": 0.5
             },
             "pattern": {
              "fillmode": "overlay",
              "size": 10,
              "solidity": 0.2
             }
            },
            "type": "bar"
           }
          ],
          "barpolar": [
           {
            "marker": {
             "line": {
              "color": "#E5ECF6",
              "width": 0.5
             },
             "pattern": {
              "fillmode": "overlay",
              "size": 10,
              "solidity": 0.2
             }
            },
            "type": "barpolar"
           }
          ],
          "carpet": [
           {
            "aaxis": {
             "endlinecolor": "#2a3f5f",
             "gridcolor": "white",
             "linecolor": "white",
             "minorgridcolor": "white",
             "startlinecolor": "#2a3f5f"
            },
            "baxis": {
             "endlinecolor": "#2a3f5f",
             "gridcolor": "white",
             "linecolor": "white",
             "minorgridcolor": "white",
             "startlinecolor": "#2a3f5f"
            },
            "type": "carpet"
           }
          ],
          "choropleth": [
           {
            "colorbar": {
             "outlinewidth": 0,
             "ticks": ""
            },
            "type": "choropleth"
           }
          ],
          "contour": [
           {
            "colorbar": {
             "outlinewidth": 0,
             "ticks": ""
            },
            "colorscale": [
             [
              0,
              "#0d0887"
             ],
             [
              0.1111111111111111,
              "#46039f"
             ],
             [
              0.2222222222222222,
              "#7201a8"
             ],
             [
              0.3333333333333333,
              "#9c179e"
             ],
             [
              0.4444444444444444,
              "#bd3786"
             ],
             [
              0.5555555555555556,
              "#d8576b"
             ],
             [
              0.6666666666666666,
              "#ed7953"
             ],
             [
              0.7777777777777778,
              "#fb9f3a"
             ],
             [
              0.8888888888888888,
              "#fdca26"
             ],
             [
              1,
              "#f0f921"
             ]
            ],
            "type": "contour"
           }
          ],
          "contourcarpet": [
           {
            "colorbar": {
             "outlinewidth": 0,
             "ticks": ""
            },
            "type": "contourcarpet"
           }
          ],
          "heatmap": [
           {
            "colorbar": {
             "outlinewidth": 0,
             "ticks": ""
            },
            "colorscale": [
             [
              0,
              "#0d0887"
             ],
             [
              0.1111111111111111,
              "#46039f"
             ],
             [
              0.2222222222222222,
              "#7201a8"
             ],
             [
              0.3333333333333333,
              "#9c179e"
             ],
             [
              0.4444444444444444,
              "#bd3786"
             ],
             [
              0.5555555555555556,
              "#d8576b"
             ],
             [
              0.6666666666666666,
              "#ed7953"
             ],
             [
              0.7777777777777778,
              "#fb9f3a"
             ],
             [
              0.8888888888888888,
              "#fdca26"
             ],
             [
              1,
              "#f0f921"
             ]
            ],
            "type": "heatmap"
           }
          ],
          "heatmapgl": [
           {
            "colorbar": {
             "outlinewidth": 0,
             "ticks": ""
            },
            "colorscale": [
             [
              0,
              "#0d0887"
             ],
             [
              0.1111111111111111,
              "#46039f"
             ],
             [
              0.2222222222222222,
              "#7201a8"
             ],
             [
              0.3333333333333333,
              "#9c179e"
             ],
             [
              0.4444444444444444,
              "#bd3786"
             ],
             [
              0.5555555555555556,
              "#d8576b"
             ],
             [
              0.6666666666666666,
              "#ed7953"
             ],
             [
              0.7777777777777778,
              "#fb9f3a"
             ],
             [
              0.8888888888888888,
              "#fdca26"
             ],
             [
              1,
              "#f0f921"
             ]
            ],
            "type": "heatmapgl"
           }
          ],
          "histogram": [
           {
            "marker": {
             "pattern": {
              "fillmode": "overlay",
              "size": 10,
              "solidity": 0.2
             }
            },
            "type": "histogram"
           }
          ],
          "histogram2d": [
           {
            "colorbar": {
             "outlinewidth": 0,
             "ticks": ""
            },
            "colorscale": [
             [
              0,
              "#0d0887"
             ],
             [
              0.1111111111111111,
              "#46039f"
             ],
             [
              0.2222222222222222,
              "#7201a8"
             ],
             [
              0.3333333333333333,
              "#9c179e"
             ],
             [
              0.4444444444444444,
              "#bd3786"
             ],
             [
              0.5555555555555556,
              "#d8576b"
             ],
             [
              0.6666666666666666,
              "#ed7953"
             ],
             [
              0.7777777777777778,
              "#fb9f3a"
             ],
             [
              0.8888888888888888,
              "#fdca26"
             ],
             [
              1,
              "#f0f921"
             ]
            ],
            "type": "histogram2d"
           }
          ],
          "histogram2dcontour": [
           {
            "colorbar": {
             "outlinewidth": 0,
             "ticks": ""
            },
            "colorscale": [
             [
              0,
              "#0d0887"
             ],
             [
              0.1111111111111111,
              "#46039f"
             ],
             [
              0.2222222222222222,
              "#7201a8"
             ],
             [
              0.3333333333333333,
              "#9c179e"
             ],
             [
              0.4444444444444444,
              "#bd3786"
             ],
             [
              0.5555555555555556,
              "#d8576b"
             ],
             [
              0.6666666666666666,
              "#ed7953"
             ],
             [
              0.7777777777777778,
              "#fb9f3a"
             ],
             [
              0.8888888888888888,
              "#fdca26"
             ],
             [
              1,
              "#f0f921"
             ]
            ],
            "type": "histogram2dcontour"
           }
          ],
          "mesh3d": [
           {
            "colorbar": {
             "outlinewidth": 0,
             "ticks": ""
            },
            "type": "mesh3d"
           }
          ],
          "parcoords": [
           {
            "line": {
             "colorbar": {
              "outlinewidth": 0,
              "ticks": ""
             }
            },
            "type": "parcoords"
           }
          ],
          "pie": [
           {
            "automargin": true,
            "type": "pie"
           }
          ],
          "scatter": [
           {
            "fillpattern": {
             "fillmode": "overlay",
             "size": 10,
             "solidity": 0.2
            },
            "type": "scatter"
           }
          ],
          "scatter3d": [
           {
            "line": {
             "colorbar": {
              "outlinewidth": 0,
              "ticks": ""
             }
            },
            "marker": {
             "colorbar": {
              "outlinewidth": 0,
              "ticks": ""
             }
            },
            "type": "scatter3d"
           }
          ],
          "scattercarpet": [
           {
            "marker": {
             "colorbar": {
              "outlinewidth": 0,
              "ticks": ""
             }
            },
            "type": "scattercarpet"
           }
          ],
          "scattergeo": [
           {
            "marker": {
             "colorbar": {
              "outlinewidth": 0,
              "ticks": ""
             }
            },
            "type": "scattergeo"
           }
          ],
          "scattergl": [
           {
            "marker": {
             "colorbar": {
              "outlinewidth": 0,
              "ticks": ""
             }
            },
            "type": "scattergl"
           }
          ],
          "scattermapbox": [
           {
            "marker": {
             "colorbar": {
              "outlinewidth": 0,
              "ticks": ""
             }
            },
            "type": "scattermapbox"
           }
          ],
          "scatterpolar": [
           {
            "marker": {
             "colorbar": {
              "outlinewidth": 0,
              "ticks": ""
             }
            },
            "type": "scatterpolar"
           }
          ],
          "scatterpolargl": [
           {
            "marker": {
             "colorbar": {
              "outlinewidth": 0,
              "ticks": ""
             }
            },
            "type": "scatterpolargl"
           }
          ],
          "scatterternary": [
           {
            "marker": {
             "colorbar": {
              "outlinewidth": 0,
              "ticks": ""
             }
            },
            "type": "scatterternary"
           }
          ],
          "surface": [
           {
            "colorbar": {
             "outlinewidth": 0,
             "ticks": ""
            },
            "colorscale": [
             [
              0,
              "#0d0887"
             ],
             [
              0.1111111111111111,
              "#46039f"
             ],
             [
              0.2222222222222222,
              "#7201a8"
             ],
             [
              0.3333333333333333,
              "#9c179e"
             ],
             [
              0.4444444444444444,
              "#bd3786"
             ],
             [
              0.5555555555555556,
              "#d8576b"
             ],
             [
              0.6666666666666666,
              "#ed7953"
             ],
             [
              0.7777777777777778,
              "#fb9f3a"
             ],
             [
              0.8888888888888888,
              "#fdca26"
             ],
             [
              1,
              "#f0f921"
             ]
            ],
            "type": "surface"
           }
          ],
          "table": [
           {
            "cells": {
             "fill": {
              "color": "#EBF0F8"
             },
             "line": {
              "color": "white"
             }
            },
            "header": {
             "fill": {
              "color": "#C8D4E3"
             },
             "line": {
              "color": "white"
             }
            },
            "type": "table"
           }
          ]
         },
         "layout": {
          "annotationdefaults": {
           "arrowcolor": "#2a3f5f",
           "arrowhead": 0,
           "arrowwidth": 1
          },
          "autotypenumbers": "strict",
          "coloraxis": {
           "colorbar": {
            "outlinewidth": 0,
            "ticks": ""
           }
          },
          "colorscale": {
           "diverging": [
            [
             0,
             "#8e0152"
            ],
            [
             0.1,
             "#c51b7d"
            ],
            [
             0.2,
             "#de77ae"
            ],
            [
             0.3,
             "#f1b6da"
            ],
            [
             0.4,
             "#fde0ef"
            ],
            [
             0.5,
             "#f7f7f7"
            ],
            [
             0.6,
             "#e6f5d0"
            ],
            [
             0.7,
             "#b8e186"
            ],
            [
             0.8,
             "#7fbc41"
            ],
            [
             0.9,
             "#4d9221"
            ],
            [
             1,
             "#276419"
            ]
           ],
           "sequential": [
            [
             0,
             "#0d0887"
            ],
            [
             0.1111111111111111,
             "#46039f"
            ],
            [
             0.2222222222222222,
             "#7201a8"
            ],
            [
             0.3333333333333333,
             "#9c179e"
            ],
            [
             0.4444444444444444,
             "#bd3786"
            ],
            [
             0.5555555555555556,
             "#d8576b"
            ],
            [
             0.6666666666666666,
             "#ed7953"
            ],
            [
             0.7777777777777778,
             "#fb9f3a"
            ],
            [
             0.8888888888888888,
             "#fdca26"
            ],
            [
             1,
             "#f0f921"
            ]
           ],
           "sequentialminus": [
            [
             0,
             "#0d0887"
            ],
            [
             0.1111111111111111,
             "#46039f"
            ],
            [
             0.2222222222222222,
             "#7201a8"
            ],
            [
             0.3333333333333333,
             "#9c179e"
            ],
            [
             0.4444444444444444,
             "#bd3786"
            ],
            [
             0.5555555555555556,
             "#d8576b"
            ],
            [
             0.6666666666666666,
             "#ed7953"
            ],
            [
             0.7777777777777778,
             "#fb9f3a"
            ],
            [
             0.8888888888888888,
             "#fdca26"
            ],
            [
             1,
             "#f0f921"
            ]
           ]
          },
          "colorway": [
           "#636efa",
           "#EF553B",
           "#00cc96",
           "#ab63fa",
           "#FFA15A",
           "#19d3f3",
           "#FF6692",
           "#B6E880",
           "#FF97FF",
           "#FECB52"
          ],
          "font": {
           "color": "#2a3f5f"
          },
          "geo": {
           "bgcolor": "white",
           "lakecolor": "white",
           "landcolor": "#E5ECF6",
           "showlakes": true,
           "showland": true,
           "subunitcolor": "white"
          },
          "hoverlabel": {
           "align": "left"
          },
          "hovermode": "closest",
          "mapbox": {
           "style": "light"
          },
          "paper_bgcolor": "white",
          "plot_bgcolor": "#E5ECF6",
          "polar": {
           "angularaxis": {
            "gridcolor": "white",
            "linecolor": "white",
            "ticks": ""
           },
           "bgcolor": "#E5ECF6",
           "radialaxis": {
            "gridcolor": "white",
            "linecolor": "white",
            "ticks": ""
           }
          },
          "scene": {
           "xaxis": {
            "backgroundcolor": "#E5ECF6",
            "gridcolor": "white",
            "gridwidth": 2,
            "linecolor": "white",
            "showbackground": true,
            "ticks": "",
            "zerolinecolor": "white"
           },
           "yaxis": {
            "backgroundcolor": "#E5ECF6",
            "gridcolor": "white",
            "gridwidth": 2,
            "linecolor": "white",
            "showbackground": true,
            "ticks": "",
            "zerolinecolor": "white"
           },
           "zaxis": {
            "backgroundcolor": "#E5ECF6",
            "gridcolor": "white",
            "gridwidth": 2,
            "linecolor": "white",
            "showbackground": true,
            "ticks": "",
            "zerolinecolor": "white"
           }
          },
          "shapedefaults": {
           "line": {
            "color": "#2a3f5f"
           }
          },
          "ternary": {
           "aaxis": {
            "gridcolor": "white",
            "linecolor": "white",
            "ticks": ""
           },
           "baxis": {
            "gridcolor": "white",
            "linecolor": "white",
            "ticks": ""
           },
           "bgcolor": "#E5ECF6",
           "caxis": {
            "gridcolor": "white",
            "linecolor": "white",
            "ticks": ""
           }
          },
          "title": {
           "x": 0.05
          },
          "xaxis": {
           "automargin": true,
           "gridcolor": "white",
           "linecolor": "white",
           "ticks": "",
           "title": {
            "standoff": 15
           },
           "zerolinecolor": "white",
           "zerolinewidth": 2
          },
          "yaxis": {
           "automargin": true,
           "gridcolor": "white",
           "linecolor": "white",
           "ticks": "",
           "title": {
            "standoff": 15
           },
           "zerolinecolor": "white",
           "zerolinewidth": 2
          }
         }
        },
        "width": 560,
        "xaxis": {
         "anchor": "y",
         "domain": [
          0,
          1
         ],
         "title": {
          "text": "a"
         }
        },
        "yaxis": {
         "anchor": "x",
         "domain": [
          0,
          1
         ],
         "title": {
          "text": "b"
         }
        }
       }
      },
      "text/html": [
       "<div>                            <div id=\"35191133-eecc-41e9-a1fe-c5a46a439ad1\" class=\"plotly-graph-div\" style=\"height:560px; width:560px;\"></div>            <script type=\"text/javascript\">                require([\"plotly\"], function(Plotly) {                    window.PLOTLYENV=window.PLOTLYENV || {};                                    if (document.getElementById(\"35191133-eecc-41e9-a1fe-c5a46a439ad1\")) {                    Plotly.newPlot(                        \"35191133-eecc-41e9-a1fe-c5a46a439ad1\",                        [{\"hovertemplate\":\"class=1<br>a=%{x}<br>b=%{y}<extra></extra>\",\"legendgroup\":\"1\",\"marker\":{\"color\":\"#636efa\",\"symbol\":\"circle\"},\"mode\":\"markers\",\"name\":\"1\",\"orientation\":\"v\",\"showlegend\":true,\"x\":[3.25,0.54,1.33,4.98,1.44,0.45,2.27,2.45,3.06,1.89,2.41,1.35,4.64,2.57,3.29,3.33,1.23,3.4,5.84,1.77,7.59,7.13,1.66,1.43,1.25,2.08,3.48,5.29,0.4,0.97,3.68,1.21,3.1,1.65,1.25,6.05,4.07,2.84,8.24,2.84,1.48,0.05,2.69,5.35,6.66,2.39,2.58],\"xaxis\":\"x\",\"y\":[3.33,6.82,6.55,6.29,3.48,6.64,6.93,8.77,3.74,2.45,2.71,1.41,6.2,4.3,5.43,7.89,6.5,6.35,8.95,7.37,8.37,8.67,2.26,5.76,1.96,3.34,8.85,7.18,4.91,8.56,7.88,3.43,4.99,2.89,5.67,6.41,6.03,3.1,8.27,7.33,5.76,2.72,6.13,6.88,8.21,3.68,3.27],\"yaxis\":\"y\",\"type\":\"scatter\"},{\"hovertemplate\":\"class=0<br>a=%{x}<br>b=%{y}<extra></extra>\",\"legendgroup\":\"0\",\"marker\":{\"color\":\"#EF553B\",\"symbol\":\"circle\"},\"mode\":\"markers\",\"name\":\"0\",\"orientation\":\"v\",\"showlegend\":true,\"x\":[6.26,7.91,7.8,0.94,8.02,8.1,0.79,7.42,3.48,5.34,5.94,5.93,8.01,4.48,3.21,7.68,6.8,3.31,1.16,5.94,8.79,5.68,6.45,4.25,6.83,8.52,2.4,4.03,2.7,6.53,7.48,8.76,3.25,7.59,8.75,6.43,7.54,4.99,8.12,6.89,6.04,3.64,4.05,6.3,5.69,7.08,6.84,6.26,6.38,0.98,2.24,7.55,7.03],\"xaxis\":\"x\",\"y\":[3.44,3.87,7.01,0.7,5.36,6.25,0.19,2.93,0.42,3.03,4.0,5.21,6.3,1.98,1.95,2.49,4.06,0.09,0.79,3.41,6.73,0.55,2.78,3.96,2.81,5.07,1.1,1.95,0.86,0.64,4.18,4.52,2.81,6.18,4.91,4.5,6.37,1.32,7.85,3.06,4.7,1.24,2.26,3.32,5.19,6.79,3.22,2.71,3.33,0.28,1.86,3.63,4.49],\"yaxis\":\"y\",\"type\":\"scatter\"}],                        {\"template\":{\"data\":{\"histogram2dcontour\":[{\"type\":\"histogram2dcontour\",\"colorbar\":{\"outlinewidth\":0,\"ticks\":\"\"},\"colorscale\":[[0.0,\"#0d0887\"],[0.1111111111111111,\"#46039f\"],[0.2222222222222222,\"#7201a8\"],[0.3333333333333333,\"#9c179e\"],[0.4444444444444444,\"#bd3786\"],[0.5555555555555556,\"#d8576b\"],[0.6666666666666666,\"#ed7953\"],[0.7777777777777778,\"#fb9f3a\"],[0.8888888888888888,\"#fdca26\"],[1.0,\"#f0f921\"]]}],\"choropleth\":[{\"type\":\"choropleth\",\"colorbar\":{\"outlinewidth\":0,\"ticks\":\"\"}}],\"histogram2d\":[{\"type\":\"histogram2d\",\"colorbar\":{\"outlinewidth\":0,\"ticks\":\"\"},\"colorscale\":[[0.0,\"#0d0887\"],[0.1111111111111111,\"#46039f\"],[0.2222222222222222,\"#7201a8\"],[0.3333333333333333,\"#9c179e\"],[0.4444444444444444,\"#bd3786\"],[0.5555555555555556,\"#d8576b\"],[0.6666666666666666,\"#ed7953\"],[0.7777777777777778,\"#fb9f3a\"],[0.8888888888888888,\"#fdca26\"],[1.0,\"#f0f921\"]]}],\"heatmap\":[{\"type\":\"heatmap\",\"colorbar\":{\"outlinewidth\":0,\"ticks\":\"\"},\"colorscale\":[[0.0,\"#0d0887\"],[0.1111111111111111,\"#46039f\"],[0.2222222222222222,\"#7201a8\"],[0.3333333333333333,\"#9c179e\"],[0.4444444444444444,\"#bd3786\"],[0.5555555555555556,\"#d8576b\"],[0.6666666666666666,\"#ed7953\"],[0.7777777777777778,\"#fb9f3a\"],[0.8888888888888888,\"#fdca26\"],[1.0,\"#f0f921\"]]}],\"heatmapgl\":[{\"type\":\"heatmapgl\",\"colorbar\":{\"outlinewidth\":0,\"ticks\":\"\"},\"colorscale\":[[0.0,\"#0d0887\"],[0.1111111111111111,\"#46039f\"],[0.2222222222222222,\"#7201a8\"],[0.3333333333333333,\"#9c179e\"],[0.4444444444444444,\"#bd3786\"],[0.5555555555555556,\"#d8576b\"],[0.6666666666666666,\"#ed7953\"],[0.7777777777777778,\"#fb9f3a\"],[0.8888888888888888,\"#fdca26\"],[1.0,\"#f0f921\"]]}],\"contourcarpet\":[{\"type\":\"contourcarpet\",\"colorbar\":{\"outlinewidth\":0,\"ticks\":\"\"}}],\"contour\":[{\"type\":\"contour\",\"colorbar\":{\"outlinewidth\":0,\"ticks\":\"\"},\"colorscale\":[[0.0,\"#0d0887\"],[0.1111111111111111,\"#46039f\"],[0.2222222222222222,\"#7201a8\"],[0.3333333333333333,\"#9c179e\"],[0.4444444444444444,\"#bd3786\"],[0.5555555555555556,\"#d8576b\"],[0.6666666666666666,\"#ed7953\"],[0.7777777777777778,\"#fb9f3a\"],[0.8888888888888888,\"#fdca26\"],[1.0,\"#f0f921\"]]}],\"surface\":[{\"type\":\"surface\",\"colorbar\":{\"outlinewidth\":0,\"ticks\":\"\"},\"colorscale\":[[0.0,\"#0d0887\"],[0.1111111111111111,\"#46039f\"],[0.2222222222222222,\"#7201a8\"],[0.3333333333333333,\"#9c179e\"],[0.4444444444444444,\"#bd3786\"],[0.5555555555555556,\"#d8576b\"],[0.6666666666666666,\"#ed7953\"],[0.7777777777777778,\"#fb9f3a\"],[0.8888888888888888,\"#fdca26\"],[1.0,\"#f0f921\"]]}],\"mesh3d\":[{\"type\":\"mesh3d\",\"colorbar\":{\"outlinewidth\":0,\"ticks\":\"\"}}],\"scatter\":[{\"fillpattern\":{\"fillmode\":\"overlay\",\"size\":10,\"solidity\":0.2},\"type\":\"scatter\"}],\"parcoords\":[{\"type\":\"parcoords\",\"line\":{\"colorbar\":{\"outlinewidth\":0,\"ticks\":\"\"}}}],\"scatterpolargl\":[{\"type\":\"scatterpolargl\",\"marker\":{\"colorbar\":{\"outlinewidth\":0,\"ticks\":\"\"}}}],\"bar\":[{\"error_x\":{\"color\":\"#2a3f5f\"},\"error_y\":{\"color\":\"#2a3f5f\"},\"marker\":{\"line\":{\"color\":\"#E5ECF6\",\"width\":0.5},\"pattern\":{\"fillmode\":\"overlay\",\"size\":10,\"solidity\":0.2}},\"type\":\"bar\"}],\"scattergeo\":[{\"type\":\"scattergeo\",\"marker\":{\"colorbar\":{\"outlinewidth\":0,\"ticks\":\"\"}}}],\"scatterpolar\":[{\"type\":\"scatterpolar\",\"marker\":{\"colorbar\":{\"outlinewidth\":0,\"ticks\":\"\"}}}],\"histogram\":[{\"marker\":{\"pattern\":{\"fillmode\":\"overlay\",\"size\":10,\"solidity\":0.2}},\"type\":\"histogram\"}],\"scattergl\":[{\"type\":\"scattergl\",\"marker\":{\"colorbar\":{\"outlinewidth\":0,\"ticks\":\"\"}}}],\"scatter3d\":[{\"type\":\"scatter3d\",\"line\":{\"colorbar\":{\"outlinewidth\":0,\"ticks\":\"\"}},\"marker\":{\"colorbar\":{\"outlinewidth\":0,\"ticks\":\"\"}}}],\"scattermapbox\":[{\"type\":\"scattermapbox\",\"marker\":{\"colorbar\":{\"outlinewidth\":0,\"ticks\":\"\"}}}],\"scatterternary\":[{\"type\":\"scatterternary\",\"marker\":{\"colorbar\":{\"outlinewidth\":0,\"ticks\":\"\"}}}],\"scattercarpet\":[{\"type\":\"scattercarpet\",\"marker\":{\"colorbar\":{\"outlinewidth\":0,\"ticks\":\"\"}}}],\"carpet\":[{\"aaxis\":{\"endlinecolor\":\"#2a3f5f\",\"gridcolor\":\"white\",\"linecolor\":\"white\",\"minorgridcolor\":\"white\",\"startlinecolor\":\"#2a3f5f\"},\"baxis\":{\"endlinecolor\":\"#2a3f5f\",\"gridcolor\":\"white\",\"linecolor\":\"white\",\"minorgridcolor\":\"white\",\"startlinecolor\":\"#2a3f5f\"},\"type\":\"carpet\"}],\"table\":[{\"cells\":{\"fill\":{\"color\":\"#EBF0F8\"},\"line\":{\"color\":\"white\"}},\"header\":{\"fill\":{\"color\":\"#C8D4E3\"},\"line\":{\"color\":\"white\"}},\"type\":\"table\"}],\"barpolar\":[{\"marker\":{\"line\":{\"color\":\"#E5ECF6\",\"width\":0.5},\"pattern\":{\"fillmode\":\"overlay\",\"size\":10,\"solidity\":0.2}},\"type\":\"barpolar\"}],\"pie\":[{\"automargin\":true,\"type\":\"pie\"}]},\"layout\":{\"autotypenumbers\":\"strict\",\"colorway\":[\"#636efa\",\"#EF553B\",\"#00cc96\",\"#ab63fa\",\"#FFA15A\",\"#19d3f3\",\"#FF6692\",\"#B6E880\",\"#FF97FF\",\"#FECB52\"],\"font\":{\"color\":\"#2a3f5f\"},\"hovermode\":\"closest\",\"hoverlabel\":{\"align\":\"left\"},\"paper_bgcolor\":\"white\",\"plot_bgcolor\":\"#E5ECF6\",\"polar\":{\"bgcolor\":\"#E5ECF6\",\"angularaxis\":{\"gridcolor\":\"white\",\"linecolor\":\"white\",\"ticks\":\"\"},\"radialaxis\":{\"gridcolor\":\"white\",\"linecolor\":\"white\",\"ticks\":\"\"}},\"ternary\":{\"bgcolor\":\"#E5ECF6\",\"aaxis\":{\"gridcolor\":\"white\",\"linecolor\":\"white\",\"ticks\":\"\"},\"baxis\":{\"gridcolor\":\"white\",\"linecolor\":\"white\",\"ticks\":\"\"},\"caxis\":{\"gridcolor\":\"white\",\"linecolor\":\"white\",\"ticks\":\"\"}},\"coloraxis\":{\"colorbar\":{\"outlinewidth\":0,\"ticks\":\"\"}},\"colorscale\":{\"sequential\":[[0.0,\"#0d0887\"],[0.1111111111111111,\"#46039f\"],[0.2222222222222222,\"#7201a8\"],[0.3333333333333333,\"#9c179e\"],[0.4444444444444444,\"#bd3786\"],[0.5555555555555556,\"#d8576b\"],[0.6666666666666666,\"#ed7953\"],[0.7777777777777778,\"#fb9f3a\"],[0.8888888888888888,\"#fdca26\"],[1.0,\"#f0f921\"]],\"sequentialminus\":[[0.0,\"#0d0887\"],[0.1111111111111111,\"#46039f\"],[0.2222222222222222,\"#7201a8\"],[0.3333333333333333,\"#9c179e\"],[0.4444444444444444,\"#bd3786\"],[0.5555555555555556,\"#d8576b\"],[0.6666666666666666,\"#ed7953\"],[0.7777777777777778,\"#fb9f3a\"],[0.8888888888888888,\"#fdca26\"],[1.0,\"#f0f921\"]],\"diverging\":[[0,\"#8e0152\"],[0.1,\"#c51b7d\"],[0.2,\"#de77ae\"],[0.3,\"#f1b6da\"],[0.4,\"#fde0ef\"],[0.5,\"#f7f7f7\"],[0.6,\"#e6f5d0\"],[0.7,\"#b8e186\"],[0.8,\"#7fbc41\"],[0.9,\"#4d9221\"],[1,\"#276419\"]]},\"xaxis\":{\"gridcolor\":\"white\",\"linecolor\":\"white\",\"ticks\":\"\",\"title\":{\"standoff\":15},\"zerolinecolor\":\"white\",\"automargin\":true,\"zerolinewidth\":2},\"yaxis\":{\"gridcolor\":\"white\",\"linecolor\":\"white\",\"ticks\":\"\",\"title\":{\"standoff\":15},\"zerolinecolor\":\"white\",\"automargin\":true,\"zerolinewidth\":2},\"scene\":{\"xaxis\":{\"backgroundcolor\":\"#E5ECF6\",\"gridcolor\":\"white\",\"linecolor\":\"white\",\"showbackground\":true,\"ticks\":\"\",\"zerolinecolor\":\"white\",\"gridwidth\":2},\"yaxis\":{\"backgroundcolor\":\"#E5ECF6\",\"gridcolor\":\"white\",\"linecolor\":\"white\",\"showbackground\":true,\"ticks\":\"\",\"zerolinecolor\":\"white\",\"gridwidth\":2},\"zaxis\":{\"backgroundcolor\":\"#E5ECF6\",\"gridcolor\":\"white\",\"linecolor\":\"white\",\"showbackground\":true,\"ticks\":\"\",\"zerolinecolor\":\"white\",\"gridwidth\":2}},\"shapedefaults\":{\"line\":{\"color\":\"#2a3f5f\"}},\"annotationdefaults\":{\"arrowcolor\":\"#2a3f5f\",\"arrowhead\":0,\"arrowwidth\":1},\"geo\":{\"bgcolor\":\"white\",\"landcolor\":\"#E5ECF6\",\"subunitcolor\":\"white\",\"showland\":true,\"showlakes\":true,\"lakecolor\":\"white\"},\"title\":{\"x\":0.05},\"mapbox\":{\"style\":\"light\"}}},\"xaxis\":{\"anchor\":\"y\",\"domain\":[0.0,1.0],\"title\":{\"text\":\"a\"}},\"yaxis\":{\"anchor\":\"x\",\"domain\":[0.0,1.0],\"title\":{\"text\":\"b\"}},\"legend\":{\"title\":{\"text\":\"class\"},\"tracegroupgap\":0},\"margin\":{\"t\":60},\"height\":560,\"width\":560},                        {\"responsive\": true}                    ).then(function(){\n",
       "                            \n",
       "var gd = document.getElementById('35191133-eecc-41e9-a1fe-c5a46a439ad1');\n",
       "var x = new MutationObserver(function (mutations, observer) {{\n",
       "        var display = window.getComputedStyle(gd).display;\n",
       "        if (!display || display === 'none') {{\n",
       "            console.log([gd, 'removed!']);\n",
       "            Plotly.purge(gd);\n",
       "            observer.disconnect();\n",
       "        }}\n",
       "}});\n",
       "\n",
       "// Listen for the removal of the full notebook cells\n",
       "var notebookContainer = gd.closest('#notebook-container');\n",
       "if (notebookContainer) {{\n",
       "    x.observe(notebookContainer, {childList: true});\n",
       "}}\n",
       "\n",
       "// Listen for the clearing of the current output cell\n",
       "var outputEl = gd.closest('.output');\n",
       "if (outputEl) {{\n",
       "    x.observe(outputEl, {childList: true});\n",
       "}}\n",
       "\n",
       "                        })                };                });            </script>        </div>"
      ]
     },
     "metadata": {},
     "output_type": "display_data"
    }
   ],
   "source": [
    "fig = px.scatter(df, x='a',\n",
    "            y='b',\n",
    "            color='class',\n",
    "            height=560,\n",
    "            width=560,\n",
    "            )\n",
    "fig.show()"
   ]
  },
  {
   "cell_type": "code",
   "execution_count": 11,
   "metadata": {},
   "outputs": [
    {
     "name": "stdout",
     "output_type": "stream",
     "text": [
      "Rules original\n",
      "IF b = <7.87, inf) THEN class = {1} (p = 10.0, n = 0.0, P = 47.0, N = 53.0, weight = 0.6063829787234043, pvalue = 0.00029913195740550953)\n",
      "IF a = (-inf, 7.70) AND b = <6.81, inf) THEN class = {1} (p = 15.0, n = 0.0, P = 47.0, N = 53.0, weight = 0.6595744680851063, pvalue = 2.9668462928026348e-06)\n",
      "IF a = (-inf, 3.16) AND b = <1.91, inf) THEN class = {1} (p = 29.0, n = 0.0, P = 47.0, N = 53.0, weight = 0.8085106382978724, pvalue = 3.681173272700711e-13)\n",
      "IF a = (-inf, 6.87) AND b = <5.40, inf) THEN class = {1} (p = 26.0, n = 0.0, P = 47.0, N = 53.0, weight = 0.7765957446808511, pvalue = 1.7941983175154166e-11)\n",
      "IF b = (-inf, 1.37) THEN class = {0} (p = 12.0, n = 0.0, P = 53.0, N = 47.0, weight = 0.6132075471698113, pvalue = 0.0002539773316889682)\n",
      "IF a = <5.89, inf) AND b = (-inf, 6.39) THEN class = {0} (p = 29.0, n = 0.0, P = 53.0, N = 47.0, weight = 0.7735849056603774, pvalue = 6.278824168962018e-11)\n",
      "IF a = <5.52, inf) AND b = (-inf, 8.03) THEN class = {0} (p = 35.0, n = 1.0, P = 53.0, N = 47.0, weight = 0.7811231544671932, pvalue = 1.5523605394066561e-12)\n",
      "IF a = <3.86, inf) AND b = (-inf, 5.70) THEN class = {0} (p = 33.0, n = 0.0, P = 53.0, N = 47.0, weight = 0.8113207547169812, pvalue = 6.86665112098578e-13)\n",
      "\n",
      "\n",
      "Complex rules\n",
      "IF a < b THEN class = {1} (p = 47.0, n = 0.0, P = 47.0, N = 53.0, weight = 1.0, pvalue = 1.1846448146925825e-29)\n",
      "IF a > b THEN class = {0} (p = 53.0, n = 0.0, P = 53.0, N = 47.0, weight = 1.0, pvalue = 1.1846448146925825e-29)\n",
      "\n",
      "\n",
      "Complex rules + inners alternatives\n",
      "IF a < b THEN class = {1} (p = 47.0, n = 0.0, P = 47.0, N = 53.0, weight = 1.0, pvalue = 1.1846448146925825e-29)\n",
      "IF a > b THEN class = {0} (p = 53.0, n = 0.0, P = 53.0, N = 47.0, weight = 1.0, pvalue = 1.1846448146925825e-29)\n"
     ]
    }
   ],
   "source": [
    "X = df.drop(['class'], axis=1)\n",
    "y = df['class']\n",
    "\n",
    "clf_simple.fit(X, y)\n",
    "\n",
    "print(\"Rules original\")\n",
    "for rule in clf_simple.model.rules:\n",
    "    print(rule, rule.stats)\n",
    "\n",
    "print(\"\\n\\nComplex rules\")\n",
    "clf_complex.fit(X, y)\n",
    "for rule in clf_complex.model.rules:\n",
    "    print(rule, rule.stats)\n",
    "\n",
    "print(\"\\n\\nComplex rules + inners alternatives\")\n",
    "clf_complex_with_inners.fit(X, y)\n",
    "for rule in clf_complex_with_inners.model.rules:\n",
    "    print(rule, rule.stats)"
   ]
  },
  {
   "attachments": {},
   "cell_type": "markdown",
   "metadata": {},
   "source": [
    "## a>b"
   ]
  },
  {
   "cell_type": "code",
   "execution_count": 52,
   "metadata": {},
   "outputs": [
    {
     "data": {
      "text/html": [
       "<div>\n",
       "<style scoped>\n",
       "    .dataframe tbody tr th:only-of-type {\n",
       "        vertical-align: middle;\n",
       "    }\n",
       "\n",
       "    .dataframe tbody tr th {\n",
       "        vertical-align: top;\n",
       "    }\n",
       "\n",
       "    .dataframe thead th {\n",
       "        text-align: right;\n",
       "    }\n",
       "</style>\n",
       "<table border=\"1\" class=\"dataframe\">\n",
       "  <thead>\n",
       "    <tr style=\"text-align: right;\">\n",
       "      <th></th>\n",
       "      <th>a</th>\n",
       "      <th>b</th>\n",
       "      <th>class</th>\n",
       "    </tr>\n",
       "  </thead>\n",
       "  <tbody>\n",
       "    <tr>\n",
       "      <th>0</th>\n",
       "      <td>1.26</td>\n",
       "      <td>8.21</td>\n",
       "      <td>0</td>\n",
       "    </tr>\n",
       "    <tr>\n",
       "      <th>1</th>\n",
       "      <td>0.93</td>\n",
       "      <td>5.20</td>\n",
       "      <td>0</td>\n",
       "    </tr>\n",
       "    <tr>\n",
       "      <th>2</th>\n",
       "      <td>3.88</td>\n",
       "      <td>2.45</td>\n",
       "      <td>1</td>\n",
       "    </tr>\n",
       "    <tr>\n",
       "      <th>3</th>\n",
       "      <td>6.84</td>\n",
       "      <td>6.08</td>\n",
       "      <td>1</td>\n",
       "    </tr>\n",
       "    <tr>\n",
       "      <th>4</th>\n",
       "      <td>1.88</td>\n",
       "      <td>2.23</td>\n",
       "      <td>0</td>\n",
       "    </tr>\n",
       "    <tr>\n",
       "      <th>...</th>\n",
       "      <td>...</td>\n",
       "      <td>...</td>\n",
       "      <td>...</td>\n",
       "    </tr>\n",
       "    <tr>\n",
       "      <th>95</th>\n",
       "      <td>2.48</td>\n",
       "      <td>5.41</td>\n",
       "      <td>0</td>\n",
       "    </tr>\n",
       "    <tr>\n",
       "      <th>96</th>\n",
       "      <td>0.16</td>\n",
       "      <td>5.41</td>\n",
       "      <td>0</td>\n",
       "    </tr>\n",
       "    <tr>\n",
       "      <th>97</th>\n",
       "      <td>8.14</td>\n",
       "      <td>0.77</td>\n",
       "      <td>1</td>\n",
       "    </tr>\n",
       "    <tr>\n",
       "      <th>98</th>\n",
       "      <td>2.29</td>\n",
       "      <td>8.91</td>\n",
       "      <td>0</td>\n",
       "    </tr>\n",
       "    <tr>\n",
       "      <th>99</th>\n",
       "      <td>2.15</td>\n",
       "      <td>3.02</td>\n",
       "      <td>0</td>\n",
       "    </tr>\n",
       "  </tbody>\n",
       "</table>\n",
       "<p>100 rows × 3 columns</p>\n",
       "</div>"
      ],
      "text/plain": [
       "       a     b class\n",
       "0   1.26  8.21     0\n",
       "1   0.93  5.20     0\n",
       "2   3.88  2.45     1\n",
       "3   6.84  6.08     1\n",
       "4   1.88  2.23     0\n",
       "..   ...   ...   ...\n",
       "95  2.48  5.41     0\n",
       "96  0.16  5.41     0\n",
       "97  8.14  0.77     1\n",
       "98  2.29  8.91     0\n",
       "99  2.15  3.02     0\n",
       "\n",
       "[100 rows x 3 columns]"
      ]
     },
     "execution_count": 52,
     "metadata": {},
     "output_type": "execute_result"
    }
   ],
   "source": [
    "df = pd.DataFrame(columns=[\"a\", \"b\", \"class\"], index = [i for i in range(0,100)])\n",
    "\n",
    "\n",
    "a = [round(random.uniform(0, 9),2) for i in range(100)]\n",
    "b = [round(random.uniform(0, 9),2) for i in range(100)]\n",
    "\n",
    "df[\"a\"] = a\n",
    "df[\"b\"] = b\n",
    "\n",
    "df.loc[(df[\"a\"] > df[\"b\"]),\"class\"] = \"1\"\n",
    "df = df.fillna(\"0\")\n",
    "df"
   ]
  },
  {
   "cell_type": "code",
   "execution_count": 53,
   "metadata": {},
   "outputs": [
    {
     "data": {
      "application/vnd.plotly.v1+json": {
       "config": {
        "plotlyServerURL": "https://plot.ly"
       },
       "data": [
        {
         "hovertemplate": "class=0<br>a=%{x}<br>b=%{y}<extra></extra>",
         "legendgroup": "0",
         "marker": {
          "color": "#636efa",
          "symbol": "circle"
         },
         "mode": "markers",
         "name": "0",
         "orientation": "v",
         "showlegend": true,
         "type": "scatter",
         "x": [
          1.26,
          0.93,
          1.88,
          1.15,
          5.95,
          2.5,
          0.85,
          2.18,
          0.23,
          1.56,
          0.26,
          4.87,
          0.87,
          1.05,
          3.11,
          1.94,
          3.87,
          1.83,
          5.78,
          1.95,
          1.15,
          1.77,
          4.42,
          0.85,
          1.6,
          2.1,
          4.01,
          7.3,
          3.36,
          2.42,
          0.39,
          0.61,
          2.36,
          2.38,
          5.39,
          4.02,
          0.95,
          1.12,
          1.49,
          1.09,
          6.75,
          1.8,
          8.76,
          2.5,
          5.03,
          1.51,
          0.19,
          5.81,
          2.06,
          3.41,
          2.48,
          0.16,
          2.29,
          2.15
         ],
         "xaxis": "x",
         "y": [
          8.21,
          5.2,
          2.23,
          8.82,
          6.58,
          8.09,
          1.45,
          7.31,
          3.3,
          5.44,
          7.98,
          6.39,
          7.94,
          2.96,
          7.21,
          6.64,
          8.98,
          4.05,
          6.42,
          6.16,
          7.15,
          6.89,
          6.29,
          4.74,
          3.04,
          4.88,
          6.29,
          7.78,
          5.95,
          6.87,
          4.63,
          7,
          6.11,
          8.64,
          6.4,
          5.05,
          6.26,
          5.38,
          5.3,
          4.96,
          8.25,
          7.12,
          8.85,
          2.77,
          5.45,
          1.92,
          4.5,
          7.05,
          5.16,
          7.99,
          5.41,
          5.41,
          8.91,
          3.02
         ],
         "yaxis": "y"
        },
        {
         "hovertemplate": "class=1<br>a=%{x}<br>b=%{y}<extra></extra>",
         "legendgroup": "1",
         "marker": {
          "color": "#EF553B",
          "symbol": "circle"
         },
         "mode": "markers",
         "name": "1",
         "orientation": "v",
         "showlegend": true,
         "type": "scatter",
         "x": [
          3.88,
          6.84,
          8.13,
          8.65,
          8.1,
          8.48,
          7.11,
          4.47,
          4.99,
          6.21,
          8.78,
          8.36,
          8.84,
          8.36,
          4.23,
          4.11,
          7.31,
          2.88,
          7.9,
          6.38,
          5.48,
          3.75,
          7.57,
          7.41,
          0.53,
          7.86,
          4.36,
          4.62,
          7.22,
          6.33,
          7.72,
          5.31,
          8.12,
          8.61,
          5.99,
          0.87,
          7.58,
          3.25,
          7.18,
          7.2,
          2.27,
          5.84,
          5.51,
          5.68,
          4.87,
          8.14
         ],
         "xaxis": "x",
         "y": [
          2.45,
          6.08,
          7.6,
          0.25,
          3.69,
          4.17,
          3.02,
          2.77,
          2.71,
          1.64,
          3.78,
          1.7,
          0.13,
          3.46,
          0.46,
          3.02,
          6.87,
          1.86,
          6.43,
          5.71,
          5.25,
          3.56,
          1.75,
          0.61,
          0.2,
          7.12,
          2.83,
          0.32,
          6.36,
          5.74,
          0.38,
          1.1,
          2.81,
          0.9,
          3.62,
          0.04,
          5.1,
          0.3,
          4.04,
          2.08,
          2.08,
          1.38,
          0.56,
          0.9,
          3.87,
          0.77
         ],
         "yaxis": "y"
        }
       ],
       "layout": {
        "height": 560,
        "legend": {
         "title": {
          "text": "class"
         },
         "tracegroupgap": 0
        },
        "margin": {
         "t": 60
        },
        "template": {
         "data": {
          "bar": [
           {
            "error_x": {
             "color": "#2a3f5f"
            },
            "error_y": {
             "color": "#2a3f5f"
            },
            "marker": {
             "line": {
              "color": "#E5ECF6",
              "width": 0.5
             },
             "pattern": {
              "fillmode": "overlay",
              "size": 10,
              "solidity": 0.2
             }
            },
            "type": "bar"
           }
          ],
          "barpolar": [
           {
            "marker": {
             "line": {
              "color": "#E5ECF6",
              "width": 0.5
             },
             "pattern": {
              "fillmode": "overlay",
              "size": 10,
              "solidity": 0.2
             }
            },
            "type": "barpolar"
           }
          ],
          "carpet": [
           {
            "aaxis": {
             "endlinecolor": "#2a3f5f",
             "gridcolor": "white",
             "linecolor": "white",
             "minorgridcolor": "white",
             "startlinecolor": "#2a3f5f"
            },
            "baxis": {
             "endlinecolor": "#2a3f5f",
             "gridcolor": "white",
             "linecolor": "white",
             "minorgridcolor": "white",
             "startlinecolor": "#2a3f5f"
            },
            "type": "carpet"
           }
          ],
          "choropleth": [
           {
            "colorbar": {
             "outlinewidth": 0,
             "ticks": ""
            },
            "type": "choropleth"
           }
          ],
          "contour": [
           {
            "colorbar": {
             "outlinewidth": 0,
             "ticks": ""
            },
            "colorscale": [
             [
              0,
              "#0d0887"
             ],
             [
              0.1111111111111111,
              "#46039f"
             ],
             [
              0.2222222222222222,
              "#7201a8"
             ],
             [
              0.3333333333333333,
              "#9c179e"
             ],
             [
              0.4444444444444444,
              "#bd3786"
             ],
             [
              0.5555555555555556,
              "#d8576b"
             ],
             [
              0.6666666666666666,
              "#ed7953"
             ],
             [
              0.7777777777777778,
              "#fb9f3a"
             ],
             [
              0.8888888888888888,
              "#fdca26"
             ],
             [
              1,
              "#f0f921"
             ]
            ],
            "type": "contour"
           }
          ],
          "contourcarpet": [
           {
            "colorbar": {
             "outlinewidth": 0,
             "ticks": ""
            },
            "type": "contourcarpet"
           }
          ],
          "heatmap": [
           {
            "colorbar": {
             "outlinewidth": 0,
             "ticks": ""
            },
            "colorscale": [
             [
              0,
              "#0d0887"
             ],
             [
              0.1111111111111111,
              "#46039f"
             ],
             [
              0.2222222222222222,
              "#7201a8"
             ],
             [
              0.3333333333333333,
              "#9c179e"
             ],
             [
              0.4444444444444444,
              "#bd3786"
             ],
             [
              0.5555555555555556,
              "#d8576b"
             ],
             [
              0.6666666666666666,
              "#ed7953"
             ],
             [
              0.7777777777777778,
              "#fb9f3a"
             ],
             [
              0.8888888888888888,
              "#fdca26"
             ],
             [
              1,
              "#f0f921"
             ]
            ],
            "type": "heatmap"
           }
          ],
          "heatmapgl": [
           {
            "colorbar": {
             "outlinewidth": 0,
             "ticks": ""
            },
            "colorscale": [
             [
              0,
              "#0d0887"
             ],
             [
              0.1111111111111111,
              "#46039f"
             ],
             [
              0.2222222222222222,
              "#7201a8"
             ],
             [
              0.3333333333333333,
              "#9c179e"
             ],
             [
              0.4444444444444444,
              "#bd3786"
             ],
             [
              0.5555555555555556,
              "#d8576b"
             ],
             [
              0.6666666666666666,
              "#ed7953"
             ],
             [
              0.7777777777777778,
              "#fb9f3a"
             ],
             [
              0.8888888888888888,
              "#fdca26"
             ],
             [
              1,
              "#f0f921"
             ]
            ],
            "type": "heatmapgl"
           }
          ],
          "histogram": [
           {
            "marker": {
             "pattern": {
              "fillmode": "overlay",
              "size": 10,
              "solidity": 0.2
             }
            },
            "type": "histogram"
           }
          ],
          "histogram2d": [
           {
            "colorbar": {
             "outlinewidth": 0,
             "ticks": ""
            },
            "colorscale": [
             [
              0,
              "#0d0887"
             ],
             [
              0.1111111111111111,
              "#46039f"
             ],
             [
              0.2222222222222222,
              "#7201a8"
             ],
             [
              0.3333333333333333,
              "#9c179e"
             ],
             [
              0.4444444444444444,
              "#bd3786"
             ],
             [
              0.5555555555555556,
              "#d8576b"
             ],
             [
              0.6666666666666666,
              "#ed7953"
             ],
             [
              0.7777777777777778,
              "#fb9f3a"
             ],
             [
              0.8888888888888888,
              "#fdca26"
             ],
             [
              1,
              "#f0f921"
             ]
            ],
            "type": "histogram2d"
           }
          ],
          "histogram2dcontour": [
           {
            "colorbar": {
             "outlinewidth": 0,
             "ticks": ""
            },
            "colorscale": [
             [
              0,
              "#0d0887"
             ],
             [
              0.1111111111111111,
              "#46039f"
             ],
             [
              0.2222222222222222,
              "#7201a8"
             ],
             [
              0.3333333333333333,
              "#9c179e"
             ],
             [
              0.4444444444444444,
              "#bd3786"
             ],
             [
              0.5555555555555556,
              "#d8576b"
             ],
             [
              0.6666666666666666,
              "#ed7953"
             ],
             [
              0.7777777777777778,
              "#fb9f3a"
             ],
             [
              0.8888888888888888,
              "#fdca26"
             ],
             [
              1,
              "#f0f921"
             ]
            ],
            "type": "histogram2dcontour"
           }
          ],
          "mesh3d": [
           {
            "colorbar": {
             "outlinewidth": 0,
             "ticks": ""
            },
            "type": "mesh3d"
           }
          ],
          "parcoords": [
           {
            "line": {
             "colorbar": {
              "outlinewidth": 0,
              "ticks": ""
             }
            },
            "type": "parcoords"
           }
          ],
          "pie": [
           {
            "automargin": true,
            "type": "pie"
           }
          ],
          "scatter": [
           {
            "fillpattern": {
             "fillmode": "overlay",
             "size": 10,
             "solidity": 0.2
            },
            "type": "scatter"
           }
          ],
          "scatter3d": [
           {
            "line": {
             "colorbar": {
              "outlinewidth": 0,
              "ticks": ""
             }
            },
            "marker": {
             "colorbar": {
              "outlinewidth": 0,
              "ticks": ""
             }
            },
            "type": "scatter3d"
           }
          ],
          "scattercarpet": [
           {
            "marker": {
             "colorbar": {
              "outlinewidth": 0,
              "ticks": ""
             }
            },
            "type": "scattercarpet"
           }
          ],
          "scattergeo": [
           {
            "marker": {
             "colorbar": {
              "outlinewidth": 0,
              "ticks": ""
             }
            },
            "type": "scattergeo"
           }
          ],
          "scattergl": [
           {
            "marker": {
             "colorbar": {
              "outlinewidth": 0,
              "ticks": ""
             }
            },
            "type": "scattergl"
           }
          ],
          "scattermapbox": [
           {
            "marker": {
             "colorbar": {
              "outlinewidth": 0,
              "ticks": ""
             }
            },
            "type": "scattermapbox"
           }
          ],
          "scatterpolar": [
           {
            "marker": {
             "colorbar": {
              "outlinewidth": 0,
              "ticks": ""
             }
            },
            "type": "scatterpolar"
           }
          ],
          "scatterpolargl": [
           {
            "marker": {
             "colorbar": {
              "outlinewidth": 0,
              "ticks": ""
             }
            },
            "type": "scatterpolargl"
           }
          ],
          "scatterternary": [
           {
            "marker": {
             "colorbar": {
              "outlinewidth": 0,
              "ticks": ""
             }
            },
            "type": "scatterternary"
           }
          ],
          "surface": [
           {
            "colorbar": {
             "outlinewidth": 0,
             "ticks": ""
            },
            "colorscale": [
             [
              0,
              "#0d0887"
             ],
             [
              0.1111111111111111,
              "#46039f"
             ],
             [
              0.2222222222222222,
              "#7201a8"
             ],
             [
              0.3333333333333333,
              "#9c179e"
             ],
             [
              0.4444444444444444,
              "#bd3786"
             ],
             [
              0.5555555555555556,
              "#d8576b"
             ],
             [
              0.6666666666666666,
              "#ed7953"
             ],
             [
              0.7777777777777778,
              "#fb9f3a"
             ],
             [
              0.8888888888888888,
              "#fdca26"
             ],
             [
              1,
              "#f0f921"
             ]
            ],
            "type": "surface"
           }
          ],
          "table": [
           {
            "cells": {
             "fill": {
              "color": "#EBF0F8"
             },
             "line": {
              "color": "white"
             }
            },
            "header": {
             "fill": {
              "color": "#C8D4E3"
             },
             "line": {
              "color": "white"
             }
            },
            "type": "table"
           }
          ]
         },
         "layout": {
          "annotationdefaults": {
           "arrowcolor": "#2a3f5f",
           "arrowhead": 0,
           "arrowwidth": 1
          },
          "autotypenumbers": "strict",
          "coloraxis": {
           "colorbar": {
            "outlinewidth": 0,
            "ticks": ""
           }
          },
          "colorscale": {
           "diverging": [
            [
             0,
             "#8e0152"
            ],
            [
             0.1,
             "#c51b7d"
            ],
            [
             0.2,
             "#de77ae"
            ],
            [
             0.3,
             "#f1b6da"
            ],
            [
             0.4,
             "#fde0ef"
            ],
            [
             0.5,
             "#f7f7f7"
            ],
            [
             0.6,
             "#e6f5d0"
            ],
            [
             0.7,
             "#b8e186"
            ],
            [
             0.8,
             "#7fbc41"
            ],
            [
             0.9,
             "#4d9221"
            ],
            [
             1,
             "#276419"
            ]
           ],
           "sequential": [
            [
             0,
             "#0d0887"
            ],
            [
             0.1111111111111111,
             "#46039f"
            ],
            [
             0.2222222222222222,
             "#7201a8"
            ],
            [
             0.3333333333333333,
             "#9c179e"
            ],
            [
             0.4444444444444444,
             "#bd3786"
            ],
            [
             0.5555555555555556,
             "#d8576b"
            ],
            [
             0.6666666666666666,
             "#ed7953"
            ],
            [
             0.7777777777777778,
             "#fb9f3a"
            ],
            [
             0.8888888888888888,
             "#fdca26"
            ],
            [
             1,
             "#f0f921"
            ]
           ],
           "sequentialminus": [
            [
             0,
             "#0d0887"
            ],
            [
             0.1111111111111111,
             "#46039f"
            ],
            [
             0.2222222222222222,
             "#7201a8"
            ],
            [
             0.3333333333333333,
             "#9c179e"
            ],
            [
             0.4444444444444444,
             "#bd3786"
            ],
            [
             0.5555555555555556,
             "#d8576b"
            ],
            [
             0.6666666666666666,
             "#ed7953"
            ],
            [
             0.7777777777777778,
             "#fb9f3a"
            ],
            [
             0.8888888888888888,
             "#fdca26"
            ],
            [
             1,
             "#f0f921"
            ]
           ]
          },
          "colorway": [
           "#636efa",
           "#EF553B",
           "#00cc96",
           "#ab63fa",
           "#FFA15A",
           "#19d3f3",
           "#FF6692",
           "#B6E880",
           "#FF97FF",
           "#FECB52"
          ],
          "font": {
           "color": "#2a3f5f"
          },
          "geo": {
           "bgcolor": "white",
           "lakecolor": "white",
           "landcolor": "#E5ECF6",
           "showlakes": true,
           "showland": true,
           "subunitcolor": "white"
          },
          "hoverlabel": {
           "align": "left"
          },
          "hovermode": "closest",
          "mapbox": {
           "style": "light"
          },
          "paper_bgcolor": "white",
          "plot_bgcolor": "#E5ECF6",
          "polar": {
           "angularaxis": {
            "gridcolor": "white",
            "linecolor": "white",
            "ticks": ""
           },
           "bgcolor": "#E5ECF6",
           "radialaxis": {
            "gridcolor": "white",
            "linecolor": "white",
            "ticks": ""
           }
          },
          "scene": {
           "xaxis": {
            "backgroundcolor": "#E5ECF6",
            "gridcolor": "white",
            "gridwidth": 2,
            "linecolor": "white",
            "showbackground": true,
            "ticks": "",
            "zerolinecolor": "white"
           },
           "yaxis": {
            "backgroundcolor": "#E5ECF6",
            "gridcolor": "white",
            "gridwidth": 2,
            "linecolor": "white",
            "showbackground": true,
            "ticks": "",
            "zerolinecolor": "white"
           },
           "zaxis": {
            "backgroundcolor": "#E5ECF6",
            "gridcolor": "white",
            "gridwidth": 2,
            "linecolor": "white",
            "showbackground": true,
            "ticks": "",
            "zerolinecolor": "white"
           }
          },
          "shapedefaults": {
           "line": {
            "color": "#2a3f5f"
           }
          },
          "ternary": {
           "aaxis": {
            "gridcolor": "white",
            "linecolor": "white",
            "ticks": ""
           },
           "baxis": {
            "gridcolor": "white",
            "linecolor": "white",
            "ticks": ""
           },
           "bgcolor": "#E5ECF6",
           "caxis": {
            "gridcolor": "white",
            "linecolor": "white",
            "ticks": ""
           }
          },
          "title": {
           "x": 0.05
          },
          "xaxis": {
           "automargin": true,
           "gridcolor": "white",
           "linecolor": "white",
           "ticks": "",
           "title": {
            "standoff": 15
           },
           "zerolinecolor": "white",
           "zerolinewidth": 2
          },
          "yaxis": {
           "automargin": true,
           "gridcolor": "white",
           "linecolor": "white",
           "ticks": "",
           "title": {
            "standoff": 15
           },
           "zerolinecolor": "white",
           "zerolinewidth": 2
          }
         }
        },
        "width": 560,
        "xaxis": {
         "anchor": "y",
         "domain": [
          0,
          1
         ],
         "title": {
          "text": "a"
         }
        },
        "yaxis": {
         "anchor": "x",
         "domain": [
          0,
          1
         ],
         "title": {
          "text": "b"
         }
        }
       }
      },
      "text/html": [
       "<div>                            <div id=\"3fc7cc03-c173-4f0e-be06-c1c0e4f7fb18\" class=\"plotly-graph-div\" style=\"height:560px; width:560px;\"></div>            <script type=\"text/javascript\">                require([\"plotly\"], function(Plotly) {                    window.PLOTLYENV=window.PLOTLYENV || {};                                    if (document.getElementById(\"3fc7cc03-c173-4f0e-be06-c1c0e4f7fb18\")) {                    Plotly.newPlot(                        \"3fc7cc03-c173-4f0e-be06-c1c0e4f7fb18\",                        [{\"hovertemplate\":\"class=0<br>a=%{x}<br>b=%{y}<extra></extra>\",\"legendgroup\":\"0\",\"marker\":{\"color\":\"#636efa\",\"symbol\":\"circle\"},\"mode\":\"markers\",\"name\":\"0\",\"orientation\":\"v\",\"showlegend\":true,\"x\":[1.26,0.93,1.88,1.15,5.95,2.5,0.85,2.18,0.23,1.56,0.26,4.87,0.87,1.05,3.11,1.94,3.87,1.83,5.78,1.95,1.15,1.77,4.42,0.85,1.6,2.1,4.01,7.3,3.36,2.42,0.39,0.61,2.36,2.38,5.39,4.02,0.95,1.12,1.49,1.09,6.75,1.8,8.76,2.5,5.03,1.51,0.19,5.81,2.06,3.41,2.48,0.16,2.29,2.15],\"xaxis\":\"x\",\"y\":[8.21,5.2,2.23,8.82,6.58,8.09,1.45,7.31,3.3,5.44,7.98,6.39,7.94,2.96,7.21,6.64,8.98,4.05,6.42,6.16,7.15,6.89,6.29,4.74,3.04,4.88,6.29,7.78,5.95,6.87,4.63,7.0,6.11,8.64,6.4,5.05,6.26,5.38,5.3,4.96,8.25,7.12,8.85,2.77,5.45,1.92,4.5,7.05,5.16,7.99,5.41,5.41,8.91,3.02],\"yaxis\":\"y\",\"type\":\"scatter\"},{\"hovertemplate\":\"class=1<br>a=%{x}<br>b=%{y}<extra></extra>\",\"legendgroup\":\"1\",\"marker\":{\"color\":\"#EF553B\",\"symbol\":\"circle\"},\"mode\":\"markers\",\"name\":\"1\",\"orientation\":\"v\",\"showlegend\":true,\"x\":[3.88,6.84,8.13,8.65,8.1,8.48,7.11,4.47,4.99,6.21,8.78,8.36,8.84,8.36,4.23,4.11,7.31,2.88,7.9,6.38,5.48,3.75,7.57,7.41,0.53,7.86,4.36,4.62,7.22,6.33,7.72,5.31,8.12,8.61,5.99,0.87,7.58,3.25,7.18,7.2,2.27,5.84,5.51,5.68,4.87,8.14],\"xaxis\":\"x\",\"y\":[2.45,6.08,7.6,0.25,3.69,4.17,3.02,2.77,2.71,1.64,3.78,1.7,0.13,3.46,0.46,3.02,6.87,1.86,6.43,5.71,5.25,3.56,1.75,0.61,0.2,7.12,2.83,0.32,6.36,5.74,0.38,1.1,2.81,0.9,3.62,0.04,5.1,0.3,4.04,2.08,2.08,1.38,0.56,0.9,3.87,0.77],\"yaxis\":\"y\",\"type\":\"scatter\"}],                        {\"template\":{\"data\":{\"histogram2dcontour\":[{\"type\":\"histogram2dcontour\",\"colorbar\":{\"outlinewidth\":0,\"ticks\":\"\"},\"colorscale\":[[0.0,\"#0d0887\"],[0.1111111111111111,\"#46039f\"],[0.2222222222222222,\"#7201a8\"],[0.3333333333333333,\"#9c179e\"],[0.4444444444444444,\"#bd3786\"],[0.5555555555555556,\"#d8576b\"],[0.6666666666666666,\"#ed7953\"],[0.7777777777777778,\"#fb9f3a\"],[0.8888888888888888,\"#fdca26\"],[1.0,\"#f0f921\"]]}],\"choropleth\":[{\"type\":\"choropleth\",\"colorbar\":{\"outlinewidth\":0,\"ticks\":\"\"}}],\"histogram2d\":[{\"type\":\"histogram2d\",\"colorbar\":{\"outlinewidth\":0,\"ticks\":\"\"},\"colorscale\":[[0.0,\"#0d0887\"],[0.1111111111111111,\"#46039f\"],[0.2222222222222222,\"#7201a8\"],[0.3333333333333333,\"#9c179e\"],[0.4444444444444444,\"#bd3786\"],[0.5555555555555556,\"#d8576b\"],[0.6666666666666666,\"#ed7953\"],[0.7777777777777778,\"#fb9f3a\"],[0.8888888888888888,\"#fdca26\"],[1.0,\"#f0f921\"]]}],\"heatmap\":[{\"type\":\"heatmap\",\"colorbar\":{\"outlinewidth\":0,\"ticks\":\"\"},\"colorscale\":[[0.0,\"#0d0887\"],[0.1111111111111111,\"#46039f\"],[0.2222222222222222,\"#7201a8\"],[0.3333333333333333,\"#9c179e\"],[0.4444444444444444,\"#bd3786\"],[0.5555555555555556,\"#d8576b\"],[0.6666666666666666,\"#ed7953\"],[0.7777777777777778,\"#fb9f3a\"],[0.8888888888888888,\"#fdca26\"],[1.0,\"#f0f921\"]]}],\"heatmapgl\":[{\"type\":\"heatmapgl\",\"colorbar\":{\"outlinewidth\":0,\"ticks\":\"\"},\"colorscale\":[[0.0,\"#0d0887\"],[0.1111111111111111,\"#46039f\"],[0.2222222222222222,\"#7201a8\"],[0.3333333333333333,\"#9c179e\"],[0.4444444444444444,\"#bd3786\"],[0.5555555555555556,\"#d8576b\"],[0.6666666666666666,\"#ed7953\"],[0.7777777777777778,\"#fb9f3a\"],[0.8888888888888888,\"#fdca26\"],[1.0,\"#f0f921\"]]}],\"contourcarpet\":[{\"type\":\"contourcarpet\",\"colorbar\":{\"outlinewidth\":0,\"ticks\":\"\"}}],\"contour\":[{\"type\":\"contour\",\"colorbar\":{\"outlinewidth\":0,\"ticks\":\"\"},\"colorscale\":[[0.0,\"#0d0887\"],[0.1111111111111111,\"#46039f\"],[0.2222222222222222,\"#7201a8\"],[0.3333333333333333,\"#9c179e\"],[0.4444444444444444,\"#bd3786\"],[0.5555555555555556,\"#d8576b\"],[0.6666666666666666,\"#ed7953\"],[0.7777777777777778,\"#fb9f3a\"],[0.8888888888888888,\"#fdca26\"],[1.0,\"#f0f921\"]]}],\"surface\":[{\"type\":\"surface\",\"colorbar\":{\"outlinewidth\":0,\"ticks\":\"\"},\"colorscale\":[[0.0,\"#0d0887\"],[0.1111111111111111,\"#46039f\"],[0.2222222222222222,\"#7201a8\"],[0.3333333333333333,\"#9c179e\"],[0.4444444444444444,\"#bd3786\"],[0.5555555555555556,\"#d8576b\"],[0.6666666666666666,\"#ed7953\"],[0.7777777777777778,\"#fb9f3a\"],[0.8888888888888888,\"#fdca26\"],[1.0,\"#f0f921\"]]}],\"mesh3d\":[{\"type\":\"mesh3d\",\"colorbar\":{\"outlinewidth\":0,\"ticks\":\"\"}}],\"scatter\":[{\"fillpattern\":{\"fillmode\":\"overlay\",\"size\":10,\"solidity\":0.2},\"type\":\"scatter\"}],\"parcoords\":[{\"type\":\"parcoords\",\"line\":{\"colorbar\":{\"outlinewidth\":0,\"ticks\":\"\"}}}],\"scatterpolargl\":[{\"type\":\"scatterpolargl\",\"marker\":{\"colorbar\":{\"outlinewidth\":0,\"ticks\":\"\"}}}],\"bar\":[{\"error_x\":{\"color\":\"#2a3f5f\"},\"error_y\":{\"color\":\"#2a3f5f\"},\"marker\":{\"line\":{\"color\":\"#E5ECF6\",\"width\":0.5},\"pattern\":{\"fillmode\":\"overlay\",\"size\":10,\"solidity\":0.2}},\"type\":\"bar\"}],\"scattergeo\":[{\"type\":\"scattergeo\",\"marker\":{\"colorbar\":{\"outlinewidth\":0,\"ticks\":\"\"}}}],\"scatterpolar\":[{\"type\":\"scatterpolar\",\"marker\":{\"colorbar\":{\"outlinewidth\":0,\"ticks\":\"\"}}}],\"histogram\":[{\"marker\":{\"pattern\":{\"fillmode\":\"overlay\",\"size\":10,\"solidity\":0.2}},\"type\":\"histogram\"}],\"scattergl\":[{\"type\":\"scattergl\",\"marker\":{\"colorbar\":{\"outlinewidth\":0,\"ticks\":\"\"}}}],\"scatter3d\":[{\"type\":\"scatter3d\",\"line\":{\"colorbar\":{\"outlinewidth\":0,\"ticks\":\"\"}},\"marker\":{\"colorbar\":{\"outlinewidth\":0,\"ticks\":\"\"}}}],\"scattermapbox\":[{\"type\":\"scattermapbox\",\"marker\":{\"colorbar\":{\"outlinewidth\":0,\"ticks\":\"\"}}}],\"scatterternary\":[{\"type\":\"scatterternary\",\"marker\":{\"colorbar\":{\"outlinewidth\":0,\"ticks\":\"\"}}}],\"scattercarpet\":[{\"type\":\"scattercarpet\",\"marker\":{\"colorbar\":{\"outlinewidth\":0,\"ticks\":\"\"}}}],\"carpet\":[{\"aaxis\":{\"endlinecolor\":\"#2a3f5f\",\"gridcolor\":\"white\",\"linecolor\":\"white\",\"minorgridcolor\":\"white\",\"startlinecolor\":\"#2a3f5f\"},\"baxis\":{\"endlinecolor\":\"#2a3f5f\",\"gridcolor\":\"white\",\"linecolor\":\"white\",\"minorgridcolor\":\"white\",\"startlinecolor\":\"#2a3f5f\"},\"type\":\"carpet\"}],\"table\":[{\"cells\":{\"fill\":{\"color\":\"#EBF0F8\"},\"line\":{\"color\":\"white\"}},\"header\":{\"fill\":{\"color\":\"#C8D4E3\"},\"line\":{\"color\":\"white\"}},\"type\":\"table\"}],\"barpolar\":[{\"marker\":{\"line\":{\"color\":\"#E5ECF6\",\"width\":0.5},\"pattern\":{\"fillmode\":\"overlay\",\"size\":10,\"solidity\":0.2}},\"type\":\"barpolar\"}],\"pie\":[{\"automargin\":true,\"type\":\"pie\"}]},\"layout\":{\"autotypenumbers\":\"strict\",\"colorway\":[\"#636efa\",\"#EF553B\",\"#00cc96\",\"#ab63fa\",\"#FFA15A\",\"#19d3f3\",\"#FF6692\",\"#B6E880\",\"#FF97FF\",\"#FECB52\"],\"font\":{\"color\":\"#2a3f5f\"},\"hovermode\":\"closest\",\"hoverlabel\":{\"align\":\"left\"},\"paper_bgcolor\":\"white\",\"plot_bgcolor\":\"#E5ECF6\",\"polar\":{\"bgcolor\":\"#E5ECF6\",\"angularaxis\":{\"gridcolor\":\"white\",\"linecolor\":\"white\",\"ticks\":\"\"},\"radialaxis\":{\"gridcolor\":\"white\",\"linecolor\":\"white\",\"ticks\":\"\"}},\"ternary\":{\"bgcolor\":\"#E5ECF6\",\"aaxis\":{\"gridcolor\":\"white\",\"linecolor\":\"white\",\"ticks\":\"\"},\"baxis\":{\"gridcolor\":\"white\",\"linecolor\":\"white\",\"ticks\":\"\"},\"caxis\":{\"gridcolor\":\"white\",\"linecolor\":\"white\",\"ticks\":\"\"}},\"coloraxis\":{\"colorbar\":{\"outlinewidth\":0,\"ticks\":\"\"}},\"colorscale\":{\"sequential\":[[0.0,\"#0d0887\"],[0.1111111111111111,\"#46039f\"],[0.2222222222222222,\"#7201a8\"],[0.3333333333333333,\"#9c179e\"],[0.4444444444444444,\"#bd3786\"],[0.5555555555555556,\"#d8576b\"],[0.6666666666666666,\"#ed7953\"],[0.7777777777777778,\"#fb9f3a\"],[0.8888888888888888,\"#fdca26\"],[1.0,\"#f0f921\"]],\"sequentialminus\":[[0.0,\"#0d0887\"],[0.1111111111111111,\"#46039f\"],[0.2222222222222222,\"#7201a8\"],[0.3333333333333333,\"#9c179e\"],[0.4444444444444444,\"#bd3786\"],[0.5555555555555556,\"#d8576b\"],[0.6666666666666666,\"#ed7953\"],[0.7777777777777778,\"#fb9f3a\"],[0.8888888888888888,\"#fdca26\"],[1.0,\"#f0f921\"]],\"diverging\":[[0,\"#8e0152\"],[0.1,\"#c51b7d\"],[0.2,\"#de77ae\"],[0.3,\"#f1b6da\"],[0.4,\"#fde0ef\"],[0.5,\"#f7f7f7\"],[0.6,\"#e6f5d0\"],[0.7,\"#b8e186\"],[0.8,\"#7fbc41\"],[0.9,\"#4d9221\"],[1,\"#276419\"]]},\"xaxis\":{\"gridcolor\":\"white\",\"linecolor\":\"white\",\"ticks\":\"\",\"title\":{\"standoff\":15},\"zerolinecolor\":\"white\",\"automargin\":true,\"zerolinewidth\":2},\"yaxis\":{\"gridcolor\":\"white\",\"linecolor\":\"white\",\"ticks\":\"\",\"title\":{\"standoff\":15},\"zerolinecolor\":\"white\",\"automargin\":true,\"zerolinewidth\":2},\"scene\":{\"xaxis\":{\"backgroundcolor\":\"#E5ECF6\",\"gridcolor\":\"white\",\"linecolor\":\"white\",\"showbackground\":true,\"ticks\":\"\",\"zerolinecolor\":\"white\",\"gridwidth\":2},\"yaxis\":{\"backgroundcolor\":\"#E5ECF6\",\"gridcolor\":\"white\",\"linecolor\":\"white\",\"showbackground\":true,\"ticks\":\"\",\"zerolinecolor\":\"white\",\"gridwidth\":2},\"zaxis\":{\"backgroundcolor\":\"#E5ECF6\",\"gridcolor\":\"white\",\"linecolor\":\"white\",\"showbackground\":true,\"ticks\":\"\",\"zerolinecolor\":\"white\",\"gridwidth\":2}},\"shapedefaults\":{\"line\":{\"color\":\"#2a3f5f\"}},\"annotationdefaults\":{\"arrowcolor\":\"#2a3f5f\",\"arrowhead\":0,\"arrowwidth\":1},\"geo\":{\"bgcolor\":\"white\",\"landcolor\":\"#E5ECF6\",\"subunitcolor\":\"white\",\"showland\":true,\"showlakes\":true,\"lakecolor\":\"white\"},\"title\":{\"x\":0.05},\"mapbox\":{\"style\":\"light\"}}},\"xaxis\":{\"anchor\":\"y\",\"domain\":[0.0,1.0],\"title\":{\"text\":\"a\"}},\"yaxis\":{\"anchor\":\"x\",\"domain\":[0.0,1.0],\"title\":{\"text\":\"b\"}},\"legend\":{\"title\":{\"text\":\"class\"},\"tracegroupgap\":0},\"margin\":{\"t\":60},\"height\":560,\"width\":560},                        {\"responsive\": true}                    ).then(function(){\n",
       "                            \n",
       "var gd = document.getElementById('3fc7cc03-c173-4f0e-be06-c1c0e4f7fb18');\n",
       "var x = new MutationObserver(function (mutations, observer) {{\n",
       "        var display = window.getComputedStyle(gd).display;\n",
       "        if (!display || display === 'none') {{\n",
       "            console.log([gd, 'removed!']);\n",
       "            Plotly.purge(gd);\n",
       "            observer.disconnect();\n",
       "        }}\n",
       "}});\n",
       "\n",
       "// Listen for the removal of the full notebook cells\n",
       "var notebookContainer = gd.closest('#notebook-container');\n",
       "if (notebookContainer) {{\n",
       "    x.observe(notebookContainer, {childList: true});\n",
       "}}\n",
       "\n",
       "// Listen for the clearing of the current output cell\n",
       "var outputEl = gd.closest('.output');\n",
       "if (outputEl) {{\n",
       "    x.observe(outputEl, {childList: true});\n",
       "}}\n",
       "\n",
       "                        })                };                });            </script>        </div>"
      ]
     },
     "metadata": {},
     "output_type": "display_data"
    }
   ],
   "source": [
    "fig = px.scatter(df, x='a',\n",
    "            y='b',\n",
    "            color='class',\n",
    "            height=560,\n",
    "            width=560,\n",
    "            )\n",
    "fig.show()"
   ]
  },
  {
   "cell_type": "code",
   "execution_count": 54,
   "metadata": {},
   "outputs": [
    {
     "name": "stdout",
     "output_type": "stream",
     "text": [
      "Rules original\n",
      "IF a = (-inf, 2.69) AND b = <2.16, inf) THEN class = {0} (p = 36.0, n = 0.0, P = 54.0, N = 46.0, weight = 0.8333333333333333, pvalue = 4.9021911770736793e-14)\n",
      "IF a = (-inf, 3.58) AND b = <0.88, inf) THEN class = {0} (p = 41.0, n = 2.0, P = 54.0, N = 46.0, weight = 0.7906883121746622, pvalue = 3.0507399732960576e-14)\n",
      "IF a = (-inf, 5.44) AND b = <4.34, inf) THEN class = {0} (p = 39.0, n = 0.0, P = 54.0, N = 46.0, weight = 0.8611111111111112, pvalue = 9.601065669383949e-16)\n",
      "IF a = (-inf, 7.31) AND b = <6.38, inf) THEN class = {0} (p = 24.0, n = 0.0, P = 54.0, N = 46.0, weight = 0.7222222222222222, pvalue = 1.7582458796469314e-08)\n",
      "IF b = (-inf, 1.42) THEN class = {1} (p = 15.0, n = 0.0, P = 46.0, N = 54.0, weight = 0.6630434782608696, pvalue = 2.0199804546741444e-06)\n",
      "IF a = <5.97, inf) AND b = (-inf, 7.69) THEN class = {1} (p = 27.0, n = 0.0, P = 46.0, N = 54.0, weight = 0.7934782608695652, pvalue = 2.1666569676724535e-12)\n",
      "IF a = <2.69, inf) AND b = (-inf, 2.90) THEN class = {1} (p = 23.0, n = 0.0, P = 46.0, N = 54.0, weight = 0.75, pvalue = 3.311217061464636e-10)\n",
      "IF a = <2.21, inf) AND b = (-inf, 5.28) THEN class = {1} (p = 36.0, n = 2.0, P = 46.0, N = 54.0, weight = 0.8044325790321214, pvalue = 1.0393227785116023e-15)\n",
      "\n",
      "\n",
      "Complex rules\n",
      "IF a < b THEN class = {0} (p = 54.0, n = 0.0, P = 54.0, N = 46.0, weight = 1.0, pvalue = 1.361081276455314e-29)\n",
      "IF a > b THEN class = {1} (p = 46.0, n = 0.0, P = 46.0, N = 54.0, weight = 1.0, pvalue = 1.361081276455314e-29)\n",
      "\n",
      "\n",
      "Complex rules + inners alternatives\n",
      "IF a < b THEN class = {0} (p = 54.0, n = 0.0, P = 54.0, N = 46.0, weight = 1.0, pvalue = 1.361081276455314e-29)\n",
      "IF a > b THEN class = {1} (p = 46.0, n = 0.0, P = 46.0, N = 54.0, weight = 1.0, pvalue = 1.361081276455314e-29)\n"
     ]
    }
   ],
   "source": [
    "X = df.drop(['class'], axis=1)\n",
    "y = df['class']\n",
    "\n",
    "clf_simple.fit(X, y)\n",
    "\n",
    "print(\"Rules original\")\n",
    "for rule in clf_simple.model.rules:\n",
    "    print(rule, rule.stats)\n",
    "\n",
    "print(\"\\n\\nComplex rules\")\n",
    "clf_complex.fit(X, y)\n",
    "for rule in clf_complex.model.rules:\n",
    "    print(rule, rule.stats)\n",
    "\n",
    "print(\"\\n\\nComplex rules + inners alternatives\")\n",
    "clf_complex_with_inners.fit(X, y)\n",
    "for rule in clf_complex_with_inners.model.rules:\n",
    "    print(rule, rule.stats)"
   ]
  },
  {
   "attachments": {},
   "cell_type": "markdown",
   "metadata": {},
   "source": [
    "## a = b"
   ]
  },
  {
   "cell_type": "code",
   "execution_count": 14,
   "metadata": {},
   "outputs": [
    {
     "data": {
      "text/html": [
       "<div>\n",
       "<style scoped>\n",
       "    .dataframe tbody tr th:only-of-type {\n",
       "        vertical-align: middle;\n",
       "    }\n",
       "\n",
       "    .dataframe tbody tr th {\n",
       "        vertical-align: top;\n",
       "    }\n",
       "\n",
       "    .dataframe thead th {\n",
       "        text-align: right;\n",
       "    }\n",
       "</style>\n",
       "<table border=\"1\" class=\"dataframe\">\n",
       "  <thead>\n",
       "    <tr style=\"text-align: right;\">\n",
       "      <th></th>\n",
       "      <th>a</th>\n",
       "      <th>b</th>\n",
       "      <th>class</th>\n",
       "    </tr>\n",
       "  </thead>\n",
       "  <tbody>\n",
       "    <tr>\n",
       "      <th>0</th>\n",
       "      <td>4.66</td>\n",
       "      <td>4.46</td>\n",
       "      <td>0</td>\n",
       "    </tr>\n",
       "    <tr>\n",
       "      <th>1</th>\n",
       "      <td>7.11</td>\n",
       "      <td>8.91</td>\n",
       "      <td>0</td>\n",
       "    </tr>\n",
       "    <tr>\n",
       "      <th>2</th>\n",
       "      <td>5.17</td>\n",
       "      <td>8.06</td>\n",
       "      <td>0</td>\n",
       "    </tr>\n",
       "    <tr>\n",
       "      <th>3</th>\n",
       "      <td>3.67</td>\n",
       "      <td>8.45</td>\n",
       "      <td>0</td>\n",
       "    </tr>\n",
       "    <tr>\n",
       "      <th>4</th>\n",
       "      <td>8.24</td>\n",
       "      <td>6.17</td>\n",
       "      <td>0</td>\n",
       "    </tr>\n",
       "    <tr>\n",
       "      <th>...</th>\n",
       "      <td>...</td>\n",
       "      <td>...</td>\n",
       "      <td>...</td>\n",
       "    </tr>\n",
       "    <tr>\n",
       "      <th>95</th>\n",
       "      <td>6.39</td>\n",
       "      <td>6.39</td>\n",
       "      <td>1</td>\n",
       "    </tr>\n",
       "    <tr>\n",
       "      <th>96</th>\n",
       "      <td>2.79</td>\n",
       "      <td>2.79</td>\n",
       "      <td>1</td>\n",
       "    </tr>\n",
       "    <tr>\n",
       "      <th>97</th>\n",
       "      <td>0.13</td>\n",
       "      <td>0.13</td>\n",
       "      <td>1</td>\n",
       "    </tr>\n",
       "    <tr>\n",
       "      <th>98</th>\n",
       "      <td>1.11</td>\n",
       "      <td>1.11</td>\n",
       "      <td>1</td>\n",
       "    </tr>\n",
       "    <tr>\n",
       "      <th>99</th>\n",
       "      <td>1.53</td>\n",
       "      <td>1.53</td>\n",
       "      <td>1</td>\n",
       "    </tr>\n",
       "  </tbody>\n",
       "</table>\n",
       "<p>100 rows × 3 columns</p>\n",
       "</div>"
      ],
      "text/plain": [
       "       a     b class\n",
       "0   4.66  4.46     0\n",
       "1   7.11  8.91     0\n",
       "2   5.17  8.06     0\n",
       "3   3.67  8.45     0\n",
       "4   8.24  6.17     0\n",
       "..   ...   ...   ...\n",
       "95  6.39  6.39     1\n",
       "96  2.79  2.79     1\n",
       "97  0.13  0.13     1\n",
       "98  1.11  1.11     1\n",
       "99  1.53  1.53     1\n",
       "\n",
       "[100 rows x 3 columns]"
      ]
     },
     "execution_count": 14,
     "metadata": {},
     "output_type": "execute_result"
    }
   ],
   "source": [
    "df = pd.DataFrame(columns=[\"a\", \"b\", \"class\"], index = [i for i in range(0,100)])\n",
    "\n",
    "\n",
    "a = [round(random.uniform(0, 9),2) for i in range(100)]\n",
    "b = [round(random.uniform(0, 9),2) for i in range(100)]\n",
    "b[70:] = a[70:]\n",
    "df[\"a\"] = a\n",
    "df[\"b\"] = b\n",
    "\n",
    "df.loc[(df[\"a\"] == df[\"b\"]),\"class\"] = \"1\"\n",
    "df = df.fillna(\"0\")\n",
    "df"
   ]
  },
  {
   "cell_type": "code",
   "execution_count": 15,
   "metadata": {},
   "outputs": [
    {
     "data": {
      "application/vnd.plotly.v1+json": {
       "config": {
        "plotlyServerURL": "https://plot.ly"
       },
       "data": [
        {
         "hovertemplate": "class=0<br>a=%{x}<br>b=%{y}<extra></extra>",
         "legendgroup": "0",
         "marker": {
          "color": "#636efa",
          "symbol": "circle"
         },
         "mode": "markers",
         "name": "0",
         "orientation": "v",
         "showlegend": true,
         "type": "scatter",
         "x": [
          4.66,
          7.11,
          5.17,
          3.67,
          8.24,
          2.48,
          2.72,
          8.47,
          4.31,
          3.71,
          3.18,
          4.65,
          6.72,
          8.41,
          3.14,
          2.04,
          5.89,
          4.27,
          0.59,
          8.37,
          5.13,
          5.21,
          1.15,
          1.7,
          6.54,
          0.23,
          7.74,
          4.16,
          8.6,
          5.75,
          0.71,
          2.38,
          2.12,
          5.96,
          3.73,
          3.96,
          7.54,
          1.44,
          6.24,
          7.01,
          8.85,
          7.59,
          7.03,
          4.62,
          0.66,
          1.49,
          4.26,
          6.3,
          3.14,
          6.83,
          0.63,
          6.28,
          3.69,
          1.87,
          8.64,
          8.5,
          3.14,
          7.26,
          4.14,
          4.58,
          3.76,
          6.21,
          7.28,
          8.96,
          2.33,
          1.87,
          8.39,
          3.12,
          3.02,
          7.25
         ],
         "xaxis": "x",
         "y": [
          4.46,
          8.91,
          8.06,
          8.45,
          6.17,
          0.92,
          8.05,
          3.73,
          3.97,
          0.92,
          1.41,
          8.34,
          8.71,
          5.06,
          7.54,
          8.9,
          0.16,
          7.94,
          8.24,
          4.39,
          1.47,
          4.63,
          2.59,
          3.67,
          3.81,
          5.53,
          3.32,
          8.13,
          5.99,
          7.14,
          1.98,
          2.53,
          5.86,
          7.47,
          4.68,
          0.61,
          3.22,
          5.77,
          0.77,
          3.04,
          5.23,
          5.42,
          1.6,
          4.92,
          0.15,
          2.26,
          8.8,
          6.82,
          0.82,
          5.12,
          6,
          2.97,
          1.61,
          4.9,
          0.61,
          1.6,
          5.67,
          3,
          6.31,
          4.63,
          3.2,
          6.75,
          2.14,
          6.71,
          8.28,
          5.32,
          4.17,
          7.77,
          1.4,
          8.67
         ],
         "yaxis": "y"
        },
        {
         "hovertemplate": "class=1<br>a=%{x}<br>b=%{y}<extra></extra>",
         "legendgroup": "1",
         "marker": {
          "color": "#EF553B",
          "symbol": "circle"
         },
         "mode": "markers",
         "name": "1",
         "orientation": "v",
         "showlegend": true,
         "type": "scatter",
         "x": [
          4.81,
          3.31,
          5.12,
          1.61,
          6.02,
          8.06,
          2.51,
          2.86,
          6.82,
          6.78,
          8.24,
          7.35,
          4.33,
          2.41,
          5.77,
          6.72,
          4.93,
          8.3,
          5.62,
          0.09,
          3.88,
          5.26,
          4.63,
          0.78,
          6.96,
          6.39,
          2.79,
          0.13,
          1.11,
          1.53
         ],
         "xaxis": "x",
         "y": [
          4.81,
          3.31,
          5.12,
          1.61,
          6.02,
          8.06,
          2.51,
          2.86,
          6.82,
          6.78,
          8.24,
          7.35,
          4.33,
          2.41,
          5.77,
          6.72,
          4.93,
          8.3,
          5.62,
          0.09,
          3.88,
          5.26,
          4.63,
          0.78,
          6.96,
          6.39,
          2.79,
          0.13,
          1.11,
          1.53
         ],
         "yaxis": "y"
        }
       ],
       "layout": {
        "height": 560,
        "legend": {
         "title": {
          "text": "class"
         },
         "tracegroupgap": 0
        },
        "margin": {
         "t": 60
        },
        "template": {
         "data": {
          "bar": [
           {
            "error_x": {
             "color": "#2a3f5f"
            },
            "error_y": {
             "color": "#2a3f5f"
            },
            "marker": {
             "line": {
              "color": "#E5ECF6",
              "width": 0.5
             },
             "pattern": {
              "fillmode": "overlay",
              "size": 10,
              "solidity": 0.2
             }
            },
            "type": "bar"
           }
          ],
          "barpolar": [
           {
            "marker": {
             "line": {
              "color": "#E5ECF6",
              "width": 0.5
             },
             "pattern": {
              "fillmode": "overlay",
              "size": 10,
              "solidity": 0.2
             }
            },
            "type": "barpolar"
           }
          ],
          "carpet": [
           {
            "aaxis": {
             "endlinecolor": "#2a3f5f",
             "gridcolor": "white",
             "linecolor": "white",
             "minorgridcolor": "white",
             "startlinecolor": "#2a3f5f"
            },
            "baxis": {
             "endlinecolor": "#2a3f5f",
             "gridcolor": "white",
             "linecolor": "white",
             "minorgridcolor": "white",
             "startlinecolor": "#2a3f5f"
            },
            "type": "carpet"
           }
          ],
          "choropleth": [
           {
            "colorbar": {
             "outlinewidth": 0,
             "ticks": ""
            },
            "type": "choropleth"
           }
          ],
          "contour": [
           {
            "colorbar": {
             "outlinewidth": 0,
             "ticks": ""
            },
            "colorscale": [
             [
              0,
              "#0d0887"
             ],
             [
              0.1111111111111111,
              "#46039f"
             ],
             [
              0.2222222222222222,
              "#7201a8"
             ],
             [
              0.3333333333333333,
              "#9c179e"
             ],
             [
              0.4444444444444444,
              "#bd3786"
             ],
             [
              0.5555555555555556,
              "#d8576b"
             ],
             [
              0.6666666666666666,
              "#ed7953"
             ],
             [
              0.7777777777777778,
              "#fb9f3a"
             ],
             [
              0.8888888888888888,
              "#fdca26"
             ],
             [
              1,
              "#f0f921"
             ]
            ],
            "type": "contour"
           }
          ],
          "contourcarpet": [
           {
            "colorbar": {
             "outlinewidth": 0,
             "ticks": ""
            },
            "type": "contourcarpet"
           }
          ],
          "heatmap": [
           {
            "colorbar": {
             "outlinewidth": 0,
             "ticks": ""
            },
            "colorscale": [
             [
              0,
              "#0d0887"
             ],
             [
              0.1111111111111111,
              "#46039f"
             ],
             [
              0.2222222222222222,
              "#7201a8"
             ],
             [
              0.3333333333333333,
              "#9c179e"
             ],
             [
              0.4444444444444444,
              "#bd3786"
             ],
             [
              0.5555555555555556,
              "#d8576b"
             ],
             [
              0.6666666666666666,
              "#ed7953"
             ],
             [
              0.7777777777777778,
              "#fb9f3a"
             ],
             [
              0.8888888888888888,
              "#fdca26"
             ],
             [
              1,
              "#f0f921"
             ]
            ],
            "type": "heatmap"
           }
          ],
          "heatmapgl": [
           {
            "colorbar": {
             "outlinewidth": 0,
             "ticks": ""
            },
            "colorscale": [
             [
              0,
              "#0d0887"
             ],
             [
              0.1111111111111111,
              "#46039f"
             ],
             [
              0.2222222222222222,
              "#7201a8"
             ],
             [
              0.3333333333333333,
              "#9c179e"
             ],
             [
              0.4444444444444444,
              "#bd3786"
             ],
             [
              0.5555555555555556,
              "#d8576b"
             ],
             [
              0.6666666666666666,
              "#ed7953"
             ],
             [
              0.7777777777777778,
              "#fb9f3a"
             ],
             [
              0.8888888888888888,
              "#fdca26"
             ],
             [
              1,
              "#f0f921"
             ]
            ],
            "type": "heatmapgl"
           }
          ],
          "histogram": [
           {
            "marker": {
             "pattern": {
              "fillmode": "overlay",
              "size": 10,
              "solidity": 0.2
             }
            },
            "type": "histogram"
           }
          ],
          "histogram2d": [
           {
            "colorbar": {
             "outlinewidth": 0,
             "ticks": ""
            },
            "colorscale": [
             [
              0,
              "#0d0887"
             ],
             [
              0.1111111111111111,
              "#46039f"
             ],
             [
              0.2222222222222222,
              "#7201a8"
             ],
             [
              0.3333333333333333,
              "#9c179e"
             ],
             [
              0.4444444444444444,
              "#bd3786"
             ],
             [
              0.5555555555555556,
              "#d8576b"
             ],
             [
              0.6666666666666666,
              "#ed7953"
             ],
             [
              0.7777777777777778,
              "#fb9f3a"
             ],
             [
              0.8888888888888888,
              "#fdca26"
             ],
             [
              1,
              "#f0f921"
             ]
            ],
            "type": "histogram2d"
           }
          ],
          "histogram2dcontour": [
           {
            "colorbar": {
             "outlinewidth": 0,
             "ticks": ""
            },
            "colorscale": [
             [
              0,
              "#0d0887"
             ],
             [
              0.1111111111111111,
              "#46039f"
             ],
             [
              0.2222222222222222,
              "#7201a8"
             ],
             [
              0.3333333333333333,
              "#9c179e"
             ],
             [
              0.4444444444444444,
              "#bd3786"
             ],
             [
              0.5555555555555556,
              "#d8576b"
             ],
             [
              0.6666666666666666,
              "#ed7953"
             ],
             [
              0.7777777777777778,
              "#fb9f3a"
             ],
             [
              0.8888888888888888,
              "#fdca26"
             ],
             [
              1,
              "#f0f921"
             ]
            ],
            "type": "histogram2dcontour"
           }
          ],
          "mesh3d": [
           {
            "colorbar": {
             "outlinewidth": 0,
             "ticks": ""
            },
            "type": "mesh3d"
           }
          ],
          "parcoords": [
           {
            "line": {
             "colorbar": {
              "outlinewidth": 0,
              "ticks": ""
             }
            },
            "type": "parcoords"
           }
          ],
          "pie": [
           {
            "automargin": true,
            "type": "pie"
           }
          ],
          "scatter": [
           {
            "fillpattern": {
             "fillmode": "overlay",
             "size": 10,
             "solidity": 0.2
            },
            "type": "scatter"
           }
          ],
          "scatter3d": [
           {
            "line": {
             "colorbar": {
              "outlinewidth": 0,
              "ticks": ""
             }
            },
            "marker": {
             "colorbar": {
              "outlinewidth": 0,
              "ticks": ""
             }
            },
            "type": "scatter3d"
           }
          ],
          "scattercarpet": [
           {
            "marker": {
             "colorbar": {
              "outlinewidth": 0,
              "ticks": ""
             }
            },
            "type": "scattercarpet"
           }
          ],
          "scattergeo": [
           {
            "marker": {
             "colorbar": {
              "outlinewidth": 0,
              "ticks": ""
             }
            },
            "type": "scattergeo"
           }
          ],
          "scattergl": [
           {
            "marker": {
             "colorbar": {
              "outlinewidth": 0,
              "ticks": ""
             }
            },
            "type": "scattergl"
           }
          ],
          "scattermapbox": [
           {
            "marker": {
             "colorbar": {
              "outlinewidth": 0,
              "ticks": ""
             }
            },
            "type": "scattermapbox"
           }
          ],
          "scatterpolar": [
           {
            "marker": {
             "colorbar": {
              "outlinewidth": 0,
              "ticks": ""
             }
            },
            "type": "scatterpolar"
           }
          ],
          "scatterpolargl": [
           {
            "marker": {
             "colorbar": {
              "outlinewidth": 0,
              "ticks": ""
             }
            },
            "type": "scatterpolargl"
           }
          ],
          "scatterternary": [
           {
            "marker": {
             "colorbar": {
              "outlinewidth": 0,
              "ticks": ""
             }
            },
            "type": "scatterternary"
           }
          ],
          "surface": [
           {
            "colorbar": {
             "outlinewidth": 0,
             "ticks": ""
            },
            "colorscale": [
             [
              0,
              "#0d0887"
             ],
             [
              0.1111111111111111,
              "#46039f"
             ],
             [
              0.2222222222222222,
              "#7201a8"
             ],
             [
              0.3333333333333333,
              "#9c179e"
             ],
             [
              0.4444444444444444,
              "#bd3786"
             ],
             [
              0.5555555555555556,
              "#d8576b"
             ],
             [
              0.6666666666666666,
              "#ed7953"
             ],
             [
              0.7777777777777778,
              "#fb9f3a"
             ],
             [
              0.8888888888888888,
              "#fdca26"
             ],
             [
              1,
              "#f0f921"
             ]
            ],
            "type": "surface"
           }
          ],
          "table": [
           {
            "cells": {
             "fill": {
              "color": "#EBF0F8"
             },
             "line": {
              "color": "white"
             }
            },
            "header": {
             "fill": {
              "color": "#C8D4E3"
             },
             "line": {
              "color": "white"
             }
            },
            "type": "table"
           }
          ]
         },
         "layout": {
          "annotationdefaults": {
           "arrowcolor": "#2a3f5f",
           "arrowhead": 0,
           "arrowwidth": 1
          },
          "autotypenumbers": "strict",
          "coloraxis": {
           "colorbar": {
            "outlinewidth": 0,
            "ticks": ""
           }
          },
          "colorscale": {
           "diverging": [
            [
             0,
             "#8e0152"
            ],
            [
             0.1,
             "#c51b7d"
            ],
            [
             0.2,
             "#de77ae"
            ],
            [
             0.3,
             "#f1b6da"
            ],
            [
             0.4,
             "#fde0ef"
            ],
            [
             0.5,
             "#f7f7f7"
            ],
            [
             0.6,
             "#e6f5d0"
            ],
            [
             0.7,
             "#b8e186"
            ],
            [
             0.8,
             "#7fbc41"
            ],
            [
             0.9,
             "#4d9221"
            ],
            [
             1,
             "#276419"
            ]
           ],
           "sequential": [
            [
             0,
             "#0d0887"
            ],
            [
             0.1111111111111111,
             "#46039f"
            ],
            [
             0.2222222222222222,
             "#7201a8"
            ],
            [
             0.3333333333333333,
             "#9c179e"
            ],
            [
             0.4444444444444444,
             "#bd3786"
            ],
            [
             0.5555555555555556,
             "#d8576b"
            ],
            [
             0.6666666666666666,
             "#ed7953"
            ],
            [
             0.7777777777777778,
             "#fb9f3a"
            ],
            [
             0.8888888888888888,
             "#fdca26"
            ],
            [
             1,
             "#f0f921"
            ]
           ],
           "sequentialminus": [
            [
             0,
             "#0d0887"
            ],
            [
             0.1111111111111111,
             "#46039f"
            ],
            [
             0.2222222222222222,
             "#7201a8"
            ],
            [
             0.3333333333333333,
             "#9c179e"
            ],
            [
             0.4444444444444444,
             "#bd3786"
            ],
            [
             0.5555555555555556,
             "#d8576b"
            ],
            [
             0.6666666666666666,
             "#ed7953"
            ],
            [
             0.7777777777777778,
             "#fb9f3a"
            ],
            [
             0.8888888888888888,
             "#fdca26"
            ],
            [
             1,
             "#f0f921"
            ]
           ]
          },
          "colorway": [
           "#636efa",
           "#EF553B",
           "#00cc96",
           "#ab63fa",
           "#FFA15A",
           "#19d3f3",
           "#FF6692",
           "#B6E880",
           "#FF97FF",
           "#FECB52"
          ],
          "font": {
           "color": "#2a3f5f"
          },
          "geo": {
           "bgcolor": "white",
           "lakecolor": "white",
           "landcolor": "#E5ECF6",
           "showlakes": true,
           "showland": true,
           "subunitcolor": "white"
          },
          "hoverlabel": {
           "align": "left"
          },
          "hovermode": "closest",
          "mapbox": {
           "style": "light"
          },
          "paper_bgcolor": "white",
          "plot_bgcolor": "#E5ECF6",
          "polar": {
           "angularaxis": {
            "gridcolor": "white",
            "linecolor": "white",
            "ticks": ""
           },
           "bgcolor": "#E5ECF6",
           "radialaxis": {
            "gridcolor": "white",
            "linecolor": "white",
            "ticks": ""
           }
          },
          "scene": {
           "xaxis": {
            "backgroundcolor": "#E5ECF6",
            "gridcolor": "white",
            "gridwidth": 2,
            "linecolor": "white",
            "showbackground": true,
            "ticks": "",
            "zerolinecolor": "white"
           },
           "yaxis": {
            "backgroundcolor": "#E5ECF6",
            "gridcolor": "white",
            "gridwidth": 2,
            "linecolor": "white",
            "showbackground": true,
            "ticks": "",
            "zerolinecolor": "white"
           },
           "zaxis": {
            "backgroundcolor": "#E5ECF6",
            "gridcolor": "white",
            "gridwidth": 2,
            "linecolor": "white",
            "showbackground": true,
            "ticks": "",
            "zerolinecolor": "white"
           }
          },
          "shapedefaults": {
           "line": {
            "color": "#2a3f5f"
           }
          },
          "ternary": {
           "aaxis": {
            "gridcolor": "white",
            "linecolor": "white",
            "ticks": ""
           },
           "baxis": {
            "gridcolor": "white",
            "linecolor": "white",
            "ticks": ""
           },
           "bgcolor": "#E5ECF6",
           "caxis": {
            "gridcolor": "white",
            "linecolor": "white",
            "ticks": ""
           }
          },
          "title": {
           "x": 0.05
          },
          "xaxis": {
           "automargin": true,
           "gridcolor": "white",
           "linecolor": "white",
           "ticks": "",
           "title": {
            "standoff": 15
           },
           "zerolinecolor": "white",
           "zerolinewidth": 2
          },
          "yaxis": {
           "automargin": true,
           "gridcolor": "white",
           "linecolor": "white",
           "ticks": "",
           "title": {
            "standoff": 15
           },
           "zerolinecolor": "white",
           "zerolinewidth": 2
          }
         }
        },
        "width": 560,
        "xaxis": {
         "anchor": "y",
         "domain": [
          0,
          1
         ],
         "title": {
          "text": "a"
         }
        },
        "yaxis": {
         "anchor": "x",
         "domain": [
          0,
          1
         ],
         "title": {
          "text": "b"
         }
        }
       }
      },
      "text/html": [
       "<div>                            <div id=\"40c8c2c9-6845-480e-8ece-f2ae327ae567\" class=\"plotly-graph-div\" style=\"height:560px; width:560px;\"></div>            <script type=\"text/javascript\">                require([\"plotly\"], function(Plotly) {                    window.PLOTLYENV=window.PLOTLYENV || {};                                    if (document.getElementById(\"40c8c2c9-6845-480e-8ece-f2ae327ae567\")) {                    Plotly.newPlot(                        \"40c8c2c9-6845-480e-8ece-f2ae327ae567\",                        [{\"hovertemplate\":\"class=0<br>a=%{x}<br>b=%{y}<extra></extra>\",\"legendgroup\":\"0\",\"marker\":{\"color\":\"#636efa\",\"symbol\":\"circle\"},\"mode\":\"markers\",\"name\":\"0\",\"orientation\":\"v\",\"showlegend\":true,\"x\":[4.66,7.11,5.17,3.67,8.24,2.48,2.72,8.47,4.31,3.71,3.18,4.65,6.72,8.41,3.14,2.04,5.89,4.27,0.59,8.37,5.13,5.21,1.15,1.7,6.54,0.23,7.74,4.16,8.6,5.75,0.71,2.38,2.12,5.96,3.73,3.96,7.54,1.44,6.24,7.01,8.85,7.59,7.03,4.62,0.66,1.49,4.26,6.3,3.14,6.83,0.63,6.28,3.69,1.87,8.64,8.5,3.14,7.26,4.14,4.58,3.76,6.21,7.28,8.96,2.33,1.87,8.39,3.12,3.02,7.25],\"xaxis\":\"x\",\"y\":[4.46,8.91,8.06,8.45,6.17,0.92,8.05,3.73,3.97,0.92,1.41,8.34,8.71,5.06,7.54,8.9,0.16,7.94,8.24,4.39,1.47,4.63,2.59,3.67,3.81,5.53,3.32,8.13,5.99,7.14,1.98,2.53,5.86,7.47,4.68,0.61,3.22,5.77,0.77,3.04,5.23,5.42,1.6,4.92,0.15,2.26,8.8,6.82,0.82,5.12,6.0,2.97,1.61,4.9,0.61,1.6,5.67,3.0,6.31,4.63,3.2,6.75,2.14,6.71,8.28,5.32,4.17,7.77,1.4,8.67],\"yaxis\":\"y\",\"type\":\"scatter\"},{\"hovertemplate\":\"class=1<br>a=%{x}<br>b=%{y}<extra></extra>\",\"legendgroup\":\"1\",\"marker\":{\"color\":\"#EF553B\",\"symbol\":\"circle\"},\"mode\":\"markers\",\"name\":\"1\",\"orientation\":\"v\",\"showlegend\":true,\"x\":[4.81,3.31,5.12,1.61,6.02,8.06,2.51,2.86,6.82,6.78,8.24,7.35,4.33,2.41,5.77,6.72,4.93,8.3,5.62,0.09,3.88,5.26,4.63,0.78,6.96,6.39,2.79,0.13,1.11,1.53],\"xaxis\":\"x\",\"y\":[4.81,3.31,5.12,1.61,6.02,8.06,2.51,2.86,6.82,6.78,8.24,7.35,4.33,2.41,5.77,6.72,4.93,8.3,5.62,0.09,3.88,5.26,4.63,0.78,6.96,6.39,2.79,0.13,1.11,1.53],\"yaxis\":\"y\",\"type\":\"scatter\"}],                        {\"template\":{\"data\":{\"histogram2dcontour\":[{\"type\":\"histogram2dcontour\",\"colorbar\":{\"outlinewidth\":0,\"ticks\":\"\"},\"colorscale\":[[0.0,\"#0d0887\"],[0.1111111111111111,\"#46039f\"],[0.2222222222222222,\"#7201a8\"],[0.3333333333333333,\"#9c179e\"],[0.4444444444444444,\"#bd3786\"],[0.5555555555555556,\"#d8576b\"],[0.6666666666666666,\"#ed7953\"],[0.7777777777777778,\"#fb9f3a\"],[0.8888888888888888,\"#fdca26\"],[1.0,\"#f0f921\"]]}],\"choropleth\":[{\"type\":\"choropleth\",\"colorbar\":{\"outlinewidth\":0,\"ticks\":\"\"}}],\"histogram2d\":[{\"type\":\"histogram2d\",\"colorbar\":{\"outlinewidth\":0,\"ticks\":\"\"},\"colorscale\":[[0.0,\"#0d0887\"],[0.1111111111111111,\"#46039f\"],[0.2222222222222222,\"#7201a8\"],[0.3333333333333333,\"#9c179e\"],[0.4444444444444444,\"#bd3786\"],[0.5555555555555556,\"#d8576b\"],[0.6666666666666666,\"#ed7953\"],[0.7777777777777778,\"#fb9f3a\"],[0.8888888888888888,\"#fdca26\"],[1.0,\"#f0f921\"]]}],\"heatmap\":[{\"type\":\"heatmap\",\"colorbar\":{\"outlinewidth\":0,\"ticks\":\"\"},\"colorscale\":[[0.0,\"#0d0887\"],[0.1111111111111111,\"#46039f\"],[0.2222222222222222,\"#7201a8\"],[0.3333333333333333,\"#9c179e\"],[0.4444444444444444,\"#bd3786\"],[0.5555555555555556,\"#d8576b\"],[0.6666666666666666,\"#ed7953\"],[0.7777777777777778,\"#fb9f3a\"],[0.8888888888888888,\"#fdca26\"],[1.0,\"#f0f921\"]]}],\"heatmapgl\":[{\"type\":\"heatmapgl\",\"colorbar\":{\"outlinewidth\":0,\"ticks\":\"\"},\"colorscale\":[[0.0,\"#0d0887\"],[0.1111111111111111,\"#46039f\"],[0.2222222222222222,\"#7201a8\"],[0.3333333333333333,\"#9c179e\"],[0.4444444444444444,\"#bd3786\"],[0.5555555555555556,\"#d8576b\"],[0.6666666666666666,\"#ed7953\"],[0.7777777777777778,\"#fb9f3a\"],[0.8888888888888888,\"#fdca26\"],[1.0,\"#f0f921\"]]}],\"contourcarpet\":[{\"type\":\"contourcarpet\",\"colorbar\":{\"outlinewidth\":0,\"ticks\":\"\"}}],\"contour\":[{\"type\":\"contour\",\"colorbar\":{\"outlinewidth\":0,\"ticks\":\"\"},\"colorscale\":[[0.0,\"#0d0887\"],[0.1111111111111111,\"#46039f\"],[0.2222222222222222,\"#7201a8\"],[0.3333333333333333,\"#9c179e\"],[0.4444444444444444,\"#bd3786\"],[0.5555555555555556,\"#d8576b\"],[0.6666666666666666,\"#ed7953\"],[0.7777777777777778,\"#fb9f3a\"],[0.8888888888888888,\"#fdca26\"],[1.0,\"#f0f921\"]]}],\"surface\":[{\"type\":\"surface\",\"colorbar\":{\"outlinewidth\":0,\"ticks\":\"\"},\"colorscale\":[[0.0,\"#0d0887\"],[0.1111111111111111,\"#46039f\"],[0.2222222222222222,\"#7201a8\"],[0.3333333333333333,\"#9c179e\"],[0.4444444444444444,\"#bd3786\"],[0.5555555555555556,\"#d8576b\"],[0.6666666666666666,\"#ed7953\"],[0.7777777777777778,\"#fb9f3a\"],[0.8888888888888888,\"#fdca26\"],[1.0,\"#f0f921\"]]}],\"mesh3d\":[{\"type\":\"mesh3d\",\"colorbar\":{\"outlinewidth\":0,\"ticks\":\"\"}}],\"scatter\":[{\"fillpattern\":{\"fillmode\":\"overlay\",\"size\":10,\"solidity\":0.2},\"type\":\"scatter\"}],\"parcoords\":[{\"type\":\"parcoords\",\"line\":{\"colorbar\":{\"outlinewidth\":0,\"ticks\":\"\"}}}],\"scatterpolargl\":[{\"type\":\"scatterpolargl\",\"marker\":{\"colorbar\":{\"outlinewidth\":0,\"ticks\":\"\"}}}],\"bar\":[{\"error_x\":{\"color\":\"#2a3f5f\"},\"error_y\":{\"color\":\"#2a3f5f\"},\"marker\":{\"line\":{\"color\":\"#E5ECF6\",\"width\":0.5},\"pattern\":{\"fillmode\":\"overlay\",\"size\":10,\"solidity\":0.2}},\"type\":\"bar\"}],\"scattergeo\":[{\"type\":\"scattergeo\",\"marker\":{\"colorbar\":{\"outlinewidth\":0,\"ticks\":\"\"}}}],\"scatterpolar\":[{\"type\":\"scatterpolar\",\"marker\":{\"colorbar\":{\"outlinewidth\":0,\"ticks\":\"\"}}}],\"histogram\":[{\"marker\":{\"pattern\":{\"fillmode\":\"overlay\",\"size\":10,\"solidity\":0.2}},\"type\":\"histogram\"}],\"scattergl\":[{\"type\":\"scattergl\",\"marker\":{\"colorbar\":{\"outlinewidth\":0,\"ticks\":\"\"}}}],\"scatter3d\":[{\"type\":\"scatter3d\",\"line\":{\"colorbar\":{\"outlinewidth\":0,\"ticks\":\"\"}},\"marker\":{\"colorbar\":{\"outlinewidth\":0,\"ticks\":\"\"}}}],\"scattermapbox\":[{\"type\":\"scattermapbox\",\"marker\":{\"colorbar\":{\"outlinewidth\":0,\"ticks\":\"\"}}}],\"scatterternary\":[{\"type\":\"scatterternary\",\"marker\":{\"colorbar\":{\"outlinewidth\":0,\"ticks\":\"\"}}}],\"scattercarpet\":[{\"type\":\"scattercarpet\",\"marker\":{\"colorbar\":{\"outlinewidth\":0,\"ticks\":\"\"}}}],\"carpet\":[{\"aaxis\":{\"endlinecolor\":\"#2a3f5f\",\"gridcolor\":\"white\",\"linecolor\":\"white\",\"minorgridcolor\":\"white\",\"startlinecolor\":\"#2a3f5f\"},\"baxis\":{\"endlinecolor\":\"#2a3f5f\",\"gridcolor\":\"white\",\"linecolor\":\"white\",\"minorgridcolor\":\"white\",\"startlinecolor\":\"#2a3f5f\"},\"type\":\"carpet\"}],\"table\":[{\"cells\":{\"fill\":{\"color\":\"#EBF0F8\"},\"line\":{\"color\":\"white\"}},\"header\":{\"fill\":{\"color\":\"#C8D4E3\"},\"line\":{\"color\":\"white\"}},\"type\":\"table\"}],\"barpolar\":[{\"marker\":{\"line\":{\"color\":\"#E5ECF6\",\"width\":0.5},\"pattern\":{\"fillmode\":\"overlay\",\"size\":10,\"solidity\":0.2}},\"type\":\"barpolar\"}],\"pie\":[{\"automargin\":true,\"type\":\"pie\"}]},\"layout\":{\"autotypenumbers\":\"strict\",\"colorway\":[\"#636efa\",\"#EF553B\",\"#00cc96\",\"#ab63fa\",\"#FFA15A\",\"#19d3f3\",\"#FF6692\",\"#B6E880\",\"#FF97FF\",\"#FECB52\"],\"font\":{\"color\":\"#2a3f5f\"},\"hovermode\":\"closest\",\"hoverlabel\":{\"align\":\"left\"},\"paper_bgcolor\":\"white\",\"plot_bgcolor\":\"#E5ECF6\",\"polar\":{\"bgcolor\":\"#E5ECF6\",\"angularaxis\":{\"gridcolor\":\"white\",\"linecolor\":\"white\",\"ticks\":\"\"},\"radialaxis\":{\"gridcolor\":\"white\",\"linecolor\":\"white\",\"ticks\":\"\"}},\"ternary\":{\"bgcolor\":\"#E5ECF6\",\"aaxis\":{\"gridcolor\":\"white\",\"linecolor\":\"white\",\"ticks\":\"\"},\"baxis\":{\"gridcolor\":\"white\",\"linecolor\":\"white\",\"ticks\":\"\"},\"caxis\":{\"gridcolor\":\"white\",\"linecolor\":\"white\",\"ticks\":\"\"}},\"coloraxis\":{\"colorbar\":{\"outlinewidth\":0,\"ticks\":\"\"}},\"colorscale\":{\"sequential\":[[0.0,\"#0d0887\"],[0.1111111111111111,\"#46039f\"],[0.2222222222222222,\"#7201a8\"],[0.3333333333333333,\"#9c179e\"],[0.4444444444444444,\"#bd3786\"],[0.5555555555555556,\"#d8576b\"],[0.6666666666666666,\"#ed7953\"],[0.7777777777777778,\"#fb9f3a\"],[0.8888888888888888,\"#fdca26\"],[1.0,\"#f0f921\"]],\"sequentialminus\":[[0.0,\"#0d0887\"],[0.1111111111111111,\"#46039f\"],[0.2222222222222222,\"#7201a8\"],[0.3333333333333333,\"#9c179e\"],[0.4444444444444444,\"#bd3786\"],[0.5555555555555556,\"#d8576b\"],[0.6666666666666666,\"#ed7953\"],[0.7777777777777778,\"#fb9f3a\"],[0.8888888888888888,\"#fdca26\"],[1.0,\"#f0f921\"]],\"diverging\":[[0,\"#8e0152\"],[0.1,\"#c51b7d\"],[0.2,\"#de77ae\"],[0.3,\"#f1b6da\"],[0.4,\"#fde0ef\"],[0.5,\"#f7f7f7\"],[0.6,\"#e6f5d0\"],[0.7,\"#b8e186\"],[0.8,\"#7fbc41\"],[0.9,\"#4d9221\"],[1,\"#276419\"]]},\"xaxis\":{\"gridcolor\":\"white\",\"linecolor\":\"white\",\"ticks\":\"\",\"title\":{\"standoff\":15},\"zerolinecolor\":\"white\",\"automargin\":true,\"zerolinewidth\":2},\"yaxis\":{\"gridcolor\":\"white\",\"linecolor\":\"white\",\"ticks\":\"\",\"title\":{\"standoff\":15},\"zerolinecolor\":\"white\",\"automargin\":true,\"zerolinewidth\":2},\"scene\":{\"xaxis\":{\"backgroundcolor\":\"#E5ECF6\",\"gridcolor\":\"white\",\"linecolor\":\"white\",\"showbackground\":true,\"ticks\":\"\",\"zerolinecolor\":\"white\",\"gridwidth\":2},\"yaxis\":{\"backgroundcolor\":\"#E5ECF6\",\"gridcolor\":\"white\",\"linecolor\":\"white\",\"showbackground\":true,\"ticks\":\"\",\"zerolinecolor\":\"white\",\"gridwidth\":2},\"zaxis\":{\"backgroundcolor\":\"#E5ECF6\",\"gridcolor\":\"white\",\"linecolor\":\"white\",\"showbackground\":true,\"ticks\":\"\",\"zerolinecolor\":\"white\",\"gridwidth\":2}},\"shapedefaults\":{\"line\":{\"color\":\"#2a3f5f\"}},\"annotationdefaults\":{\"arrowcolor\":\"#2a3f5f\",\"arrowhead\":0,\"arrowwidth\":1},\"geo\":{\"bgcolor\":\"white\",\"landcolor\":\"#E5ECF6\",\"subunitcolor\":\"white\",\"showland\":true,\"showlakes\":true,\"lakecolor\":\"white\"},\"title\":{\"x\":0.05},\"mapbox\":{\"style\":\"light\"}}},\"xaxis\":{\"anchor\":\"y\",\"domain\":[0.0,1.0],\"title\":{\"text\":\"a\"}},\"yaxis\":{\"anchor\":\"x\",\"domain\":[0.0,1.0],\"title\":{\"text\":\"b\"}},\"legend\":{\"title\":{\"text\":\"class\"},\"tracegroupgap\":0},\"margin\":{\"t\":60},\"height\":560,\"width\":560},                        {\"responsive\": true}                    ).then(function(){\n",
       "                            \n",
       "var gd = document.getElementById('40c8c2c9-6845-480e-8ece-f2ae327ae567');\n",
       "var x = new MutationObserver(function (mutations, observer) {{\n",
       "        var display = window.getComputedStyle(gd).display;\n",
       "        if (!display || display === 'none') {{\n",
       "            console.log([gd, 'removed!']);\n",
       "            Plotly.purge(gd);\n",
       "            observer.disconnect();\n",
       "        }}\n",
       "}});\n",
       "\n",
       "// Listen for the removal of the full notebook cells\n",
       "var notebookContainer = gd.closest('#notebook-container');\n",
       "if (notebookContainer) {{\n",
       "    x.observe(notebookContainer, {childList: true});\n",
       "}}\n",
       "\n",
       "// Listen for the clearing of the current output cell\n",
       "var outputEl = gd.closest('.output');\n",
       "if (outputEl) {{\n",
       "    x.observe(outputEl, {childList: true});\n",
       "}}\n",
       "\n",
       "                        })                };                });            </script>        </div>"
      ]
     },
     "metadata": {},
     "output_type": "display_data"
    }
   ],
   "source": [
    "fig = px.scatter(df, x='a',\n",
    "            y='b',\n",
    "            color='class',\n",
    "            height=560,\n",
    "            width=560,\n",
    "            )\n",
    "fig.show()"
   ]
  },
  {
   "cell_type": "code",
   "execution_count": 16,
   "metadata": {},
   "outputs": [
    {
     "name": "stdout",
     "output_type": "stream",
     "text": [
      "Rules original\n",
      "IF a = <8.34, inf) THEN class = {0} (p = 9.0, n = 0.0, P = 70.0, N = 30.0, weight = 0.5642857142857143, pvalue = 0.03418801445376973)\n",
      "IF b = <8.32, inf) THEN class = {0} (p = 7.0, n = 0.0, P = 70.0, N = 30.0, weight = 0.55, pvalue = 0.07488803166063863)\n",
      "IF a = (-inf, 7.66) AND b = <7.41, inf) THEN class = {0} (p = 16.0, n = 0.0, P = 70.0, N = 30.0, weight = 0.6142857142857143, pvalue = 0.0018427538682743766)\n",
      "IF a = <6.98, inf) AND b = (-inf, 7.03) THEN class = {0} (p = 17.0, n = 0.0, P = 70.0, N = 30.0, weight = 0.6214285714285714, pvalue = 0.0011846274867478204)\n",
      "IF a = <6.12, inf) AND b = (-inf, 6.77) THEN class = {0} (p = 22.0, n = 2.0, P = 70.0, N = 30.0, weight = 0.47460317460317475, pvalue = 0.0053988010574116925)\n",
      "IF a = (-inf, 4.32) AND b = <3.93, inf) THEN class = {0} (p = 20.0, n = 0.0, P = 70.0, N = 30.0, weight = 0.6428571428571428, pvalue = 0.00030203288497681165)\n",
      "IF a = <2.94, inf) AND b = (-inf, 3.26) THEN class = {0} (p = 18.0, n = 0.0, P = 70.0, N = 30.0, weight = 0.6285714285714286, pvalue = 0.000756448877079931)\n",
      "IF a = (-inf, 2.40) AND b = <1.80, inf) THEN class = {0} (p = 14.0, n = 0.0, P = 70.0, N = 30.0, weight = 0.6, pvalue = 0.004373548953599259)\n",
      "IF a = <0.18, 4.73) THEN class = {0} (p = 38.0, n = 12.0, P = 70.0, N = 30.0, weight = 0.15428571428571428, pvalue = 0.137576573595146)\n",
      "IF a = (-inf, 1.66) AND b = (-inf, 1.80) THEN class = {1} (p = 6.0, n = 1.0, P = 30.0, N = 70.0, weight = 0.47755102040816316, pvalue = 0.0027237160329885964)\n",
      "IF a = <6.35, 6.98) AND b = <5.76, 7.84) THEN class = {1} (p = 5.0, n = 0.0, P = 30.0, N = 70.0, weight = 0.5833333333333334, pvalue = 0.0018928236711741827)\n",
      "IF a = <4.73, 6.78) AND b = <4.72, 6.73) THEN class = {1} (p = 9.0, n = 0.0, P = 30.0, N = 70.0, weight = 0.65, pvalue = 7.521244223139099e-06)\n",
      "IF a = <2.40, 3.52) AND b = <2.34, 4.49) THEN class = {1} (p = 5.0, n = 0.0, P = 30.0, N = 70.0, weight = 0.5833333333333334, pvalue = 0.0018928236711741827)\n",
      "IF a = <4.63, 8.34) AND b = <4.55, 8.32) THEN class = {1} (p = 17.0, n = 9.0, P = 30.0, N = 70.0, weight = 0.39597069597069595, pvalue = 1.2399725753339419e-05)\n",
      "\n",
      "\n",
      "Complex rules\n",
      "IF a < b THEN class = {0} (p = 35.0, n = 0.0, P = 70.0, N = 30.0, weight = 0.75, pvalue = 1.0244693897544603e-07)\n",
      "IF a > b THEN class = {0} (p = 35.0, n = 0.0, P = 70.0, N = 30.0, weight = 0.75, pvalue = 1.0244693897544603e-07)\n",
      "IF a = b THEN class = {1} (p = 30.0, n = 0.0, P = 30.0, N = 70.0, weight = 1.0, pvalue = 3.4045636339269025e-26)\n",
      "\n",
      "\n",
      "Complex rules + inners alternatives\n",
      "IF #(a < b OR a = <0.18, 0.78)) AND #(a = <0.16, 1.15)) THEN class = {0} (p = 45.0, n = 0.0, P = 70.0, N = 30.0, weight = 0.8214285714285714, pvalue = 1.0505976215108223e-10)\n",
      "IF a > b THEN class = {0} (p = 35.0, n = 0.0, P = 70.0, N = 30.0, weight = 0.75, pvalue = 1.0244693897544603e-07)\n",
      "IF a = b THEN class = {1} (p = 30.0, n = 0.0, P = 30.0, N = 70.0, weight = 1.0, pvalue = 3.4045636339269025e-26)\n"
     ]
    }
   ],
   "source": [
    "X = df.drop(['class'], axis=1)\n",
    "y = df['class']\n",
    "\n",
    "clf_simple.fit(X, y)\n",
    "\n",
    "print(\"Rules original\")\n",
    "for rule in clf_simple.model.rules:\n",
    "    print(rule, rule.stats)\n",
    "\n",
    "print(\"\\n\\nComplex rules\")\n",
    "clf_complex.fit(X, y)\n",
    "for rule in clf_complex.model.rules:\n",
    "    print(rule, rule.stats)\n",
    "\n",
    "print(\"\\n\\nComplex rules + inners alternatives\")\n",
    "clf_complex_with_inners.fit(X, y)\n",
    "for rule in clf_complex_with_inners.model.rules:\n",
    "    print(rule, rule.stats)"
   ]
  },
  {
   "attachments": {},
   "cell_type": "markdown",
   "metadata": {},
   "source": [
    "# Nominalne"
   ]
  },
  {
   "attachments": {},
   "cell_type": "markdown",
   "metadata": {},
   "source": [
    "## a E {zbiór wartości}"
   ]
  },
  {
   "cell_type": "code",
   "execution_count": 17,
   "metadata": {},
   "outputs": [
    {
     "data": {
      "text/html": [
       "<div>\n",
       "<style scoped>\n",
       "    .dataframe tbody tr th:only-of-type {\n",
       "        vertical-align: middle;\n",
       "    }\n",
       "\n",
       "    .dataframe tbody tr th {\n",
       "        vertical-align: top;\n",
       "    }\n",
       "\n",
       "    .dataframe thead th {\n",
       "        text-align: right;\n",
       "    }\n",
       "</style>\n",
       "<table border=\"1\" class=\"dataframe\">\n",
       "  <thead>\n",
       "    <tr style=\"text-align: right;\">\n",
       "      <th></th>\n",
       "      <th>a</th>\n",
       "      <th>b</th>\n",
       "      <th>class</th>\n",
       "    </tr>\n",
       "  </thead>\n",
       "  <tbody>\n",
       "    <tr>\n",
       "      <th>0</th>\n",
       "      <td>low</td>\n",
       "      <td>5.29</td>\n",
       "      <td>1</td>\n",
       "    </tr>\n",
       "    <tr>\n",
       "      <th>1</th>\n",
       "      <td>medium</td>\n",
       "      <td>3.80</td>\n",
       "      <td>1</td>\n",
       "    </tr>\n",
       "    <tr>\n",
       "      <th>2</th>\n",
       "      <td>medium</td>\n",
       "      <td>5.93</td>\n",
       "      <td>1</td>\n",
       "    </tr>\n",
       "    <tr>\n",
       "      <th>3</th>\n",
       "      <td>high</td>\n",
       "      <td>3.37</td>\n",
       "      <td>0</td>\n",
       "    </tr>\n",
       "    <tr>\n",
       "      <th>4</th>\n",
       "      <td>medium</td>\n",
       "      <td>8.88</td>\n",
       "      <td>1</td>\n",
       "    </tr>\n",
       "    <tr>\n",
       "      <th>...</th>\n",
       "      <td>...</td>\n",
       "      <td>...</td>\n",
       "      <td>...</td>\n",
       "    </tr>\n",
       "    <tr>\n",
       "      <th>95</th>\n",
       "      <td>high</td>\n",
       "      <td>4.88</td>\n",
       "      <td>0</td>\n",
       "    </tr>\n",
       "    <tr>\n",
       "      <th>96</th>\n",
       "      <td>medium</td>\n",
       "      <td>8.38</td>\n",
       "      <td>1</td>\n",
       "    </tr>\n",
       "    <tr>\n",
       "      <th>97</th>\n",
       "      <td>medium</td>\n",
       "      <td>2.20</td>\n",
       "      <td>1</td>\n",
       "    </tr>\n",
       "    <tr>\n",
       "      <th>98</th>\n",
       "      <td>vhigh</td>\n",
       "      <td>7.68</td>\n",
       "      <td>0</td>\n",
       "    </tr>\n",
       "    <tr>\n",
       "      <th>99</th>\n",
       "      <td>high</td>\n",
       "      <td>6.91</td>\n",
       "      <td>0</td>\n",
       "    </tr>\n",
       "  </tbody>\n",
       "</table>\n",
       "<p>100 rows × 3 columns</p>\n",
       "</div>"
      ],
      "text/plain": [
       "         a     b class\n",
       "0      low  5.29     1\n",
       "1   medium  3.80     1\n",
       "2   medium  5.93     1\n",
       "3     high  3.37     0\n",
       "4   medium  8.88     1\n",
       "..     ...   ...   ...\n",
       "95    high  4.88     0\n",
       "96  medium  8.38     1\n",
       "97  medium  2.20     1\n",
       "98   vhigh  7.68     0\n",
       "99    high  6.91     0\n",
       "\n",
       "[100 rows x 3 columns]"
      ]
     },
     "execution_count": 17,
     "metadata": {},
     "output_type": "execute_result"
    }
   ],
   "source": [
    "df = pd.DataFrame(columns=[\"a\", \"b\", \"class\"], index = [i for i in range(0,100)])\n",
    "\n",
    "\n",
    "a = [random.randint(0, 3) for i in range(100)]\n",
    "b = [round(random.uniform(0, 9),2) for i in range(100)]\n",
    "\n",
    "\n",
    "df[\"a\"] = a\n",
    "df[\"b\"] = b\n",
    "\n",
    "df = df.replace({'a': {0: \"low\", 1: \"medium\", 2: \"high\", 3: \"vhigh\"}})\n",
    "df.loc[(df[\"a\"] == \"low\") | (df[\"a\"] == \"medium\"),\"class\"] = \"1\"\n",
    "df = df.fillna(\"0\")\n",
    "df"
   ]
  },
  {
   "cell_type": "code",
   "execution_count": 18,
   "metadata": {},
   "outputs": [
    {
     "data": {
      "application/vnd.plotly.v1+json": {
       "config": {
        "plotlyServerURL": "https://plot.ly"
       },
       "data": [
        {
         "hovertemplate": "class=1<br>a=%{x}<br>b=%{y}<extra></extra>",
         "legendgroup": "1",
         "marker": {
          "color": "#636efa",
          "symbol": "circle"
         },
         "mode": "markers",
         "name": "1",
         "orientation": "v",
         "showlegend": true,
         "type": "scatter",
         "x": [
          "low",
          "medium",
          "medium",
          "medium",
          "medium",
          "low",
          "medium",
          "medium",
          "low",
          "medium",
          "low",
          "medium",
          "medium",
          "low",
          "low",
          "medium",
          "medium",
          "low",
          "low",
          "low",
          "low",
          "low",
          "medium",
          "low",
          "medium",
          "low",
          "medium",
          "medium",
          "low",
          "low",
          "low",
          "medium",
          "low",
          "medium",
          "low",
          "low",
          "low",
          "low",
          "low",
          "low",
          "medium",
          "low",
          "low",
          "medium",
          "medium",
          "low",
          "low",
          "medium",
          "low",
          "medium",
          "medium"
         ],
         "xaxis": "x",
         "y": [
          5.29,
          3.8,
          5.93,
          8.88,
          7.18,
          7.51,
          2.81,
          7.67,
          2.97,
          7.64,
          8.81,
          6.04,
          8.67,
          3.58,
          4.47,
          3,
          8.92,
          3.97,
          3.35,
          5.4,
          3.18,
          8.75,
          1.31,
          2.65,
          2.26,
          1.97,
          3.64,
          0.96,
          2.17,
          8.5,
          2.55,
          0.59,
          0.2,
          6.22,
          1.12,
          7,
          0.81,
          8.23,
          8.58,
          0.16,
          7.71,
          0.78,
          2.26,
          3.76,
          7.48,
          2.26,
          3.36,
          2.96,
          8.69,
          8.38,
          2.2
         ],
         "yaxis": "y"
        },
        {
         "hovertemplate": "class=0<br>a=%{x}<br>b=%{y}<extra></extra>",
         "legendgroup": "0",
         "marker": {
          "color": "#EF553B",
          "symbol": "circle"
         },
         "mode": "markers",
         "name": "0",
         "orientation": "v",
         "showlegend": true,
         "type": "scatter",
         "x": [
          "high",
          "vhigh",
          "vhigh",
          "high",
          "vhigh",
          "high",
          "vhigh",
          "vhigh",
          "high",
          "high",
          "vhigh",
          "vhigh",
          "high",
          "vhigh",
          "vhigh",
          "high",
          "vhigh",
          "vhigh",
          "vhigh",
          "high",
          "high",
          "high",
          "vhigh",
          "vhigh",
          "high",
          "vhigh",
          "vhigh",
          "vhigh",
          "vhigh",
          "vhigh",
          "vhigh",
          "high",
          "high",
          "high",
          "vhigh",
          "high",
          "vhigh",
          "vhigh",
          "high",
          "high",
          "high",
          "high",
          "high",
          "vhigh",
          "high",
          "vhigh",
          "high",
          "vhigh",
          "high"
         ],
         "xaxis": "x",
         "y": [
          3.37,
          3.04,
          4.38,
          4.74,
          5.84,
          7.23,
          2.37,
          6.81,
          4.91,
          1.22,
          4.31,
          3.18,
          5.03,
          0.15,
          5.83,
          6.59,
          5.8,
          3.51,
          1.18,
          4.43,
          3.82,
          5.5,
          3.15,
          4.03,
          8.96,
          0.12,
          4.62,
          6.18,
          7.25,
          3.24,
          1.75,
          5.93,
          2.78,
          2.48,
          4.34,
          5.69,
          5.44,
          3.95,
          7.93,
          0.64,
          3.99,
          3.13,
          3.64,
          0.56,
          7.31,
          7.55,
          4.88,
          7.68,
          6.91
         ],
         "yaxis": "y"
        }
       ],
       "layout": {
        "height": 560,
        "legend": {
         "title": {
          "text": "class"
         },
         "tracegroupgap": 0
        },
        "margin": {
         "t": 60
        },
        "template": {
         "data": {
          "bar": [
           {
            "error_x": {
             "color": "#2a3f5f"
            },
            "error_y": {
             "color": "#2a3f5f"
            },
            "marker": {
             "line": {
              "color": "#E5ECF6",
              "width": 0.5
             },
             "pattern": {
              "fillmode": "overlay",
              "size": 10,
              "solidity": 0.2
             }
            },
            "type": "bar"
           }
          ],
          "barpolar": [
           {
            "marker": {
             "line": {
              "color": "#E5ECF6",
              "width": 0.5
             },
             "pattern": {
              "fillmode": "overlay",
              "size": 10,
              "solidity": 0.2
             }
            },
            "type": "barpolar"
           }
          ],
          "carpet": [
           {
            "aaxis": {
             "endlinecolor": "#2a3f5f",
             "gridcolor": "white",
             "linecolor": "white",
             "minorgridcolor": "white",
             "startlinecolor": "#2a3f5f"
            },
            "baxis": {
             "endlinecolor": "#2a3f5f",
             "gridcolor": "white",
             "linecolor": "white",
             "minorgridcolor": "white",
             "startlinecolor": "#2a3f5f"
            },
            "type": "carpet"
           }
          ],
          "choropleth": [
           {
            "colorbar": {
             "outlinewidth": 0,
             "ticks": ""
            },
            "type": "choropleth"
           }
          ],
          "contour": [
           {
            "colorbar": {
             "outlinewidth": 0,
             "ticks": ""
            },
            "colorscale": [
             [
              0,
              "#0d0887"
             ],
             [
              0.1111111111111111,
              "#46039f"
             ],
             [
              0.2222222222222222,
              "#7201a8"
             ],
             [
              0.3333333333333333,
              "#9c179e"
             ],
             [
              0.4444444444444444,
              "#bd3786"
             ],
             [
              0.5555555555555556,
              "#d8576b"
             ],
             [
              0.6666666666666666,
              "#ed7953"
             ],
             [
              0.7777777777777778,
              "#fb9f3a"
             ],
             [
              0.8888888888888888,
              "#fdca26"
             ],
             [
              1,
              "#f0f921"
             ]
            ],
            "type": "contour"
           }
          ],
          "contourcarpet": [
           {
            "colorbar": {
             "outlinewidth": 0,
             "ticks": ""
            },
            "type": "contourcarpet"
           }
          ],
          "heatmap": [
           {
            "colorbar": {
             "outlinewidth": 0,
             "ticks": ""
            },
            "colorscale": [
             [
              0,
              "#0d0887"
             ],
             [
              0.1111111111111111,
              "#46039f"
             ],
             [
              0.2222222222222222,
              "#7201a8"
             ],
             [
              0.3333333333333333,
              "#9c179e"
             ],
             [
              0.4444444444444444,
              "#bd3786"
             ],
             [
              0.5555555555555556,
              "#d8576b"
             ],
             [
              0.6666666666666666,
              "#ed7953"
             ],
             [
              0.7777777777777778,
              "#fb9f3a"
             ],
             [
              0.8888888888888888,
              "#fdca26"
             ],
             [
              1,
              "#f0f921"
             ]
            ],
            "type": "heatmap"
           }
          ],
          "heatmapgl": [
           {
            "colorbar": {
             "outlinewidth": 0,
             "ticks": ""
            },
            "colorscale": [
             [
              0,
              "#0d0887"
             ],
             [
              0.1111111111111111,
              "#46039f"
             ],
             [
              0.2222222222222222,
              "#7201a8"
             ],
             [
              0.3333333333333333,
              "#9c179e"
             ],
             [
              0.4444444444444444,
              "#bd3786"
             ],
             [
              0.5555555555555556,
              "#d8576b"
             ],
             [
              0.6666666666666666,
              "#ed7953"
             ],
             [
              0.7777777777777778,
              "#fb9f3a"
             ],
             [
              0.8888888888888888,
              "#fdca26"
             ],
             [
              1,
              "#f0f921"
             ]
            ],
            "type": "heatmapgl"
           }
          ],
          "histogram": [
           {
            "marker": {
             "pattern": {
              "fillmode": "overlay",
              "size": 10,
              "solidity": 0.2
             }
            },
            "type": "histogram"
           }
          ],
          "histogram2d": [
           {
            "colorbar": {
             "outlinewidth": 0,
             "ticks": ""
            },
            "colorscale": [
             [
              0,
              "#0d0887"
             ],
             [
              0.1111111111111111,
              "#46039f"
             ],
             [
              0.2222222222222222,
              "#7201a8"
             ],
             [
              0.3333333333333333,
              "#9c179e"
             ],
             [
              0.4444444444444444,
              "#bd3786"
             ],
             [
              0.5555555555555556,
              "#d8576b"
             ],
             [
              0.6666666666666666,
              "#ed7953"
             ],
             [
              0.7777777777777778,
              "#fb9f3a"
             ],
             [
              0.8888888888888888,
              "#fdca26"
             ],
             [
              1,
              "#f0f921"
             ]
            ],
            "type": "histogram2d"
           }
          ],
          "histogram2dcontour": [
           {
            "colorbar": {
             "outlinewidth": 0,
             "ticks": ""
            },
            "colorscale": [
             [
              0,
              "#0d0887"
             ],
             [
              0.1111111111111111,
              "#46039f"
             ],
             [
              0.2222222222222222,
              "#7201a8"
             ],
             [
              0.3333333333333333,
              "#9c179e"
             ],
             [
              0.4444444444444444,
              "#bd3786"
             ],
             [
              0.5555555555555556,
              "#d8576b"
             ],
             [
              0.6666666666666666,
              "#ed7953"
             ],
             [
              0.7777777777777778,
              "#fb9f3a"
             ],
             [
              0.8888888888888888,
              "#fdca26"
             ],
             [
              1,
              "#f0f921"
             ]
            ],
            "type": "histogram2dcontour"
           }
          ],
          "mesh3d": [
           {
            "colorbar": {
             "outlinewidth": 0,
             "ticks": ""
            },
            "type": "mesh3d"
           }
          ],
          "parcoords": [
           {
            "line": {
             "colorbar": {
              "outlinewidth": 0,
              "ticks": ""
             }
            },
            "type": "parcoords"
           }
          ],
          "pie": [
           {
            "automargin": true,
            "type": "pie"
           }
          ],
          "scatter": [
           {
            "fillpattern": {
             "fillmode": "overlay",
             "size": 10,
             "solidity": 0.2
            },
            "type": "scatter"
           }
          ],
          "scatter3d": [
           {
            "line": {
             "colorbar": {
              "outlinewidth": 0,
              "ticks": ""
             }
            },
            "marker": {
             "colorbar": {
              "outlinewidth": 0,
              "ticks": ""
             }
            },
            "type": "scatter3d"
           }
          ],
          "scattercarpet": [
           {
            "marker": {
             "colorbar": {
              "outlinewidth": 0,
              "ticks": ""
             }
            },
            "type": "scattercarpet"
           }
          ],
          "scattergeo": [
           {
            "marker": {
             "colorbar": {
              "outlinewidth": 0,
              "ticks": ""
             }
            },
            "type": "scattergeo"
           }
          ],
          "scattergl": [
           {
            "marker": {
             "colorbar": {
              "outlinewidth": 0,
              "ticks": ""
             }
            },
            "type": "scattergl"
           }
          ],
          "scattermapbox": [
           {
            "marker": {
             "colorbar": {
              "outlinewidth": 0,
              "ticks": ""
             }
            },
            "type": "scattermapbox"
           }
          ],
          "scatterpolar": [
           {
            "marker": {
             "colorbar": {
              "outlinewidth": 0,
              "ticks": ""
             }
            },
            "type": "scatterpolar"
           }
          ],
          "scatterpolargl": [
           {
            "marker": {
             "colorbar": {
              "outlinewidth": 0,
              "ticks": ""
             }
            },
            "type": "scatterpolargl"
           }
          ],
          "scatterternary": [
           {
            "marker": {
             "colorbar": {
              "outlinewidth": 0,
              "ticks": ""
             }
            },
            "type": "scatterternary"
           }
          ],
          "surface": [
           {
            "colorbar": {
             "outlinewidth": 0,
             "ticks": ""
            },
            "colorscale": [
             [
              0,
              "#0d0887"
             ],
             [
              0.1111111111111111,
              "#46039f"
             ],
             [
              0.2222222222222222,
              "#7201a8"
             ],
             [
              0.3333333333333333,
              "#9c179e"
             ],
             [
              0.4444444444444444,
              "#bd3786"
             ],
             [
              0.5555555555555556,
              "#d8576b"
             ],
             [
              0.6666666666666666,
              "#ed7953"
             ],
             [
              0.7777777777777778,
              "#fb9f3a"
             ],
             [
              0.8888888888888888,
              "#fdca26"
             ],
             [
              1,
              "#f0f921"
             ]
            ],
            "type": "surface"
           }
          ],
          "table": [
           {
            "cells": {
             "fill": {
              "color": "#EBF0F8"
             },
             "line": {
              "color": "white"
             }
            },
            "header": {
             "fill": {
              "color": "#C8D4E3"
             },
             "line": {
              "color": "white"
             }
            },
            "type": "table"
           }
          ]
         },
         "layout": {
          "annotationdefaults": {
           "arrowcolor": "#2a3f5f",
           "arrowhead": 0,
           "arrowwidth": 1
          },
          "autotypenumbers": "strict",
          "coloraxis": {
           "colorbar": {
            "outlinewidth": 0,
            "ticks": ""
           }
          },
          "colorscale": {
           "diverging": [
            [
             0,
             "#8e0152"
            ],
            [
             0.1,
             "#c51b7d"
            ],
            [
             0.2,
             "#de77ae"
            ],
            [
             0.3,
             "#f1b6da"
            ],
            [
             0.4,
             "#fde0ef"
            ],
            [
             0.5,
             "#f7f7f7"
            ],
            [
             0.6,
             "#e6f5d0"
            ],
            [
             0.7,
             "#b8e186"
            ],
            [
             0.8,
             "#7fbc41"
            ],
            [
             0.9,
             "#4d9221"
            ],
            [
             1,
             "#276419"
            ]
           ],
           "sequential": [
            [
             0,
             "#0d0887"
            ],
            [
             0.1111111111111111,
             "#46039f"
            ],
            [
             0.2222222222222222,
             "#7201a8"
            ],
            [
             0.3333333333333333,
             "#9c179e"
            ],
            [
             0.4444444444444444,
             "#bd3786"
            ],
            [
             0.5555555555555556,
             "#d8576b"
            ],
            [
             0.6666666666666666,
             "#ed7953"
            ],
            [
             0.7777777777777778,
             "#fb9f3a"
            ],
            [
             0.8888888888888888,
             "#fdca26"
            ],
            [
             1,
             "#f0f921"
            ]
           ],
           "sequentialminus": [
            [
             0,
             "#0d0887"
            ],
            [
             0.1111111111111111,
             "#46039f"
            ],
            [
             0.2222222222222222,
             "#7201a8"
            ],
            [
             0.3333333333333333,
             "#9c179e"
            ],
            [
             0.4444444444444444,
             "#bd3786"
            ],
            [
             0.5555555555555556,
             "#d8576b"
            ],
            [
             0.6666666666666666,
             "#ed7953"
            ],
            [
             0.7777777777777778,
             "#fb9f3a"
            ],
            [
             0.8888888888888888,
             "#fdca26"
            ],
            [
             1,
             "#f0f921"
            ]
           ]
          },
          "colorway": [
           "#636efa",
           "#EF553B",
           "#00cc96",
           "#ab63fa",
           "#FFA15A",
           "#19d3f3",
           "#FF6692",
           "#B6E880",
           "#FF97FF",
           "#FECB52"
          ],
          "font": {
           "color": "#2a3f5f"
          },
          "geo": {
           "bgcolor": "white",
           "lakecolor": "white",
           "landcolor": "#E5ECF6",
           "showlakes": true,
           "showland": true,
           "subunitcolor": "white"
          },
          "hoverlabel": {
           "align": "left"
          },
          "hovermode": "closest",
          "mapbox": {
           "style": "light"
          },
          "paper_bgcolor": "white",
          "plot_bgcolor": "#E5ECF6",
          "polar": {
           "angularaxis": {
            "gridcolor": "white",
            "linecolor": "white",
            "ticks": ""
           },
           "bgcolor": "#E5ECF6",
           "radialaxis": {
            "gridcolor": "white",
            "linecolor": "white",
            "ticks": ""
           }
          },
          "scene": {
           "xaxis": {
            "backgroundcolor": "#E5ECF6",
            "gridcolor": "white",
            "gridwidth": 2,
            "linecolor": "white",
            "showbackground": true,
            "ticks": "",
            "zerolinecolor": "white"
           },
           "yaxis": {
            "backgroundcolor": "#E5ECF6",
            "gridcolor": "white",
            "gridwidth": 2,
            "linecolor": "white",
            "showbackground": true,
            "ticks": "",
            "zerolinecolor": "white"
           },
           "zaxis": {
            "backgroundcolor": "#E5ECF6",
            "gridcolor": "white",
            "gridwidth": 2,
            "linecolor": "white",
            "showbackground": true,
            "ticks": "",
            "zerolinecolor": "white"
           }
          },
          "shapedefaults": {
           "line": {
            "color": "#2a3f5f"
           }
          },
          "ternary": {
           "aaxis": {
            "gridcolor": "white",
            "linecolor": "white",
            "ticks": ""
           },
           "baxis": {
            "gridcolor": "white",
            "linecolor": "white",
            "ticks": ""
           },
           "bgcolor": "#E5ECF6",
           "caxis": {
            "gridcolor": "white",
            "linecolor": "white",
            "ticks": ""
           }
          },
          "title": {
           "x": 0.05
          },
          "xaxis": {
           "automargin": true,
           "gridcolor": "white",
           "linecolor": "white",
           "ticks": "",
           "title": {
            "standoff": 15
           },
           "zerolinecolor": "white",
           "zerolinewidth": 2
          },
          "yaxis": {
           "automargin": true,
           "gridcolor": "white",
           "linecolor": "white",
           "ticks": "",
           "title": {
            "standoff": 15
           },
           "zerolinecolor": "white",
           "zerolinewidth": 2
          }
         }
        },
        "width": 560,
        "xaxis": {
         "anchor": "y",
         "domain": [
          0,
          1
         ],
         "title": {
          "text": "a"
         }
        },
        "yaxis": {
         "anchor": "x",
         "domain": [
          0,
          1
         ],
         "title": {
          "text": "b"
         }
        }
       }
      },
      "text/html": [
       "<div>                            <div id=\"79f823f8-d880-40f6-88f0-229c2d73532e\" class=\"plotly-graph-div\" style=\"height:560px; width:560px;\"></div>            <script type=\"text/javascript\">                require([\"plotly\"], function(Plotly) {                    window.PLOTLYENV=window.PLOTLYENV || {};                                    if (document.getElementById(\"79f823f8-d880-40f6-88f0-229c2d73532e\")) {                    Plotly.newPlot(                        \"79f823f8-d880-40f6-88f0-229c2d73532e\",                        [{\"hovertemplate\":\"class=1<br>a=%{x}<br>b=%{y}<extra></extra>\",\"legendgroup\":\"1\",\"marker\":{\"color\":\"#636efa\",\"symbol\":\"circle\"},\"mode\":\"markers\",\"name\":\"1\",\"orientation\":\"v\",\"showlegend\":true,\"x\":[\"low\",\"medium\",\"medium\",\"medium\",\"medium\",\"low\",\"medium\",\"medium\",\"low\",\"medium\",\"low\",\"medium\",\"medium\",\"low\",\"low\",\"medium\",\"medium\",\"low\",\"low\",\"low\",\"low\",\"low\",\"medium\",\"low\",\"medium\",\"low\",\"medium\",\"medium\",\"low\",\"low\",\"low\",\"medium\",\"low\",\"medium\",\"low\",\"low\",\"low\",\"low\",\"low\",\"low\",\"medium\",\"low\",\"low\",\"medium\",\"medium\",\"low\",\"low\",\"medium\",\"low\",\"medium\",\"medium\"],\"xaxis\":\"x\",\"y\":[5.29,3.8,5.93,8.88,7.18,7.51,2.81,7.67,2.97,7.64,8.81,6.04,8.67,3.58,4.47,3.0,8.92,3.97,3.35,5.4,3.18,8.75,1.31,2.65,2.26,1.97,3.64,0.96,2.17,8.5,2.55,0.59,0.2,6.22,1.12,7.0,0.81,8.23,8.58,0.16,7.71,0.78,2.26,3.76,7.48,2.26,3.36,2.96,8.69,8.38,2.2],\"yaxis\":\"y\",\"type\":\"scatter\"},{\"hovertemplate\":\"class=0<br>a=%{x}<br>b=%{y}<extra></extra>\",\"legendgroup\":\"0\",\"marker\":{\"color\":\"#EF553B\",\"symbol\":\"circle\"},\"mode\":\"markers\",\"name\":\"0\",\"orientation\":\"v\",\"showlegend\":true,\"x\":[\"high\",\"vhigh\",\"vhigh\",\"high\",\"vhigh\",\"high\",\"vhigh\",\"vhigh\",\"high\",\"high\",\"vhigh\",\"vhigh\",\"high\",\"vhigh\",\"vhigh\",\"high\",\"vhigh\",\"vhigh\",\"vhigh\",\"high\",\"high\",\"high\",\"vhigh\",\"vhigh\",\"high\",\"vhigh\",\"vhigh\",\"vhigh\",\"vhigh\",\"vhigh\",\"vhigh\",\"high\",\"high\",\"high\",\"vhigh\",\"high\",\"vhigh\",\"vhigh\",\"high\",\"high\",\"high\",\"high\",\"high\",\"vhigh\",\"high\",\"vhigh\",\"high\",\"vhigh\",\"high\"],\"xaxis\":\"x\",\"y\":[3.37,3.04,4.38,4.74,5.84,7.23,2.37,6.81,4.91,1.22,4.31,3.18,5.03,0.15,5.83,6.59,5.8,3.51,1.18,4.43,3.82,5.5,3.15,4.03,8.96,0.12,4.62,6.18,7.25,3.24,1.75,5.93,2.78,2.48,4.34,5.69,5.44,3.95,7.93,0.64,3.99,3.13,3.64,0.56,7.31,7.55,4.88,7.68,6.91],\"yaxis\":\"y\",\"type\":\"scatter\"}],                        {\"template\":{\"data\":{\"histogram2dcontour\":[{\"type\":\"histogram2dcontour\",\"colorbar\":{\"outlinewidth\":0,\"ticks\":\"\"},\"colorscale\":[[0.0,\"#0d0887\"],[0.1111111111111111,\"#46039f\"],[0.2222222222222222,\"#7201a8\"],[0.3333333333333333,\"#9c179e\"],[0.4444444444444444,\"#bd3786\"],[0.5555555555555556,\"#d8576b\"],[0.6666666666666666,\"#ed7953\"],[0.7777777777777778,\"#fb9f3a\"],[0.8888888888888888,\"#fdca26\"],[1.0,\"#f0f921\"]]}],\"choropleth\":[{\"type\":\"choropleth\",\"colorbar\":{\"outlinewidth\":0,\"ticks\":\"\"}}],\"histogram2d\":[{\"type\":\"histogram2d\",\"colorbar\":{\"outlinewidth\":0,\"ticks\":\"\"},\"colorscale\":[[0.0,\"#0d0887\"],[0.1111111111111111,\"#46039f\"],[0.2222222222222222,\"#7201a8\"],[0.3333333333333333,\"#9c179e\"],[0.4444444444444444,\"#bd3786\"],[0.5555555555555556,\"#d8576b\"],[0.6666666666666666,\"#ed7953\"],[0.7777777777777778,\"#fb9f3a\"],[0.8888888888888888,\"#fdca26\"],[1.0,\"#f0f921\"]]}],\"heatmap\":[{\"type\":\"heatmap\",\"colorbar\":{\"outlinewidth\":0,\"ticks\":\"\"},\"colorscale\":[[0.0,\"#0d0887\"],[0.1111111111111111,\"#46039f\"],[0.2222222222222222,\"#7201a8\"],[0.3333333333333333,\"#9c179e\"],[0.4444444444444444,\"#bd3786\"],[0.5555555555555556,\"#d8576b\"],[0.6666666666666666,\"#ed7953\"],[0.7777777777777778,\"#fb9f3a\"],[0.8888888888888888,\"#fdca26\"],[1.0,\"#f0f921\"]]}],\"heatmapgl\":[{\"type\":\"heatmapgl\",\"colorbar\":{\"outlinewidth\":0,\"ticks\":\"\"},\"colorscale\":[[0.0,\"#0d0887\"],[0.1111111111111111,\"#46039f\"],[0.2222222222222222,\"#7201a8\"],[0.3333333333333333,\"#9c179e\"],[0.4444444444444444,\"#bd3786\"],[0.5555555555555556,\"#d8576b\"],[0.6666666666666666,\"#ed7953\"],[0.7777777777777778,\"#fb9f3a\"],[0.8888888888888888,\"#fdca26\"],[1.0,\"#f0f921\"]]}],\"contourcarpet\":[{\"type\":\"contourcarpet\",\"colorbar\":{\"outlinewidth\":0,\"ticks\":\"\"}}],\"contour\":[{\"type\":\"contour\",\"colorbar\":{\"outlinewidth\":0,\"ticks\":\"\"},\"colorscale\":[[0.0,\"#0d0887\"],[0.1111111111111111,\"#46039f\"],[0.2222222222222222,\"#7201a8\"],[0.3333333333333333,\"#9c179e\"],[0.4444444444444444,\"#bd3786\"],[0.5555555555555556,\"#d8576b\"],[0.6666666666666666,\"#ed7953\"],[0.7777777777777778,\"#fb9f3a\"],[0.8888888888888888,\"#fdca26\"],[1.0,\"#f0f921\"]]}],\"surface\":[{\"type\":\"surface\",\"colorbar\":{\"outlinewidth\":0,\"ticks\":\"\"},\"colorscale\":[[0.0,\"#0d0887\"],[0.1111111111111111,\"#46039f\"],[0.2222222222222222,\"#7201a8\"],[0.3333333333333333,\"#9c179e\"],[0.4444444444444444,\"#bd3786\"],[0.5555555555555556,\"#d8576b\"],[0.6666666666666666,\"#ed7953\"],[0.7777777777777778,\"#fb9f3a\"],[0.8888888888888888,\"#fdca26\"],[1.0,\"#f0f921\"]]}],\"mesh3d\":[{\"type\":\"mesh3d\",\"colorbar\":{\"outlinewidth\":0,\"ticks\":\"\"}}],\"scatter\":[{\"fillpattern\":{\"fillmode\":\"overlay\",\"size\":10,\"solidity\":0.2},\"type\":\"scatter\"}],\"parcoords\":[{\"type\":\"parcoords\",\"line\":{\"colorbar\":{\"outlinewidth\":0,\"ticks\":\"\"}}}],\"scatterpolargl\":[{\"type\":\"scatterpolargl\",\"marker\":{\"colorbar\":{\"outlinewidth\":0,\"ticks\":\"\"}}}],\"bar\":[{\"error_x\":{\"color\":\"#2a3f5f\"},\"error_y\":{\"color\":\"#2a3f5f\"},\"marker\":{\"line\":{\"color\":\"#E5ECF6\",\"width\":0.5},\"pattern\":{\"fillmode\":\"overlay\",\"size\":10,\"solidity\":0.2}},\"type\":\"bar\"}],\"scattergeo\":[{\"type\":\"scattergeo\",\"marker\":{\"colorbar\":{\"outlinewidth\":0,\"ticks\":\"\"}}}],\"scatterpolar\":[{\"type\":\"scatterpolar\",\"marker\":{\"colorbar\":{\"outlinewidth\":0,\"ticks\":\"\"}}}],\"histogram\":[{\"marker\":{\"pattern\":{\"fillmode\":\"overlay\",\"size\":10,\"solidity\":0.2}},\"type\":\"histogram\"}],\"scattergl\":[{\"type\":\"scattergl\",\"marker\":{\"colorbar\":{\"outlinewidth\":0,\"ticks\":\"\"}}}],\"scatter3d\":[{\"type\":\"scatter3d\",\"line\":{\"colorbar\":{\"outlinewidth\":0,\"ticks\":\"\"}},\"marker\":{\"colorbar\":{\"outlinewidth\":0,\"ticks\":\"\"}}}],\"scattermapbox\":[{\"type\":\"scattermapbox\",\"marker\":{\"colorbar\":{\"outlinewidth\":0,\"ticks\":\"\"}}}],\"scatterternary\":[{\"type\":\"scatterternary\",\"marker\":{\"colorbar\":{\"outlinewidth\":0,\"ticks\":\"\"}}}],\"scattercarpet\":[{\"type\":\"scattercarpet\",\"marker\":{\"colorbar\":{\"outlinewidth\":0,\"ticks\":\"\"}}}],\"carpet\":[{\"aaxis\":{\"endlinecolor\":\"#2a3f5f\",\"gridcolor\":\"white\",\"linecolor\":\"white\",\"minorgridcolor\":\"white\",\"startlinecolor\":\"#2a3f5f\"},\"baxis\":{\"endlinecolor\":\"#2a3f5f\",\"gridcolor\":\"white\",\"linecolor\":\"white\",\"minorgridcolor\":\"white\",\"startlinecolor\":\"#2a3f5f\"},\"type\":\"carpet\"}],\"table\":[{\"cells\":{\"fill\":{\"color\":\"#EBF0F8\"},\"line\":{\"color\":\"white\"}},\"header\":{\"fill\":{\"color\":\"#C8D4E3\"},\"line\":{\"color\":\"white\"}},\"type\":\"table\"}],\"barpolar\":[{\"marker\":{\"line\":{\"color\":\"#E5ECF6\",\"width\":0.5},\"pattern\":{\"fillmode\":\"overlay\",\"size\":10,\"solidity\":0.2}},\"type\":\"barpolar\"}],\"pie\":[{\"automargin\":true,\"type\":\"pie\"}]},\"layout\":{\"autotypenumbers\":\"strict\",\"colorway\":[\"#636efa\",\"#EF553B\",\"#00cc96\",\"#ab63fa\",\"#FFA15A\",\"#19d3f3\",\"#FF6692\",\"#B6E880\",\"#FF97FF\",\"#FECB52\"],\"font\":{\"color\":\"#2a3f5f\"},\"hovermode\":\"closest\",\"hoverlabel\":{\"align\":\"left\"},\"paper_bgcolor\":\"white\",\"plot_bgcolor\":\"#E5ECF6\",\"polar\":{\"bgcolor\":\"#E5ECF6\",\"angularaxis\":{\"gridcolor\":\"white\",\"linecolor\":\"white\",\"ticks\":\"\"},\"radialaxis\":{\"gridcolor\":\"white\",\"linecolor\":\"white\",\"ticks\":\"\"}},\"ternary\":{\"bgcolor\":\"#E5ECF6\",\"aaxis\":{\"gridcolor\":\"white\",\"linecolor\":\"white\",\"ticks\":\"\"},\"baxis\":{\"gridcolor\":\"white\",\"linecolor\":\"white\",\"ticks\":\"\"},\"caxis\":{\"gridcolor\":\"white\",\"linecolor\":\"white\",\"ticks\":\"\"}},\"coloraxis\":{\"colorbar\":{\"outlinewidth\":0,\"ticks\":\"\"}},\"colorscale\":{\"sequential\":[[0.0,\"#0d0887\"],[0.1111111111111111,\"#46039f\"],[0.2222222222222222,\"#7201a8\"],[0.3333333333333333,\"#9c179e\"],[0.4444444444444444,\"#bd3786\"],[0.5555555555555556,\"#d8576b\"],[0.6666666666666666,\"#ed7953\"],[0.7777777777777778,\"#fb9f3a\"],[0.8888888888888888,\"#fdca26\"],[1.0,\"#f0f921\"]],\"sequentialminus\":[[0.0,\"#0d0887\"],[0.1111111111111111,\"#46039f\"],[0.2222222222222222,\"#7201a8\"],[0.3333333333333333,\"#9c179e\"],[0.4444444444444444,\"#bd3786\"],[0.5555555555555556,\"#d8576b\"],[0.6666666666666666,\"#ed7953\"],[0.7777777777777778,\"#fb9f3a\"],[0.8888888888888888,\"#fdca26\"],[1.0,\"#f0f921\"]],\"diverging\":[[0,\"#8e0152\"],[0.1,\"#c51b7d\"],[0.2,\"#de77ae\"],[0.3,\"#f1b6da\"],[0.4,\"#fde0ef\"],[0.5,\"#f7f7f7\"],[0.6,\"#e6f5d0\"],[0.7,\"#b8e186\"],[0.8,\"#7fbc41\"],[0.9,\"#4d9221\"],[1,\"#276419\"]]},\"xaxis\":{\"gridcolor\":\"white\",\"linecolor\":\"white\",\"ticks\":\"\",\"title\":{\"standoff\":15},\"zerolinecolor\":\"white\",\"automargin\":true,\"zerolinewidth\":2},\"yaxis\":{\"gridcolor\":\"white\",\"linecolor\":\"white\",\"ticks\":\"\",\"title\":{\"standoff\":15},\"zerolinecolor\":\"white\",\"automargin\":true,\"zerolinewidth\":2},\"scene\":{\"xaxis\":{\"backgroundcolor\":\"#E5ECF6\",\"gridcolor\":\"white\",\"linecolor\":\"white\",\"showbackground\":true,\"ticks\":\"\",\"zerolinecolor\":\"white\",\"gridwidth\":2},\"yaxis\":{\"backgroundcolor\":\"#E5ECF6\",\"gridcolor\":\"white\",\"linecolor\":\"white\",\"showbackground\":true,\"ticks\":\"\",\"zerolinecolor\":\"white\",\"gridwidth\":2},\"zaxis\":{\"backgroundcolor\":\"#E5ECF6\",\"gridcolor\":\"white\",\"linecolor\":\"white\",\"showbackground\":true,\"ticks\":\"\",\"zerolinecolor\":\"white\",\"gridwidth\":2}},\"shapedefaults\":{\"line\":{\"color\":\"#2a3f5f\"}},\"annotationdefaults\":{\"arrowcolor\":\"#2a3f5f\",\"arrowhead\":0,\"arrowwidth\":1},\"geo\":{\"bgcolor\":\"white\",\"landcolor\":\"#E5ECF6\",\"subunitcolor\":\"white\",\"showland\":true,\"showlakes\":true,\"lakecolor\":\"white\"},\"title\":{\"x\":0.05},\"mapbox\":{\"style\":\"light\"}}},\"xaxis\":{\"anchor\":\"y\",\"domain\":[0.0,1.0],\"title\":{\"text\":\"a\"}},\"yaxis\":{\"anchor\":\"x\",\"domain\":[0.0,1.0],\"title\":{\"text\":\"b\"}},\"legend\":{\"title\":{\"text\":\"class\"},\"tracegroupgap\":0},\"margin\":{\"t\":60},\"height\":560,\"width\":560},                        {\"responsive\": true}                    ).then(function(){\n",
       "                            \n",
       "var gd = document.getElementById('79f823f8-d880-40f6-88f0-229c2d73532e');\n",
       "var x = new MutationObserver(function (mutations, observer) {{\n",
       "        var display = window.getComputedStyle(gd).display;\n",
       "        if (!display || display === 'none') {{\n",
       "            console.log([gd, 'removed!']);\n",
       "            Plotly.purge(gd);\n",
       "            observer.disconnect();\n",
       "        }}\n",
       "}});\n",
       "\n",
       "// Listen for the removal of the full notebook cells\n",
       "var notebookContainer = gd.closest('#notebook-container');\n",
       "if (notebookContainer) {{\n",
       "    x.observe(notebookContainer, {childList: true});\n",
       "}}\n",
       "\n",
       "// Listen for the clearing of the current output cell\n",
       "var outputEl = gd.closest('.output');\n",
       "if (outputEl) {{\n",
       "    x.observe(outputEl, {childList: true});\n",
       "}}\n",
       "\n",
       "                        })                };                });            </script>        </div>"
      ]
     },
     "metadata": {},
     "output_type": "display_data"
    }
   ],
   "source": [
    "fig = px.scatter(df, x='a',\n",
    "            y='b',\n",
    "            color='class',\n",
    "            height=560,\n",
    "            width=560,\n",
    "            )\n",
    "fig.show()"
   ]
  },
  {
   "cell_type": "code",
   "execution_count": 19,
   "metadata": {},
   "outputs": [
    {
     "name": "stdout",
     "output_type": "stream",
     "text": [
      "Rules original\n",
      "IF a = {low} THEN class = {1} (p = 28.0, n = 0.0, P = 51.0, N = 49.0, weight = 0.7745098039215687, pvalue = 3.93679541508213e-11)\n",
      "IF a = {medium} THEN class = {1} (p = 23.0, n = 0.0, P = 51.0, N = 49.0, weight = 0.7254901960784313, pvalue = 7.914374796910971e-09)\n",
      "IF a = {vhigh} THEN class = {0} (p = 26.0, n = 0.0, P = 49.0, N = 51.0, weight = 0.7653061224489797, pvalue = 8.339830914617157e-11)\n",
      "IF a = {high} THEN class = {0} (p = 23.0, n = 0.0, P = 49.0, N = 51.0, weight = 0.7346938775510204, pvalue = 2.346379351554777e-09)\n",
      "\n",
      "\n",
      "Complex rules\n",
      "IF a = {low, medium} THEN class = {1} (p = 51.0, n = 0.0, P = 51.0, N = 49.0, weight = 1.0, pvalue = 1.0109886081846746e-29)\n",
      "IF a = {high, vhigh} THEN class = {0} (p = 49.0, n = 0.0, P = 49.0, N = 51.0, weight = 1.0, pvalue = 1.0109886081846746e-29)\n",
      "\n",
      "\n",
      "Complex rules + inners alternatives\n",
      "IF a = {low, medium} THEN class = {1} (p = 51.0, n = 0.0, P = 51.0, N = 49.0, weight = 1.0, pvalue = 1.0109886081846746e-29)\n",
      "IF a = {high, vhigh} THEN class = {0} (p = 49.0, n = 0.0, P = 49.0, N = 51.0, weight = 1.0, pvalue = 1.0109886081846746e-29)\n"
     ]
    }
   ],
   "source": [
    "X = df.drop(['class'], axis=1)\n",
    "y = df['class']\n",
    "\n",
    "clf_simple.fit(X, y)\n",
    "\n",
    "print(\"Rules original\")\n",
    "for rule in clf_simple.model.rules:\n",
    "    print(rule, rule.stats)\n",
    "\n",
    "print(\"\\n\\nComplex rules\")\n",
    "clf_complex.fit(X, y)\n",
    "for rule in clf_complex.model.rules:\n",
    "    print(rule, rule.stats)\n",
    "\n",
    "\n",
    "print(\"\\n\\nComplex rules + inners alternatives\")\n",
    "clf_complex_with_inners.fit(X, y)\n",
    "for rule in clf_complex_with_inners.model.rules:\n",
    "    print(rule, rule.stats)"
   ]
  },
  {
   "attachments": {},
   "cell_type": "markdown",
   "metadata": {},
   "source": [
    "## a != wartość"
   ]
  },
  {
   "cell_type": "code",
   "execution_count": 20,
   "metadata": {},
   "outputs": [
    {
     "data": {
      "text/html": [
       "<div>\n",
       "<style scoped>\n",
       "    .dataframe tbody tr th:only-of-type {\n",
       "        vertical-align: middle;\n",
       "    }\n",
       "\n",
       "    .dataframe tbody tr th {\n",
       "        vertical-align: top;\n",
       "    }\n",
       "\n",
       "    .dataframe thead th {\n",
       "        text-align: right;\n",
       "    }\n",
       "</style>\n",
       "<table border=\"1\" class=\"dataframe\">\n",
       "  <thead>\n",
       "    <tr style=\"text-align: right;\">\n",
       "      <th></th>\n",
       "      <th>a</th>\n",
       "      <th>b</th>\n",
       "      <th>class</th>\n",
       "    </tr>\n",
       "  </thead>\n",
       "  <tbody>\n",
       "    <tr>\n",
       "      <th>0</th>\n",
       "      <td>high</td>\n",
       "      <td>5.28</td>\n",
       "      <td>0</td>\n",
       "    </tr>\n",
       "    <tr>\n",
       "      <th>1</th>\n",
       "      <td>medium</td>\n",
       "      <td>6.82</td>\n",
       "      <td>1</td>\n",
       "    </tr>\n",
       "    <tr>\n",
       "      <th>2</th>\n",
       "      <td>medium</td>\n",
       "      <td>7.68</td>\n",
       "      <td>1</td>\n",
       "    </tr>\n",
       "    <tr>\n",
       "      <th>3</th>\n",
       "      <td>medium</td>\n",
       "      <td>4.20</td>\n",
       "      <td>1</td>\n",
       "    </tr>\n",
       "    <tr>\n",
       "      <th>4</th>\n",
       "      <td>medium</td>\n",
       "      <td>6.68</td>\n",
       "      <td>1</td>\n",
       "    </tr>\n",
       "    <tr>\n",
       "      <th>...</th>\n",
       "      <td>...</td>\n",
       "      <td>...</td>\n",
       "      <td>...</td>\n",
       "    </tr>\n",
       "    <tr>\n",
       "      <th>95</th>\n",
       "      <td>medium</td>\n",
       "      <td>1.94</td>\n",
       "      <td>1</td>\n",
       "    </tr>\n",
       "    <tr>\n",
       "      <th>96</th>\n",
       "      <td>medium</td>\n",
       "      <td>0.23</td>\n",
       "      <td>1</td>\n",
       "    </tr>\n",
       "    <tr>\n",
       "      <th>97</th>\n",
       "      <td>high</td>\n",
       "      <td>0.15</td>\n",
       "      <td>0</td>\n",
       "    </tr>\n",
       "    <tr>\n",
       "      <th>98</th>\n",
       "      <td>medium</td>\n",
       "      <td>2.23</td>\n",
       "      <td>1</td>\n",
       "    </tr>\n",
       "    <tr>\n",
       "      <th>99</th>\n",
       "      <td>high</td>\n",
       "      <td>2.76</td>\n",
       "      <td>0</td>\n",
       "    </tr>\n",
       "  </tbody>\n",
       "</table>\n",
       "<p>100 rows × 3 columns</p>\n",
       "</div>"
      ],
      "text/plain": [
       "         a     b class\n",
       "0     high  5.28     0\n",
       "1   medium  6.82     1\n",
       "2   medium  7.68     1\n",
       "3   medium  4.20     1\n",
       "4   medium  6.68     1\n",
       "..     ...   ...   ...\n",
       "95  medium  1.94     1\n",
       "96  medium  0.23     1\n",
       "97    high  0.15     0\n",
       "98  medium  2.23     1\n",
       "99    high  2.76     0\n",
       "\n",
       "[100 rows x 3 columns]"
      ]
     },
     "execution_count": 20,
     "metadata": {},
     "output_type": "execute_result"
    }
   ],
   "source": [
    "df = pd.DataFrame(columns=[\"a\", \"b\", \"class\"], index = [i for i in range(0,100)])\n",
    "\n",
    "\n",
    "a = [random.randint(0, 2) for i in range(100)]\n",
    "b = [round(random.uniform(0, 9),2) for i in range(100)]\n",
    "\n",
    "\n",
    "df[\"a\"] = a\n",
    "df[\"b\"] = b\n",
    "\n",
    "df = df.replace({'a': {0: \"low\", 1: \"medium\", 2: \"high\"}})\n",
    "df.loc[(df[\"a\"] == \"low\") | (df[\"a\"] == \"medium\"),\"class\"] = \"1\"\n",
    "df = df.fillna(\"0\")\n",
    "df"
   ]
  },
  {
   "cell_type": "code",
   "execution_count": 21,
   "metadata": {},
   "outputs": [
    {
     "data": {
      "application/vnd.plotly.v1+json": {
       "config": {
        "plotlyServerURL": "https://plot.ly"
       },
       "data": [
        {
         "hovertemplate": "class=0<br>a=%{x}<br>b=%{y}<extra></extra>",
         "legendgroup": "0",
         "marker": {
          "color": "#636efa",
          "symbol": "circle"
         },
         "mode": "markers",
         "name": "0",
         "orientation": "v",
         "showlegend": true,
         "type": "scatter",
         "x": [
          "high",
          "high",
          "high",
          "high",
          "high",
          "high",
          "high",
          "high",
          "high",
          "high",
          "high",
          "high",
          "high",
          "high",
          "high",
          "high",
          "high",
          "high",
          "high",
          "high",
          "high",
          "high",
          "high",
          "high",
          "high",
          "high",
          "high",
          "high",
          "high",
          "high",
          "high",
          "high"
         ],
         "xaxis": "x",
         "y": [
          5.28,
          6.39,
          1.08,
          1.07,
          5.06,
          5.77,
          1.63,
          3.2,
          2.94,
          7.49,
          6.77,
          6.89,
          3.88,
          3.09,
          6.2,
          5.95,
          0.02,
          1.18,
          5.35,
          8.12,
          1.85,
          2.5,
          8.98,
          0.99,
          8.13,
          8.33,
          6.34,
          1.2,
          7.12,
          4.58,
          0.15,
          2.76
         ],
         "yaxis": "y"
        },
        {
         "hovertemplate": "class=1<br>a=%{x}<br>b=%{y}<extra></extra>",
         "legendgroup": "1",
         "marker": {
          "color": "#EF553B",
          "symbol": "circle"
         },
         "mode": "markers",
         "name": "1",
         "orientation": "v",
         "showlegend": true,
         "type": "scatter",
         "x": [
          "medium",
          "medium",
          "medium",
          "medium",
          "low",
          "medium",
          "medium",
          "low",
          "low",
          "medium",
          "low",
          "low",
          "low",
          "low",
          "medium",
          "medium",
          "medium",
          "medium",
          "low",
          "medium",
          "low",
          "medium",
          "medium",
          "medium",
          "low",
          "low",
          "medium",
          "low",
          "medium",
          "low",
          "low",
          "low",
          "medium",
          "medium",
          "medium",
          "low",
          "low",
          "medium",
          "medium",
          "medium",
          "low",
          "medium",
          "medium",
          "low",
          "low",
          "medium",
          "medium",
          "medium",
          "low",
          "medium",
          "medium",
          "low",
          "medium",
          "low",
          "medium",
          "low",
          "medium",
          "medium",
          "low",
          "low",
          "medium",
          "medium",
          "medium",
          "low",
          "medium",
          "medium",
          "medium",
          "medium"
         ],
         "xaxis": "x",
         "y": [
          6.82,
          7.68,
          4.2,
          6.68,
          2.06,
          0.65,
          5.46,
          8.9,
          5.39,
          1.94,
          7.03,
          7.1,
          7.75,
          1.71,
          6.55,
          5.67,
          7.23,
          5.63,
          3.12,
          5.65,
          6.26,
          2.29,
          7.17,
          2.52,
          1.84,
          3.46,
          2.8,
          5.28,
          1.45,
          0.85,
          0.59,
          1.81,
          2.87,
          7.24,
          7.74,
          1.08,
          1.53,
          5.6,
          7.58,
          2.75,
          7.55,
          1.84,
          7.81,
          6.62,
          2.99,
          8.97,
          7.78,
          2.12,
          6.86,
          7.89,
          4.6,
          5.69,
          1.72,
          0.32,
          4.51,
          1.35,
          0.58,
          8,
          6.21,
          6.21,
          4.32,
          7.8,
          2.75,
          5.99,
          7.54,
          1.94,
          0.23,
          2.23
         ],
         "yaxis": "y"
        }
       ],
       "layout": {
        "height": 560,
        "legend": {
         "title": {
          "text": "class"
         },
         "tracegroupgap": 0
        },
        "margin": {
         "t": 60
        },
        "template": {
         "data": {
          "bar": [
           {
            "error_x": {
             "color": "#2a3f5f"
            },
            "error_y": {
             "color": "#2a3f5f"
            },
            "marker": {
             "line": {
              "color": "#E5ECF6",
              "width": 0.5
             },
             "pattern": {
              "fillmode": "overlay",
              "size": 10,
              "solidity": 0.2
             }
            },
            "type": "bar"
           }
          ],
          "barpolar": [
           {
            "marker": {
             "line": {
              "color": "#E5ECF6",
              "width": 0.5
             },
             "pattern": {
              "fillmode": "overlay",
              "size": 10,
              "solidity": 0.2
             }
            },
            "type": "barpolar"
           }
          ],
          "carpet": [
           {
            "aaxis": {
             "endlinecolor": "#2a3f5f",
             "gridcolor": "white",
             "linecolor": "white",
             "minorgridcolor": "white",
             "startlinecolor": "#2a3f5f"
            },
            "baxis": {
             "endlinecolor": "#2a3f5f",
             "gridcolor": "white",
             "linecolor": "white",
             "minorgridcolor": "white",
             "startlinecolor": "#2a3f5f"
            },
            "type": "carpet"
           }
          ],
          "choropleth": [
           {
            "colorbar": {
             "outlinewidth": 0,
             "ticks": ""
            },
            "type": "choropleth"
           }
          ],
          "contour": [
           {
            "colorbar": {
             "outlinewidth": 0,
             "ticks": ""
            },
            "colorscale": [
             [
              0,
              "#0d0887"
             ],
             [
              0.1111111111111111,
              "#46039f"
             ],
             [
              0.2222222222222222,
              "#7201a8"
             ],
             [
              0.3333333333333333,
              "#9c179e"
             ],
             [
              0.4444444444444444,
              "#bd3786"
             ],
             [
              0.5555555555555556,
              "#d8576b"
             ],
             [
              0.6666666666666666,
              "#ed7953"
             ],
             [
              0.7777777777777778,
              "#fb9f3a"
             ],
             [
              0.8888888888888888,
              "#fdca26"
             ],
             [
              1,
              "#f0f921"
             ]
            ],
            "type": "contour"
           }
          ],
          "contourcarpet": [
           {
            "colorbar": {
             "outlinewidth": 0,
             "ticks": ""
            },
            "type": "contourcarpet"
           }
          ],
          "heatmap": [
           {
            "colorbar": {
             "outlinewidth": 0,
             "ticks": ""
            },
            "colorscale": [
             [
              0,
              "#0d0887"
             ],
             [
              0.1111111111111111,
              "#46039f"
             ],
             [
              0.2222222222222222,
              "#7201a8"
             ],
             [
              0.3333333333333333,
              "#9c179e"
             ],
             [
              0.4444444444444444,
              "#bd3786"
             ],
             [
              0.5555555555555556,
              "#d8576b"
             ],
             [
              0.6666666666666666,
              "#ed7953"
             ],
             [
              0.7777777777777778,
              "#fb9f3a"
             ],
             [
              0.8888888888888888,
              "#fdca26"
             ],
             [
              1,
              "#f0f921"
             ]
            ],
            "type": "heatmap"
           }
          ],
          "heatmapgl": [
           {
            "colorbar": {
             "outlinewidth": 0,
             "ticks": ""
            },
            "colorscale": [
             [
              0,
              "#0d0887"
             ],
             [
              0.1111111111111111,
              "#46039f"
             ],
             [
              0.2222222222222222,
              "#7201a8"
             ],
             [
              0.3333333333333333,
              "#9c179e"
             ],
             [
              0.4444444444444444,
              "#bd3786"
             ],
             [
              0.5555555555555556,
              "#d8576b"
             ],
             [
              0.6666666666666666,
              "#ed7953"
             ],
             [
              0.7777777777777778,
              "#fb9f3a"
             ],
             [
              0.8888888888888888,
              "#fdca26"
             ],
             [
              1,
              "#f0f921"
             ]
            ],
            "type": "heatmapgl"
           }
          ],
          "histogram": [
           {
            "marker": {
             "pattern": {
              "fillmode": "overlay",
              "size": 10,
              "solidity": 0.2
             }
            },
            "type": "histogram"
           }
          ],
          "histogram2d": [
           {
            "colorbar": {
             "outlinewidth": 0,
             "ticks": ""
            },
            "colorscale": [
             [
              0,
              "#0d0887"
             ],
             [
              0.1111111111111111,
              "#46039f"
             ],
             [
              0.2222222222222222,
              "#7201a8"
             ],
             [
              0.3333333333333333,
              "#9c179e"
             ],
             [
              0.4444444444444444,
              "#bd3786"
             ],
             [
              0.5555555555555556,
              "#d8576b"
             ],
             [
              0.6666666666666666,
              "#ed7953"
             ],
             [
              0.7777777777777778,
              "#fb9f3a"
             ],
             [
              0.8888888888888888,
              "#fdca26"
             ],
             [
              1,
              "#f0f921"
             ]
            ],
            "type": "histogram2d"
           }
          ],
          "histogram2dcontour": [
           {
            "colorbar": {
             "outlinewidth": 0,
             "ticks": ""
            },
            "colorscale": [
             [
              0,
              "#0d0887"
             ],
             [
              0.1111111111111111,
              "#46039f"
             ],
             [
              0.2222222222222222,
              "#7201a8"
             ],
             [
              0.3333333333333333,
              "#9c179e"
             ],
             [
              0.4444444444444444,
              "#bd3786"
             ],
             [
              0.5555555555555556,
              "#d8576b"
             ],
             [
              0.6666666666666666,
              "#ed7953"
             ],
             [
              0.7777777777777778,
              "#fb9f3a"
             ],
             [
              0.8888888888888888,
              "#fdca26"
             ],
             [
              1,
              "#f0f921"
             ]
            ],
            "type": "histogram2dcontour"
           }
          ],
          "mesh3d": [
           {
            "colorbar": {
             "outlinewidth": 0,
             "ticks": ""
            },
            "type": "mesh3d"
           }
          ],
          "parcoords": [
           {
            "line": {
             "colorbar": {
              "outlinewidth": 0,
              "ticks": ""
             }
            },
            "type": "parcoords"
           }
          ],
          "pie": [
           {
            "automargin": true,
            "type": "pie"
           }
          ],
          "scatter": [
           {
            "fillpattern": {
             "fillmode": "overlay",
             "size": 10,
             "solidity": 0.2
            },
            "type": "scatter"
           }
          ],
          "scatter3d": [
           {
            "line": {
             "colorbar": {
              "outlinewidth": 0,
              "ticks": ""
             }
            },
            "marker": {
             "colorbar": {
              "outlinewidth": 0,
              "ticks": ""
             }
            },
            "type": "scatter3d"
           }
          ],
          "scattercarpet": [
           {
            "marker": {
             "colorbar": {
              "outlinewidth": 0,
              "ticks": ""
             }
            },
            "type": "scattercarpet"
           }
          ],
          "scattergeo": [
           {
            "marker": {
             "colorbar": {
              "outlinewidth": 0,
              "ticks": ""
             }
            },
            "type": "scattergeo"
           }
          ],
          "scattergl": [
           {
            "marker": {
             "colorbar": {
              "outlinewidth": 0,
              "ticks": ""
             }
            },
            "type": "scattergl"
           }
          ],
          "scattermapbox": [
           {
            "marker": {
             "colorbar": {
              "outlinewidth": 0,
              "ticks": ""
             }
            },
            "type": "scattermapbox"
           }
          ],
          "scatterpolar": [
           {
            "marker": {
             "colorbar": {
              "outlinewidth": 0,
              "ticks": ""
             }
            },
            "type": "scatterpolar"
           }
          ],
          "scatterpolargl": [
           {
            "marker": {
             "colorbar": {
              "outlinewidth": 0,
              "ticks": ""
             }
            },
            "type": "scatterpolargl"
           }
          ],
          "scatterternary": [
           {
            "marker": {
             "colorbar": {
              "outlinewidth": 0,
              "ticks": ""
             }
            },
            "type": "scatterternary"
           }
          ],
          "surface": [
           {
            "colorbar": {
             "outlinewidth": 0,
             "ticks": ""
            },
            "colorscale": [
             [
              0,
              "#0d0887"
             ],
             [
              0.1111111111111111,
              "#46039f"
             ],
             [
              0.2222222222222222,
              "#7201a8"
             ],
             [
              0.3333333333333333,
              "#9c179e"
             ],
             [
              0.4444444444444444,
              "#bd3786"
             ],
             [
              0.5555555555555556,
              "#d8576b"
             ],
             [
              0.6666666666666666,
              "#ed7953"
             ],
             [
              0.7777777777777778,
              "#fb9f3a"
             ],
             [
              0.8888888888888888,
              "#fdca26"
             ],
             [
              1,
              "#f0f921"
             ]
            ],
            "type": "surface"
           }
          ],
          "table": [
           {
            "cells": {
             "fill": {
              "color": "#EBF0F8"
             },
             "line": {
              "color": "white"
             }
            },
            "header": {
             "fill": {
              "color": "#C8D4E3"
             },
             "line": {
              "color": "white"
             }
            },
            "type": "table"
           }
          ]
         },
         "layout": {
          "annotationdefaults": {
           "arrowcolor": "#2a3f5f",
           "arrowhead": 0,
           "arrowwidth": 1
          },
          "autotypenumbers": "strict",
          "coloraxis": {
           "colorbar": {
            "outlinewidth": 0,
            "ticks": ""
           }
          },
          "colorscale": {
           "diverging": [
            [
             0,
             "#8e0152"
            ],
            [
             0.1,
             "#c51b7d"
            ],
            [
             0.2,
             "#de77ae"
            ],
            [
             0.3,
             "#f1b6da"
            ],
            [
             0.4,
             "#fde0ef"
            ],
            [
             0.5,
             "#f7f7f7"
            ],
            [
             0.6,
             "#e6f5d0"
            ],
            [
             0.7,
             "#b8e186"
            ],
            [
             0.8,
             "#7fbc41"
            ],
            [
             0.9,
             "#4d9221"
            ],
            [
             1,
             "#276419"
            ]
           ],
           "sequential": [
            [
             0,
             "#0d0887"
            ],
            [
             0.1111111111111111,
             "#46039f"
            ],
            [
             0.2222222222222222,
             "#7201a8"
            ],
            [
             0.3333333333333333,
             "#9c179e"
            ],
            [
             0.4444444444444444,
             "#bd3786"
            ],
            [
             0.5555555555555556,
             "#d8576b"
            ],
            [
             0.6666666666666666,
             "#ed7953"
            ],
            [
             0.7777777777777778,
             "#fb9f3a"
            ],
            [
             0.8888888888888888,
             "#fdca26"
            ],
            [
             1,
             "#f0f921"
            ]
           ],
           "sequentialminus": [
            [
             0,
             "#0d0887"
            ],
            [
             0.1111111111111111,
             "#46039f"
            ],
            [
             0.2222222222222222,
             "#7201a8"
            ],
            [
             0.3333333333333333,
             "#9c179e"
            ],
            [
             0.4444444444444444,
             "#bd3786"
            ],
            [
             0.5555555555555556,
             "#d8576b"
            ],
            [
             0.6666666666666666,
             "#ed7953"
            ],
            [
             0.7777777777777778,
             "#fb9f3a"
            ],
            [
             0.8888888888888888,
             "#fdca26"
            ],
            [
             1,
             "#f0f921"
            ]
           ]
          },
          "colorway": [
           "#636efa",
           "#EF553B",
           "#00cc96",
           "#ab63fa",
           "#FFA15A",
           "#19d3f3",
           "#FF6692",
           "#B6E880",
           "#FF97FF",
           "#FECB52"
          ],
          "font": {
           "color": "#2a3f5f"
          },
          "geo": {
           "bgcolor": "white",
           "lakecolor": "white",
           "landcolor": "#E5ECF6",
           "showlakes": true,
           "showland": true,
           "subunitcolor": "white"
          },
          "hoverlabel": {
           "align": "left"
          },
          "hovermode": "closest",
          "mapbox": {
           "style": "light"
          },
          "paper_bgcolor": "white",
          "plot_bgcolor": "#E5ECF6",
          "polar": {
           "angularaxis": {
            "gridcolor": "white",
            "linecolor": "white",
            "ticks": ""
           },
           "bgcolor": "#E5ECF6",
           "radialaxis": {
            "gridcolor": "white",
            "linecolor": "white",
            "ticks": ""
           }
          },
          "scene": {
           "xaxis": {
            "backgroundcolor": "#E5ECF6",
            "gridcolor": "white",
            "gridwidth": 2,
            "linecolor": "white",
            "showbackground": true,
            "ticks": "",
            "zerolinecolor": "white"
           },
           "yaxis": {
            "backgroundcolor": "#E5ECF6",
            "gridcolor": "white",
            "gridwidth": 2,
            "linecolor": "white",
            "showbackground": true,
            "ticks": "",
            "zerolinecolor": "white"
           },
           "zaxis": {
            "backgroundcolor": "#E5ECF6",
            "gridcolor": "white",
            "gridwidth": 2,
            "linecolor": "white",
            "showbackground": true,
            "ticks": "",
            "zerolinecolor": "white"
           }
          },
          "shapedefaults": {
           "line": {
            "color": "#2a3f5f"
           }
          },
          "ternary": {
           "aaxis": {
            "gridcolor": "white",
            "linecolor": "white",
            "ticks": ""
           },
           "baxis": {
            "gridcolor": "white",
            "linecolor": "white",
            "ticks": ""
           },
           "bgcolor": "#E5ECF6",
           "caxis": {
            "gridcolor": "white",
            "linecolor": "white",
            "ticks": ""
           }
          },
          "title": {
           "x": 0.05
          },
          "xaxis": {
           "automargin": true,
           "gridcolor": "white",
           "linecolor": "white",
           "ticks": "",
           "title": {
            "standoff": 15
           },
           "zerolinecolor": "white",
           "zerolinewidth": 2
          },
          "yaxis": {
           "automargin": true,
           "gridcolor": "white",
           "linecolor": "white",
           "ticks": "",
           "title": {
            "standoff": 15
           },
           "zerolinecolor": "white",
           "zerolinewidth": 2
          }
         }
        },
        "width": 560,
        "xaxis": {
         "anchor": "y",
         "domain": [
          0,
          1
         ],
         "title": {
          "text": "a"
         }
        },
        "yaxis": {
         "anchor": "x",
         "domain": [
          0,
          1
         ],
         "title": {
          "text": "b"
         }
        }
       }
      },
      "text/html": [
       "<div>                            <div id=\"132bda5a-56f9-4830-b5ce-bcf32f331219\" class=\"plotly-graph-div\" style=\"height:560px; width:560px;\"></div>            <script type=\"text/javascript\">                require([\"plotly\"], function(Plotly) {                    window.PLOTLYENV=window.PLOTLYENV || {};                                    if (document.getElementById(\"132bda5a-56f9-4830-b5ce-bcf32f331219\")) {                    Plotly.newPlot(                        \"132bda5a-56f9-4830-b5ce-bcf32f331219\",                        [{\"hovertemplate\":\"class=0<br>a=%{x}<br>b=%{y}<extra></extra>\",\"legendgroup\":\"0\",\"marker\":{\"color\":\"#636efa\",\"symbol\":\"circle\"},\"mode\":\"markers\",\"name\":\"0\",\"orientation\":\"v\",\"showlegend\":true,\"x\":[\"high\",\"high\",\"high\",\"high\",\"high\",\"high\",\"high\",\"high\",\"high\",\"high\",\"high\",\"high\",\"high\",\"high\",\"high\",\"high\",\"high\",\"high\",\"high\",\"high\",\"high\",\"high\",\"high\",\"high\",\"high\",\"high\",\"high\",\"high\",\"high\",\"high\",\"high\",\"high\"],\"xaxis\":\"x\",\"y\":[5.28,6.39,1.08,1.07,5.06,5.77,1.63,3.2,2.94,7.49,6.77,6.89,3.88,3.09,6.2,5.95,0.02,1.18,5.35,8.12,1.85,2.5,8.98,0.99,8.13,8.33,6.34,1.2,7.12,4.58,0.15,2.76],\"yaxis\":\"y\",\"type\":\"scatter\"},{\"hovertemplate\":\"class=1<br>a=%{x}<br>b=%{y}<extra></extra>\",\"legendgroup\":\"1\",\"marker\":{\"color\":\"#EF553B\",\"symbol\":\"circle\"},\"mode\":\"markers\",\"name\":\"1\",\"orientation\":\"v\",\"showlegend\":true,\"x\":[\"medium\",\"medium\",\"medium\",\"medium\",\"low\",\"medium\",\"medium\",\"low\",\"low\",\"medium\",\"low\",\"low\",\"low\",\"low\",\"medium\",\"medium\",\"medium\",\"medium\",\"low\",\"medium\",\"low\",\"medium\",\"medium\",\"medium\",\"low\",\"low\",\"medium\",\"low\",\"medium\",\"low\",\"low\",\"low\",\"medium\",\"medium\",\"medium\",\"low\",\"low\",\"medium\",\"medium\",\"medium\",\"low\",\"medium\",\"medium\",\"low\",\"low\",\"medium\",\"medium\",\"medium\",\"low\",\"medium\",\"medium\",\"low\",\"medium\",\"low\",\"medium\",\"low\",\"medium\",\"medium\",\"low\",\"low\",\"medium\",\"medium\",\"medium\",\"low\",\"medium\",\"medium\",\"medium\",\"medium\"],\"xaxis\":\"x\",\"y\":[6.82,7.68,4.2,6.68,2.06,0.65,5.46,8.9,5.39,1.94,7.03,7.1,7.75,1.71,6.55,5.67,7.23,5.63,3.12,5.65,6.26,2.29,7.17,2.52,1.84,3.46,2.8,5.28,1.45,0.85,0.59,1.81,2.87,7.24,7.74,1.08,1.53,5.6,7.58,2.75,7.55,1.84,7.81,6.62,2.99,8.97,7.78,2.12,6.86,7.89,4.6,5.69,1.72,0.32,4.51,1.35,0.58,8.0,6.21,6.21,4.32,7.8,2.75,5.99,7.54,1.94,0.23,2.23],\"yaxis\":\"y\",\"type\":\"scatter\"}],                        {\"template\":{\"data\":{\"histogram2dcontour\":[{\"type\":\"histogram2dcontour\",\"colorbar\":{\"outlinewidth\":0,\"ticks\":\"\"},\"colorscale\":[[0.0,\"#0d0887\"],[0.1111111111111111,\"#46039f\"],[0.2222222222222222,\"#7201a8\"],[0.3333333333333333,\"#9c179e\"],[0.4444444444444444,\"#bd3786\"],[0.5555555555555556,\"#d8576b\"],[0.6666666666666666,\"#ed7953\"],[0.7777777777777778,\"#fb9f3a\"],[0.8888888888888888,\"#fdca26\"],[1.0,\"#f0f921\"]]}],\"choropleth\":[{\"type\":\"choropleth\",\"colorbar\":{\"outlinewidth\":0,\"ticks\":\"\"}}],\"histogram2d\":[{\"type\":\"histogram2d\",\"colorbar\":{\"outlinewidth\":0,\"ticks\":\"\"},\"colorscale\":[[0.0,\"#0d0887\"],[0.1111111111111111,\"#46039f\"],[0.2222222222222222,\"#7201a8\"],[0.3333333333333333,\"#9c179e\"],[0.4444444444444444,\"#bd3786\"],[0.5555555555555556,\"#d8576b\"],[0.6666666666666666,\"#ed7953\"],[0.7777777777777778,\"#fb9f3a\"],[0.8888888888888888,\"#fdca26\"],[1.0,\"#f0f921\"]]}],\"heatmap\":[{\"type\":\"heatmap\",\"colorbar\":{\"outlinewidth\":0,\"ticks\":\"\"},\"colorscale\":[[0.0,\"#0d0887\"],[0.1111111111111111,\"#46039f\"],[0.2222222222222222,\"#7201a8\"],[0.3333333333333333,\"#9c179e\"],[0.4444444444444444,\"#bd3786\"],[0.5555555555555556,\"#d8576b\"],[0.6666666666666666,\"#ed7953\"],[0.7777777777777778,\"#fb9f3a\"],[0.8888888888888888,\"#fdca26\"],[1.0,\"#f0f921\"]]}],\"heatmapgl\":[{\"type\":\"heatmapgl\",\"colorbar\":{\"outlinewidth\":0,\"ticks\":\"\"},\"colorscale\":[[0.0,\"#0d0887\"],[0.1111111111111111,\"#46039f\"],[0.2222222222222222,\"#7201a8\"],[0.3333333333333333,\"#9c179e\"],[0.4444444444444444,\"#bd3786\"],[0.5555555555555556,\"#d8576b\"],[0.6666666666666666,\"#ed7953\"],[0.7777777777777778,\"#fb9f3a\"],[0.8888888888888888,\"#fdca26\"],[1.0,\"#f0f921\"]]}],\"contourcarpet\":[{\"type\":\"contourcarpet\",\"colorbar\":{\"outlinewidth\":0,\"ticks\":\"\"}}],\"contour\":[{\"type\":\"contour\",\"colorbar\":{\"outlinewidth\":0,\"ticks\":\"\"},\"colorscale\":[[0.0,\"#0d0887\"],[0.1111111111111111,\"#46039f\"],[0.2222222222222222,\"#7201a8\"],[0.3333333333333333,\"#9c179e\"],[0.4444444444444444,\"#bd3786\"],[0.5555555555555556,\"#d8576b\"],[0.6666666666666666,\"#ed7953\"],[0.7777777777777778,\"#fb9f3a\"],[0.8888888888888888,\"#fdca26\"],[1.0,\"#f0f921\"]]}],\"surface\":[{\"type\":\"surface\",\"colorbar\":{\"outlinewidth\":0,\"ticks\":\"\"},\"colorscale\":[[0.0,\"#0d0887\"],[0.1111111111111111,\"#46039f\"],[0.2222222222222222,\"#7201a8\"],[0.3333333333333333,\"#9c179e\"],[0.4444444444444444,\"#bd3786\"],[0.5555555555555556,\"#d8576b\"],[0.6666666666666666,\"#ed7953\"],[0.7777777777777778,\"#fb9f3a\"],[0.8888888888888888,\"#fdca26\"],[1.0,\"#f0f921\"]]}],\"mesh3d\":[{\"type\":\"mesh3d\",\"colorbar\":{\"outlinewidth\":0,\"ticks\":\"\"}}],\"scatter\":[{\"fillpattern\":{\"fillmode\":\"overlay\",\"size\":10,\"solidity\":0.2},\"type\":\"scatter\"}],\"parcoords\":[{\"type\":\"parcoords\",\"line\":{\"colorbar\":{\"outlinewidth\":0,\"ticks\":\"\"}}}],\"scatterpolargl\":[{\"type\":\"scatterpolargl\",\"marker\":{\"colorbar\":{\"outlinewidth\":0,\"ticks\":\"\"}}}],\"bar\":[{\"error_x\":{\"color\":\"#2a3f5f\"},\"error_y\":{\"color\":\"#2a3f5f\"},\"marker\":{\"line\":{\"color\":\"#E5ECF6\",\"width\":0.5},\"pattern\":{\"fillmode\":\"overlay\",\"size\":10,\"solidity\":0.2}},\"type\":\"bar\"}],\"scattergeo\":[{\"type\":\"scattergeo\",\"marker\":{\"colorbar\":{\"outlinewidth\":0,\"ticks\":\"\"}}}],\"scatterpolar\":[{\"type\":\"scatterpolar\",\"marker\":{\"colorbar\":{\"outlinewidth\":0,\"ticks\":\"\"}}}],\"histogram\":[{\"marker\":{\"pattern\":{\"fillmode\":\"overlay\",\"size\":10,\"solidity\":0.2}},\"type\":\"histogram\"}],\"scattergl\":[{\"type\":\"scattergl\",\"marker\":{\"colorbar\":{\"outlinewidth\":0,\"ticks\":\"\"}}}],\"scatter3d\":[{\"type\":\"scatter3d\",\"line\":{\"colorbar\":{\"outlinewidth\":0,\"ticks\":\"\"}},\"marker\":{\"colorbar\":{\"outlinewidth\":0,\"ticks\":\"\"}}}],\"scattermapbox\":[{\"type\":\"scattermapbox\",\"marker\":{\"colorbar\":{\"outlinewidth\":0,\"ticks\":\"\"}}}],\"scatterternary\":[{\"type\":\"scatterternary\",\"marker\":{\"colorbar\":{\"outlinewidth\":0,\"ticks\":\"\"}}}],\"scattercarpet\":[{\"type\":\"scattercarpet\",\"marker\":{\"colorbar\":{\"outlinewidth\":0,\"ticks\":\"\"}}}],\"carpet\":[{\"aaxis\":{\"endlinecolor\":\"#2a3f5f\",\"gridcolor\":\"white\",\"linecolor\":\"white\",\"minorgridcolor\":\"white\",\"startlinecolor\":\"#2a3f5f\"},\"baxis\":{\"endlinecolor\":\"#2a3f5f\",\"gridcolor\":\"white\",\"linecolor\":\"white\",\"minorgridcolor\":\"white\",\"startlinecolor\":\"#2a3f5f\"},\"type\":\"carpet\"}],\"table\":[{\"cells\":{\"fill\":{\"color\":\"#EBF0F8\"},\"line\":{\"color\":\"white\"}},\"header\":{\"fill\":{\"color\":\"#C8D4E3\"},\"line\":{\"color\":\"white\"}},\"type\":\"table\"}],\"barpolar\":[{\"marker\":{\"line\":{\"color\":\"#E5ECF6\",\"width\":0.5},\"pattern\":{\"fillmode\":\"overlay\",\"size\":10,\"solidity\":0.2}},\"type\":\"barpolar\"}],\"pie\":[{\"automargin\":true,\"type\":\"pie\"}]},\"layout\":{\"autotypenumbers\":\"strict\",\"colorway\":[\"#636efa\",\"#EF553B\",\"#00cc96\",\"#ab63fa\",\"#FFA15A\",\"#19d3f3\",\"#FF6692\",\"#B6E880\",\"#FF97FF\",\"#FECB52\"],\"font\":{\"color\":\"#2a3f5f\"},\"hovermode\":\"closest\",\"hoverlabel\":{\"align\":\"left\"},\"paper_bgcolor\":\"white\",\"plot_bgcolor\":\"#E5ECF6\",\"polar\":{\"bgcolor\":\"#E5ECF6\",\"angularaxis\":{\"gridcolor\":\"white\",\"linecolor\":\"white\",\"ticks\":\"\"},\"radialaxis\":{\"gridcolor\":\"white\",\"linecolor\":\"white\",\"ticks\":\"\"}},\"ternary\":{\"bgcolor\":\"#E5ECF6\",\"aaxis\":{\"gridcolor\":\"white\",\"linecolor\":\"white\",\"ticks\":\"\"},\"baxis\":{\"gridcolor\":\"white\",\"linecolor\":\"white\",\"ticks\":\"\"},\"caxis\":{\"gridcolor\":\"white\",\"linecolor\":\"white\",\"ticks\":\"\"}},\"coloraxis\":{\"colorbar\":{\"outlinewidth\":0,\"ticks\":\"\"}},\"colorscale\":{\"sequential\":[[0.0,\"#0d0887\"],[0.1111111111111111,\"#46039f\"],[0.2222222222222222,\"#7201a8\"],[0.3333333333333333,\"#9c179e\"],[0.4444444444444444,\"#bd3786\"],[0.5555555555555556,\"#d8576b\"],[0.6666666666666666,\"#ed7953\"],[0.7777777777777778,\"#fb9f3a\"],[0.8888888888888888,\"#fdca26\"],[1.0,\"#f0f921\"]],\"sequentialminus\":[[0.0,\"#0d0887\"],[0.1111111111111111,\"#46039f\"],[0.2222222222222222,\"#7201a8\"],[0.3333333333333333,\"#9c179e\"],[0.4444444444444444,\"#bd3786\"],[0.5555555555555556,\"#d8576b\"],[0.6666666666666666,\"#ed7953\"],[0.7777777777777778,\"#fb9f3a\"],[0.8888888888888888,\"#fdca26\"],[1.0,\"#f0f921\"]],\"diverging\":[[0,\"#8e0152\"],[0.1,\"#c51b7d\"],[0.2,\"#de77ae\"],[0.3,\"#f1b6da\"],[0.4,\"#fde0ef\"],[0.5,\"#f7f7f7\"],[0.6,\"#e6f5d0\"],[0.7,\"#b8e186\"],[0.8,\"#7fbc41\"],[0.9,\"#4d9221\"],[1,\"#276419\"]]},\"xaxis\":{\"gridcolor\":\"white\",\"linecolor\":\"white\",\"ticks\":\"\",\"title\":{\"standoff\":15},\"zerolinecolor\":\"white\",\"automargin\":true,\"zerolinewidth\":2},\"yaxis\":{\"gridcolor\":\"white\",\"linecolor\":\"white\",\"ticks\":\"\",\"title\":{\"standoff\":15},\"zerolinecolor\":\"white\",\"automargin\":true,\"zerolinewidth\":2},\"scene\":{\"xaxis\":{\"backgroundcolor\":\"#E5ECF6\",\"gridcolor\":\"white\",\"linecolor\":\"white\",\"showbackground\":true,\"ticks\":\"\",\"zerolinecolor\":\"white\",\"gridwidth\":2},\"yaxis\":{\"backgroundcolor\":\"#E5ECF6\",\"gridcolor\":\"white\",\"linecolor\":\"white\",\"showbackground\":true,\"ticks\":\"\",\"zerolinecolor\":\"white\",\"gridwidth\":2},\"zaxis\":{\"backgroundcolor\":\"#E5ECF6\",\"gridcolor\":\"white\",\"linecolor\":\"white\",\"showbackground\":true,\"ticks\":\"\",\"zerolinecolor\":\"white\",\"gridwidth\":2}},\"shapedefaults\":{\"line\":{\"color\":\"#2a3f5f\"}},\"annotationdefaults\":{\"arrowcolor\":\"#2a3f5f\",\"arrowhead\":0,\"arrowwidth\":1},\"geo\":{\"bgcolor\":\"white\",\"landcolor\":\"#E5ECF6\",\"subunitcolor\":\"white\",\"showland\":true,\"showlakes\":true,\"lakecolor\":\"white\"},\"title\":{\"x\":0.05},\"mapbox\":{\"style\":\"light\"}}},\"xaxis\":{\"anchor\":\"y\",\"domain\":[0.0,1.0],\"title\":{\"text\":\"a\"}},\"yaxis\":{\"anchor\":\"x\",\"domain\":[0.0,1.0],\"title\":{\"text\":\"b\"}},\"legend\":{\"title\":{\"text\":\"class\"},\"tracegroupgap\":0},\"margin\":{\"t\":60},\"height\":560,\"width\":560},                        {\"responsive\": true}                    ).then(function(){\n",
       "                            \n",
       "var gd = document.getElementById('132bda5a-56f9-4830-b5ce-bcf32f331219');\n",
       "var x = new MutationObserver(function (mutations, observer) {{\n",
       "        var display = window.getComputedStyle(gd).display;\n",
       "        if (!display || display === 'none') {{\n",
       "            console.log([gd, 'removed!']);\n",
       "            Plotly.purge(gd);\n",
       "            observer.disconnect();\n",
       "        }}\n",
       "}});\n",
       "\n",
       "// Listen for the removal of the full notebook cells\n",
       "var notebookContainer = gd.closest('#notebook-container');\n",
       "if (notebookContainer) {{\n",
       "    x.observe(notebookContainer, {childList: true});\n",
       "}}\n",
       "\n",
       "// Listen for the clearing of the current output cell\n",
       "var outputEl = gd.closest('.output');\n",
       "if (outputEl) {{\n",
       "    x.observe(outputEl, {childList: true});\n",
       "}}\n",
       "\n",
       "                        })                };                });            </script>        </div>"
      ]
     },
     "metadata": {},
     "output_type": "display_data"
    }
   ],
   "source": [
    "fig = px.scatter(df, x='a',\n",
    "            y='b',\n",
    "            color='class',\n",
    "            height=560,\n",
    "            width=560,\n",
    "            )\n",
    "fig.show()"
   ]
  },
  {
   "cell_type": "code",
   "execution_count": 22,
   "metadata": {},
   "outputs": [
    {
     "name": "stdout",
     "output_type": "stream",
     "text": [
      "Rules original\n",
      "IF a = {high} THEN class = {0} (p = 32.0, n = 0.0, P = 32.0, N = 68.0, weight = 1.0, pvalue = 6.992395703634604e-27)\n",
      "IF a = {medium} THEN class = {1} (p = 41.0, n = 0.0, P = 68.0, N = 32.0, weight = 0.8014705882352942, pvalue = 3.384504206881746e-10)\n",
      "IF a = {low} THEN class = {1} (p = 27.0, n = 0.0, P = 68.0, N = 32.0, weight = 0.6985294117647058, pvalue = 3.550945986473596e-06)\n",
      "\n",
      "\n",
      "Complex rules\n",
      "IF a = {high} THEN class = {0} (p = 32.0, n = 0.0, P = 32.0, N = 68.0, weight = 1.0, pvalue = 6.992395703634604e-27)\n",
      "IF a != {high} THEN class = {1} (p = 68.0, n = 0.0, P = 68.0, N = 32.0, weight = 1.0, pvalue = 6.992395703634604e-27)\n",
      "\n",
      "\n",
      "Complex rules + inners alternatives\n",
      "IF a = {high} THEN class = {0} (p = 32.0, n = 0.0, P = 32.0, N = 68.0, weight = 1.0, pvalue = 6.992395703634604e-27)\n",
      "IF a != {high} THEN class = {1} (p = 68.0, n = 0.0, P = 68.0, N = 32.0, weight = 1.0, pvalue = 6.992395703634604e-27)\n"
     ]
    }
   ],
   "source": [
    "X = df.drop(['class'], axis=1)\n",
    "y = df['class']\n",
    "\n",
    "clf_simple.fit(X, y)\n",
    "\n",
    "print(\"Rules original\")\n",
    "for rule in clf_simple.model.rules:\n",
    "    print(rule, rule.stats)\n",
    "\n",
    "print(\"\\n\\nComplex rules\")\n",
    "clf_complex.fit(X, y)\n",
    "for rule in clf_complex.model.rules:\n",
    "    print(rule, rule.stats)\n",
    "\n",
    "print(\"\\n\\nComplex rules + inners alternatives\")\n",
    "clf_complex_with_inners.fit(X, y)\n",
    "for rule in clf_complex_with_inners.model.rules:\n",
    "    print(rule, rule.stats)"
   ]
  },
  {
   "attachments": {},
   "cell_type": "markdown",
   "metadata": {},
   "source": [
    "## a = b "
   ]
  },
  {
   "cell_type": "code",
   "execution_count": 23,
   "metadata": {},
   "outputs": [
    {
     "data": {
      "text/html": [
       "<div>\n",
       "<style scoped>\n",
       "    .dataframe tbody tr th:only-of-type {\n",
       "        vertical-align: middle;\n",
       "    }\n",
       "\n",
       "    .dataframe tbody tr th {\n",
       "        vertical-align: top;\n",
       "    }\n",
       "\n",
       "    .dataframe thead th {\n",
       "        text-align: right;\n",
       "    }\n",
       "</style>\n",
       "<table border=\"1\" class=\"dataframe\">\n",
       "  <thead>\n",
       "    <tr style=\"text-align: right;\">\n",
       "      <th></th>\n",
       "      <th>a</th>\n",
       "      <th>b</th>\n",
       "      <th>class</th>\n",
       "    </tr>\n",
       "  </thead>\n",
       "  <tbody>\n",
       "    <tr>\n",
       "      <th>0</th>\n",
       "      <td>medium</td>\n",
       "      <td>medium</td>\n",
       "      <td>1</td>\n",
       "    </tr>\n",
       "    <tr>\n",
       "      <th>1</th>\n",
       "      <td>medium</td>\n",
       "      <td>high</td>\n",
       "      <td>0</td>\n",
       "    </tr>\n",
       "    <tr>\n",
       "      <th>2</th>\n",
       "      <td>medium</td>\n",
       "      <td>high</td>\n",
       "      <td>0</td>\n",
       "    </tr>\n",
       "    <tr>\n",
       "      <th>3</th>\n",
       "      <td>low</td>\n",
       "      <td>high</td>\n",
       "      <td>0</td>\n",
       "    </tr>\n",
       "    <tr>\n",
       "      <th>4</th>\n",
       "      <td>high</td>\n",
       "      <td>medium</td>\n",
       "      <td>0</td>\n",
       "    </tr>\n",
       "    <tr>\n",
       "      <th>...</th>\n",
       "      <td>...</td>\n",
       "      <td>...</td>\n",
       "      <td>...</td>\n",
       "    </tr>\n",
       "    <tr>\n",
       "      <th>95</th>\n",
       "      <td>high</td>\n",
       "      <td>medium</td>\n",
       "      <td>0</td>\n",
       "    </tr>\n",
       "    <tr>\n",
       "      <th>96</th>\n",
       "      <td>low</td>\n",
       "      <td>high</td>\n",
       "      <td>0</td>\n",
       "    </tr>\n",
       "    <tr>\n",
       "      <th>97</th>\n",
       "      <td>medium</td>\n",
       "      <td>low</td>\n",
       "      <td>0</td>\n",
       "    </tr>\n",
       "    <tr>\n",
       "      <th>98</th>\n",
       "      <td>medium</td>\n",
       "      <td>high</td>\n",
       "      <td>0</td>\n",
       "    </tr>\n",
       "    <tr>\n",
       "      <th>99</th>\n",
       "      <td>medium</td>\n",
       "      <td>medium</td>\n",
       "      <td>1</td>\n",
       "    </tr>\n",
       "  </tbody>\n",
       "</table>\n",
       "<p>100 rows × 3 columns</p>\n",
       "</div>"
      ],
      "text/plain": [
       "         a       b class\n",
       "0   medium  medium     1\n",
       "1   medium    high     0\n",
       "2   medium    high     0\n",
       "3      low    high     0\n",
       "4     high  medium     0\n",
       "..     ...     ...   ...\n",
       "95    high  medium     0\n",
       "96     low    high     0\n",
       "97  medium     low     0\n",
       "98  medium    high     0\n",
       "99  medium  medium     1\n",
       "\n",
       "[100 rows x 3 columns]"
      ]
     },
     "execution_count": 23,
     "metadata": {},
     "output_type": "execute_result"
    }
   ],
   "source": [
    "df = pd.DataFrame(columns=[\"a\", \"b\", \"class\"], index = [i for i in range(0,100)])\n",
    "\n",
    "\n",
    "a = [random.randint(0, 2) for i in range(100)]\n",
    "b = [random.randint(0, 2) for i in range(100)]\n",
    "\n",
    "\n",
    "df[\"a\"] = a\n",
    "df[\"b\"] = b\n",
    "\n",
    "df = df.replace({'a': {0: \"low\", 1: \"medium\", 2: \"high\"}, 'b': {0: \"low\", 1: \"medium\", 2: \"high\"}})\n",
    "df.loc[(df[\"a\"] == df[\"b\"]),\"class\"] = \"1\"\n",
    "df = df.fillna(\"0\")\n",
    "df"
   ]
  },
  {
   "cell_type": "code",
   "execution_count": 24,
   "metadata": {},
   "outputs": [
    {
     "data": {
      "application/vnd.plotly.v1+json": {
       "config": {
        "plotlyServerURL": "https://plot.ly"
       },
       "data": [
        {
         "hovertemplate": "class=1<br>a=%{x}<br>b=%{y}<extra></extra>",
         "legendgroup": "1",
         "marker": {
          "color": "#636efa",
          "symbol": "circle"
         },
         "mode": "markers",
         "name": "1",
         "orientation": "v",
         "showlegend": true,
         "type": "scatter",
         "x": [
          "medium",
          "low",
          "low",
          "low",
          "high",
          "high",
          "high",
          "low",
          "low",
          "medium",
          "high",
          "high",
          "high",
          "high",
          "high",
          "medium",
          "high",
          "low",
          "low",
          "low",
          "low",
          "high",
          "high",
          "low",
          "low",
          "low",
          "low",
          "high",
          "medium",
          "medium",
          "high",
          "medium",
          "high",
          "medium"
         ],
         "xaxis": "x",
         "y": [
          "medium",
          "low",
          "low",
          "low",
          "high",
          "high",
          "high",
          "low",
          "low",
          "medium",
          "high",
          "high",
          "high",
          "high",
          "high",
          "medium",
          "high",
          "low",
          "low",
          "low",
          "low",
          "high",
          "high",
          "low",
          "low",
          "low",
          "low",
          "high",
          "medium",
          "medium",
          "high",
          "medium",
          "high",
          "medium"
         ],
         "yaxis": "y"
        },
        {
         "hovertemplate": "class=0<br>a=%{x}<br>b=%{y}<extra></extra>",
         "legendgroup": "0",
         "marker": {
          "color": "#EF553B",
          "symbol": "circle"
         },
         "mode": "markers",
         "name": "0",
         "orientation": "v",
         "showlegend": true,
         "type": "scatter",
         "x": [
          "medium",
          "medium",
          "low",
          "high",
          "low",
          "high",
          "low",
          "high",
          "high",
          "high",
          "low",
          "high",
          "low",
          "high",
          "high",
          "medium",
          "low",
          "low",
          "low",
          "high",
          "low",
          "low",
          "high",
          "medium",
          "high",
          "high",
          "medium",
          "medium",
          "high",
          "high",
          "low",
          "medium",
          "low",
          "high",
          "medium",
          "medium",
          "low",
          "high",
          "high",
          "low",
          "medium",
          "low",
          "medium",
          "high",
          "low",
          "medium",
          "high",
          "high",
          "low",
          "high",
          "high",
          "medium",
          "high",
          "medium",
          "high",
          "high",
          "high",
          "medium",
          "high",
          "high",
          "low",
          "medium",
          "high",
          "low",
          "medium",
          "medium"
         ],
         "xaxis": "x",
         "y": [
          "high",
          "high",
          "high",
          "medium",
          "medium",
          "low",
          "medium",
          "medium",
          "low",
          "medium",
          "medium",
          "low",
          "medium",
          "medium",
          "medium",
          "low",
          "medium",
          "high",
          "high",
          "medium",
          "medium",
          "medium",
          "low",
          "low",
          "medium",
          "medium",
          "high",
          "high",
          "low",
          "medium",
          "high",
          "low",
          "high",
          "low",
          "low",
          "high",
          "high",
          "medium",
          "medium",
          "medium",
          "low",
          "medium",
          "high",
          "low",
          "high",
          "low",
          "low",
          "medium",
          "medium",
          "low",
          "medium",
          "low",
          "low",
          "high",
          "medium",
          "medium",
          "medium",
          "high",
          "low",
          "medium",
          "high",
          "high",
          "medium",
          "high",
          "low",
          "high"
         ],
         "yaxis": "y"
        }
       ],
       "layout": {
        "height": 560,
        "legend": {
         "title": {
          "text": "class"
         },
         "tracegroupgap": 0
        },
        "margin": {
         "t": 60
        },
        "template": {
         "data": {
          "bar": [
           {
            "error_x": {
             "color": "#2a3f5f"
            },
            "error_y": {
             "color": "#2a3f5f"
            },
            "marker": {
             "line": {
              "color": "#E5ECF6",
              "width": 0.5
             },
             "pattern": {
              "fillmode": "overlay",
              "size": 10,
              "solidity": 0.2
             }
            },
            "type": "bar"
           }
          ],
          "barpolar": [
           {
            "marker": {
             "line": {
              "color": "#E5ECF6",
              "width": 0.5
             },
             "pattern": {
              "fillmode": "overlay",
              "size": 10,
              "solidity": 0.2
             }
            },
            "type": "barpolar"
           }
          ],
          "carpet": [
           {
            "aaxis": {
             "endlinecolor": "#2a3f5f",
             "gridcolor": "white",
             "linecolor": "white",
             "minorgridcolor": "white",
             "startlinecolor": "#2a3f5f"
            },
            "baxis": {
             "endlinecolor": "#2a3f5f",
             "gridcolor": "white",
             "linecolor": "white",
             "minorgridcolor": "white",
             "startlinecolor": "#2a3f5f"
            },
            "type": "carpet"
           }
          ],
          "choropleth": [
           {
            "colorbar": {
             "outlinewidth": 0,
             "ticks": ""
            },
            "type": "choropleth"
           }
          ],
          "contour": [
           {
            "colorbar": {
             "outlinewidth": 0,
             "ticks": ""
            },
            "colorscale": [
             [
              0,
              "#0d0887"
             ],
             [
              0.1111111111111111,
              "#46039f"
             ],
             [
              0.2222222222222222,
              "#7201a8"
             ],
             [
              0.3333333333333333,
              "#9c179e"
             ],
             [
              0.4444444444444444,
              "#bd3786"
             ],
             [
              0.5555555555555556,
              "#d8576b"
             ],
             [
              0.6666666666666666,
              "#ed7953"
             ],
             [
              0.7777777777777778,
              "#fb9f3a"
             ],
             [
              0.8888888888888888,
              "#fdca26"
             ],
             [
              1,
              "#f0f921"
             ]
            ],
            "type": "contour"
           }
          ],
          "contourcarpet": [
           {
            "colorbar": {
             "outlinewidth": 0,
             "ticks": ""
            },
            "type": "contourcarpet"
           }
          ],
          "heatmap": [
           {
            "colorbar": {
             "outlinewidth": 0,
             "ticks": ""
            },
            "colorscale": [
             [
              0,
              "#0d0887"
             ],
             [
              0.1111111111111111,
              "#46039f"
             ],
             [
              0.2222222222222222,
              "#7201a8"
             ],
             [
              0.3333333333333333,
              "#9c179e"
             ],
             [
              0.4444444444444444,
              "#bd3786"
             ],
             [
              0.5555555555555556,
              "#d8576b"
             ],
             [
              0.6666666666666666,
              "#ed7953"
             ],
             [
              0.7777777777777778,
              "#fb9f3a"
             ],
             [
              0.8888888888888888,
              "#fdca26"
             ],
             [
              1,
              "#f0f921"
             ]
            ],
            "type": "heatmap"
           }
          ],
          "heatmapgl": [
           {
            "colorbar": {
             "outlinewidth": 0,
             "ticks": ""
            },
            "colorscale": [
             [
              0,
              "#0d0887"
             ],
             [
              0.1111111111111111,
              "#46039f"
             ],
             [
              0.2222222222222222,
              "#7201a8"
             ],
             [
              0.3333333333333333,
              "#9c179e"
             ],
             [
              0.4444444444444444,
              "#bd3786"
             ],
             [
              0.5555555555555556,
              "#d8576b"
             ],
             [
              0.6666666666666666,
              "#ed7953"
             ],
             [
              0.7777777777777778,
              "#fb9f3a"
             ],
             [
              0.8888888888888888,
              "#fdca26"
             ],
             [
              1,
              "#f0f921"
             ]
            ],
            "type": "heatmapgl"
           }
          ],
          "histogram": [
           {
            "marker": {
             "pattern": {
              "fillmode": "overlay",
              "size": 10,
              "solidity": 0.2
             }
            },
            "type": "histogram"
           }
          ],
          "histogram2d": [
           {
            "colorbar": {
             "outlinewidth": 0,
             "ticks": ""
            },
            "colorscale": [
             [
              0,
              "#0d0887"
             ],
             [
              0.1111111111111111,
              "#46039f"
             ],
             [
              0.2222222222222222,
              "#7201a8"
             ],
             [
              0.3333333333333333,
              "#9c179e"
             ],
             [
              0.4444444444444444,
              "#bd3786"
             ],
             [
              0.5555555555555556,
              "#d8576b"
             ],
             [
              0.6666666666666666,
              "#ed7953"
             ],
             [
              0.7777777777777778,
              "#fb9f3a"
             ],
             [
              0.8888888888888888,
              "#fdca26"
             ],
             [
              1,
              "#f0f921"
             ]
            ],
            "type": "histogram2d"
           }
          ],
          "histogram2dcontour": [
           {
            "colorbar": {
             "outlinewidth": 0,
             "ticks": ""
            },
            "colorscale": [
             [
              0,
              "#0d0887"
             ],
             [
              0.1111111111111111,
              "#46039f"
             ],
             [
              0.2222222222222222,
              "#7201a8"
             ],
             [
              0.3333333333333333,
              "#9c179e"
             ],
             [
              0.4444444444444444,
              "#bd3786"
             ],
             [
              0.5555555555555556,
              "#d8576b"
             ],
             [
              0.6666666666666666,
              "#ed7953"
             ],
             [
              0.7777777777777778,
              "#fb9f3a"
             ],
             [
              0.8888888888888888,
              "#fdca26"
             ],
             [
              1,
              "#f0f921"
             ]
            ],
            "type": "histogram2dcontour"
           }
          ],
          "mesh3d": [
           {
            "colorbar": {
             "outlinewidth": 0,
             "ticks": ""
            },
            "type": "mesh3d"
           }
          ],
          "parcoords": [
           {
            "line": {
             "colorbar": {
              "outlinewidth": 0,
              "ticks": ""
             }
            },
            "type": "parcoords"
           }
          ],
          "pie": [
           {
            "automargin": true,
            "type": "pie"
           }
          ],
          "scatter": [
           {
            "fillpattern": {
             "fillmode": "overlay",
             "size": 10,
             "solidity": 0.2
            },
            "type": "scatter"
           }
          ],
          "scatter3d": [
           {
            "line": {
             "colorbar": {
              "outlinewidth": 0,
              "ticks": ""
             }
            },
            "marker": {
             "colorbar": {
              "outlinewidth": 0,
              "ticks": ""
             }
            },
            "type": "scatter3d"
           }
          ],
          "scattercarpet": [
           {
            "marker": {
             "colorbar": {
              "outlinewidth": 0,
              "ticks": ""
             }
            },
            "type": "scattercarpet"
           }
          ],
          "scattergeo": [
           {
            "marker": {
             "colorbar": {
              "outlinewidth": 0,
              "ticks": ""
             }
            },
            "type": "scattergeo"
           }
          ],
          "scattergl": [
           {
            "marker": {
             "colorbar": {
              "outlinewidth": 0,
              "ticks": ""
             }
            },
            "type": "scattergl"
           }
          ],
          "scattermapbox": [
           {
            "marker": {
             "colorbar": {
              "outlinewidth": 0,
              "ticks": ""
             }
            },
            "type": "scattermapbox"
           }
          ],
          "scatterpolar": [
           {
            "marker": {
             "colorbar": {
              "outlinewidth": 0,
              "ticks": ""
             }
            },
            "type": "scatterpolar"
           }
          ],
          "scatterpolargl": [
           {
            "marker": {
             "colorbar": {
              "outlinewidth": 0,
              "ticks": ""
             }
            },
            "type": "scatterpolargl"
           }
          ],
          "scatterternary": [
           {
            "marker": {
             "colorbar": {
              "outlinewidth": 0,
              "ticks": ""
             }
            },
            "type": "scatterternary"
           }
          ],
          "surface": [
           {
            "colorbar": {
             "outlinewidth": 0,
             "ticks": ""
            },
            "colorscale": [
             [
              0,
              "#0d0887"
             ],
             [
              0.1111111111111111,
              "#46039f"
             ],
             [
              0.2222222222222222,
              "#7201a8"
             ],
             [
              0.3333333333333333,
              "#9c179e"
             ],
             [
              0.4444444444444444,
              "#bd3786"
             ],
             [
              0.5555555555555556,
              "#d8576b"
             ],
             [
              0.6666666666666666,
              "#ed7953"
             ],
             [
              0.7777777777777778,
              "#fb9f3a"
             ],
             [
              0.8888888888888888,
              "#fdca26"
             ],
             [
              1,
              "#f0f921"
             ]
            ],
            "type": "surface"
           }
          ],
          "table": [
           {
            "cells": {
             "fill": {
              "color": "#EBF0F8"
             },
             "line": {
              "color": "white"
             }
            },
            "header": {
             "fill": {
              "color": "#C8D4E3"
             },
             "line": {
              "color": "white"
             }
            },
            "type": "table"
           }
          ]
         },
         "layout": {
          "annotationdefaults": {
           "arrowcolor": "#2a3f5f",
           "arrowhead": 0,
           "arrowwidth": 1
          },
          "autotypenumbers": "strict",
          "coloraxis": {
           "colorbar": {
            "outlinewidth": 0,
            "ticks": ""
           }
          },
          "colorscale": {
           "diverging": [
            [
             0,
             "#8e0152"
            ],
            [
             0.1,
             "#c51b7d"
            ],
            [
             0.2,
             "#de77ae"
            ],
            [
             0.3,
             "#f1b6da"
            ],
            [
             0.4,
             "#fde0ef"
            ],
            [
             0.5,
             "#f7f7f7"
            ],
            [
             0.6,
             "#e6f5d0"
            ],
            [
             0.7,
             "#b8e186"
            ],
            [
             0.8,
             "#7fbc41"
            ],
            [
             0.9,
             "#4d9221"
            ],
            [
             1,
             "#276419"
            ]
           ],
           "sequential": [
            [
             0,
             "#0d0887"
            ],
            [
             0.1111111111111111,
             "#46039f"
            ],
            [
             0.2222222222222222,
             "#7201a8"
            ],
            [
             0.3333333333333333,
             "#9c179e"
            ],
            [
             0.4444444444444444,
             "#bd3786"
            ],
            [
             0.5555555555555556,
             "#d8576b"
            ],
            [
             0.6666666666666666,
             "#ed7953"
            ],
            [
             0.7777777777777778,
             "#fb9f3a"
            ],
            [
             0.8888888888888888,
             "#fdca26"
            ],
            [
             1,
             "#f0f921"
            ]
           ],
           "sequentialminus": [
            [
             0,
             "#0d0887"
            ],
            [
             0.1111111111111111,
             "#46039f"
            ],
            [
             0.2222222222222222,
             "#7201a8"
            ],
            [
             0.3333333333333333,
             "#9c179e"
            ],
            [
             0.4444444444444444,
             "#bd3786"
            ],
            [
             0.5555555555555556,
             "#d8576b"
            ],
            [
             0.6666666666666666,
             "#ed7953"
            ],
            [
             0.7777777777777778,
             "#fb9f3a"
            ],
            [
             0.8888888888888888,
             "#fdca26"
            ],
            [
             1,
             "#f0f921"
            ]
           ]
          },
          "colorway": [
           "#636efa",
           "#EF553B",
           "#00cc96",
           "#ab63fa",
           "#FFA15A",
           "#19d3f3",
           "#FF6692",
           "#B6E880",
           "#FF97FF",
           "#FECB52"
          ],
          "font": {
           "color": "#2a3f5f"
          },
          "geo": {
           "bgcolor": "white",
           "lakecolor": "white",
           "landcolor": "#E5ECF6",
           "showlakes": true,
           "showland": true,
           "subunitcolor": "white"
          },
          "hoverlabel": {
           "align": "left"
          },
          "hovermode": "closest",
          "mapbox": {
           "style": "light"
          },
          "paper_bgcolor": "white",
          "plot_bgcolor": "#E5ECF6",
          "polar": {
           "angularaxis": {
            "gridcolor": "white",
            "linecolor": "white",
            "ticks": ""
           },
           "bgcolor": "#E5ECF6",
           "radialaxis": {
            "gridcolor": "white",
            "linecolor": "white",
            "ticks": ""
           }
          },
          "scene": {
           "xaxis": {
            "backgroundcolor": "#E5ECF6",
            "gridcolor": "white",
            "gridwidth": 2,
            "linecolor": "white",
            "showbackground": true,
            "ticks": "",
            "zerolinecolor": "white"
           },
           "yaxis": {
            "backgroundcolor": "#E5ECF6",
            "gridcolor": "white",
            "gridwidth": 2,
            "linecolor": "white",
            "showbackground": true,
            "ticks": "",
            "zerolinecolor": "white"
           },
           "zaxis": {
            "backgroundcolor": "#E5ECF6",
            "gridcolor": "white",
            "gridwidth": 2,
            "linecolor": "white",
            "showbackground": true,
            "ticks": "",
            "zerolinecolor": "white"
           }
          },
          "shapedefaults": {
           "line": {
            "color": "#2a3f5f"
           }
          },
          "ternary": {
           "aaxis": {
            "gridcolor": "white",
            "linecolor": "white",
            "ticks": ""
           },
           "baxis": {
            "gridcolor": "white",
            "linecolor": "white",
            "ticks": ""
           },
           "bgcolor": "#E5ECF6",
           "caxis": {
            "gridcolor": "white",
            "linecolor": "white",
            "ticks": ""
           }
          },
          "title": {
           "x": 0.05
          },
          "xaxis": {
           "automargin": true,
           "gridcolor": "white",
           "linecolor": "white",
           "ticks": "",
           "title": {
            "standoff": 15
           },
           "zerolinecolor": "white",
           "zerolinewidth": 2
          },
          "yaxis": {
           "automargin": true,
           "gridcolor": "white",
           "linecolor": "white",
           "ticks": "",
           "title": {
            "standoff": 15
           },
           "zerolinecolor": "white",
           "zerolinewidth": 2
          }
         }
        },
        "width": 560,
        "xaxis": {
         "anchor": "y",
         "domain": [
          0,
          1
         ],
         "title": {
          "text": "a"
         }
        },
        "yaxis": {
         "anchor": "x",
         "domain": [
          0,
          1
         ],
         "title": {
          "text": "b"
         }
        }
       }
      },
      "text/html": [
       "<div>                            <div id=\"eb3b8eaa-0c63-4c51-8b7a-6b33f97318c7\" class=\"plotly-graph-div\" style=\"height:560px; width:560px;\"></div>            <script type=\"text/javascript\">                require([\"plotly\"], function(Plotly) {                    window.PLOTLYENV=window.PLOTLYENV || {};                                    if (document.getElementById(\"eb3b8eaa-0c63-4c51-8b7a-6b33f97318c7\")) {                    Plotly.newPlot(                        \"eb3b8eaa-0c63-4c51-8b7a-6b33f97318c7\",                        [{\"hovertemplate\":\"class=1<br>a=%{x}<br>b=%{y}<extra></extra>\",\"legendgroup\":\"1\",\"marker\":{\"color\":\"#636efa\",\"symbol\":\"circle\"},\"mode\":\"markers\",\"name\":\"1\",\"orientation\":\"v\",\"showlegend\":true,\"x\":[\"medium\",\"low\",\"low\",\"low\",\"high\",\"high\",\"high\",\"low\",\"low\",\"medium\",\"high\",\"high\",\"high\",\"high\",\"high\",\"medium\",\"high\",\"low\",\"low\",\"low\",\"low\",\"high\",\"high\",\"low\",\"low\",\"low\",\"low\",\"high\",\"medium\",\"medium\",\"high\",\"medium\",\"high\",\"medium\"],\"xaxis\":\"x\",\"y\":[\"medium\",\"low\",\"low\",\"low\",\"high\",\"high\",\"high\",\"low\",\"low\",\"medium\",\"high\",\"high\",\"high\",\"high\",\"high\",\"medium\",\"high\",\"low\",\"low\",\"low\",\"low\",\"high\",\"high\",\"low\",\"low\",\"low\",\"low\",\"high\",\"medium\",\"medium\",\"high\",\"medium\",\"high\",\"medium\"],\"yaxis\":\"y\",\"type\":\"scatter\"},{\"hovertemplate\":\"class=0<br>a=%{x}<br>b=%{y}<extra></extra>\",\"legendgroup\":\"0\",\"marker\":{\"color\":\"#EF553B\",\"symbol\":\"circle\"},\"mode\":\"markers\",\"name\":\"0\",\"orientation\":\"v\",\"showlegend\":true,\"x\":[\"medium\",\"medium\",\"low\",\"high\",\"low\",\"high\",\"low\",\"high\",\"high\",\"high\",\"low\",\"high\",\"low\",\"high\",\"high\",\"medium\",\"low\",\"low\",\"low\",\"high\",\"low\",\"low\",\"high\",\"medium\",\"high\",\"high\",\"medium\",\"medium\",\"high\",\"high\",\"low\",\"medium\",\"low\",\"high\",\"medium\",\"medium\",\"low\",\"high\",\"high\",\"low\",\"medium\",\"low\",\"medium\",\"high\",\"low\",\"medium\",\"high\",\"high\",\"low\",\"high\",\"high\",\"medium\",\"high\",\"medium\",\"high\",\"high\",\"high\",\"medium\",\"high\",\"high\",\"low\",\"medium\",\"high\",\"low\",\"medium\",\"medium\"],\"xaxis\":\"x\",\"y\":[\"high\",\"high\",\"high\",\"medium\",\"medium\",\"low\",\"medium\",\"medium\",\"low\",\"medium\",\"medium\",\"low\",\"medium\",\"medium\",\"medium\",\"low\",\"medium\",\"high\",\"high\",\"medium\",\"medium\",\"medium\",\"low\",\"low\",\"medium\",\"medium\",\"high\",\"high\",\"low\",\"medium\",\"high\",\"low\",\"high\",\"low\",\"low\",\"high\",\"high\",\"medium\",\"medium\",\"medium\",\"low\",\"medium\",\"high\",\"low\",\"high\",\"low\",\"low\",\"medium\",\"medium\",\"low\",\"medium\",\"low\",\"low\",\"high\",\"medium\",\"medium\",\"medium\",\"high\",\"low\",\"medium\",\"high\",\"high\",\"medium\",\"high\",\"low\",\"high\"],\"yaxis\":\"y\",\"type\":\"scatter\"}],                        {\"template\":{\"data\":{\"histogram2dcontour\":[{\"type\":\"histogram2dcontour\",\"colorbar\":{\"outlinewidth\":0,\"ticks\":\"\"},\"colorscale\":[[0.0,\"#0d0887\"],[0.1111111111111111,\"#46039f\"],[0.2222222222222222,\"#7201a8\"],[0.3333333333333333,\"#9c179e\"],[0.4444444444444444,\"#bd3786\"],[0.5555555555555556,\"#d8576b\"],[0.6666666666666666,\"#ed7953\"],[0.7777777777777778,\"#fb9f3a\"],[0.8888888888888888,\"#fdca26\"],[1.0,\"#f0f921\"]]}],\"choropleth\":[{\"type\":\"choropleth\",\"colorbar\":{\"outlinewidth\":0,\"ticks\":\"\"}}],\"histogram2d\":[{\"type\":\"histogram2d\",\"colorbar\":{\"outlinewidth\":0,\"ticks\":\"\"},\"colorscale\":[[0.0,\"#0d0887\"],[0.1111111111111111,\"#46039f\"],[0.2222222222222222,\"#7201a8\"],[0.3333333333333333,\"#9c179e\"],[0.4444444444444444,\"#bd3786\"],[0.5555555555555556,\"#d8576b\"],[0.6666666666666666,\"#ed7953\"],[0.7777777777777778,\"#fb9f3a\"],[0.8888888888888888,\"#fdca26\"],[1.0,\"#f0f921\"]]}],\"heatmap\":[{\"type\":\"heatmap\",\"colorbar\":{\"outlinewidth\":0,\"ticks\":\"\"},\"colorscale\":[[0.0,\"#0d0887\"],[0.1111111111111111,\"#46039f\"],[0.2222222222222222,\"#7201a8\"],[0.3333333333333333,\"#9c179e\"],[0.4444444444444444,\"#bd3786\"],[0.5555555555555556,\"#d8576b\"],[0.6666666666666666,\"#ed7953\"],[0.7777777777777778,\"#fb9f3a\"],[0.8888888888888888,\"#fdca26\"],[1.0,\"#f0f921\"]]}],\"heatmapgl\":[{\"type\":\"heatmapgl\",\"colorbar\":{\"outlinewidth\":0,\"ticks\":\"\"},\"colorscale\":[[0.0,\"#0d0887\"],[0.1111111111111111,\"#46039f\"],[0.2222222222222222,\"#7201a8\"],[0.3333333333333333,\"#9c179e\"],[0.4444444444444444,\"#bd3786\"],[0.5555555555555556,\"#d8576b\"],[0.6666666666666666,\"#ed7953\"],[0.7777777777777778,\"#fb9f3a\"],[0.8888888888888888,\"#fdca26\"],[1.0,\"#f0f921\"]]}],\"contourcarpet\":[{\"type\":\"contourcarpet\",\"colorbar\":{\"outlinewidth\":0,\"ticks\":\"\"}}],\"contour\":[{\"type\":\"contour\",\"colorbar\":{\"outlinewidth\":0,\"ticks\":\"\"},\"colorscale\":[[0.0,\"#0d0887\"],[0.1111111111111111,\"#46039f\"],[0.2222222222222222,\"#7201a8\"],[0.3333333333333333,\"#9c179e\"],[0.4444444444444444,\"#bd3786\"],[0.5555555555555556,\"#d8576b\"],[0.6666666666666666,\"#ed7953\"],[0.7777777777777778,\"#fb9f3a\"],[0.8888888888888888,\"#fdca26\"],[1.0,\"#f0f921\"]]}],\"surface\":[{\"type\":\"surface\",\"colorbar\":{\"outlinewidth\":0,\"ticks\":\"\"},\"colorscale\":[[0.0,\"#0d0887\"],[0.1111111111111111,\"#46039f\"],[0.2222222222222222,\"#7201a8\"],[0.3333333333333333,\"#9c179e\"],[0.4444444444444444,\"#bd3786\"],[0.5555555555555556,\"#d8576b\"],[0.6666666666666666,\"#ed7953\"],[0.7777777777777778,\"#fb9f3a\"],[0.8888888888888888,\"#fdca26\"],[1.0,\"#f0f921\"]]}],\"mesh3d\":[{\"type\":\"mesh3d\",\"colorbar\":{\"outlinewidth\":0,\"ticks\":\"\"}}],\"scatter\":[{\"fillpattern\":{\"fillmode\":\"overlay\",\"size\":10,\"solidity\":0.2},\"type\":\"scatter\"}],\"parcoords\":[{\"type\":\"parcoords\",\"line\":{\"colorbar\":{\"outlinewidth\":0,\"ticks\":\"\"}}}],\"scatterpolargl\":[{\"type\":\"scatterpolargl\",\"marker\":{\"colorbar\":{\"outlinewidth\":0,\"ticks\":\"\"}}}],\"bar\":[{\"error_x\":{\"color\":\"#2a3f5f\"},\"error_y\":{\"color\":\"#2a3f5f\"},\"marker\":{\"line\":{\"color\":\"#E5ECF6\",\"width\":0.5},\"pattern\":{\"fillmode\":\"overlay\",\"size\":10,\"solidity\":0.2}},\"type\":\"bar\"}],\"scattergeo\":[{\"type\":\"scattergeo\",\"marker\":{\"colorbar\":{\"outlinewidth\":0,\"ticks\":\"\"}}}],\"scatterpolar\":[{\"type\":\"scatterpolar\",\"marker\":{\"colorbar\":{\"outlinewidth\":0,\"ticks\":\"\"}}}],\"histogram\":[{\"marker\":{\"pattern\":{\"fillmode\":\"overlay\",\"size\":10,\"solidity\":0.2}},\"type\":\"histogram\"}],\"scattergl\":[{\"type\":\"scattergl\",\"marker\":{\"colorbar\":{\"outlinewidth\":0,\"ticks\":\"\"}}}],\"scatter3d\":[{\"type\":\"scatter3d\",\"line\":{\"colorbar\":{\"outlinewidth\":0,\"ticks\":\"\"}},\"marker\":{\"colorbar\":{\"outlinewidth\":0,\"ticks\":\"\"}}}],\"scattermapbox\":[{\"type\":\"scattermapbox\",\"marker\":{\"colorbar\":{\"outlinewidth\":0,\"ticks\":\"\"}}}],\"scatterternary\":[{\"type\":\"scatterternary\",\"marker\":{\"colorbar\":{\"outlinewidth\":0,\"ticks\":\"\"}}}],\"scattercarpet\":[{\"type\":\"scattercarpet\",\"marker\":{\"colorbar\":{\"outlinewidth\":0,\"ticks\":\"\"}}}],\"carpet\":[{\"aaxis\":{\"endlinecolor\":\"#2a3f5f\",\"gridcolor\":\"white\",\"linecolor\":\"white\",\"minorgridcolor\":\"white\",\"startlinecolor\":\"#2a3f5f\"},\"baxis\":{\"endlinecolor\":\"#2a3f5f\",\"gridcolor\":\"white\",\"linecolor\":\"white\",\"minorgridcolor\":\"white\",\"startlinecolor\":\"#2a3f5f\"},\"type\":\"carpet\"}],\"table\":[{\"cells\":{\"fill\":{\"color\":\"#EBF0F8\"},\"line\":{\"color\":\"white\"}},\"header\":{\"fill\":{\"color\":\"#C8D4E3\"},\"line\":{\"color\":\"white\"}},\"type\":\"table\"}],\"barpolar\":[{\"marker\":{\"line\":{\"color\":\"#E5ECF6\",\"width\":0.5},\"pattern\":{\"fillmode\":\"overlay\",\"size\":10,\"solidity\":0.2}},\"type\":\"barpolar\"}],\"pie\":[{\"automargin\":true,\"type\":\"pie\"}]},\"layout\":{\"autotypenumbers\":\"strict\",\"colorway\":[\"#636efa\",\"#EF553B\",\"#00cc96\",\"#ab63fa\",\"#FFA15A\",\"#19d3f3\",\"#FF6692\",\"#B6E880\",\"#FF97FF\",\"#FECB52\"],\"font\":{\"color\":\"#2a3f5f\"},\"hovermode\":\"closest\",\"hoverlabel\":{\"align\":\"left\"},\"paper_bgcolor\":\"white\",\"plot_bgcolor\":\"#E5ECF6\",\"polar\":{\"bgcolor\":\"#E5ECF6\",\"angularaxis\":{\"gridcolor\":\"white\",\"linecolor\":\"white\",\"ticks\":\"\"},\"radialaxis\":{\"gridcolor\":\"white\",\"linecolor\":\"white\",\"ticks\":\"\"}},\"ternary\":{\"bgcolor\":\"#E5ECF6\",\"aaxis\":{\"gridcolor\":\"white\",\"linecolor\":\"white\",\"ticks\":\"\"},\"baxis\":{\"gridcolor\":\"white\",\"linecolor\":\"white\",\"ticks\":\"\"},\"caxis\":{\"gridcolor\":\"white\",\"linecolor\":\"white\",\"ticks\":\"\"}},\"coloraxis\":{\"colorbar\":{\"outlinewidth\":0,\"ticks\":\"\"}},\"colorscale\":{\"sequential\":[[0.0,\"#0d0887\"],[0.1111111111111111,\"#46039f\"],[0.2222222222222222,\"#7201a8\"],[0.3333333333333333,\"#9c179e\"],[0.4444444444444444,\"#bd3786\"],[0.5555555555555556,\"#d8576b\"],[0.6666666666666666,\"#ed7953\"],[0.7777777777777778,\"#fb9f3a\"],[0.8888888888888888,\"#fdca26\"],[1.0,\"#f0f921\"]],\"sequentialminus\":[[0.0,\"#0d0887\"],[0.1111111111111111,\"#46039f\"],[0.2222222222222222,\"#7201a8\"],[0.3333333333333333,\"#9c179e\"],[0.4444444444444444,\"#bd3786\"],[0.5555555555555556,\"#d8576b\"],[0.6666666666666666,\"#ed7953\"],[0.7777777777777778,\"#fb9f3a\"],[0.8888888888888888,\"#fdca26\"],[1.0,\"#f0f921\"]],\"diverging\":[[0,\"#8e0152\"],[0.1,\"#c51b7d\"],[0.2,\"#de77ae\"],[0.3,\"#f1b6da\"],[0.4,\"#fde0ef\"],[0.5,\"#f7f7f7\"],[0.6,\"#e6f5d0\"],[0.7,\"#b8e186\"],[0.8,\"#7fbc41\"],[0.9,\"#4d9221\"],[1,\"#276419\"]]},\"xaxis\":{\"gridcolor\":\"white\",\"linecolor\":\"white\",\"ticks\":\"\",\"title\":{\"standoff\":15},\"zerolinecolor\":\"white\",\"automargin\":true,\"zerolinewidth\":2},\"yaxis\":{\"gridcolor\":\"white\",\"linecolor\":\"white\",\"ticks\":\"\",\"title\":{\"standoff\":15},\"zerolinecolor\":\"white\",\"automargin\":true,\"zerolinewidth\":2},\"scene\":{\"xaxis\":{\"backgroundcolor\":\"#E5ECF6\",\"gridcolor\":\"white\",\"linecolor\":\"white\",\"showbackground\":true,\"ticks\":\"\",\"zerolinecolor\":\"white\",\"gridwidth\":2},\"yaxis\":{\"backgroundcolor\":\"#E5ECF6\",\"gridcolor\":\"white\",\"linecolor\":\"white\",\"showbackground\":true,\"ticks\":\"\",\"zerolinecolor\":\"white\",\"gridwidth\":2},\"zaxis\":{\"backgroundcolor\":\"#E5ECF6\",\"gridcolor\":\"white\",\"linecolor\":\"white\",\"showbackground\":true,\"ticks\":\"\",\"zerolinecolor\":\"white\",\"gridwidth\":2}},\"shapedefaults\":{\"line\":{\"color\":\"#2a3f5f\"}},\"annotationdefaults\":{\"arrowcolor\":\"#2a3f5f\",\"arrowhead\":0,\"arrowwidth\":1},\"geo\":{\"bgcolor\":\"white\",\"landcolor\":\"#E5ECF6\",\"subunitcolor\":\"white\",\"showland\":true,\"showlakes\":true,\"lakecolor\":\"white\"},\"title\":{\"x\":0.05},\"mapbox\":{\"style\":\"light\"}}},\"xaxis\":{\"anchor\":\"y\",\"domain\":[0.0,1.0],\"title\":{\"text\":\"a\"}},\"yaxis\":{\"anchor\":\"x\",\"domain\":[0.0,1.0],\"title\":{\"text\":\"b\"}},\"legend\":{\"title\":{\"text\":\"class\"},\"tracegroupgap\":0},\"margin\":{\"t\":60},\"height\":560,\"width\":560},                        {\"responsive\": true}                    ).then(function(){\n",
       "                            \n",
       "var gd = document.getElementById('eb3b8eaa-0c63-4c51-8b7a-6b33f97318c7');\n",
       "var x = new MutationObserver(function (mutations, observer) {{\n",
       "        var display = window.getComputedStyle(gd).display;\n",
       "        if (!display || display === 'none') {{\n",
       "            console.log([gd, 'removed!']);\n",
       "            Plotly.purge(gd);\n",
       "            observer.disconnect();\n",
       "        }}\n",
       "}});\n",
       "\n",
       "// Listen for the removal of the full notebook cells\n",
       "var notebookContainer = gd.closest('#notebook-container');\n",
       "if (notebookContainer) {{\n",
       "    x.observe(notebookContainer, {childList: true});\n",
       "}}\n",
       "\n",
       "// Listen for the clearing of the current output cell\n",
       "var outputEl = gd.closest('.output');\n",
       "if (outputEl) {{\n",
       "    x.observe(outputEl, {childList: true});\n",
       "}}\n",
       "\n",
       "                        })                };                });            </script>        </div>"
      ]
     },
     "metadata": {},
     "output_type": "display_data"
    }
   ],
   "source": [
    "fig = px.scatter(df, x='a',\n",
    "            y='b',\n",
    "            color='class',\n",
    "            height=560,\n",
    "            width=560,\n",
    "            )\n",
    "fig.show()"
   ]
  },
  {
   "cell_type": "code",
   "execution_count": 25,
   "metadata": {},
   "outputs": [
    {
     "name": "stdout",
     "output_type": "stream",
     "text": [
      "Rules original\n",
      "IF a = {high} AND b = {high} THEN class = {1} (p = 14.0, n = 0.0, P = 34.0, N = 66.0, weight = 0.7058823529411764, pvalue = 3.1501967677758236e-08)\n",
      "IF a = {low} AND b = {low} THEN class = {1} (p = 13.0, n = 0.0, P = 34.0, N = 66.0, weight = 0.6911764705882353, pvalue = 1.3050815180785538e-07)\n",
      "IF a = {high} AND b = {medium} THEN class = {0} (p = 18.0, n = 0.0, P = 66.0, N = 34.0, weight = 0.6363636363636364, pvalue = 0.00022335122587369843)\n",
      "IF a = {low} AND b = {medium} THEN class = {0} (p = 10.0, n = 0.0, P = 66.0, N = 34.0, weight = 0.5757575757575758, pvalue = 0.012188144281239734)\n",
      "IF a = {medium} AND b = {high} THEN class = {0} (p = 10.0, n = 0.0, P = 66.0, N = 34.0, weight = 0.5757575757575758, pvalue = 0.012188144281239734)\n",
      "IF a = {medium} AND b = {low} THEN class = {0} (p = 8.0, n = 0.0, P = 66.0, N = 34.0, weight = 0.5606060606060606, pvalue = 0.03086483482230472)\n",
      "IF a = {high} AND b = {low} THEN class = {0} (p = 11.0, n = 0.0, P = 66.0, N = 34.0, weight = 0.5833333333333334, pvalue = 0.00758373421943806)\n",
      "\n",
      "\n",
      "Complex rules\n",
      "IF a = b THEN class = {1} (p = 34.0, n = 0.0, P = 34.0, N = 66.0, weight = 1.0, pvalue = 1.7220078971637378e-27)\n",
      "IF a != b THEN class = {0} (p = 66.0, n = 0.0, P = 66.0, N = 34.0, weight = 1.0, pvalue = 1.7220078971637378e-27)\n",
      "\n",
      "\n",
      "Complex rules + inners alternatives\n",
      "IF a = b THEN class = {1} (p = 34.0, n = 0.0, P = 34.0, N = 66.0, weight = 1.0, pvalue = 1.7220078971637378e-27)\n",
      "IF a != b THEN class = {0} (p = 66.0, n = 0.0, P = 66.0, N = 34.0, weight = 1.0, pvalue = 1.7220078971637378e-27)\n"
     ]
    }
   ],
   "source": [
    "X = df.drop(['class'], axis=1)\n",
    "y = df['class']\n",
    "\n",
    "clf_simple.fit(X, y)\n",
    "\n",
    "print(\"Rules original\")\n",
    "for rule in clf_simple.model.rules:\n",
    "    print(rule, rule.stats)\n",
    "\n",
    "print(\"\\n\\nComplex rules\")\n",
    "clf_complex.fit(X, y)\n",
    "for rule in clf_complex.model.rules:\n",
    "    print(rule, rule.stats)\n",
    "\n",
    "print(\"\\n\\nComplex rules + inners alternatives\")\n",
    "clf_complex_with_inners.fit(X, y)\n",
    "for rule in clf_complex_with_inners.model.rules:\n",
    "    print(rule, rule.stats)"
   ]
  },
  {
   "attachments": {},
   "cell_type": "markdown",
   "metadata": {},
   "source": [
    "# XOR"
   ]
  },
  {
   "cell_type": "code",
   "execution_count": 26,
   "metadata": {},
   "outputs": [
    {
     "data": {
      "text/html": [
       "<div>\n",
       "<style scoped>\n",
       "    .dataframe tbody tr th:only-of-type {\n",
       "        vertical-align: middle;\n",
       "    }\n",
       "\n",
       "    .dataframe tbody tr th {\n",
       "        vertical-align: top;\n",
       "    }\n",
       "\n",
       "    .dataframe thead th {\n",
       "        text-align: right;\n",
       "    }\n",
       "</style>\n",
       "<table border=\"1\" class=\"dataframe\">\n",
       "  <thead>\n",
       "    <tr style=\"text-align: right;\">\n",
       "      <th></th>\n",
       "      <th>a</th>\n",
       "      <th>b</th>\n",
       "      <th>class</th>\n",
       "    </tr>\n",
       "  </thead>\n",
       "  <tbody>\n",
       "    <tr>\n",
       "      <th>0</th>\n",
       "      <td>0</td>\n",
       "      <td>0</td>\n",
       "      <td>0</td>\n",
       "    </tr>\n",
       "    <tr>\n",
       "      <th>1</th>\n",
       "      <td>0</td>\n",
       "      <td>1</td>\n",
       "      <td>1</td>\n",
       "    </tr>\n",
       "    <tr>\n",
       "      <th>2</th>\n",
       "      <td>1</td>\n",
       "      <td>0</td>\n",
       "      <td>1</td>\n",
       "    </tr>\n",
       "    <tr>\n",
       "      <th>3</th>\n",
       "      <td>1</td>\n",
       "      <td>1</td>\n",
       "      <td>0</td>\n",
       "    </tr>\n",
       "  </tbody>\n",
       "</table>\n",
       "</div>"
      ],
      "text/plain": [
       "   a  b class\n",
       "0  0  0     0\n",
       "1  0  1     1\n",
       "2  1  0     1\n",
       "3  1  1     0"
      ]
     },
     "execution_count": 26,
     "metadata": {},
     "output_type": "execute_result"
    }
   ],
   "source": [
    "df = pd.DataFrame(columns=[\"a\", \"b\", \"class\"], index = [i for i in range(0,4)])\n",
    "\n",
    "\n",
    "a = [\"0\",\"0\",\"1\",\"1\"]\n",
    "b = [\"0\",\"1\",\"0\",\"1\"]\n",
    "\n",
    "df[\"a\"] = a\n",
    "df[\"b\"] = b\n",
    "\n",
    "df.loc[((df[\"a\"] == \"0\") & (df[\"b\"] == \"1\")) | ((df[\"a\"] == \"1\") & (df[\"b\"] == \"0\")) ,\"class\"] = \"1\"\n",
    "df = df.fillna(\"0\")\n",
    "df"
   ]
  },
  {
   "cell_type": "code",
   "execution_count": 27,
   "metadata": {},
   "outputs": [
    {
     "data": {
      "application/vnd.plotly.v1+json": {
       "config": {
        "plotlyServerURL": "https://plot.ly"
       },
       "data": [
        {
         "hovertemplate": "class=0<br>a=%{x}<br>b=%{y}<extra></extra>",
         "legendgroup": "0",
         "marker": {
          "color": "#636efa",
          "symbol": "circle"
         },
         "mode": "markers",
         "name": "0",
         "orientation": "v",
         "showlegend": true,
         "type": "scatter",
         "x": [
          "0",
          "1"
         ],
         "xaxis": "x",
         "y": [
          "0",
          "1"
         ],
         "yaxis": "y"
        },
        {
         "hovertemplate": "class=1<br>a=%{x}<br>b=%{y}<extra></extra>",
         "legendgroup": "1",
         "marker": {
          "color": "#EF553B",
          "symbol": "circle"
         },
         "mode": "markers",
         "name": "1",
         "orientation": "v",
         "showlegend": true,
         "type": "scatter",
         "x": [
          "0",
          "1"
         ],
         "xaxis": "x",
         "y": [
          "1",
          "0"
         ],
         "yaxis": "y"
        }
       ],
       "layout": {
        "height": 560,
        "legend": {
         "title": {
          "text": "class"
         },
         "tracegroupgap": 0
        },
        "margin": {
         "t": 60
        },
        "template": {
         "data": {
          "bar": [
           {
            "error_x": {
             "color": "#2a3f5f"
            },
            "error_y": {
             "color": "#2a3f5f"
            },
            "marker": {
             "line": {
              "color": "#E5ECF6",
              "width": 0.5
             },
             "pattern": {
              "fillmode": "overlay",
              "size": 10,
              "solidity": 0.2
             }
            },
            "type": "bar"
           }
          ],
          "barpolar": [
           {
            "marker": {
             "line": {
              "color": "#E5ECF6",
              "width": 0.5
             },
             "pattern": {
              "fillmode": "overlay",
              "size": 10,
              "solidity": 0.2
             }
            },
            "type": "barpolar"
           }
          ],
          "carpet": [
           {
            "aaxis": {
             "endlinecolor": "#2a3f5f",
             "gridcolor": "white",
             "linecolor": "white",
             "minorgridcolor": "white",
             "startlinecolor": "#2a3f5f"
            },
            "baxis": {
             "endlinecolor": "#2a3f5f",
             "gridcolor": "white",
             "linecolor": "white",
             "minorgridcolor": "white",
             "startlinecolor": "#2a3f5f"
            },
            "type": "carpet"
           }
          ],
          "choropleth": [
           {
            "colorbar": {
             "outlinewidth": 0,
             "ticks": ""
            },
            "type": "choropleth"
           }
          ],
          "contour": [
           {
            "colorbar": {
             "outlinewidth": 0,
             "ticks": ""
            },
            "colorscale": [
             [
              0,
              "#0d0887"
             ],
             [
              0.1111111111111111,
              "#46039f"
             ],
             [
              0.2222222222222222,
              "#7201a8"
             ],
             [
              0.3333333333333333,
              "#9c179e"
             ],
             [
              0.4444444444444444,
              "#bd3786"
             ],
             [
              0.5555555555555556,
              "#d8576b"
             ],
             [
              0.6666666666666666,
              "#ed7953"
             ],
             [
              0.7777777777777778,
              "#fb9f3a"
             ],
             [
              0.8888888888888888,
              "#fdca26"
             ],
             [
              1,
              "#f0f921"
             ]
            ],
            "type": "contour"
           }
          ],
          "contourcarpet": [
           {
            "colorbar": {
             "outlinewidth": 0,
             "ticks": ""
            },
            "type": "contourcarpet"
           }
          ],
          "heatmap": [
           {
            "colorbar": {
             "outlinewidth": 0,
             "ticks": ""
            },
            "colorscale": [
             [
              0,
              "#0d0887"
             ],
             [
              0.1111111111111111,
              "#46039f"
             ],
             [
              0.2222222222222222,
              "#7201a8"
             ],
             [
              0.3333333333333333,
              "#9c179e"
             ],
             [
              0.4444444444444444,
              "#bd3786"
             ],
             [
              0.5555555555555556,
              "#d8576b"
             ],
             [
              0.6666666666666666,
              "#ed7953"
             ],
             [
              0.7777777777777778,
              "#fb9f3a"
             ],
             [
              0.8888888888888888,
              "#fdca26"
             ],
             [
              1,
              "#f0f921"
             ]
            ],
            "type": "heatmap"
           }
          ],
          "heatmapgl": [
           {
            "colorbar": {
             "outlinewidth": 0,
             "ticks": ""
            },
            "colorscale": [
             [
              0,
              "#0d0887"
             ],
             [
              0.1111111111111111,
              "#46039f"
             ],
             [
              0.2222222222222222,
              "#7201a8"
             ],
             [
              0.3333333333333333,
              "#9c179e"
             ],
             [
              0.4444444444444444,
              "#bd3786"
             ],
             [
              0.5555555555555556,
              "#d8576b"
             ],
             [
              0.6666666666666666,
              "#ed7953"
             ],
             [
              0.7777777777777778,
              "#fb9f3a"
             ],
             [
              0.8888888888888888,
              "#fdca26"
             ],
             [
              1,
              "#f0f921"
             ]
            ],
            "type": "heatmapgl"
           }
          ],
          "histogram": [
           {
            "marker": {
             "pattern": {
              "fillmode": "overlay",
              "size": 10,
              "solidity": 0.2
             }
            },
            "type": "histogram"
           }
          ],
          "histogram2d": [
           {
            "colorbar": {
             "outlinewidth": 0,
             "ticks": ""
            },
            "colorscale": [
             [
              0,
              "#0d0887"
             ],
             [
              0.1111111111111111,
              "#46039f"
             ],
             [
              0.2222222222222222,
              "#7201a8"
             ],
             [
              0.3333333333333333,
              "#9c179e"
             ],
             [
              0.4444444444444444,
              "#bd3786"
             ],
             [
              0.5555555555555556,
              "#d8576b"
             ],
             [
              0.6666666666666666,
              "#ed7953"
             ],
             [
              0.7777777777777778,
              "#fb9f3a"
             ],
             [
              0.8888888888888888,
              "#fdca26"
             ],
             [
              1,
              "#f0f921"
             ]
            ],
            "type": "histogram2d"
           }
          ],
          "histogram2dcontour": [
           {
            "colorbar": {
             "outlinewidth": 0,
             "ticks": ""
            },
            "colorscale": [
             [
              0,
              "#0d0887"
             ],
             [
              0.1111111111111111,
              "#46039f"
             ],
             [
              0.2222222222222222,
              "#7201a8"
             ],
             [
              0.3333333333333333,
              "#9c179e"
             ],
             [
              0.4444444444444444,
              "#bd3786"
             ],
             [
              0.5555555555555556,
              "#d8576b"
             ],
             [
              0.6666666666666666,
              "#ed7953"
             ],
             [
              0.7777777777777778,
              "#fb9f3a"
             ],
             [
              0.8888888888888888,
              "#fdca26"
             ],
             [
              1,
              "#f0f921"
             ]
            ],
            "type": "histogram2dcontour"
           }
          ],
          "mesh3d": [
           {
            "colorbar": {
             "outlinewidth": 0,
             "ticks": ""
            },
            "type": "mesh3d"
           }
          ],
          "parcoords": [
           {
            "line": {
             "colorbar": {
              "outlinewidth": 0,
              "ticks": ""
             }
            },
            "type": "parcoords"
           }
          ],
          "pie": [
           {
            "automargin": true,
            "type": "pie"
           }
          ],
          "scatter": [
           {
            "fillpattern": {
             "fillmode": "overlay",
             "size": 10,
             "solidity": 0.2
            },
            "type": "scatter"
           }
          ],
          "scatter3d": [
           {
            "line": {
             "colorbar": {
              "outlinewidth": 0,
              "ticks": ""
             }
            },
            "marker": {
             "colorbar": {
              "outlinewidth": 0,
              "ticks": ""
             }
            },
            "type": "scatter3d"
           }
          ],
          "scattercarpet": [
           {
            "marker": {
             "colorbar": {
              "outlinewidth": 0,
              "ticks": ""
             }
            },
            "type": "scattercarpet"
           }
          ],
          "scattergeo": [
           {
            "marker": {
             "colorbar": {
              "outlinewidth": 0,
              "ticks": ""
             }
            },
            "type": "scattergeo"
           }
          ],
          "scattergl": [
           {
            "marker": {
             "colorbar": {
              "outlinewidth": 0,
              "ticks": ""
             }
            },
            "type": "scattergl"
           }
          ],
          "scattermapbox": [
           {
            "marker": {
             "colorbar": {
              "outlinewidth": 0,
              "ticks": ""
             }
            },
            "type": "scattermapbox"
           }
          ],
          "scatterpolar": [
           {
            "marker": {
             "colorbar": {
              "outlinewidth": 0,
              "ticks": ""
             }
            },
            "type": "scatterpolar"
           }
          ],
          "scatterpolargl": [
           {
            "marker": {
             "colorbar": {
              "outlinewidth": 0,
              "ticks": ""
             }
            },
            "type": "scatterpolargl"
           }
          ],
          "scatterternary": [
           {
            "marker": {
             "colorbar": {
              "outlinewidth": 0,
              "ticks": ""
             }
            },
            "type": "scatterternary"
           }
          ],
          "surface": [
           {
            "colorbar": {
             "outlinewidth": 0,
             "ticks": ""
            },
            "colorscale": [
             [
              0,
              "#0d0887"
             ],
             [
              0.1111111111111111,
              "#46039f"
             ],
             [
              0.2222222222222222,
              "#7201a8"
             ],
             [
              0.3333333333333333,
              "#9c179e"
             ],
             [
              0.4444444444444444,
              "#bd3786"
             ],
             [
              0.5555555555555556,
              "#d8576b"
             ],
             [
              0.6666666666666666,
              "#ed7953"
             ],
             [
              0.7777777777777778,
              "#fb9f3a"
             ],
             [
              0.8888888888888888,
              "#fdca26"
             ],
             [
              1,
              "#f0f921"
             ]
            ],
            "type": "surface"
           }
          ],
          "table": [
           {
            "cells": {
             "fill": {
              "color": "#EBF0F8"
             },
             "line": {
              "color": "white"
             }
            },
            "header": {
             "fill": {
              "color": "#C8D4E3"
             },
             "line": {
              "color": "white"
             }
            },
            "type": "table"
           }
          ]
         },
         "layout": {
          "annotationdefaults": {
           "arrowcolor": "#2a3f5f",
           "arrowhead": 0,
           "arrowwidth": 1
          },
          "autotypenumbers": "strict",
          "coloraxis": {
           "colorbar": {
            "outlinewidth": 0,
            "ticks": ""
           }
          },
          "colorscale": {
           "diverging": [
            [
             0,
             "#8e0152"
            ],
            [
             0.1,
             "#c51b7d"
            ],
            [
             0.2,
             "#de77ae"
            ],
            [
             0.3,
             "#f1b6da"
            ],
            [
             0.4,
             "#fde0ef"
            ],
            [
             0.5,
             "#f7f7f7"
            ],
            [
             0.6,
             "#e6f5d0"
            ],
            [
             0.7,
             "#b8e186"
            ],
            [
             0.8,
             "#7fbc41"
            ],
            [
             0.9,
             "#4d9221"
            ],
            [
             1,
             "#276419"
            ]
           ],
           "sequential": [
            [
             0,
             "#0d0887"
            ],
            [
             0.1111111111111111,
             "#46039f"
            ],
            [
             0.2222222222222222,
             "#7201a8"
            ],
            [
             0.3333333333333333,
             "#9c179e"
            ],
            [
             0.4444444444444444,
             "#bd3786"
            ],
            [
             0.5555555555555556,
             "#d8576b"
            ],
            [
             0.6666666666666666,
             "#ed7953"
            ],
            [
             0.7777777777777778,
             "#fb9f3a"
            ],
            [
             0.8888888888888888,
             "#fdca26"
            ],
            [
             1,
             "#f0f921"
            ]
           ],
           "sequentialminus": [
            [
             0,
             "#0d0887"
            ],
            [
             0.1111111111111111,
             "#46039f"
            ],
            [
             0.2222222222222222,
             "#7201a8"
            ],
            [
             0.3333333333333333,
             "#9c179e"
            ],
            [
             0.4444444444444444,
             "#bd3786"
            ],
            [
             0.5555555555555556,
             "#d8576b"
            ],
            [
             0.6666666666666666,
             "#ed7953"
            ],
            [
             0.7777777777777778,
             "#fb9f3a"
            ],
            [
             0.8888888888888888,
             "#fdca26"
            ],
            [
             1,
             "#f0f921"
            ]
           ]
          },
          "colorway": [
           "#636efa",
           "#EF553B",
           "#00cc96",
           "#ab63fa",
           "#FFA15A",
           "#19d3f3",
           "#FF6692",
           "#B6E880",
           "#FF97FF",
           "#FECB52"
          ],
          "font": {
           "color": "#2a3f5f"
          },
          "geo": {
           "bgcolor": "white",
           "lakecolor": "white",
           "landcolor": "#E5ECF6",
           "showlakes": true,
           "showland": true,
           "subunitcolor": "white"
          },
          "hoverlabel": {
           "align": "left"
          },
          "hovermode": "closest",
          "mapbox": {
           "style": "light"
          },
          "paper_bgcolor": "white",
          "plot_bgcolor": "#E5ECF6",
          "polar": {
           "angularaxis": {
            "gridcolor": "white",
            "linecolor": "white",
            "ticks": ""
           },
           "bgcolor": "#E5ECF6",
           "radialaxis": {
            "gridcolor": "white",
            "linecolor": "white",
            "ticks": ""
           }
          },
          "scene": {
           "xaxis": {
            "backgroundcolor": "#E5ECF6",
            "gridcolor": "white",
            "gridwidth": 2,
            "linecolor": "white",
            "showbackground": true,
            "ticks": "",
            "zerolinecolor": "white"
           },
           "yaxis": {
            "backgroundcolor": "#E5ECF6",
            "gridcolor": "white",
            "gridwidth": 2,
            "linecolor": "white",
            "showbackground": true,
            "ticks": "",
            "zerolinecolor": "white"
           },
           "zaxis": {
            "backgroundcolor": "#E5ECF6",
            "gridcolor": "white",
            "gridwidth": 2,
            "linecolor": "white",
            "showbackground": true,
            "ticks": "",
            "zerolinecolor": "white"
           }
          },
          "shapedefaults": {
           "line": {
            "color": "#2a3f5f"
           }
          },
          "ternary": {
           "aaxis": {
            "gridcolor": "white",
            "linecolor": "white",
            "ticks": ""
           },
           "baxis": {
            "gridcolor": "white",
            "linecolor": "white",
            "ticks": ""
           },
           "bgcolor": "#E5ECF6",
           "caxis": {
            "gridcolor": "white",
            "linecolor": "white",
            "ticks": ""
           }
          },
          "title": {
           "x": 0.05
          },
          "xaxis": {
           "automargin": true,
           "gridcolor": "white",
           "linecolor": "white",
           "ticks": "",
           "title": {
            "standoff": 15
           },
           "zerolinecolor": "white",
           "zerolinewidth": 2
          },
          "yaxis": {
           "automargin": true,
           "gridcolor": "white",
           "linecolor": "white",
           "ticks": "",
           "title": {
            "standoff": 15
           },
           "zerolinecolor": "white",
           "zerolinewidth": 2
          }
         }
        },
        "width": 560,
        "xaxis": {
         "anchor": "y",
         "domain": [
          0,
          1
         ],
         "title": {
          "text": "a"
         }
        },
        "yaxis": {
         "anchor": "x",
         "domain": [
          0,
          1
         ],
         "title": {
          "text": "b"
         }
        }
       }
      },
      "text/html": [
       "<div>                            <div id=\"b2bdfbda-24a4-4401-8c85-14cc4838f1ea\" class=\"plotly-graph-div\" style=\"height:560px; width:560px;\"></div>            <script type=\"text/javascript\">                require([\"plotly\"], function(Plotly) {                    window.PLOTLYENV=window.PLOTLYENV || {};                                    if (document.getElementById(\"b2bdfbda-24a4-4401-8c85-14cc4838f1ea\")) {                    Plotly.newPlot(                        \"b2bdfbda-24a4-4401-8c85-14cc4838f1ea\",                        [{\"hovertemplate\":\"class=0<br>a=%{x}<br>b=%{y}<extra></extra>\",\"legendgroup\":\"0\",\"marker\":{\"color\":\"#636efa\",\"symbol\":\"circle\"},\"mode\":\"markers\",\"name\":\"0\",\"orientation\":\"v\",\"showlegend\":true,\"x\":[\"0\",\"1\"],\"xaxis\":\"x\",\"y\":[\"0\",\"1\"],\"yaxis\":\"y\",\"type\":\"scatter\"},{\"hovertemplate\":\"class=1<br>a=%{x}<br>b=%{y}<extra></extra>\",\"legendgroup\":\"1\",\"marker\":{\"color\":\"#EF553B\",\"symbol\":\"circle\"},\"mode\":\"markers\",\"name\":\"1\",\"orientation\":\"v\",\"showlegend\":true,\"x\":[\"0\",\"1\"],\"xaxis\":\"x\",\"y\":[\"1\",\"0\"],\"yaxis\":\"y\",\"type\":\"scatter\"}],                        {\"template\":{\"data\":{\"histogram2dcontour\":[{\"type\":\"histogram2dcontour\",\"colorbar\":{\"outlinewidth\":0,\"ticks\":\"\"},\"colorscale\":[[0.0,\"#0d0887\"],[0.1111111111111111,\"#46039f\"],[0.2222222222222222,\"#7201a8\"],[0.3333333333333333,\"#9c179e\"],[0.4444444444444444,\"#bd3786\"],[0.5555555555555556,\"#d8576b\"],[0.6666666666666666,\"#ed7953\"],[0.7777777777777778,\"#fb9f3a\"],[0.8888888888888888,\"#fdca26\"],[1.0,\"#f0f921\"]]}],\"choropleth\":[{\"type\":\"choropleth\",\"colorbar\":{\"outlinewidth\":0,\"ticks\":\"\"}}],\"histogram2d\":[{\"type\":\"histogram2d\",\"colorbar\":{\"outlinewidth\":0,\"ticks\":\"\"},\"colorscale\":[[0.0,\"#0d0887\"],[0.1111111111111111,\"#46039f\"],[0.2222222222222222,\"#7201a8\"],[0.3333333333333333,\"#9c179e\"],[0.4444444444444444,\"#bd3786\"],[0.5555555555555556,\"#d8576b\"],[0.6666666666666666,\"#ed7953\"],[0.7777777777777778,\"#fb9f3a\"],[0.8888888888888888,\"#fdca26\"],[1.0,\"#f0f921\"]]}],\"heatmap\":[{\"type\":\"heatmap\",\"colorbar\":{\"outlinewidth\":0,\"ticks\":\"\"},\"colorscale\":[[0.0,\"#0d0887\"],[0.1111111111111111,\"#46039f\"],[0.2222222222222222,\"#7201a8\"],[0.3333333333333333,\"#9c179e\"],[0.4444444444444444,\"#bd3786\"],[0.5555555555555556,\"#d8576b\"],[0.6666666666666666,\"#ed7953\"],[0.7777777777777778,\"#fb9f3a\"],[0.8888888888888888,\"#fdca26\"],[1.0,\"#f0f921\"]]}],\"heatmapgl\":[{\"type\":\"heatmapgl\",\"colorbar\":{\"outlinewidth\":0,\"ticks\":\"\"},\"colorscale\":[[0.0,\"#0d0887\"],[0.1111111111111111,\"#46039f\"],[0.2222222222222222,\"#7201a8\"],[0.3333333333333333,\"#9c179e\"],[0.4444444444444444,\"#bd3786\"],[0.5555555555555556,\"#d8576b\"],[0.6666666666666666,\"#ed7953\"],[0.7777777777777778,\"#fb9f3a\"],[0.8888888888888888,\"#fdca26\"],[1.0,\"#f0f921\"]]}],\"contourcarpet\":[{\"type\":\"contourcarpet\",\"colorbar\":{\"outlinewidth\":0,\"ticks\":\"\"}}],\"contour\":[{\"type\":\"contour\",\"colorbar\":{\"outlinewidth\":0,\"ticks\":\"\"},\"colorscale\":[[0.0,\"#0d0887\"],[0.1111111111111111,\"#46039f\"],[0.2222222222222222,\"#7201a8\"],[0.3333333333333333,\"#9c179e\"],[0.4444444444444444,\"#bd3786\"],[0.5555555555555556,\"#d8576b\"],[0.6666666666666666,\"#ed7953\"],[0.7777777777777778,\"#fb9f3a\"],[0.8888888888888888,\"#fdca26\"],[1.0,\"#f0f921\"]]}],\"surface\":[{\"type\":\"surface\",\"colorbar\":{\"outlinewidth\":0,\"ticks\":\"\"},\"colorscale\":[[0.0,\"#0d0887\"],[0.1111111111111111,\"#46039f\"],[0.2222222222222222,\"#7201a8\"],[0.3333333333333333,\"#9c179e\"],[0.4444444444444444,\"#bd3786\"],[0.5555555555555556,\"#d8576b\"],[0.6666666666666666,\"#ed7953\"],[0.7777777777777778,\"#fb9f3a\"],[0.8888888888888888,\"#fdca26\"],[1.0,\"#f0f921\"]]}],\"mesh3d\":[{\"type\":\"mesh3d\",\"colorbar\":{\"outlinewidth\":0,\"ticks\":\"\"}}],\"scatter\":[{\"fillpattern\":{\"fillmode\":\"overlay\",\"size\":10,\"solidity\":0.2},\"type\":\"scatter\"}],\"parcoords\":[{\"type\":\"parcoords\",\"line\":{\"colorbar\":{\"outlinewidth\":0,\"ticks\":\"\"}}}],\"scatterpolargl\":[{\"type\":\"scatterpolargl\",\"marker\":{\"colorbar\":{\"outlinewidth\":0,\"ticks\":\"\"}}}],\"bar\":[{\"error_x\":{\"color\":\"#2a3f5f\"},\"error_y\":{\"color\":\"#2a3f5f\"},\"marker\":{\"line\":{\"color\":\"#E5ECF6\",\"width\":0.5},\"pattern\":{\"fillmode\":\"overlay\",\"size\":10,\"solidity\":0.2}},\"type\":\"bar\"}],\"scattergeo\":[{\"type\":\"scattergeo\",\"marker\":{\"colorbar\":{\"outlinewidth\":0,\"ticks\":\"\"}}}],\"scatterpolar\":[{\"type\":\"scatterpolar\",\"marker\":{\"colorbar\":{\"outlinewidth\":0,\"ticks\":\"\"}}}],\"histogram\":[{\"marker\":{\"pattern\":{\"fillmode\":\"overlay\",\"size\":10,\"solidity\":0.2}},\"type\":\"histogram\"}],\"scattergl\":[{\"type\":\"scattergl\",\"marker\":{\"colorbar\":{\"outlinewidth\":0,\"ticks\":\"\"}}}],\"scatter3d\":[{\"type\":\"scatter3d\",\"line\":{\"colorbar\":{\"outlinewidth\":0,\"ticks\":\"\"}},\"marker\":{\"colorbar\":{\"outlinewidth\":0,\"ticks\":\"\"}}}],\"scattermapbox\":[{\"type\":\"scattermapbox\",\"marker\":{\"colorbar\":{\"outlinewidth\":0,\"ticks\":\"\"}}}],\"scatterternary\":[{\"type\":\"scatterternary\",\"marker\":{\"colorbar\":{\"outlinewidth\":0,\"ticks\":\"\"}}}],\"scattercarpet\":[{\"type\":\"scattercarpet\",\"marker\":{\"colorbar\":{\"outlinewidth\":0,\"ticks\":\"\"}}}],\"carpet\":[{\"aaxis\":{\"endlinecolor\":\"#2a3f5f\",\"gridcolor\":\"white\",\"linecolor\":\"white\",\"minorgridcolor\":\"white\",\"startlinecolor\":\"#2a3f5f\"},\"baxis\":{\"endlinecolor\":\"#2a3f5f\",\"gridcolor\":\"white\",\"linecolor\":\"white\",\"minorgridcolor\":\"white\",\"startlinecolor\":\"#2a3f5f\"},\"type\":\"carpet\"}],\"table\":[{\"cells\":{\"fill\":{\"color\":\"#EBF0F8\"},\"line\":{\"color\":\"white\"}},\"header\":{\"fill\":{\"color\":\"#C8D4E3\"},\"line\":{\"color\":\"white\"}},\"type\":\"table\"}],\"barpolar\":[{\"marker\":{\"line\":{\"color\":\"#E5ECF6\",\"width\":0.5},\"pattern\":{\"fillmode\":\"overlay\",\"size\":10,\"solidity\":0.2}},\"type\":\"barpolar\"}],\"pie\":[{\"automargin\":true,\"type\":\"pie\"}]},\"layout\":{\"autotypenumbers\":\"strict\",\"colorway\":[\"#636efa\",\"#EF553B\",\"#00cc96\",\"#ab63fa\",\"#FFA15A\",\"#19d3f3\",\"#FF6692\",\"#B6E880\",\"#FF97FF\",\"#FECB52\"],\"font\":{\"color\":\"#2a3f5f\"},\"hovermode\":\"closest\",\"hoverlabel\":{\"align\":\"left\"},\"paper_bgcolor\":\"white\",\"plot_bgcolor\":\"#E5ECF6\",\"polar\":{\"bgcolor\":\"#E5ECF6\",\"angularaxis\":{\"gridcolor\":\"white\",\"linecolor\":\"white\",\"ticks\":\"\"},\"radialaxis\":{\"gridcolor\":\"white\",\"linecolor\":\"white\",\"ticks\":\"\"}},\"ternary\":{\"bgcolor\":\"#E5ECF6\",\"aaxis\":{\"gridcolor\":\"white\",\"linecolor\":\"white\",\"ticks\":\"\"},\"baxis\":{\"gridcolor\":\"white\",\"linecolor\":\"white\",\"ticks\":\"\"},\"caxis\":{\"gridcolor\":\"white\",\"linecolor\":\"white\",\"ticks\":\"\"}},\"coloraxis\":{\"colorbar\":{\"outlinewidth\":0,\"ticks\":\"\"}},\"colorscale\":{\"sequential\":[[0.0,\"#0d0887\"],[0.1111111111111111,\"#46039f\"],[0.2222222222222222,\"#7201a8\"],[0.3333333333333333,\"#9c179e\"],[0.4444444444444444,\"#bd3786\"],[0.5555555555555556,\"#d8576b\"],[0.6666666666666666,\"#ed7953\"],[0.7777777777777778,\"#fb9f3a\"],[0.8888888888888888,\"#fdca26\"],[1.0,\"#f0f921\"]],\"sequentialminus\":[[0.0,\"#0d0887\"],[0.1111111111111111,\"#46039f\"],[0.2222222222222222,\"#7201a8\"],[0.3333333333333333,\"#9c179e\"],[0.4444444444444444,\"#bd3786\"],[0.5555555555555556,\"#d8576b\"],[0.6666666666666666,\"#ed7953\"],[0.7777777777777778,\"#fb9f3a\"],[0.8888888888888888,\"#fdca26\"],[1.0,\"#f0f921\"]],\"diverging\":[[0,\"#8e0152\"],[0.1,\"#c51b7d\"],[0.2,\"#de77ae\"],[0.3,\"#f1b6da\"],[0.4,\"#fde0ef\"],[0.5,\"#f7f7f7\"],[0.6,\"#e6f5d0\"],[0.7,\"#b8e186\"],[0.8,\"#7fbc41\"],[0.9,\"#4d9221\"],[1,\"#276419\"]]},\"xaxis\":{\"gridcolor\":\"white\",\"linecolor\":\"white\",\"ticks\":\"\",\"title\":{\"standoff\":15},\"zerolinecolor\":\"white\",\"automargin\":true,\"zerolinewidth\":2},\"yaxis\":{\"gridcolor\":\"white\",\"linecolor\":\"white\",\"ticks\":\"\",\"title\":{\"standoff\":15},\"zerolinecolor\":\"white\",\"automargin\":true,\"zerolinewidth\":2},\"scene\":{\"xaxis\":{\"backgroundcolor\":\"#E5ECF6\",\"gridcolor\":\"white\",\"linecolor\":\"white\",\"showbackground\":true,\"ticks\":\"\",\"zerolinecolor\":\"white\",\"gridwidth\":2},\"yaxis\":{\"backgroundcolor\":\"#E5ECF6\",\"gridcolor\":\"white\",\"linecolor\":\"white\",\"showbackground\":true,\"ticks\":\"\",\"zerolinecolor\":\"white\",\"gridwidth\":2},\"zaxis\":{\"backgroundcolor\":\"#E5ECF6\",\"gridcolor\":\"white\",\"linecolor\":\"white\",\"showbackground\":true,\"ticks\":\"\",\"zerolinecolor\":\"white\",\"gridwidth\":2}},\"shapedefaults\":{\"line\":{\"color\":\"#2a3f5f\"}},\"annotationdefaults\":{\"arrowcolor\":\"#2a3f5f\",\"arrowhead\":0,\"arrowwidth\":1},\"geo\":{\"bgcolor\":\"white\",\"landcolor\":\"#E5ECF6\",\"subunitcolor\":\"white\",\"showland\":true,\"showlakes\":true,\"lakecolor\":\"white\"},\"title\":{\"x\":0.05},\"mapbox\":{\"style\":\"light\"}}},\"xaxis\":{\"anchor\":\"y\",\"domain\":[0.0,1.0],\"title\":{\"text\":\"a\"}},\"yaxis\":{\"anchor\":\"x\",\"domain\":[0.0,1.0],\"title\":{\"text\":\"b\"}},\"legend\":{\"title\":{\"text\":\"class\"},\"tracegroupgap\":0},\"margin\":{\"t\":60},\"height\":560,\"width\":560},                        {\"responsive\": true}                    ).then(function(){\n",
       "                            \n",
       "var gd = document.getElementById('b2bdfbda-24a4-4401-8c85-14cc4838f1ea');\n",
       "var x = new MutationObserver(function (mutations, observer) {{\n",
       "        var display = window.getComputedStyle(gd).display;\n",
       "        if (!display || display === 'none') {{\n",
       "            console.log([gd, 'removed!']);\n",
       "            Plotly.purge(gd);\n",
       "            observer.disconnect();\n",
       "        }}\n",
       "}});\n",
       "\n",
       "// Listen for the removal of the full notebook cells\n",
       "var notebookContainer = gd.closest('#notebook-container');\n",
       "if (notebookContainer) {{\n",
       "    x.observe(notebookContainer, {childList: true});\n",
       "}}\n",
       "\n",
       "// Listen for the clearing of the current output cell\n",
       "var outputEl = gd.closest('.output');\n",
       "if (outputEl) {{\n",
       "    x.observe(outputEl, {childList: true});\n",
       "}}\n",
       "\n",
       "                        })                };                });            </script>        </div>"
      ]
     },
     "metadata": {},
     "output_type": "display_data"
    }
   ],
   "source": [
    "fig = px.scatter(df, x='a',\n",
    "            y='b',\n",
    "            color='class',\n",
    "            height=560,\n",
    "            width=560,\n",
    "            )\n",
    "fig.show()"
   ]
  },
  {
   "cell_type": "code",
   "execution_count": 28,
   "metadata": {},
   "outputs": [
    {
     "name": "stdout",
     "output_type": "stream",
     "text": [
      "Rules original\n",
      "\n",
      "\n",
      "Complex rules\n",
      "IF a = b THEN class = {0} (p = 2.0, n = 0.0, P = 2.0, N = 2.0, weight = 1.0, pvalue = 0.16666666666666669)\n",
      "IF a != b THEN class = {1} (p = 2.0, n = 0.0, P = 2.0, N = 2.0, weight = 1.0, pvalue = 0.16666666666666669)\n",
      "\n",
      "\n",
      "Complex rules + inners alternatives\n",
      "IF a = b THEN class = {0} (p = 2.0, n = 0.0, P = 2.0, N = 2.0, weight = 1.0, pvalue = 0.16666666666666669)\n",
      "IF a != b THEN class = {1} (p = 2.0, n = 0.0, P = 2.0, N = 2.0, weight = 1.0, pvalue = 0.16666666666666669)\n"
     ]
    }
   ],
   "source": [
    "X = df.drop(['class'], axis=1)\n",
    "y = df['class']\n",
    "\n",
    "clf_simple.fit(X, y)\n",
    "\n",
    "print(\"Rules original\")\n",
    "for rule in clf_simple.model.rules:\n",
    "    print(rule, rule.stats)\n",
    "\n",
    "print(\"\\n\\nComplex rules\")\n",
    "clf_complex.fit(X, y)\n",
    "for rule in clf_complex.model.rules:\n",
    "    print(rule, rule.stats)\n",
    "\n",
    "print(\"\\n\\nComplex rules + inners alternatives\")\n",
    "clf_complex_with_inners.fit(X, y)\n",
    "for rule in clf_complex_with_inners.model.rules:\n",
    "    print(rule, rule.stats)\n"
   ]
  },
  {
   "attachments": {},
   "cell_type": "markdown",
   "metadata": {},
   "source": [
    "# Parity problem \n",
    "AN EMPIRICAL INVESTIGATION INTO DEEP AND SHALLOW RULE LEARNING\n",
    "\n",
    "Consider, e.g., the following example: the parity concept, which is known to be hard to learn for heuristic, greedy learning algorithms,\n",
    "checks whether an odd or an even number of R relevant attributes (out of a possibly higher total number of attributes) are\n",
    "set to true. Figure 1a shows a flat rule-based representation of the target concept for R = 5, which requires 2^R−1 = 16\n",
    "rules. On the other hand, a structured representation, which introduces three auxiliary predicates (parity2345,\n",
    "parity345 and parity45 as shown in Figure 1b), is much more concise using only 2 · (R − 1) = 8 rules."
   ]
  },
  {
   "cell_type": "code",
   "execution_count": 43,
   "metadata": {},
   "outputs": [
    {
     "data": {
      "text/html": [
       "<div>\n",
       "<style scoped>\n",
       "    .dataframe tbody tr th:only-of-type {\n",
       "        vertical-align: middle;\n",
       "    }\n",
       "\n",
       "    .dataframe tbody tr th {\n",
       "        vertical-align: top;\n",
       "    }\n",
       "\n",
       "    .dataframe thead th {\n",
       "        text-align: right;\n",
       "    }\n",
       "</style>\n",
       "<table border=\"1\" class=\"dataframe\">\n",
       "  <thead>\n",
       "    <tr style=\"text-align: right;\">\n",
       "      <th></th>\n",
       "      <th>x1</th>\n",
       "      <th>x2</th>\n",
       "      <th>x3</th>\n",
       "      <th>x4</th>\n",
       "      <th>x5</th>\n",
       "      <th>class</th>\n",
       "    </tr>\n",
       "  </thead>\n",
       "  <tbody>\n",
       "    <tr>\n",
       "      <th>0</th>\n",
       "      <td>0</td>\n",
       "      <td>0</td>\n",
       "      <td>1</td>\n",
       "      <td>0</td>\n",
       "      <td>0</td>\n",
       "      <td>0</td>\n",
       "    </tr>\n",
       "    <tr>\n",
       "      <th>1</th>\n",
       "      <td>0</td>\n",
       "      <td>0</td>\n",
       "      <td>1</td>\n",
       "      <td>1</td>\n",
       "      <td>0</td>\n",
       "      <td>1</td>\n",
       "    </tr>\n",
       "    <tr>\n",
       "      <th>2</th>\n",
       "      <td>0</td>\n",
       "      <td>1</td>\n",
       "      <td>0</td>\n",
       "      <td>1</td>\n",
       "      <td>1</td>\n",
       "      <td>0</td>\n",
       "    </tr>\n",
       "    <tr>\n",
       "      <th>3</th>\n",
       "      <td>1</td>\n",
       "      <td>0</td>\n",
       "      <td>1</td>\n",
       "      <td>0</td>\n",
       "      <td>0</td>\n",
       "      <td>1</td>\n",
       "    </tr>\n",
       "    <tr>\n",
       "      <th>4</th>\n",
       "      <td>0</td>\n",
       "      <td>1</td>\n",
       "      <td>1</td>\n",
       "      <td>0</td>\n",
       "      <td>1</td>\n",
       "      <td>0</td>\n",
       "    </tr>\n",
       "    <tr>\n",
       "      <th>...</th>\n",
       "      <td>...</td>\n",
       "      <td>...</td>\n",
       "      <td>...</td>\n",
       "      <td>...</td>\n",
       "      <td>...</td>\n",
       "      <td>...</td>\n",
       "    </tr>\n",
       "    <tr>\n",
       "      <th>95</th>\n",
       "      <td>0</td>\n",
       "      <td>0</td>\n",
       "      <td>1</td>\n",
       "      <td>0</td>\n",
       "      <td>0</td>\n",
       "      <td>0</td>\n",
       "    </tr>\n",
       "    <tr>\n",
       "      <th>96</th>\n",
       "      <td>0</td>\n",
       "      <td>1</td>\n",
       "      <td>1</td>\n",
       "      <td>1</td>\n",
       "      <td>0</td>\n",
       "      <td>0</td>\n",
       "    </tr>\n",
       "    <tr>\n",
       "      <th>97</th>\n",
       "      <td>1</td>\n",
       "      <td>0</td>\n",
       "      <td>1</td>\n",
       "      <td>1</td>\n",
       "      <td>0</td>\n",
       "      <td>0</td>\n",
       "    </tr>\n",
       "    <tr>\n",
       "      <th>98</th>\n",
       "      <td>1</td>\n",
       "      <td>0</td>\n",
       "      <td>1</td>\n",
       "      <td>1</td>\n",
       "      <td>1</td>\n",
       "      <td>1</td>\n",
       "    </tr>\n",
       "    <tr>\n",
       "      <th>99</th>\n",
       "      <td>0</td>\n",
       "      <td>0</td>\n",
       "      <td>0</td>\n",
       "      <td>1</td>\n",
       "      <td>0</td>\n",
       "      <td>0</td>\n",
       "    </tr>\n",
       "  </tbody>\n",
       "</table>\n",
       "<p>100 rows × 6 columns</p>\n",
       "</div>"
      ],
      "text/plain": [
       "   x1 x2 x3 x4 x5 class\n",
       "0   0  0  1  0  0     0\n",
       "1   0  0  1  1  0     1\n",
       "2   0  1  0  1  1     0\n",
       "3   1  0  1  0  0     1\n",
       "4   0  1  1  0  1     0\n",
       ".. .. .. .. .. ..   ...\n",
       "95  0  0  1  0  0     0\n",
       "96  0  1  1  1  0     0\n",
       "97  1  0  1  1  0     0\n",
       "98  1  0  1  1  1     1\n",
       "99  0  0  0  1  0     0\n",
       "\n",
       "[100 rows x 6 columns]"
      ]
     },
     "execution_count": 43,
     "metadata": {},
     "output_type": "execute_result"
    }
   ],
   "source": [
    "df = pd.DataFrame(columns=[\"x1\", \"x2\", \"x3\",\"x4\", \"x5\", \"class\"], index = [i for i in range(0,100)])\n",
    "\n",
    "df[\"x1\"] = [random.randint(0, 1) for i in range(100)]\n",
    "df[\"x2\"] = [random.randint(0, 1) for i in range(100)]\n",
    "df[\"x3\"] = [random.randint(0, 1) for i in range(100)]\n",
    "df[\"x4\"] = [random.randint(0, 1) for i in range(100)]\n",
    "df[\"x5\"] = [random.randint(0, 1) for i in range(100)]\n",
    "\n",
    "df.loc[(df[[\"x1\", \"x2\", \"x3\",\"x4\", \"x5\"]].sum(axis=1)%2) == 0, \"class\"] = \"1\"\n",
    "df = df.fillna(\"0\")\n",
    "df = df.astype(\"str\")\n",
    "df"
   ]
  },
  {
   "cell_type": "code",
   "execution_count": 35,
   "metadata": {},
   "outputs": [
    {
     "data": {
      "text/plain": [
       "x1       object\n",
       "x2       object\n",
       "x3       object\n",
       "x4       object\n",
       "x5       object\n",
       "class    object\n",
       "dtype: object"
      ]
     },
     "execution_count": 35,
     "metadata": {},
     "output_type": "execute_result"
    }
   ],
   "source": [
    "df.dtypes"
   ]
  },
  {
   "cell_type": "code",
   "execution_count": 44,
   "metadata": {},
   "outputs": [
    {
     "name": "stdout",
     "output_type": "stream",
     "text": [
      "Rules original\n",
      "IF x1 = {0} AND x2 = {1} AND x3 = {0} AND x4 = {0} AND x5 = {0} THEN class = {0} (p = 8.0, n = 0.0, P = 50.0, N = 50.0, weight = 0.58, pvalue = 0.0028850810098075127)\n",
      "IF x1 = {0} AND x2 = {0} AND x3 = {0} AND x4 = {1} AND x5 = {0} THEN class = {0} (p = 6.0, n = 0.0, P = 50.0, N = 50.0, weight = 0.56, pvalue = 0.013330538154195196)\n",
      "IF x3 = {0} AND x5 = {0} THEN class = {0} (p = 19.0, n = 9.0, P = 50.0, N = 50.0, weight = 0.24642857142857144, pvalue = 0.021980723884887348)\n",
      "IF x3 = {0} THEN class = {0} (p = 26.0, n = 18.0, P = 50.0, N = 50.0, weight = 0.13818181818181824, pvalue = 0.07907229426358056)\n",
      "IF x1 = {0} AND x5 = {0} THEN class = {0} (p = 20.0, n = 13.0, P = 50.0, N = 50.0, weight = 0.14848484848484853, pvalue = 0.10081451600333538)\n",
      "IF x5 = {0} THEN class = {0} (p = 31.0, n = 25.0, P = 50.0, N = 50.0, weight = 0.08678571428571424, pvalue = 0.1569129396478786)\n",
      "IF x2 = {1} THEN class = {0} (p = 25.0, n = 22.0, P = 50.0, N = 50.0, weight = 0.04787234042553187, pvalue = 0.3444263695857761)\n",
      "IF x4 = {0} THEN class = {0} (p = 28.0, n = 27.0, P = 50.0, N = 50.0, weight = 0.014181818181818141, pvalue = 0.49999999999999956)\n",
      "IF x1 = {0} AND x2 = {0} AND x3 = {1} AND x4 = {0} AND x5 = {1} THEN class = {1} (p = 6.0, n = 0.0, P = 50.0, N = 50.0, weight = 0.56, pvalue = 0.013330538154195196)\n",
      "IF x1 = {0} AND x2 = {1} AND x3 = {1} AND x4 = {0} AND x5 = {0} THEN class = {1} (p = 5.0, n = 0.0, P = 50.0, N = 50.0, weight = 0.55, pvalue = 0.028142247214412056)\n",
      "IF x1 = {0} AND x3 = {1} THEN class = {1} (p = 18.0, n = 10.0, P = 50.0, N = 50.0, weight = 0.19428571428571434, pvalue = 0.059079700101740545)\n",
      "IF x3 = {1} THEN class = {1} (p = 32.0, n = 24.0, P = 50.0, N = 50.0, weight = 0.11714285714285719, pvalue = 0.07907229426358056)\n",
      "IF x1 = {0} AND x5 = {1} THEN class = {1} (p = 15.0, n = 8.0, P = 50.0, N = 50.0, weight = 0.19782608695652176, pvalue = 0.07653116981180855)\n",
      "IF x1 = {1} AND x2 = {0} AND x3 = {0} THEN class = {1} (p = 6.0, n = 4.0, P = 50.0, N = 50.0, weight = 0.11200000000000002, pvalue = 0.3703332268872312)\n",
      "\n",
      "\n",
      "Complex rules\n",
      "IF x1 = x3 = x5 AND x2 != x4 AND x1 != {1} THEN class = {0} (p = 14.0, n = 0.0, P = 50.0, N = 50.0, weight = 0.64, pvalue = 2.1224497543281977e-05)\n",
      "IF x1 = x3 = x5 AND x1 != x2 AND x4 != {1} THEN class = {0} (p = 13.0, n = 0.0, P = 50.0, N = 50.0, weight = 0.63, pvalue = 4.9906250980149715e-05)\n",
      "IF x1 = x2 AND x2 = x3 THEN class = {0} (p = 15.0, n = 12.0, P = 50.0, N = 50.0, weight = 0.07222222222222224, pvalue = 0.3264250969378468)\n",
      "IF x2 = x4 AND x1 != x3 AND x5 != {1} THEN class = {0} (p = 11.0, n = 0.0, P = 50.0, N = 50.0, weight = 0.61, pvalue = 0.00026374207670481125)\n",
      "IF x2 != x3 AND x2 != x4 THEN class = {0} (p = 13.0, n = 11.0, P = 50.0, N = 50.0, weight = 0.05249999999999997, pvalue = 0.40762972994937885)\n",
      "IF x1 = x4 AND x2 != x4 THEN class = {0} (p = 16.0, n = 15.0, P = 50.0, N = 50.0, weight = 0.02129032258064512, pvalue = 0.49999999999999895)\n",
      "IF x1 != x3 AND x4 != x5 AND x2 != {1} THEN class = {1} (p = 16.0, n = 0.0, P = 50.0, N = 50.0, weight = 0.66, pvalue = 3.658394925381039e-06)\n",
      "IF x1 != x3 AND x2 != x4 AND x5 != {1} THEN class = {1} (p = 14.0, n = 0.0, P = 50.0, N = 50.0, weight = 0.64, pvalue = 2.1224497543281977e-05)\n",
      "IF x1 != x5 AND x2 = x4 = x5 AND x3 != {0} THEN class = {1} (p = 7.0, n = 0.0, P = 50.0, N = 50.0, weight = 0.5700000000000001, pvalue = 0.0062398263700488114)\n",
      "IF x1 = x3 AND x2 != x4 AND x5 != {0} THEN class = {1} (p = 13.0, n = 0.0, P = 50.0, N = 50.0, weight = 0.63, pvalue = 4.9906250980149715e-05)\n",
      "IF x2 != x5 AND x1 = x3 AND x4 != {0} THEN class = {1} (p = 11.0, n = 0.0, P = 50.0, N = 50.0, weight = 0.61, pvalue = 0.00026374207670481125)\n",
      "\n",
      "\n",
      "Complex rules + inners alternatives\n",
      "IF x1 = x3 = x5 AND x2 != x4 AND x1 != {1} THEN class = {0} (p = 14.0, n = 0.0, P = 50.0, N = 50.0, weight = 0.64, pvalue = 2.1224497543281977e-05)\n",
      "IF x1 = x3 = x5 AND x1 != x2 AND x4 != {1} THEN class = {0} (p = 13.0, n = 0.0, P = 50.0, N = 50.0, weight = 0.63, pvalue = 4.9906250980149715e-05)\n",
      "IF x1 = x2 AND x2 = x3 THEN class = {0} (p = 15.0, n = 12.0, P = 50.0, N = 50.0, weight = 0.07222222222222224, pvalue = 0.3264250969378468)\n",
      "IF x2 = x4 AND x1 != x3 AND x5 != {1} THEN class = {0} (p = 11.0, n = 0.0, P = 50.0, N = 50.0, weight = 0.61, pvalue = 0.00026374207670481125)\n",
      "IF x2 != x3 AND x2 != x4 THEN class = {0} (p = 13.0, n = 11.0, P = 50.0, N = 50.0, weight = 0.05249999999999997, pvalue = 0.40762972994937885)\n",
      "IF x1 = x4 AND x2 != x4 THEN class = {0} (p = 16.0, n = 15.0, P = 50.0, N = 50.0, weight = 0.02129032258064512, pvalue = 0.49999999999999895)\n",
      "IF x1 != x3 AND x4 != x5 AND x2 != {1} THEN class = {1} (p = 16.0, n = 0.0, P = 50.0, N = 50.0, weight = 0.66, pvalue = 3.658394925381039e-06)\n",
      "IF x1 != x3 AND x2 != x4 AND x5 != {1} THEN class = {1} (p = 14.0, n = 0.0, P = 50.0, N = 50.0, weight = 0.64, pvalue = 2.1224497543281977e-05)\n",
      "IF x1 != x5 AND x2 = x4 = x5 AND x3 != {0} THEN class = {1} (p = 7.0, n = 0.0, P = 50.0, N = 50.0, weight = 0.5700000000000001, pvalue = 0.0062398263700488114)\n",
      "IF x1 = x3 AND x2 != x4 AND x5 != {0} THEN class = {1} (p = 13.0, n = 0.0, P = 50.0, N = 50.0, weight = 0.63, pvalue = 4.9906250980149715e-05)\n",
      "IF x2 != x5 AND x1 = x3 AND x4 != {0} THEN class = {1} (p = 11.0, n = 0.0, P = 50.0, N = 50.0, weight = 0.61, pvalue = 0.00026374207670481125)\n"
     ]
    }
   ],
   "source": [
    "X = df.drop(['class'], axis=1)\n",
    "y = df['class']\n",
    "\n",
    "clf_simple.fit(X, y)\n",
    "\n",
    "print(\"Rules original\")\n",
    "for rule in clf_simple.model.rules:\n",
    "    print(rule, rule.stats)\n",
    "\n",
    "print(\"\\n\\nComplex rules\")\n",
    "clf_complex.fit(X, y)\n",
    "for rule in clf_complex.model.rules:\n",
    "    print(rule, rule.stats)\n",
    "\n",
    "print(\"\\n\\nComplex rules + inners alternatives\")\n",
    "clf_complex_with_inners.fit(X, y)\n",
    "for rule in clf_complex_with_inners.model.rules:\n",
    "    print(rule, rule.stats)"
   ]
  },
  {
   "cell_type": "code",
   "execution_count": 45,
   "metadata": {},
   "outputs": [
    {
     "data": {
      "text/html": [
       "<div>\n",
       "<style scoped>\n",
       "    .dataframe tbody tr th:only-of-type {\n",
       "        vertical-align: middle;\n",
       "    }\n",
       "\n",
       "    .dataframe tbody tr th {\n",
       "        vertical-align: top;\n",
       "    }\n",
       "\n",
       "    .dataframe thead th {\n",
       "        text-align: right;\n",
       "    }\n",
       "</style>\n",
       "<table border=\"1\" class=\"dataframe\">\n",
       "  <thead>\n",
       "    <tr style=\"text-align: right;\">\n",
       "      <th></th>\n",
       "      <th>x1</th>\n",
       "      <th>x2</th>\n",
       "      <th>x3</th>\n",
       "      <th>x4</th>\n",
       "      <th>x5</th>\n",
       "      <th>class</th>\n",
       "    </tr>\n",
       "  </thead>\n",
       "  <tbody>\n",
       "    <tr>\n",
       "      <th>0</th>\n",
       "      <td>1</td>\n",
       "      <td>1</td>\n",
       "      <td>0</td>\n",
       "      <td>1</td>\n",
       "      <td>1</td>\n",
       "      <td>1</td>\n",
       "    </tr>\n",
       "    <tr>\n",
       "      <th>1</th>\n",
       "      <td>0</td>\n",
       "      <td>1</td>\n",
       "      <td>1</td>\n",
       "      <td>1</td>\n",
       "      <td>0</td>\n",
       "      <td>0</td>\n",
       "    </tr>\n",
       "    <tr>\n",
       "      <th>2</th>\n",
       "      <td>0</td>\n",
       "      <td>1</td>\n",
       "      <td>0</td>\n",
       "      <td>0</td>\n",
       "      <td>1</td>\n",
       "      <td>1</td>\n",
       "    </tr>\n",
       "    <tr>\n",
       "      <th>3</th>\n",
       "      <td>1</td>\n",
       "      <td>0</td>\n",
       "      <td>1</td>\n",
       "      <td>0</td>\n",
       "      <td>1</td>\n",
       "      <td>0</td>\n",
       "    </tr>\n",
       "    <tr>\n",
       "      <th>4</th>\n",
       "      <td>0</td>\n",
       "      <td>1</td>\n",
       "      <td>1</td>\n",
       "      <td>0</td>\n",
       "      <td>0</td>\n",
       "      <td>1</td>\n",
       "    </tr>\n",
       "    <tr>\n",
       "      <th>...</th>\n",
       "      <td>...</td>\n",
       "      <td>...</td>\n",
       "      <td>...</td>\n",
       "      <td>...</td>\n",
       "      <td>...</td>\n",
       "      <td>...</td>\n",
       "    </tr>\n",
       "    <tr>\n",
       "      <th>95</th>\n",
       "      <td>1</td>\n",
       "      <td>1</td>\n",
       "      <td>0</td>\n",
       "      <td>1</td>\n",
       "      <td>0</td>\n",
       "      <td>0</td>\n",
       "    </tr>\n",
       "    <tr>\n",
       "      <th>96</th>\n",
       "      <td>1</td>\n",
       "      <td>0</td>\n",
       "      <td>1</td>\n",
       "      <td>1</td>\n",
       "      <td>1</td>\n",
       "      <td>1</td>\n",
       "    </tr>\n",
       "    <tr>\n",
       "      <th>97</th>\n",
       "      <td>0</td>\n",
       "      <td>1</td>\n",
       "      <td>1</td>\n",
       "      <td>0</td>\n",
       "      <td>1</td>\n",
       "      <td>0</td>\n",
       "    </tr>\n",
       "    <tr>\n",
       "      <th>98</th>\n",
       "      <td>1</td>\n",
       "      <td>1</td>\n",
       "      <td>1</td>\n",
       "      <td>1</td>\n",
       "      <td>0</td>\n",
       "      <td>1</td>\n",
       "    </tr>\n",
       "    <tr>\n",
       "      <th>99</th>\n",
       "      <td>1</td>\n",
       "      <td>0</td>\n",
       "      <td>1</td>\n",
       "      <td>1</td>\n",
       "      <td>1</td>\n",
       "      <td>1</td>\n",
       "    </tr>\n",
       "  </tbody>\n",
       "</table>\n",
       "<p>100 rows × 6 columns</p>\n",
       "</div>"
      ],
      "text/plain": [
       "   x1 x2 x3 x4 x5 class\n",
       "0   1  1  0  1  1     1\n",
       "1   0  1  1  1  0     0\n",
       "2   0  1  0  0  1     1\n",
       "3   1  0  1  0  1     0\n",
       "4   0  1  1  0  0     1\n",
       ".. .. .. .. .. ..   ...\n",
       "95  1  1  0  1  0     0\n",
       "96  1  0  1  1  1     1\n",
       "97  0  1  1  0  1     0\n",
       "98  1  1  1  1  0     1\n",
       "99  1  0  1  1  1     1\n",
       "\n",
       "[100 rows x 6 columns]"
      ]
     },
     "execution_count": 45,
     "metadata": {},
     "output_type": "execute_result"
    }
   ],
   "source": [
    "df = pd.DataFrame(columns=[\"x1\", \"x2\", \"x3\",\"x4\", \"x5\", \"class\"], index = [i for i in range(0,100)])\n",
    "\n",
    "df[\"x1\"] = [random.randint(0, 1) for i in range(100)]\n",
    "df[\"x2\"] = [random.randint(0, 1) for i in range(100)]\n",
    "df[\"x3\"] = [random.randint(0, 1) for i in range(100)]\n",
    "df[\"x4\"] = [random.randint(0, 1) for i in range(100)]\n",
    "df[\"x5\"] = [random.randint(0, 1) for i in range(100)]\n",
    "\n",
    "df.loc[(df[[\"x1\", \"x2\", \"x3\",\"x4\", \"x5\"]].sum(axis=1)%2) == 0, \"class\"] = \"1\"\n",
    "df = df.fillna(\"0\")\n",
    "df = df.astype(\"str\")\n",
    "df"
   ]
  },
  {
   "cell_type": "code",
   "execution_count": 46,
   "metadata": {},
   "outputs": [
    {
     "name": "stdout",
     "output_type": "stream",
     "text": [
      "Rules original score: 0.49\n",
      "Complex rules score: 0.92\n"
     ]
    }
   ],
   "source": [
    "X = df.drop(['class'], axis=1)\n",
    "y = df['class']\n",
    "\n",
    "print(f\"Rules original score: {clf_simple.score(X, y)}\")\n",
    "\n",
    "print(f\"Complex rules score: {clf_complex.score(X, y)}\")"
   ]
  },
  {
   "attachments": {},
   "cell_type": "markdown",
   "metadata": {},
   "source": [
    "# Complex cases 1"
   ]
  },
  {
   "cell_type": "code",
   "execution_count": 47,
   "metadata": {},
   "outputs": [
    {
     "data": {
      "text/html": [
       "<div>\n",
       "<style scoped>\n",
       "    .dataframe tbody tr th:only-of-type {\n",
       "        vertical-align: middle;\n",
       "    }\n",
       "\n",
       "    .dataframe tbody tr th {\n",
       "        vertical-align: top;\n",
       "    }\n",
       "\n",
       "    .dataframe thead th {\n",
       "        text-align: right;\n",
       "    }\n",
       "</style>\n",
       "<table border=\"1\" class=\"dataframe\">\n",
       "  <thead>\n",
       "    <tr style=\"text-align: right;\">\n",
       "      <th></th>\n",
       "      <th>a</th>\n",
       "      <th>b</th>\n",
       "      <th>class</th>\n",
       "    </tr>\n",
       "  </thead>\n",
       "  <tbody>\n",
       "    <tr>\n",
       "      <th>0</th>\n",
       "      <td>6.22</td>\n",
       "      <td>3.28</td>\n",
       "      <td>0</td>\n",
       "    </tr>\n",
       "    <tr>\n",
       "      <th>1</th>\n",
       "      <td>1.54</td>\n",
       "      <td>5.68</td>\n",
       "      <td>0</td>\n",
       "    </tr>\n",
       "    <tr>\n",
       "      <th>2</th>\n",
       "      <td>5.88</td>\n",
       "      <td>3.15</td>\n",
       "      <td>0</td>\n",
       "    </tr>\n",
       "    <tr>\n",
       "      <th>3</th>\n",
       "      <td>5.59</td>\n",
       "      <td>6.52</td>\n",
       "      <td>0</td>\n",
       "    </tr>\n",
       "    <tr>\n",
       "      <th>4</th>\n",
       "      <td>3.13</td>\n",
       "      <td>4.91</td>\n",
       "      <td>0</td>\n",
       "    </tr>\n",
       "    <tr>\n",
       "      <th>...</th>\n",
       "      <td>...</td>\n",
       "      <td>...</td>\n",
       "      <td>...</td>\n",
       "    </tr>\n",
       "    <tr>\n",
       "      <th>95</th>\n",
       "      <td>4.75</td>\n",
       "      <td>2.25</td>\n",
       "      <td>0</td>\n",
       "    </tr>\n",
       "    <tr>\n",
       "      <th>96</th>\n",
       "      <td>7.09</td>\n",
       "      <td>2.91</td>\n",
       "      <td>1</td>\n",
       "    </tr>\n",
       "    <tr>\n",
       "      <th>97</th>\n",
       "      <td>4.25</td>\n",
       "      <td>8.74</td>\n",
       "      <td>0</td>\n",
       "    </tr>\n",
       "    <tr>\n",
       "      <th>98</th>\n",
       "      <td>2.80</td>\n",
       "      <td>8.75</td>\n",
       "      <td>1</td>\n",
       "    </tr>\n",
       "    <tr>\n",
       "      <th>99</th>\n",
       "      <td>8.01</td>\n",
       "      <td>5.03</td>\n",
       "      <td>0</td>\n",
       "    </tr>\n",
       "  </tbody>\n",
       "</table>\n",
       "<p>100 rows × 3 columns</p>\n",
       "</div>"
      ],
      "text/plain": [
       "       a     b class\n",
       "0   6.22  3.28     0\n",
       "1   1.54  5.68     0\n",
       "2   5.88  3.15     0\n",
       "3   5.59  6.52     0\n",
       "4   3.13  4.91     0\n",
       "..   ...   ...   ...\n",
       "95  4.75  2.25     0\n",
       "96  7.09  2.91     1\n",
       "97  4.25  8.74     0\n",
       "98  2.80  8.75     1\n",
       "99  8.01  5.03     0\n",
       "\n",
       "[100 rows x 3 columns]"
      ]
     },
     "execution_count": 47,
     "metadata": {},
     "output_type": "execute_result"
    }
   ],
   "source": [
    "df = pd.DataFrame(columns=[\"a\", \"b\", \"class\"], index = [i for i in range(0,100)])\n",
    "\n",
    "\n",
    "a = [round(random.uniform(0, 9),2) for i in range(100)]\n",
    "b = [round(random.uniform(0, 9),2)for i in range(100)]\n",
    "\n",
    "df[\"a\"] = a\n",
    "df[\"b\"] = b\n",
    "\n",
    "df.loc[((df[\"a\"] >= 7) & (df[\"b\"] <= 3)) | ((df[\"a\"] <=3) & (df[\"b\"] >= 7)) ,\"class\"] = \"1\"\n",
    "df = df.fillna(\"0\")\n",
    "df"
   ]
  },
  {
   "cell_type": "code",
   "execution_count": 48,
   "metadata": {},
   "outputs": [
    {
     "data": {
      "application/vnd.plotly.v1+json": {
       "config": {
        "plotlyServerURL": "https://plot.ly"
       },
       "data": [
        {
         "hovertemplate": "class=0<br>a=%{x}<br>b=%{y}<extra></extra>",
         "legendgroup": "0",
         "marker": {
          "color": "#636efa",
          "symbol": "circle"
         },
         "mode": "markers",
         "name": "0",
         "orientation": "v",
         "showlegend": true,
         "type": "scatter",
         "x": [
          6.22,
          1.54,
          5.88,
          5.59,
          3.13,
          2.6,
          6.77,
          6.03,
          6.01,
          4.36,
          1.81,
          4.27,
          4.63,
          5.88,
          0.97,
          8.63,
          0.5,
          6.89,
          3.07,
          6.94,
          4.88,
          6.6,
          0.03,
          8.84,
          8.28,
          5.35,
          2.19,
          1.53,
          8.82,
          8.67,
          4.23,
          5.51,
          1.2,
          7.66,
          7.95,
          3.78,
          1.4,
          6.18,
          8.77,
          7.63,
          5.68,
          3.51,
          4.95,
          6.59,
          0.63,
          4.15,
          1.51,
          2.09,
          8.57,
          1.5,
          4.48,
          6.38,
          3.17,
          8.48,
          0.91,
          0.24,
          8.7,
          1.03,
          6.95,
          3.5,
          5.03,
          4.44,
          7.22,
          4.55,
          4.14,
          4.9,
          4.95,
          2.81,
          8.86,
          8.3,
          6.81,
          3.85,
          0.51,
          7.3,
          7.7,
          8.14,
          3.26,
          7.84,
          3.47,
          2.72,
          4.33,
          3.72,
          3.94,
          1.69,
          0.36,
          4.75,
          4.25,
          8.01
         ],
         "xaxis": "x",
         "y": [
          3.28,
          5.68,
          3.15,
          6.52,
          4.91,
          1.94,
          3.55,
          2.03,
          5.15,
          0.37,
          2.33,
          5.84,
          2.93,
          5.06,
          2.76,
          4.6,
          6.33,
          3.72,
          7.02,
          1.52,
          0.01,
          1.13,
          1.45,
          6.9,
          4.31,
          7.42,
          3.87,
          2.9,
          4.73,
          3.73,
          8.1,
          7.8,
          4.12,
          5.35,
          3.79,
          8.16,
          5.83,
          1.38,
          8.11,
          5.17,
          2.48,
          7.96,
          0.87,
          8.49,
          1.52,
          7,
          1.5,
          4.42,
          6.21,
          6.63,
          7.04,
          8.53,
          6.15,
          6.31,
          1.35,
          3.42,
          8.48,
          3.09,
          4.16,
          3.62,
          2.42,
          8.54,
          3.26,
          5.42,
          3.45,
          1.77,
          8.68,
          4.12,
          8.98,
          3.06,
          4.42,
          5.78,
          4.56,
          3.8,
          7.08,
          8.25,
          4.51,
          6.2,
          8.26,
          5.64,
          1.43,
          3.05,
          1.17,
          3.27,
          1.77,
          2.25,
          8.74,
          5.03
         ],
         "yaxis": "y"
        },
        {
         "hovertemplate": "class=1<br>a=%{x}<br>b=%{y}<extra></extra>",
         "legendgroup": "1",
         "marker": {
          "color": "#EF553B",
          "symbol": "circle"
         },
         "mode": "markers",
         "name": "1",
         "orientation": "v",
         "showlegend": true,
         "type": "scatter",
         "x": [
          0.68,
          1.15,
          0.87,
          2.25,
          1.36,
          8.94,
          0.29,
          2.78,
          7.57,
          1.75,
          7.09,
          2.8
         ],
         "xaxis": "x",
         "y": [
          8.33,
          7.35,
          8.2,
          7.75,
          8.75,
          2.54,
          8.62,
          8.16,
          2.52,
          8.81,
          2.91,
          8.75
         ],
         "yaxis": "y"
        }
       ],
       "layout": {
        "height": 560,
        "legend": {
         "title": {
          "text": "class"
         },
         "tracegroupgap": 0
        },
        "margin": {
         "t": 60
        },
        "template": {
         "data": {
          "bar": [
           {
            "error_x": {
             "color": "#2a3f5f"
            },
            "error_y": {
             "color": "#2a3f5f"
            },
            "marker": {
             "line": {
              "color": "#E5ECF6",
              "width": 0.5
             },
             "pattern": {
              "fillmode": "overlay",
              "size": 10,
              "solidity": 0.2
             }
            },
            "type": "bar"
           }
          ],
          "barpolar": [
           {
            "marker": {
             "line": {
              "color": "#E5ECF6",
              "width": 0.5
             },
             "pattern": {
              "fillmode": "overlay",
              "size": 10,
              "solidity": 0.2
             }
            },
            "type": "barpolar"
           }
          ],
          "carpet": [
           {
            "aaxis": {
             "endlinecolor": "#2a3f5f",
             "gridcolor": "white",
             "linecolor": "white",
             "minorgridcolor": "white",
             "startlinecolor": "#2a3f5f"
            },
            "baxis": {
             "endlinecolor": "#2a3f5f",
             "gridcolor": "white",
             "linecolor": "white",
             "minorgridcolor": "white",
             "startlinecolor": "#2a3f5f"
            },
            "type": "carpet"
           }
          ],
          "choropleth": [
           {
            "colorbar": {
             "outlinewidth": 0,
             "ticks": ""
            },
            "type": "choropleth"
           }
          ],
          "contour": [
           {
            "colorbar": {
             "outlinewidth": 0,
             "ticks": ""
            },
            "colorscale": [
             [
              0,
              "#0d0887"
             ],
             [
              0.1111111111111111,
              "#46039f"
             ],
             [
              0.2222222222222222,
              "#7201a8"
             ],
             [
              0.3333333333333333,
              "#9c179e"
             ],
             [
              0.4444444444444444,
              "#bd3786"
             ],
             [
              0.5555555555555556,
              "#d8576b"
             ],
             [
              0.6666666666666666,
              "#ed7953"
             ],
             [
              0.7777777777777778,
              "#fb9f3a"
             ],
             [
              0.8888888888888888,
              "#fdca26"
             ],
             [
              1,
              "#f0f921"
             ]
            ],
            "type": "contour"
           }
          ],
          "contourcarpet": [
           {
            "colorbar": {
             "outlinewidth": 0,
             "ticks": ""
            },
            "type": "contourcarpet"
           }
          ],
          "heatmap": [
           {
            "colorbar": {
             "outlinewidth": 0,
             "ticks": ""
            },
            "colorscale": [
             [
              0,
              "#0d0887"
             ],
             [
              0.1111111111111111,
              "#46039f"
             ],
             [
              0.2222222222222222,
              "#7201a8"
             ],
             [
              0.3333333333333333,
              "#9c179e"
             ],
             [
              0.4444444444444444,
              "#bd3786"
             ],
             [
              0.5555555555555556,
              "#d8576b"
             ],
             [
              0.6666666666666666,
              "#ed7953"
             ],
             [
              0.7777777777777778,
              "#fb9f3a"
             ],
             [
              0.8888888888888888,
              "#fdca26"
             ],
             [
              1,
              "#f0f921"
             ]
            ],
            "type": "heatmap"
           }
          ],
          "heatmapgl": [
           {
            "colorbar": {
             "outlinewidth": 0,
             "ticks": ""
            },
            "colorscale": [
             [
              0,
              "#0d0887"
             ],
             [
              0.1111111111111111,
              "#46039f"
             ],
             [
              0.2222222222222222,
              "#7201a8"
             ],
             [
              0.3333333333333333,
              "#9c179e"
             ],
             [
              0.4444444444444444,
              "#bd3786"
             ],
             [
              0.5555555555555556,
              "#d8576b"
             ],
             [
              0.6666666666666666,
              "#ed7953"
             ],
             [
              0.7777777777777778,
              "#fb9f3a"
             ],
             [
              0.8888888888888888,
              "#fdca26"
             ],
             [
              1,
              "#f0f921"
             ]
            ],
            "type": "heatmapgl"
           }
          ],
          "histogram": [
           {
            "marker": {
             "pattern": {
              "fillmode": "overlay",
              "size": 10,
              "solidity": 0.2
             }
            },
            "type": "histogram"
           }
          ],
          "histogram2d": [
           {
            "colorbar": {
             "outlinewidth": 0,
             "ticks": ""
            },
            "colorscale": [
             [
              0,
              "#0d0887"
             ],
             [
              0.1111111111111111,
              "#46039f"
             ],
             [
              0.2222222222222222,
              "#7201a8"
             ],
             [
              0.3333333333333333,
              "#9c179e"
             ],
             [
              0.4444444444444444,
              "#bd3786"
             ],
             [
              0.5555555555555556,
              "#d8576b"
             ],
             [
              0.6666666666666666,
              "#ed7953"
             ],
             [
              0.7777777777777778,
              "#fb9f3a"
             ],
             [
              0.8888888888888888,
              "#fdca26"
             ],
             [
              1,
              "#f0f921"
             ]
            ],
            "type": "histogram2d"
           }
          ],
          "histogram2dcontour": [
           {
            "colorbar": {
             "outlinewidth": 0,
             "ticks": ""
            },
            "colorscale": [
             [
              0,
              "#0d0887"
             ],
             [
              0.1111111111111111,
              "#46039f"
             ],
             [
              0.2222222222222222,
              "#7201a8"
             ],
             [
              0.3333333333333333,
              "#9c179e"
             ],
             [
              0.4444444444444444,
              "#bd3786"
             ],
             [
              0.5555555555555556,
              "#d8576b"
             ],
             [
              0.6666666666666666,
              "#ed7953"
             ],
             [
              0.7777777777777778,
              "#fb9f3a"
             ],
             [
              0.8888888888888888,
              "#fdca26"
             ],
             [
              1,
              "#f0f921"
             ]
            ],
            "type": "histogram2dcontour"
           }
          ],
          "mesh3d": [
           {
            "colorbar": {
             "outlinewidth": 0,
             "ticks": ""
            },
            "type": "mesh3d"
           }
          ],
          "parcoords": [
           {
            "line": {
             "colorbar": {
              "outlinewidth": 0,
              "ticks": ""
             }
            },
            "type": "parcoords"
           }
          ],
          "pie": [
           {
            "automargin": true,
            "type": "pie"
           }
          ],
          "scatter": [
           {
            "fillpattern": {
             "fillmode": "overlay",
             "size": 10,
             "solidity": 0.2
            },
            "type": "scatter"
           }
          ],
          "scatter3d": [
           {
            "line": {
             "colorbar": {
              "outlinewidth": 0,
              "ticks": ""
             }
            },
            "marker": {
             "colorbar": {
              "outlinewidth": 0,
              "ticks": ""
             }
            },
            "type": "scatter3d"
           }
          ],
          "scattercarpet": [
           {
            "marker": {
             "colorbar": {
              "outlinewidth": 0,
              "ticks": ""
             }
            },
            "type": "scattercarpet"
           }
          ],
          "scattergeo": [
           {
            "marker": {
             "colorbar": {
              "outlinewidth": 0,
              "ticks": ""
             }
            },
            "type": "scattergeo"
           }
          ],
          "scattergl": [
           {
            "marker": {
             "colorbar": {
              "outlinewidth": 0,
              "ticks": ""
             }
            },
            "type": "scattergl"
           }
          ],
          "scattermapbox": [
           {
            "marker": {
             "colorbar": {
              "outlinewidth": 0,
              "ticks": ""
             }
            },
            "type": "scattermapbox"
           }
          ],
          "scatterpolar": [
           {
            "marker": {
             "colorbar": {
              "outlinewidth": 0,
              "ticks": ""
             }
            },
            "type": "scatterpolar"
           }
          ],
          "scatterpolargl": [
           {
            "marker": {
             "colorbar": {
              "outlinewidth": 0,
              "ticks": ""
             }
            },
            "type": "scatterpolargl"
           }
          ],
          "scatterternary": [
           {
            "marker": {
             "colorbar": {
              "outlinewidth": 0,
              "ticks": ""
             }
            },
            "type": "scatterternary"
           }
          ],
          "surface": [
           {
            "colorbar": {
             "outlinewidth": 0,
             "ticks": ""
            },
            "colorscale": [
             [
              0,
              "#0d0887"
             ],
             [
              0.1111111111111111,
              "#46039f"
             ],
             [
              0.2222222222222222,
              "#7201a8"
             ],
             [
              0.3333333333333333,
              "#9c179e"
             ],
             [
              0.4444444444444444,
              "#bd3786"
             ],
             [
              0.5555555555555556,
              "#d8576b"
             ],
             [
              0.6666666666666666,
              "#ed7953"
             ],
             [
              0.7777777777777778,
              "#fb9f3a"
             ],
             [
              0.8888888888888888,
              "#fdca26"
             ],
             [
              1,
              "#f0f921"
             ]
            ],
            "type": "surface"
           }
          ],
          "table": [
           {
            "cells": {
             "fill": {
              "color": "#EBF0F8"
             },
             "line": {
              "color": "white"
             }
            },
            "header": {
             "fill": {
              "color": "#C8D4E3"
             },
             "line": {
              "color": "white"
             }
            },
            "type": "table"
           }
          ]
         },
         "layout": {
          "annotationdefaults": {
           "arrowcolor": "#2a3f5f",
           "arrowhead": 0,
           "arrowwidth": 1
          },
          "autotypenumbers": "strict",
          "coloraxis": {
           "colorbar": {
            "outlinewidth": 0,
            "ticks": ""
           }
          },
          "colorscale": {
           "diverging": [
            [
             0,
             "#8e0152"
            ],
            [
             0.1,
             "#c51b7d"
            ],
            [
             0.2,
             "#de77ae"
            ],
            [
             0.3,
             "#f1b6da"
            ],
            [
             0.4,
             "#fde0ef"
            ],
            [
             0.5,
             "#f7f7f7"
            ],
            [
             0.6,
             "#e6f5d0"
            ],
            [
             0.7,
             "#b8e186"
            ],
            [
             0.8,
             "#7fbc41"
            ],
            [
             0.9,
             "#4d9221"
            ],
            [
             1,
             "#276419"
            ]
           ],
           "sequential": [
            [
             0,
             "#0d0887"
            ],
            [
             0.1111111111111111,
             "#46039f"
            ],
            [
             0.2222222222222222,
             "#7201a8"
            ],
            [
             0.3333333333333333,
             "#9c179e"
            ],
            [
             0.4444444444444444,
             "#bd3786"
            ],
            [
             0.5555555555555556,
             "#d8576b"
            ],
            [
             0.6666666666666666,
             "#ed7953"
            ],
            [
             0.7777777777777778,
             "#fb9f3a"
            ],
            [
             0.8888888888888888,
             "#fdca26"
            ],
            [
             1,
             "#f0f921"
            ]
           ],
           "sequentialminus": [
            [
             0,
             "#0d0887"
            ],
            [
             0.1111111111111111,
             "#46039f"
            ],
            [
             0.2222222222222222,
             "#7201a8"
            ],
            [
             0.3333333333333333,
             "#9c179e"
            ],
            [
             0.4444444444444444,
             "#bd3786"
            ],
            [
             0.5555555555555556,
             "#d8576b"
            ],
            [
             0.6666666666666666,
             "#ed7953"
            ],
            [
             0.7777777777777778,
             "#fb9f3a"
            ],
            [
             0.8888888888888888,
             "#fdca26"
            ],
            [
             1,
             "#f0f921"
            ]
           ]
          },
          "colorway": [
           "#636efa",
           "#EF553B",
           "#00cc96",
           "#ab63fa",
           "#FFA15A",
           "#19d3f3",
           "#FF6692",
           "#B6E880",
           "#FF97FF",
           "#FECB52"
          ],
          "font": {
           "color": "#2a3f5f"
          },
          "geo": {
           "bgcolor": "white",
           "lakecolor": "white",
           "landcolor": "#E5ECF6",
           "showlakes": true,
           "showland": true,
           "subunitcolor": "white"
          },
          "hoverlabel": {
           "align": "left"
          },
          "hovermode": "closest",
          "mapbox": {
           "style": "light"
          },
          "paper_bgcolor": "white",
          "plot_bgcolor": "#E5ECF6",
          "polar": {
           "angularaxis": {
            "gridcolor": "white",
            "linecolor": "white",
            "ticks": ""
           },
           "bgcolor": "#E5ECF6",
           "radialaxis": {
            "gridcolor": "white",
            "linecolor": "white",
            "ticks": ""
           }
          },
          "scene": {
           "xaxis": {
            "backgroundcolor": "#E5ECF6",
            "gridcolor": "white",
            "gridwidth": 2,
            "linecolor": "white",
            "showbackground": true,
            "ticks": "",
            "zerolinecolor": "white"
           },
           "yaxis": {
            "backgroundcolor": "#E5ECF6",
            "gridcolor": "white",
            "gridwidth": 2,
            "linecolor": "white",
            "showbackground": true,
            "ticks": "",
            "zerolinecolor": "white"
           },
           "zaxis": {
            "backgroundcolor": "#E5ECF6",
            "gridcolor": "white",
            "gridwidth": 2,
            "linecolor": "white",
            "showbackground": true,
            "ticks": "",
            "zerolinecolor": "white"
           }
          },
          "shapedefaults": {
           "line": {
            "color": "#2a3f5f"
           }
          },
          "ternary": {
           "aaxis": {
            "gridcolor": "white",
            "linecolor": "white",
            "ticks": ""
           },
           "baxis": {
            "gridcolor": "white",
            "linecolor": "white",
            "ticks": ""
           },
           "bgcolor": "#E5ECF6",
           "caxis": {
            "gridcolor": "white",
            "linecolor": "white",
            "ticks": ""
           }
          },
          "title": {
           "x": 0.05
          },
          "xaxis": {
           "automargin": true,
           "gridcolor": "white",
           "linecolor": "white",
           "ticks": "",
           "title": {
            "standoff": 15
           },
           "zerolinecolor": "white",
           "zerolinewidth": 2
          },
          "yaxis": {
           "automargin": true,
           "gridcolor": "white",
           "linecolor": "white",
           "ticks": "",
           "title": {
            "standoff": 15
           },
           "zerolinecolor": "white",
           "zerolinewidth": 2
          }
         }
        },
        "width": 560,
        "xaxis": {
         "anchor": "y",
         "domain": [
          0,
          1
         ],
         "title": {
          "text": "a"
         }
        },
        "yaxis": {
         "anchor": "x",
         "domain": [
          0,
          1
         ],
         "title": {
          "text": "b"
         }
        }
       }
      },
      "text/html": [
       "<div>                            <div id=\"36fa3e6c-9433-4139-8879-e25584a44c9b\" class=\"plotly-graph-div\" style=\"height:560px; width:560px;\"></div>            <script type=\"text/javascript\">                require([\"plotly\"], function(Plotly) {                    window.PLOTLYENV=window.PLOTLYENV || {};                                    if (document.getElementById(\"36fa3e6c-9433-4139-8879-e25584a44c9b\")) {                    Plotly.newPlot(                        \"36fa3e6c-9433-4139-8879-e25584a44c9b\",                        [{\"hovertemplate\":\"class=0<br>a=%{x}<br>b=%{y}<extra></extra>\",\"legendgroup\":\"0\",\"marker\":{\"color\":\"#636efa\",\"symbol\":\"circle\"},\"mode\":\"markers\",\"name\":\"0\",\"orientation\":\"v\",\"showlegend\":true,\"x\":[6.22,1.54,5.88,5.59,3.13,2.6,6.77,6.03,6.01,4.36,1.81,4.27,4.63,5.88,0.97,8.63,0.5,6.89,3.07,6.94,4.88,6.6,0.03,8.84,8.28,5.35,2.19,1.53,8.82,8.67,4.23,5.51,1.2,7.66,7.95,3.78,1.4,6.18,8.77,7.63,5.68,3.51,4.95,6.59,0.63,4.15,1.51,2.09,8.57,1.5,4.48,6.38,3.17,8.48,0.91,0.24,8.7,1.03,6.95,3.5,5.03,4.44,7.22,4.55,4.14,4.9,4.95,2.81,8.86,8.3,6.81,3.85,0.51,7.3,7.7,8.14,3.26,7.84,3.47,2.72,4.33,3.72,3.94,1.69,0.36,4.75,4.25,8.01],\"xaxis\":\"x\",\"y\":[3.28,5.68,3.15,6.52,4.91,1.94,3.55,2.03,5.15,0.37,2.33,5.84,2.93,5.06,2.76,4.6,6.33,3.72,7.02,1.52,0.01,1.13,1.45,6.9,4.31,7.42,3.87,2.9,4.73,3.73,8.1,7.8,4.12,5.35,3.79,8.16,5.83,1.38,8.11,5.17,2.48,7.96,0.87,8.49,1.52,7.0,1.5,4.42,6.21,6.63,7.04,8.53,6.15,6.31,1.35,3.42,8.48,3.09,4.16,3.62,2.42,8.54,3.26,5.42,3.45,1.77,8.68,4.12,8.98,3.06,4.42,5.78,4.56,3.8,7.08,8.25,4.51,6.2,8.26,5.64,1.43,3.05,1.17,3.27,1.77,2.25,8.74,5.03],\"yaxis\":\"y\",\"type\":\"scatter\"},{\"hovertemplate\":\"class=1<br>a=%{x}<br>b=%{y}<extra></extra>\",\"legendgroup\":\"1\",\"marker\":{\"color\":\"#EF553B\",\"symbol\":\"circle\"},\"mode\":\"markers\",\"name\":\"1\",\"orientation\":\"v\",\"showlegend\":true,\"x\":[0.68,1.15,0.87,2.25,1.36,8.94,0.29,2.78,7.57,1.75,7.09,2.8],\"xaxis\":\"x\",\"y\":[8.33,7.35,8.2,7.75,8.75,2.54,8.62,8.16,2.52,8.81,2.91,8.75],\"yaxis\":\"y\",\"type\":\"scatter\"}],                        {\"template\":{\"data\":{\"histogram2dcontour\":[{\"type\":\"histogram2dcontour\",\"colorbar\":{\"outlinewidth\":0,\"ticks\":\"\"},\"colorscale\":[[0.0,\"#0d0887\"],[0.1111111111111111,\"#46039f\"],[0.2222222222222222,\"#7201a8\"],[0.3333333333333333,\"#9c179e\"],[0.4444444444444444,\"#bd3786\"],[0.5555555555555556,\"#d8576b\"],[0.6666666666666666,\"#ed7953\"],[0.7777777777777778,\"#fb9f3a\"],[0.8888888888888888,\"#fdca26\"],[1.0,\"#f0f921\"]]}],\"choropleth\":[{\"type\":\"choropleth\",\"colorbar\":{\"outlinewidth\":0,\"ticks\":\"\"}}],\"histogram2d\":[{\"type\":\"histogram2d\",\"colorbar\":{\"outlinewidth\":0,\"ticks\":\"\"},\"colorscale\":[[0.0,\"#0d0887\"],[0.1111111111111111,\"#46039f\"],[0.2222222222222222,\"#7201a8\"],[0.3333333333333333,\"#9c179e\"],[0.4444444444444444,\"#bd3786\"],[0.5555555555555556,\"#d8576b\"],[0.6666666666666666,\"#ed7953\"],[0.7777777777777778,\"#fb9f3a\"],[0.8888888888888888,\"#fdca26\"],[1.0,\"#f0f921\"]]}],\"heatmap\":[{\"type\":\"heatmap\",\"colorbar\":{\"outlinewidth\":0,\"ticks\":\"\"},\"colorscale\":[[0.0,\"#0d0887\"],[0.1111111111111111,\"#46039f\"],[0.2222222222222222,\"#7201a8\"],[0.3333333333333333,\"#9c179e\"],[0.4444444444444444,\"#bd3786\"],[0.5555555555555556,\"#d8576b\"],[0.6666666666666666,\"#ed7953\"],[0.7777777777777778,\"#fb9f3a\"],[0.8888888888888888,\"#fdca26\"],[1.0,\"#f0f921\"]]}],\"heatmapgl\":[{\"type\":\"heatmapgl\",\"colorbar\":{\"outlinewidth\":0,\"ticks\":\"\"},\"colorscale\":[[0.0,\"#0d0887\"],[0.1111111111111111,\"#46039f\"],[0.2222222222222222,\"#7201a8\"],[0.3333333333333333,\"#9c179e\"],[0.4444444444444444,\"#bd3786\"],[0.5555555555555556,\"#d8576b\"],[0.6666666666666666,\"#ed7953\"],[0.7777777777777778,\"#fb9f3a\"],[0.8888888888888888,\"#fdca26\"],[1.0,\"#f0f921\"]]}],\"contourcarpet\":[{\"type\":\"contourcarpet\",\"colorbar\":{\"outlinewidth\":0,\"ticks\":\"\"}}],\"contour\":[{\"type\":\"contour\",\"colorbar\":{\"outlinewidth\":0,\"ticks\":\"\"},\"colorscale\":[[0.0,\"#0d0887\"],[0.1111111111111111,\"#46039f\"],[0.2222222222222222,\"#7201a8\"],[0.3333333333333333,\"#9c179e\"],[0.4444444444444444,\"#bd3786\"],[0.5555555555555556,\"#d8576b\"],[0.6666666666666666,\"#ed7953\"],[0.7777777777777778,\"#fb9f3a\"],[0.8888888888888888,\"#fdca26\"],[1.0,\"#f0f921\"]]}],\"surface\":[{\"type\":\"surface\",\"colorbar\":{\"outlinewidth\":0,\"ticks\":\"\"},\"colorscale\":[[0.0,\"#0d0887\"],[0.1111111111111111,\"#46039f\"],[0.2222222222222222,\"#7201a8\"],[0.3333333333333333,\"#9c179e\"],[0.4444444444444444,\"#bd3786\"],[0.5555555555555556,\"#d8576b\"],[0.6666666666666666,\"#ed7953\"],[0.7777777777777778,\"#fb9f3a\"],[0.8888888888888888,\"#fdca26\"],[1.0,\"#f0f921\"]]}],\"mesh3d\":[{\"type\":\"mesh3d\",\"colorbar\":{\"outlinewidth\":0,\"ticks\":\"\"}}],\"scatter\":[{\"fillpattern\":{\"fillmode\":\"overlay\",\"size\":10,\"solidity\":0.2},\"type\":\"scatter\"}],\"parcoords\":[{\"type\":\"parcoords\",\"line\":{\"colorbar\":{\"outlinewidth\":0,\"ticks\":\"\"}}}],\"scatterpolargl\":[{\"type\":\"scatterpolargl\",\"marker\":{\"colorbar\":{\"outlinewidth\":0,\"ticks\":\"\"}}}],\"bar\":[{\"error_x\":{\"color\":\"#2a3f5f\"},\"error_y\":{\"color\":\"#2a3f5f\"},\"marker\":{\"line\":{\"color\":\"#E5ECF6\",\"width\":0.5},\"pattern\":{\"fillmode\":\"overlay\",\"size\":10,\"solidity\":0.2}},\"type\":\"bar\"}],\"scattergeo\":[{\"type\":\"scattergeo\",\"marker\":{\"colorbar\":{\"outlinewidth\":0,\"ticks\":\"\"}}}],\"scatterpolar\":[{\"type\":\"scatterpolar\",\"marker\":{\"colorbar\":{\"outlinewidth\":0,\"ticks\":\"\"}}}],\"histogram\":[{\"marker\":{\"pattern\":{\"fillmode\":\"overlay\",\"size\":10,\"solidity\":0.2}},\"type\":\"histogram\"}],\"scattergl\":[{\"type\":\"scattergl\",\"marker\":{\"colorbar\":{\"outlinewidth\":0,\"ticks\":\"\"}}}],\"scatter3d\":[{\"type\":\"scatter3d\",\"line\":{\"colorbar\":{\"outlinewidth\":0,\"ticks\":\"\"}},\"marker\":{\"colorbar\":{\"outlinewidth\":0,\"ticks\":\"\"}}}],\"scattermapbox\":[{\"type\":\"scattermapbox\",\"marker\":{\"colorbar\":{\"outlinewidth\":0,\"ticks\":\"\"}}}],\"scatterternary\":[{\"type\":\"scatterternary\",\"marker\":{\"colorbar\":{\"outlinewidth\":0,\"ticks\":\"\"}}}],\"scattercarpet\":[{\"type\":\"scattercarpet\",\"marker\":{\"colorbar\":{\"outlinewidth\":0,\"ticks\":\"\"}}}],\"carpet\":[{\"aaxis\":{\"endlinecolor\":\"#2a3f5f\",\"gridcolor\":\"white\",\"linecolor\":\"white\",\"minorgridcolor\":\"white\",\"startlinecolor\":\"#2a3f5f\"},\"baxis\":{\"endlinecolor\":\"#2a3f5f\",\"gridcolor\":\"white\",\"linecolor\":\"white\",\"minorgridcolor\":\"white\",\"startlinecolor\":\"#2a3f5f\"},\"type\":\"carpet\"}],\"table\":[{\"cells\":{\"fill\":{\"color\":\"#EBF0F8\"},\"line\":{\"color\":\"white\"}},\"header\":{\"fill\":{\"color\":\"#C8D4E3\"},\"line\":{\"color\":\"white\"}},\"type\":\"table\"}],\"barpolar\":[{\"marker\":{\"line\":{\"color\":\"#E5ECF6\",\"width\":0.5},\"pattern\":{\"fillmode\":\"overlay\",\"size\":10,\"solidity\":0.2}},\"type\":\"barpolar\"}],\"pie\":[{\"automargin\":true,\"type\":\"pie\"}]},\"layout\":{\"autotypenumbers\":\"strict\",\"colorway\":[\"#636efa\",\"#EF553B\",\"#00cc96\",\"#ab63fa\",\"#FFA15A\",\"#19d3f3\",\"#FF6692\",\"#B6E880\",\"#FF97FF\",\"#FECB52\"],\"font\":{\"color\":\"#2a3f5f\"},\"hovermode\":\"closest\",\"hoverlabel\":{\"align\":\"left\"},\"paper_bgcolor\":\"white\",\"plot_bgcolor\":\"#E5ECF6\",\"polar\":{\"bgcolor\":\"#E5ECF6\",\"angularaxis\":{\"gridcolor\":\"white\",\"linecolor\":\"white\",\"ticks\":\"\"},\"radialaxis\":{\"gridcolor\":\"white\",\"linecolor\":\"white\",\"ticks\":\"\"}},\"ternary\":{\"bgcolor\":\"#E5ECF6\",\"aaxis\":{\"gridcolor\":\"white\",\"linecolor\":\"white\",\"ticks\":\"\"},\"baxis\":{\"gridcolor\":\"white\",\"linecolor\":\"white\",\"ticks\":\"\"},\"caxis\":{\"gridcolor\":\"white\",\"linecolor\":\"white\",\"ticks\":\"\"}},\"coloraxis\":{\"colorbar\":{\"outlinewidth\":0,\"ticks\":\"\"}},\"colorscale\":{\"sequential\":[[0.0,\"#0d0887\"],[0.1111111111111111,\"#46039f\"],[0.2222222222222222,\"#7201a8\"],[0.3333333333333333,\"#9c179e\"],[0.4444444444444444,\"#bd3786\"],[0.5555555555555556,\"#d8576b\"],[0.6666666666666666,\"#ed7953\"],[0.7777777777777778,\"#fb9f3a\"],[0.8888888888888888,\"#fdca26\"],[1.0,\"#f0f921\"]],\"sequentialminus\":[[0.0,\"#0d0887\"],[0.1111111111111111,\"#46039f\"],[0.2222222222222222,\"#7201a8\"],[0.3333333333333333,\"#9c179e\"],[0.4444444444444444,\"#bd3786\"],[0.5555555555555556,\"#d8576b\"],[0.6666666666666666,\"#ed7953\"],[0.7777777777777778,\"#fb9f3a\"],[0.8888888888888888,\"#fdca26\"],[1.0,\"#f0f921\"]],\"diverging\":[[0,\"#8e0152\"],[0.1,\"#c51b7d\"],[0.2,\"#de77ae\"],[0.3,\"#f1b6da\"],[0.4,\"#fde0ef\"],[0.5,\"#f7f7f7\"],[0.6,\"#e6f5d0\"],[0.7,\"#b8e186\"],[0.8,\"#7fbc41\"],[0.9,\"#4d9221\"],[1,\"#276419\"]]},\"xaxis\":{\"gridcolor\":\"white\",\"linecolor\":\"white\",\"ticks\":\"\",\"title\":{\"standoff\":15},\"zerolinecolor\":\"white\",\"automargin\":true,\"zerolinewidth\":2},\"yaxis\":{\"gridcolor\":\"white\",\"linecolor\":\"white\",\"ticks\":\"\",\"title\":{\"standoff\":15},\"zerolinecolor\":\"white\",\"automargin\":true,\"zerolinewidth\":2},\"scene\":{\"xaxis\":{\"backgroundcolor\":\"#E5ECF6\",\"gridcolor\":\"white\",\"linecolor\":\"white\",\"showbackground\":true,\"ticks\":\"\",\"zerolinecolor\":\"white\",\"gridwidth\":2},\"yaxis\":{\"backgroundcolor\":\"#E5ECF6\",\"gridcolor\":\"white\",\"linecolor\":\"white\",\"showbackground\":true,\"ticks\":\"\",\"zerolinecolor\":\"white\",\"gridwidth\":2},\"zaxis\":{\"backgroundcolor\":\"#E5ECF6\",\"gridcolor\":\"white\",\"linecolor\":\"white\",\"showbackground\":true,\"ticks\":\"\",\"zerolinecolor\":\"white\",\"gridwidth\":2}},\"shapedefaults\":{\"line\":{\"color\":\"#2a3f5f\"}},\"annotationdefaults\":{\"arrowcolor\":\"#2a3f5f\",\"arrowhead\":0,\"arrowwidth\":1},\"geo\":{\"bgcolor\":\"white\",\"landcolor\":\"#E5ECF6\",\"subunitcolor\":\"white\",\"showland\":true,\"showlakes\":true,\"lakecolor\":\"white\"},\"title\":{\"x\":0.05},\"mapbox\":{\"style\":\"light\"}}},\"xaxis\":{\"anchor\":\"y\",\"domain\":[0.0,1.0],\"title\":{\"text\":\"a\"}},\"yaxis\":{\"anchor\":\"x\",\"domain\":[0.0,1.0],\"title\":{\"text\":\"b\"}},\"legend\":{\"title\":{\"text\":\"class\"},\"tracegroupgap\":0},\"margin\":{\"t\":60},\"height\":560,\"width\":560},                        {\"responsive\": true}                    ).then(function(){\n",
       "                            \n",
       "var gd = document.getElementById('36fa3e6c-9433-4139-8879-e25584a44c9b');\n",
       "var x = new MutationObserver(function (mutations, observer) {{\n",
       "        var display = window.getComputedStyle(gd).display;\n",
       "        if (!display || display === 'none') {{\n",
       "            console.log([gd, 'removed!']);\n",
       "            Plotly.purge(gd);\n",
       "            observer.disconnect();\n",
       "        }}\n",
       "}});\n",
       "\n",
       "// Listen for the removal of the full notebook cells\n",
       "var notebookContainer = gd.closest('#notebook-container');\n",
       "if (notebookContainer) {{\n",
       "    x.observe(notebookContainer, {childList: true});\n",
       "}}\n",
       "\n",
       "// Listen for the clearing of the current output cell\n",
       "var outputEl = gd.closest('.output');\n",
       "if (outputEl) {{\n",
       "    x.observe(outputEl, {childList: true});\n",
       "}}\n",
       "\n",
       "                        })                };                });            </script>        </div>"
      ]
     },
     "metadata": {},
     "output_type": "display_data"
    }
   ],
   "source": [
    "fig = px.scatter(df, x='a',\n",
    "            y='b',\n",
    "            color='class',\n",
    "            height=560,\n",
    "            width=560,\n",
    "            )\n",
    "fig.show()"
   ]
  },
  {
   "cell_type": "code",
   "execution_count": 49,
   "metadata": {},
   "outputs": [
    {
     "name": "stdout",
     "output_type": "stream",
     "text": [
      "Rules original\n",
      "IF a = (-inf, 7.02) AND b = (-inf, 7.22) THEN class = {0} (p = 57.0, n = 0.0, P = 88.0, N = 12.0, weight = 0.8238636363636364, pvalue = 1.4602409431760255e-05)\n",
      "IF b = <2.92, 7.22) THEN class = {0} (p = 51.0, n = 0.0, P = 88.0, N = 12.0, weight = 0.7897727272727273, pvalue = 8.783500172506351e-05)\n",
      "IF a = <2.80, inf) AND b = <2.92, inf) THEN class = {0} (p = 54.0, n = 0.0, P = 88.0, N = 12.0, weight = 0.8068181818181819, pvalue = 3.70428768673331e-05)\n",
      "IF a = (-inf, 5.83) AND b = <8.75, inf) THEN class = {1} (p = 3.0, n = 0.0, P = 12.0, N = 88.0, weight = 0.625, pvalue = 0.0013605442176870739)\n",
      "IF a = (-inf, 3.14) AND b = <8.14, inf) THEN class = {1} (p = 7.0, n = 0.0, P = 12.0, N = 88.0, weight = 0.7916666666666667, pvalue = 4.947661982330259e-08)\n",
      "IF a = <4.31, inf) AND b = <2.50, 2.92) THEN class = {1} (p = 3.0, n = 0.0, P = 12.0, N = 88.0, weight = 0.625, pvalue = 0.0013605442176870739)\n",
      "\n",
      "\n",
      "Complex rules\n",
      "IF b = <2.92, 7.35) THEN class = {0} (p = 51.0, n = 0.0, P = 88.0, N = 12.0, weight = 0.7897727272727273, pvalue = 8.783500172506351e-05)\n",
      "IF a = <2.80, 7.09) THEN class = {0} (p = 47.0, n = 0.0, P = 88.0, N = 12.0, weight = 0.7670454545454546, pvalue = 0.00025397733168896726)\n",
      "IF a = (-inf, 7.02) AND b = (-inf, 7.22) THEN class = {0} (p = 57.0, n = 0.0, P = 88.0, N = 12.0, weight = 0.8238636363636364, pvalue = 1.4602409431760255e-05)\n",
      "IF a = (-inf, 5.83) AND b = <8.75, inf) THEN class = {1} (p = 3.0, n = 0.0, P = 12.0, N = 88.0, weight = 0.625, pvalue = 0.0013605442176870739)\n",
      "IF a > b AND b = <2.50, 2.93) THEN class = {1} (p = 3.0, n = 0.0, P = 12.0, N = 88.0, weight = 0.625, pvalue = 0.0013605442176870739)\n",
      "IF a = <0.66, 1.40) AND b = <5.73, inf) THEN class = {1} (p = 4.0, n = 0.0, P = 12.0, N = 88.0, weight = 0.6666666666666666, pvalue = 0.00012623606143488344)\n",
      "IF a = (-inf, 3.14) AND b = <7.22, inf) THEN class = {1} (p = 9.0, n = 0.0, P = 12.0, N = 88.0, weight = 0.875, pvalue = 1.1565362277536825e-10)\n",
      "\n",
      "\n",
      "Complex rules + inners alternatives\n",
      "IF #(b = (-inf, 2.50) OR b = <0.19, 1.38) OR b = <0.19, 1.43) OR b = <0.19, 1.45) OR b = <0.19, 1.50) OR b = <2.92, 7.35)) THEN class = {0} (p = 71.0, n = 0.0, P = 88.0, N = 12.0, weight = 0.9034090909090908, pvalue = 4.9404888587603745e-08)\n",
      "IF #(a = <2.80, 4.88)) THEN class = {0} (p = 47.0, n = 0.0, P = 88.0, N = 12.0, weight = 0.7670454545454546, pvalue = 0.00025397733168896726)\n",
      "IF #(a != <1, 2.81) OR a != <1.09, 2.81)) AND #(a = <0.89, 0.91)) AND #(b = <2.65, 2.93)) AND #(a != <6.48, 7.22) OR a != <6.60, 7.22) OR a != <6.69, 7.22) OR a != <6.95, 7.22)) THEN class = {0} (p = 71.0, n = 0.0, P = 88.0, N = 12.0, weight = 0.9034090909090908, pvalue = 4.9404888587603745e-08)\n",
      "IF a = (-inf, 5.83) AND b = <8.75, inf) THEN class = {1} (p = 3.0, n = 0.0, P = 12.0, N = 88.0, weight = 0.625, pvalue = 0.0013605442176870739)\n",
      "IF #(b = <8.14, inf) OR b = <2.50, 2.93)) AND a = (-inf, 0.92) THEN class = {1} (p = 3.0, n = 0.0, P = 12.0, N = 88.0, weight = 0.625, pvalue = 0.0013605442176870739)\n",
      "IF a > b AND b = <2.50, 2.93) THEN class = {1} (p = 3.0, n = 0.0, P = 12.0, N = 88.0, weight = 0.625, pvalue = 0.0013605442176870739)\n",
      "IF a = (-inf, 3.14) AND b = <7.22, inf) THEN class = {1} (p = 9.0, n = 0.0, P = 12.0, N = 88.0, weight = 0.875, pvalue = 1.1565362277536825e-10)\n"
     ]
    }
   ],
   "source": [
    "X = df.drop(['class'], axis=1)\n",
    "y = df['class']\n",
    "\n",
    "clf_simple.fit(X, y)\n",
    "\n",
    "print(\"Rules original\")\n",
    "for rule in clf_simple.model.rules:\n",
    "    print(rule, rule.stats)\n",
    "\n",
    "print(\"\\n\\nComplex rules\")\n",
    "clf_complex.fit(X, y)\n",
    "for rule in clf_complex.model.rules:\n",
    "    print(rule, rule.stats)\n",
    "\n",
    "print(\"\\n\\nComplex rules + inners alternatives\")\n",
    "clf_complex_with_inners.fit(X, y)\n",
    "for rule in clf_complex_with_inners.model.rules:\n",
    "    print(rule, rule.stats)"
   ]
  },
  {
   "attachments": {},
   "cell_type": "markdown",
   "metadata": {},
   "source": [
    "# Complex case 2"
   ]
  },
  {
   "cell_type": "code",
   "execution_count": 50,
   "metadata": {},
   "outputs": [
    {
     "data": {
      "text/html": [
       "<div>\n",
       "<style scoped>\n",
       "    .dataframe tbody tr th:only-of-type {\n",
       "        vertical-align: middle;\n",
       "    }\n",
       "\n",
       "    .dataframe tbody tr th {\n",
       "        vertical-align: top;\n",
       "    }\n",
       "\n",
       "    .dataframe thead th {\n",
       "        text-align: right;\n",
       "    }\n",
       "</style>\n",
       "<table border=\"1\" class=\"dataframe\">\n",
       "  <thead>\n",
       "    <tr style=\"text-align: right;\">\n",
       "      <th></th>\n",
       "      <th>a</th>\n",
       "      <th>b</th>\n",
       "      <th>class</th>\n",
       "    </tr>\n",
       "  </thead>\n",
       "  <tbody>\n",
       "    <tr>\n",
       "      <th>0</th>\n",
       "      <td>10.14</td>\n",
       "      <td>1.80</td>\n",
       "      <td>0</td>\n",
       "    </tr>\n",
       "    <tr>\n",
       "      <th>1</th>\n",
       "      <td>2.72</td>\n",
       "      <td>7.99</td>\n",
       "      <td>1</td>\n",
       "    </tr>\n",
       "    <tr>\n",
       "      <th>2</th>\n",
       "      <td>7.25</td>\n",
       "      <td>4.59</td>\n",
       "      <td>0</td>\n",
       "    </tr>\n",
       "    <tr>\n",
       "      <th>3</th>\n",
       "      <td>17.77</td>\n",
       "      <td>7.04</td>\n",
       "      <td>1</td>\n",
       "    </tr>\n",
       "    <tr>\n",
       "      <th>4</th>\n",
       "      <td>0.14</td>\n",
       "      <td>3.65</td>\n",
       "      <td>1</td>\n",
       "    </tr>\n",
       "    <tr>\n",
       "      <th>...</th>\n",
       "      <td>...</td>\n",
       "      <td>...</td>\n",
       "      <td>...</td>\n",
       "    </tr>\n",
       "    <tr>\n",
       "      <th>95</th>\n",
       "      <td>5.94</td>\n",
       "      <td>5.47</td>\n",
       "      <td>1</td>\n",
       "    </tr>\n",
       "    <tr>\n",
       "      <th>96</th>\n",
       "      <td>12.44</td>\n",
       "      <td>4.67</td>\n",
       "      <td>0</td>\n",
       "    </tr>\n",
       "    <tr>\n",
       "      <th>97</th>\n",
       "      <td>18.29</td>\n",
       "      <td>6.02</td>\n",
       "      <td>1</td>\n",
       "    </tr>\n",
       "    <tr>\n",
       "      <th>98</th>\n",
       "      <td>16.47</td>\n",
       "      <td>1.80</td>\n",
       "      <td>1</td>\n",
       "    </tr>\n",
       "    <tr>\n",
       "      <th>99</th>\n",
       "      <td>5.38</td>\n",
       "      <td>6.93</td>\n",
       "      <td>1</td>\n",
       "    </tr>\n",
       "  </tbody>\n",
       "</table>\n",
       "<p>100 rows × 3 columns</p>\n",
       "</div>"
      ],
      "text/plain": [
       "        a     b class\n",
       "0   10.14  1.80     0\n",
       "1    2.72  7.99     1\n",
       "2    7.25  4.59     0\n",
       "3   17.77  7.04     1\n",
       "4    0.14  3.65     1\n",
       "..    ...   ...   ...\n",
       "95   5.94  5.47     1\n",
       "96  12.44  4.67     0\n",
       "97  18.29  6.02     1\n",
       "98  16.47  1.80     1\n",
       "99   5.38  6.93     1\n",
       "\n",
       "[100 rows x 3 columns]"
      ]
     },
     "execution_count": 50,
     "metadata": {},
     "output_type": "execute_result"
    }
   ],
   "source": [
    "df = pd.DataFrame(columns=[\"a\", \"b\", \"class\"], index = [i for i in range(0,100)])\n",
    "\n",
    "\n",
    "a = [round(random.uniform(0, 20),2) for i in range(100)]\n",
    "b = [round(random.uniform(0, 9),2) for i in range(100)]\n",
    "\n",
    "df[\"a\"] = a\n",
    "df[\"b\"] = b\n",
    "\n",
    "df.loc[(df[\"a\"] <= 3) | ((df[\"a\"] >=5) & (df[\"a\"] <= 7) | ((df[\"a\"] >=14))) ,\"class\"] = \"1\"\n",
    "df = df.fillna(\"0\")\n",
    "df"
   ]
  },
  {
   "cell_type": "code",
   "execution_count": 51,
   "metadata": {},
   "outputs": [
    {
     "data": {
      "application/vnd.plotly.v1+json": {
       "config": {
        "plotlyServerURL": "https://plot.ly"
       },
       "data": [
        {
         "hovertemplate": "class=0<br>a=%{x}<br>b=%{y}<extra></extra>",
         "legendgroup": "0",
         "marker": {
          "color": "#636efa",
          "symbol": "circle"
         },
         "mode": "markers",
         "name": "0",
         "orientation": "v",
         "showlegend": true,
         "type": "scatter",
         "x": [
          10.14,
          7.25,
          7.17,
          9.76,
          4.35,
          7.4,
          12.92,
          4.54,
          3.15,
          12.55,
          7.74,
          13.97,
          7.12,
          10.8,
          4.05,
          9.14,
          3.6,
          9.44,
          11.77,
          13.71,
          7.39,
          3.26,
          13.09,
          10.67,
          4.89,
          4.9,
          10.97,
          7.13,
          4.02,
          10.71,
          4,
          9.98,
          10.52,
          10.31,
          9.21,
          12.16,
          8.4,
          10.6,
          8.6,
          11.46,
          4.63,
          4.37,
          4.7,
          9.73,
          8.52,
          3.26,
          3.05,
          12.83,
          12.44
         ],
         "xaxis": "x",
         "y": [
          1.8,
          4.59,
          3.5,
          2.84,
          6.96,
          1.39,
          7.5,
          8.13,
          7.01,
          3.09,
          7.86,
          2.79,
          0.49,
          6.06,
          3.7,
          1.75,
          6.51,
          6.46,
          2.92,
          7.41,
          8.88,
          8.02,
          0.52,
          4.77,
          8.46,
          3.99,
          4.42,
          3.87,
          3.6,
          2.74,
          4.99,
          5.78,
          0.45,
          3.81,
          2.73,
          2.75,
          2.98,
          5.57,
          6.33,
          6.68,
          4.66,
          2.15,
          7.42,
          7.75,
          6.09,
          7.36,
          2.68,
          0.87,
          4.67
         ],
         "yaxis": "y"
        },
        {
         "hovertemplate": "class=1<br>a=%{x}<br>b=%{y}<extra></extra>",
         "legendgroup": "1",
         "marker": {
          "color": "#EF553B",
          "symbol": "circle"
         },
         "mode": "markers",
         "name": "1",
         "orientation": "v",
         "showlegend": true,
         "type": "scatter",
         "x": [
          2.72,
          17.77,
          0.14,
          2.81,
          1.69,
          5.47,
          14.24,
          18.75,
          5.46,
          18.84,
          1.88,
          16.07,
          19.38,
          1.76,
          16.24,
          1.65,
          18.96,
          1.09,
          16.08,
          2.98,
          14.03,
          5.41,
          17.52,
          0.95,
          19.21,
          15.82,
          14.66,
          18.24,
          1.59,
          16.94,
          18.78,
          15.42,
          15.89,
          17.53,
          14.96,
          0.4,
          14.15,
          0.68,
          1.13,
          5.57,
          14,
          17.35,
          16.36,
          0.59,
          18.63,
          14.92,
          15.66,
          5.94,
          18.29,
          16.47,
          5.38
         ],
         "xaxis": "x",
         "y": [
          7.99,
          7.04,
          3.65,
          4.23,
          7.5,
          8.97,
          4.87,
          6.85,
          1.38,
          3.88,
          0.72,
          3.28,
          5.42,
          4.9,
          3.52,
          4.12,
          6.38,
          1.99,
          0.87,
          6.35,
          0.36,
          0.54,
          3.82,
          4.45,
          2.9,
          0.13,
          5.09,
          6.38,
          0.59,
          8.05,
          2.35,
          6.48,
          3.67,
          6.19,
          3.44,
          2.62,
          0.26,
          6.26,
          8.7,
          0.44,
          6.24,
          7.04,
          4.9,
          0.76,
          2.39,
          4.08,
          5.28,
          5.47,
          6.02,
          1.8,
          6.93
         ],
         "yaxis": "y"
        }
       ],
       "layout": {
        "height": 560,
        "legend": {
         "title": {
          "text": "class"
         },
         "tracegroupgap": 0
        },
        "margin": {
         "t": 60
        },
        "template": {
         "data": {
          "bar": [
           {
            "error_x": {
             "color": "#2a3f5f"
            },
            "error_y": {
             "color": "#2a3f5f"
            },
            "marker": {
             "line": {
              "color": "#E5ECF6",
              "width": 0.5
             },
             "pattern": {
              "fillmode": "overlay",
              "size": 10,
              "solidity": 0.2
             }
            },
            "type": "bar"
           }
          ],
          "barpolar": [
           {
            "marker": {
             "line": {
              "color": "#E5ECF6",
              "width": 0.5
             },
             "pattern": {
              "fillmode": "overlay",
              "size": 10,
              "solidity": 0.2
             }
            },
            "type": "barpolar"
           }
          ],
          "carpet": [
           {
            "aaxis": {
             "endlinecolor": "#2a3f5f",
             "gridcolor": "white",
             "linecolor": "white",
             "minorgridcolor": "white",
             "startlinecolor": "#2a3f5f"
            },
            "baxis": {
             "endlinecolor": "#2a3f5f",
             "gridcolor": "white",
             "linecolor": "white",
             "minorgridcolor": "white",
             "startlinecolor": "#2a3f5f"
            },
            "type": "carpet"
           }
          ],
          "choropleth": [
           {
            "colorbar": {
             "outlinewidth": 0,
             "ticks": ""
            },
            "type": "choropleth"
           }
          ],
          "contour": [
           {
            "colorbar": {
             "outlinewidth": 0,
             "ticks": ""
            },
            "colorscale": [
             [
              0,
              "#0d0887"
             ],
             [
              0.1111111111111111,
              "#46039f"
             ],
             [
              0.2222222222222222,
              "#7201a8"
             ],
             [
              0.3333333333333333,
              "#9c179e"
             ],
             [
              0.4444444444444444,
              "#bd3786"
             ],
             [
              0.5555555555555556,
              "#d8576b"
             ],
             [
              0.6666666666666666,
              "#ed7953"
             ],
             [
              0.7777777777777778,
              "#fb9f3a"
             ],
             [
              0.8888888888888888,
              "#fdca26"
             ],
             [
              1,
              "#f0f921"
             ]
            ],
            "type": "contour"
           }
          ],
          "contourcarpet": [
           {
            "colorbar": {
             "outlinewidth": 0,
             "ticks": ""
            },
            "type": "contourcarpet"
           }
          ],
          "heatmap": [
           {
            "colorbar": {
             "outlinewidth": 0,
             "ticks": ""
            },
            "colorscale": [
             [
              0,
              "#0d0887"
             ],
             [
              0.1111111111111111,
              "#46039f"
             ],
             [
              0.2222222222222222,
              "#7201a8"
             ],
             [
              0.3333333333333333,
              "#9c179e"
             ],
             [
              0.4444444444444444,
              "#bd3786"
             ],
             [
              0.5555555555555556,
              "#d8576b"
             ],
             [
              0.6666666666666666,
              "#ed7953"
             ],
             [
              0.7777777777777778,
              "#fb9f3a"
             ],
             [
              0.8888888888888888,
              "#fdca26"
             ],
             [
              1,
              "#f0f921"
             ]
            ],
            "type": "heatmap"
           }
          ],
          "heatmapgl": [
           {
            "colorbar": {
             "outlinewidth": 0,
             "ticks": ""
            },
            "colorscale": [
             [
              0,
              "#0d0887"
             ],
             [
              0.1111111111111111,
              "#46039f"
             ],
             [
              0.2222222222222222,
              "#7201a8"
             ],
             [
              0.3333333333333333,
              "#9c179e"
             ],
             [
              0.4444444444444444,
              "#bd3786"
             ],
             [
              0.5555555555555556,
              "#d8576b"
             ],
             [
              0.6666666666666666,
              "#ed7953"
             ],
             [
              0.7777777777777778,
              "#fb9f3a"
             ],
             [
              0.8888888888888888,
              "#fdca26"
             ],
             [
              1,
              "#f0f921"
             ]
            ],
            "type": "heatmapgl"
           }
          ],
          "histogram": [
           {
            "marker": {
             "pattern": {
              "fillmode": "overlay",
              "size": 10,
              "solidity": 0.2
             }
            },
            "type": "histogram"
           }
          ],
          "histogram2d": [
           {
            "colorbar": {
             "outlinewidth": 0,
             "ticks": ""
            },
            "colorscale": [
             [
              0,
              "#0d0887"
             ],
             [
              0.1111111111111111,
              "#46039f"
             ],
             [
              0.2222222222222222,
              "#7201a8"
             ],
             [
              0.3333333333333333,
              "#9c179e"
             ],
             [
              0.4444444444444444,
              "#bd3786"
             ],
             [
              0.5555555555555556,
              "#d8576b"
             ],
             [
              0.6666666666666666,
              "#ed7953"
             ],
             [
              0.7777777777777778,
              "#fb9f3a"
             ],
             [
              0.8888888888888888,
              "#fdca26"
             ],
             [
              1,
              "#f0f921"
             ]
            ],
            "type": "histogram2d"
           }
          ],
          "histogram2dcontour": [
           {
            "colorbar": {
             "outlinewidth": 0,
             "ticks": ""
            },
            "colorscale": [
             [
              0,
              "#0d0887"
             ],
             [
              0.1111111111111111,
              "#46039f"
             ],
             [
              0.2222222222222222,
              "#7201a8"
             ],
             [
              0.3333333333333333,
              "#9c179e"
             ],
             [
              0.4444444444444444,
              "#bd3786"
             ],
             [
              0.5555555555555556,
              "#d8576b"
             ],
             [
              0.6666666666666666,
              "#ed7953"
             ],
             [
              0.7777777777777778,
              "#fb9f3a"
             ],
             [
              0.8888888888888888,
              "#fdca26"
             ],
             [
              1,
              "#f0f921"
             ]
            ],
            "type": "histogram2dcontour"
           }
          ],
          "mesh3d": [
           {
            "colorbar": {
             "outlinewidth": 0,
             "ticks": ""
            },
            "type": "mesh3d"
           }
          ],
          "parcoords": [
           {
            "line": {
             "colorbar": {
              "outlinewidth": 0,
              "ticks": ""
             }
            },
            "type": "parcoords"
           }
          ],
          "pie": [
           {
            "automargin": true,
            "type": "pie"
           }
          ],
          "scatter": [
           {
            "fillpattern": {
             "fillmode": "overlay",
             "size": 10,
             "solidity": 0.2
            },
            "type": "scatter"
           }
          ],
          "scatter3d": [
           {
            "line": {
             "colorbar": {
              "outlinewidth": 0,
              "ticks": ""
             }
            },
            "marker": {
             "colorbar": {
              "outlinewidth": 0,
              "ticks": ""
             }
            },
            "type": "scatter3d"
           }
          ],
          "scattercarpet": [
           {
            "marker": {
             "colorbar": {
              "outlinewidth": 0,
              "ticks": ""
             }
            },
            "type": "scattercarpet"
           }
          ],
          "scattergeo": [
           {
            "marker": {
             "colorbar": {
              "outlinewidth": 0,
              "ticks": ""
             }
            },
            "type": "scattergeo"
           }
          ],
          "scattergl": [
           {
            "marker": {
             "colorbar": {
              "outlinewidth": 0,
              "ticks": ""
             }
            },
            "type": "scattergl"
           }
          ],
          "scattermapbox": [
           {
            "marker": {
             "colorbar": {
              "outlinewidth": 0,
              "ticks": ""
             }
            },
            "type": "scattermapbox"
           }
          ],
          "scatterpolar": [
           {
            "marker": {
             "colorbar": {
              "outlinewidth": 0,
              "ticks": ""
             }
            },
            "type": "scatterpolar"
           }
          ],
          "scatterpolargl": [
           {
            "marker": {
             "colorbar": {
              "outlinewidth": 0,
              "ticks": ""
             }
            },
            "type": "scatterpolargl"
           }
          ],
          "scatterternary": [
           {
            "marker": {
             "colorbar": {
              "outlinewidth": 0,
              "ticks": ""
             }
            },
            "type": "scatterternary"
           }
          ],
          "surface": [
           {
            "colorbar": {
             "outlinewidth": 0,
             "ticks": ""
            },
            "colorscale": [
             [
              0,
              "#0d0887"
             ],
             [
              0.1111111111111111,
              "#46039f"
             ],
             [
              0.2222222222222222,
              "#7201a8"
             ],
             [
              0.3333333333333333,
              "#9c179e"
             ],
             [
              0.4444444444444444,
              "#bd3786"
             ],
             [
              0.5555555555555556,
              "#d8576b"
             ],
             [
              0.6666666666666666,
              "#ed7953"
             ],
             [
              0.7777777777777778,
              "#fb9f3a"
             ],
             [
              0.8888888888888888,
              "#fdca26"
             ],
             [
              1,
              "#f0f921"
             ]
            ],
            "type": "surface"
           }
          ],
          "table": [
           {
            "cells": {
             "fill": {
              "color": "#EBF0F8"
             },
             "line": {
              "color": "white"
             }
            },
            "header": {
             "fill": {
              "color": "#C8D4E3"
             },
             "line": {
              "color": "white"
             }
            },
            "type": "table"
           }
          ]
         },
         "layout": {
          "annotationdefaults": {
           "arrowcolor": "#2a3f5f",
           "arrowhead": 0,
           "arrowwidth": 1
          },
          "autotypenumbers": "strict",
          "coloraxis": {
           "colorbar": {
            "outlinewidth": 0,
            "ticks": ""
           }
          },
          "colorscale": {
           "diverging": [
            [
             0,
             "#8e0152"
            ],
            [
             0.1,
             "#c51b7d"
            ],
            [
             0.2,
             "#de77ae"
            ],
            [
             0.3,
             "#f1b6da"
            ],
            [
             0.4,
             "#fde0ef"
            ],
            [
             0.5,
             "#f7f7f7"
            ],
            [
             0.6,
             "#e6f5d0"
            ],
            [
             0.7,
             "#b8e186"
            ],
            [
             0.8,
             "#7fbc41"
            ],
            [
             0.9,
             "#4d9221"
            ],
            [
             1,
             "#276419"
            ]
           ],
           "sequential": [
            [
             0,
             "#0d0887"
            ],
            [
             0.1111111111111111,
             "#46039f"
            ],
            [
             0.2222222222222222,
             "#7201a8"
            ],
            [
             0.3333333333333333,
             "#9c179e"
            ],
            [
             0.4444444444444444,
             "#bd3786"
            ],
            [
             0.5555555555555556,
             "#d8576b"
            ],
            [
             0.6666666666666666,
             "#ed7953"
            ],
            [
             0.7777777777777778,
             "#fb9f3a"
            ],
            [
             0.8888888888888888,
             "#fdca26"
            ],
            [
             1,
             "#f0f921"
            ]
           ],
           "sequentialminus": [
            [
             0,
             "#0d0887"
            ],
            [
             0.1111111111111111,
             "#46039f"
            ],
            [
             0.2222222222222222,
             "#7201a8"
            ],
            [
             0.3333333333333333,
             "#9c179e"
            ],
            [
             0.4444444444444444,
             "#bd3786"
            ],
            [
             0.5555555555555556,
             "#d8576b"
            ],
            [
             0.6666666666666666,
             "#ed7953"
            ],
            [
             0.7777777777777778,
             "#fb9f3a"
            ],
            [
             0.8888888888888888,
             "#fdca26"
            ],
            [
             1,
             "#f0f921"
            ]
           ]
          },
          "colorway": [
           "#636efa",
           "#EF553B",
           "#00cc96",
           "#ab63fa",
           "#FFA15A",
           "#19d3f3",
           "#FF6692",
           "#B6E880",
           "#FF97FF",
           "#FECB52"
          ],
          "font": {
           "color": "#2a3f5f"
          },
          "geo": {
           "bgcolor": "white",
           "lakecolor": "white",
           "landcolor": "#E5ECF6",
           "showlakes": true,
           "showland": true,
           "subunitcolor": "white"
          },
          "hoverlabel": {
           "align": "left"
          },
          "hovermode": "closest",
          "mapbox": {
           "style": "light"
          },
          "paper_bgcolor": "white",
          "plot_bgcolor": "#E5ECF6",
          "polar": {
           "angularaxis": {
            "gridcolor": "white",
            "linecolor": "white",
            "ticks": ""
           },
           "bgcolor": "#E5ECF6",
           "radialaxis": {
            "gridcolor": "white",
            "linecolor": "white",
            "ticks": ""
           }
          },
          "scene": {
           "xaxis": {
            "backgroundcolor": "#E5ECF6",
            "gridcolor": "white",
            "gridwidth": 2,
            "linecolor": "white",
            "showbackground": true,
            "ticks": "",
            "zerolinecolor": "white"
           },
           "yaxis": {
            "backgroundcolor": "#E5ECF6",
            "gridcolor": "white",
            "gridwidth": 2,
            "linecolor": "white",
            "showbackground": true,
            "ticks": "",
            "zerolinecolor": "white"
           },
           "zaxis": {
            "backgroundcolor": "#E5ECF6",
            "gridcolor": "white",
            "gridwidth": 2,
            "linecolor": "white",
            "showbackground": true,
            "ticks": "",
            "zerolinecolor": "white"
           }
          },
          "shapedefaults": {
           "line": {
            "color": "#2a3f5f"
           }
          },
          "ternary": {
           "aaxis": {
            "gridcolor": "white",
            "linecolor": "white",
            "ticks": ""
           },
           "baxis": {
            "gridcolor": "white",
            "linecolor": "white",
            "ticks": ""
           },
           "bgcolor": "#E5ECF6",
           "caxis": {
            "gridcolor": "white",
            "linecolor": "white",
            "ticks": ""
           }
          },
          "title": {
           "x": 0.05
          },
          "xaxis": {
           "automargin": true,
           "gridcolor": "white",
           "linecolor": "white",
           "ticks": "",
           "title": {
            "standoff": 15
           },
           "zerolinecolor": "white",
           "zerolinewidth": 2
          },
          "yaxis": {
           "automargin": true,
           "gridcolor": "white",
           "linecolor": "white",
           "ticks": "",
           "title": {
            "standoff": 15
           },
           "zerolinecolor": "white",
           "zerolinewidth": 2
          }
         }
        },
        "width": 560,
        "xaxis": {
         "anchor": "y",
         "domain": [
          0,
          1
         ],
         "title": {
          "text": "a"
         }
        },
        "yaxis": {
         "anchor": "x",
         "domain": [
          0,
          1
         ],
         "title": {
          "text": "b"
         }
        }
       }
      },
      "text/html": [
       "<div>                            <div id=\"59971358-1856-40c3-915d-b937a6d44e18\" class=\"plotly-graph-div\" style=\"height:560px; width:560px;\"></div>            <script type=\"text/javascript\">                require([\"plotly\"], function(Plotly) {                    window.PLOTLYENV=window.PLOTLYENV || {};                                    if (document.getElementById(\"59971358-1856-40c3-915d-b937a6d44e18\")) {                    Plotly.newPlot(                        \"59971358-1856-40c3-915d-b937a6d44e18\",                        [{\"hovertemplate\":\"class=0<br>a=%{x}<br>b=%{y}<extra></extra>\",\"legendgroup\":\"0\",\"marker\":{\"color\":\"#636efa\",\"symbol\":\"circle\"},\"mode\":\"markers\",\"name\":\"0\",\"orientation\":\"v\",\"showlegend\":true,\"x\":[10.14,7.25,7.17,9.76,4.35,7.4,12.92,4.54,3.15,12.55,7.74,13.97,7.12,10.8,4.05,9.14,3.6,9.44,11.77,13.71,7.39,3.26,13.09,10.67,4.89,4.9,10.97,7.13,4.02,10.71,4.0,9.98,10.52,10.31,9.21,12.16,8.4,10.6,8.6,11.46,4.63,4.37,4.7,9.73,8.52,3.26,3.05,12.83,12.44],\"xaxis\":\"x\",\"y\":[1.8,4.59,3.5,2.84,6.96,1.39,7.5,8.13,7.01,3.09,7.86,2.79,0.49,6.06,3.7,1.75,6.51,6.46,2.92,7.41,8.88,8.02,0.52,4.77,8.46,3.99,4.42,3.87,3.6,2.74,4.99,5.78,0.45,3.81,2.73,2.75,2.98,5.57,6.33,6.68,4.66,2.15,7.42,7.75,6.09,7.36,2.68,0.87,4.67],\"yaxis\":\"y\",\"type\":\"scatter\"},{\"hovertemplate\":\"class=1<br>a=%{x}<br>b=%{y}<extra></extra>\",\"legendgroup\":\"1\",\"marker\":{\"color\":\"#EF553B\",\"symbol\":\"circle\"},\"mode\":\"markers\",\"name\":\"1\",\"orientation\":\"v\",\"showlegend\":true,\"x\":[2.72,17.77,0.14,2.81,1.69,5.47,14.24,18.75,5.46,18.84,1.88,16.07,19.38,1.76,16.24,1.65,18.96,1.09,16.08,2.98,14.03,5.41,17.52,0.95,19.21,15.82,14.66,18.24,1.59,16.94,18.78,15.42,15.89,17.53,14.96,0.4,14.15,0.68,1.13,5.57,14.0,17.35,16.36,0.59,18.63,14.92,15.66,5.94,18.29,16.47,5.38],\"xaxis\":\"x\",\"y\":[7.99,7.04,3.65,4.23,7.5,8.97,4.87,6.85,1.38,3.88,0.72,3.28,5.42,4.9,3.52,4.12,6.38,1.99,0.87,6.35,0.36,0.54,3.82,4.45,2.9,0.13,5.09,6.38,0.59,8.05,2.35,6.48,3.67,6.19,3.44,2.62,0.26,6.26,8.7,0.44,6.24,7.04,4.9,0.76,2.39,4.08,5.28,5.47,6.02,1.8,6.93],\"yaxis\":\"y\",\"type\":\"scatter\"}],                        {\"template\":{\"data\":{\"histogram2dcontour\":[{\"type\":\"histogram2dcontour\",\"colorbar\":{\"outlinewidth\":0,\"ticks\":\"\"},\"colorscale\":[[0.0,\"#0d0887\"],[0.1111111111111111,\"#46039f\"],[0.2222222222222222,\"#7201a8\"],[0.3333333333333333,\"#9c179e\"],[0.4444444444444444,\"#bd3786\"],[0.5555555555555556,\"#d8576b\"],[0.6666666666666666,\"#ed7953\"],[0.7777777777777778,\"#fb9f3a\"],[0.8888888888888888,\"#fdca26\"],[1.0,\"#f0f921\"]]}],\"choropleth\":[{\"type\":\"choropleth\",\"colorbar\":{\"outlinewidth\":0,\"ticks\":\"\"}}],\"histogram2d\":[{\"type\":\"histogram2d\",\"colorbar\":{\"outlinewidth\":0,\"ticks\":\"\"},\"colorscale\":[[0.0,\"#0d0887\"],[0.1111111111111111,\"#46039f\"],[0.2222222222222222,\"#7201a8\"],[0.3333333333333333,\"#9c179e\"],[0.4444444444444444,\"#bd3786\"],[0.5555555555555556,\"#d8576b\"],[0.6666666666666666,\"#ed7953\"],[0.7777777777777778,\"#fb9f3a\"],[0.8888888888888888,\"#fdca26\"],[1.0,\"#f0f921\"]]}],\"heatmap\":[{\"type\":\"heatmap\",\"colorbar\":{\"outlinewidth\":0,\"ticks\":\"\"},\"colorscale\":[[0.0,\"#0d0887\"],[0.1111111111111111,\"#46039f\"],[0.2222222222222222,\"#7201a8\"],[0.3333333333333333,\"#9c179e\"],[0.4444444444444444,\"#bd3786\"],[0.5555555555555556,\"#d8576b\"],[0.6666666666666666,\"#ed7953\"],[0.7777777777777778,\"#fb9f3a\"],[0.8888888888888888,\"#fdca26\"],[1.0,\"#f0f921\"]]}],\"heatmapgl\":[{\"type\":\"heatmapgl\",\"colorbar\":{\"outlinewidth\":0,\"ticks\":\"\"},\"colorscale\":[[0.0,\"#0d0887\"],[0.1111111111111111,\"#46039f\"],[0.2222222222222222,\"#7201a8\"],[0.3333333333333333,\"#9c179e\"],[0.4444444444444444,\"#bd3786\"],[0.5555555555555556,\"#d8576b\"],[0.6666666666666666,\"#ed7953\"],[0.7777777777777778,\"#fb9f3a\"],[0.8888888888888888,\"#fdca26\"],[1.0,\"#f0f921\"]]}],\"contourcarpet\":[{\"type\":\"contourcarpet\",\"colorbar\":{\"outlinewidth\":0,\"ticks\":\"\"}}],\"contour\":[{\"type\":\"contour\",\"colorbar\":{\"outlinewidth\":0,\"ticks\":\"\"},\"colorscale\":[[0.0,\"#0d0887\"],[0.1111111111111111,\"#46039f\"],[0.2222222222222222,\"#7201a8\"],[0.3333333333333333,\"#9c179e\"],[0.4444444444444444,\"#bd3786\"],[0.5555555555555556,\"#d8576b\"],[0.6666666666666666,\"#ed7953\"],[0.7777777777777778,\"#fb9f3a\"],[0.8888888888888888,\"#fdca26\"],[1.0,\"#f0f921\"]]}],\"surface\":[{\"type\":\"surface\",\"colorbar\":{\"outlinewidth\":0,\"ticks\":\"\"},\"colorscale\":[[0.0,\"#0d0887\"],[0.1111111111111111,\"#46039f\"],[0.2222222222222222,\"#7201a8\"],[0.3333333333333333,\"#9c179e\"],[0.4444444444444444,\"#bd3786\"],[0.5555555555555556,\"#d8576b\"],[0.6666666666666666,\"#ed7953\"],[0.7777777777777778,\"#fb9f3a\"],[0.8888888888888888,\"#fdca26\"],[1.0,\"#f0f921\"]]}],\"mesh3d\":[{\"type\":\"mesh3d\",\"colorbar\":{\"outlinewidth\":0,\"ticks\":\"\"}}],\"scatter\":[{\"fillpattern\":{\"fillmode\":\"overlay\",\"size\":10,\"solidity\":0.2},\"type\":\"scatter\"}],\"parcoords\":[{\"type\":\"parcoords\",\"line\":{\"colorbar\":{\"outlinewidth\":0,\"ticks\":\"\"}}}],\"scatterpolargl\":[{\"type\":\"scatterpolargl\",\"marker\":{\"colorbar\":{\"outlinewidth\":0,\"ticks\":\"\"}}}],\"bar\":[{\"error_x\":{\"color\":\"#2a3f5f\"},\"error_y\":{\"color\":\"#2a3f5f\"},\"marker\":{\"line\":{\"color\":\"#E5ECF6\",\"width\":0.5},\"pattern\":{\"fillmode\":\"overlay\",\"size\":10,\"solidity\":0.2}},\"type\":\"bar\"}],\"scattergeo\":[{\"type\":\"scattergeo\",\"marker\":{\"colorbar\":{\"outlinewidth\":0,\"ticks\":\"\"}}}],\"scatterpolar\":[{\"type\":\"scatterpolar\",\"marker\":{\"colorbar\":{\"outlinewidth\":0,\"ticks\":\"\"}}}],\"histogram\":[{\"marker\":{\"pattern\":{\"fillmode\":\"overlay\",\"size\":10,\"solidity\":0.2}},\"type\":\"histogram\"}],\"scattergl\":[{\"type\":\"scattergl\",\"marker\":{\"colorbar\":{\"outlinewidth\":0,\"ticks\":\"\"}}}],\"scatter3d\":[{\"type\":\"scatter3d\",\"line\":{\"colorbar\":{\"outlinewidth\":0,\"ticks\":\"\"}},\"marker\":{\"colorbar\":{\"outlinewidth\":0,\"ticks\":\"\"}}}],\"scattermapbox\":[{\"type\":\"scattermapbox\",\"marker\":{\"colorbar\":{\"outlinewidth\":0,\"ticks\":\"\"}}}],\"scatterternary\":[{\"type\":\"scatterternary\",\"marker\":{\"colorbar\":{\"outlinewidth\":0,\"ticks\":\"\"}}}],\"scattercarpet\":[{\"type\":\"scattercarpet\",\"marker\":{\"colorbar\":{\"outlinewidth\":0,\"ticks\":\"\"}}}],\"carpet\":[{\"aaxis\":{\"endlinecolor\":\"#2a3f5f\",\"gridcolor\":\"white\",\"linecolor\":\"white\",\"minorgridcolor\":\"white\",\"startlinecolor\":\"#2a3f5f\"},\"baxis\":{\"endlinecolor\":\"#2a3f5f\",\"gridcolor\":\"white\",\"linecolor\":\"white\",\"minorgridcolor\":\"white\",\"startlinecolor\":\"#2a3f5f\"},\"type\":\"carpet\"}],\"table\":[{\"cells\":{\"fill\":{\"color\":\"#EBF0F8\"},\"line\":{\"color\":\"white\"}},\"header\":{\"fill\":{\"color\":\"#C8D4E3\"},\"line\":{\"color\":\"white\"}},\"type\":\"table\"}],\"barpolar\":[{\"marker\":{\"line\":{\"color\":\"#E5ECF6\",\"width\":0.5},\"pattern\":{\"fillmode\":\"overlay\",\"size\":10,\"solidity\":0.2}},\"type\":\"barpolar\"}],\"pie\":[{\"automargin\":true,\"type\":\"pie\"}]},\"layout\":{\"autotypenumbers\":\"strict\",\"colorway\":[\"#636efa\",\"#EF553B\",\"#00cc96\",\"#ab63fa\",\"#FFA15A\",\"#19d3f3\",\"#FF6692\",\"#B6E880\",\"#FF97FF\",\"#FECB52\"],\"font\":{\"color\":\"#2a3f5f\"},\"hovermode\":\"closest\",\"hoverlabel\":{\"align\":\"left\"},\"paper_bgcolor\":\"white\",\"plot_bgcolor\":\"#E5ECF6\",\"polar\":{\"bgcolor\":\"#E5ECF6\",\"angularaxis\":{\"gridcolor\":\"white\",\"linecolor\":\"white\",\"ticks\":\"\"},\"radialaxis\":{\"gridcolor\":\"white\",\"linecolor\":\"white\",\"ticks\":\"\"}},\"ternary\":{\"bgcolor\":\"#E5ECF6\",\"aaxis\":{\"gridcolor\":\"white\",\"linecolor\":\"white\",\"ticks\":\"\"},\"baxis\":{\"gridcolor\":\"white\",\"linecolor\":\"white\",\"ticks\":\"\"},\"caxis\":{\"gridcolor\":\"white\",\"linecolor\":\"white\",\"ticks\":\"\"}},\"coloraxis\":{\"colorbar\":{\"outlinewidth\":0,\"ticks\":\"\"}},\"colorscale\":{\"sequential\":[[0.0,\"#0d0887\"],[0.1111111111111111,\"#46039f\"],[0.2222222222222222,\"#7201a8\"],[0.3333333333333333,\"#9c179e\"],[0.4444444444444444,\"#bd3786\"],[0.5555555555555556,\"#d8576b\"],[0.6666666666666666,\"#ed7953\"],[0.7777777777777778,\"#fb9f3a\"],[0.8888888888888888,\"#fdca26\"],[1.0,\"#f0f921\"]],\"sequentialminus\":[[0.0,\"#0d0887\"],[0.1111111111111111,\"#46039f\"],[0.2222222222222222,\"#7201a8\"],[0.3333333333333333,\"#9c179e\"],[0.4444444444444444,\"#bd3786\"],[0.5555555555555556,\"#d8576b\"],[0.6666666666666666,\"#ed7953\"],[0.7777777777777778,\"#fb9f3a\"],[0.8888888888888888,\"#fdca26\"],[1.0,\"#f0f921\"]],\"diverging\":[[0,\"#8e0152\"],[0.1,\"#c51b7d\"],[0.2,\"#de77ae\"],[0.3,\"#f1b6da\"],[0.4,\"#fde0ef\"],[0.5,\"#f7f7f7\"],[0.6,\"#e6f5d0\"],[0.7,\"#b8e186\"],[0.8,\"#7fbc41\"],[0.9,\"#4d9221\"],[1,\"#276419\"]]},\"xaxis\":{\"gridcolor\":\"white\",\"linecolor\":\"white\",\"ticks\":\"\",\"title\":{\"standoff\":15},\"zerolinecolor\":\"white\",\"automargin\":true,\"zerolinewidth\":2},\"yaxis\":{\"gridcolor\":\"white\",\"linecolor\":\"white\",\"ticks\":\"\",\"title\":{\"standoff\":15},\"zerolinecolor\":\"white\",\"automargin\":true,\"zerolinewidth\":2},\"scene\":{\"xaxis\":{\"backgroundcolor\":\"#E5ECF6\",\"gridcolor\":\"white\",\"linecolor\":\"white\",\"showbackground\":true,\"ticks\":\"\",\"zerolinecolor\":\"white\",\"gridwidth\":2},\"yaxis\":{\"backgroundcolor\":\"#E5ECF6\",\"gridcolor\":\"white\",\"linecolor\":\"white\",\"showbackground\":true,\"ticks\":\"\",\"zerolinecolor\":\"white\",\"gridwidth\":2},\"zaxis\":{\"backgroundcolor\":\"#E5ECF6\",\"gridcolor\":\"white\",\"linecolor\":\"white\",\"showbackground\":true,\"ticks\":\"\",\"zerolinecolor\":\"white\",\"gridwidth\":2}},\"shapedefaults\":{\"line\":{\"color\":\"#2a3f5f\"}},\"annotationdefaults\":{\"arrowcolor\":\"#2a3f5f\",\"arrowhead\":0,\"arrowwidth\":1},\"geo\":{\"bgcolor\":\"white\",\"landcolor\":\"#E5ECF6\",\"subunitcolor\":\"white\",\"showland\":true,\"showlakes\":true,\"lakecolor\":\"white\"},\"title\":{\"x\":0.05},\"mapbox\":{\"style\":\"light\"}}},\"xaxis\":{\"anchor\":\"y\",\"domain\":[0.0,1.0],\"title\":{\"text\":\"a\"}},\"yaxis\":{\"anchor\":\"x\",\"domain\":[0.0,1.0],\"title\":{\"text\":\"b\"}},\"legend\":{\"title\":{\"text\":\"class\"},\"tracegroupgap\":0},\"margin\":{\"t\":60},\"height\":560,\"width\":560},                        {\"responsive\": true}                    ).then(function(){\n",
       "                            \n",
       "var gd = document.getElementById('59971358-1856-40c3-915d-b937a6d44e18');\n",
       "var x = new MutationObserver(function (mutations, observer) {{\n",
       "        var display = window.getComputedStyle(gd).display;\n",
       "        if (!display || display === 'none') {{\n",
       "            console.log([gd, 'removed!']);\n",
       "            Plotly.purge(gd);\n",
       "            observer.disconnect();\n",
       "        }}\n",
       "}});\n",
       "\n",
       "// Listen for the removal of the full notebook cells\n",
       "var notebookContainer = gd.closest('#notebook-container');\n",
       "if (notebookContainer) {{\n",
       "    x.observe(notebookContainer, {childList: true});\n",
       "}}\n",
       "\n",
       "// Listen for the clearing of the current output cell\n",
       "var outputEl = gd.closest('.output');\n",
       "if (outputEl) {{\n",
       "    x.observe(outputEl, {childList: true});\n",
       "}}\n",
       "\n",
       "                        })                };                });            </script>        </div>"
      ]
     },
     "metadata": {},
     "output_type": "display_data"
    }
   ],
   "source": [
    "fig = px.scatter(df, x='a',\n",
    "            y='b',\n",
    "            color='class',\n",
    "            height=560,\n",
    "            width=560,\n",
    "            )\n",
    "fig.show()"
   ]
  },
  {
   "cell_type": "code",
   "execution_count": 41,
   "metadata": {},
   "outputs": [
    {
     "name": "stdout",
     "output_type": "stream",
     "text": [
      "Rules original\n",
      "IF b = <8.51, inf) THEN class = {0} (p = 6.0, n = 0.0, P = 51.0, N = 49.0, weight = 0.5588235294117647, pvalue = 0.015107943241421364)\n",
      "IF a = <7.02, 14.04) THEN class = {0} (p = 41.0, n = 0.0, P = 51.0, N = 49.0, weight = 0.9019607843137255, pvalue = 6.351875249532286e-19)\n",
      "IF a = <2.38, 14.04) AND b = <2.05, inf) THEN class = {0} (p = 45.0, n = 8.0, P = 51.0, N = 49.0, weight = 0.6512491789168497, pvalue = 9.864764354530558e-14)\n",
      "IF a = <14.04, inf) THEN class = {1} (p = 32.0, n = 0.0, P = 49.0, N = 51.0, weight = 0.8265306122448979, pvalue = 4.5445470408846627e-14)\n",
      "IF a = <4.59, 8.10) AND b = (-inf, 2.35) THEN class = {1} (p = 5.0, n = 0.0, P = 49.0, N = 51.0, weight = 0.5510204081632653, pvalue = 0.025328022492970975)\n",
      "IF a = <4.81, 7.02) THEN class = {1} (p = 13.0, n = 0.0, P = 49.0, N = 51.0, weight = 0.6326530612244898, pvalue = 3.693062572531082e-05)\n",
      "\n",
      "\n",
      "Complex rules\n",
      "IF a = <7.02, 14.39) THEN class = {0} (p = 41.0, n = 0.0, P = 51.0, N = 49.0, weight = 0.9019607843137255, pvalue = 6.351875249532286e-19)\n",
      "IF a = <2.38, 5.01) THEN class = {0} (p = 10.0, n = 0.0, P = 51.0, N = 49.0, weight = 0.5980392156862745, pvalue = 0.0007381561780945723)\n",
      "IF a != <2.38, 14.39) THEN class = {1} (p = 36.0, n = 0.0, P = 49.0, N = 51.0, weight = 0.8673469387755102, pvalue = 1.3281214606488966e-16)\n",
      "IF a = <4.81, inf) AND a != <7.02, 14.39) THEN class = {1} (p = 45.0, n = 0.0, P = 49.0, N = 51.0, weight = 0.9591836734693877, pvalue = 3.448027197644249e-24)\n",
      "\n",
      "\n",
      "Complex rules + inners alternatives\n",
      "IF #(a = <2.38, 4.53) OR a = <2.38, 5.01) OR a = <2.38, 4.17) OR a = <2.38, 4.61) OR a = <7.02, 12.99)) THEN class = {0} (p = 51.0, n = 0.0, P = 51.0, N = 49.0, weight = 1.0, pvalue = 1.0109886081846746e-29)\n",
      "IF #(a != <0.50, 14.39) OR a != <1.11, 14.39) OR a != <2.38, 14.39)) THEN class = {1} (p = 36.0, n = 0.0, P = 49.0, N = 51.0, weight = 0.8673469387755102, pvalue = 1.3281214606488966e-16)\n",
      "IF #(a != <6.59, 14.39) OR a != <7.02, 14.39)) AND #(a = <4.81, 5.01)) THEN class = {1} (p = 46.0, n = 0.0, P = 49.0, N = 51.0, weight = 0.9693877551020409, pvalue = 2.5076561437412692e-25)\n"
     ]
    }
   ],
   "source": [
    "X = df.drop(['class'], axis=1)\n",
    "y = df['class']\n",
    "\n",
    "clf_simple.fit(X, y)\n",
    "\n",
    "print(\"Rules original\")\n",
    "for rule in clf_simple.model.rules:\n",
    "    print(rule, rule.stats)\n",
    "\n",
    "print(\"\\n\\nComplex rules\")\n",
    "clf_complex.fit(X, y)\n",
    "for rule in clf_complex.model.rules:\n",
    "    print(rule, rule.stats)\n",
    "\n",
    "print(\"\\n\\nComplex rules + inners alternatives\")\n",
    "clf_complex_with_inners.fit(X, y)\n",
    "for rule in clf_complex_with_inners.model.rules:\n",
    "    print(rule, rule.stats)"
   ]
  },
  {
   "attachments": {},
   "cell_type": "markdown",
   "metadata": {},
   "source": [
    "# Monk-1"
   ]
  },
  {
   "cell_type": "code",
   "execution_count": 43,
   "metadata": {},
   "outputs": [],
   "source": [
    "train = pd.read_parquet(\"./data/monk_1/train.parquet\")\n",
    "test = pd.read_parquet(\"./data/monk_1/train.parquet\")"
   ]
  },
  {
   "cell_type": "code",
   "execution_count": 44,
   "metadata": {},
   "outputs": [
    {
     "data": {
      "text/html": [
       "<div>\n",
       "<style scoped>\n",
       "    .dataframe tbody tr th:only-of-type {\n",
       "        vertical-align: middle;\n",
       "    }\n",
       "\n",
       "    .dataframe tbody tr th {\n",
       "        vertical-align: top;\n",
       "    }\n",
       "\n",
       "    .dataframe thead th {\n",
       "        text-align: right;\n",
       "    }\n",
       "</style>\n",
       "<table border=\"1\" class=\"dataframe\">\n",
       "  <thead>\n",
       "    <tr style=\"text-align: right;\">\n",
       "      <th></th>\n",
       "      <th>a1</th>\n",
       "      <th>a2</th>\n",
       "      <th>a3</th>\n",
       "      <th>a4</th>\n",
       "      <th>a5</th>\n",
       "      <th>a6</th>\n",
       "      <th>class</th>\n",
       "    </tr>\n",
       "  </thead>\n",
       "  <tbody>\n",
       "    <tr>\n",
       "      <th>0</th>\n",
       "      <td>1</td>\n",
       "      <td>1</td>\n",
       "      <td>1</td>\n",
       "      <td>1</td>\n",
       "      <td>3</td>\n",
       "      <td>1</td>\n",
       "      <td>True</td>\n",
       "    </tr>\n",
       "    <tr>\n",
       "      <th>1</th>\n",
       "      <td>1</td>\n",
       "      <td>1</td>\n",
       "      <td>1</td>\n",
       "      <td>1</td>\n",
       "      <td>3</td>\n",
       "      <td>2</td>\n",
       "      <td>True</td>\n",
       "    </tr>\n",
       "    <tr>\n",
       "      <th>2</th>\n",
       "      <td>1</td>\n",
       "      <td>1</td>\n",
       "      <td>1</td>\n",
       "      <td>3</td>\n",
       "      <td>2</td>\n",
       "      <td>1</td>\n",
       "      <td>True</td>\n",
       "    </tr>\n",
       "    <tr>\n",
       "      <th>3</th>\n",
       "      <td>1</td>\n",
       "      <td>1</td>\n",
       "      <td>1</td>\n",
       "      <td>3</td>\n",
       "      <td>3</td>\n",
       "      <td>2</td>\n",
       "      <td>True</td>\n",
       "    </tr>\n",
       "    <tr>\n",
       "      <th>4</th>\n",
       "      <td>1</td>\n",
       "      <td>1</td>\n",
       "      <td>2</td>\n",
       "      <td>1</td>\n",
       "      <td>2</td>\n",
       "      <td>1</td>\n",
       "      <td>True</td>\n",
       "    </tr>\n",
       "    <tr>\n",
       "      <th>...</th>\n",
       "      <td>...</td>\n",
       "      <td>...</td>\n",
       "      <td>...</td>\n",
       "      <td>...</td>\n",
       "      <td>...</td>\n",
       "      <td>...</td>\n",
       "      <td>...</td>\n",
       "    </tr>\n",
       "    <tr>\n",
       "      <th>119</th>\n",
       "      <td>3</td>\n",
       "      <td>3</td>\n",
       "      <td>2</td>\n",
       "      <td>1</td>\n",
       "      <td>4</td>\n",
       "      <td>2</td>\n",
       "      <td>True</td>\n",
       "    </tr>\n",
       "    <tr>\n",
       "      <th>120</th>\n",
       "      <td>3</td>\n",
       "      <td>3</td>\n",
       "      <td>2</td>\n",
       "      <td>3</td>\n",
       "      <td>1</td>\n",
       "      <td>2</td>\n",
       "      <td>True</td>\n",
       "    </tr>\n",
       "    <tr>\n",
       "      <th>121</th>\n",
       "      <td>3</td>\n",
       "      <td>3</td>\n",
       "      <td>2</td>\n",
       "      <td>3</td>\n",
       "      <td>2</td>\n",
       "      <td>2</td>\n",
       "      <td>True</td>\n",
       "    </tr>\n",
       "    <tr>\n",
       "      <th>122</th>\n",
       "      <td>3</td>\n",
       "      <td>3</td>\n",
       "      <td>2</td>\n",
       "      <td>3</td>\n",
       "      <td>3</td>\n",
       "      <td>2</td>\n",
       "      <td>True</td>\n",
       "    </tr>\n",
       "    <tr>\n",
       "      <th>123</th>\n",
       "      <td>3</td>\n",
       "      <td>3</td>\n",
       "      <td>2</td>\n",
       "      <td>3</td>\n",
       "      <td>4</td>\n",
       "      <td>2</td>\n",
       "      <td>True</td>\n",
       "    </tr>\n",
       "  </tbody>\n",
       "</table>\n",
       "<p>124 rows × 7 columns</p>\n",
       "</div>"
      ],
      "text/plain": [
       "    a1 a2 a3 a4 a5 a6 class\n",
       "0    1  1  1  1  3  1  True\n",
       "1    1  1  1  1  3  2  True\n",
       "2    1  1  1  3  2  1  True\n",
       "3    1  1  1  3  3  2  True\n",
       "4    1  1  2  1  2  1  True\n",
       "..  .. .. .. .. .. ..   ...\n",
       "119  3  3  2  1  4  2  True\n",
       "120  3  3  2  3  1  2  True\n",
       "121  3  3  2  3  2  2  True\n",
       "122  3  3  2  3  3  2  True\n",
       "123  3  3  2  3  4  2  True\n",
       "\n",
       "[124 rows x 7 columns]"
      ]
     },
     "execution_count": 44,
     "metadata": {},
     "output_type": "execute_result"
    }
   ],
   "source": [
    "train"
   ]
  },
  {
   "cell_type": "code",
   "execution_count": 45,
   "metadata": {},
   "outputs": [
    {
     "name": "stdout",
     "output_type": "stream",
     "text": [
      "Rules original\n",
      "IF a5 = {1} THEN class = {True} (p = 29.0, n = 0.0, P = 62.0, N = 62.0, weight = 0.7338709677419355, pvalue = 2.4856745128420078e-11)\n",
      "IF a1 = {3} AND a2 = {3} THEN class = {True} (p = 17.0, n = 0.0, P = 62.0, N = 62.0, weight = 0.6370967741935484, pvalue = 2.142364554238474e-06)\n",
      "IF a4 = {1} AND a6 = {1} THEN class = {True} (p = 15.0, n = 6.0, P = 62.0, N = 62.0, weight = 0.2661290322580645, pvalue = 0.02680801791894211)\n",
      "IF a4 = {1} THEN class = {True} (p = 26.0, n = 16.0, P = 62.0, N = 62.0, weight = 0.16897081413210444, pvalue = 0.043548750924814826)\n",
      "IF a3 = {1} AND a6 = {2} THEN class = {True} (p = 20.0, n = 14.0, P = 62.0, N = 62.0, weight = 0.11669829222011381, pvalue = 0.15710116246905934)\n",
      "IF a6 = {1} THEN class = {True} (p = 29.0, n = 27.0, P = 62.0, N = 62.0, weight = 0.026209677419354767, pvalue = 0.42844949591782744)\n",
      "IF a1 = {1} AND a2 = {3} AND a5 = {4} THEN class = {False} (p = 8.0, n = 0.0, P = 62.0, N = 62.0, weight = 0.564516129032258, pvalue = 0.003071215409809354)\n",
      "IF a1 = {1} AND a2 = {2} AND a5 = {4} THEN class = {False} (p = 5.0, n = 0.0, P = 62.0, N = 62.0, weight = 0.5403225806451613, pvalue = 0.028740845259692085)\n",
      "IF a1 = {1} AND a2 = {2} AND a3 = {2} THEN class = {False} (p = 7.0, n = 0.0, P = 62.0, N = 62.0, weight = 0.5564516129032258, pvalue = 0.006533312780867199)\n",
      "IF a1 = {1} AND a2 = {2} THEN class = {False} (p = 15.0, n = 2.0, P = 62.0, N = 62.0, weight = 0.47485768500948766, pvalue = 0.0005609110733838037)\n",
      "IF a1 = {1} AND a2 = {3} AND a5 = {2} THEN class = {False} (p = 6.0, n = 0.0, P = 62.0, N = 62.0, weight = 0.5483870967741935, pvalue = 0.013766623359684566)\n",
      "IF a1 = {2} AND a2 = {1} AND a5 = {4} THEN class = {False} (p = 6.0, n = 0.0, P = 62.0, N = 62.0, weight = 0.5483870967741935, pvalue = 0.013766623359684566)\n",
      "IF a2 = {1} AND a5 = {2} AND a6 = {2} THEN class = {False} (p = 8.0, n = 1.0, P = 62.0, N = 62.0, weight = 0.439068100358423, pvalue = 0.016203308886235498)\n",
      "IF a1 = {2} AND a5 = {3} AND a6 = {1} THEN class = {False} (p = 6.0, n = 1.0, P = 62.0, N = 62.0, weight = 0.391705069124424, pvalue = 0.05716648683258794)\n",
      "IF a3 = {2} AND a5 = {3} THEN class = {False} (p = 10.0, n = 4.0, P = 62.0, N = 62.0, weight = 0.2488479262672811, pvalue = 0.07706613361841333)\n",
      "\n",
      "\n",
      "Complex rules\n",
      "IF a1 = a2 THEN class = {True} (p = 41.0, n = 0.0, P = 62.0, N = 62.0, weight = 0.8306451612903225, pvalue = 1.6135829774090917e-17)\n",
      "IF a5 = {1} THEN class = {True} (p = 29.0, n = 0.0, P = 62.0, N = 62.0, weight = 0.7338709677419355, pvalue = 2.4856745128420078e-11)\n",
      "IF a1 != a2 AND a5 != {1} THEN class = {False} (p = 62.0, n = 0.0, P = 62.0, N = 62.0, weight = 1.0, pvalue = 6.575471549018231e-37)\n",
      "\n",
      "\n",
      "Complex rules + inners alternatives\n",
      "IF a1 = a2 THEN class = {True} (p = 41.0, n = 0.0, P = 62.0, N = 62.0, weight = 0.8306451612903225, pvalue = 1.6135829774090917e-17)\n",
      "IF a5 = {1} THEN class = {True} (p = 29.0, n = 0.0, P = 62.0, N = 62.0, weight = 0.7338709677419355, pvalue = 2.4856745128420078e-11)\n",
      "IF a1 != a2 AND a5 != {1} THEN class = {False} (p = 62.0, n = 0.0, P = 62.0, N = 62.0, weight = 1.0, pvalue = 6.575471549018231e-37)\n"
     ]
    }
   ],
   "source": [
    "X = train.drop(['class'], axis=1)\n",
    "y = train['class']\n",
    "\n",
    "clf_simple.fit(X, y)\n",
    "\n",
    "print(\"Rules original\")\n",
    "for rule in clf_simple.model.rules:\n",
    "    print(rule, rule.stats)\n",
    "\n",
    "print(\"\\n\\nComplex rules\")\n",
    "clf_complex.fit(X, y)\n",
    "for rule in clf_complex.model.rules:\n",
    "    print(rule, rule.stats)\n",
    "\n",
    "print(\"\\n\\nComplex rules + inners alternatives\")\n",
    "clf_complex_with_inners.fit(X, y)\n",
    "for rule in clf_complex_with_inners.model.rules:\n",
    "    print(rule, rule.stats)"
   ]
  },
  {
   "attachments": {},
   "cell_type": "markdown",
   "metadata": {},
   "source": [
    "The Monk's Problems: Problem 1\n",
    "Once upon a time, in July 1991, the monks of Corsendonk Priory were faced with a school held in their priory, namely the 2nd European Summer School on Machine Learning. After listening more than one week to a wide variety of learning algorithms, they felt rather confused: Which algorithm would be optimal? And which one to avoid? As a consequence of this dilemma, they created a simple task on which all learning algorithms ought to be compared: the three MONK's problems.\n",
    "\n",
    "The target concept associated with the 1st Monk's problem is the binary outcome of the logical formula:\n",
    "MONK-1: (a1 == a2) or (a5 == 1)\n",
    "\n",
    "In this dataset, the original train and test sets were merged to allow other sampling procedures. However, the original train-test splits can be found as one of the OpenML tasks."
   ]
  },
  {
   "attachments": {},
   "cell_type": "markdown",
   "metadata": {},
   "source": [
    "# Monk-2"
   ]
  },
  {
   "cell_type": "code",
   "execution_count": 46,
   "metadata": {},
   "outputs": [],
   "source": [
    "train = pd.read_parquet(\"./data/monk_2/train.parquet\")\n",
    "test = pd.read_parquet(\"./data/monk_2/train.parquet\")"
   ]
  },
  {
   "cell_type": "code",
   "execution_count": 47,
   "metadata": {},
   "outputs": [
    {
     "data": {
      "text/html": [
       "<div>\n",
       "<style scoped>\n",
       "    .dataframe tbody tr th:only-of-type {\n",
       "        vertical-align: middle;\n",
       "    }\n",
       "\n",
       "    .dataframe tbody tr th {\n",
       "        vertical-align: top;\n",
       "    }\n",
       "\n",
       "    .dataframe thead th {\n",
       "        text-align: right;\n",
       "    }\n",
       "</style>\n",
       "<table border=\"1\" class=\"dataframe\">\n",
       "  <thead>\n",
       "    <tr style=\"text-align: right;\">\n",
       "      <th></th>\n",
       "      <th>a1</th>\n",
       "      <th>a2</th>\n",
       "      <th>a3</th>\n",
       "      <th>a4</th>\n",
       "      <th>a5</th>\n",
       "      <th>a6</th>\n",
       "      <th>class</th>\n",
       "    </tr>\n",
       "  </thead>\n",
       "  <tbody>\n",
       "    <tr>\n",
       "      <th>0</th>\n",
       "      <td>1</td>\n",
       "      <td>1</td>\n",
       "      <td>1</td>\n",
       "      <td>1</td>\n",
       "      <td>2</td>\n",
       "      <td>2</td>\n",
       "      <td>False</td>\n",
       "    </tr>\n",
       "    <tr>\n",
       "      <th>1</th>\n",
       "      <td>1</td>\n",
       "      <td>1</td>\n",
       "      <td>1</td>\n",
       "      <td>1</td>\n",
       "      <td>4</td>\n",
       "      <td>1</td>\n",
       "      <td>False</td>\n",
       "    </tr>\n",
       "    <tr>\n",
       "      <th>2</th>\n",
       "      <td>1</td>\n",
       "      <td>1</td>\n",
       "      <td>1</td>\n",
       "      <td>2</td>\n",
       "      <td>1</td>\n",
       "      <td>1</td>\n",
       "      <td>False</td>\n",
       "    </tr>\n",
       "    <tr>\n",
       "      <th>3</th>\n",
       "      <td>1</td>\n",
       "      <td>1</td>\n",
       "      <td>1</td>\n",
       "      <td>2</td>\n",
       "      <td>1</td>\n",
       "      <td>2</td>\n",
       "      <td>False</td>\n",
       "    </tr>\n",
       "    <tr>\n",
       "      <th>4</th>\n",
       "      <td>1</td>\n",
       "      <td>1</td>\n",
       "      <td>1</td>\n",
       "      <td>2</td>\n",
       "      <td>2</td>\n",
       "      <td>1</td>\n",
       "      <td>False</td>\n",
       "    </tr>\n",
       "    <tr>\n",
       "      <th>...</th>\n",
       "      <td>...</td>\n",
       "      <td>...</td>\n",
       "      <td>...</td>\n",
       "      <td>...</td>\n",
       "      <td>...</td>\n",
       "      <td>...</td>\n",
       "      <td>...</td>\n",
       "    </tr>\n",
       "    <tr>\n",
       "      <th>164</th>\n",
       "      <td>3</td>\n",
       "      <td>3</td>\n",
       "      <td>2</td>\n",
       "      <td>2</td>\n",
       "      <td>3</td>\n",
       "      <td>1</td>\n",
       "      <td>False</td>\n",
       "    </tr>\n",
       "    <tr>\n",
       "      <th>165</th>\n",
       "      <td>3</td>\n",
       "      <td>3</td>\n",
       "      <td>2</td>\n",
       "      <td>2</td>\n",
       "      <td>3</td>\n",
       "      <td>2</td>\n",
       "      <td>False</td>\n",
       "    </tr>\n",
       "    <tr>\n",
       "      <th>166</th>\n",
       "      <td>3</td>\n",
       "      <td>3</td>\n",
       "      <td>2</td>\n",
       "      <td>3</td>\n",
       "      <td>1</td>\n",
       "      <td>1</td>\n",
       "      <td>True</td>\n",
       "    </tr>\n",
       "    <tr>\n",
       "      <th>167</th>\n",
       "      <td>3</td>\n",
       "      <td>3</td>\n",
       "      <td>2</td>\n",
       "      <td>3</td>\n",
       "      <td>2</td>\n",
       "      <td>1</td>\n",
       "      <td>False</td>\n",
       "    </tr>\n",
       "    <tr>\n",
       "      <th>168</th>\n",
       "      <td>3</td>\n",
       "      <td>3</td>\n",
       "      <td>2</td>\n",
       "      <td>3</td>\n",
       "      <td>4</td>\n",
       "      <td>2</td>\n",
       "      <td>False</td>\n",
       "    </tr>\n",
       "  </tbody>\n",
       "</table>\n",
       "<p>169 rows × 7 columns</p>\n",
       "</div>"
      ],
      "text/plain": [
       "    a1 a2 a3 a4 a5 a6  class\n",
       "0    1  1  1  1  2  2  False\n",
       "1    1  1  1  1  4  1  False\n",
       "2    1  1  1  2  1  1  False\n",
       "3    1  1  1  2  1  2  False\n",
       "4    1  1  1  2  2  1  False\n",
       "..  .. .. .. .. .. ..    ...\n",
       "164  3  3  2  2  3  1  False\n",
       "165  3  3  2  2  3  2  False\n",
       "166  3  3  2  3  1  1   True\n",
       "167  3  3  2  3  2  1  False\n",
       "168  3  3  2  3  4  2  False\n",
       "\n",
       "[169 rows x 7 columns]"
      ]
     },
     "execution_count": 47,
     "metadata": {},
     "output_type": "execute_result"
    }
   ],
   "source": [
    "train"
   ]
  },
  {
   "cell_type": "code",
   "execution_count": 48,
   "metadata": {},
   "outputs": [
    {
     "name": "stdout",
     "output_type": "stream",
     "text": [
      "Rules original\n",
      "IF a4 = {1} AND a5 = {1} AND a6 = {1} THEN class = {False} (p = 9.0, n = 0.0, P = 105.0, N = 64.0, weight = 0.5428571428571428, pvalue = 0.012043080252488826)\n",
      "IF a4 = {1} AND a5 = {1} THEN class = {False} (p = 14.0, n = 1.0, P = 105.0, N = 64.0, weight = 0.4669097222222221, pvalue = 0.0060842019563005865)\n",
      "IF a1 = {1} AND a3 = {1} AND a4 = {1} THEN class = {False} (p = 7.0, n = 0.0, P = 105.0, N = 64.0, weight = 0.5333333333333333, pvalue = 0.03304309058967097)\n",
      "IF a3 = {1} AND a4 = {1} AND a6 = {1} THEN class = {False} (p = 11.0, n = 0.0, P = 105.0, N = 64.0, weight = 0.5523809523809524, pvalue = 0.004317330656552595)\n",
      "IF a4 = {1} AND a6 = {1} THEN class = {False} (p = 24.0, n = 4.0, P = 105.0, N = 64.0, weight = 0.38255739795918375, pvalue = 0.0032296489767082346)\n",
      "IF a2 = {2} AND a3 = {2} AND a4 = {1} AND a6 = {2} THEN class = {False} (p = 5.0, n = 0.0, P = 105.0, N = 64.0, weight = 0.5238095238095238, pvalue = 0.08922301996394814)\n",
      "IF a2 = {1} AND a5 = {4} AND a6 = {1} THEN class = {False} (p = 9.0, n = 0.0, P = 105.0, N = 64.0, weight = 0.5428571428571428, pvalue = 0.012043080252488826)\n",
      "IF a2 = {3} AND a5 = {4} AND a6 = {2} THEN class = {False} (p = 5.0, n = 1.0, P = 105.0, N = 64.0, weight = 0.29327876984126994, pvalue = 0.2633167174545783)\n",
      "IF a3 = {2} AND a4 = {3} AND a5 = {4} AND a6 = {2} THEN class = {False} (p = 7.0, n = 0.0, P = 105.0, N = 64.0, weight = 0.5333333333333333, pvalue = 0.03304309058967097)\n",
      "IF a2 = {1} AND a3 = {1} AND a6 = {1} THEN class = {False} (p = 13.0, n = 0.0, P = 105.0, N = 64.0, weight = 0.5619047619047619, pvalue = 0.0015214909537846866)\n",
      "IF a1 = {1} AND a3 = {1} AND a6 = {1} THEN class = {False} (p = 16.0, n = 0.0, P = 105.0, N = 64.0, weight = 0.5761904761904761, pvalue = 0.0003078676710004183)\n",
      "IF a5 = {1} AND a6 = {1} THEN class = {False} (p = 17.0, n = 7.0, P = 105.0, N = 64.0, weight = 0.1335131448412698, pvalue = 0.2375797799196613)\n",
      "IF a6 = {1} THEN class = {False} (p = 56.0, n = 28.0, P = 105.0, N = 64.0, weight = 0.09184027777777783, pvalue = 0.1468372547999042)\n",
      "IF a3 = {1} AND a5 = {1} THEN class = {False} (p = 19.0, n = 2.0, P = 105.0, N = 64.0, weight = 0.44197845804988656, pvalue = 0.0025915846665164445)\n",
      "IF a2 = {1} THEN class = {False} (p = 36.0, n = 19.0, P = 105.0, N = 64.0, weight = 0.05894074675324682, pvalue = 0.3280162888472601)\n",
      "IF a3 = {2} AND a5 = {3} AND a6 = {2} THEN class = {False} (p = 10.0, n = 2.0, P = 105.0, N = 64.0, weight = 0.30660962301587313, pvalue = 0.10009591626526415)\n",
      "IF a2 = {2} AND a3 = {1} AND a5 = {2} THEN class = {True} (p = 5.0, n = 0.0, P = 64.0, N = 105.0, weight = 0.5390625, pvalue = 0.007045126711262497)\n",
      "IF a3 = {1} AND a5 = {2} AND a6 = {2} THEN class = {True} (p = 9.0, n = 3.0, P = 64.0, N = 105.0, weight = 0.34082961309523807, pvalue = 0.007990203972144639)\n",
      "IF a2 = {1} AND a3 = {2} AND a5 = {2} THEN class = {True} (p = 6.0, n = 2.0, P = 64.0, N = 105.0, weight = 0.3268229166666667, pvalue = 0.034341376272907044)\n",
      "IF a1 = {2} AND a3 = {1} AND a4 = {3} THEN class = {True} (p = 7.0, n = 3.0, P = 64.0, N = 105.0, weight = 0.28685267857142854, pvalue = 0.035984213080608875)\n",
      "IF a3 = {1} AND a4 = {3} THEN class = {True} (p = 16.0, n = 14.0, P = 64.0, N = 105.0, weight = 0.1555555555555556, pvalue = 0.04421057790798895)\n",
      "IF a3 = {2} AND a4 = {3} AND a6 = {1} THEN class = {True} (p = 7.0, n = 5.0, P = 64.0, N = 105.0, weight = 0.18269469246031741, pvalue = 0.11478194532943672)\n",
      "IF a1 = {3} AND a3 = {1} AND a6 = {2} THEN class = {True} (p = 9.0, n = 5.0, P = 64.0, N = 105.0, weight = 0.2424798044217687, pvalue = 0.034641931615732834)\n",
      "IF a2 = {1} AND a6 = {2} THEN class = {True} (p = 16.0, n = 14.0, P = 64.0, N = 105.0, weight = 0.1555555555555556, pvalue = 0.04421057790798895)\n",
      "IF a1 = {1} AND a6 = {2} THEN class = {True} (p = 14.0, n = 14.0, P = 64.0, N = 105.0, weight = 0.11897321428571428, pvalue = 0.1091489488957766)\n",
      "IF a2 = {2} AND a4 = {2} AND a6 = {1} THEN class = {True} (p = 6.0, n = 5.0, P = 64.0, N = 105.0, weight = 0.14678030303030307, pvalue = 0.19418142702550237)\n",
      "IF a1 = {2} AND a6 = {1} THEN class = {True} (p = 13.0, n = 15.0, P = 64.0, N = 105.0, weight = 0.08286830357142853, pvalue = 0.20827277218318285)\n",
      "\n",
      "\n",
      "Complex rules\n",
      "IF a1 = a4 AND a5 = {4} THEN class = {False} (p = 8.0, n = 0.0, P = 105.0, N = 64.0, weight = 0.5380952380952381, pvalue = 0.019989030109800937)\n",
      "IF a3 = a6 AND a2 != a4 AND a1 != a2 AND a5 = {4} THEN class = {False} (p = 11.0, n = 0.0, P = 105.0, N = 64.0, weight = 0.5523809523809524, pvalue = 0.004317330656552595)\n",
      "IF a3 = a6 AND a4 != {1} AND a5 = {4} THEN class = {False} (p = 16.0, n = 3.0, P = 105.0, N = 64.0, weight = 0.33595316416040105, pvalue = 0.027511144490199597)\n",
      "IF a3 = a6 AND a1 = {1} AND a3 != {2} THEN class = {False} (p = 16.0, n = 0.0, P = 105.0, N = 64.0, weight = 0.5761904761904761, pvalue = 0.0003078676710004183)\n",
      "IF a3 = a6 AND a1 != a4 AND a2 != a4 AND a1 != a2 AND a5 = {4, 3} THEN class = {False} (p = 14.0, n = 0.0, P = 105.0, N = 64.0, weight = 0.5666666666666667, pvalue = 0.0008972895368473818)\n",
      "IF a3 = a6 AND a1 != a4 AND a2 != {1} AND a4 != {3} AND a5 = {4, 3} THEN class = {False} (p = 14.0, n = 0.0, P = 105.0, N = 64.0, weight = 0.5666666666666667, pvalue = 0.0008972895368473818)\n",
      "IF a3 = a6 AND a1 != a2 AND a5 = {4, 3} THEN class = {False} (p = 28.0, n = 6.0, P = 105.0, N = 64.0, weight = 0.3382046568627452, pvalue = 0.004557023399354892)\n",
      "IF a3 = a6 AND a1 = a2 AND a4 != {3} AND a5 = {2, 1} THEN class = {False} (p = 8.0, n = 0.0, P = 105.0, N = 64.0, weight = 0.5380952380952381, pvalue = 0.019989030109800937)\n",
      "IF a3 = a6 AND a2 != a4 AND a1 != a4 THEN class = {False} (p = 36.0, n = 8.0, P = 105.0, N = 64.0, weight = 0.34906655844155854, pvalue = 0.0011720590140938186)\n",
      "IF a3 = a6 THEN class = {False} (p = 61.0, n = 21.0, P = 105.0, N = 64.0, weight = 0.2559106416957027, pvalue = 0.0011427196732560346)\n",
      "IF a1 = a2 AND a3 != a6 AND a1 = {1} THEN class = {False} (p = 5.0, n = 0.0, P = 105.0, N = 64.0, weight = 0.5238095238095238, pvalue = 0.08922301996394814)\n",
      "IF a1 = a2 AND a2 != {2} THEN class = {False} (p = 24.0, n = 5.0, P = 105.0, N = 64.0, weight = 0.33461360837438425, pvalue = 0.008519064474306674)\n",
      "IF a3 != a6 AND a4 = {1} AND a5 = {1} THEN class = {False} (p = 10.0, n = 0.0, P = 105.0, N = 64.0, weight = 0.5476190476190477, pvalue = 0.007225848151493258)\n",
      "IF a4 = {1} AND a6 != {2} THEN class = {False} (p = 24.0, n = 4.0, P = 105.0, N = 64.0, weight = 0.38255739795918375, pvalue = 0.0032296489767082346)\n",
      "IF a1 != a2 AND a2 != {3} AND a3 != {2} AND a5 = {4, 1} THEN class = {False} (p = 16.0, n = 3.0, P = 105.0, N = 64.0, weight = 0.33595316416040105, pvalue = 0.027511144490199597)\n",
      "IF a1 = a4 AND a3 != a6 AND a2 != {1} AND a5 != {1} THEN class = {False} (p = 12.0, n = 0.0, P = 105.0, N = 64.0, weight = 0.5571428571428572, pvalue = 0.0025685384918730804)\n",
      "IF a1 != a4 AND a6 != {2} THEN class = {False} (p = 42.0, n = 18.0, P = 105.0, N = 64.0, weight = 0.14546874999999995, pvalue = 0.08015736534956813)\n",
      "IF a3 != a6 AND a1 != a2 AND a1 = {1} AND a4 != {1} AND a5 = {2, 4} THEN class = {True} (p = 9.0, n = 0.0, P = 64.0, N = 105.0, weight = 0.5703125, pvalue = 0.00011037211212068292)\n",
      "IF a3 != a6 AND a1 != a2 AND a2 = {1} AND a4 != {1} AND a5 = {2, 4} THEN class = {True} (p = 8.0, n = 0.0, P = 64.0, N = 105.0, weight = 0.5625, pvalue = 0.00031731982234696384)\n",
      "IF a3 != a6 AND a1 != a2 AND a1 = {1} AND a4 != {1} AND a5 != {1} THEN class = {True} (p = 14.0, n = 0.0, P = 64.0, N = 105.0, weight = 0.609375, pvalue = 4.6802251647562287e-07)\n",
      "IF a3 != a6 AND a1 != a2 AND a1 != {2} AND a4 != {1} THEN class = {True} (p = 24.0, n = 7.0, P = 64.0, N = 105.0, weight = 0.4376344086021506, pvalue = 8.544719708979543e-07)\n",
      "IF a3 != a6 AND a2 != {1} AND a4 != {1} AND a5 != {3} THEN class = {True} (p = 18.0, n = 9.0, P = 64.0, N = 105.0, weight = 0.2969246031746032, pvalue = 0.0009470699403034067)\n",
      "IF a1 != a4 AND a3 != {2} AND a5 != {1} AND a6 != {1} THEN class = {True} (p = 19.0, n = 3.0, P = 64.0, N = 105.0, weight = 0.5061181006493507, pvalue = 7.940885295718267e-07)\n",
      "IF a1 != a2 AND a1 != a4 AND a5 = {2} THEN class = {True} (p = 14.0, n = 6.0, P = 64.0, N = 105.0, weight = 0.3151339285714286, pvalue = 0.0020628738881972317)\n",
      "IF a1 != a2 AND a5 = {2, 3} THEN class = {True} (p = 35.0, n = 30.0, P = 64.0, N = 105.0, weight = 0.19888392857142856, pvalue = 0.0006531291741047996)\n",
      "IF a1 != a2 AND a4 != {1} AND a5 != {3} THEN class = {True} (p = 30.0, n = 30.0, P = 64.0, N = 105.0, weight = 0.14337797619047618, pvalue = 0.012622807241992292)\n",
      "IF a2 != {3} AND a4 != {1} AND a5 != {1} THEN class = {True} (p = 28.0, n = 33.0, P = 64.0, N = 105.0, weight = 0.09291569086651051, pvalue = 0.07355790890949433)\n",
      "\n",
      "\n",
      "Complex rules + inners alternatives\n",
      "IF a1 = a4 AND a5 = {4} THEN class = {False} (p = 8.0, n = 0.0, P = 105.0, N = 64.0, weight = 0.5380952380952381, pvalue = 0.019989030109800937)\n",
      "IF a3 = a6 AND a2 != a4 AND a1 != a2 AND a5 = {4} THEN class = {False} (p = 11.0, n = 0.0, P = 105.0, N = 64.0, weight = 0.5523809523809524, pvalue = 0.004317330656552595)\n",
      "IF a3 = a6 AND a4 != {1} AND a5 = {4} THEN class = {False} (p = 16.0, n = 3.0, P = 105.0, N = 64.0, weight = 0.33595316416040105, pvalue = 0.027511144490199597)\n",
      "IF a3 = a6 AND a1 = {1} AND a3 != {2} THEN class = {False} (p = 16.0, n = 0.0, P = 105.0, N = 64.0, weight = 0.5761904761904761, pvalue = 0.0003078676710004183)\n",
      "IF a3 = a6 AND a1 != a4 AND a2 != a4 AND a1 != a2 AND a5 = {4, 3} THEN class = {False} (p = 14.0, n = 0.0, P = 105.0, N = 64.0, weight = 0.5666666666666667, pvalue = 0.0008972895368473818)\n",
      "IF a3 = a6 AND a1 != a4 AND a2 != {1} AND a4 != {3} AND a5 = {4, 3} THEN class = {False} (p = 14.0, n = 0.0, P = 105.0, N = 64.0, weight = 0.5666666666666667, pvalue = 0.0008972895368473818)\n",
      "IF a3 = a6 AND a1 != a2 AND a5 = {4, 3} THEN class = {False} (p = 28.0, n = 6.0, P = 105.0, N = 64.0, weight = 0.3382046568627452, pvalue = 0.004557023399354892)\n",
      "IF a3 = a6 AND a1 = a2 AND a4 != {3} AND a5 = {2, 1} THEN class = {False} (p = 8.0, n = 0.0, P = 105.0, N = 64.0, weight = 0.5380952380952381, pvalue = 0.019989030109800937)\n",
      "IF a3 = a6 AND a2 != a4 AND a1 != a4 THEN class = {False} (p = 36.0, n = 8.0, P = 105.0, N = 64.0, weight = 0.34906655844155854, pvalue = 0.0011720590140938186)\n",
      "IF a3 = a6 THEN class = {False} (p = 61.0, n = 21.0, P = 105.0, N = 64.0, weight = 0.2559106416957027, pvalue = 0.0011427196732560346)\n",
      "IF a1 = a2 AND a3 != a6 AND a1 = {1} THEN class = {False} (p = 5.0, n = 0.0, P = 105.0, N = 64.0, weight = 0.5238095238095238, pvalue = 0.08922301996394814)\n",
      "IF a1 = a2 AND a2 != {2} THEN class = {False} (p = 24.0, n = 5.0, P = 105.0, N = 64.0, weight = 0.33461360837438425, pvalue = 0.008519064474306674)\n",
      "IF a3 != a6 AND a4 = {1} AND a5 = {1} THEN class = {False} (p = 10.0, n = 0.0, P = 105.0, N = 64.0, weight = 0.5476190476190477, pvalue = 0.007225848151493258)\n",
      "IF a4 = {1} AND a6 != {2} THEN class = {False} (p = 24.0, n = 4.0, P = 105.0, N = 64.0, weight = 0.38255739795918375, pvalue = 0.0032296489767082346)\n",
      "IF a1 != a2 AND a2 != {3} AND a3 != {2} AND a5 = {4, 1} THEN class = {False} (p = 16.0, n = 3.0, P = 105.0, N = 64.0, weight = 0.33595316416040105, pvalue = 0.027511144490199597)\n",
      "IF a1 = a4 AND a3 != a6 AND a2 != {1} AND a5 != {1} THEN class = {False} (p = 12.0, n = 0.0, P = 105.0, N = 64.0, weight = 0.5571428571428572, pvalue = 0.0025685384918730804)\n",
      "IF a1 != a4 AND a6 != {2} THEN class = {False} (p = 42.0, n = 18.0, P = 105.0, N = 64.0, weight = 0.14546874999999995, pvalue = 0.08015736534956813)\n",
      "IF a3 != a6 AND a1 != a2 AND a1 = {1} AND a4 != {1} AND a5 = {2, 4} THEN class = {True} (p = 9.0, n = 0.0, P = 64.0, N = 105.0, weight = 0.5703125, pvalue = 0.00011037211212068292)\n",
      "IF a3 != a6 AND a1 != a2 AND a2 = {1} AND a4 != {1} AND a5 = {2, 4} THEN class = {True} (p = 8.0, n = 0.0, P = 64.0, N = 105.0, weight = 0.5625, pvalue = 0.00031731982234696384)\n",
      "IF a3 != a6 AND a1 != a2 AND a1 = {1} AND a4 != {1} AND a5 != {1} THEN class = {True} (p = 14.0, n = 0.0, P = 64.0, N = 105.0, weight = 0.609375, pvalue = 4.6802251647562287e-07)\n",
      "IF a3 != a6 AND a1 != a2 AND a1 != {2} AND a4 != {1} THEN class = {True} (p = 24.0, n = 7.0, P = 64.0, N = 105.0, weight = 0.4376344086021506, pvalue = 8.544719708979543e-07)\n",
      "IF a3 != a6 AND a2 != {1} AND a4 != {1} AND a5 != {3} THEN class = {True} (p = 18.0, n = 9.0, P = 64.0, N = 105.0, weight = 0.2969246031746032, pvalue = 0.0009470699403034067)\n",
      "IF a1 != a4 AND a3 != {2} AND a5 != {1} AND a6 != {1} THEN class = {True} (p = 19.0, n = 3.0, P = 64.0, N = 105.0, weight = 0.5061181006493507, pvalue = 7.940885295718267e-07)\n",
      "IF a1 != a2 AND a1 != a4 AND a5 = {2} THEN class = {True} (p = 14.0, n = 6.0, P = 64.0, N = 105.0, weight = 0.3151339285714286, pvalue = 0.0020628738881972317)\n",
      "IF a1 != a2 AND a5 = {2, 3} THEN class = {True} (p = 35.0, n = 30.0, P = 64.0, N = 105.0, weight = 0.19888392857142856, pvalue = 0.0006531291741047996)\n",
      "IF a1 != a2 AND a4 != {1} AND a5 != {3} THEN class = {True} (p = 30.0, n = 30.0, P = 64.0, N = 105.0, weight = 0.14337797619047618, pvalue = 0.012622807241992292)\n",
      "IF a2 != {3} AND a4 != {1} AND a5 != {1} THEN class = {True} (p = 28.0, n = 33.0, P = 64.0, N = 105.0, weight = 0.09291569086651051, pvalue = 0.07355790890949433)\n"
     ]
    }
   ],
   "source": [
    "X = train.drop(['class'], axis=1)\n",
    "y = train['class']\n",
    "\n",
    "clf_simple.fit(X, y)\n",
    "\n",
    "print(\"Rules original\")\n",
    "for rule in clf_simple.model.rules:\n",
    "    print(rule, rule.stats)\n",
    "\n",
    "print(\"\\n\\nComplex rules\")\n",
    "clf_complex.fit(X, y)\n",
    "for rule in clf_complex.model.rules:\n",
    "    print(rule, rule.stats)\n",
    "\n",
    "print(\"\\n\\nComplex rules + inners alternatives\")\n",
    "clf_complex_with_inners.fit(X, y)\n",
    "for rule in clf_complex_with_inners.model.rules:\n",
    "    print(rule, rule.stats)"
   ]
  },
  {
   "attachments": {},
   "cell_type": "markdown",
   "metadata": {},
   "source": [
    "# Monk-3"
   ]
  },
  {
   "cell_type": "code",
   "execution_count": 49,
   "metadata": {},
   "outputs": [],
   "source": [
    "train = pd.read_parquet(\"./data/monk_3/train.parquet\")\n",
    "test = pd.read_parquet(\"./data/monk_3/train.parquet\")"
   ]
  },
  {
   "cell_type": "code",
   "execution_count": 50,
   "metadata": {},
   "outputs": [
    {
     "data": {
      "text/html": [
       "<div>\n",
       "<style scoped>\n",
       "    .dataframe tbody tr th:only-of-type {\n",
       "        vertical-align: middle;\n",
       "    }\n",
       "\n",
       "    .dataframe tbody tr th {\n",
       "        vertical-align: top;\n",
       "    }\n",
       "\n",
       "    .dataframe thead th {\n",
       "        text-align: right;\n",
       "    }\n",
       "</style>\n",
       "<table border=\"1\" class=\"dataframe\">\n",
       "  <thead>\n",
       "    <tr style=\"text-align: right;\">\n",
       "      <th></th>\n",
       "      <th>a1</th>\n",
       "      <th>a2</th>\n",
       "      <th>a3</th>\n",
       "      <th>a4</th>\n",
       "      <th>a5</th>\n",
       "      <th>a6</th>\n",
       "      <th>class</th>\n",
       "    </tr>\n",
       "  </thead>\n",
       "  <tbody>\n",
       "    <tr>\n",
       "      <th>0</th>\n",
       "      <td>1</td>\n",
       "      <td>1</td>\n",
       "      <td>1</td>\n",
       "      <td>1</td>\n",
       "      <td>1</td>\n",
       "      <td>2</td>\n",
       "      <td>True</td>\n",
       "    </tr>\n",
       "    <tr>\n",
       "      <th>1</th>\n",
       "      <td>1</td>\n",
       "      <td>1</td>\n",
       "      <td>1</td>\n",
       "      <td>1</td>\n",
       "      <td>2</td>\n",
       "      <td>1</td>\n",
       "      <td>True</td>\n",
       "    </tr>\n",
       "    <tr>\n",
       "      <th>2</th>\n",
       "      <td>1</td>\n",
       "      <td>1</td>\n",
       "      <td>1</td>\n",
       "      <td>1</td>\n",
       "      <td>2</td>\n",
       "      <td>2</td>\n",
       "      <td>True</td>\n",
       "    </tr>\n",
       "    <tr>\n",
       "      <th>3</th>\n",
       "      <td>1</td>\n",
       "      <td>1</td>\n",
       "      <td>1</td>\n",
       "      <td>1</td>\n",
       "      <td>3</td>\n",
       "      <td>1</td>\n",
       "      <td>False</td>\n",
       "    </tr>\n",
       "    <tr>\n",
       "      <th>4</th>\n",
       "      <td>1</td>\n",
       "      <td>1</td>\n",
       "      <td>1</td>\n",
       "      <td>1</td>\n",
       "      <td>4</td>\n",
       "      <td>1</td>\n",
       "      <td>False</td>\n",
       "    </tr>\n",
       "    <tr>\n",
       "      <th>...</th>\n",
       "      <td>...</td>\n",
       "      <td>...</td>\n",
       "      <td>...</td>\n",
       "      <td>...</td>\n",
       "      <td>...</td>\n",
       "      <td>...</td>\n",
       "      <td>...</td>\n",
       "    </tr>\n",
       "    <tr>\n",
       "      <th>117</th>\n",
       "      <td>3</td>\n",
       "      <td>3</td>\n",
       "      <td>2</td>\n",
       "      <td>2</td>\n",
       "      <td>2</td>\n",
       "      <td>2</td>\n",
       "      <td>False</td>\n",
       "    </tr>\n",
       "    <tr>\n",
       "      <th>118</th>\n",
       "      <td>3</td>\n",
       "      <td>3</td>\n",
       "      <td>2</td>\n",
       "      <td>2</td>\n",
       "      <td>3</td>\n",
       "      <td>2</td>\n",
       "      <td>False</td>\n",
       "    </tr>\n",
       "    <tr>\n",
       "      <th>119</th>\n",
       "      <td>3</td>\n",
       "      <td>3</td>\n",
       "      <td>2</td>\n",
       "      <td>3</td>\n",
       "      <td>1</td>\n",
       "      <td>1</td>\n",
       "      <td>False</td>\n",
       "    </tr>\n",
       "    <tr>\n",
       "      <th>120</th>\n",
       "      <td>3</td>\n",
       "      <td>3</td>\n",
       "      <td>2</td>\n",
       "      <td>3</td>\n",
       "      <td>3</td>\n",
       "      <td>2</td>\n",
       "      <td>False</td>\n",
       "    </tr>\n",
       "    <tr>\n",
       "      <th>121</th>\n",
       "      <td>3</td>\n",
       "      <td>3</td>\n",
       "      <td>2</td>\n",
       "      <td>3</td>\n",
       "      <td>4</td>\n",
       "      <td>2</td>\n",
       "      <td>False</td>\n",
       "    </tr>\n",
       "  </tbody>\n",
       "</table>\n",
       "<p>122 rows × 7 columns</p>\n",
       "</div>"
      ],
      "text/plain": [
       "    a1 a2 a3 a4 a5 a6  class\n",
       "0    1  1  1  1  1  2   True\n",
       "1    1  1  1  1  2  1   True\n",
       "2    1  1  1  1  2  2   True\n",
       "3    1  1  1  1  3  1  False\n",
       "4    1  1  1  1  4  1  False\n",
       "..  .. .. .. .. .. ..    ...\n",
       "117  3  3  2  2  2  2  False\n",
       "118  3  3  2  2  3  2  False\n",
       "119  3  3  2  3  1  1  False\n",
       "120  3  3  2  3  3  2  False\n",
       "121  3  3  2  3  4  2  False\n",
       "\n",
       "[122 rows x 7 columns]"
      ]
     },
     "execution_count": 50,
     "metadata": {},
     "output_type": "execute_result"
    }
   ],
   "source": [
    "train"
   ]
  },
  {
   "cell_type": "code",
   "execution_count": 51,
   "metadata": {},
   "outputs": [
    {
     "name": "stdout",
     "output_type": "stream",
     "text": [
      "Rules original\n",
      "IF a2 = {2} AND a5 = {1} THEN class = {True} (p = 10.0, n = 0.0, P = 60.0, N = 62.0, weight = 0.5833333333333334, pvalue = 0.0005470406191995192)\n",
      "IF a1 = {1} AND a2 = {2} AND a5 = {2} THEN class = {True} (p = 8.0, n = 0.0, P = 60.0, N = 62.0, weight = 0.5666666666666667, pvalue = 0.0026572312430347715)\n",
      "IF a2 = {2} AND a3 = {2} AND a5 = {3} THEN class = {True} (p = 5.0, n = 0.0, P = 60.0, N = 62.0, weight = 0.5416666666666666, pvalue = 0.0263474580998908)\n",
      "IF a2 = {2} AND a6 = {2} THEN class = {True} (p = 18.0, n = 4.0, P = 60.0, N = 62.0, weight = 0.4174486803519061, pvalue = 0.0006392617157850593)\n",
      "IF a2 = {1} AND a5 = {1} THEN class = {True} (p = 12.0, n = 0.0, P = 60.0, N = 62.0, weight = 0.6, pvalue = 0.00010780642833323966)\n",
      "IF a2 = {1} AND a5 = {2} THEN class = {True} (p = 9.0, n = 0.0, P = 60.0, N = 62.0, weight = 0.575, pvalue = 0.001212070391559723)\n",
      "IF a2 = {1} AND a5 = {3} THEN class = {True} (p = 5.0, n = 1.0, P = 60.0, N = 62.0, weight = 0.36402329749103945, pvalue = 0.09615696246712296)\n",
      "IF a3 = {1} THEN class = {True} (p = 33.0, n = 32.0, P = 60.0, N = 62.0, weight = 0.024230769230769233, pvalue = 0.4234066267547958)\n",
      "IF a5 = {4} THEN class = {False} (p = 30.0, n = 1.0, P = 62.0, N = 60.0, weight = 0.6932708983697536, pvalue = 3.09801768792834e-10)\n",
      "IF a2 = {3} THEN class = {False} (p = 38.0, n = 3.0, P = 62.0, N = 60.0, weight = 0.6864673485444532, pvalue = 6.728596677034579e-12)\n",
      "\n",
      "\n",
      "Complex rules\n",
      "IF a2 != {3} AND a5 != {4} THEN class = {True} (p = 57.0, n = 5.0, P = 60.0, N = 62.0, weight = 0.8202783558792923, pvalue = 5.898211660171917e-25)\n",
      "IF a5 = {4} THEN class = {False} (p = 30.0, n = 1.0, P = 62.0, N = 60.0, weight = 0.6932708983697536, pvalue = 3.09801768792834e-10)\n",
      "IF a2 = {3} AND a4 != {1} THEN class = {False} (p = 27.0, n = 0.0, P = 62.0, N = 60.0, weight = 0.717741935483871, pvalue = 3.1858409806610427e-10)\n",
      "IF a2 = {3} AND a5 != {3} THEN class = {False} (p = 30.0, n = 1.0, P = 62.0, N = 60.0, weight = 0.6932708983697536, pvalue = 3.09801768792834e-10)\n",
      "IF a1 != {3} AND a3 != {2} AND a5 != {1} THEN class = {False} (p = 22.0, n = 14.0, P = 62.0, N = 60.0, weight = 0.1417562724014337, pvalue = 0.10137791689279371)\n",
      "\n",
      "\n",
      "Complex rules + inners alternatives\n",
      "IF a2 != {3} AND a5 != {4} THEN class = {True} (p = 57.0, n = 5.0, P = 60.0, N = 62.0, weight = 0.8202783558792923, pvalue = 5.898211660171917e-25)\n",
      "IF a5 = {4} THEN class = {False} (p = 30.0, n = 1.0, P = 62.0, N = 60.0, weight = 0.6932708983697536, pvalue = 3.09801768792834e-10)\n",
      "IF a2 = {3} AND a4 != {1} THEN class = {False} (p = 27.0, n = 0.0, P = 62.0, N = 60.0, weight = 0.717741935483871, pvalue = 3.1858409806610427e-10)\n",
      "IF a2 = {3} AND a5 != {3} THEN class = {False} (p = 30.0, n = 1.0, P = 62.0, N = 60.0, weight = 0.6932708983697536, pvalue = 3.09801768792834e-10)\n",
      "IF a1 != {3} AND a3 != {2} AND a5 != {1} THEN class = {False} (p = 22.0, n = 14.0, P = 62.0, N = 60.0, weight = 0.1417562724014337, pvalue = 0.10137791689279371)\n"
     ]
    }
   ],
   "source": [
    "X = train.drop(['class'], axis=1)\n",
    "y = train['class']\n",
    "\n",
    "clf_simple.fit(X, y)\n",
    "\n",
    "print(\"Rules original\")\n",
    "for rule in clf_simple.model.rules:\n",
    "    print(rule, rule.stats)\n",
    "\n",
    "print(\"\\n\\nComplex rules\")\n",
    "clf_complex.fit(X, y)\n",
    "for rule in clf_complex.model.rules:\n",
    "    print(rule, rule.stats)\n",
    "\n",
    "print(\"\\n\\nComplex rules + inners alternatives\")\n",
    "clf_complex_with_inners.fit(X, y)\n",
    "for rule in clf_complex_with_inners.model.rules:\n",
    "    print(rule, rule.stats)"
   ]
  },
  {
   "attachments": {},
   "cell_type": "markdown",
   "metadata": {},
   "source": [
    "# Trains"
   ]
  },
  {
   "cell_type": "code",
   "execution_count": 52,
   "metadata": {},
   "outputs": [],
   "source": [
    "train = pd.read_csv(\"./data/trains/trains-transformed.csv\")"
   ]
  },
  {
   "cell_type": "code",
   "execution_count": 53,
   "metadata": {},
   "outputs": [
    {
     "data": {
      "text/html": [
       "<div>\n",
       "<style scoped>\n",
       "    .dataframe tbody tr th:only-of-type {\n",
       "        vertical-align: middle;\n",
       "    }\n",
       "\n",
       "    .dataframe tbody tr th {\n",
       "        vertical-align: top;\n",
       "    }\n",
       "\n",
       "    .dataframe thead th {\n",
       "        text-align: right;\n",
       "    }\n",
       "</style>\n",
       "<table border=\"1\" class=\"dataframe\">\n",
       "  <thead>\n",
       "    <tr style=\"text-align: right;\">\n",
       "      <th></th>\n",
       "      <th>Number_of_cars</th>\n",
       "      <th>Number_of_different_loads</th>\n",
       "      <th>num_wheels_car_2</th>\n",
       "      <th>length_car_2</th>\n",
       "      <th>shape_car_2</th>\n",
       "      <th>num_loads_car_2</th>\n",
       "      <th>load_shape_car_2</th>\n",
       "      <th>num_wheels_car_3</th>\n",
       "      <th>length_car_3</th>\n",
       "      <th>shape_car_3</th>\n",
       "      <th>...</th>\n",
       "      <th>Rectangle_next_to_triangle</th>\n",
       "      <th>Rectangle_next_to_hexagon</th>\n",
       "      <th>Rectangle_next_to_circle</th>\n",
       "      <th>Triangle_next_to_triangle</th>\n",
       "      <th>Triangle_next_to_hexagon</th>\n",
       "      <th>Triangle_next_to_circle</th>\n",
       "      <th>Hexagon_next_to_hexagon</th>\n",
       "      <th>Hexagon_next_to_circle</th>\n",
       "      <th>Circle_next_to_circle</th>\n",
       "      <th>class</th>\n",
       "    </tr>\n",
       "  </thead>\n",
       "  <tbody>\n",
       "    <tr>\n",
       "      <th>0</th>\n",
       "      <td>5</td>\n",
       "      <td>4</td>\n",
       "      <td>2</td>\n",
       "      <td>long</td>\n",
       "      <td>openrect</td>\n",
       "      <td>3</td>\n",
       "      <td>rectanglod</td>\n",
       "      <td>2</td>\n",
       "      <td>short</td>\n",
       "      <td>slopetop</td>\n",
       "      <td>...</td>\n",
       "      <td>1</td>\n",
       "      <td>0</td>\n",
       "      <td>0</td>\n",
       "      <td>0</td>\n",
       "      <td>1</td>\n",
       "      <td>0</td>\n",
       "      <td>0</td>\n",
       "      <td>1</td>\n",
       "      <td>0</td>\n",
       "      <td>east</td>\n",
       "    </tr>\n",
       "    <tr>\n",
       "      <th>1</th>\n",
       "      <td>4</td>\n",
       "      <td>3</td>\n",
       "      <td>2</td>\n",
       "      <td>short</td>\n",
       "      <td>ushaped</td>\n",
       "      <td>1</td>\n",
       "      <td>trianglod</td>\n",
       "      <td>2</td>\n",
       "      <td>short</td>\n",
       "      <td>opentrap</td>\n",
       "      <td>...</td>\n",
       "      <td>1</td>\n",
       "      <td>0</td>\n",
       "      <td>1</td>\n",
       "      <td>0</td>\n",
       "      <td>0</td>\n",
       "      <td>0</td>\n",
       "      <td>0</td>\n",
       "      <td>0</td>\n",
       "      <td>0</td>\n",
       "      <td>east</td>\n",
       "    </tr>\n",
       "    <tr>\n",
       "      <th>2</th>\n",
       "      <td>4</td>\n",
       "      <td>2</td>\n",
       "      <td>2</td>\n",
       "      <td>short</td>\n",
       "      <td>openrect</td>\n",
       "      <td>1</td>\n",
       "      <td>circlelod</td>\n",
       "      <td>2</td>\n",
       "      <td>short</td>\n",
       "      <td>hexagon</td>\n",
       "      <td>...</td>\n",
       "      <td>0</td>\n",
       "      <td>0</td>\n",
       "      <td>0</td>\n",
       "      <td>1</td>\n",
       "      <td>0</td>\n",
       "      <td>1</td>\n",
       "      <td>0</td>\n",
       "      <td>0</td>\n",
       "      <td>0</td>\n",
       "      <td>east</td>\n",
       "    </tr>\n",
       "    <tr>\n",
       "      <th>3</th>\n",
       "      <td>5</td>\n",
       "      <td>2</td>\n",
       "      <td>2</td>\n",
       "      <td>short</td>\n",
       "      <td>opentrap</td>\n",
       "      <td>1</td>\n",
       "      <td>trianglod</td>\n",
       "      <td>2</td>\n",
       "      <td>short</td>\n",
       "      <td>dblopnrect</td>\n",
       "      <td>...</td>\n",
       "      <td>1</td>\n",
       "      <td>0</td>\n",
       "      <td>0</td>\n",
       "      <td>1</td>\n",
       "      <td>0</td>\n",
       "      <td>0</td>\n",
       "      <td>0</td>\n",
       "      <td>0</td>\n",
       "      <td>0</td>\n",
       "      <td>east</td>\n",
       "    </tr>\n",
       "    <tr>\n",
       "      <th>4</th>\n",
       "      <td>4</td>\n",
       "      <td>3</td>\n",
       "      <td>2</td>\n",
       "      <td>short</td>\n",
       "      <td>dblopnrect</td>\n",
       "      <td>1</td>\n",
       "      <td>trianglod</td>\n",
       "      <td>3</td>\n",
       "      <td>long</td>\n",
       "      <td>closedrect</td>\n",
       "      <td>...</td>\n",
       "      <td>1</td>\n",
       "      <td>0</td>\n",
       "      <td>1</td>\n",
       "      <td>0</td>\n",
       "      <td>0</td>\n",
       "      <td>0</td>\n",
       "      <td>0</td>\n",
       "      <td>0</td>\n",
       "      <td>0</td>\n",
       "      <td>east</td>\n",
       "    </tr>\n",
       "    <tr>\n",
       "      <th>5</th>\n",
       "      <td>3</td>\n",
       "      <td>2</td>\n",
       "      <td>2</td>\n",
       "      <td>long</td>\n",
       "      <td>closedrect</td>\n",
       "      <td>3</td>\n",
       "      <td>circlelod</td>\n",
       "      <td>2</td>\n",
       "      <td>short</td>\n",
       "      <td>openrect</td>\n",
       "      <td>...</td>\n",
       "      <td>0</td>\n",
       "      <td>0</td>\n",
       "      <td>0</td>\n",
       "      <td>0</td>\n",
       "      <td>0</td>\n",
       "      <td>1</td>\n",
       "      <td>0</td>\n",
       "      <td>0</td>\n",
       "      <td>0</td>\n",
       "      <td>west</td>\n",
       "    </tr>\n",
       "    <tr>\n",
       "      <th>6</th>\n",
       "      <td>4</td>\n",
       "      <td>2</td>\n",
       "      <td>2</td>\n",
       "      <td>short</td>\n",
       "      <td>dblopnrect</td>\n",
       "      <td>1</td>\n",
       "      <td>circlelod</td>\n",
       "      <td>2</td>\n",
       "      <td>short</td>\n",
       "      <td>ushaped</td>\n",
       "      <td>...</td>\n",
       "      <td>0</td>\n",
       "      <td>0</td>\n",
       "      <td>0</td>\n",
       "      <td>0</td>\n",
       "      <td>0</td>\n",
       "      <td>1</td>\n",
       "      <td>0</td>\n",
       "      <td>0</td>\n",
       "      <td>0</td>\n",
       "      <td>west</td>\n",
       "    </tr>\n",
       "    <tr>\n",
       "      <th>7</th>\n",
       "      <td>3</td>\n",
       "      <td>2</td>\n",
       "      <td>3</td>\n",
       "      <td>long</td>\n",
       "      <td>closedrect</td>\n",
       "      <td>1</td>\n",
       "      <td>rectanglod</td>\n",
       "      <td>2</td>\n",
       "      <td>short</td>\n",
       "      <td>ushaped</td>\n",
       "      <td>...</td>\n",
       "      <td>0</td>\n",
       "      <td>0</td>\n",
       "      <td>1</td>\n",
       "      <td>0</td>\n",
       "      <td>0</td>\n",
       "      <td>0</td>\n",
       "      <td>0</td>\n",
       "      <td>0</td>\n",
       "      <td>0</td>\n",
       "      <td>west</td>\n",
       "    </tr>\n",
       "    <tr>\n",
       "      <th>8</th>\n",
       "      <td>5</td>\n",
       "      <td>2</td>\n",
       "      <td>2</td>\n",
       "      <td>short</td>\n",
       "      <td>opentrap</td>\n",
       "      <td>1</td>\n",
       "      <td>circlelod</td>\n",
       "      <td>2</td>\n",
       "      <td>long</td>\n",
       "      <td>jaggedtop</td>\n",
       "      <td>...</td>\n",
       "      <td>0</td>\n",
       "      <td>0</td>\n",
       "      <td>1</td>\n",
       "      <td>0</td>\n",
       "      <td>0</td>\n",
       "      <td>0</td>\n",
       "      <td>0</td>\n",
       "      <td>0</td>\n",
       "      <td>0</td>\n",
       "      <td>west</td>\n",
       "    </tr>\n",
       "    <tr>\n",
       "      <th>9</th>\n",
       "      <td>3</td>\n",
       "      <td>1</td>\n",
       "      <td>2</td>\n",
       "      <td>short</td>\n",
       "      <td>ushaped</td>\n",
       "      <td>1</td>\n",
       "      <td>rectanglod</td>\n",
       "      <td>2</td>\n",
       "      <td>long</td>\n",
       "      <td>openrect</td>\n",
       "      <td>...</td>\n",
       "      <td>0</td>\n",
       "      <td>0</td>\n",
       "      <td>0</td>\n",
       "      <td>0</td>\n",
       "      <td>0</td>\n",
       "      <td>0</td>\n",
       "      <td>0</td>\n",
       "      <td>0</td>\n",
       "      <td>0</td>\n",
       "      <td>west</td>\n",
       "    </tr>\n",
       "  </tbody>\n",
       "</table>\n",
       "<p>10 rows × 33 columns</p>\n",
       "</div>"
      ],
      "text/plain": [
       "   Number_of_cars  Number_of_different_loads  num_wheels_car_2 length_car_2  \\\n",
       "0               5                          4                 2         long   \n",
       "1               4                          3                 2        short   \n",
       "2               4                          2                 2        short   \n",
       "3               5                          2                 2        short   \n",
       "4               4                          3                 2        short   \n",
       "5               3                          2                 2         long   \n",
       "6               4                          2                 2        short   \n",
       "7               3                          2                 3         long   \n",
       "8               5                          2                 2        short   \n",
       "9               3                          1                 2        short   \n",
       "\n",
       "  shape_car_2  num_loads_car_2 load_shape_car_2  num_wheels_car_3  \\\n",
       "0    openrect                3       rectanglod                 2   \n",
       "1     ushaped                1        trianglod                 2   \n",
       "2    openrect                1        circlelod                 2   \n",
       "3    opentrap                1        trianglod                 2   \n",
       "4  dblopnrect                1        trianglod                 3   \n",
       "5  closedrect                3        circlelod                 2   \n",
       "6  dblopnrect                1        circlelod                 2   \n",
       "7  closedrect                1       rectanglod                 2   \n",
       "8    opentrap                1        circlelod                 2   \n",
       "9     ushaped                1       rectanglod                 2   \n",
       "\n",
       "  length_car_3 shape_car_3  ...  Rectangle_next_to_triangle  \\\n",
       "0        short    slopetop  ...                           1   \n",
       "1        short    opentrap  ...                           1   \n",
       "2        short     hexagon  ...                           0   \n",
       "3        short  dblopnrect  ...                           1   \n",
       "4         long  closedrect  ...                           1   \n",
       "5        short    openrect  ...                           0   \n",
       "6        short     ushaped  ...                           0   \n",
       "7        short     ushaped  ...                           0   \n",
       "8         long   jaggedtop  ...                           0   \n",
       "9         long    openrect  ...                           0   \n",
       "\n",
       "  Rectangle_next_to_hexagon Rectangle_next_to_circle  \\\n",
       "0                         0                        0   \n",
       "1                         0                        1   \n",
       "2                         0                        0   \n",
       "3                         0                        0   \n",
       "4                         0                        1   \n",
       "5                         0                        0   \n",
       "6                         0                        0   \n",
       "7                         0                        1   \n",
       "8                         0                        1   \n",
       "9                         0                        0   \n",
       "\n",
       "  Triangle_next_to_triangle Triangle_next_to_hexagon Triangle_next_to_circle  \\\n",
       "0                         0                        1                       0   \n",
       "1                         0                        0                       0   \n",
       "2                         1                        0                       1   \n",
       "3                         1                        0                       0   \n",
       "4                         0                        0                       0   \n",
       "5                         0                        0                       1   \n",
       "6                         0                        0                       1   \n",
       "7                         0                        0                       0   \n",
       "8                         0                        0                       0   \n",
       "9                         0                        0                       0   \n",
       "\n",
       "  Hexagon_next_to_hexagon Hexagon_next_to_circle Circle_next_to_circle class  \n",
       "0                       0                      1                     0  east  \n",
       "1                       0                      0                     0  east  \n",
       "2                       0                      0                     0  east  \n",
       "3                       0                      0                     0  east  \n",
       "4                       0                      0                     0  east  \n",
       "5                       0                      0                     0  west  \n",
       "6                       0                      0                     0  west  \n",
       "7                       0                      0                     0  west  \n",
       "8                       0                      0                     0  west  \n",
       "9                       0                      0                     0  west  \n",
       "\n",
       "[10 rows x 33 columns]"
      ]
     },
     "execution_count": 53,
     "metadata": {},
     "output_type": "execute_result"
    }
   ],
   "source": [
    "train"
   ]
  },
  {
   "cell_type": "code",
   "execution_count": 54,
   "metadata": {},
   "outputs": [
    {
     "data": {
      "text/plain": [
       "Number_of_cars                  int64\n",
       "Number_of_different_loads       int64\n",
       "num_wheels_car_2                int64\n",
       "length_car_2                   object\n",
       "shape_car_2                    object\n",
       "num_loads_car_2                 int64\n",
       "load_shape_car_2               object\n",
       "num_wheels_car_3                int64\n",
       "length_car_3                   object\n",
       "shape_car_3                    object\n",
       "num_loads_car_3                 int64\n",
       "load_shape_car_3               object\n",
       "num_wheels_car_4               object\n",
       "length_car_4                   object\n",
       "shape_car_4                    object\n",
       "num_loads_car_4                object\n",
       "load_shape_car_4               object\n",
       "num_wheels_car_5               object\n",
       "length_car_5                   object\n",
       "shape_car_5                    object\n",
       "num_loads_car_5                object\n",
       "load_shape_car_5               object\n",
       "Rectangle_next_to_rectangle     int64\n",
       "Rectangle_next_to_triangle      int64\n",
       "Rectangle_next_to_hexagon       int64\n",
       "Rectangle_next_to_circle        int64\n",
       "Triangle_next_to_triangle       int64\n",
       "Triangle_next_to_hexagon        int64\n",
       "Triangle_next_to_circle         int64\n",
       "Hexagon_next_to_hexagon         int64\n",
       "Hexagon_next_to_circle          int64\n",
       "Circle_next_to_circle           int64\n",
       "class                          object\n",
       "dtype: object"
      ]
     },
     "execution_count": 54,
     "metadata": {},
     "output_type": "execute_result"
    }
   ],
   "source": [
    "train.dtypes"
   ]
  },
  {
   "cell_type": "code",
   "execution_count": 55,
   "metadata": {},
   "outputs": [],
   "source": [
    "train= train.astype('str')"
   ]
  },
  {
   "cell_type": "code",
   "execution_count": 56,
   "metadata": {},
   "outputs": [
    {
     "data": {
      "text/plain": [
       "Number_of_cars                 object\n",
       "Number_of_different_loads      object\n",
       "num_wheels_car_2               object\n",
       "length_car_2                   object\n",
       "shape_car_2                    object\n",
       "num_loads_car_2                object\n",
       "load_shape_car_2               object\n",
       "num_wheels_car_3               object\n",
       "length_car_3                   object\n",
       "shape_car_3                    object\n",
       "num_loads_car_3                object\n",
       "load_shape_car_3               object\n",
       "num_wheels_car_4               object\n",
       "length_car_4                   object\n",
       "shape_car_4                    object\n",
       "num_loads_car_4                object\n",
       "load_shape_car_4               object\n",
       "num_wheels_car_5               object\n",
       "length_car_5                   object\n",
       "shape_car_5                    object\n",
       "num_loads_car_5                object\n",
       "load_shape_car_5               object\n",
       "Rectangle_next_to_rectangle    object\n",
       "Rectangle_next_to_triangle     object\n",
       "Rectangle_next_to_hexagon      object\n",
       "Rectangle_next_to_circle       object\n",
       "Triangle_next_to_triangle      object\n",
       "Triangle_next_to_hexagon       object\n",
       "Triangle_next_to_circle        object\n",
       "Hexagon_next_to_hexagon        object\n",
       "Hexagon_next_to_circle         object\n",
       "Circle_next_to_circle          object\n",
       "class                          object\n",
       "dtype: object"
      ]
     },
     "execution_count": 56,
     "metadata": {},
     "output_type": "execute_result"
    }
   ],
   "source": [
    "train.dtypes"
   ]
  },
  {
   "cell_type": "code",
   "execution_count": 57,
   "metadata": {},
   "outputs": [
    {
     "name": "stdout",
     "output_type": "stream",
     "text": [
      "Rules original\n",
      "IF Rectangle_next_to_triangle = {1} THEN class = {east} (p = 4.0, n = 0.0, P = 5.0, N = 5.0, weight = 0.9, pvalue = 0.023809523809523808)\n",
      "IF shape_car_4 = {closedrect} THEN class = {east} (p = 3.0, n = 0.0, P = 5.0, N = 5.0, weight = 0.8, pvalue = 0.08333333333333333)\n",
      "IF load_shape_car_4 = {-} THEN class = {west} (p = 4.0, n = 0.0, P = 5.0, N = 5.0, weight = 0.9, pvalue = 0.023809523809523808)\n",
      "IF Triangle_next_to_triangle = {0} AND Rectangle_next_to_triangle = {0} THEN class = {west} (p = 5.0, n = 0.0, P = 5.0, N = 5.0, weight = 1.0, pvalue = 0.003968253968253968)\n",
      "\n",
      "\n",
      "Complex rules\n",
      "IF Triangle_next_to_triangle != Rectangle_next_to_triangle THEN class = {east} (p = 4.0, n = 0.0, P = 5.0, N = 5.0, weight = 0.9, pvalue = 0.023809523809523808)\n",
      "IF Rectangle_next_to_triangle != {0} THEN class = {east} (p = 4.0, n = 0.0, P = 5.0, N = 5.0, weight = 0.9, pvalue = 0.023809523809523808)\n",
      "IF Triangle_next_to_triangle = Hexagon_next_to_circle = Rectangle_next_to_triangle THEN class = {west} (p = 5.0, n = 0.0, P = 5.0, N = 5.0, weight = 1.0, pvalue = 0.003968253968253968)\n",
      "\n",
      "\n",
      "Complex rules + inners alternatives\n",
      "IF Triangle_next_to_triangle != Rectangle_next_to_triangle THEN class = {east} (p = 4.0, n = 0.0, P = 5.0, N = 5.0, weight = 0.9, pvalue = 0.023809523809523808)\n",
      "IF Rectangle_next_to_triangle != {0} THEN class = {east} (p = 4.0, n = 0.0, P = 5.0, N = 5.0, weight = 0.9, pvalue = 0.023809523809523808)\n",
      "IF Triangle_next_to_triangle = Hexagon_next_to_circle = Rectangle_next_to_triangle THEN class = {west} (p = 5.0, n = 0.0, P = 5.0, N = 5.0, weight = 1.0, pvalue = 0.003968253968253968)\n"
     ]
    }
   ],
   "source": [
    "X = train.drop(['class'], axis=1)\n",
    "y = train['class']\n",
    "\n",
    "clf_simple.fit(X, y)\n",
    "\n",
    "print(\"Rules original\")\n",
    "for rule in clf_simple.model.rules:\n",
    "    print(rule, rule.stats)\n",
    "\n",
    "print(\"\\n\\nComplex rules\")\n",
    "clf_complex.fit(X, y)\n",
    "for rule in clf_complex.model.rules:\n",
    "    print(rule, rule.stats)\n",
    "\n",
    "print(\"\\n\\nComplex rules + inners alternatives\")\n",
    "clf_complex_with_inners.fit(X, y)\n",
    "for rule in clf_complex_with_inners.model.rules:\n",
    "    print(rule, rule.stats)"
   ]
  },
  {
   "attachments": {},
   "cell_type": "markdown",
   "metadata": {},
   "source": [
    "# balance-scale"
   ]
  },
  {
   "cell_type": "code",
   "execution_count": 58,
   "metadata": {},
   "outputs": [],
   "source": [
    "train = pd.read_parquet(\"./data/balance-scale.parquet\")"
   ]
  },
  {
   "cell_type": "code",
   "execution_count": 59,
   "metadata": {},
   "outputs": [
    {
     "data": {
      "text/html": [
       "<div>\n",
       "<style scoped>\n",
       "    .dataframe tbody tr th:only-of-type {\n",
       "        vertical-align: middle;\n",
       "    }\n",
       "\n",
       "    .dataframe tbody tr th {\n",
       "        vertical-align: top;\n",
       "    }\n",
       "\n",
       "    .dataframe thead th {\n",
       "        text-align: right;\n",
       "    }\n",
       "</style>\n",
       "<table border=\"1\" class=\"dataframe\">\n",
       "  <thead>\n",
       "    <tr style=\"text-align: right;\">\n",
       "      <th></th>\n",
       "      <th>left-weight</th>\n",
       "      <th>left-distance</th>\n",
       "      <th>right-weight</th>\n",
       "      <th>right-distance</th>\n",
       "      <th>class</th>\n",
       "    </tr>\n",
       "  </thead>\n",
       "  <tbody>\n",
       "    <tr>\n",
       "      <th>0</th>\n",
       "      <td>1.0</td>\n",
       "      <td>1.0</td>\n",
       "      <td>1.0</td>\n",
       "      <td>1.0</td>\n",
       "      <td>B</td>\n",
       "    </tr>\n",
       "    <tr>\n",
       "      <th>1</th>\n",
       "      <td>1.0</td>\n",
       "      <td>1.0</td>\n",
       "      <td>1.0</td>\n",
       "      <td>2.0</td>\n",
       "      <td>R</td>\n",
       "    </tr>\n",
       "    <tr>\n",
       "      <th>2</th>\n",
       "      <td>1.0</td>\n",
       "      <td>1.0</td>\n",
       "      <td>1.0</td>\n",
       "      <td>3.0</td>\n",
       "      <td>R</td>\n",
       "    </tr>\n",
       "    <tr>\n",
       "      <th>3</th>\n",
       "      <td>1.0</td>\n",
       "      <td>1.0</td>\n",
       "      <td>1.0</td>\n",
       "      <td>4.0</td>\n",
       "      <td>R</td>\n",
       "    </tr>\n",
       "    <tr>\n",
       "      <th>4</th>\n",
       "      <td>1.0</td>\n",
       "      <td>1.0</td>\n",
       "      <td>1.0</td>\n",
       "      <td>5.0</td>\n",
       "      <td>R</td>\n",
       "    </tr>\n",
       "    <tr>\n",
       "      <th>...</th>\n",
       "      <td>...</td>\n",
       "      <td>...</td>\n",
       "      <td>...</td>\n",
       "      <td>...</td>\n",
       "      <td>...</td>\n",
       "    </tr>\n",
       "    <tr>\n",
       "      <th>620</th>\n",
       "      <td>5.0</td>\n",
       "      <td>5.0</td>\n",
       "      <td>5.0</td>\n",
       "      <td>1.0</td>\n",
       "      <td>L</td>\n",
       "    </tr>\n",
       "    <tr>\n",
       "      <th>621</th>\n",
       "      <td>5.0</td>\n",
       "      <td>5.0</td>\n",
       "      <td>5.0</td>\n",
       "      <td>2.0</td>\n",
       "      <td>L</td>\n",
       "    </tr>\n",
       "    <tr>\n",
       "      <th>622</th>\n",
       "      <td>5.0</td>\n",
       "      <td>5.0</td>\n",
       "      <td>5.0</td>\n",
       "      <td>3.0</td>\n",
       "      <td>L</td>\n",
       "    </tr>\n",
       "    <tr>\n",
       "      <th>623</th>\n",
       "      <td>5.0</td>\n",
       "      <td>5.0</td>\n",
       "      <td>5.0</td>\n",
       "      <td>4.0</td>\n",
       "      <td>L</td>\n",
       "    </tr>\n",
       "    <tr>\n",
       "      <th>624</th>\n",
       "      <td>5.0</td>\n",
       "      <td>5.0</td>\n",
       "      <td>5.0</td>\n",
       "      <td>5.0</td>\n",
       "      <td>B</td>\n",
       "    </tr>\n",
       "  </tbody>\n",
       "</table>\n",
       "<p>625 rows × 5 columns</p>\n",
       "</div>"
      ],
      "text/plain": [
       "     left-weight  left-distance  right-weight  right-distance class\n",
       "0            1.0            1.0           1.0             1.0     B\n",
       "1            1.0            1.0           1.0             2.0     R\n",
       "2            1.0            1.0           1.0             3.0     R\n",
       "3            1.0            1.0           1.0             4.0     R\n",
       "4            1.0            1.0           1.0             5.0     R\n",
       "..           ...            ...           ...             ...   ...\n",
       "620          5.0            5.0           5.0             1.0     L\n",
       "621          5.0            5.0           5.0             2.0     L\n",
       "622          5.0            5.0           5.0             3.0     L\n",
       "623          5.0            5.0           5.0             4.0     L\n",
       "624          5.0            5.0           5.0             5.0     B\n",
       "\n",
       "[625 rows x 5 columns]"
      ]
     },
     "execution_count": 59,
     "metadata": {},
     "output_type": "execute_result"
    }
   ],
   "source": [
    "train"
   ]
  },
  {
   "cell_type": "code",
   "execution_count": 60,
   "metadata": {},
   "outputs": [
    {
     "name": "stdout",
     "output_type": "stream",
     "text": [
      "Rules original\n",
      "IF right-distance = (-inf, 2.50) AND left-weight = (-inf, 2.50) AND left-distance = (-inf, 2.50) AND right-weight = (-inf, 2.50) THEN class = {B} (p = 6.0, n = 10.0, P = 49.0, N = 576.0, weight = 0.18061977395124715, pvalue = 0.0007499248952481466)\n",
      "IF right-distance = (-inf, 2.50) AND left-weight = <1.50, 4.50) AND left-distance = (-inf, 2.50) AND right-weight = <1.50, 4.50) THEN class = {B} (p = 8.0, n = 28.0, P = 49.0, N = 576.0, weight = 0.0907679043839758, pvalue = 0.004434784254422619)\n",
      "IF left-weight = <1.50, 4.50) AND right-distance = <1.50, 4.50) AND left-distance = (-inf, 2.50) AND right-weight = (-inf, 2.50) THEN class = {B} (p = 8.0, n = 28.0, P = 49.0, N = 576.0, weight = 0.0907679043839758, pvalue = 0.004434784254422619)\n",
      "IF left-weight = (-inf, 2.50) AND right-distance = (-inf, 2.50) AND left-distance = <1.50, 4.50) AND right-weight = <1.50, 4.50) THEN class = {B} (p = 8.0, n = 28.0, P = 49.0, N = 576.0, weight = 0.0907679043839758, pvalue = 0.004434784254422619)\n",
      "IF left-weight = (-inf, 2.50) AND right-distance = <2.50, inf) AND left-distance = <2.50, inf) AND right-weight = (-inf, 2.50) THEN class = {B} (p = 6.0, n = 30.0, P = 49.0, N = 576.0, weight = 0.053751535336356765, pvalue = 0.053657480623010456)\n",
      "IF right-distance = <2.50, 4.50) AND left-weight = <2.50, 4.50) AND left-distance = <2.50, 4.50) AND right-weight = <2.50, 4.50) THEN class = {B} (p = 6.0, n = 10.0, P = 49.0, N = 576.0, weight = 0.18061977395124715, pvalue = 0.0007499248952481466)\n",
      "IF left-weight = <4.50, inf) AND right-distance = <2.50, inf) AND left-distance = <1.50, 4.50) AND right-weight = <1.50, inf) THEN class = {B} (p = 5.0, n = 31.0, P = 49.0, N = 576.0, weight = 0.03616602891156462, pvalue = 0.1420865714288501)\n",
      "IF left-weight = <1.50, 4.50) AND right-distance = <1.50, inf) AND left-distance = <4.50, inf) AND right-weight = <2.50, inf) THEN class = {B} (p = 5.0, n = 31.0, P = 49.0, N = 576.0, weight = 0.03616602891156462, pvalue = 0.1420865714288501)\n",
      "IF right-distance = <2.50, inf) AND left-distance = (-inf, 1.50) AND right-weight = <1.50, inf) THEN class = {R} (p = 60.0, n = 0.0, P = 288.0, N = 337.0, weight = 0.6041666666666666, pvalue = 1.6107926972609196e-22)\n",
      "IF right-distance = <2.50, inf) AND left-weight = (-inf, 3.50) AND left-distance = (-inf, 1.50) THEN class = {R} (p = 44.0, n = 1.0, P = 288.0, N = 337.0, weight = 0.5526339890830493, pvalue = 6.123086044349444e-15)\n",
      "IF right-distance = <1.50, inf) AND left-distance = (-inf, 1.50) AND right-weight = <2.50, inf) THEN class = {R} (p = 60.0, n = 0.0, P = 288.0, N = 337.0, weight = 0.6041666666666666, pvalue = 1.6107926972609196e-22)\n",
      "IF left-weight = (-inf, 3.50) AND left-distance = (-inf, 1.50) AND right-weight = <2.50, inf) THEN class = {R} (p = 44.0, n = 1.0, P = 288.0, N = 337.0, weight = 0.5526339890830493, pvalue = 6.123086044349444e-15)\n",
      "IF right-distance = <1.50, inf) AND left-weight = (-inf, 4.50) AND left-distance = (-inf, 1.50) THEN class = {R} (p = 73.0, n = 7.0, P = 288.0, N = 337.0, weight = 0.5250309743859216, pvalue = 1.0256749791499288e-19)\n",
      "IF left-weight = (-inf, 1.50) AND right-distance = <2.50, inf) AND right-weight = <1.50, inf) THEN class = {R} (p = 60.0, n = 0.0, P = 288.0, N = 337.0, weight = 0.6041666666666666, pvalue = 1.6107926972609196e-22)\n",
      "IF left-weight = (-inf, 1.50) AND right-distance = <2.50, inf) AND left-distance = (-inf, 3.50) THEN class = {R} (p = 44.0, n = 1.0, P = 288.0, N = 337.0, weight = 0.5526339890830493, pvalue = 6.123086044349444e-15)\n",
      "IF left-weight = (-inf, 1.50) AND right-distance = <1.50, inf) AND right-weight = <2.50, inf) THEN class = {R} (p = 60.0, n = 0.0, P = 288.0, N = 337.0, weight = 0.6041666666666666, pvalue = 1.6107926972609196e-22)\n",
      "IF left-weight = (-inf, 1.50) AND left-distance = (-inf, 3.50) AND right-weight = <2.50, inf) THEN class = {R} (p = 44.0, n = 1.0, P = 288.0, N = 337.0, weight = 0.5526339890830493, pvalue = 6.123086044349444e-15)\n",
      "IF left-weight = (-inf, 1.50) AND left-distance = (-inf, 4.50) THEN class = {R} (p = 83.0, n = 17.0, P = 288.0, N = 337.0, weight = 0.44102502678865807, pvalue = 1.4020816331272523e-16)\n",
      "IF right-distance = <2.50, inf) AND left-distance = (-inf, 2.50) AND right-weight = <2.50, inf) THEN class = {R} (p = 89.0, n = 1.0, P = 288.0, N = 337.0, weight = 0.6410265436678022, pvalue = 1.1040887865598233e-32)\n",
      "IF right-distance = <2.50, inf) AND left-weight = (-inf, 4.50) AND left-distance = (-inf, 2.50) AND right-weight = <1.50, inf) THEN class = {R} (p = 93.0, n = 3.0, P = 288.0, N = 337.0, weight = 0.6231227010694856, pvalue = 1.33261282797143e-31)\n",
      "IF right-distance = <1.50, inf) AND left-weight = (-inf, 4.50) AND left-distance = (-inf, 2.50) AND right-weight = <2.50, inf) THEN class = {R} (p = 93.0, n = 3.0, P = 288.0, N = 337.0, weight = 0.6231227010694856, pvalue = 1.33261282797143e-31)\n",
      "IF left-weight = (-inf, 2.50) AND right-distance = <2.50, inf) AND right-weight = <2.50, inf) THEN class = {R} (p = 89.0, n = 1.0, P = 288.0, N = 337.0, weight = 0.6410265436678022, pvalue = 1.1040887865598233e-32)\n",
      "IF left-weight = (-inf, 2.50) AND right-distance = <1.50, inf) AND left-distance = (-inf, 4.50) AND right-weight = <1.50, inf) THEN class = {R} (p = 118.0, n = 10.0, P = 288.0, N = 337.0, weight = 0.6027333768649028, pvalue = 6.210683326516766e-35)\n",
      "IF right-distance = <4.50, inf) AND left-distance = (-inf, 4.50) AND right-weight = <4.50, inf) THEN class = {R} (p = 20.0, n = 0.0, P = 288.0, N = 337.0, weight = 0.5347222222222222, pvalue = 1.2896194113566907e-07)\n",
      "IF right-distance = <4.50, inf) AND left-distance = (-inf, 4.50) AND right-weight = <3.50, inf) THEN class = {R} (p = 39.0, n = 1.0, P = 288.0, N = 337.0, weight = 0.5413865448813057, pvalue = 3.9968884221063155e-13)\n",
      "IF right-distance = <4.50, inf) AND left-weight = (-inf, 4.50) AND right-weight = <2.50, inf) THEN class = {R} (p = 56.0, n = 4.0, P = 288.0, N = 337.0, weight = 0.523381690295637, pvalue = 3.703715800916643e-16)\n",
      "IF right-distance = <3.50, inf) AND left-distance = (-inf, 4.50) AND right-weight = <4.50, inf) THEN class = {R} (p = 39.0, n = 1.0, P = 288.0, N = 337.0, weight = 0.5413865448813057, pvalue = 3.9968884221063155e-13)\n",
      "IF left-weight = (-inf, 4.50) AND left-distance = (-inf, 3.50) AND right-weight = <4.50, inf) THEN class = {R} (p = 54.0, n = 6.0, P = 288.0, N = 337.0, weight = 0.4836331602373887, pvalue = 7.940961663514409e-14)\n",
      "IF right-distance = <3.50, inf) AND left-weight = (-inf, 4.50) AND right-weight = <3.50, inf) THEN class = {R} (p = 76.0, n = 4.0, P = 288.0, N = 337.0, weight = 0.5733442548631718, pvalue = 1.3277809567161965e-23)\n",
      "IF right-distance = <2.50, inf) AND left-distance = (-inf, 3.50) THEN class = {R} (p = 170.0, n = 55.0, P = 288.0, N = 337.0, weight = 0.4346654394255779, pvalue = 2.4900039275394953e-29)\n",
      "IF right-distance = (-inf, 1.50) AND left-weight = <1.50, inf) AND left-distance = <2.50, inf) THEN class = {L} (p = 60.0, n = 0.0, P = 288.0, N = 337.0, weight = 0.6041666666666666, pvalue = 1.6107926972609196e-22)\n",
      "IF right-distance = (-inf, 1.50) AND left-distance = <2.50, inf) AND right-weight = (-inf, 3.50) THEN class = {L} (p = 44.0, n = 1.0, P = 288.0, N = 337.0, weight = 0.5526339890830493, pvalue = 6.123086044349444e-15)\n",
      "IF right-distance = (-inf, 1.50) AND left-weight = <2.50, inf) AND left-distance = <1.50, inf) THEN class = {L} (p = 60.0, n = 0.0, P = 288.0, N = 337.0, weight = 0.6041666666666666, pvalue = 1.6107926972609196e-22)\n",
      "IF right-distance = (-inf, 1.50) AND left-weight = <2.50, inf) AND right-weight = (-inf, 3.50) THEN class = {L} (p = 44.0, n = 1.0, P = 288.0, N = 337.0, weight = 0.5526339890830493, pvalue = 6.123086044349444e-15)\n",
      "IF right-distance = (-inf, 1.50) AND left-distance = <1.50, inf) AND right-weight = (-inf, 4.50) THEN class = {L} (p = 73.0, n = 7.0, P = 288.0, N = 337.0, weight = 0.5250309743859216, pvalue = 1.0256749791499288e-19)\n",
      "IF left-weight = <1.50, inf) AND left-distance = <2.50, inf) AND right-weight = (-inf, 1.50) THEN class = {L} (p = 60.0, n = 0.0, P = 288.0, N = 337.0, weight = 0.6041666666666666, pvalue = 1.6107926972609196e-22)\n",
      "IF right-distance = (-inf, 3.50) AND left-distance = <2.50, inf) AND right-weight = (-inf, 1.50) THEN class = {L} (p = 44.0, n = 1.0, P = 288.0, N = 337.0, weight = 0.5526339890830493, pvalue = 6.123086044349444e-15)\n",
      "IF left-weight = <2.50, inf) AND left-distance = <1.50, inf) AND right-weight = (-inf, 1.50) THEN class = {L} (p = 60.0, n = 0.0, P = 288.0, N = 337.0, weight = 0.6041666666666666, pvalue = 1.6107926972609196e-22)\n",
      "IF left-weight = <2.50, inf) AND right-distance = (-inf, 3.50) AND right-weight = (-inf, 1.50) THEN class = {L} (p = 44.0, n = 1.0, P = 288.0, N = 337.0, weight = 0.5526339890830493, pvalue = 6.123086044349444e-15)\n",
      "IF right-distance = (-inf, 4.50) AND right-weight = (-inf, 1.50) THEN class = {L} (p = 83.0, n = 17.0, P = 288.0, N = 337.0, weight = 0.44102502678865807, pvalue = 1.4020816331272523e-16)\n",
      "IF right-distance = (-inf, 2.50) AND left-weight = <2.50, inf) AND left-distance = <2.50, inf) THEN class = {L} (p = 89.0, n = 1.0, P = 288.0, N = 337.0, weight = 0.6410265436678022, pvalue = 1.1040887865598233e-32)\n",
      "IF right-distance = (-inf, 2.50) AND left-weight = <1.50, inf) AND left-distance = <2.50, inf) AND right-weight = (-inf, 4.50) THEN class = {L} (p = 93.0, n = 3.0, P = 288.0, N = 337.0, weight = 0.6231227010694856, pvalue = 1.33261282797143e-31)\n",
      "IF right-distance = (-inf, 2.50) AND left-weight = <2.50, inf) AND left-distance = <1.50, inf) AND right-weight = (-inf, 4.50) THEN class = {L} (p = 93.0, n = 3.0, P = 288.0, N = 337.0, weight = 0.6231227010694856, pvalue = 1.33261282797143e-31)\n",
      "IF left-weight = <2.50, inf) AND left-distance = <2.50, inf) AND right-weight = (-inf, 2.50) THEN class = {L} (p = 89.0, n = 1.0, P = 288.0, N = 337.0, weight = 0.6410265436678022, pvalue = 1.1040887865598233e-32)\n",
      "IF left-weight = <1.50, inf) AND right-distance = (-inf, 4.50) AND left-distance = <1.50, inf) AND right-weight = (-inf, 2.50) THEN class = {L} (p = 118.0, n = 10.0, P = 288.0, N = 337.0, weight = 0.6027333768649028, pvalue = 6.210683326516766e-35)\n",
      "IF left-weight = <4.50, inf) AND right-distance = (-inf, 4.50) AND left-distance = <4.50, inf) THEN class = {L} (p = 20.0, n = 0.0, P = 288.0, N = 337.0, weight = 0.5347222222222222, pvalue = 1.2896194113566907e-07)\n",
      "IF left-weight = <3.50, inf) AND right-distance = (-inf, 4.50) AND left-distance = <4.50, inf) THEN class = {L} (p = 39.0, n = 1.0, P = 288.0, N = 337.0, weight = 0.5413865448813057, pvalue = 3.9968884221063155e-13)\n",
      "IF left-weight = <2.50, inf) AND left-distance = <4.50, inf) AND right-weight = (-inf, 4.50) THEN class = {L} (p = 56.0, n = 4.0, P = 288.0, N = 337.0, weight = 0.523381690295637, pvalue = 3.703715800916643e-16)\n",
      "IF left-weight = <4.50, inf) AND right-distance = (-inf, 4.50) AND left-distance = <3.50, inf) THEN class = {L} (p = 39.0, n = 1.0, P = 288.0, N = 337.0, weight = 0.5413865448813057, pvalue = 3.9968884221063155e-13)\n",
      "IF left-weight = <4.50, inf) AND right-distance = (-inf, 3.50) AND right-weight = (-inf, 4.50) THEN class = {L} (p = 54.0, n = 6.0, P = 288.0, N = 337.0, weight = 0.4836331602373887, pvalue = 7.940961663514409e-14)\n",
      "IF left-weight = <3.50, inf) AND left-distance = <3.50, inf) AND right-weight = (-inf, 4.50) THEN class = {L} (p = 76.0, n = 4.0, P = 288.0, N = 337.0, weight = 0.5733442548631718, pvalue = 1.3277809567161965e-23)\n",
      "IF right-distance = (-inf, 3.50) AND left-distance = <2.50, inf) THEN class = {L} (p = 170.0, n = 55.0, P = 288.0, N = 337.0, weight = 0.4346654394255779, pvalue = 2.4900039275394953e-29)\n",
      "\n",
      "\n",
      "Complex rules\n",
      "IF left-distance = right-distance AND left-weight = right-weight THEN class = {B} (p = 25.0, n = 0.0, P = 49.0, N = 576.0, weight = 0.7551020408163265, pvalue = 2.0213367172641366e-31)\n",
      "IF left-distance = right-weight AND left-weight = right-distance THEN class = {B} (p = 25.0, n = 0.0, P = 49.0, N = 576.0, weight = 0.7551020408163265, pvalue = 2.0213367172641366e-31)\n",
      "IF left-distance < right-distance AND left-distance < right-weight THEN class = {R} (p = 147.0, n = 3.0, P = 288.0, N = 337.0, weight = 0.7271961547972304, pvalue = 9.816838509212715e-57)\n",
      "IF left-distance < right-distance AND left-distance = (-inf, 3.50) AND right-weight = <2.50, inf) THEN class = {R} (p = 131.0, n = 4.0, P = 288.0, N = 337.0, weight = 0.6874574510629985, pvalue = 2.325269529863142e-47)\n",
      "IF left-distance < right-distance AND right-weight = <2.50, inf) THEN class = {R} (p = 143.0, n = 7.0, P = 288.0, N = 337.0, weight = 0.6835031665567646, pvalue = 1.5293288355261104e-49)\n",
      "IF left-distance < right-distance AND left-weight < right-weight THEN class = {R} (p = 100.0, n = 0.0, P = 288.0, N = 337.0, weight = 0.6736111111111112, pvalue = 2.996990806858016e-39)\n",
      "IF left-weight < right-distance AND left-distance = (-inf, 3.50) AND right-weight = <1.50, inf) THEN class = {R} (p = 117.0, n = 3.0, P = 288.0, N = 337.0, weight = 0.6705246198071216, pvalue = 4.005641251035277e-42)\n",
      "IF left-distance < right-distance AND left-weight < right-distance AND left-weight = (-inf, 2.50) THEN class = {R} (p = 90.0, n = 5.0, P = 288.0, N = 337.0, weight = 0.5921931126034671, pvalue = 4.226916435681592e-28)\n",
      "IF left-distance < right-weight AND right-distance = <2.50, inf) THEN class = {R} (p = 143.0, n = 7.0, P = 288.0, N = 337.0, weight = 0.6835031665567646, pvalue = 1.5293288355261104e-49)\n",
      "IF left-weight < right-weight AND right-distance = <1.50, inf) AND left-distance = (-inf, 3.50) THEN class = {R} (p = 117.0, n = 3.0, P = 288.0, N = 337.0, weight = 0.6705246198071216, pvalue = 4.005641251035277e-42)\n",
      "IF left-distance < right-weight AND left-weight < right-weight AND left-weight = (-inf, 2.50) THEN class = {R} (p = 90.0, n = 5.0, P = 288.0, N = 337.0, weight = 0.5921931126034671, pvalue = 4.226916435681592e-28)\n",
      "IF left-weight < right-distance AND left-weight < right-weight THEN class = {R} (p = 147.0, n = 3.0, P = 288.0, N = 337.0, weight = 0.7271961547972304, pvalue = 9.816838509212715e-57)\n",
      "IF left-weight = (-inf, 4.50) AND left-distance = (-inf, 1.50) THEN class = {R} (p = 83.0, n = 17.0, P = 288.0, N = 337.0, weight = 0.44102502678865807, pvalue = 1.4020816331272523e-16)\n",
      "IF left-distance > right-distance AND left-weight > right-distance THEN class = {L} (p = 147.0, n = 3.0, P = 288.0, N = 337.0, weight = 0.7271961547972304, pvalue = 9.816838509212715e-57)\n",
      "IF left-distance > right-distance AND left-weight = <2.50, inf) AND right-distance = (-inf, 3.50) THEN class = {L} (p = 131.0, n = 4.0, P = 288.0, N = 337.0, weight = 0.6874574510629985, pvalue = 2.325269529863142e-47)\n",
      "IF left-distance > right-distance AND left-weight = <2.50, inf) THEN class = {L} (p = 143.0, n = 7.0, P = 288.0, N = 337.0, weight = 0.6835031665567646, pvalue = 1.5293288355261104e-49)\n",
      "IF left-distance > right-distance AND left-weight > right-weight THEN class = {L} (p = 100.0, n = 0.0, P = 288.0, N = 337.0, weight = 0.6736111111111112, pvalue = 2.996990806858016e-39)\n",
      "IF left-distance > right-weight AND left-weight = <1.50, inf) AND right-distance = (-inf, 3.50) THEN class = {L} (p = 117.0, n = 3.0, P = 288.0, N = 337.0, weight = 0.6705246198071216, pvalue = 4.005641251035277e-42)\n",
      "IF left-distance > right-distance AND left-distance > right-weight AND right-weight = (-inf, 2.50) THEN class = {L} (p = 90.0, n = 5.0, P = 288.0, N = 337.0, weight = 0.5921931126034671, pvalue = 4.226916435681592e-28)\n",
      "IF left-distance > right-weight AND left-weight > right-weight THEN class = {L} (p = 147.0, n = 3.0, P = 288.0, N = 337.0, weight = 0.7271961547972304, pvalue = 9.816838509212715e-57)\n",
      "IF left-weight > right-weight AND left-distance = <2.50, inf) THEN class = {L} (p = 143.0, n = 7.0, P = 288.0, N = 337.0, weight = 0.6835031665567646, pvalue = 1.5293288355261104e-49)\n",
      "IF left-weight > right-weight AND right-distance = (-inf, 3.50) AND left-distance = <1.50, inf) THEN class = {L} (p = 117.0, n = 3.0, P = 288.0, N = 337.0, weight = 0.6705246198071216, pvalue = 4.005641251035277e-42)\n",
      "IF left-weight > right-distance AND left-weight > right-weight AND right-weight = (-inf, 2.50) THEN class = {L} (p = 90.0, n = 5.0, P = 288.0, N = 337.0, weight = 0.5921931126034671, pvalue = 4.226916435681592e-28)\n",
      "IF right-distance = (-inf, 1.50) AND right-weight = (-inf, 4.50) THEN class = {L} (p = 83.0, n = 17.0, P = 288.0, N = 337.0, weight = 0.44102502678865807, pvalue = 1.4020816331272523e-16)\n",
      "\n",
      "\n",
      "Complex rules + inners alternatives\n",
      "IF left-distance = right-distance AND left-weight = right-weight THEN class = {B} (p = 25.0, n = 0.0, P = 49.0, N = 576.0, weight = 0.7551020408163265, pvalue = 2.0213367172641366e-31)\n",
      "IF left-distance = right-weight AND left-weight = right-distance THEN class = {B} (p = 25.0, n = 0.0, P = 49.0, N = 576.0, weight = 0.7551020408163265, pvalue = 2.0213367172641366e-31)\n",
      "IF left-distance < right-distance AND left-distance < right-weight THEN class = {R} (p = 147.0, n = 3.0, P = 288.0, N = 337.0, weight = 0.7271961547972304, pvalue = 9.816838509212715e-57)\n",
      "IF left-distance < right-distance AND left-distance = (-inf, 3.50) AND right-weight = <2.50, inf) THEN class = {R} (p = 131.0, n = 4.0, P = 288.0, N = 337.0, weight = 0.6874574510629985, pvalue = 2.325269529863142e-47)\n",
      "IF left-distance < right-distance AND right-weight = <2.50, inf) THEN class = {R} (p = 143.0, n = 7.0, P = 288.0, N = 337.0, weight = 0.6835031665567646, pvalue = 1.5293288355261104e-49)\n",
      "IF left-distance < right-distance AND #(left-weight < right-weight OR left-weight = (-inf, 1.50)) THEN class = {R} (p = 110.0, n = 0.0, P = 288.0, N = 337.0, weight = 0.6909722222222222, pvalue = 8.879177530253386e-44)\n",
      "IF left-distance < right-distance AND #(right-weight = <1.50, 4)) AND #(left-weight = (-inf, 2.50)) THEN class = {R} (p = 117.0, n = 3.0, P = 288.0, N = 337.0, weight = 0.6705246198071216, pvalue = 4.005641251035277e-42)\n",
      "IF left-distance < right-distance AND left-weight < right-distance AND #(left-distance = (-inf, 1.50)) THEN class = {R} (p = 90.0, n = 5.0, P = 288.0, N = 337.0, weight = 0.5921931126034671, pvalue = 4.226916435681592e-28)\n",
      "IF left-distance < right-weight AND right-distance = <2.50, inf) AND left-distance = (-inf, 3.50) THEN class = {R} (p = 131.0, n = 4.0, P = 288.0, N = 337.0, weight = 0.6874574510629985, pvalue = 2.325269529863142e-47)\n",
      "IF left-distance < right-weight AND right-distance = <2.50, inf) THEN class = {R} (p = 143.0, n = 7.0, P = 288.0, N = 337.0, weight = 0.6835031665567646, pvalue = 1.5293288355261104e-49)\n",
      "IF left-distance < right-weight AND #(left-weight < right-distance OR left-weight = (-inf, 1.50)) THEN class = {R} (p = 110.0, n = 0.0, P = 288.0, N = 337.0, weight = 0.6909722222222222, pvalue = 8.879177530253386e-44)\n",
      "IF left-distance < right-weight AND #(right-distance = <1.50, 4)) AND #(left-weight = (-inf, 2.50)) THEN class = {R} (p = 117.0, n = 3.0, P = 288.0, N = 337.0, weight = 0.6705246198071216, pvalue = 4.005641251035277e-42)\n",
      "IF left-distance < right-weight AND left-weight < right-weight AND #(left-distance = (-inf, 1.50)) THEN class = {R} (p = 90.0, n = 5.0, P = 288.0, N = 337.0, weight = 0.5921931126034671, pvalue = 4.226916435681592e-28)\n",
      "IF left-weight < right-distance AND left-weight < right-weight THEN class = {R} (p = 147.0, n = 3.0, P = 288.0, N = 337.0, weight = 0.7271961547972304, pvalue = 9.816838509212715e-57)\n",
      "IF left-distance > right-distance AND left-weight > right-distance THEN class = {L} (p = 147.0, n = 3.0, P = 288.0, N = 337.0, weight = 0.7271961547972304, pvalue = 9.816838509212715e-57)\n",
      "IF left-distance > right-distance AND left-weight = <2.50, inf) AND right-distance = (-inf, 3.50) THEN class = {L} (p = 131.0, n = 4.0, P = 288.0, N = 337.0, weight = 0.6874574510629985, pvalue = 2.325269529863142e-47)\n",
      "IF left-distance > right-distance AND left-weight = <2.50, inf) THEN class = {L} (p = 143.0, n = 7.0, P = 288.0, N = 337.0, weight = 0.6835031665567646, pvalue = 1.5293288355261104e-49)\n",
      "IF left-distance > right-distance AND left-weight > right-weight THEN class = {L} (p = 100.0, n = 0.0, P = 288.0, N = 337.0, weight = 0.6736111111111112, pvalue = 2.996990806858016e-39)\n",
      "IF left-distance > right-distance AND #(left-weight = <1.50, 4)) AND #(right-weight = (-inf, 2.50)) THEN class = {L} (p = 117.0, n = 3.0, P = 288.0, N = 337.0, weight = 0.6705246198071216, pvalue = 4.005641251035277e-42)\n",
      "IF left-distance > right-distance AND #(right-weight = (-inf, 1.50)) AND left-distance > right-weight THEN class = {L} (p = 90.0, n = 5.0, P = 288.0, N = 337.0, weight = 0.5921931126034671, pvalue = 4.226916435681592e-28)\n",
      "IF left-distance > right-weight AND left-weight > right-weight THEN class = {L} (p = 147.0, n = 3.0, P = 288.0, N = 337.0, weight = 0.7271961547972304, pvalue = 9.816838509212715e-57)\n",
      "IF left-weight > right-weight AND left-distance = <2.50, inf) THEN class = {L} (p = 143.0, n = 7.0, P = 288.0, N = 337.0, weight = 0.6835031665567646, pvalue = 1.5293288355261104e-49)\n",
      "IF left-weight > right-distance AND #(left-distance = <1.50, 4)) AND #(right-weight = (-inf, 2.50)) THEN class = {L} (p = 117.0, n = 3.0, P = 288.0, N = 337.0, weight = 0.6705246198071216, pvalue = 4.005641251035277e-42)\n",
      "IF left-weight > right-distance AND #(right-weight = (-inf, 1.50)) AND left-weight > right-weight THEN class = {L} (p = 90.0, n = 5.0, P = 288.0, N = 337.0, weight = 0.5921931126034671, pvalue = 4.226916435681592e-28)\n",
      "IF right-distance = (-inf, 1.50) AND right-weight = (-inf, 4.50) THEN class = {L} (p = 83.0, n = 17.0, P = 288.0, N = 337.0, weight = 0.44102502678865807, pvalue = 1.4020816331272523e-16)\n"
     ]
    }
   ],
   "source": [
    "X = train.drop(['class'], axis=1)\n",
    "y = train['class']\n",
    "\n",
    "clf_simple.fit(X, y)\n",
    "\n",
    "print(\"Rules original\")\n",
    "for rule in clf_simple.model.rules:\n",
    "    print(rule, rule.stats)\n",
    "\n",
    "print(\"\\n\\nComplex rules\")\n",
    "clf_complex.fit(X, y)\n",
    "for rule in clf_complex.model.rules:\n",
    "    print(rule, rule.stats)\n",
    "\n",
    "print(\"\\n\\nComplex rules + inners alternatives\")\n",
    "clf_complex_with_inners.fit(X, y)\n",
    "for rule in clf_complex_with_inners.model.rules:\n",
    "    print(rule, rule.stats)"
   ]
  },
  {
   "attachments": {},
   "cell_type": "markdown",
   "metadata": {},
   "source": [
    "# flag"
   ]
  },
  {
   "cell_type": "code",
   "execution_count": 61,
   "metadata": {},
   "outputs": [],
   "source": [
    "train = pd.read_parquet(\"./data/flag.parquet\")"
   ]
  },
  {
   "cell_type": "code",
   "execution_count": 62,
   "metadata": {},
   "outputs": [
    {
     "data": {
      "text/html": [
       "<div>\n",
       "<style scoped>\n",
       "    .dataframe tbody tr th:only-of-type {\n",
       "        vertical-align: middle;\n",
       "    }\n",
       "\n",
       "    .dataframe tbody tr th {\n",
       "        vertical-align: top;\n",
       "    }\n",
       "\n",
       "    .dataframe thead th {\n",
       "        text-align: right;\n",
       "    }\n",
       "</style>\n",
       "<table border=\"1\" class=\"dataframe\">\n",
       "  <thead>\n",
       "    <tr style=\"text-align: right;\">\n",
       "      <th></th>\n",
       "      <th>landmass</th>\n",
       "      <th>botright</th>\n",
       "      <th>area</th>\n",
       "      <th>population</th>\n",
       "      <th>language</th>\n",
       "      <th>religion</th>\n",
       "      <th>bars</th>\n",
       "      <th>stripes</th>\n",
       "      <th>colours</th>\n",
       "      <th>red</th>\n",
       "      <th>...</th>\n",
       "      <th>saltires</th>\n",
       "      <th>quarters</th>\n",
       "      <th>sunstars</th>\n",
       "      <th>crescent</th>\n",
       "      <th>triangle</th>\n",
       "      <th>icon</th>\n",
       "      <th>animate</th>\n",
       "      <th>text</th>\n",
       "      <th>topleft</th>\n",
       "      <th>class</th>\n",
       "    </tr>\n",
       "  </thead>\n",
       "  <tbody>\n",
       "    <tr>\n",
       "      <th>0</th>\n",
       "      <td>5</td>\n",
       "      <td>green</td>\n",
       "      <td>648.0</td>\n",
       "      <td>16.0</td>\n",
       "      <td>10</td>\n",
       "      <td>2</td>\n",
       "      <td>0.0</td>\n",
       "      <td>3.0</td>\n",
       "      <td>5.0</td>\n",
       "      <td>1</td>\n",
       "      <td>...</td>\n",
       "      <td>0.0</td>\n",
       "      <td>0.0</td>\n",
       "      <td>1.0</td>\n",
       "      <td>0</td>\n",
       "      <td>0</td>\n",
       "      <td>1</td>\n",
       "      <td>0</td>\n",
       "      <td>0</td>\n",
       "      <td>black</td>\n",
       "      <td>1</td>\n",
       "    </tr>\n",
       "    <tr>\n",
       "      <th>1</th>\n",
       "      <td>3</td>\n",
       "      <td>red</td>\n",
       "      <td>29.0</td>\n",
       "      <td>3.0</td>\n",
       "      <td>6</td>\n",
       "      <td>6</td>\n",
       "      <td>0.0</td>\n",
       "      <td>0.0</td>\n",
       "      <td>3.0</td>\n",
       "      <td>1</td>\n",
       "      <td>...</td>\n",
       "      <td>0.0</td>\n",
       "      <td>0.0</td>\n",
       "      <td>1.0</td>\n",
       "      <td>0</td>\n",
       "      <td>0</td>\n",
       "      <td>0</td>\n",
       "      <td>1</td>\n",
       "      <td>0</td>\n",
       "      <td>red</td>\n",
       "      <td>1</td>\n",
       "    </tr>\n",
       "    <tr>\n",
       "      <th>2</th>\n",
       "      <td>4</td>\n",
       "      <td>white</td>\n",
       "      <td>2388.0</td>\n",
       "      <td>20.0</td>\n",
       "      <td>8</td>\n",
       "      <td>2</td>\n",
       "      <td>2.0</td>\n",
       "      <td>0.0</td>\n",
       "      <td>3.0</td>\n",
       "      <td>1</td>\n",
       "      <td>...</td>\n",
       "      <td>0.0</td>\n",
       "      <td>0.0</td>\n",
       "      <td>1.0</td>\n",
       "      <td>1</td>\n",
       "      <td>0</td>\n",
       "      <td>0</td>\n",
       "      <td>0</td>\n",
       "      <td>0</td>\n",
       "      <td>green</td>\n",
       "      <td>1</td>\n",
       "    </tr>\n",
       "    <tr>\n",
       "      <th>3</th>\n",
       "      <td>6</td>\n",
       "      <td>red</td>\n",
       "      <td>0.0</td>\n",
       "      <td>0.0</td>\n",
       "      <td>1</td>\n",
       "      <td>1</td>\n",
       "      <td>0.0</td>\n",
       "      <td>0.0</td>\n",
       "      <td>5.0</td>\n",
       "      <td>1</td>\n",
       "      <td>...</td>\n",
       "      <td>0.0</td>\n",
       "      <td>0.0</td>\n",
       "      <td>0.0</td>\n",
       "      <td>0</td>\n",
       "      <td>1</td>\n",
       "      <td>1</td>\n",
       "      <td>1</td>\n",
       "      <td>0</td>\n",
       "      <td>blue</td>\n",
       "      <td>3</td>\n",
       "    </tr>\n",
       "    <tr>\n",
       "      <th>4</th>\n",
       "      <td>3</td>\n",
       "      <td>red</td>\n",
       "      <td>0.0</td>\n",
       "      <td>0.0</td>\n",
       "      <td>6</td>\n",
       "      <td>0</td>\n",
       "      <td>3.0</td>\n",
       "      <td>0.0</td>\n",
       "      <td>3.0</td>\n",
       "      <td>1</td>\n",
       "      <td>...</td>\n",
       "      <td>0.0</td>\n",
       "      <td>0.0</td>\n",
       "      <td>0.0</td>\n",
       "      <td>0</td>\n",
       "      <td>0</td>\n",
       "      <td>0</td>\n",
       "      <td>0</td>\n",
       "      <td>0</td>\n",
       "      <td>blue</td>\n",
       "      <td>1</td>\n",
       "    </tr>\n",
       "    <tr>\n",
       "      <th>...</th>\n",
       "      <td>...</td>\n",
       "      <td>...</td>\n",
       "      <td>...</td>\n",
       "      <td>...</td>\n",
       "      <td>...</td>\n",
       "      <td>...</td>\n",
       "      <td>...</td>\n",
       "      <td>...</td>\n",
       "      <td>...</td>\n",
       "      <td>...</td>\n",
       "      <td>...</td>\n",
       "      <td>...</td>\n",
       "      <td>...</td>\n",
       "      <td>...</td>\n",
       "      <td>...</td>\n",
       "      <td>...</td>\n",
       "      <td>...</td>\n",
       "      <td>...</td>\n",
       "      <td>...</td>\n",
       "      <td>...</td>\n",
       "      <td>...</td>\n",
       "    </tr>\n",
       "    <tr>\n",
       "      <th>189</th>\n",
       "      <td>6</td>\n",
       "      <td>red</td>\n",
       "      <td>3.0</td>\n",
       "      <td>0.0</td>\n",
       "      <td>1</td>\n",
       "      <td>1</td>\n",
       "      <td>0.0</td>\n",
       "      <td>0.0</td>\n",
       "      <td>3.0</td>\n",
       "      <td>1</td>\n",
       "      <td>...</td>\n",
       "      <td>0.0</td>\n",
       "      <td>1.0</td>\n",
       "      <td>5.0</td>\n",
       "      <td>0</td>\n",
       "      <td>0</td>\n",
       "      <td>0</td>\n",
       "      <td>0</td>\n",
       "      <td>0</td>\n",
       "      <td>blue</td>\n",
       "      <td>3</td>\n",
       "    </tr>\n",
       "    <tr>\n",
       "      <th>190</th>\n",
       "      <td>3</td>\n",
       "      <td>red</td>\n",
       "      <td>256.0</td>\n",
       "      <td>22.0</td>\n",
       "      <td>6</td>\n",
       "      <td>6</td>\n",
       "      <td>0.0</td>\n",
       "      <td>3.0</td>\n",
       "      <td>4.0</td>\n",
       "      <td>1</td>\n",
       "      <td>...</td>\n",
       "      <td>0.0</td>\n",
       "      <td>0.0</td>\n",
       "      <td>1.0</td>\n",
       "      <td>0</td>\n",
       "      <td>0</td>\n",
       "      <td>0</td>\n",
       "      <td>0</td>\n",
       "      <td>0</td>\n",
       "      <td>blue</td>\n",
       "      <td>1</td>\n",
       "    </tr>\n",
       "    <tr>\n",
       "      <th>191</th>\n",
       "      <td>4</td>\n",
       "      <td>green</td>\n",
       "      <td>905.0</td>\n",
       "      <td>28.0</td>\n",
       "      <td>10</td>\n",
       "      <td>5</td>\n",
       "      <td>0.0</td>\n",
       "      <td>0.0</td>\n",
       "      <td>4.0</td>\n",
       "      <td>1</td>\n",
       "      <td>...</td>\n",
       "      <td>0.0</td>\n",
       "      <td>0.0</td>\n",
       "      <td>0.0</td>\n",
       "      <td>0</td>\n",
       "      <td>0</td>\n",
       "      <td>1</td>\n",
       "      <td>1</td>\n",
       "      <td>0</td>\n",
       "      <td>green</td>\n",
       "      <td>2</td>\n",
       "    </tr>\n",
       "    <tr>\n",
       "      <th>192</th>\n",
       "      <td>4</td>\n",
       "      <td>brown</td>\n",
       "      <td>753.0</td>\n",
       "      <td>6.0</td>\n",
       "      <td>10</td>\n",
       "      <td>5</td>\n",
       "      <td>3.0</td>\n",
       "      <td>0.0</td>\n",
       "      <td>4.0</td>\n",
       "      <td>1</td>\n",
       "      <td>...</td>\n",
       "      <td>0.0</td>\n",
       "      <td>0.0</td>\n",
       "      <td>0.0</td>\n",
       "      <td>0</td>\n",
       "      <td>0</td>\n",
       "      <td>0</td>\n",
       "      <td>1</td>\n",
       "      <td>0</td>\n",
       "      <td>green</td>\n",
       "      <td>2</td>\n",
       "    </tr>\n",
       "    <tr>\n",
       "      <th>193</th>\n",
       "      <td>4</td>\n",
       "      <td>green</td>\n",
       "      <td>391.0</td>\n",
       "      <td>8.0</td>\n",
       "      <td>10</td>\n",
       "      <td>5</td>\n",
       "      <td>0.0</td>\n",
       "      <td>7.0</td>\n",
       "      <td>5.0</td>\n",
       "      <td>1</td>\n",
       "      <td>...</td>\n",
       "      <td>0.0</td>\n",
       "      <td>0.0</td>\n",
       "      <td>1.0</td>\n",
       "      <td>0</td>\n",
       "      <td>1</td>\n",
       "      <td>1</td>\n",
       "      <td>1</td>\n",
       "      <td>0</td>\n",
       "      <td>green</td>\n",
       "      <td>2</td>\n",
       "    </tr>\n",
       "  </tbody>\n",
       "</table>\n",
       "<p>194 rows × 29 columns</p>\n",
       "</div>"
      ],
      "text/plain": [
       "    landmass botright    area  population language religion  bars  stripes  \\\n",
       "0          5    green   648.0        16.0       10        2   0.0      3.0   \n",
       "1          3      red    29.0         3.0        6        6   0.0      0.0   \n",
       "2          4    white  2388.0        20.0        8        2   2.0      0.0   \n",
       "3          6      red     0.0         0.0        1        1   0.0      0.0   \n",
       "4          3      red     0.0         0.0        6        0   3.0      0.0   \n",
       "..       ...      ...     ...         ...      ...      ...   ...      ...   \n",
       "189        6      red     3.0         0.0        1        1   0.0      0.0   \n",
       "190        3      red   256.0        22.0        6        6   0.0      3.0   \n",
       "191        4    green   905.0        28.0       10        5   0.0      0.0   \n",
       "192        4    brown   753.0         6.0       10        5   3.0      0.0   \n",
       "193        4    green   391.0         8.0       10        5   0.0      7.0   \n",
       "\n",
       "     colours red  ... saltires quarters sunstars crescent triangle icon  \\\n",
       "0        5.0   1  ...      0.0      0.0      1.0        0        0    1   \n",
       "1        3.0   1  ...      0.0      0.0      1.0        0        0    0   \n",
       "2        3.0   1  ...      0.0      0.0      1.0        1        0    0   \n",
       "3        5.0   1  ...      0.0      0.0      0.0        0        1    1   \n",
       "4        3.0   1  ...      0.0      0.0      0.0        0        0    0   \n",
       "..       ...  ..  ...      ...      ...      ...      ...      ...  ...   \n",
       "189      3.0   1  ...      0.0      1.0      5.0        0        0    0   \n",
       "190      4.0   1  ...      0.0      0.0      1.0        0        0    0   \n",
       "191      4.0   1  ...      0.0      0.0      0.0        0        0    1   \n",
       "192      4.0   1  ...      0.0      0.0      0.0        0        0    0   \n",
       "193      5.0   1  ...      0.0      0.0      1.0        0        1    1   \n",
       "\n",
       "    animate  text  topleft  class  \n",
       "0         0     0    black      1  \n",
       "1         1     0      red      1  \n",
       "2         0     0    green      1  \n",
       "3         1     0     blue      3  \n",
       "4         0     0     blue      1  \n",
       "..      ...   ...      ...    ...  \n",
       "189       0     0     blue      3  \n",
       "190       0     0     blue      1  \n",
       "191       1     0    green      2  \n",
       "192       1     0    green      2  \n",
       "193       1     0    green      2  \n",
       "\n",
       "[194 rows x 29 columns]"
      ]
     },
     "execution_count": 62,
     "metadata": {},
     "output_type": "execute_result"
    }
   ],
   "source": [
    "train"
   ]
  },
  {
   "cell_type": "code",
   "execution_count": 63,
   "metadata": {},
   "outputs": [
    {
     "name": "stdout",
     "output_type": "stream",
     "text": [
      "Rules original\n",
      "IF landmass = {5} THEN class = {1} (p = 39.0, n = 0.0, P = 91.0, N = 103.0, weight = 0.7142857142857143, pvalue = 6.039529644312067e-16)\n",
      "IF language = {4} THEN class = {1} (p = 6.0, n = 0.0, P = 91.0, N = 103.0, weight = 0.532967032967033, pvalue = 0.009733415084710487)\n",
      "IF stripes = (-inf, 4) AND religion = {6} THEN class = {1} (p = 13.0, n = 0.0, P = 91.0, N = 103.0, weight = 0.5714285714285714, pvalue = 3.2661270084870434e-05)\n",
      "IF language = {8} THEN class = {1} (p = 17.0, n = 2.0, P = 91.0, N = 103.0, weight = 0.4757562315048262, pvalue = 6.731200021668368e-05)\n",
      "IF circles = (-inf, 0.50) AND landmass = {3} AND population = <3.50, 37) THEN class = {1} (p = 16.0, n = 0.0, P = 91.0, N = 103.0, weight = 0.5879120879120879, pvalue = 2.556394521411761e-06)\n",
      "IF orange = {0} AND circles = (-inf, 0.50) AND landmass = {3} AND population = (-inf, 37) AND religion = {0} THEN class = {1} (p = 9.0, n = 0.0, P = 91.0, N = 103.0, weight = 0.5494505494505495, pvalue = 0.0008821230055869394)\n",
      "IF area = (-inf, 1776) AND crosses = (-inf, 0.50) AND population = <30, inf) THEN class = {1} (p = 17.0, n = 1.0, P = 91.0, N = 103.0, weight = 0.5313133468473275, pvalue = 1.173283335860287e-05)\n",
      "IF area = <323.50, 1284.50) AND quarters = (-inf, 0.50) AND animate = {0} AND triangle = {0} AND population = <3.50, 18.50) THEN class = {1} (p = 10.0, n = 4.0, P = 91.0, N = 103.0, weight = 0.25630610720763297, pvalue = 0.050926880342218706)\n",
      "IF area = (-inf, 237.50) AND blue = {0} AND sunstars = (-inf, 2.50) AND crosses = (-inf, 0.50) AND bars = (-inf, 0.50) AND saltires = (-inf, 0.50) THEN class = {1} (p = 24.0, n = 8.0, P = 91.0, N = 103.0, weight = 0.3343379921049824, pvalue = 0.00043954994032965964)\n",
      "IF stripes = (-inf, 4) AND orange = {0} AND white = {1} AND blue = {1} AND sunstars = (-inf, 4.50) AND black = {0} AND text = {0} AND crosses = (-inf, 0.50) AND bars = (-inf, 0.50) AND population = (-inf, 2) THEN class = {1} (p = 7.0, n = 1.0, P = 91.0, N = 103.0, weight = 0.4116878267363704, pvalue = 0.021368329054441682)\n",
      "IF white = {1} AND landmass = {2} AND population = <2.50, inf) AND colours = (-inf, 6.50) THEN class = {3} (p = 7.0, n = 0.0, P = 16.0, N = 178.0, weight = 0.71875, pvalue = 6.219989787401699e-09)\n",
      "IF blue = {1} AND white = {1} AND language = {1} AND animate = {0} AND triangle = {0} AND population = (-inf, 0.50) THEN class = {3} (p = 4.0, n = 1.0, P = 16.0, N = 178.0, weight = 0.4887640449438202, pvalue = 0.00015102259603607198)\n",
      "IF gold = {1} AND red = {1} AND stripes = (-inf, 3.50) AND blue = {1} AND sunstars = (-inf, 7) AND bars = (-inf, 0.50) AND colours = (-inf, 6.50) AND population = (-inf, 8.50) THEN class = {3} (p = 6.0, n = 9.0, P = 16.0, N = 178.0, weight = 0.23792134831460673, pvalue = 0.00038213382087590907)\n",
      "IF icon = {1} AND circles = (-inf, 0.50) AND religion = {5} THEN class = {2} (p = 5.0, n = 0.0, P = 29.0, N = 165.0, weight = 0.5862068965517242, pvalue = 5.46243037214726e-05)\n",
      "IF white = {0} AND language = {10} AND religion = {5} THEN class = {2} (p = 8.0, n = 0.0, P = 29.0, N = 165.0, weight = 0.6379310344827587, pvalue = 9.983582538441783e-08)\n",
      "IF area = <9.50, inf) AND landmass = {6} AND population = (-inf, 31.50) THEN class = {2} (p = 6.0, n = 0.0, P = 29.0, N = 165.0, weight = 0.603448275862069, pvalue = 6.936419520187005e-06)\n",
      "IF crescent = {0} AND quarters = (-inf, 0.50) AND circles = (-inf, 1.50) AND language = {10} AND crosses = (-inf, 0.50) AND triangle = {0} AND population = (-inf, 12.50) AND colours = <2.50, inf) THEN class = {2} (p = 12.0, n = 3.0, P = 29.0, N = 165.0, weight = 0.5406687565308255, pvalue = 4.291255980609156e-09)\n",
      "IF area = (-inf, 2.50) AND orange = {0} AND icon = {0} AND black = {0} AND circles = (-inf, 0.50) AND bars = (-inf, 1.50) AND population = (-inf, 2) THEN class = {2} (p = 6.0, n = 7.0, P = 29.0, N = 165.0, weight = 0.22140503174985932, pvalue = 0.0054541168480689295)\n",
      "IF landmass = {1} THEN class = {4} (p = 31.0, n = 0.0, P = 58.0, N = 136.0, weight = 0.7672413793103448, pvalue = 3.255292841970164e-20)\n",
      "IF area = <18.50, inf) AND sunstars = (-inf, 3) AND language = {1} THEN class = {4} (p = 8.0, n = 0.0, P = 58.0, N = 136.0, weight = 0.5689655172413793, pvalue = 4.458494334145763e-05)\n",
      "IF orange = {0} AND red = {1} AND quarters = (-inf, 0.50) AND animate = {0} AND religion = {1} AND population = (-inf, 3) THEN class = {4} (p = 9.0, n = 1.0, P = 58.0, N = 136.0, weight = 0.49519523326572007, pvalue = 9.12818732463147e-05)\n",
      "IF area = (-inf, 1262) AND language = {3} AND bars = <2.50, inf) AND population = (-inf, 7.50) THEN class = {4} (p = 5.0, n = 0.0, P = 58.0, N = 136.0, weight = 0.5431034482758621, pvalue = 0.002107657749745455)\n",
      "IF area = <3.50, 116.50) AND red = {1} AND icon = {0} AND circles = (-inf, 2) AND triangle = {0} AND population = (-inf, 2.50) THEN class = {4} (p = 9.0, n = 3.0, P = 58.0, N = 136.0, weight = 0.37160877281947263, pvalue = 0.0011632070135845689)\n",
      "IF gold = {1} AND stripes = (-inf, 3.50) AND area = (-inf, 1180.50) AND red = {1} AND bars = (-inf, 1.50) AND population = <6.50, 42.50) THEN class = {4} (p = 6.0, n = 6.0, P = 58.0, N = 136.0, weight = 0.15821501014198783, pvalue = 0.10906513587113151)\n",
      "\n",
      "\n",
      "Complex rules\n",
      "IF landmass = {5} THEN class = {1} (p = 39.0, n = 0.0, P = 91.0, N = 103.0, weight = 0.7142857142857143, pvalue = 6.039529644312067e-16)\n",
      "IF language != {1} AND landmass = {5, 3} THEN class = {1} (p = 67.0, n = 4.0, P = 91.0, N = 103.0, weight = 0.7760123098561497, pvalue = 2.082297077624356e-26)\n",
      "IF white != {0} AND language != {3} AND landmass = {5, 3, 4} AND religion = {2, 6, 3} THEN class = {1} (p = 39.0, n = 0.0, P = 91.0, N = 103.0, weight = 0.7142857142857143, pvalue = 6.039529644312067e-16)\n",
      "IF crosses = bars AND sunstars = (-inf, 4.50) AND language != {2} AND landmass = {5, 3, 6} AND population = (-inf, 137.50) THEN class = {1} (p = 49.0, n = 6.0, P = 91.0, N = 103.0, weight = 0.6111752325344558, pvalue = 2.188917160423013e-14)\n",
      "IF sunstars < colours AND crosses = bars AND language != {1} AND landmass = {5, 3, 4} AND religion != {5} AND colours = (-inf, 4.50) THEN class = {1} (p = 54.0, n = 3.0, P = 91.0, N = 103.0, weight = 0.7177250445007216, pvalue = 1.1734872520072095e-19)\n",
      "IF icon = text AND stripes = (-inf, 8.50) AND botright = {red, gold, black} AND language != {1} AND landmass = {5, 3, 4} AND religion = {6, 1, 5} THEN class = {1} (p = 18.0, n = 0.0, P = 91.0, N = 103.0, weight = 0.5989010989010989, pvalue = 4.5032659156463397e-07)\n",
      "IF landmass = {2} AND population = <2.50, 15) THEN class = {3} (p = 6.0, n = 0.0, P = 16.0, N = 178.0, weight = 0.6875, pvalue = 1.1693580800315234e-07)\n",
      "IF red = icon AND orange = crescent = triangle AND landmass = {2} THEN class = {3} (p = 6.0, n = 0.0, P = 16.0, N = 178.0, weight = 0.6875, pvalue = 1.1693580800315234e-07)\n",
      "IF population = bars AND red = white AND stripes < colours AND sunstars > population AND landmass = {2, 6} AND animate != {1} THEN class = {3} (p = 4.0, n = 1.0, P = 16.0, N = 178.0, weight = 0.4887640449438202, pvalue = 0.00015102259603607198)\n",
      "IF icon != text AND gold != blue AND religion = {5} THEN class = {2} (p = 7.0, n = 0.0, P = 29.0, N = 165.0, weight = 0.6206896551724138, pvalue = 8.486045157675584e-07)\n",
      "IF botright = {white, blue, black} AND religion = {5} THEN class = {2} (p = 7.0, n = 1.0, P = 29.0, N = 165.0, weight = 0.5294670846394984, pvalue = 6.089985348449555e-06)\n",
      "IF circles < crosses AND black = icon = text AND landmass = {4, 6} THEN class = {2} (p = 5.0, n = 0.0, P = 29.0, N = 165.0, weight = 0.5862068965517242, pvalue = 5.46243037214726e-05)\n",
      "IF white = icon AND language = {10, 1} AND landmass = {4, 6} AND population = <0.50, 13) THEN class = {2} (p = 10.0, n = 0.0, P = 29.0, N = 165.0, weight = 0.6724137931034483, pvalue = 1.2185715391297728e-09)\n",
      "IF red != blue AND gold != red AND crescent = icon = text AND language = {10, 1} AND landmass = {4, 6} THEN class = {2} (p = 11.0, n = 0.0, P = 29.0, N = 165.0, weight = 0.6896551724137931, pvalue = 1.2583075675796606e-10)\n",
      "IF landmass = {1} THEN class = {4} (p = 31.0, n = 0.0, P = 58.0, N = 136.0, weight = 0.7672413793103448, pvalue = 3.255292841970164e-20)\n",
      "IF area = (-inf, 249.50) AND stripes = (-inf, 7) AND landmass = {1, 2} THEN class = {4} (p = 32.0, n = 1.0, P = 58.0, N = 136.0, weight = 0.742324359210769, pvalue = 1.5024940581445278e-19)\n",
      "IF language = {2, 1} AND landmass = {3, 4, 1} AND religion != {4} THEN class = {4} (p = 35.0, n = 2.0, P = 58.0, N = 136.0, weight = 0.7399059810317417, pvalue = 9.90448093269512e-21)\n",
      "IF area = (-inf, 1262) AND botright != {gold} AND language = {2, 1, 3} AND landmass = {3, 4, 1} AND religion != {4} AND population = (-inf, 46) AND colours = <2.50, inf) THEN class = {4} (p = 30.0, n = 4.0, P = 58.0, N = 136.0, weight = 0.6313089130175397, pvalue = 4.264670389105405e-15)\n",
      "IF saltires = bars AND saltires = quarters AND red != triangle AND red = blue AND green = icon AND topleft != {red} AND religion != {6} AND population != <7, 15) THEN class = {4} (p = 8.0, n = 0.0, P = 58.0, N = 136.0, weight = 0.5689655172413793, pvalue = 4.458494334145763e-05)\n",
      "IF red != crescent AND bars < colours AND icon = triangle AND green != white AND saltires < sunstars AND topleft != {black} AND landmass = {4, 1} THEN class = {4} (p = 9.0, n = 1.0, P = 58.0, N = 136.0, weight = 0.49519523326572007, pvalue = 9.12818732463147e-05)\n",
      "\n",
      "\n",
      "Complex rules + inners alternatives\n",
      "IF landmass = {5} THEN class = {1} (p = 39.0, n = 0.0, P = 91.0, N = 103.0, weight = 0.7142857142857143, pvalue = 6.039529644312067e-16)\n",
      "IF crosses = saltires AND language != {1} AND landmass = {5, 3} AND colours = (-inf, 4.50) THEN class = {1} (p = 56.0, n = 1.0, P = 91.0, N = 103.0, weight = 0.7810031052238512, pvalue = 2.9143558168223417e-23)\n",
      "IF #(colours = (-inf, 2.50) OR colours = <2.50, 2.50)) AND language != {1} AND landmass = {5, 3} THEN class = {1} (p = 65.0, n = 3.0, P = 91.0, N = 103.0, weight = 0.7859182507954638, pvalue = 3.219180935064444e-26)\n",
      "IF white != {0} AND language != {3} AND landmass = {5, 3, 4} AND religion = {2, 6, 3} THEN class = {1} (p = 39.0, n = 0.0, P = 91.0, N = 103.0, weight = 0.7142857142857143, pvalue = 6.039529644312067e-16)\n",
      "IF circles = quarters AND crosses = quarters AND sunstars = (-inf, 4.50) AND botright != {orange} AND language != {2} AND landmass = {5, 3, 6} AND population = (-inf, 137.50) THEN class = {1} (p = 51.0, n = 4.0, P = 91.0, N = 103.0, weight = 0.6733441315965589, pvalue = 4.4746845970218346e-17)\n",
      "IF #(sunstars < colours OR sunstars != <2.50, 5)) AND crosses = bars AND language != {1} AND landmass = {5, 3, 4} AND religion != {5} AND colours = (-inf, 4.50) THEN class = {1} (p = 57.0, n = 3.0, P = 91.0, N = 103.0, weight = 0.7366051424303852, pvalue = 2.5371230306853982e-21)\n",
      "IF icon = text AND stripes = (-inf, 8.50) AND botright = {red, gold, black} AND language != {1} AND landmass = {5, 3, 4} AND religion = {6, 1, 5} THEN class = {1} (p = 18.0, n = 0.0, P = 91.0, N = 103.0, weight = 0.5989010989010989, pvalue = 4.5032659156463397e-07)\n",
      "IF #(population = <2.50, 11)) AND landmass = {2} THEN class = {3} (p = 6.0, n = 0.0, P = 16.0, N = 178.0, weight = 0.6875, pvalue = 1.1693580800315234e-07)\n",
      "IF red = icon = animate AND orange = crescent = triangle AND landmass = {2} THEN class = {3} (p = 6.0, n = 0.0, P = 16.0, N = 178.0, weight = 0.6875, pvalue = 1.1693580800315234e-07)\n",
      "IF population = bars AND red != animate AND red = blue AND landmass = {2, 6} THEN class = {3} (p = 4.0, n = 1.0, P = 16.0, N = 178.0, weight = 0.4887640449438202, pvalue = 0.00015102259603607198)\n",
      "IF red = green = animate AND religion = {5} THEN class = {2} (p = 5.0, n = 0.0, P = 29.0, N = 165.0, weight = 0.5862068965517242, pvalue = 5.46243037214726e-05)\n",
      "IF botright = {white, blue, black} AND language != {1} AND religion = {5} THEN class = {2} (p = 6.0, n = 0.0, P = 29.0, N = 165.0, weight = 0.603448275862069, pvalue = 6.936419520187005e-06)\n",
      "IF white = triangle AND language = {10, 1} AND landmass != {2} AND religion = {5, 4} AND population = <0.50, 14) THEN class = {2} (p = 10.0, n = 0.0, P = 29.0, N = 165.0, weight = 0.6724137931034483, pvalue = 1.2185715391297728e-09)\n",
      "IF circles < crosses AND icon = animate AND landmass = {4, 6} THEN class = {2} (p = 6.0, n = 0.0, P = 29.0, N = 165.0, weight = 0.603448275862069, pvalue = 6.936419520187005e-06)\n",
      "IF red != blue AND gold != red AND crescent = icon = text AND language = {10, 1} AND landmass = {4, 6} THEN class = {2} (p = 11.0, n = 0.0, P = 29.0, N = 165.0, weight = 0.6896551724137931, pvalue = 1.2583075675796606e-10)\n",
      "IF landmass = {1} THEN class = {4} (p = 31.0, n = 0.0, P = 58.0, N = 136.0, weight = 0.7672413793103448, pvalue = 3.255292841970164e-20)\n",
      "IF area = (-inf, 249.50) AND stripes = (-inf, 7) AND landmass = {1, 2} THEN class = {4} (p = 32.0, n = 1.0, P = 58.0, N = 136.0, weight = 0.742324359210769, pvalue = 1.5024940581445278e-19)\n",
      "IF language = {2, 1} AND landmass = {3, 4, 1} AND religion != {4} THEN class = {4} (p = 35.0, n = 2.0, P = 58.0, N = 136.0, weight = 0.7399059810317417, pvalue = 9.90448093269512e-21)\n",
      "IF saltires = quarters AND #(colours = (-inf, 3.50)) AND area = (-inf, 1262) AND crescent != {1} AND botright != {gold} AND language = {2, 1, 3} AND landmass = {3, 4, 1} AND religion != {4} AND population = (-inf, 46) THEN class = {4} (p = 34.0, n = 4.0, P = 58.0, N = 136.0, weight = 0.6740151596028611, pvalue = 5.250861214993919e-18)\n",
      "IF bars < colours AND crescent = text AND red != text AND saltires = quarters AND topleft != {red} AND language = {6, 2, 1} AND landmass = {3, 1, 2} AND religion != {6} THEN class = {4} (p = 20.0, n = 2.0, P = 58.0, N = 136.0, weight = 0.5852157477411027, pvalue = 3.144040940651041e-10)\n",
      "IF red != crescent AND bars < colours AND icon = triangle AND green != white AND saltires < sunstars AND topleft != {black} AND landmass = {4, 1} THEN class = {4} (p = 9.0, n = 1.0, P = 58.0, N = 136.0, weight = 0.49519523326572007, pvalue = 9.12818732463147e-05)\n"
     ]
    }
   ],
   "source": [
    "X = train.drop(['class'], axis=1)\n",
    "y = train['class']\n",
    "\n",
    "clf_simple.fit(X, y)\n",
    "\n",
    "print(\"Rules original\")\n",
    "for rule in clf_simple.model.rules:\n",
    "    print(rule, rule.stats)\n",
    "\n",
    "print(\"\\n\\nComplex rules\")\n",
    "clf_complex.fit(X, y)\n",
    "for rule in clf_complex.model.rules:\n",
    "    print(rule, rule.stats)\n",
    "\n",
    "print(\"\\n\\nComplex rules + inners alternatives\")\n",
    "clf_complex_with_inners.fit(X, y)\n",
    "for rule in clf_complex_with_inners.model.rules:\n",
    "    print(rule, rule.stats)"
   ]
  },
  {
   "attachments": {},
   "cell_type": "markdown",
   "metadata": {},
   "source": [
    "# mushroom"
   ]
  },
  {
   "cell_type": "code",
   "execution_count": 64,
   "metadata": {},
   "outputs": [],
   "source": [
    "train = pd.read_parquet(\"./data/mushroom.parquet\")"
   ]
  },
  {
   "cell_type": "code",
   "execution_count": 65,
   "metadata": {},
   "outputs": [
    {
     "data": {
      "text/html": [
       "<div>\n",
       "<style scoped>\n",
       "    .dataframe tbody tr th:only-of-type {\n",
       "        vertical-align: middle;\n",
       "    }\n",
       "\n",
       "    .dataframe tbody tr th {\n",
       "        vertical-align: top;\n",
       "    }\n",
       "\n",
       "    .dataframe thead th {\n",
       "        text-align: right;\n",
       "    }\n",
       "</style>\n",
       "<table border=\"1\" class=\"dataframe\">\n",
       "  <thead>\n",
       "    <tr style=\"text-align: right;\">\n",
       "      <th></th>\n",
       "      <th>cap-shape</th>\n",
       "      <th>cap-surface</th>\n",
       "      <th>cap-color</th>\n",
       "      <th>bruises?</th>\n",
       "      <th>odor</th>\n",
       "      <th>gill-attachment</th>\n",
       "      <th>gill-spacing</th>\n",
       "      <th>gill-size</th>\n",
       "      <th>gill-color</th>\n",
       "      <th>stalk-shape</th>\n",
       "      <th>...</th>\n",
       "      <th>stalk-color-above-ring</th>\n",
       "      <th>stalk-color-below-ring</th>\n",
       "      <th>veil-type</th>\n",
       "      <th>veil-color</th>\n",
       "      <th>ring-number</th>\n",
       "      <th>ring-type</th>\n",
       "      <th>spore-print-color</th>\n",
       "      <th>population</th>\n",
       "      <th>habitat</th>\n",
       "      <th>class</th>\n",
       "    </tr>\n",
       "  </thead>\n",
       "  <tbody>\n",
       "    <tr>\n",
       "      <th>0</th>\n",
       "      <td>x</td>\n",
       "      <td>s</td>\n",
       "      <td>n</td>\n",
       "      <td>t</td>\n",
       "      <td>p</td>\n",
       "      <td>f</td>\n",
       "      <td>c</td>\n",
       "      <td>n</td>\n",
       "      <td>k</td>\n",
       "      <td>e</td>\n",
       "      <td>...</td>\n",
       "      <td>w</td>\n",
       "      <td>w</td>\n",
       "      <td>p</td>\n",
       "      <td>w</td>\n",
       "      <td>o</td>\n",
       "      <td>p</td>\n",
       "      <td>k</td>\n",
       "      <td>s</td>\n",
       "      <td>u</td>\n",
       "      <td>p</td>\n",
       "    </tr>\n",
       "    <tr>\n",
       "      <th>1</th>\n",
       "      <td>x</td>\n",
       "      <td>s</td>\n",
       "      <td>y</td>\n",
       "      <td>t</td>\n",
       "      <td>a</td>\n",
       "      <td>f</td>\n",
       "      <td>c</td>\n",
       "      <td>b</td>\n",
       "      <td>k</td>\n",
       "      <td>e</td>\n",
       "      <td>...</td>\n",
       "      <td>w</td>\n",
       "      <td>w</td>\n",
       "      <td>p</td>\n",
       "      <td>w</td>\n",
       "      <td>o</td>\n",
       "      <td>p</td>\n",
       "      <td>n</td>\n",
       "      <td>n</td>\n",
       "      <td>g</td>\n",
       "      <td>e</td>\n",
       "    </tr>\n",
       "    <tr>\n",
       "      <th>2</th>\n",
       "      <td>b</td>\n",
       "      <td>s</td>\n",
       "      <td>w</td>\n",
       "      <td>t</td>\n",
       "      <td>l</td>\n",
       "      <td>f</td>\n",
       "      <td>c</td>\n",
       "      <td>b</td>\n",
       "      <td>n</td>\n",
       "      <td>e</td>\n",
       "      <td>...</td>\n",
       "      <td>w</td>\n",
       "      <td>w</td>\n",
       "      <td>p</td>\n",
       "      <td>w</td>\n",
       "      <td>o</td>\n",
       "      <td>p</td>\n",
       "      <td>n</td>\n",
       "      <td>n</td>\n",
       "      <td>m</td>\n",
       "      <td>e</td>\n",
       "    </tr>\n",
       "    <tr>\n",
       "      <th>3</th>\n",
       "      <td>x</td>\n",
       "      <td>y</td>\n",
       "      <td>w</td>\n",
       "      <td>t</td>\n",
       "      <td>p</td>\n",
       "      <td>f</td>\n",
       "      <td>c</td>\n",
       "      <td>n</td>\n",
       "      <td>n</td>\n",
       "      <td>e</td>\n",
       "      <td>...</td>\n",
       "      <td>w</td>\n",
       "      <td>w</td>\n",
       "      <td>p</td>\n",
       "      <td>w</td>\n",
       "      <td>o</td>\n",
       "      <td>p</td>\n",
       "      <td>k</td>\n",
       "      <td>s</td>\n",
       "      <td>u</td>\n",
       "      <td>p</td>\n",
       "    </tr>\n",
       "    <tr>\n",
       "      <th>4</th>\n",
       "      <td>x</td>\n",
       "      <td>s</td>\n",
       "      <td>g</td>\n",
       "      <td>f</td>\n",
       "      <td>n</td>\n",
       "      <td>f</td>\n",
       "      <td>w</td>\n",
       "      <td>b</td>\n",
       "      <td>k</td>\n",
       "      <td>t</td>\n",
       "      <td>...</td>\n",
       "      <td>w</td>\n",
       "      <td>w</td>\n",
       "      <td>p</td>\n",
       "      <td>w</td>\n",
       "      <td>o</td>\n",
       "      <td>e</td>\n",
       "      <td>n</td>\n",
       "      <td>a</td>\n",
       "      <td>g</td>\n",
       "      <td>e</td>\n",
       "    </tr>\n",
       "    <tr>\n",
       "      <th>...</th>\n",
       "      <td>...</td>\n",
       "      <td>...</td>\n",
       "      <td>...</td>\n",
       "      <td>...</td>\n",
       "      <td>...</td>\n",
       "      <td>...</td>\n",
       "      <td>...</td>\n",
       "      <td>...</td>\n",
       "      <td>...</td>\n",
       "      <td>...</td>\n",
       "      <td>...</td>\n",
       "      <td>...</td>\n",
       "      <td>...</td>\n",
       "      <td>...</td>\n",
       "      <td>...</td>\n",
       "      <td>...</td>\n",
       "      <td>...</td>\n",
       "      <td>...</td>\n",
       "      <td>...</td>\n",
       "      <td>...</td>\n",
       "      <td>...</td>\n",
       "    </tr>\n",
       "    <tr>\n",
       "      <th>8119</th>\n",
       "      <td>k</td>\n",
       "      <td>s</td>\n",
       "      <td>n</td>\n",
       "      <td>f</td>\n",
       "      <td>n</td>\n",
       "      <td>a</td>\n",
       "      <td>c</td>\n",
       "      <td>b</td>\n",
       "      <td>y</td>\n",
       "      <td>e</td>\n",
       "      <td>...</td>\n",
       "      <td>o</td>\n",
       "      <td>o</td>\n",
       "      <td>p</td>\n",
       "      <td>o</td>\n",
       "      <td>o</td>\n",
       "      <td>p</td>\n",
       "      <td>b</td>\n",
       "      <td>c</td>\n",
       "      <td>l</td>\n",
       "      <td>e</td>\n",
       "    </tr>\n",
       "    <tr>\n",
       "      <th>8120</th>\n",
       "      <td>x</td>\n",
       "      <td>s</td>\n",
       "      <td>n</td>\n",
       "      <td>f</td>\n",
       "      <td>n</td>\n",
       "      <td>a</td>\n",
       "      <td>c</td>\n",
       "      <td>b</td>\n",
       "      <td>y</td>\n",
       "      <td>e</td>\n",
       "      <td>...</td>\n",
       "      <td>o</td>\n",
       "      <td>o</td>\n",
       "      <td>p</td>\n",
       "      <td>n</td>\n",
       "      <td>o</td>\n",
       "      <td>p</td>\n",
       "      <td>b</td>\n",
       "      <td>v</td>\n",
       "      <td>l</td>\n",
       "      <td>e</td>\n",
       "    </tr>\n",
       "    <tr>\n",
       "      <th>8121</th>\n",
       "      <td>f</td>\n",
       "      <td>s</td>\n",
       "      <td>n</td>\n",
       "      <td>f</td>\n",
       "      <td>n</td>\n",
       "      <td>a</td>\n",
       "      <td>c</td>\n",
       "      <td>b</td>\n",
       "      <td>n</td>\n",
       "      <td>e</td>\n",
       "      <td>...</td>\n",
       "      <td>o</td>\n",
       "      <td>o</td>\n",
       "      <td>p</td>\n",
       "      <td>o</td>\n",
       "      <td>o</td>\n",
       "      <td>p</td>\n",
       "      <td>b</td>\n",
       "      <td>c</td>\n",
       "      <td>l</td>\n",
       "      <td>e</td>\n",
       "    </tr>\n",
       "    <tr>\n",
       "      <th>8122</th>\n",
       "      <td>k</td>\n",
       "      <td>y</td>\n",
       "      <td>n</td>\n",
       "      <td>f</td>\n",
       "      <td>y</td>\n",
       "      <td>f</td>\n",
       "      <td>c</td>\n",
       "      <td>n</td>\n",
       "      <td>b</td>\n",
       "      <td>t</td>\n",
       "      <td>...</td>\n",
       "      <td>w</td>\n",
       "      <td>w</td>\n",
       "      <td>p</td>\n",
       "      <td>w</td>\n",
       "      <td>o</td>\n",
       "      <td>e</td>\n",
       "      <td>w</td>\n",
       "      <td>v</td>\n",
       "      <td>l</td>\n",
       "      <td>p</td>\n",
       "    </tr>\n",
       "    <tr>\n",
       "      <th>8123</th>\n",
       "      <td>x</td>\n",
       "      <td>s</td>\n",
       "      <td>n</td>\n",
       "      <td>f</td>\n",
       "      <td>n</td>\n",
       "      <td>a</td>\n",
       "      <td>c</td>\n",
       "      <td>b</td>\n",
       "      <td>y</td>\n",
       "      <td>e</td>\n",
       "      <td>...</td>\n",
       "      <td>o</td>\n",
       "      <td>o</td>\n",
       "      <td>p</td>\n",
       "      <td>o</td>\n",
       "      <td>o</td>\n",
       "      <td>p</td>\n",
       "      <td>o</td>\n",
       "      <td>c</td>\n",
       "      <td>l</td>\n",
       "      <td>e</td>\n",
       "    </tr>\n",
       "  </tbody>\n",
       "</table>\n",
       "<p>8124 rows × 23 columns</p>\n",
       "</div>"
      ],
      "text/plain": [
       "     cap-shape cap-surface cap-color bruises? odor gill-attachment  \\\n",
       "0            x           s         n        t    p               f   \n",
       "1            x           s         y        t    a               f   \n",
       "2            b           s         w        t    l               f   \n",
       "3            x           y         w        t    p               f   \n",
       "4            x           s         g        f    n               f   \n",
       "...        ...         ...       ...      ...  ...             ...   \n",
       "8119         k           s         n        f    n               a   \n",
       "8120         x           s         n        f    n               a   \n",
       "8121         f           s         n        f    n               a   \n",
       "8122         k           y         n        f    y               f   \n",
       "8123         x           s         n        f    n               a   \n",
       "\n",
       "     gill-spacing gill-size gill-color stalk-shape  ...  \\\n",
       "0               c         n          k           e  ...   \n",
       "1               c         b          k           e  ...   \n",
       "2               c         b          n           e  ...   \n",
       "3               c         n          n           e  ...   \n",
       "4               w         b          k           t  ...   \n",
       "...           ...       ...        ...         ...  ...   \n",
       "8119            c         b          y           e  ...   \n",
       "8120            c         b          y           e  ...   \n",
       "8121            c         b          n           e  ...   \n",
       "8122            c         n          b           t  ...   \n",
       "8123            c         b          y           e  ...   \n",
       "\n",
       "     stalk-color-above-ring stalk-color-below-ring veil-type veil-color  \\\n",
       "0                         w                      w         p          w   \n",
       "1                         w                      w         p          w   \n",
       "2                         w                      w         p          w   \n",
       "3                         w                      w         p          w   \n",
       "4                         w                      w         p          w   \n",
       "...                     ...                    ...       ...        ...   \n",
       "8119                      o                      o         p          o   \n",
       "8120                      o                      o         p          n   \n",
       "8121                      o                      o         p          o   \n",
       "8122                      w                      w         p          w   \n",
       "8123                      o                      o         p          o   \n",
       "\n",
       "     ring-number ring-type spore-print-color population habitat class  \n",
       "0              o         p                 k          s       u     p  \n",
       "1              o         p                 n          n       g     e  \n",
       "2              o         p                 n          n       m     e  \n",
       "3              o         p                 k          s       u     p  \n",
       "4              o         e                 n          a       g     e  \n",
       "...          ...       ...               ...        ...     ...   ...  \n",
       "8119           o         p                 b          c       l     e  \n",
       "8120           o         p                 b          v       l     e  \n",
       "8121           o         p                 b          c       l     e  \n",
       "8122           o         e                 w          v       l     p  \n",
       "8123           o         p                 o          c       l     e  \n",
       "\n",
       "[8124 rows x 23 columns]"
      ]
     },
     "execution_count": 65,
     "metadata": {},
     "output_type": "execute_result"
    }
   ],
   "source": [
    "train"
   ]
  },
  {
   "cell_type": "code",
   "execution_count": 66,
   "metadata": {},
   "outputs": [
    {
     "name": "stdout",
     "output_type": "stream",
     "text": [
      "Rules original\n",
      "IF odor = {f} THEN class = {p} (p = 2160.0, n = 0.0, P = 3916.0, N = 4208.0, weight = 0.7757916241062308, pvalue = 0.0)\n",
      "IF gill-color = {b} THEN class = {p} (p = 1728.0, n = 0.0, P = 3916.0, N = 4208.0, weight = 0.7206332992849847, pvalue = 0.0)\n",
      "IF stalk-surface-above-ring = {k} AND gill-spacing = {c} THEN class = {p} (p = 2228.0, n = 0.0, P = 3916.0, N = 4208.0, weight = 0.7844739530132789, pvalue = 0.0)\n",
      "IF spore-print-color = {w} AND ring-type = {e} AND bruises? = {f} THEN class = {p} (p = 1768.0, n = 48.0, P = 3916.0, N = 4208.0, weight = 0.688706522163333, pvalue = 0.0)\n",
      "IF spore-print-color = {w} AND ring-number = {o} THEN class = {p} (p = 1776.0, n = 48.0, P = 3916.0, N = 4208.0, weight = 0.6898385072923222, pvalue = 0.0)\n",
      "IF bruises? = {f} AND gill-spacing = {c} AND ring-number = {o} AND veil-color = {w} THEN class = {p} (p = 3152.0, n = 144.0, P = 3916.0, N = 4208.0, weight = 0.8263324354430979, pvalue = 0.0)\n",
      "IF gill-size = {n} AND gill-spacing = {c} AND population = {v} THEN class = {p} (p = 1936.0, n = 72.0, P = 3916.0, N = 4208.0, weight = 0.6954667126342324, pvalue = 0.0)\n",
      "IF gill-size = {n} AND gill-spacing = {c} THEN class = {p} (p = 2112.0, n = 144.0, P = 3916.0, N = 4208.0, weight = 0.6748171123568236, pvalue = 0.0)\n",
      "IF bruises? = {f} AND population = {v} AND veil-color = {w} THEN class = {p} (p = 2504.0, n = 120.0, P = 3916.0, N = 4208.0, weight = 0.7473414316689617, pvalue = 0.0)\n",
      "IF cap-surface = {s} AND gill-size = {n} AND bruises? = {f} THEN class = {p} (p = 960.0, n = 0.0, P = 3916.0, N = 4208.0, weight = 0.6225740551583249, pvalue = 0.0)\n",
      "IF habitat = {d} AND bruises? = {f} AND ring-number = {o} THEN class = {p} (p = 1232.0, n = 48.0, P = 3916.0, N = 4208.0, weight = 0.6097160438116802, pvalue = 0.0)\n",
      "IF spore-print-color = {r} THEN class = {p} (p = 72.0, n = 0.0, P = 3916.0, N = 4208.0, weight = 0.5091930541368743, pvalue = 1.0791281224127857e-23)\n",
      "IF odor = {n} AND gill-size = {b} THEN class = {e} (p = 3216.0, n = 72.0, P = 4208.0, N = 3916.0, weight = 0.842055511782797, pvalue = 0.0)\n",
      "IF odor = {n} THEN class = {e} (p = 3408.0, n = 120.0, P = 4208.0, N = 3916.0, weight = 0.8410870541002552, pvalue = 0.0)\n",
      "IF odor = {a} THEN class = {e} (p = 400.0, n = 0.0, P = 4208.0, N = 3916.0, weight = 0.5475285171102662, pvalue = 3.550778114829302e-119)\n",
      "IF odor = {l} THEN class = {e} (p = 400.0, n = 0.0, P = 4208.0, N = 3916.0, weight = 0.5475285171102662, pvalue = 3.550778114829302e-119)\n",
      "\n",
      "\n",
      "Complex rules\n",
      "IF odor = {f, y, s} THEN class = {p} (p = 3312.0, n = 0.0, P = 3916.0, N = 4208.0, weight = 0.9228804902962207, pvalue = 0.0)\n",
      "IF odor = {p, f, y} THEN class = {p} (p = 2992.0, n = 0.0, P = 3916.0, N = 4208.0, weight = 0.8820224719101124, pvalue = 0.0)\n",
      "IF odor = {f, c, y} THEN class = {p} (p = 2928.0, n = 0.0, P = 3916.0, N = 4208.0, weight = 0.8738508682328907, pvalue = 0.0)\n",
      "IF odor = {f, m, y} THEN class = {p} (p = 2772.0, n = 0.0, P = 3916.0, N = 4208.0, weight = 0.8539325842696629, pvalue = 0.0)\n",
      "IF gill-color = {b, r} THEN class = {p} (p = 1752.0, n = 0.0, P = 3916.0, N = 4208.0, weight = 0.7236976506639428, pvalue = 0.0)\n",
      "IF stalk-surface-above-ring = {k} AND gill-spacing != {w} THEN class = {p} (p = 2228.0, n = 0.0, P = 3916.0, N = 4208.0, weight = 0.7844739530132789, pvalue = 0.0)\n",
      "IF stalk-surface-above-ring = {k, y} AND ring-number != {t} THEN class = {p} (p = 2236.0, n = 0.0, P = 3916.0, N = 4208.0, weight = 0.7854954034729316, pvalue = 0.0)\n",
      "IF spore-print-color = {r, h} AND gill-size != {n} THEN class = {p} (p = 1656.0, n = 0.0, P = 3916.0, N = 4208.0, weight = 0.7114402451481103, pvalue = 0.0)\n",
      "IF spore-print-color = {w, r, h} AND ring-type != {f} AND cap-color != {c} AND ring-number != {t} THEN class = {p} (p = 3384.0, n = 24.0, P = 3916.0, N = 4208.0, weight = 0.9194012276605917, pvalue = 0.0)\n",
      "IF spore-print-color != {r} AND stalk-color-below-ring != {y} AND cap-shape != {c} AND cap-surface != {g} AND odor = {a, l, n} THEN class = {e} (p = 4208.0, n = 19.0, P = 4208.0, N = 3916.0, weight = 0.9906750054914741, pvalue = 0.0)\n",
      "\n",
      "\n",
      "Complex rules + inners alternatives\n",
      "IF odor = {f, y, s} THEN class = {p} (p = 3312.0, n = 0.0, P = 3916.0, N = 4208.0, weight = 0.9228804902962207, pvalue = 0.0)\n",
      "IF odor = {p, f, y} THEN class = {p} (p = 2992.0, n = 0.0, P = 3916.0, N = 4208.0, weight = 0.8820224719101124, pvalue = 0.0)\n",
      "IF odor = {f, c, y} THEN class = {p} (p = 2928.0, n = 0.0, P = 3916.0, N = 4208.0, weight = 0.8738508682328907, pvalue = 0.0)\n",
      "IF odor = {f, m, y} THEN class = {p} (p = 2772.0, n = 0.0, P = 3916.0, N = 4208.0, weight = 0.8539325842696629, pvalue = 0.0)\n",
      "IF gill-color = {b, r} THEN class = {p} (p = 1752.0, n = 0.0, P = 3916.0, N = 4208.0, weight = 0.7236976506639428, pvalue = 0.0)\n",
      "IF stalk-surface-above-ring = {k} AND gill-spacing != {w} THEN class = {p} (p = 2228.0, n = 0.0, P = 3916.0, N = 4208.0, weight = 0.7844739530132789, pvalue = 0.0)\n",
      "IF stalk-surface-above-ring = {k, y} AND ring-number != {t} THEN class = {p} (p = 2236.0, n = 0.0, P = 3916.0, N = 4208.0, weight = 0.7854954034729316, pvalue = 0.0)\n",
      "IF spore-print-color = {r, h} AND gill-size != {n} THEN class = {p} (p = 1656.0, n = 0.0, P = 3916.0, N = 4208.0, weight = 0.7114402451481103, pvalue = 0.0)\n",
      "IF spore-print-color = {w, r, h} AND ring-type != {f} AND cap-color != {c} AND ring-number != {t} THEN class = {p} (p = 3384.0, n = 24.0, P = 3916.0, N = 4208.0, weight = 0.9194012276605917, pvalue = 0.0)\n",
      "IF spore-print-color != {r} AND stalk-color-below-ring != {y} AND cap-shape != {c} AND cap-surface != {g} AND odor = {a, l, n} THEN class = {e} (p = 4208.0, n = 19.0, P = 4208.0, N = 3916.0, weight = 0.9906750054914741, pvalue = 0.0)\n"
     ]
    }
   ],
   "source": [
    "X = train.drop(['class'], axis=1)\n",
    "y = train['class']\n",
    "\n",
    "clf_simple.fit(X, y)\n",
    "\n",
    "print(\"Rules original\")\n",
    "for rule in clf_simple.model.rules:\n",
    "    print(rule, rule.stats)\n",
    "\n",
    "print(\"\\n\\nComplex rules\")\n",
    "clf_complex.fit(X, y)\n",
    "for rule in clf_complex.model.rules:\n",
    "    print(rule, rule.stats)\n",
    "\n",
    "print(\"\\n\\nComplex rules + inners alternatives\")\n",
    "clf_complex_with_inners.fit(X, y)\n",
    "for rule in clf_complex_with_inners.model.rules:\n",
    "    print(rule, rule.stats)"
   ]
  },
  {
   "attachments": {},
   "cell_type": "markdown",
   "metadata": {},
   "source": [
    "# tic-tac-toe"
   ]
  },
  {
   "cell_type": "code",
   "execution_count": 67,
   "metadata": {},
   "outputs": [],
   "source": [
    "train = pd.read_parquet(\"./data/tic-tac-toe.parquet\")"
   ]
  },
  {
   "cell_type": "code",
   "execution_count": 68,
   "metadata": {},
   "outputs": [
    {
     "data": {
      "text/html": [
       "<div>\n",
       "<style scoped>\n",
       "    .dataframe tbody tr th:only-of-type {\n",
       "        vertical-align: middle;\n",
       "    }\n",
       "\n",
       "    .dataframe tbody tr th {\n",
       "        vertical-align: top;\n",
       "    }\n",
       "\n",
       "    .dataframe thead th {\n",
       "        text-align: right;\n",
       "    }\n",
       "</style>\n",
       "<table border=\"1\" class=\"dataframe\">\n",
       "  <thead>\n",
       "    <tr style=\"text-align: right;\">\n",
       "      <th></th>\n",
       "      <th>top-left-square</th>\n",
       "      <th>top-middle-square</th>\n",
       "      <th>top-right-square</th>\n",
       "      <th>middle-left-square</th>\n",
       "      <th>middle-middle-square</th>\n",
       "      <th>middle-right-square</th>\n",
       "      <th>bottom-left-square</th>\n",
       "      <th>bottom-middle-square</th>\n",
       "      <th>bottom-right-square</th>\n",
       "      <th>class</th>\n",
       "    </tr>\n",
       "  </thead>\n",
       "  <tbody>\n",
       "    <tr>\n",
       "      <th>0</th>\n",
       "      <td>x</td>\n",
       "      <td>x</td>\n",
       "      <td>x</td>\n",
       "      <td>x</td>\n",
       "      <td>o</td>\n",
       "      <td>o</td>\n",
       "      <td>x</td>\n",
       "      <td>o</td>\n",
       "      <td>o</td>\n",
       "      <td>positive</td>\n",
       "    </tr>\n",
       "    <tr>\n",
       "      <th>1</th>\n",
       "      <td>x</td>\n",
       "      <td>x</td>\n",
       "      <td>x</td>\n",
       "      <td>x</td>\n",
       "      <td>o</td>\n",
       "      <td>o</td>\n",
       "      <td>o</td>\n",
       "      <td>x</td>\n",
       "      <td>o</td>\n",
       "      <td>positive</td>\n",
       "    </tr>\n",
       "    <tr>\n",
       "      <th>2</th>\n",
       "      <td>x</td>\n",
       "      <td>x</td>\n",
       "      <td>x</td>\n",
       "      <td>x</td>\n",
       "      <td>o</td>\n",
       "      <td>o</td>\n",
       "      <td>o</td>\n",
       "      <td>o</td>\n",
       "      <td>x</td>\n",
       "      <td>positive</td>\n",
       "    </tr>\n",
       "    <tr>\n",
       "      <th>3</th>\n",
       "      <td>x</td>\n",
       "      <td>x</td>\n",
       "      <td>x</td>\n",
       "      <td>x</td>\n",
       "      <td>o</td>\n",
       "      <td>o</td>\n",
       "      <td>o</td>\n",
       "      <td>b</td>\n",
       "      <td>b</td>\n",
       "      <td>positive</td>\n",
       "    </tr>\n",
       "    <tr>\n",
       "      <th>4</th>\n",
       "      <td>x</td>\n",
       "      <td>x</td>\n",
       "      <td>x</td>\n",
       "      <td>x</td>\n",
       "      <td>o</td>\n",
       "      <td>o</td>\n",
       "      <td>b</td>\n",
       "      <td>o</td>\n",
       "      <td>b</td>\n",
       "      <td>positive</td>\n",
       "    </tr>\n",
       "    <tr>\n",
       "      <th>...</th>\n",
       "      <td>...</td>\n",
       "      <td>...</td>\n",
       "      <td>...</td>\n",
       "      <td>...</td>\n",
       "      <td>...</td>\n",
       "      <td>...</td>\n",
       "      <td>...</td>\n",
       "      <td>...</td>\n",
       "      <td>...</td>\n",
       "      <td>...</td>\n",
       "    </tr>\n",
       "    <tr>\n",
       "      <th>953</th>\n",
       "      <td>o</td>\n",
       "      <td>x</td>\n",
       "      <td>x</td>\n",
       "      <td>x</td>\n",
       "      <td>o</td>\n",
       "      <td>o</td>\n",
       "      <td>o</td>\n",
       "      <td>x</td>\n",
       "      <td>x</td>\n",
       "      <td>negative</td>\n",
       "    </tr>\n",
       "    <tr>\n",
       "      <th>954</th>\n",
       "      <td>o</td>\n",
       "      <td>x</td>\n",
       "      <td>o</td>\n",
       "      <td>x</td>\n",
       "      <td>x</td>\n",
       "      <td>o</td>\n",
       "      <td>x</td>\n",
       "      <td>o</td>\n",
       "      <td>x</td>\n",
       "      <td>negative</td>\n",
       "    </tr>\n",
       "    <tr>\n",
       "      <th>955</th>\n",
       "      <td>o</td>\n",
       "      <td>x</td>\n",
       "      <td>o</td>\n",
       "      <td>x</td>\n",
       "      <td>o</td>\n",
       "      <td>x</td>\n",
       "      <td>x</td>\n",
       "      <td>o</td>\n",
       "      <td>x</td>\n",
       "      <td>negative</td>\n",
       "    </tr>\n",
       "    <tr>\n",
       "      <th>956</th>\n",
       "      <td>o</td>\n",
       "      <td>x</td>\n",
       "      <td>o</td>\n",
       "      <td>o</td>\n",
       "      <td>x</td>\n",
       "      <td>x</td>\n",
       "      <td>x</td>\n",
       "      <td>o</td>\n",
       "      <td>x</td>\n",
       "      <td>negative</td>\n",
       "    </tr>\n",
       "    <tr>\n",
       "      <th>957</th>\n",
       "      <td>o</td>\n",
       "      <td>o</td>\n",
       "      <td>x</td>\n",
       "      <td>x</td>\n",
       "      <td>x</td>\n",
       "      <td>o</td>\n",
       "      <td>o</td>\n",
       "      <td>x</td>\n",
       "      <td>x</td>\n",
       "      <td>negative</td>\n",
       "    </tr>\n",
       "  </tbody>\n",
       "</table>\n",
       "<p>958 rows × 10 columns</p>\n",
       "</div>"
      ],
      "text/plain": [
       "    top-left-square top-middle-square top-right-square middle-left-square  \\\n",
       "0                 x                 x                x                  x   \n",
       "1                 x                 x                x                  x   \n",
       "2                 x                 x                x                  x   \n",
       "3                 x                 x                x                  x   \n",
       "4                 x                 x                x                  x   \n",
       "..              ...               ...              ...                ...   \n",
       "953               o                 x                x                  x   \n",
       "954               o                 x                o                  x   \n",
       "955               o                 x                o                  x   \n",
       "956               o                 x                o                  o   \n",
       "957               o                 o                x                  x   \n",
       "\n",
       "    middle-middle-square middle-right-square bottom-left-square  \\\n",
       "0                      o                   o                  x   \n",
       "1                      o                   o                  o   \n",
       "2                      o                   o                  o   \n",
       "3                      o                   o                  o   \n",
       "4                      o                   o                  b   \n",
       "..                   ...                 ...                ...   \n",
       "953                    o                   o                  o   \n",
       "954                    x                   o                  x   \n",
       "955                    o                   x                  x   \n",
       "956                    x                   x                  x   \n",
       "957                    x                   o                  o   \n",
       "\n",
       "    bottom-middle-square bottom-right-square     class  \n",
       "0                      o                   o  positive  \n",
       "1                      x                   o  positive  \n",
       "2                      o                   x  positive  \n",
       "3                      b                   b  positive  \n",
       "4                      o                   b  positive  \n",
       "..                   ...                 ...       ...  \n",
       "953                    x                   x  negative  \n",
       "954                    o                   x  negative  \n",
       "955                    o                   x  negative  \n",
       "956                    o                   x  negative  \n",
       "957                    x                   x  negative  \n",
       "\n",
       "[958 rows x 10 columns]"
      ]
     },
     "execution_count": 68,
     "metadata": {},
     "output_type": "execute_result"
    }
   ],
   "source": [
    "train"
   ]
  },
  {
   "cell_type": "code",
   "execution_count": 69,
   "metadata": {},
   "outputs": [
    {
     "name": "stdout",
     "output_type": "stream",
     "text": [
      "Rules original\n",
      "IF middle-middle-square = {x} AND bottom-left-square = {b} AND top-right-square = {b} THEN class = {positive} (p = 30.0, n = 0.0, P = 626.0, N = 332.0, weight = 0.5239616613418531, pvalue = 2.232953092174273e-06)\n",
      "IF middle-middle-square = {x} AND bottom-left-square = {b} AND top-right-square = {x} THEN class = {positive} (p = 20.0, n = 0.0, P = 626.0, N = 332.0, weight = 0.5159744408945687, pvalue = 0.00018100703894850716)\n",
      "IF middle-middle-square = {x} AND bottom-middle-square = {o} AND bottom-right-square = {x} AND bottom-left-square = {b} THEN class = {positive} (p = 22.0, n = 0.0, P = 626.0, N = 332.0, weight = 0.5175718849840255, pvalue = 7.550592519529088e-05)\n",
      "IF middle-middle-square = {x} AND bottom-middle-square = {o} AND bottom-left-square = {b} AND middle-right-square = {x} THEN class = {positive} (p = 22.0, n = 0.0, P = 626.0, N = 332.0, weight = 0.5175718849840255, pvalue = 7.550592519529088e-05)\n",
      "IF middle-middle-square = {x} AND top-left-square = {x} AND middle-left-square = {o} AND bottom-left-square = {b} THEN class = {positive} (p = 22.0, n = 0.0, P = 626.0, N = 332.0, weight = 0.5175718849840255, pvalue = 7.550592519529088e-05)\n",
      "IF middle-middle-square = {x} AND top-middle-square = {x} AND middle-left-square = {o} AND bottom-left-square = {b} THEN class = {positive} (p = 22.0, n = 0.0, P = 626.0, N = 332.0, weight = 0.5175718849840255, pvalue = 7.550592519529088e-05)\n",
      "IF middle-middle-square = {x} AND middle-left-square = {x} AND middle-right-square = {x} THEN class = {positive} (p = 78.0, n = 0.0, P = 626.0, N = 332.0, weight = 0.5623003194888179, pvalue = 6.468907239907097e-16)\n",
      "IF middle-middle-square = {x} AND top-middle-square = {x} AND bottom-middle-square = {x} THEN class = {positive} (p = 78.0, n = 0.0, P = 626.0, N = 332.0, weight = 0.5623003194888179, pvalue = 6.468907239907097e-16)\n",
      "IF middle-middle-square = {x} AND top-left-square = {b} AND bottom-right-square = {b} THEN class = {positive} (p = 30.0, n = 0.0, P = 626.0, N = 332.0, weight = 0.5239616613418531, pvalue = 2.232953092174273e-06)\n",
      "IF middle-middle-square = {x} AND top-left-square = {x} AND bottom-right-square = {b} THEN class = {positive} (p = 20.0, n = 0.0, P = 626.0, N = 332.0, weight = 0.5159744408945687, pvalue = 0.00018100703894850716)\n",
      "IF middle-middle-square = {x} AND bottom-right-square = {b} AND bottom-middle-square = {o} AND bottom-left-square = {x} THEN class = {positive} (p = 22.0, n = 0.0, P = 626.0, N = 332.0, weight = 0.5175718849840255, pvalue = 7.550592519529088e-05)\n",
      "IF middle-middle-square = {x} AND bottom-right-square = {b} AND middle-right-square = {o} AND top-right-square = {x} THEN class = {positive} (p = 22.0, n = 0.0, P = 626.0, N = 332.0, weight = 0.5175718849840255, pvalue = 7.550592519529088e-05)\n",
      "IF middle-middle-square = {x} AND top-left-square = {b} AND bottom-right-square = {x} THEN class = {positive} (p = 20.0, n = 0.0, P = 626.0, N = 332.0, weight = 0.5159744408945687, pvalue = 0.00018100703894850716)\n",
      "IF middle-middle-square = {x} AND top-left-square = {b} AND middle-left-square = {o} AND bottom-left-square = {x} THEN class = {positive} (p = 22.0, n = 0.0, P = 626.0, N = 332.0, weight = 0.5175718849840255, pvalue = 7.550592519529088e-05)\n",
      "IF middle-middle-square = {x} AND top-left-square = {b} AND top-middle-square = {o} AND top-right-square = {x} THEN class = {positive} (p = 22.0, n = 0.0, P = 626.0, N = 332.0, weight = 0.5175718849840255, pvalue = 7.550592519529088e-05)\n",
      "IF middle-middle-square = {x} AND bottom-left-square = {x} AND top-right-square = {b} THEN class = {positive} (p = 20.0, n = 0.0, P = 626.0, N = 332.0, weight = 0.5159744408945687, pvalue = 0.00018100703894850716)\n",
      "IF middle-middle-square = {x} AND bottom-right-square = {x} AND middle-right-square = {o} AND top-right-square = {b} THEN class = {positive} (p = 22.0, n = 0.0, P = 626.0, N = 332.0, weight = 0.5175718849840255, pvalue = 7.550592519529088e-05)\n",
      "IF middle-middle-square = {x} AND top-left-square = {x} AND top-middle-square = {o} AND top-right-square = {b} THEN class = {positive} (p = 22.0, n = 0.0, P = 626.0, N = 332.0, weight = 0.5175718849840255, pvalue = 7.550592519529088e-05)\n",
      "IF middle-middle-square = {x} AND bottom-left-square = {x} AND top-right-square = {x} THEN class = {positive} (p = 90.0, n = 0.0, P = 626.0, N = 332.0, weight = 0.5718849840255591, pvalue = 2.1010924382106886e-18)\n",
      "IF middle-middle-square = {x} AND top-left-square = {x} AND bottom-right-square = {x} THEN class = {positive} (p = 90.0, n = 0.0, P = 626.0, N = 332.0, weight = 0.5718849840255591, pvalue = 2.1010924382106886e-18)\n",
      "IF middle-middle-square = {x} THEN class = {positive} (p = 366.0, n = 92.0, P = 626.0, N = 332.0, weight = 0.33307385827753727, pvalue = 3.658102739045527e-20)\n",
      "IF middle-middle-square = {b} AND bottom-left-square = {x} AND top-right-square = {b} THEN class = {positive} (p = 20.0, n = 0.0, P = 626.0, N = 332.0, weight = 0.5159744408945687, pvalue = 0.00018100703894850716)\n",
      "IF middle-middle-square = {b} AND bottom-left-square = {x} AND top-right-square = {x} THEN class = {positive} (p = 16.0, n = 0.0, P = 626.0, N = 332.0, weight = 0.5127795527156549, pvalue = 0.00103297554023323)\n",
      "IF middle-middle-square = {b} AND top-left-square = {x} AND bottom-middle-square = {o} AND bottom-left-square = {x} THEN class = {positive} (p = 19.0, n = 0.0, P = 626.0, N = 332.0, weight = 0.5151757188498403, pvalue = 0.00028000924147060334)\n",
      "IF middle-middle-square = {b} AND bottom-right-square = {x} AND middle-left-square = {o} AND bottom-left-square = {x} THEN class = {positive} (p = 19.0, n = 0.0, P = 626.0, N = 332.0, weight = 0.5151757188498403, pvalue = 0.00028000924147060334)\n",
      "IF bottom-right-square = {x} AND bottom-middle-square = {x} AND bottom-left-square = {x} THEN class = {positive} (p = 78.0, n = 0.0, P = 626.0, N = 332.0, weight = 0.5623003194888179, pvalue = 6.468907239907097e-16)\n",
      "IF top-left-square = {x} AND middle-left-square = {x} AND bottom-left-square = {x} THEN class = {positive} (p = 78.0, n = 0.0, P = 626.0, N = 332.0, weight = 0.5623003194888179, pvalue = 6.468907239907097e-16)\n",
      "IF bottom-right-square = {x} AND middle-right-square = {x} AND top-right-square = {x} THEN class = {positive} (p = 78.0, n = 0.0, P = 626.0, N = 332.0, weight = 0.5623003194888179, pvalue = 6.468907239907097e-16)\n",
      "IF top-left-square = {x} AND top-middle-square = {x} AND top-right-square = {x} THEN class = {positive} (p = 78.0, n = 0.0, P = 626.0, N = 332.0, weight = 0.5623003194888179, pvalue = 6.468907239907097e-16)\n",
      "IF middle-middle-square = {o} AND bottom-left-square = {o} AND top-right-square = {o} THEN class = {negative} (p = 50.0, n = 0.0, P = 332.0, N = 626.0, weight = 0.5753012048192772, pvalue = 7.331205837871162e-25)\n",
      "IF middle-middle-square = {o} AND bottom-left-square = {o} AND top-right-square = {b} THEN class = {negative} (p = 5.0, n = 0.0, P = 332.0, N = 626.0, weight = 0.5075301204819277, pvalue = 0.004900751410696514)\n",
      "IF middle-middle-square = {o} AND bottom-middle-square = {x} AND middle-left-square = {x} AND bottom-left-square = {o} THEN class = {negative} (p = 22.0, n = 2.0, P = 332.0, N = 626.0, weight = 0.46514251895761954, pvalue = 6.047497419898437e-09)\n",
      "IF middle-middle-square = {o} AND bottom-middle-square = {x} AND bottom-left-square = {o} THEN class = {negative} (p = 43.0, n = 10.0, P = 332.0, N = 626.0, weight = 0.40168737521670256, pvalue = 1.17595235275647e-12)\n",
      "IF middle-middle-square = {o} AND middle-left-square = {x} AND bottom-left-square = {o} THEN class = {negative} (p = 43.0, n = 10.0, P = 332.0, N = 626.0, weight = 0.40168737521670256, pvalue = 1.17595235275647e-12)\n",
      "IF middle-middle-square = {o} AND top-left-square = {o} AND bottom-right-square = {o} THEN class = {negative} (p = 50.0, n = 0.0, P = 332.0, N = 626.0, weight = 0.5753012048192772, pvalue = 7.331205837871162e-25)\n",
      "IF middle-middle-square = {o} AND top-middle-square = {x} AND bottom-right-square = {o} AND bottom-middle-square = {x} AND bottom-left-square = {x} THEN class = {negative} (p = 12.0, n = 0.0, P = 332.0, N = 626.0, weight = 0.5180722891566265, pvalue = 2.630033763947565e-06)\n",
      "IF middle-middle-square = {o} AND bottom-right-square = {o} THEN class = {negative} (p = 70.0, n = 33.0, P = 332.0, N = 626.0, weight = 0.3085793342419587, pvalue = 2.8528200363000807e-13)\n",
      "IF middle-middle-square = {o} AND top-left-square = {o} AND middle-left-square = {x} AND bottom-left-square = {x} AND middle-right-square = {x} THEN class = {negative} (p = 12.0, n = 0.0, P = 332.0, N = 626.0, weight = 0.5180722891566265, pvalue = 2.630033763947565e-06)\n",
      "IF middle-middle-square = {o} AND top-left-square = {o} THEN class = {negative} (p = 70.0, n = 33.0, P = 332.0, N = 626.0, weight = 0.3085793342419587, pvalue = 2.8528200363000807e-13)\n",
      "IF middle-middle-square = {o} AND top-left-square = {x} AND bottom-right-square = {x} AND top-right-square = {o} THEN class = {negative} (p = 21.0, n = 9.0, P = 332.0, N = 626.0, weight = 0.28755388968012624, pvalue = 6.567032020332016e-05)\n",
      "IF middle-middle-square = {o} AND middle-left-square = {o} AND middle-right-square = {o} THEN class = {negative} (p = 36.0, n = 0.0, P = 332.0, N = 626.0, weight = 0.5542168674698795, pvalue = 7.342482835464128e-18)\n",
      "IF middle-middle-square = {o} AND top-middle-square = {o} AND bottom-middle-square = {o} THEN class = {negative} (p = 36.0, n = 0.0, P = 332.0, N = 626.0, weight = 0.5542168674698795, pvalue = 7.342482835464128e-18)\n",
      "IF bottom-right-square = {o} AND bottom-middle-square = {o} AND bottom-left-square = {o} THEN class = {negative} (p = 36.0, n = 0.0, P = 332.0, N = 626.0, weight = 0.5542168674698795, pvalue = 7.342482835464128e-18)\n",
      "IF top-left-square = {x} AND bottom-right-square = {o} AND bottom-left-square = {o} THEN class = {negative} (p = 31.0, n = 20.0, P = 332.0, N = 626.0, weight = 0.21859935513525636, pvalue = 8.10395667152605e-05)\n",
      "IF top-left-square = {o} AND middle-left-square = {o} AND bottom-left-square = {o} THEN class = {negative} (p = 36.0, n = 0.0, P = 332.0, N = 626.0, weight = 0.5542168674698795, pvalue = 7.342482835464128e-18)\n",
      "IF top-left-square = {o} AND bottom-right-square = {x} AND bottom-left-square = {o} THEN class = {negative} (p = 31.0, n = 20.0, P = 332.0, N = 626.0, weight = 0.21859935513525636, pvalue = 8.10395667152605e-05)\n",
      "IF bottom-right-square = {o} AND middle-right-square = {o} AND top-right-square = {o} THEN class = {negative} (p = 36.0, n = 0.0, P = 332.0, N = 626.0, weight = 0.5542168674698795, pvalue = 7.342482835464128e-18)\n",
      "IF bottom-right-square = {o} AND bottom-left-square = {x} AND top-right-square = {o} THEN class = {negative} (p = 31.0, n = 20.0, P = 332.0, N = 626.0, weight = 0.21859935513525636, pvalue = 8.10395667152605e-05)\n",
      "IF top-left-square = {o} AND top-middle-square = {o} AND top-right-square = {o} THEN class = {negative} (p = 36.0, n = 0.0, P = 332.0, N = 626.0, weight = 0.5542168674698795, pvalue = 7.342482835464128e-18)\n",
      "\n",
      "\n",
      "Complex rules\n",
      "IF middle-middle-square = bottom-left-square = top-right-square AND middle-middle-square = {x} THEN class = {positive} (p = 90.0, n = 0.0, P = 626.0, N = 332.0, weight = 0.5718849840255591, pvalue = 2.1010924382106886e-18)\n",
      "IF top-left-square = middle-middle-square = bottom-right-square AND middle-middle-square = {x} THEN class = {positive} (p = 90.0, n = 0.0, P = 626.0, N = 332.0, weight = 0.5718849840255591, pvalue = 2.1010924382106886e-18)\n",
      "IF middle-middle-square = middle-left-square = middle-right-square AND middle-middle-square = {x} THEN class = {positive} (p = 78.0, n = 0.0, P = 626.0, N = 332.0, weight = 0.5623003194888179, pvalue = 6.468907239907097e-16)\n",
      "IF middle-middle-square = top-middle-square = bottom-middle-square AND middle-middle-square = {x} THEN class = {positive} (p = 78.0, n = 0.0, P = 626.0, N = 332.0, weight = 0.5623003194888179, pvalue = 6.468907239907097e-16)\n",
      "IF middle-left-square = middle-right-square AND bottom-right-square != top-right-square AND middle-middle-square = {x} AND middle-left-square != {b} THEN class = {positive} (p = 94.0, n = 0.0, P = 626.0, N = 332.0, weight = 0.5750798722044729, pvalue = 3.042001160383574e-19)\n",
      "IF top-middle-square = bottom-middle-square AND bottom-right-square != bottom-left-square AND middle-middle-square = {x} AND bottom-middle-square != {b} THEN class = {positive} (p = 94.0, n = 0.0, P = 626.0, N = 332.0, weight = 0.5750798722044729, pvalue = 3.042001160383574e-19)\n",
      "IF bottom-middle-square != bottom-left-square AND bottom-right-square != top-right-square AND top-middle-square != bottom-left-square AND middle-middle-square = {x} AND top-left-square != {o} THEN class = {positive} (p = 110.0, n = 0.0, P = 626.0, N = 332.0, weight = 0.5878594249201278, pvalue = 1.1892731932005817e-22)\n",
      "IF bottom-middle-square != bottom-left-square AND top-left-square != top-right-square AND middle-middle-square != bottom-middle-square AND middle-middle-square != top-middle-square AND top-middle-square != bottom-middle-square AND middle-middle-square = {x} THEN class = {positive} (p = 65.0, n = 0.0, P = 626.0, N = 332.0, weight = 0.5519169329073482, pvalue = 2.871489796438103e-13)\n",
      "IF bottom-middle-square != bottom-right-square AND top-middle-square != bottom-right-square AND bottom-middle-square != top-right-square AND top-middle-square != middle-right-square AND middle-middle-square = {x} AND top-right-square != {o} THEN class = {positive} (p = 87.0, n = 0.0, P = 626.0, N = 332.0, weight = 0.5694888178913738, pvalue = 8.884991512339412e-18)\n",
      "IF bottom-right-square != middle-right-square AND bottom-right-square != middle-left-square AND bottom-left-square != middle-right-square AND bottom-middle-square != middle-left-square AND middle-middle-square = {x} AND bottom-left-square != {o} THEN class = {positive} (p = 87.0, n = 0.0, P = 626.0, N = 332.0, weight = 0.5694888178913738, pvalue = 8.884991512339412e-18)\n",
      "IF middle-middle-square = middle-left-square = middle-right-square AND middle-middle-square != {o} THEN class = {positive} (p = 84.0, n = 0.0, P = 626.0, N = 332.0, weight = 0.5670926517571885, pvalue = 3.733437342682929e-17)\n",
      "IF middle-middle-square = top-middle-square = bottom-middle-square AND middle-middle-square != {o} THEN class = {positive} (p = 84.0, n = 0.0, P = 626.0, N = 332.0, weight = 0.5670926517571885, pvalue = 3.733437342682929e-17)\n",
      "IF bottom-left-square = top-right-square AND middle-middle-square != {o} AND bottom-left-square != {o} THEN class = {positive} (p = 136.0, n = 0.0, P = 626.0, N = 332.0, weight = 0.6086261980830671, pvalue = 2.269144649595562e-28)\n",
      "IF top-left-square = bottom-right-square AND middle-middle-square != {o} AND bottom-right-square != {o} THEN class = {positive} (p = 136.0, n = 0.0, P = 626.0, N = 332.0, weight = 0.6086261980830671, pvalue = 2.269144649595562e-28)\n",
      "IF middle-left-square = middle-right-square AND bottom-middle-square != bottom-left-square AND middle-left-square != top-right-square AND middle-middle-square != {o} AND top-left-square != {o} THEN class = {positive} (p = 77.0, n = 0.0, P = 626.0, N = 332.0, weight = 0.5615015974440895, pvalue = 1.0380887574423533e-15)\n",
      "IF middle-left-square = middle-right-square AND top-middle-square != top-right-square AND bottom-left-square != middle-right-square AND middle-middle-square != {o} AND bottom-right-square != {o} THEN class = {positive} (p = 77.0, n = 0.0, P = 626.0, N = 332.0, weight = 0.5615015974440895, pvalue = 1.0380887574423533e-15)\n",
      "IF top-middle-square = bottom-middle-square AND middle-middle-square != {o} THEN class = {positive} (p = 194.0, n = 24.0, P = 626.0, N = 332.0, weight = 0.44689059017675176, pvalue = 4.319330113780671e-19)\n",
      "IF middle-middle-square != {o} AND bottom-left-square != {o} AND top-right-square != {o} THEN class = {positive} (p = 216.0, n = 0.0, P = 626.0, N = 332.0, weight = 0.6725239616613419, pvalue = 1.3870315196077247e-47)\n",
      "IF bottom-middle-square = bottom-right-square = bottom-left-square AND bottom-left-square != {o} THEN class = {positive} (p = 84.0, n = 0.0, P = 626.0, N = 332.0, weight = 0.5670926517571885, pvalue = 3.733437342682929e-17)\n",
      "IF top-left-square = middle-left-square = bottom-left-square AND bottom-left-square != {o} THEN class = {positive} (p = 84.0, n = 0.0, P = 626.0, N = 332.0, weight = 0.5670926517571885, pvalue = 3.733437342682929e-17)\n",
      "IF middle-middle-square != {o} AND top-left-square != {o} AND bottom-right-square != {o} THEN class = {positive} (p = 216.0, n = 0.0, P = 626.0, N = 332.0, weight = 0.6725239616613419, pvalue = 1.3870315196077247e-47)\n",
      "IF bottom-middle-square = bottom-right-square AND middle-left-square != middle-right-square AND bottom-left-square != top-right-square AND bottom-left-square != {o} AND top-right-square != {o} THEN class = {positive} (p = 40.0, n = 0.0, P = 626.0, N = 332.0, weight = 0.5319488817891374, pvalue = 2.5943459816489313e-08)\n",
      "IF top-left-square = middle-left-square AND bottom-right-square != middle-left-square AND middle-left-square != middle-right-square AND middle-middle-square != top-middle-square AND bottom-left-square != {o} AND top-right-square != {o} THEN class = {positive} (p = 58.0, n = 0.0, P = 626.0, N = 332.0, weight = 0.5463258785942492, pvalue = 7.300065116486725e-12)\n",
      "IF middle-middle-square != top-middle-square AND top-left-square = {x} AND bottom-left-square != {o} AND middle-right-square = {b} THEN class = {positive} (p = 52.0, n = 0.0, P = 626.0, N = 332.0, weight = 0.5415335463258786, pvalue = 1.1397385732426703e-10)\n",
      "IF middle-middle-square != middle-right-square AND top-middle-square = {b} AND bottom-right-square = {x} AND bottom-left-square != {o} THEN class = {positive} (p = 52.0, n = 0.0, P = 626.0, N = 332.0, weight = 0.5415335463258786, pvalue = 1.1397385732426703e-10)\n",
      "IF bottom-right-square = middle-right-square = top-right-square AND bottom-right-square != {o} THEN class = {positive} (p = 84.0, n = 0.0, P = 626.0, N = 332.0, weight = 0.5670926517571885, pvalue = 3.733437342682929e-17)\n",
      "IF top-left-square = top-middle-square = top-right-square AND top-left-square != {o} THEN class = {positive} (p = 84.0, n = 0.0, P = 626.0, N = 332.0, weight = 0.5670926517571885, pvalue = 3.733437342682929e-17)\n",
      "IF middle-middle-square = bottom-left-square = top-right-square AND middle-middle-square = {o} THEN class = {negative} (p = 50.0, n = 0.0, P = 332.0, N = 626.0, weight = 0.5753012048192772, pvalue = 7.331205837871162e-25)\n",
      "IF top-left-square = middle-middle-square = bottom-right-square AND middle-middle-square = {o} THEN class = {negative} (p = 50.0, n = 0.0, P = 332.0, N = 626.0, weight = 0.5753012048192772, pvalue = 7.331205837871162e-25)\n",
      "IF middle-middle-square = middle-left-square = middle-right-square AND middle-middle-square = {o} THEN class = {negative} (p = 36.0, n = 0.0, P = 332.0, N = 626.0, weight = 0.5542168674698795, pvalue = 7.342482835464128e-18)\n",
      "IF middle-middle-square = top-middle-square = bottom-middle-square AND middle-middle-square = {o} THEN class = {negative} (p = 36.0, n = 0.0, P = 332.0, N = 626.0, weight = 0.5542168674698795, pvalue = 7.342482835464128e-18)\n",
      "IF middle-left-square = middle-right-square AND bottom-right-square != top-right-square AND bottom-left-square != middle-right-square AND middle-middle-square = {o} AND middle-left-square != {b} THEN class = {negative} (p = 51.0, n = 0.0, P = 332.0, N = 626.0, weight = 0.5768072289156626, pvalue = 2.2768722976647244e-25)\n",
      "IF top-middle-square = bottom-middle-square AND bottom-right-square != bottom-left-square AND bottom-middle-square != top-right-square AND middle-middle-square = {o} AND bottom-middle-square != {b} THEN class = {negative} (p = 51.0, n = 0.0, P = 332.0, N = 626.0, weight = 0.5768072289156626, pvalue = 2.2768722976647244e-25)\n",
      "IF bottom-middle-square != bottom-left-square AND middle-right-square != top-right-square AND middle-middle-square = {o} AND top-left-square != {x} THEN class = {negative} (p = 61.0, n = 0.0, P = 332.0, N = 626.0, weight = 0.5918674698795181, pvalue = 1.658080345633101e-30)\n",
      "IF middle-middle-square = {o} AND top-middle-square != {b} AND bottom-middle-square != {b} AND middle-left-square != {b} AND middle-right-square != {b} THEN class = {negative} (p = 68.0, n = 28.0, P = 332.0, N = 626.0, weight = 0.3335225887575862, pvalue = 2.5162126068952946e-14)\n",
      "IF middle-left-square = middle-right-square AND bottom-right-square != top-right-square AND middle-middle-square != {x} AND middle-left-square != {b} AND bottom-left-square != {x} AND middle-right-square != {o} THEN class = {negative} (p = 40.0, n = 0.0, P = 332.0, N = 626.0, weight = 0.5602409638554217, pvalue = 7.692681075693076e-20)\n",
      "IF middle-left-square = middle-right-square AND middle-right-square != top-right-square AND middle-middle-square != {x} AND middle-right-square != {b} THEN class = {negative} (p = 80.0, n = 23.0, P = 332.0, N = 626.0, weight = 0.40844528272835745, pvalue = 3.148298411767572e-21)\n",
      "IF top-middle-square = bottom-middle-square AND bottom-right-square != bottom-left-square AND middle-middle-square != {x} AND top-left-square != {x} AND top-middle-square != {o} AND bottom-middle-square != {b} THEN class = {negative} (p = 40.0, n = 0.0, P = 332.0, N = 626.0, weight = 0.5602409638554217, pvalue = 7.692681075693076e-20)\n",
      "IF middle-middle-square != {x} AND bottom-left-square = {o} AND top-right-square != {x} THEN class = {negative} (p = 67.0, n = 0.0, P = 332.0, N = 626.0, weight = 0.6009036144578314, pvalue = 1.2126662151860296e-33)\n",
      "IF top-left-square = middle-left-square = bottom-left-square AND bottom-left-square = {o} THEN class = {negative} (p = 36.0, n = 0.0, P = 332.0, N = 626.0, weight = 0.5542168674698795, pvalue = 7.342482835464128e-18)\n",
      "IF bottom-right-square = middle-right-square = top-right-square AND bottom-right-square = {o} THEN class = {negative} (p = 36.0, n = 0.0, P = 332.0, N = 626.0, weight = 0.5542168674698795, pvalue = 7.342482835464128e-18)\n",
      "IF top-left-square = top-middle-square = top-right-square AND top-left-square = {o} THEN class = {negative} (p = 36.0, n = 0.0, P = 332.0, N = 626.0, weight = 0.5542168674698795, pvalue = 7.342482835464128e-18)\n",
      "IF bottom-middle-square = bottom-right-square = bottom-left-square AND bottom-left-square = {o} THEN class = {negative} (p = 36.0, n = 0.0, P = 332.0, N = 626.0, weight = 0.5542168674698795, pvalue = 7.342482835464128e-18)\n",
      "IF bottom-middle-square = top-right-square AND top-middle-square = bottom-left-square AND top-left-square != bottom-right-square AND middle-left-square != middle-right-square AND middle-middle-square = {x} THEN class = {negative} (p = 10.0, n = 0.0, P = 332.0, N = 626.0, weight = 0.5150602409638554, pvalue = 2.2843294361433606e-05)\n",
      "\n",
      "\n",
      "Complex rules + inners alternatives\n",
      "IF middle-middle-square = bottom-left-square = top-right-square AND middle-middle-square = {x} THEN class = {positive} (p = 90.0, n = 0.0, P = 626.0, N = 332.0, weight = 0.5718849840255591, pvalue = 2.1010924382106886e-18)\n",
      "IF top-left-square = middle-middle-square = bottom-right-square AND middle-middle-square = {x} THEN class = {positive} (p = 90.0, n = 0.0, P = 626.0, N = 332.0, weight = 0.5718849840255591, pvalue = 2.1010924382106886e-18)\n",
      "IF middle-middle-square = middle-left-square = middle-right-square AND middle-middle-square = {x} THEN class = {positive} (p = 78.0, n = 0.0, P = 626.0, N = 332.0, weight = 0.5623003194888179, pvalue = 6.468907239907097e-16)\n",
      "IF middle-middle-square = top-middle-square = bottom-middle-square AND middle-middle-square = {x} THEN class = {positive} (p = 78.0, n = 0.0, P = 626.0, N = 332.0, weight = 0.5623003194888179, pvalue = 6.468907239907097e-16)\n",
      "IF middle-left-square = middle-right-square AND bottom-right-square != top-right-square AND middle-middle-square = {x} AND middle-left-square != {b} THEN class = {positive} (p = 94.0, n = 0.0, P = 626.0, N = 332.0, weight = 0.5750798722044729, pvalue = 3.042001160383574e-19)\n",
      "IF top-middle-square = bottom-middle-square AND bottom-right-square != bottom-left-square AND middle-middle-square = {x} AND bottom-middle-square != {b} THEN class = {positive} (p = 94.0, n = 0.0, P = 626.0, N = 332.0, weight = 0.5750798722044729, pvalue = 3.042001160383574e-19)\n",
      "IF bottom-middle-square != bottom-left-square AND bottom-right-square != top-right-square AND top-middle-square != bottom-left-square AND middle-middle-square = {x} AND top-left-square != {o} THEN class = {positive} (p = 110.0, n = 0.0, P = 626.0, N = 332.0, weight = 0.5878594249201278, pvalue = 1.1892731932005817e-22)\n",
      "IF bottom-middle-square != bottom-left-square AND top-left-square != top-right-square AND middle-middle-square != bottom-middle-square AND middle-middle-square != top-middle-square AND top-middle-square != bottom-middle-square AND middle-middle-square = {x} THEN class = {positive} (p = 65.0, n = 0.0, P = 626.0, N = 332.0, weight = 0.5519169329073482, pvalue = 2.871489796438103e-13)\n",
      "IF bottom-middle-square != bottom-right-square AND top-middle-square != bottom-right-square AND bottom-middle-square != top-right-square AND top-middle-square != middle-right-square AND middle-middle-square = {x} AND top-right-square != {o} THEN class = {positive} (p = 87.0, n = 0.0, P = 626.0, N = 332.0, weight = 0.5694888178913738, pvalue = 8.884991512339412e-18)\n",
      "IF bottom-right-square != middle-right-square AND bottom-right-square != middle-left-square AND bottom-left-square != middle-right-square AND bottom-middle-square != middle-left-square AND middle-middle-square = {x} AND bottom-left-square != {o} THEN class = {positive} (p = 87.0, n = 0.0, P = 626.0, N = 332.0, weight = 0.5694888178913738, pvalue = 8.884991512339412e-18)\n",
      "IF middle-middle-square = middle-left-square = middle-right-square AND middle-middle-square != {o} THEN class = {positive} (p = 84.0, n = 0.0, P = 626.0, N = 332.0, weight = 0.5670926517571885, pvalue = 3.733437342682929e-17)\n",
      "IF middle-middle-square = top-middle-square = bottom-middle-square AND middle-middle-square != {o} THEN class = {positive} (p = 84.0, n = 0.0, P = 626.0, N = 332.0, weight = 0.5670926517571885, pvalue = 3.733437342682929e-17)\n",
      "IF bottom-left-square = top-right-square AND middle-middle-square != {o} AND bottom-left-square != {o} THEN class = {positive} (p = 136.0, n = 0.0, P = 626.0, N = 332.0, weight = 0.6086261980830671, pvalue = 2.269144649595562e-28)\n",
      "IF top-left-square = bottom-right-square AND middle-middle-square != {o} AND bottom-right-square != {o} THEN class = {positive} (p = 136.0, n = 0.0, P = 626.0, N = 332.0, weight = 0.6086261980830671, pvalue = 2.269144649595562e-28)\n",
      "IF middle-left-square = middle-right-square AND bottom-middle-square != bottom-left-square AND middle-left-square != top-right-square AND middle-middle-square != {o} AND top-left-square != {o} THEN class = {positive} (p = 77.0, n = 0.0, P = 626.0, N = 332.0, weight = 0.5615015974440895, pvalue = 1.0380887574423533e-15)\n",
      "IF middle-left-square = middle-right-square AND top-middle-square != top-right-square AND bottom-left-square != middle-right-square AND middle-middle-square != {o} AND bottom-right-square != {o} THEN class = {positive} (p = 77.0, n = 0.0, P = 626.0, N = 332.0, weight = 0.5615015974440895, pvalue = 1.0380887574423533e-15)\n",
      "IF top-middle-square = bottom-middle-square AND middle-middle-square != {o} THEN class = {positive} (p = 194.0, n = 24.0, P = 626.0, N = 332.0, weight = 0.44689059017675176, pvalue = 4.319330113780671e-19)\n",
      "IF middle-middle-square != {o} AND bottom-left-square != {o} AND top-right-square != {o} THEN class = {positive} (p = 216.0, n = 0.0, P = 626.0, N = 332.0, weight = 0.6725239616613419, pvalue = 1.3870315196077247e-47)\n",
      "IF bottom-middle-square = bottom-right-square = bottom-left-square AND bottom-left-square != {o} THEN class = {positive} (p = 84.0, n = 0.0, P = 626.0, N = 332.0, weight = 0.5670926517571885, pvalue = 3.733437342682929e-17)\n",
      "IF top-left-square = middle-left-square = bottom-left-square AND bottom-left-square != {o} THEN class = {positive} (p = 84.0, n = 0.0, P = 626.0, N = 332.0, weight = 0.5670926517571885, pvalue = 3.733437342682929e-17)\n",
      "IF middle-middle-square != {o} AND top-left-square != {o} AND bottom-right-square != {o} THEN class = {positive} (p = 216.0, n = 0.0, P = 626.0, N = 332.0, weight = 0.6725239616613419, pvalue = 1.3870315196077247e-47)\n",
      "IF bottom-middle-square = bottom-right-square AND middle-left-square != middle-right-square AND bottom-left-square != top-right-square AND bottom-left-square != {o} AND top-right-square != {o} THEN class = {positive} (p = 40.0, n = 0.0, P = 626.0, N = 332.0, weight = 0.5319488817891374, pvalue = 2.5943459816489313e-08)\n",
      "IF top-left-square = middle-left-square AND bottom-right-square != middle-left-square AND middle-left-square != middle-right-square AND middle-middle-square != top-middle-square AND bottom-left-square != {o} AND top-right-square != {o} THEN class = {positive} (p = 58.0, n = 0.0, P = 626.0, N = 332.0, weight = 0.5463258785942492, pvalue = 7.300065116486725e-12)\n",
      "IF middle-middle-square != top-middle-square AND top-left-square = {x} AND bottom-left-square != {o} AND middle-right-square = {b} THEN class = {positive} (p = 52.0, n = 0.0, P = 626.0, N = 332.0, weight = 0.5415335463258786, pvalue = 1.1397385732426703e-10)\n",
      "IF middle-middle-square != middle-right-square AND top-middle-square = {b} AND bottom-right-square = {x} AND bottom-left-square != {o} THEN class = {positive} (p = 52.0, n = 0.0, P = 626.0, N = 332.0, weight = 0.5415335463258786, pvalue = 1.1397385732426703e-10)\n",
      "IF bottom-right-square = middle-right-square = top-right-square AND bottom-right-square != {o} THEN class = {positive} (p = 84.0, n = 0.0, P = 626.0, N = 332.0, weight = 0.5670926517571885, pvalue = 3.733437342682929e-17)\n",
      "IF top-left-square = top-middle-square = top-right-square AND top-left-square != {o} THEN class = {positive} (p = 84.0, n = 0.0, P = 626.0, N = 332.0, weight = 0.5670926517571885, pvalue = 3.733437342682929e-17)\n",
      "IF middle-middle-square = bottom-left-square = top-right-square AND middle-middle-square = {o} THEN class = {negative} (p = 50.0, n = 0.0, P = 332.0, N = 626.0, weight = 0.5753012048192772, pvalue = 7.331205837871162e-25)\n",
      "IF top-left-square = middle-middle-square = bottom-right-square AND middle-middle-square = {o} THEN class = {negative} (p = 50.0, n = 0.0, P = 332.0, N = 626.0, weight = 0.5753012048192772, pvalue = 7.331205837871162e-25)\n",
      "IF middle-middle-square = middle-left-square = middle-right-square AND middle-middle-square = {o} THEN class = {negative} (p = 36.0, n = 0.0, P = 332.0, N = 626.0, weight = 0.5542168674698795, pvalue = 7.342482835464128e-18)\n",
      "IF middle-middle-square = top-middle-square = bottom-middle-square AND middle-middle-square = {o} THEN class = {negative} (p = 36.0, n = 0.0, P = 332.0, N = 626.0, weight = 0.5542168674698795, pvalue = 7.342482835464128e-18)\n",
      "IF middle-left-square = middle-right-square AND bottom-right-square != top-right-square AND bottom-left-square != middle-right-square AND middle-middle-square = {o} AND middle-left-square != {b} THEN class = {negative} (p = 51.0, n = 0.0, P = 332.0, N = 626.0, weight = 0.5768072289156626, pvalue = 2.2768722976647244e-25)\n",
      "IF top-middle-square = bottom-middle-square AND bottom-right-square != bottom-left-square AND bottom-middle-square != top-right-square AND middle-middle-square = {o} AND bottom-middle-square != {b} THEN class = {negative} (p = 51.0, n = 0.0, P = 332.0, N = 626.0, weight = 0.5768072289156626, pvalue = 2.2768722976647244e-25)\n",
      "IF bottom-middle-square != bottom-left-square AND middle-right-square != top-right-square AND middle-middle-square = {o} AND top-left-square != {x} THEN class = {negative} (p = 61.0, n = 0.0, P = 332.0, N = 626.0, weight = 0.5918674698795181, pvalue = 1.658080345633101e-30)\n",
      "IF middle-middle-square = {o} AND top-middle-square != {b} AND bottom-middle-square != {b} AND middle-left-square != {b} AND middle-right-square != {b} THEN class = {negative} (p = 68.0, n = 28.0, P = 332.0, N = 626.0, weight = 0.3335225887575862, pvalue = 2.5162126068952946e-14)\n",
      "IF middle-left-square = middle-right-square AND bottom-right-square != top-right-square AND middle-middle-square != {x} AND middle-left-square != {b} AND bottom-left-square != {x} AND middle-right-square != {o} THEN class = {negative} (p = 40.0, n = 0.0, P = 332.0, N = 626.0, weight = 0.5602409638554217, pvalue = 7.692681075693076e-20)\n",
      "IF middle-left-square = middle-right-square AND middle-right-square != top-right-square AND middle-middle-square != {x} AND middle-right-square != {b} THEN class = {negative} (p = 80.0, n = 23.0, P = 332.0, N = 626.0, weight = 0.40844528272835745, pvalue = 3.148298411767572e-21)\n",
      "IF top-middle-square = bottom-middle-square AND bottom-right-square != bottom-left-square AND middle-middle-square != {x} AND top-left-square != {x} AND top-middle-square != {o} AND bottom-middle-square != {b} THEN class = {negative} (p = 40.0, n = 0.0, P = 332.0, N = 626.0, weight = 0.5602409638554217, pvalue = 7.692681075693076e-20)\n",
      "IF middle-middle-square != {x} AND bottom-left-square = {o} AND top-right-square != {x} THEN class = {negative} (p = 67.0, n = 0.0, P = 332.0, N = 626.0, weight = 0.6009036144578314, pvalue = 1.2126662151860296e-33)\n",
      "IF top-left-square = middle-left-square = bottom-left-square AND bottom-left-square = {o} THEN class = {negative} (p = 36.0, n = 0.0, P = 332.0, N = 626.0, weight = 0.5542168674698795, pvalue = 7.342482835464128e-18)\n",
      "IF bottom-right-square = middle-right-square = top-right-square AND bottom-right-square = {o} THEN class = {negative} (p = 36.0, n = 0.0, P = 332.0, N = 626.0, weight = 0.5542168674698795, pvalue = 7.342482835464128e-18)\n",
      "IF top-left-square = top-middle-square = top-right-square AND top-left-square = {o} THEN class = {negative} (p = 36.0, n = 0.0, P = 332.0, N = 626.0, weight = 0.5542168674698795, pvalue = 7.342482835464128e-18)\n",
      "IF bottom-middle-square = bottom-right-square = bottom-left-square AND bottom-left-square = {o} THEN class = {negative} (p = 36.0, n = 0.0, P = 332.0, N = 626.0, weight = 0.5542168674698795, pvalue = 7.342482835464128e-18)\n",
      "IF bottom-middle-square = top-right-square AND top-middle-square = bottom-left-square AND top-left-square != bottom-right-square AND middle-left-square != middle-right-square AND middle-middle-square = {x} THEN class = {negative} (p = 10.0, n = 0.0, P = 332.0, N = 626.0, weight = 0.5150602409638554, pvalue = 2.2843294361433606e-05)\n"
     ]
    }
   ],
   "source": [
    "X = train.drop(['class'], axis=1)\n",
    "y = train['class']\n",
    "\n",
    "clf_simple.fit(X, y)\n",
    "\n",
    "print(\"Rules original\")\n",
    "for rule in clf_simple.model.rules:\n",
    "    print(rule, rule.stats)\n",
    "\n",
    "print(\"\\n\\nComplex rules\")\n",
    "clf_complex.fit(X, y)\n",
    "for rule in clf_complex.model.rules:\n",
    "    print(rule, rule.stats)\n",
    "\n",
    "print(\"\\n\\nComplex rules + inners alternatives\")\n",
    "clf_complex_with_inners.fit(X, y)\n",
    "for rule in clf_complex_with_inners.model.rules:\n",
    "    print(rule, rule.stats)"
   ]
  }
 ],
 "metadata": {
  "kernelspec": {
   "display_name": "env",
   "language": "python",
   "name": "python3"
  },
  "language_info": {
   "codemirror_mode": {
    "name": "ipython",
    "version": 3
   },
   "file_extension": ".py",
   "mimetype": "text/x-python",
   "name": "python",
   "nbconvert_exporter": "python",
   "pygments_lexer": "ipython3",
   "version": "3.9.10"
  },
  "orig_nbformat": 4,
  "vscode": {
   "interpreter": {
    "hash": "2894c23008bf39a21d82167e1541b2f346966718bb509852e3943695a444fa9e"
   }
  }
 },
 "nbformat": 4,
 "nbformat_minor": 2
}
