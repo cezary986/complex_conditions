{
 "cells": [
  {
   "cell_type": "code",
   "execution_count": null,
   "metadata": {},
   "outputs": [],
   "source": [
    "import sys\n",
    "sys.path.append('../../utils')"
   ]
  },
  {
   "cell_type": "code",
   "execution_count": 1,
   "metadata": {},
   "outputs": [
    {
     "data": {
      "text/html": [
       "        <script type=\"text/javascript\">\n",
       "        window.PlotlyConfig = {MathJaxConfig: 'local'};\n",
       "        if (window.MathJax && window.MathJax.Hub && window.MathJax.Hub.Config) {window.MathJax.Hub.Config({SVG: {font: \"STIX-Web\"}});}\n",
       "        if (typeof require !== 'undefined') {\n",
       "        require.undef(\"plotly\");\n",
       "        requirejs.config({\n",
       "            paths: {\n",
       "                'plotly': ['https://cdn.plot.ly/plotly-2.12.1.min']\n",
       "            }\n",
       "        });\n",
       "        require(['plotly'], function(Plotly) {\n",
       "            window._Plotly = Plotly;\n",
       "        });\n",
       "        }\n",
       "        </script>\n",
       "        "
      ]
     },
     "metadata": {},
     "output_type": "display_data"
    }
   ],
   "source": [
    "import pandas as pd\n",
    "import numpy as np\n",
    "import plotly.express as px\n",
    "import random\n",
    "\n",
    "from rulekit import RuleKit\n",
    "from rulekit.classification import RuleClassifier\n",
    "from rulekit.params import Measures\n",
    "from plotly.offline import plot, iplot, init_notebook_mode\n",
    "init_notebook_mode(connected=True)\n",
    "\n",
    "RuleKit.init()"
   ]
  },
  {
   "cell_type": "code",
   "execution_count": 2,
   "metadata": {},
   "outputs": [],
   "source": [
    "clf_simple = RuleClassifier(induction_measure=Measures.Precision,\n",
    "                        pruning_measure=Measures.Precision,\n",
    "                        voting_measure=Measures.Precision,\n",
    "                        discrete_set_conditions_enabled = False,\n",
    "                        negated_conditions_enabled = False,\n",
    "                        intervals_conditions_enabled = False,\n",
    "                        numerical_attributes_conditions_enabled = False,\n",
    "                        nominal_attributes_conditions_enabled = False,\n",
    "                        inner_alternatives_enabled = False,\n",
    "                        )\n",
    "clf_complex = RuleClassifier(induction_measure=Measures.Precision,\n",
    "                        pruning_measure=Measures.Precision,\n",
    "                        voting_measure=Measures.Precision,\n",
    "                        discrete_set_conditions_enabled = True,\n",
    "                        negated_conditions_enabled = True,\n",
    "                        intervals_conditions_enabled = True,\n",
    "                        numerical_attributes_conditions_enabled = True,\n",
    "                        nominal_attributes_conditions_enabled = True,\n",
    "                        inner_alternatives_enabled = False,\n",
    ")\n",
    "\n",
    "clf_complex_with_inners = RuleClassifier(induction_measure=Measures.Precision,\n",
    "                        pruning_measure=Measures.Precision,\n",
    "                        voting_measure=Measures.Precision,\n",
    "                        discrete_set_conditions_enabled = True,\n",
    "                        negated_conditions_enabled = True,\n",
    "                        intervals_conditions_enabled = True,\n",
    "                        numerical_attributes_conditions_enabled = True,\n",
    "                        nominal_attributes_conditions_enabled = True,\n",
    "                        inner_alternatives_enabled = True,\n",
    ")\n"
   ]
  },
  {
   "attachments": {},
   "cell_type": "markdown",
   "metadata": {},
   "source": [
    "# Numeryczne"
   ]
  },
  {
   "attachments": {},
   "cell_type": "markdown",
   "metadata": {},
   "source": [
    "## a E {v1, v2}"
   ]
  },
  {
   "cell_type": "code",
   "execution_count": 3,
   "metadata": {},
   "outputs": [
    {
     "data": {
      "text/html": [
       "<div>\n",
       "<style scoped>\n",
       "    .dataframe tbody tr th:only-of-type {\n",
       "        vertical-align: middle;\n",
       "    }\n",
       "\n",
       "    .dataframe tbody tr th {\n",
       "        vertical-align: top;\n",
       "    }\n",
       "\n",
       "    .dataframe thead th {\n",
       "        text-align: right;\n",
       "    }\n",
       "</style>\n",
       "<table border=\"1\" class=\"dataframe\">\n",
       "  <thead>\n",
       "    <tr style=\"text-align: right;\">\n",
       "      <th></th>\n",
       "      <th>a</th>\n",
       "      <th>b</th>\n",
       "      <th>class</th>\n",
       "    </tr>\n",
       "  </thead>\n",
       "  <tbody>\n",
       "    <tr>\n",
       "      <th>0</th>\n",
       "      <td>2.58</td>\n",
       "      <td>0.36</td>\n",
       "      <td>0</td>\n",
       "    </tr>\n",
       "    <tr>\n",
       "      <th>1</th>\n",
       "      <td>1.99</td>\n",
       "      <td>4.29</td>\n",
       "      <td>0</td>\n",
       "    </tr>\n",
       "    <tr>\n",
       "      <th>2</th>\n",
       "      <td>2.48</td>\n",
       "      <td>5.98</td>\n",
       "      <td>0</td>\n",
       "    </tr>\n",
       "    <tr>\n",
       "      <th>3</th>\n",
       "      <td>2.51</td>\n",
       "      <td>2.47</td>\n",
       "      <td>0</td>\n",
       "    </tr>\n",
       "    <tr>\n",
       "      <th>4</th>\n",
       "      <td>7.68</td>\n",
       "      <td>0.13</td>\n",
       "      <td>0</td>\n",
       "    </tr>\n",
       "    <tr>\n",
       "      <th>...</th>\n",
       "      <td>...</td>\n",
       "      <td>...</td>\n",
       "      <td>...</td>\n",
       "    </tr>\n",
       "    <tr>\n",
       "      <th>95</th>\n",
       "      <td>8.30</td>\n",
       "      <td>2.32</td>\n",
       "      <td>0</td>\n",
       "    </tr>\n",
       "    <tr>\n",
       "      <th>96</th>\n",
       "      <td>3.45</td>\n",
       "      <td>4.27</td>\n",
       "      <td>1</td>\n",
       "    </tr>\n",
       "    <tr>\n",
       "      <th>97</th>\n",
       "      <td>1.41</td>\n",
       "      <td>8.76</td>\n",
       "      <td>0</td>\n",
       "    </tr>\n",
       "    <tr>\n",
       "      <th>98</th>\n",
       "      <td>2.85</td>\n",
       "      <td>3.22</td>\n",
       "      <td>0</td>\n",
       "    </tr>\n",
       "    <tr>\n",
       "      <th>99</th>\n",
       "      <td>2.45</td>\n",
       "      <td>7.04</td>\n",
       "      <td>0</td>\n",
       "    </tr>\n",
       "  </tbody>\n",
       "</table>\n",
       "<p>100 rows × 3 columns</p>\n",
       "</div>"
      ],
      "text/plain": [
       "       a     b class\n",
       "0   2.58  0.36     0\n",
       "1   1.99  4.29     0\n",
       "2   2.48  5.98     0\n",
       "3   2.51  2.47     0\n",
       "4   7.68  0.13     0\n",
       "..   ...   ...   ...\n",
       "95  8.30  2.32     0\n",
       "96  3.45  4.27     1\n",
       "97  1.41  8.76     0\n",
       "98  2.85  3.22     0\n",
       "99  2.45  7.04     0\n",
       "\n",
       "[100 rows x 3 columns]"
      ]
     },
     "execution_count": 3,
     "metadata": {},
     "output_type": "execute_result"
    }
   ],
   "source": [
    "df = pd.DataFrame(columns=[\"a\", \"b\", \"class\"], index = [i for i in range(0,100)])\n",
    "\n",
    "\n",
    "a = [round(random.uniform(0, 9),2) for i in range(100)]\n",
    "b = [round(random.uniform(0, 9),2) for i in range(100)]\n",
    "\n",
    "df[\"a\"] = a\n",
    "df[\"b\"] = b\n",
    "\n",
    "df.loc[(df[\"a\"] >= 3) & (df[\"a\"] <= 7),\"class\"] = \"1\"\n",
    "df = df.fillna(\"0\")\n",
    "df"
   ]
  },
  {
   "cell_type": "code",
   "execution_count": 6,
   "metadata": {},
   "outputs": [],
   "source": [
    "df.to_csv(\"synth_1_test.csv\", index = False)"
   ]
  },
  {
   "cell_type": "code",
   "execution_count": 4,
   "metadata": {},
   "outputs": [
    {
     "data": {
      "application/vnd.plotly.v1+json": {
       "config": {
        "plotlyServerURL": "https://plot.ly"
       },
       "data": [
        {
         "hovertemplate": "class=0<br>a=%{x}<br>b=%{y}<extra></extra>",
         "legendgroup": "0",
         "marker": {
          "color": "#636efa",
          "symbol": "circle"
         },
         "mode": "markers",
         "name": "0",
         "orientation": "v",
         "showlegend": true,
         "type": "scatter",
         "x": [
          2.58,
          1.99,
          2.48,
          2.51,
          7.68,
          0.59,
          8.64,
          8.39,
          2.07,
          0.76,
          0.34,
          7.66,
          2.03,
          2.6,
          1.18,
          2.43,
          0.36,
          0.67,
          7.19,
          2.56,
          2.69,
          2.19,
          7.36,
          7.77,
          1.97,
          0.87,
          1.19,
          8.88,
          0.27,
          8.84,
          1.54,
          8.7,
          7.06,
          2.82,
          0.73,
          7.07,
          8.9,
          8.17,
          8.05,
          7.16,
          2.11,
          8.99,
          7.04,
          2.63,
          1.69,
          2.83,
          0.79,
          1.64,
          1.56,
          1,
          1.03,
          0.35,
          0.78,
          1.07,
          0.85,
          8.11,
          8.3,
          1.41,
          2.85,
          2.45
         ],
         "xaxis": "x",
         "y": [
          0.36,
          4.29,
          5.98,
          2.47,
          0.13,
          7.47,
          0.93,
          6.29,
          3.01,
          3.74,
          8.16,
          7.01,
          7.6,
          6.93,
          5.23,
          1.55,
          4.64,
          6.32,
          0.37,
          5.44,
          7.3,
          7.64,
          1.99,
          6.71,
          4.49,
          7.25,
          1.27,
          1.13,
          2.16,
          3.56,
          5.38,
          3.82,
          8.22,
          0.3,
          1.44,
          6.66,
          7.47,
          5.32,
          2.38,
          1.77,
          6.91,
          5.16,
          6.99,
          6.1,
          0.69,
          4.53,
          7.29,
          5.54,
          1.55,
          3.7,
          3.29,
          3.81,
          6.61,
          5.95,
          4.51,
          0.78,
          2.32,
          8.76,
          3.22,
          7.04
         ],
         "yaxis": "y"
        },
        {
         "hovertemplate": "class=1<br>a=%{x}<br>b=%{y}<extra></extra>",
         "legendgroup": "1",
         "marker": {
          "color": "#EF553B",
          "symbol": "circle"
         },
         "mode": "markers",
         "name": "1",
         "orientation": "v",
         "showlegend": true,
         "type": "scatter",
         "x": [
          5,
          5.03,
          5.68,
          6.38,
          3.97,
          4.09,
          3.43,
          3.6,
          5.02,
          4.81,
          5.14,
          5.22,
          3.9,
          3.68,
          4.43,
          5.89,
          5.55,
          3.22,
          3.73,
          6.05,
          4.5,
          5.85,
          5.15,
          5.62,
          5.28,
          4.46,
          6.81,
          4.56,
          4.44,
          6.95,
          5.34,
          5.5,
          3.13,
          5.17,
          6.39,
          5.06,
          3.57,
          6.17,
          5.23,
          3.45
         ],
         "xaxis": "x",
         "y": [
          2.73,
          1.74,
          0.27,
          5.09,
          4.22,
          4.15,
          4.28,
          4.6,
          0.63,
          7.76,
          7.44,
          5.92,
          2.63,
          4.27,
          0.93,
          4.3,
          1.35,
          4.8,
          3.44,
          5.72,
          0.41,
          0.03,
          3.99,
          8.72,
          5.75,
          4.16,
          2.2,
          8.11,
          8.01,
          4.46,
          0.77,
          7.49,
          6.44,
          3.05,
          1.56,
          6.87,
          0.05,
          3.63,
          6.71,
          4.27
         ],
         "yaxis": "y"
        }
       ],
       "layout": {
        "height": 560,
        "legend": {
         "title": {
          "text": "class"
         },
         "tracegroupgap": 0
        },
        "margin": {
         "t": 60
        },
        "template": {
         "data": {
          "bar": [
           {
            "error_x": {
             "color": "#2a3f5f"
            },
            "error_y": {
             "color": "#2a3f5f"
            },
            "marker": {
             "line": {
              "color": "#E5ECF6",
              "width": 0.5
             },
             "pattern": {
              "fillmode": "overlay",
              "size": 10,
              "solidity": 0.2
             }
            },
            "type": "bar"
           }
          ],
          "barpolar": [
           {
            "marker": {
             "line": {
              "color": "#E5ECF6",
              "width": 0.5
             },
             "pattern": {
              "fillmode": "overlay",
              "size": 10,
              "solidity": 0.2
             }
            },
            "type": "barpolar"
           }
          ],
          "carpet": [
           {
            "aaxis": {
             "endlinecolor": "#2a3f5f",
             "gridcolor": "white",
             "linecolor": "white",
             "minorgridcolor": "white",
             "startlinecolor": "#2a3f5f"
            },
            "baxis": {
             "endlinecolor": "#2a3f5f",
             "gridcolor": "white",
             "linecolor": "white",
             "minorgridcolor": "white",
             "startlinecolor": "#2a3f5f"
            },
            "type": "carpet"
           }
          ],
          "choropleth": [
           {
            "colorbar": {
             "outlinewidth": 0,
             "ticks": ""
            },
            "type": "choropleth"
           }
          ],
          "contour": [
           {
            "colorbar": {
             "outlinewidth": 0,
             "ticks": ""
            },
            "colorscale": [
             [
              0,
              "#0d0887"
             ],
             [
              0.1111111111111111,
              "#46039f"
             ],
             [
              0.2222222222222222,
              "#7201a8"
             ],
             [
              0.3333333333333333,
              "#9c179e"
             ],
             [
              0.4444444444444444,
              "#bd3786"
             ],
             [
              0.5555555555555556,
              "#d8576b"
             ],
             [
              0.6666666666666666,
              "#ed7953"
             ],
             [
              0.7777777777777778,
              "#fb9f3a"
             ],
             [
              0.8888888888888888,
              "#fdca26"
             ],
             [
              1,
              "#f0f921"
             ]
            ],
            "type": "contour"
           }
          ],
          "contourcarpet": [
           {
            "colorbar": {
             "outlinewidth": 0,
             "ticks": ""
            },
            "type": "contourcarpet"
           }
          ],
          "heatmap": [
           {
            "colorbar": {
             "outlinewidth": 0,
             "ticks": ""
            },
            "colorscale": [
             [
              0,
              "#0d0887"
             ],
             [
              0.1111111111111111,
              "#46039f"
             ],
             [
              0.2222222222222222,
              "#7201a8"
             ],
             [
              0.3333333333333333,
              "#9c179e"
             ],
             [
              0.4444444444444444,
              "#bd3786"
             ],
             [
              0.5555555555555556,
              "#d8576b"
             ],
             [
              0.6666666666666666,
              "#ed7953"
             ],
             [
              0.7777777777777778,
              "#fb9f3a"
             ],
             [
              0.8888888888888888,
              "#fdca26"
             ],
             [
              1,
              "#f0f921"
             ]
            ],
            "type": "heatmap"
           }
          ],
          "heatmapgl": [
           {
            "colorbar": {
             "outlinewidth": 0,
             "ticks": ""
            },
            "colorscale": [
             [
              0,
              "#0d0887"
             ],
             [
              0.1111111111111111,
              "#46039f"
             ],
             [
              0.2222222222222222,
              "#7201a8"
             ],
             [
              0.3333333333333333,
              "#9c179e"
             ],
             [
              0.4444444444444444,
              "#bd3786"
             ],
             [
              0.5555555555555556,
              "#d8576b"
             ],
             [
              0.6666666666666666,
              "#ed7953"
             ],
             [
              0.7777777777777778,
              "#fb9f3a"
             ],
             [
              0.8888888888888888,
              "#fdca26"
             ],
             [
              1,
              "#f0f921"
             ]
            ],
            "type": "heatmapgl"
           }
          ],
          "histogram": [
           {
            "marker": {
             "pattern": {
              "fillmode": "overlay",
              "size": 10,
              "solidity": 0.2
             }
            },
            "type": "histogram"
           }
          ],
          "histogram2d": [
           {
            "colorbar": {
             "outlinewidth": 0,
             "ticks": ""
            },
            "colorscale": [
             [
              0,
              "#0d0887"
             ],
             [
              0.1111111111111111,
              "#46039f"
             ],
             [
              0.2222222222222222,
              "#7201a8"
             ],
             [
              0.3333333333333333,
              "#9c179e"
             ],
             [
              0.4444444444444444,
              "#bd3786"
             ],
             [
              0.5555555555555556,
              "#d8576b"
             ],
             [
              0.6666666666666666,
              "#ed7953"
             ],
             [
              0.7777777777777778,
              "#fb9f3a"
             ],
             [
              0.8888888888888888,
              "#fdca26"
             ],
             [
              1,
              "#f0f921"
             ]
            ],
            "type": "histogram2d"
           }
          ],
          "histogram2dcontour": [
           {
            "colorbar": {
             "outlinewidth": 0,
             "ticks": ""
            },
            "colorscale": [
             [
              0,
              "#0d0887"
             ],
             [
              0.1111111111111111,
              "#46039f"
             ],
             [
              0.2222222222222222,
              "#7201a8"
             ],
             [
              0.3333333333333333,
              "#9c179e"
             ],
             [
              0.4444444444444444,
              "#bd3786"
             ],
             [
              0.5555555555555556,
              "#d8576b"
             ],
             [
              0.6666666666666666,
              "#ed7953"
             ],
             [
              0.7777777777777778,
              "#fb9f3a"
             ],
             [
              0.8888888888888888,
              "#fdca26"
             ],
             [
              1,
              "#f0f921"
             ]
            ],
            "type": "histogram2dcontour"
           }
          ],
          "mesh3d": [
           {
            "colorbar": {
             "outlinewidth": 0,
             "ticks": ""
            },
            "type": "mesh3d"
           }
          ],
          "parcoords": [
           {
            "line": {
             "colorbar": {
              "outlinewidth": 0,
              "ticks": ""
             }
            },
            "type": "parcoords"
           }
          ],
          "pie": [
           {
            "automargin": true,
            "type": "pie"
           }
          ],
          "scatter": [
           {
            "fillpattern": {
             "fillmode": "overlay",
             "size": 10,
             "solidity": 0.2
            },
            "type": "scatter"
           }
          ],
          "scatter3d": [
           {
            "line": {
             "colorbar": {
              "outlinewidth": 0,
              "ticks": ""
             }
            },
            "marker": {
             "colorbar": {
              "outlinewidth": 0,
              "ticks": ""
             }
            },
            "type": "scatter3d"
           }
          ],
          "scattercarpet": [
           {
            "marker": {
             "colorbar": {
              "outlinewidth": 0,
              "ticks": ""
             }
            },
            "type": "scattercarpet"
           }
          ],
          "scattergeo": [
           {
            "marker": {
             "colorbar": {
              "outlinewidth": 0,
              "ticks": ""
             }
            },
            "type": "scattergeo"
           }
          ],
          "scattergl": [
           {
            "marker": {
             "colorbar": {
              "outlinewidth": 0,
              "ticks": ""
             }
            },
            "type": "scattergl"
           }
          ],
          "scattermapbox": [
           {
            "marker": {
             "colorbar": {
              "outlinewidth": 0,
              "ticks": ""
             }
            },
            "type": "scattermapbox"
           }
          ],
          "scatterpolar": [
           {
            "marker": {
             "colorbar": {
              "outlinewidth": 0,
              "ticks": ""
             }
            },
            "type": "scatterpolar"
           }
          ],
          "scatterpolargl": [
           {
            "marker": {
             "colorbar": {
              "outlinewidth": 0,
              "ticks": ""
             }
            },
            "type": "scatterpolargl"
           }
          ],
          "scatterternary": [
           {
            "marker": {
             "colorbar": {
              "outlinewidth": 0,
              "ticks": ""
             }
            },
            "type": "scatterternary"
           }
          ],
          "surface": [
           {
            "colorbar": {
             "outlinewidth": 0,
             "ticks": ""
            },
            "colorscale": [
             [
              0,
              "#0d0887"
             ],
             [
              0.1111111111111111,
              "#46039f"
             ],
             [
              0.2222222222222222,
              "#7201a8"
             ],
             [
              0.3333333333333333,
              "#9c179e"
             ],
             [
              0.4444444444444444,
              "#bd3786"
             ],
             [
              0.5555555555555556,
              "#d8576b"
             ],
             [
              0.6666666666666666,
              "#ed7953"
             ],
             [
              0.7777777777777778,
              "#fb9f3a"
             ],
             [
              0.8888888888888888,
              "#fdca26"
             ],
             [
              1,
              "#f0f921"
             ]
            ],
            "type": "surface"
           }
          ],
          "table": [
           {
            "cells": {
             "fill": {
              "color": "#EBF0F8"
             },
             "line": {
              "color": "white"
             }
            },
            "header": {
             "fill": {
              "color": "#C8D4E3"
             },
             "line": {
              "color": "white"
             }
            },
            "type": "table"
           }
          ]
         },
         "layout": {
          "annotationdefaults": {
           "arrowcolor": "#2a3f5f",
           "arrowhead": 0,
           "arrowwidth": 1
          },
          "autotypenumbers": "strict",
          "coloraxis": {
           "colorbar": {
            "outlinewidth": 0,
            "ticks": ""
           }
          },
          "colorscale": {
           "diverging": [
            [
             0,
             "#8e0152"
            ],
            [
             0.1,
             "#c51b7d"
            ],
            [
             0.2,
             "#de77ae"
            ],
            [
             0.3,
             "#f1b6da"
            ],
            [
             0.4,
             "#fde0ef"
            ],
            [
             0.5,
             "#f7f7f7"
            ],
            [
             0.6,
             "#e6f5d0"
            ],
            [
             0.7,
             "#b8e186"
            ],
            [
             0.8,
             "#7fbc41"
            ],
            [
             0.9,
             "#4d9221"
            ],
            [
             1,
             "#276419"
            ]
           ],
           "sequential": [
            [
             0,
             "#0d0887"
            ],
            [
             0.1111111111111111,
             "#46039f"
            ],
            [
             0.2222222222222222,
             "#7201a8"
            ],
            [
             0.3333333333333333,
             "#9c179e"
            ],
            [
             0.4444444444444444,
             "#bd3786"
            ],
            [
             0.5555555555555556,
             "#d8576b"
            ],
            [
             0.6666666666666666,
             "#ed7953"
            ],
            [
             0.7777777777777778,
             "#fb9f3a"
            ],
            [
             0.8888888888888888,
             "#fdca26"
            ],
            [
             1,
             "#f0f921"
            ]
           ],
           "sequentialminus": [
            [
             0,
             "#0d0887"
            ],
            [
             0.1111111111111111,
             "#46039f"
            ],
            [
             0.2222222222222222,
             "#7201a8"
            ],
            [
             0.3333333333333333,
             "#9c179e"
            ],
            [
             0.4444444444444444,
             "#bd3786"
            ],
            [
             0.5555555555555556,
             "#d8576b"
            ],
            [
             0.6666666666666666,
             "#ed7953"
            ],
            [
             0.7777777777777778,
             "#fb9f3a"
            ],
            [
             0.8888888888888888,
             "#fdca26"
            ],
            [
             1,
             "#f0f921"
            ]
           ]
          },
          "colorway": [
           "#636efa",
           "#EF553B",
           "#00cc96",
           "#ab63fa",
           "#FFA15A",
           "#19d3f3",
           "#FF6692",
           "#B6E880",
           "#FF97FF",
           "#FECB52"
          ],
          "font": {
           "color": "#2a3f5f"
          },
          "geo": {
           "bgcolor": "white",
           "lakecolor": "white",
           "landcolor": "#E5ECF6",
           "showlakes": true,
           "showland": true,
           "subunitcolor": "white"
          },
          "hoverlabel": {
           "align": "left"
          },
          "hovermode": "closest",
          "mapbox": {
           "style": "light"
          },
          "paper_bgcolor": "white",
          "plot_bgcolor": "#E5ECF6",
          "polar": {
           "angularaxis": {
            "gridcolor": "white",
            "linecolor": "white",
            "ticks": ""
           },
           "bgcolor": "#E5ECF6",
           "radialaxis": {
            "gridcolor": "white",
            "linecolor": "white",
            "ticks": ""
           }
          },
          "scene": {
           "xaxis": {
            "backgroundcolor": "#E5ECF6",
            "gridcolor": "white",
            "gridwidth": 2,
            "linecolor": "white",
            "showbackground": true,
            "ticks": "",
            "zerolinecolor": "white"
           },
           "yaxis": {
            "backgroundcolor": "#E5ECF6",
            "gridcolor": "white",
            "gridwidth": 2,
            "linecolor": "white",
            "showbackground": true,
            "ticks": "",
            "zerolinecolor": "white"
           },
           "zaxis": {
            "backgroundcolor": "#E5ECF6",
            "gridcolor": "white",
            "gridwidth": 2,
            "linecolor": "white",
            "showbackground": true,
            "ticks": "",
            "zerolinecolor": "white"
           }
          },
          "shapedefaults": {
           "line": {
            "color": "#2a3f5f"
           }
          },
          "ternary": {
           "aaxis": {
            "gridcolor": "white",
            "linecolor": "white",
            "ticks": ""
           },
           "baxis": {
            "gridcolor": "white",
            "linecolor": "white",
            "ticks": ""
           },
           "bgcolor": "#E5ECF6",
           "caxis": {
            "gridcolor": "white",
            "linecolor": "white",
            "ticks": ""
           }
          },
          "title": {
           "x": 0.05
          },
          "xaxis": {
           "automargin": true,
           "gridcolor": "white",
           "linecolor": "white",
           "ticks": "",
           "title": {
            "standoff": 15
           },
           "zerolinecolor": "white",
           "zerolinewidth": 2
          },
          "yaxis": {
           "automargin": true,
           "gridcolor": "white",
           "linecolor": "white",
           "ticks": "",
           "title": {
            "standoff": 15
           },
           "zerolinecolor": "white",
           "zerolinewidth": 2
          }
         }
        },
        "width": 560,
        "xaxis": {
         "anchor": "y",
         "domain": [
          0,
          1
         ],
         "title": {
          "text": "a"
         }
        },
        "yaxis": {
         "anchor": "x",
         "domain": [
          0,
          1
         ],
         "title": {
          "text": "b"
         }
        }
       }
      },
      "text/html": [
       "<div>                            <div id=\"8a98d4b5-aeeb-4607-9076-adaaf4536df6\" class=\"plotly-graph-div\" style=\"height:560px; width:560px;\"></div>            <script type=\"text/javascript\">                require([\"plotly\"], function(Plotly) {                    window.PLOTLYENV=window.PLOTLYENV || {};                                    if (document.getElementById(\"8a98d4b5-aeeb-4607-9076-adaaf4536df6\")) {                    Plotly.newPlot(                        \"8a98d4b5-aeeb-4607-9076-adaaf4536df6\",                        [{\"hovertemplate\":\"class=0<br>a=%{x}<br>b=%{y}<extra></extra>\",\"legendgroup\":\"0\",\"marker\":{\"color\":\"#636efa\",\"symbol\":\"circle\"},\"mode\":\"markers\",\"name\":\"0\",\"orientation\":\"v\",\"showlegend\":true,\"x\":[2.58,1.99,2.48,2.51,7.68,0.59,8.64,8.39,2.07,0.76,0.34,7.66,2.03,2.6,1.18,2.43,0.36,0.67,7.19,2.56,2.69,2.19,7.36,7.77,1.97,0.87,1.19,8.88,0.27,8.84,1.54,8.7,7.06,2.82,0.73,7.07,8.9,8.17,8.05,7.16,2.11,8.99,7.04,2.63,1.69,2.83,0.79,1.64,1.56,1.0,1.03,0.35,0.78,1.07,0.85,8.11,8.3,1.41,2.85,2.45],\"xaxis\":\"x\",\"y\":[0.36,4.29,5.98,2.47,0.13,7.47,0.93,6.29,3.01,3.74,8.16,7.01,7.6,6.93,5.23,1.55,4.64,6.32,0.37,5.44,7.3,7.64,1.99,6.71,4.49,7.25,1.27,1.13,2.16,3.56,5.38,3.82,8.22,0.3,1.44,6.66,7.47,5.32,2.38,1.77,6.91,5.16,6.99,6.1,0.69,4.53,7.29,5.54,1.55,3.7,3.29,3.81,6.61,5.95,4.51,0.78,2.32,8.76,3.22,7.04],\"yaxis\":\"y\",\"type\":\"scatter\"},{\"hovertemplate\":\"class=1<br>a=%{x}<br>b=%{y}<extra></extra>\",\"legendgroup\":\"1\",\"marker\":{\"color\":\"#EF553B\",\"symbol\":\"circle\"},\"mode\":\"markers\",\"name\":\"1\",\"orientation\":\"v\",\"showlegend\":true,\"x\":[5.0,5.03,5.68,6.38,3.97,4.09,3.43,3.6,5.02,4.81,5.14,5.22,3.9,3.68,4.43,5.89,5.55,3.22,3.73,6.05,4.5,5.85,5.15,5.62,5.28,4.46,6.81,4.56,4.44,6.95,5.34,5.5,3.13,5.17,6.39,5.06,3.57,6.17,5.23,3.45],\"xaxis\":\"x\",\"y\":[2.73,1.74,0.27,5.09,4.22,4.15,4.28,4.6,0.63,7.76,7.44,5.92,2.63,4.27,0.93,4.3,1.35,4.8,3.44,5.72,0.41,0.03,3.99,8.72,5.75,4.16,2.2,8.11,8.01,4.46,0.77,7.49,6.44,3.05,1.56,6.87,0.05,3.63,6.71,4.27],\"yaxis\":\"y\",\"type\":\"scatter\"}],                        {\"template\":{\"data\":{\"histogram2dcontour\":[{\"type\":\"histogram2dcontour\",\"colorbar\":{\"outlinewidth\":0,\"ticks\":\"\"},\"colorscale\":[[0.0,\"#0d0887\"],[0.1111111111111111,\"#46039f\"],[0.2222222222222222,\"#7201a8\"],[0.3333333333333333,\"#9c179e\"],[0.4444444444444444,\"#bd3786\"],[0.5555555555555556,\"#d8576b\"],[0.6666666666666666,\"#ed7953\"],[0.7777777777777778,\"#fb9f3a\"],[0.8888888888888888,\"#fdca26\"],[1.0,\"#f0f921\"]]}],\"choropleth\":[{\"type\":\"choropleth\",\"colorbar\":{\"outlinewidth\":0,\"ticks\":\"\"}}],\"histogram2d\":[{\"type\":\"histogram2d\",\"colorbar\":{\"outlinewidth\":0,\"ticks\":\"\"},\"colorscale\":[[0.0,\"#0d0887\"],[0.1111111111111111,\"#46039f\"],[0.2222222222222222,\"#7201a8\"],[0.3333333333333333,\"#9c179e\"],[0.4444444444444444,\"#bd3786\"],[0.5555555555555556,\"#d8576b\"],[0.6666666666666666,\"#ed7953\"],[0.7777777777777778,\"#fb9f3a\"],[0.8888888888888888,\"#fdca26\"],[1.0,\"#f0f921\"]]}],\"heatmap\":[{\"type\":\"heatmap\",\"colorbar\":{\"outlinewidth\":0,\"ticks\":\"\"},\"colorscale\":[[0.0,\"#0d0887\"],[0.1111111111111111,\"#46039f\"],[0.2222222222222222,\"#7201a8\"],[0.3333333333333333,\"#9c179e\"],[0.4444444444444444,\"#bd3786\"],[0.5555555555555556,\"#d8576b\"],[0.6666666666666666,\"#ed7953\"],[0.7777777777777778,\"#fb9f3a\"],[0.8888888888888888,\"#fdca26\"],[1.0,\"#f0f921\"]]}],\"heatmapgl\":[{\"type\":\"heatmapgl\",\"colorbar\":{\"outlinewidth\":0,\"ticks\":\"\"},\"colorscale\":[[0.0,\"#0d0887\"],[0.1111111111111111,\"#46039f\"],[0.2222222222222222,\"#7201a8\"],[0.3333333333333333,\"#9c179e\"],[0.4444444444444444,\"#bd3786\"],[0.5555555555555556,\"#d8576b\"],[0.6666666666666666,\"#ed7953\"],[0.7777777777777778,\"#fb9f3a\"],[0.8888888888888888,\"#fdca26\"],[1.0,\"#f0f921\"]]}],\"contourcarpet\":[{\"type\":\"contourcarpet\",\"colorbar\":{\"outlinewidth\":0,\"ticks\":\"\"}}],\"contour\":[{\"type\":\"contour\",\"colorbar\":{\"outlinewidth\":0,\"ticks\":\"\"},\"colorscale\":[[0.0,\"#0d0887\"],[0.1111111111111111,\"#46039f\"],[0.2222222222222222,\"#7201a8\"],[0.3333333333333333,\"#9c179e\"],[0.4444444444444444,\"#bd3786\"],[0.5555555555555556,\"#d8576b\"],[0.6666666666666666,\"#ed7953\"],[0.7777777777777778,\"#fb9f3a\"],[0.8888888888888888,\"#fdca26\"],[1.0,\"#f0f921\"]]}],\"surface\":[{\"type\":\"surface\",\"colorbar\":{\"outlinewidth\":0,\"ticks\":\"\"},\"colorscale\":[[0.0,\"#0d0887\"],[0.1111111111111111,\"#46039f\"],[0.2222222222222222,\"#7201a8\"],[0.3333333333333333,\"#9c179e\"],[0.4444444444444444,\"#bd3786\"],[0.5555555555555556,\"#d8576b\"],[0.6666666666666666,\"#ed7953\"],[0.7777777777777778,\"#fb9f3a\"],[0.8888888888888888,\"#fdca26\"],[1.0,\"#f0f921\"]]}],\"mesh3d\":[{\"type\":\"mesh3d\",\"colorbar\":{\"outlinewidth\":0,\"ticks\":\"\"}}],\"scatter\":[{\"fillpattern\":{\"fillmode\":\"overlay\",\"size\":10,\"solidity\":0.2},\"type\":\"scatter\"}],\"parcoords\":[{\"type\":\"parcoords\",\"line\":{\"colorbar\":{\"outlinewidth\":0,\"ticks\":\"\"}}}],\"scatterpolargl\":[{\"type\":\"scatterpolargl\",\"marker\":{\"colorbar\":{\"outlinewidth\":0,\"ticks\":\"\"}}}],\"bar\":[{\"error_x\":{\"color\":\"#2a3f5f\"},\"error_y\":{\"color\":\"#2a3f5f\"},\"marker\":{\"line\":{\"color\":\"#E5ECF6\",\"width\":0.5},\"pattern\":{\"fillmode\":\"overlay\",\"size\":10,\"solidity\":0.2}},\"type\":\"bar\"}],\"scattergeo\":[{\"type\":\"scattergeo\",\"marker\":{\"colorbar\":{\"outlinewidth\":0,\"ticks\":\"\"}}}],\"scatterpolar\":[{\"type\":\"scatterpolar\",\"marker\":{\"colorbar\":{\"outlinewidth\":0,\"ticks\":\"\"}}}],\"histogram\":[{\"marker\":{\"pattern\":{\"fillmode\":\"overlay\",\"size\":10,\"solidity\":0.2}},\"type\":\"histogram\"}],\"scattergl\":[{\"type\":\"scattergl\",\"marker\":{\"colorbar\":{\"outlinewidth\":0,\"ticks\":\"\"}}}],\"scatter3d\":[{\"type\":\"scatter3d\",\"line\":{\"colorbar\":{\"outlinewidth\":0,\"ticks\":\"\"}},\"marker\":{\"colorbar\":{\"outlinewidth\":0,\"ticks\":\"\"}}}],\"scattermapbox\":[{\"type\":\"scattermapbox\",\"marker\":{\"colorbar\":{\"outlinewidth\":0,\"ticks\":\"\"}}}],\"scatterternary\":[{\"type\":\"scatterternary\",\"marker\":{\"colorbar\":{\"outlinewidth\":0,\"ticks\":\"\"}}}],\"scattercarpet\":[{\"type\":\"scattercarpet\",\"marker\":{\"colorbar\":{\"outlinewidth\":0,\"ticks\":\"\"}}}],\"carpet\":[{\"aaxis\":{\"endlinecolor\":\"#2a3f5f\",\"gridcolor\":\"white\",\"linecolor\":\"white\",\"minorgridcolor\":\"white\",\"startlinecolor\":\"#2a3f5f\"},\"baxis\":{\"endlinecolor\":\"#2a3f5f\",\"gridcolor\":\"white\",\"linecolor\":\"white\",\"minorgridcolor\":\"white\",\"startlinecolor\":\"#2a3f5f\"},\"type\":\"carpet\"}],\"table\":[{\"cells\":{\"fill\":{\"color\":\"#EBF0F8\"},\"line\":{\"color\":\"white\"}},\"header\":{\"fill\":{\"color\":\"#C8D4E3\"},\"line\":{\"color\":\"white\"}},\"type\":\"table\"}],\"barpolar\":[{\"marker\":{\"line\":{\"color\":\"#E5ECF6\",\"width\":0.5},\"pattern\":{\"fillmode\":\"overlay\",\"size\":10,\"solidity\":0.2}},\"type\":\"barpolar\"}],\"pie\":[{\"automargin\":true,\"type\":\"pie\"}]},\"layout\":{\"autotypenumbers\":\"strict\",\"colorway\":[\"#636efa\",\"#EF553B\",\"#00cc96\",\"#ab63fa\",\"#FFA15A\",\"#19d3f3\",\"#FF6692\",\"#B6E880\",\"#FF97FF\",\"#FECB52\"],\"font\":{\"color\":\"#2a3f5f\"},\"hovermode\":\"closest\",\"hoverlabel\":{\"align\":\"left\"},\"paper_bgcolor\":\"white\",\"plot_bgcolor\":\"#E5ECF6\",\"polar\":{\"bgcolor\":\"#E5ECF6\",\"angularaxis\":{\"gridcolor\":\"white\",\"linecolor\":\"white\",\"ticks\":\"\"},\"radialaxis\":{\"gridcolor\":\"white\",\"linecolor\":\"white\",\"ticks\":\"\"}},\"ternary\":{\"bgcolor\":\"#E5ECF6\",\"aaxis\":{\"gridcolor\":\"white\",\"linecolor\":\"white\",\"ticks\":\"\"},\"baxis\":{\"gridcolor\":\"white\",\"linecolor\":\"white\",\"ticks\":\"\"},\"caxis\":{\"gridcolor\":\"white\",\"linecolor\":\"white\",\"ticks\":\"\"}},\"coloraxis\":{\"colorbar\":{\"outlinewidth\":0,\"ticks\":\"\"}},\"colorscale\":{\"sequential\":[[0.0,\"#0d0887\"],[0.1111111111111111,\"#46039f\"],[0.2222222222222222,\"#7201a8\"],[0.3333333333333333,\"#9c179e\"],[0.4444444444444444,\"#bd3786\"],[0.5555555555555556,\"#d8576b\"],[0.6666666666666666,\"#ed7953\"],[0.7777777777777778,\"#fb9f3a\"],[0.8888888888888888,\"#fdca26\"],[1.0,\"#f0f921\"]],\"sequentialminus\":[[0.0,\"#0d0887\"],[0.1111111111111111,\"#46039f\"],[0.2222222222222222,\"#7201a8\"],[0.3333333333333333,\"#9c179e\"],[0.4444444444444444,\"#bd3786\"],[0.5555555555555556,\"#d8576b\"],[0.6666666666666666,\"#ed7953\"],[0.7777777777777778,\"#fb9f3a\"],[0.8888888888888888,\"#fdca26\"],[1.0,\"#f0f921\"]],\"diverging\":[[0,\"#8e0152\"],[0.1,\"#c51b7d\"],[0.2,\"#de77ae\"],[0.3,\"#f1b6da\"],[0.4,\"#fde0ef\"],[0.5,\"#f7f7f7\"],[0.6,\"#e6f5d0\"],[0.7,\"#b8e186\"],[0.8,\"#7fbc41\"],[0.9,\"#4d9221\"],[1,\"#276419\"]]},\"xaxis\":{\"gridcolor\":\"white\",\"linecolor\":\"white\",\"ticks\":\"\",\"title\":{\"standoff\":15},\"zerolinecolor\":\"white\",\"automargin\":true,\"zerolinewidth\":2},\"yaxis\":{\"gridcolor\":\"white\",\"linecolor\":\"white\",\"ticks\":\"\",\"title\":{\"standoff\":15},\"zerolinecolor\":\"white\",\"automargin\":true,\"zerolinewidth\":2},\"scene\":{\"xaxis\":{\"backgroundcolor\":\"#E5ECF6\",\"gridcolor\":\"white\",\"linecolor\":\"white\",\"showbackground\":true,\"ticks\":\"\",\"zerolinecolor\":\"white\",\"gridwidth\":2},\"yaxis\":{\"backgroundcolor\":\"#E5ECF6\",\"gridcolor\":\"white\",\"linecolor\":\"white\",\"showbackground\":true,\"ticks\":\"\",\"zerolinecolor\":\"white\",\"gridwidth\":2},\"zaxis\":{\"backgroundcolor\":\"#E5ECF6\",\"gridcolor\":\"white\",\"linecolor\":\"white\",\"showbackground\":true,\"ticks\":\"\",\"zerolinecolor\":\"white\",\"gridwidth\":2}},\"shapedefaults\":{\"line\":{\"color\":\"#2a3f5f\"}},\"annotationdefaults\":{\"arrowcolor\":\"#2a3f5f\",\"arrowhead\":0,\"arrowwidth\":1},\"geo\":{\"bgcolor\":\"white\",\"landcolor\":\"#E5ECF6\",\"subunitcolor\":\"white\",\"showland\":true,\"showlakes\":true,\"lakecolor\":\"white\"},\"title\":{\"x\":0.05},\"mapbox\":{\"style\":\"light\"}}},\"xaxis\":{\"anchor\":\"y\",\"domain\":[0.0,1.0],\"title\":{\"text\":\"a\"}},\"yaxis\":{\"anchor\":\"x\",\"domain\":[0.0,1.0],\"title\":{\"text\":\"b\"}},\"legend\":{\"title\":{\"text\":\"class\"},\"tracegroupgap\":0},\"margin\":{\"t\":60},\"height\":560,\"width\":560},                        {\"responsive\": true}                    ).then(function(){\n",
       "                            \n",
       "var gd = document.getElementById('8a98d4b5-aeeb-4607-9076-adaaf4536df6');\n",
       "var x = new MutationObserver(function (mutations, observer) {{\n",
       "        var display = window.getComputedStyle(gd).display;\n",
       "        if (!display || display === 'none') {{\n",
       "            console.log([gd, 'removed!']);\n",
       "            Plotly.purge(gd);\n",
       "            observer.disconnect();\n",
       "        }}\n",
       "}});\n",
       "\n",
       "// Listen for the removal of the full notebook cells\n",
       "var notebookContainer = gd.closest('#notebook-container');\n",
       "if (notebookContainer) {{\n",
       "    x.observe(notebookContainer, {childList: true});\n",
       "}}\n",
       "\n",
       "// Listen for the clearing of the current output cell\n",
       "var outputEl = gd.closest('.output');\n",
       "if (outputEl) {{\n",
       "    x.observe(outputEl, {childList: true});\n",
       "}}\n",
       "\n",
       "                        })                };                });            </script>        </div>"
      ]
     },
     "metadata": {},
     "output_type": "display_data"
    }
   ],
   "source": [
    "fig = px.scatter(df, x='a',\n",
    "            y='b',\n",
    "            color='class',\n",
    "            height=560,\n",
    "            width=560,\n",
    "            )\n",
    "fig.show()"
   ]
  },
  {
   "cell_type": "code",
   "execution_count": 5,
   "metadata": {},
   "outputs": [
    {
     "name": "stdout",
     "output_type": "stream",
     "text": [
      "Rules original\n",
      "IF a = (-inf, 2.99) THEN class = {0} (p = 40.0, n = 0.0, P = 60.0, N = 40.0, weight = 1.0, pvalue = 3.049449370164677e-13)\n",
      "IF a = <7.00, inf) THEN class = {0} (p = 20.0, n = 0.0, P = 60.0, N = 40.0, weight = 1.0, pvalue = 7.820848065952753e-06)\n",
      "IF a = <2.99, 7.00) THEN class = {1} (p = 40.0, n = 0.0, P = 40.0, N = 60.0, weight = 1.0, pvalue = 7.274719675172474e-29)\n",
      "\n",
      "\n",
      "Complex rules\n",
      "IF a = (-inf, 2.99) THEN class = {0} (p = 40.0, n = 0.0, P = 60.0, N = 40.0, weight = 1.0, pvalue = 3.049449370164677e-13)\n",
      "IF a != <1.30, 7.04) THEN class = {0} (p = 37.0, n = 0.0, P = 60.0, N = 40.0, weight = 1.0, pvalue = 6.8377574217170884e-12)\n",
      "IF a = <2.99, 7.04) THEN class = {1} (p = 40.0, n = 0.0, P = 40.0, N = 60.0, weight = 1.0, pvalue = 7.274719675172474e-29)\n",
      "\n",
      "\n",
      "Complex rules + inners alternatives\n",
      "IF #(a = <7.00, inf) OR a != <0.75, 7.06) OR a != <0.75, 7.07) OR a != <0.75, 7.16) OR a = <0.31, 0.73)) THEN class = {0} (p = 60.0, n = 0.0, P = 60.0, N = 40.0, weight = 1.0, pvalue = 7.274719675172474e-29)\n",
      "IF #(a = <2.99, 3.60)) THEN class = {1} (p = 40.0, n = 0.0, P = 40.0, N = 60.0, weight = 1.0, pvalue = 7.274719675172474e-29)\n"
     ]
    }
   ],
   "source": [
    "X = df.drop(['class'], axis=1)\n",
    "y = df['class']\n",
    "\n",
    "clf_simple.fit(X, y)\n",
    "\n",
    "print(\"Rules original\")\n",
    "for rule in clf_simple.model.rules:\n",
    "    print(rule, rule.stats)\n",
    "\n",
    "print(\"\\n\\nComplex rules\")\n",
    "clf_complex.fit(X, y)\n",
    "for rule in clf_complex.model.rules:\n",
    "    print(rule, rule.stats)\n",
    "\n",
    "\n",
    "print(\"\\n\\nComplex rules + inners alternatives\")\n",
    "clf_complex_with_inners.fit(X, y)\n",
    "for rule in clf_complex_with_inners.model.rules:\n",
    "    print(rule, rule.stats)"
   ]
  },
  {
   "attachments": {},
   "cell_type": "markdown",
   "metadata": {},
   "source": [
    "## a !E {v1, v2}"
   ]
  },
  {
   "cell_type": "code",
   "execution_count": 6,
   "metadata": {},
   "outputs": [
    {
     "data": {
      "text/html": [
       "<div>\n",
       "<style scoped>\n",
       "    .dataframe tbody tr th:only-of-type {\n",
       "        vertical-align: middle;\n",
       "    }\n",
       "\n",
       "    .dataframe tbody tr th {\n",
       "        vertical-align: top;\n",
       "    }\n",
       "\n",
       "    .dataframe thead th {\n",
       "        text-align: right;\n",
       "    }\n",
       "</style>\n",
       "<table border=\"1\" class=\"dataframe\">\n",
       "  <thead>\n",
       "    <tr style=\"text-align: right;\">\n",
       "      <th></th>\n",
       "      <th>a</th>\n",
       "      <th>b</th>\n",
       "      <th>class</th>\n",
       "    </tr>\n",
       "  </thead>\n",
       "  <tbody>\n",
       "    <tr>\n",
       "      <th>0</th>\n",
       "      <td>7.90</td>\n",
       "      <td>2.62</td>\n",
       "      <td>1</td>\n",
       "    </tr>\n",
       "    <tr>\n",
       "      <th>1</th>\n",
       "      <td>5.06</td>\n",
       "      <td>3.22</td>\n",
       "      <td>0</td>\n",
       "    </tr>\n",
       "    <tr>\n",
       "      <th>2</th>\n",
       "      <td>6.43</td>\n",
       "      <td>2.61</td>\n",
       "      <td>0</td>\n",
       "    </tr>\n",
       "    <tr>\n",
       "      <th>3</th>\n",
       "      <td>5.50</td>\n",
       "      <td>3.41</td>\n",
       "      <td>0</td>\n",
       "    </tr>\n",
       "    <tr>\n",
       "      <th>4</th>\n",
       "      <td>5.77</td>\n",
       "      <td>6.59</td>\n",
       "      <td>0</td>\n",
       "    </tr>\n",
       "    <tr>\n",
       "      <th>...</th>\n",
       "      <td>...</td>\n",
       "      <td>...</td>\n",
       "      <td>...</td>\n",
       "    </tr>\n",
       "    <tr>\n",
       "      <th>95</th>\n",
       "      <td>1.56</td>\n",
       "      <td>6.64</td>\n",
       "      <td>1</td>\n",
       "    </tr>\n",
       "    <tr>\n",
       "      <th>96</th>\n",
       "      <td>2.68</td>\n",
       "      <td>2.26</td>\n",
       "      <td>1</td>\n",
       "    </tr>\n",
       "    <tr>\n",
       "      <th>97</th>\n",
       "      <td>4.55</td>\n",
       "      <td>6.46</td>\n",
       "      <td>0</td>\n",
       "    </tr>\n",
       "    <tr>\n",
       "      <th>98</th>\n",
       "      <td>7.45</td>\n",
       "      <td>6.29</td>\n",
       "      <td>1</td>\n",
       "    </tr>\n",
       "    <tr>\n",
       "      <th>99</th>\n",
       "      <td>3.68</td>\n",
       "      <td>1.27</td>\n",
       "      <td>0</td>\n",
       "    </tr>\n",
       "  </tbody>\n",
       "</table>\n",
       "<p>100 rows × 3 columns</p>\n",
       "</div>"
      ],
      "text/plain": [
       "       a     b class\n",
       "0   7.90  2.62     1\n",
       "1   5.06  3.22     0\n",
       "2   6.43  2.61     0\n",
       "3   5.50  3.41     0\n",
       "4   5.77  6.59     0\n",
       "..   ...   ...   ...\n",
       "95  1.56  6.64     1\n",
       "96  2.68  2.26     1\n",
       "97  4.55  6.46     0\n",
       "98  7.45  6.29     1\n",
       "99  3.68  1.27     0\n",
       "\n",
       "[100 rows x 3 columns]"
      ]
     },
     "execution_count": 6,
     "metadata": {},
     "output_type": "execute_result"
    }
   ],
   "source": [
    "df = pd.DataFrame(columns=[\"a\", \"b\", \"class\"], index = [i for i in range(0,100)])\n",
    "\n",
    "\n",
    "a = [round(random.uniform(0, 9),2) for i in range(100)]\n",
    "b = [round(random.uniform(0, 9),2) for i in range(100)]\n",
    "\n",
    "df[\"a\"] = a\n",
    "df[\"b\"] = b\n",
    "\n",
    "df.loc[(df[\"a\"] >= 3) & (df[\"a\"] <= 7),\"class\"] = \"0\"\n",
    "df = df.fillna(\"1\")\n",
    "df"
   ]
  },
  {
   "cell_type": "code",
   "execution_count": 15,
   "metadata": {},
   "outputs": [
    {
     "data": {
      "application/vnd.plotly.v1+json": {
       "config": {
        "plotlyServerURL": "https://plot.ly"
       },
       "data": [
        {
         "hovertemplate": "class=0<br>a=%{x}<br>b=%{y}<extra></extra>",
         "legendgroup": "0",
         "marker": {
          "color": "#636efa",
          "symbol": "circle"
         },
         "mode": "markers",
         "name": "0",
         "orientation": "v",
         "showlegend": true,
         "type": "scatter",
         "x": [
          0.73,
          2.54,
          8.83,
          1.08,
          2,
          1.97,
          2.23,
          1.2,
          0.29,
          8.75,
          7.01,
          7.81,
          7.78,
          8.67,
          1.02,
          1.11,
          1.37,
          1.81,
          1.47,
          8.41,
          1.87,
          1.91,
          2.17,
          7.82,
          2.94,
          1.37,
          0.43,
          7.95,
          0.46,
          1.73,
          2.99,
          1.39,
          1.46,
          2.45,
          2.72,
          2.19,
          0.38,
          1.94,
          7.86,
          0.44,
          2.39,
          7.89,
          2.7,
          7.26,
          1.62,
          7.57,
          8.09,
          1.25,
          2.2,
          7.84,
          2.12,
          1.66,
          7.67,
          8.43,
          2.5,
          7.72,
          1.1
         ],
         "xaxis": "x",
         "y": [
          2.07,
          5.1,
          2.68,
          1.96,
          7.21,
          6.5,
          1.3,
          7.96,
          2.28,
          3.26,
          7.13,
          5.41,
          0.14,
          8.12,
          8.91,
          6.72,
          6.9,
          3.91,
          0.04,
          6.38,
          8.48,
          8.77,
          6.85,
          5.37,
          5.99,
          6.06,
          8.18,
          1.27,
          1.24,
          0.42,
          1.74,
          6.71,
          6.33,
          3.61,
          0.51,
          3.59,
          5.25,
          7.44,
          7.99,
          8.62,
          7.46,
          3.49,
          8.28,
          7.08,
          1.7,
          6.32,
          1.54,
          8.8,
          2.84,
          6.93,
          4.69,
          1.78,
          6.27,
          5.98,
          7.15,
          6.71,
          0.04
         ],
         "yaxis": "y"
        },
        {
         "hovertemplate": "class=1<br>a=%{x}<br>b=%{y}<extra></extra>",
         "legendgroup": "1",
         "marker": {
          "color": "#EF553B",
          "symbol": "circle"
         },
         "mode": "markers",
         "name": "1",
         "orientation": "v",
         "showlegend": true,
         "type": "scatter",
         "x": [
          3.18,
          4.3,
          6.7,
          3.76,
          3.42,
          5.67,
          6.33,
          3.45,
          6.78,
          4.76,
          5.36,
          3.01,
          5.4,
          5.84,
          6.35,
          4.65,
          6.12,
          5.02,
          6.55,
          5.65,
          5.93,
          5.21,
          4.92,
          4.74,
          6.07,
          3.12,
          3.25,
          6.31,
          6.24,
          3.12,
          5.67,
          6.52,
          6.82,
          5.09,
          6.8,
          3.98,
          6.12,
          5.86,
          3.81,
          4.68,
          4.29,
          3.07,
          6.23
         ],
         "xaxis": "x",
         "y": [
          6.24,
          2.36,
          5.03,
          1.32,
          3.36,
          3.39,
          8.04,
          7.78,
          3.66,
          5.63,
          2.21,
          5.67,
          0.49,
          5.96,
          0.09,
          7.6,
          6.2,
          1.96,
          4.96,
          7.05,
          0.9,
          4.2,
          5.79,
          6.26,
          7.67,
          0.72,
          0.97,
          4.69,
          5.63,
          0.06,
          7.92,
          4.61,
          6.82,
          5.61,
          4.03,
          7.36,
          0.24,
          5.19,
          4.62,
          1.14,
          8.23,
          7.85,
          3.92
         ],
         "yaxis": "y"
        }
       ],
       "layout": {
        "height": 560,
        "legend": {
         "title": {
          "text": "class"
         },
         "tracegroupgap": 0
        },
        "margin": {
         "t": 60
        },
        "template": {
         "data": {
          "bar": [
           {
            "error_x": {
             "color": "#2a3f5f"
            },
            "error_y": {
             "color": "#2a3f5f"
            },
            "marker": {
             "line": {
              "color": "#E5ECF6",
              "width": 0.5
             },
             "pattern": {
              "fillmode": "overlay",
              "size": 10,
              "solidity": 0.2
             }
            },
            "type": "bar"
           }
          ],
          "barpolar": [
           {
            "marker": {
             "line": {
              "color": "#E5ECF6",
              "width": 0.5
             },
             "pattern": {
              "fillmode": "overlay",
              "size": 10,
              "solidity": 0.2
             }
            },
            "type": "barpolar"
           }
          ],
          "carpet": [
           {
            "aaxis": {
             "endlinecolor": "#2a3f5f",
             "gridcolor": "white",
             "linecolor": "white",
             "minorgridcolor": "white",
             "startlinecolor": "#2a3f5f"
            },
            "baxis": {
             "endlinecolor": "#2a3f5f",
             "gridcolor": "white",
             "linecolor": "white",
             "minorgridcolor": "white",
             "startlinecolor": "#2a3f5f"
            },
            "type": "carpet"
           }
          ],
          "choropleth": [
           {
            "colorbar": {
             "outlinewidth": 0,
             "ticks": ""
            },
            "type": "choropleth"
           }
          ],
          "contour": [
           {
            "colorbar": {
             "outlinewidth": 0,
             "ticks": ""
            },
            "colorscale": [
             [
              0,
              "#0d0887"
             ],
             [
              0.1111111111111111,
              "#46039f"
             ],
             [
              0.2222222222222222,
              "#7201a8"
             ],
             [
              0.3333333333333333,
              "#9c179e"
             ],
             [
              0.4444444444444444,
              "#bd3786"
             ],
             [
              0.5555555555555556,
              "#d8576b"
             ],
             [
              0.6666666666666666,
              "#ed7953"
             ],
             [
              0.7777777777777778,
              "#fb9f3a"
             ],
             [
              0.8888888888888888,
              "#fdca26"
             ],
             [
              1,
              "#f0f921"
             ]
            ],
            "type": "contour"
           }
          ],
          "contourcarpet": [
           {
            "colorbar": {
             "outlinewidth": 0,
             "ticks": ""
            },
            "type": "contourcarpet"
           }
          ],
          "heatmap": [
           {
            "colorbar": {
             "outlinewidth": 0,
             "ticks": ""
            },
            "colorscale": [
             [
              0,
              "#0d0887"
             ],
             [
              0.1111111111111111,
              "#46039f"
             ],
             [
              0.2222222222222222,
              "#7201a8"
             ],
             [
              0.3333333333333333,
              "#9c179e"
             ],
             [
              0.4444444444444444,
              "#bd3786"
             ],
             [
              0.5555555555555556,
              "#d8576b"
             ],
             [
              0.6666666666666666,
              "#ed7953"
             ],
             [
              0.7777777777777778,
              "#fb9f3a"
             ],
             [
              0.8888888888888888,
              "#fdca26"
             ],
             [
              1,
              "#f0f921"
             ]
            ],
            "type": "heatmap"
           }
          ],
          "heatmapgl": [
           {
            "colorbar": {
             "outlinewidth": 0,
             "ticks": ""
            },
            "colorscale": [
             [
              0,
              "#0d0887"
             ],
             [
              0.1111111111111111,
              "#46039f"
             ],
             [
              0.2222222222222222,
              "#7201a8"
             ],
             [
              0.3333333333333333,
              "#9c179e"
             ],
             [
              0.4444444444444444,
              "#bd3786"
             ],
             [
              0.5555555555555556,
              "#d8576b"
             ],
             [
              0.6666666666666666,
              "#ed7953"
             ],
             [
              0.7777777777777778,
              "#fb9f3a"
             ],
             [
              0.8888888888888888,
              "#fdca26"
             ],
             [
              1,
              "#f0f921"
             ]
            ],
            "type": "heatmapgl"
           }
          ],
          "histogram": [
           {
            "marker": {
             "pattern": {
              "fillmode": "overlay",
              "size": 10,
              "solidity": 0.2
             }
            },
            "type": "histogram"
           }
          ],
          "histogram2d": [
           {
            "colorbar": {
             "outlinewidth": 0,
             "ticks": ""
            },
            "colorscale": [
             [
              0,
              "#0d0887"
             ],
             [
              0.1111111111111111,
              "#46039f"
             ],
             [
              0.2222222222222222,
              "#7201a8"
             ],
             [
              0.3333333333333333,
              "#9c179e"
             ],
             [
              0.4444444444444444,
              "#bd3786"
             ],
             [
              0.5555555555555556,
              "#d8576b"
             ],
             [
              0.6666666666666666,
              "#ed7953"
             ],
             [
              0.7777777777777778,
              "#fb9f3a"
             ],
             [
              0.8888888888888888,
              "#fdca26"
             ],
             [
              1,
              "#f0f921"
             ]
            ],
            "type": "histogram2d"
           }
          ],
          "histogram2dcontour": [
           {
            "colorbar": {
             "outlinewidth": 0,
             "ticks": ""
            },
            "colorscale": [
             [
              0,
              "#0d0887"
             ],
             [
              0.1111111111111111,
              "#46039f"
             ],
             [
              0.2222222222222222,
              "#7201a8"
             ],
             [
              0.3333333333333333,
              "#9c179e"
             ],
             [
              0.4444444444444444,
              "#bd3786"
             ],
             [
              0.5555555555555556,
              "#d8576b"
             ],
             [
              0.6666666666666666,
              "#ed7953"
             ],
             [
              0.7777777777777778,
              "#fb9f3a"
             ],
             [
              0.8888888888888888,
              "#fdca26"
             ],
             [
              1,
              "#f0f921"
             ]
            ],
            "type": "histogram2dcontour"
           }
          ],
          "mesh3d": [
           {
            "colorbar": {
             "outlinewidth": 0,
             "ticks": ""
            },
            "type": "mesh3d"
           }
          ],
          "parcoords": [
           {
            "line": {
             "colorbar": {
              "outlinewidth": 0,
              "ticks": ""
             }
            },
            "type": "parcoords"
           }
          ],
          "pie": [
           {
            "automargin": true,
            "type": "pie"
           }
          ],
          "scatter": [
           {
            "fillpattern": {
             "fillmode": "overlay",
             "size": 10,
             "solidity": 0.2
            },
            "type": "scatter"
           }
          ],
          "scatter3d": [
           {
            "line": {
             "colorbar": {
              "outlinewidth": 0,
              "ticks": ""
             }
            },
            "marker": {
             "colorbar": {
              "outlinewidth": 0,
              "ticks": ""
             }
            },
            "type": "scatter3d"
           }
          ],
          "scattercarpet": [
           {
            "marker": {
             "colorbar": {
              "outlinewidth": 0,
              "ticks": ""
             }
            },
            "type": "scattercarpet"
           }
          ],
          "scattergeo": [
           {
            "marker": {
             "colorbar": {
              "outlinewidth": 0,
              "ticks": ""
             }
            },
            "type": "scattergeo"
           }
          ],
          "scattergl": [
           {
            "marker": {
             "colorbar": {
              "outlinewidth": 0,
              "ticks": ""
             }
            },
            "type": "scattergl"
           }
          ],
          "scattermapbox": [
           {
            "marker": {
             "colorbar": {
              "outlinewidth": 0,
              "ticks": ""
             }
            },
            "type": "scattermapbox"
           }
          ],
          "scatterpolar": [
           {
            "marker": {
             "colorbar": {
              "outlinewidth": 0,
              "ticks": ""
             }
            },
            "type": "scatterpolar"
           }
          ],
          "scatterpolargl": [
           {
            "marker": {
             "colorbar": {
              "outlinewidth": 0,
              "ticks": ""
             }
            },
            "type": "scatterpolargl"
           }
          ],
          "scatterternary": [
           {
            "marker": {
             "colorbar": {
              "outlinewidth": 0,
              "ticks": ""
             }
            },
            "type": "scatterternary"
           }
          ],
          "surface": [
           {
            "colorbar": {
             "outlinewidth": 0,
             "ticks": ""
            },
            "colorscale": [
             [
              0,
              "#0d0887"
             ],
             [
              0.1111111111111111,
              "#46039f"
             ],
             [
              0.2222222222222222,
              "#7201a8"
             ],
             [
              0.3333333333333333,
              "#9c179e"
             ],
             [
              0.4444444444444444,
              "#bd3786"
             ],
             [
              0.5555555555555556,
              "#d8576b"
             ],
             [
              0.6666666666666666,
              "#ed7953"
             ],
             [
              0.7777777777777778,
              "#fb9f3a"
             ],
             [
              0.8888888888888888,
              "#fdca26"
             ],
             [
              1,
              "#f0f921"
             ]
            ],
            "type": "surface"
           }
          ],
          "table": [
           {
            "cells": {
             "fill": {
              "color": "#EBF0F8"
             },
             "line": {
              "color": "white"
             }
            },
            "header": {
             "fill": {
              "color": "#C8D4E3"
             },
             "line": {
              "color": "white"
             }
            },
            "type": "table"
           }
          ]
         },
         "layout": {
          "annotationdefaults": {
           "arrowcolor": "#2a3f5f",
           "arrowhead": 0,
           "arrowwidth": 1
          },
          "autotypenumbers": "strict",
          "coloraxis": {
           "colorbar": {
            "outlinewidth": 0,
            "ticks": ""
           }
          },
          "colorscale": {
           "diverging": [
            [
             0,
             "#8e0152"
            ],
            [
             0.1,
             "#c51b7d"
            ],
            [
             0.2,
             "#de77ae"
            ],
            [
             0.3,
             "#f1b6da"
            ],
            [
             0.4,
             "#fde0ef"
            ],
            [
             0.5,
             "#f7f7f7"
            ],
            [
             0.6,
             "#e6f5d0"
            ],
            [
             0.7,
             "#b8e186"
            ],
            [
             0.8,
             "#7fbc41"
            ],
            [
             0.9,
             "#4d9221"
            ],
            [
             1,
             "#276419"
            ]
           ],
           "sequential": [
            [
             0,
             "#0d0887"
            ],
            [
             0.1111111111111111,
             "#46039f"
            ],
            [
             0.2222222222222222,
             "#7201a8"
            ],
            [
             0.3333333333333333,
             "#9c179e"
            ],
            [
             0.4444444444444444,
             "#bd3786"
            ],
            [
             0.5555555555555556,
             "#d8576b"
            ],
            [
             0.6666666666666666,
             "#ed7953"
            ],
            [
             0.7777777777777778,
             "#fb9f3a"
            ],
            [
             0.8888888888888888,
             "#fdca26"
            ],
            [
             1,
             "#f0f921"
            ]
           ],
           "sequentialminus": [
            [
             0,
             "#0d0887"
            ],
            [
             0.1111111111111111,
             "#46039f"
            ],
            [
             0.2222222222222222,
             "#7201a8"
            ],
            [
             0.3333333333333333,
             "#9c179e"
            ],
            [
             0.4444444444444444,
             "#bd3786"
            ],
            [
             0.5555555555555556,
             "#d8576b"
            ],
            [
             0.6666666666666666,
             "#ed7953"
            ],
            [
             0.7777777777777778,
             "#fb9f3a"
            ],
            [
             0.8888888888888888,
             "#fdca26"
            ],
            [
             1,
             "#f0f921"
            ]
           ]
          },
          "colorway": [
           "#636efa",
           "#EF553B",
           "#00cc96",
           "#ab63fa",
           "#FFA15A",
           "#19d3f3",
           "#FF6692",
           "#B6E880",
           "#FF97FF",
           "#FECB52"
          ],
          "font": {
           "color": "#2a3f5f"
          },
          "geo": {
           "bgcolor": "white",
           "lakecolor": "white",
           "landcolor": "#E5ECF6",
           "showlakes": true,
           "showland": true,
           "subunitcolor": "white"
          },
          "hoverlabel": {
           "align": "left"
          },
          "hovermode": "closest",
          "mapbox": {
           "style": "light"
          },
          "paper_bgcolor": "white",
          "plot_bgcolor": "#E5ECF6",
          "polar": {
           "angularaxis": {
            "gridcolor": "white",
            "linecolor": "white",
            "ticks": ""
           },
           "bgcolor": "#E5ECF6",
           "radialaxis": {
            "gridcolor": "white",
            "linecolor": "white",
            "ticks": ""
           }
          },
          "scene": {
           "xaxis": {
            "backgroundcolor": "#E5ECF6",
            "gridcolor": "white",
            "gridwidth": 2,
            "linecolor": "white",
            "showbackground": true,
            "ticks": "",
            "zerolinecolor": "white"
           },
           "yaxis": {
            "backgroundcolor": "#E5ECF6",
            "gridcolor": "white",
            "gridwidth": 2,
            "linecolor": "white",
            "showbackground": true,
            "ticks": "",
            "zerolinecolor": "white"
           },
           "zaxis": {
            "backgroundcolor": "#E5ECF6",
            "gridcolor": "white",
            "gridwidth": 2,
            "linecolor": "white",
            "showbackground": true,
            "ticks": "",
            "zerolinecolor": "white"
           }
          },
          "shapedefaults": {
           "line": {
            "color": "#2a3f5f"
           }
          },
          "ternary": {
           "aaxis": {
            "gridcolor": "white",
            "linecolor": "white",
            "ticks": ""
           },
           "baxis": {
            "gridcolor": "white",
            "linecolor": "white",
            "ticks": ""
           },
           "bgcolor": "#E5ECF6",
           "caxis": {
            "gridcolor": "white",
            "linecolor": "white",
            "ticks": ""
           }
          },
          "title": {
           "x": 0.05
          },
          "xaxis": {
           "automargin": true,
           "gridcolor": "white",
           "linecolor": "white",
           "ticks": "",
           "title": {
            "standoff": 15
           },
           "zerolinecolor": "white",
           "zerolinewidth": 2
          },
          "yaxis": {
           "automargin": true,
           "gridcolor": "white",
           "linecolor": "white",
           "ticks": "",
           "title": {
            "standoff": 15
           },
           "zerolinecolor": "white",
           "zerolinewidth": 2
          }
         }
        },
        "width": 560,
        "xaxis": {
         "anchor": "y",
         "domain": [
          0,
          1
         ],
         "title": {
          "text": "a"
         }
        },
        "yaxis": {
         "anchor": "x",
         "domain": [
          0,
          1
         ],
         "title": {
          "text": "b"
         }
        }
       }
      },
      "text/html": [
       "<div>                            <div id=\"046e1887-79a3-48bf-9b36-dcb3bbfead62\" class=\"plotly-graph-div\" style=\"height:560px; width:560px;\"></div>            <script type=\"text/javascript\">                require([\"plotly\"], function(Plotly) {                    window.PLOTLYENV=window.PLOTLYENV || {};                                    if (document.getElementById(\"046e1887-79a3-48bf-9b36-dcb3bbfead62\")) {                    Plotly.newPlot(                        \"046e1887-79a3-48bf-9b36-dcb3bbfead62\",                        [{\"hovertemplate\":\"class=0<br>a=%{x}<br>b=%{y}<extra></extra>\",\"legendgroup\":\"0\",\"marker\":{\"color\":\"#636efa\",\"symbol\":\"circle\"},\"mode\":\"markers\",\"name\":\"0\",\"orientation\":\"v\",\"showlegend\":true,\"x\":[0.73,2.54,8.83,1.08,2.0,1.97,2.23,1.2,0.29,8.75,7.01,7.81,7.78,8.67,1.02,1.11,1.37,1.81,1.47,8.41,1.87,1.91,2.17,7.82,2.94,1.37,0.43,7.95,0.46,1.73,2.99,1.39,1.46,2.45,2.72,2.19,0.38,1.94,7.86,0.44,2.39,7.89,2.7,7.26,1.62,7.57,8.09,1.25,2.2,7.84,2.12,1.66,7.67,8.43,2.5,7.72,1.1],\"xaxis\":\"x\",\"y\":[2.07,5.1,2.68,1.96,7.21,6.5,1.3,7.96,2.28,3.26,7.13,5.41,0.14,8.12,8.91,6.72,6.9,3.91,0.04,6.38,8.48,8.77,6.85,5.37,5.99,6.06,8.18,1.27,1.24,0.42,1.74,6.71,6.33,3.61,0.51,3.59,5.25,7.44,7.99,8.62,7.46,3.49,8.28,7.08,1.7,6.32,1.54,8.8,2.84,6.93,4.69,1.78,6.27,5.98,7.15,6.71,0.04],\"yaxis\":\"y\",\"type\":\"scatter\"},{\"hovertemplate\":\"class=1<br>a=%{x}<br>b=%{y}<extra></extra>\",\"legendgroup\":\"1\",\"marker\":{\"color\":\"#EF553B\",\"symbol\":\"circle\"},\"mode\":\"markers\",\"name\":\"1\",\"orientation\":\"v\",\"showlegend\":true,\"x\":[3.18,4.3,6.7,3.76,3.42,5.67,6.33,3.45,6.78,4.76,5.36,3.01,5.4,5.84,6.35,4.65,6.12,5.02,6.55,5.65,5.93,5.21,4.92,4.74,6.07,3.12,3.25,6.31,6.24,3.12,5.67,6.52,6.82,5.09,6.8,3.98,6.12,5.86,3.81,4.68,4.29,3.07,6.23],\"xaxis\":\"x\",\"y\":[6.24,2.36,5.03,1.32,3.36,3.39,8.04,7.78,3.66,5.63,2.21,5.67,0.49,5.96,0.09,7.6,6.2,1.96,4.96,7.05,0.9,4.2,5.79,6.26,7.67,0.72,0.97,4.69,5.63,0.06,7.92,4.61,6.82,5.61,4.03,7.36,0.24,5.19,4.62,1.14,8.23,7.85,3.92],\"yaxis\":\"y\",\"type\":\"scatter\"}],                        {\"template\":{\"data\":{\"histogram2dcontour\":[{\"type\":\"histogram2dcontour\",\"colorbar\":{\"outlinewidth\":0,\"ticks\":\"\"},\"colorscale\":[[0.0,\"#0d0887\"],[0.1111111111111111,\"#46039f\"],[0.2222222222222222,\"#7201a8\"],[0.3333333333333333,\"#9c179e\"],[0.4444444444444444,\"#bd3786\"],[0.5555555555555556,\"#d8576b\"],[0.6666666666666666,\"#ed7953\"],[0.7777777777777778,\"#fb9f3a\"],[0.8888888888888888,\"#fdca26\"],[1.0,\"#f0f921\"]]}],\"choropleth\":[{\"type\":\"choropleth\",\"colorbar\":{\"outlinewidth\":0,\"ticks\":\"\"}}],\"histogram2d\":[{\"type\":\"histogram2d\",\"colorbar\":{\"outlinewidth\":0,\"ticks\":\"\"},\"colorscale\":[[0.0,\"#0d0887\"],[0.1111111111111111,\"#46039f\"],[0.2222222222222222,\"#7201a8\"],[0.3333333333333333,\"#9c179e\"],[0.4444444444444444,\"#bd3786\"],[0.5555555555555556,\"#d8576b\"],[0.6666666666666666,\"#ed7953\"],[0.7777777777777778,\"#fb9f3a\"],[0.8888888888888888,\"#fdca26\"],[1.0,\"#f0f921\"]]}],\"heatmap\":[{\"type\":\"heatmap\",\"colorbar\":{\"outlinewidth\":0,\"ticks\":\"\"},\"colorscale\":[[0.0,\"#0d0887\"],[0.1111111111111111,\"#46039f\"],[0.2222222222222222,\"#7201a8\"],[0.3333333333333333,\"#9c179e\"],[0.4444444444444444,\"#bd3786\"],[0.5555555555555556,\"#d8576b\"],[0.6666666666666666,\"#ed7953\"],[0.7777777777777778,\"#fb9f3a\"],[0.8888888888888888,\"#fdca26\"],[1.0,\"#f0f921\"]]}],\"heatmapgl\":[{\"type\":\"heatmapgl\",\"colorbar\":{\"outlinewidth\":0,\"ticks\":\"\"},\"colorscale\":[[0.0,\"#0d0887\"],[0.1111111111111111,\"#46039f\"],[0.2222222222222222,\"#7201a8\"],[0.3333333333333333,\"#9c179e\"],[0.4444444444444444,\"#bd3786\"],[0.5555555555555556,\"#d8576b\"],[0.6666666666666666,\"#ed7953\"],[0.7777777777777778,\"#fb9f3a\"],[0.8888888888888888,\"#fdca26\"],[1.0,\"#f0f921\"]]}],\"contourcarpet\":[{\"type\":\"contourcarpet\",\"colorbar\":{\"outlinewidth\":0,\"ticks\":\"\"}}],\"contour\":[{\"type\":\"contour\",\"colorbar\":{\"outlinewidth\":0,\"ticks\":\"\"},\"colorscale\":[[0.0,\"#0d0887\"],[0.1111111111111111,\"#46039f\"],[0.2222222222222222,\"#7201a8\"],[0.3333333333333333,\"#9c179e\"],[0.4444444444444444,\"#bd3786\"],[0.5555555555555556,\"#d8576b\"],[0.6666666666666666,\"#ed7953\"],[0.7777777777777778,\"#fb9f3a\"],[0.8888888888888888,\"#fdca26\"],[1.0,\"#f0f921\"]]}],\"surface\":[{\"type\":\"surface\",\"colorbar\":{\"outlinewidth\":0,\"ticks\":\"\"},\"colorscale\":[[0.0,\"#0d0887\"],[0.1111111111111111,\"#46039f\"],[0.2222222222222222,\"#7201a8\"],[0.3333333333333333,\"#9c179e\"],[0.4444444444444444,\"#bd3786\"],[0.5555555555555556,\"#d8576b\"],[0.6666666666666666,\"#ed7953\"],[0.7777777777777778,\"#fb9f3a\"],[0.8888888888888888,\"#fdca26\"],[1.0,\"#f0f921\"]]}],\"mesh3d\":[{\"type\":\"mesh3d\",\"colorbar\":{\"outlinewidth\":0,\"ticks\":\"\"}}],\"scatter\":[{\"fillpattern\":{\"fillmode\":\"overlay\",\"size\":10,\"solidity\":0.2},\"type\":\"scatter\"}],\"parcoords\":[{\"type\":\"parcoords\",\"line\":{\"colorbar\":{\"outlinewidth\":0,\"ticks\":\"\"}}}],\"scatterpolargl\":[{\"type\":\"scatterpolargl\",\"marker\":{\"colorbar\":{\"outlinewidth\":0,\"ticks\":\"\"}}}],\"bar\":[{\"error_x\":{\"color\":\"#2a3f5f\"},\"error_y\":{\"color\":\"#2a3f5f\"},\"marker\":{\"line\":{\"color\":\"#E5ECF6\",\"width\":0.5},\"pattern\":{\"fillmode\":\"overlay\",\"size\":10,\"solidity\":0.2}},\"type\":\"bar\"}],\"scattergeo\":[{\"type\":\"scattergeo\",\"marker\":{\"colorbar\":{\"outlinewidth\":0,\"ticks\":\"\"}}}],\"scatterpolar\":[{\"type\":\"scatterpolar\",\"marker\":{\"colorbar\":{\"outlinewidth\":0,\"ticks\":\"\"}}}],\"histogram\":[{\"marker\":{\"pattern\":{\"fillmode\":\"overlay\",\"size\":10,\"solidity\":0.2}},\"type\":\"histogram\"}],\"scattergl\":[{\"type\":\"scattergl\",\"marker\":{\"colorbar\":{\"outlinewidth\":0,\"ticks\":\"\"}}}],\"scatter3d\":[{\"type\":\"scatter3d\",\"line\":{\"colorbar\":{\"outlinewidth\":0,\"ticks\":\"\"}},\"marker\":{\"colorbar\":{\"outlinewidth\":0,\"ticks\":\"\"}}}],\"scattermapbox\":[{\"type\":\"scattermapbox\",\"marker\":{\"colorbar\":{\"outlinewidth\":0,\"ticks\":\"\"}}}],\"scatterternary\":[{\"type\":\"scatterternary\",\"marker\":{\"colorbar\":{\"outlinewidth\":0,\"ticks\":\"\"}}}],\"scattercarpet\":[{\"type\":\"scattercarpet\",\"marker\":{\"colorbar\":{\"outlinewidth\":0,\"ticks\":\"\"}}}],\"carpet\":[{\"aaxis\":{\"endlinecolor\":\"#2a3f5f\",\"gridcolor\":\"white\",\"linecolor\":\"white\",\"minorgridcolor\":\"white\",\"startlinecolor\":\"#2a3f5f\"},\"baxis\":{\"endlinecolor\":\"#2a3f5f\",\"gridcolor\":\"white\",\"linecolor\":\"white\",\"minorgridcolor\":\"white\",\"startlinecolor\":\"#2a3f5f\"},\"type\":\"carpet\"}],\"table\":[{\"cells\":{\"fill\":{\"color\":\"#EBF0F8\"},\"line\":{\"color\":\"white\"}},\"header\":{\"fill\":{\"color\":\"#C8D4E3\"},\"line\":{\"color\":\"white\"}},\"type\":\"table\"}],\"barpolar\":[{\"marker\":{\"line\":{\"color\":\"#E5ECF6\",\"width\":0.5},\"pattern\":{\"fillmode\":\"overlay\",\"size\":10,\"solidity\":0.2}},\"type\":\"barpolar\"}],\"pie\":[{\"automargin\":true,\"type\":\"pie\"}]},\"layout\":{\"autotypenumbers\":\"strict\",\"colorway\":[\"#636efa\",\"#EF553B\",\"#00cc96\",\"#ab63fa\",\"#FFA15A\",\"#19d3f3\",\"#FF6692\",\"#B6E880\",\"#FF97FF\",\"#FECB52\"],\"font\":{\"color\":\"#2a3f5f\"},\"hovermode\":\"closest\",\"hoverlabel\":{\"align\":\"left\"},\"paper_bgcolor\":\"white\",\"plot_bgcolor\":\"#E5ECF6\",\"polar\":{\"bgcolor\":\"#E5ECF6\",\"angularaxis\":{\"gridcolor\":\"white\",\"linecolor\":\"white\",\"ticks\":\"\"},\"radialaxis\":{\"gridcolor\":\"white\",\"linecolor\":\"white\",\"ticks\":\"\"}},\"ternary\":{\"bgcolor\":\"#E5ECF6\",\"aaxis\":{\"gridcolor\":\"white\",\"linecolor\":\"white\",\"ticks\":\"\"},\"baxis\":{\"gridcolor\":\"white\",\"linecolor\":\"white\",\"ticks\":\"\"},\"caxis\":{\"gridcolor\":\"white\",\"linecolor\":\"white\",\"ticks\":\"\"}},\"coloraxis\":{\"colorbar\":{\"outlinewidth\":0,\"ticks\":\"\"}},\"colorscale\":{\"sequential\":[[0.0,\"#0d0887\"],[0.1111111111111111,\"#46039f\"],[0.2222222222222222,\"#7201a8\"],[0.3333333333333333,\"#9c179e\"],[0.4444444444444444,\"#bd3786\"],[0.5555555555555556,\"#d8576b\"],[0.6666666666666666,\"#ed7953\"],[0.7777777777777778,\"#fb9f3a\"],[0.8888888888888888,\"#fdca26\"],[1.0,\"#f0f921\"]],\"sequentialminus\":[[0.0,\"#0d0887\"],[0.1111111111111111,\"#46039f\"],[0.2222222222222222,\"#7201a8\"],[0.3333333333333333,\"#9c179e\"],[0.4444444444444444,\"#bd3786\"],[0.5555555555555556,\"#d8576b\"],[0.6666666666666666,\"#ed7953\"],[0.7777777777777778,\"#fb9f3a\"],[0.8888888888888888,\"#fdca26\"],[1.0,\"#f0f921\"]],\"diverging\":[[0,\"#8e0152\"],[0.1,\"#c51b7d\"],[0.2,\"#de77ae\"],[0.3,\"#f1b6da\"],[0.4,\"#fde0ef\"],[0.5,\"#f7f7f7\"],[0.6,\"#e6f5d0\"],[0.7,\"#b8e186\"],[0.8,\"#7fbc41\"],[0.9,\"#4d9221\"],[1,\"#276419\"]]},\"xaxis\":{\"gridcolor\":\"white\",\"linecolor\":\"white\",\"ticks\":\"\",\"title\":{\"standoff\":15},\"zerolinecolor\":\"white\",\"automargin\":true,\"zerolinewidth\":2},\"yaxis\":{\"gridcolor\":\"white\",\"linecolor\":\"white\",\"ticks\":\"\",\"title\":{\"standoff\":15},\"zerolinecolor\":\"white\",\"automargin\":true,\"zerolinewidth\":2},\"scene\":{\"xaxis\":{\"backgroundcolor\":\"#E5ECF6\",\"gridcolor\":\"white\",\"linecolor\":\"white\",\"showbackground\":true,\"ticks\":\"\",\"zerolinecolor\":\"white\",\"gridwidth\":2},\"yaxis\":{\"backgroundcolor\":\"#E5ECF6\",\"gridcolor\":\"white\",\"linecolor\":\"white\",\"showbackground\":true,\"ticks\":\"\",\"zerolinecolor\":\"white\",\"gridwidth\":2},\"zaxis\":{\"backgroundcolor\":\"#E5ECF6\",\"gridcolor\":\"white\",\"linecolor\":\"white\",\"showbackground\":true,\"ticks\":\"\",\"zerolinecolor\":\"white\",\"gridwidth\":2}},\"shapedefaults\":{\"line\":{\"color\":\"#2a3f5f\"}},\"annotationdefaults\":{\"arrowcolor\":\"#2a3f5f\",\"arrowhead\":0,\"arrowwidth\":1},\"geo\":{\"bgcolor\":\"white\",\"landcolor\":\"#E5ECF6\",\"subunitcolor\":\"white\",\"showland\":true,\"showlakes\":true,\"lakecolor\":\"white\"},\"title\":{\"x\":0.05},\"mapbox\":{\"style\":\"light\"}}},\"xaxis\":{\"anchor\":\"y\",\"domain\":[0.0,1.0],\"title\":{\"text\":\"a\"}},\"yaxis\":{\"anchor\":\"x\",\"domain\":[0.0,1.0],\"title\":{\"text\":\"b\"}},\"legend\":{\"title\":{\"text\":\"class\"},\"tracegroupgap\":0},\"margin\":{\"t\":60},\"height\":560,\"width\":560},                        {\"responsive\": true}                    ).then(function(){\n",
       "                            \n",
       "var gd = document.getElementById('046e1887-79a3-48bf-9b36-dcb3bbfead62');\n",
       "var x = new MutationObserver(function (mutations, observer) {{\n",
       "        var display = window.getComputedStyle(gd).display;\n",
       "        if (!display || display === 'none') {{\n",
       "            console.log([gd, 'removed!']);\n",
       "            Plotly.purge(gd);\n",
       "            observer.disconnect();\n",
       "        }}\n",
       "}});\n",
       "\n",
       "// Listen for the removal of the full notebook cells\n",
       "var notebookContainer = gd.closest('#notebook-container');\n",
       "if (notebookContainer) {{\n",
       "    x.observe(notebookContainer, {childList: true});\n",
       "}}\n",
       "\n",
       "// Listen for the clearing of the current output cell\n",
       "var outputEl = gd.closest('.output');\n",
       "if (outputEl) {{\n",
       "    x.observe(outputEl, {childList: true});\n",
       "}}\n",
       "\n",
       "                        })                };                });            </script>        </div>"
      ]
     },
     "metadata": {},
     "output_type": "display_data"
    }
   ],
   "source": [
    "fig = px.scatter(df, x='a',\n",
    "            y='b',\n",
    "            color='class',\n",
    "            height=560,\n",
    "            width=560,\n",
    "            )\n",
    "fig.show()"
   ]
  },
  {
   "cell_type": "code",
   "execution_count": 16,
   "metadata": {},
   "outputs": [
    {
     "name": "stdout",
     "output_type": "stream",
     "text": [
      "Rules original\n",
      "IF a = (-inf, 3) THEN class = {0} (p = 39.0, n = 0.0, P = 57.0, N = 43.0, weight = 1.0, pvalue = 3.442735067232518e-14)\n",
      "IF a = <6.92, inf) THEN class = {0} (p = 18.0, n = 0.0, P = 57.0, N = 43.0, weight = 1.0, pvalue = 1.0120021985984552e-05)\n",
      "IF a = <3, 6.92) THEN class = {1} (p = 43.0, n = 0.0, P = 43.0, N = 57.0, weight = 1.0, pvalue = 2.6235334749066164e-29)\n",
      "\n",
      "\n",
      "Complex rules\n",
      "IF a = (-inf, 3) THEN class = {0} (p = 39.0, n = 0.0, P = 57.0, N = 43.0, weight = 1.0, pvalue = 3.442735067232518e-14)\n",
      "IF a != <1.55, 7.01) THEN class = {0} (p = 35.0, n = 0.0, P = 57.0, N = 43.0, weight = 1.0, pvalue = 3.186424265097899e-12)\n",
      "IF a = <3, 7.01) THEN class = {1} (p = 43.0, n = 0.0, P = 43.0, N = 57.0, weight = 1.0, pvalue = 2.6235334749066164e-29)\n",
      "\n",
      "\n",
      "Complex rules + inners alternatives\n",
      "IF #(a = <6.92, inf) OR a != <1.05, 7.26) OR a != <1.05, 7.57) OR a != <1.05, 7.67) OR a = <0.33, 1.02)) THEN class = {0} (p = 57.0, n = 0.0, P = 57.0, N = 43.0, weight = 1.0, pvalue = 2.6235334749066164e-29)\n",
      "IF #(a = <3, 3.25)) THEN class = {1} (p = 43.0, n = 0.0, P = 43.0, N = 57.0, weight = 1.0, pvalue = 2.6235334749066164e-29)\n"
     ]
    }
   ],
   "source": [
    "X = df.drop(['class'], axis=1)\n",
    "y = df['class']\n",
    "\n",
    "clf_simple.fit(X, y)\n",
    "\n",
    "print(\"Rules original\")\n",
    "for rule in clf_simple.model.rules:\n",
    "    print(rule, rule.stats)\n",
    "\n",
    "print(\"\\n\\nComplex rules\")\n",
    "clf_complex.fit(X, y)\n",
    "for rule in clf_complex.model.rules:\n",
    "    print(rule, rule.stats)\n",
    "\n",
    "print(\"\\n\\nComplex rules + inners alternatives\")\n",
    "clf_complex_with_inners.fit(X, y)\n",
    "for rule in clf_complex_with_inners.model.rules:\n",
    "    print(rule, rule.stats)"
   ]
  },
  {
   "attachments": {},
   "cell_type": "markdown",
   "metadata": {},
   "source": [
    "## a<b"
   ]
  },
  {
   "cell_type": "code",
   "execution_count": 17,
   "metadata": {},
   "outputs": [
    {
     "data": {
      "text/html": [
       "<div>\n",
       "<style scoped>\n",
       "    .dataframe tbody tr th:only-of-type {\n",
       "        vertical-align: middle;\n",
       "    }\n",
       "\n",
       "    .dataframe tbody tr th {\n",
       "        vertical-align: top;\n",
       "    }\n",
       "\n",
       "    .dataframe thead th {\n",
       "        text-align: right;\n",
       "    }\n",
       "</style>\n",
       "<table border=\"1\" class=\"dataframe\">\n",
       "  <thead>\n",
       "    <tr style=\"text-align: right;\">\n",
       "      <th></th>\n",
       "      <th>a</th>\n",
       "      <th>b</th>\n",
       "      <th>class</th>\n",
       "    </tr>\n",
       "  </thead>\n",
       "  <tbody>\n",
       "    <tr>\n",
       "      <th>0</th>\n",
       "      <td>5.81</td>\n",
       "      <td>5.72</td>\n",
       "      <td>0</td>\n",
       "    </tr>\n",
       "    <tr>\n",
       "      <th>1</th>\n",
       "      <td>0.50</td>\n",
       "      <td>5.94</td>\n",
       "      <td>1</td>\n",
       "    </tr>\n",
       "    <tr>\n",
       "      <th>2</th>\n",
       "      <td>5.89</td>\n",
       "      <td>3.63</td>\n",
       "      <td>0</td>\n",
       "    </tr>\n",
       "    <tr>\n",
       "      <th>3</th>\n",
       "      <td>2.86</td>\n",
       "      <td>4.89</td>\n",
       "      <td>1</td>\n",
       "    </tr>\n",
       "    <tr>\n",
       "      <th>4</th>\n",
       "      <td>8.98</td>\n",
       "      <td>5.26</td>\n",
       "      <td>0</td>\n",
       "    </tr>\n",
       "    <tr>\n",
       "      <th>...</th>\n",
       "      <td>...</td>\n",
       "      <td>...</td>\n",
       "      <td>...</td>\n",
       "    </tr>\n",
       "    <tr>\n",
       "      <th>95</th>\n",
       "      <td>2.26</td>\n",
       "      <td>1.46</td>\n",
       "      <td>0</td>\n",
       "    </tr>\n",
       "    <tr>\n",
       "      <th>96</th>\n",
       "      <td>2.25</td>\n",
       "      <td>0.24</td>\n",
       "      <td>0</td>\n",
       "    </tr>\n",
       "    <tr>\n",
       "      <th>97</th>\n",
       "      <td>6.24</td>\n",
       "      <td>4.04</td>\n",
       "      <td>0</td>\n",
       "    </tr>\n",
       "    <tr>\n",
       "      <th>98</th>\n",
       "      <td>4.21</td>\n",
       "      <td>0.56</td>\n",
       "      <td>0</td>\n",
       "    </tr>\n",
       "    <tr>\n",
       "      <th>99</th>\n",
       "      <td>1.82</td>\n",
       "      <td>3.87</td>\n",
       "      <td>1</td>\n",
       "    </tr>\n",
       "  </tbody>\n",
       "</table>\n",
       "<p>100 rows × 3 columns</p>\n",
       "</div>"
      ],
      "text/plain": [
       "       a     b class\n",
       "0   5.81  5.72     0\n",
       "1   0.50  5.94     1\n",
       "2   5.89  3.63     0\n",
       "3   2.86  4.89     1\n",
       "4   8.98  5.26     0\n",
       "..   ...   ...   ...\n",
       "95  2.26  1.46     0\n",
       "96  2.25  0.24     0\n",
       "97  6.24  4.04     0\n",
       "98  4.21  0.56     0\n",
       "99  1.82  3.87     1\n",
       "\n",
       "[100 rows x 3 columns]"
      ]
     },
     "execution_count": 17,
     "metadata": {},
     "output_type": "execute_result"
    }
   ],
   "source": [
    "df = pd.DataFrame(columns=[\"a\", \"b\", \"class\"], index = [i for i in range(0,100)])\n",
    "\n",
    "\n",
    "a = [round(random.uniform(0, 9),2) for i in range(100)]\n",
    "b = [round(random.uniform(0, 9),2) for i in range(100)]\n",
    "\n",
    "df[\"a\"] = a\n",
    "df[\"b\"] = b\n",
    "\n",
    "df.loc[(df[\"a\"] < df[\"b\"]),\"class\"] = \"1\"\n",
    "df = df.fillna(\"0\")\n",
    "df"
   ]
  },
  {
   "cell_type": "code",
   "execution_count": 18,
   "metadata": {},
   "outputs": [
    {
     "data": {
      "application/vnd.plotly.v1+json": {
       "config": {
        "plotlyServerURL": "https://plot.ly"
       },
       "data": [
        {
         "hovertemplate": "class=0<br>a=%{x}<br>b=%{y}<extra></extra>",
         "legendgroup": "0",
         "marker": {
          "color": "#636efa",
          "symbol": "circle"
         },
         "mode": "markers",
         "name": "0",
         "orientation": "v",
         "showlegend": true,
         "type": "scatter",
         "x": [
          5.81,
          5.89,
          8.98,
          7.06,
          2.76,
          6.17,
          8.04,
          6.77,
          4.13,
          8.68,
          3.35,
          5.52,
          6.61,
          6.81,
          2.55,
          6.64,
          5.14,
          8.42,
          5.29,
          6.5,
          8.9,
          5.28,
          5.35,
          7.38,
          3.52,
          3.66,
          4.38,
          7.53,
          8.67,
          0.96,
          5.23,
          7.62,
          5.75,
          1.74,
          5.66,
          6,
          3.82,
          8.82,
          7.81,
          5.37,
          5.53,
          4.1,
          6.4,
          2.6,
          3.96,
          8.49,
          8.33,
          6.8,
          8.58,
          5.38,
          2.26,
          2.25,
          6.24,
          4.21
         ],
         "xaxis": "x",
         "y": [
          5.72,
          3.63,
          5.26,
          4.35,
          2.4,
          1.02,
          1.89,
          5.99,
          0.44,
          4.81,
          0.42,
          3.91,
          6.2,
          0.62,
          0.86,
          5.58,
          1.34,
          5.87,
          0.58,
          6.26,
          7.52,
          2.69,
          3.39,
          2.98,
          0.91,
          1.22,
          1.33,
          3.12,
          3.46,
          0.48,
          0.36,
          0.73,
          0.44,
          1.54,
          5.28,
          3.15,
          0.97,
          0.21,
          7.2,
          4.89,
          2.46,
          1.83,
          3.49,
          0.96,
          3.5,
          8.29,
          7.14,
          2.81,
          6.15,
          5.35,
          1.46,
          0.24,
          4.04,
          0.56
         ],
         "yaxis": "y"
        },
        {
         "hovertemplate": "class=1<br>a=%{x}<br>b=%{y}<extra></extra>",
         "legendgroup": "1",
         "marker": {
          "color": "#EF553B",
          "symbol": "circle"
         },
         "mode": "markers",
         "name": "1",
         "orientation": "v",
         "showlegend": true,
         "type": "scatter",
         "x": [
          0.5,
          2.86,
          4.52,
          4.64,
          8.29,
          7.69,
          1.73,
          6.02,
          5.08,
          2.54,
          2.21,
          1.84,
          8.78,
          0.8,
          0.49,
          0.27,
          6.65,
          3.02,
          0.8,
          2.12,
          0.09,
          0.53,
          4.21,
          1.76,
          3.16,
          0.15,
          0.86,
          3.81,
          1.22,
          0.21,
          0.03,
          5.58,
          3.9,
          0.16,
          4.19,
          1.08,
          2.18,
          1.78,
          3.82,
          3.36,
          3.63,
          1.21,
          0.85,
          1.21,
          0.04,
          1.82
         ],
         "xaxis": "x",
         "y": [
          5.94,
          4.89,
          6.2,
          8.21,
          8.62,
          8.43,
          3.51,
          7.16,
          5.89,
          4.9,
          8.41,
          7.49,
          8.87,
          3.72,
          8.43,
          4.09,
          7.67,
          3.21,
          4.27,
          7.24,
          8.38,
          5.21,
          8.85,
          4.21,
          5.02,
          5.52,
          8.89,
          4.95,
          2.01,
          8.57,
          3.88,
          7.51,
          8.5,
          1.97,
          4.93,
          7.52,
          8.27,
          3.66,
          6.11,
          7.8,
          6.21,
          7.02,
          6.44,
          3.71,
          8.05,
          3.87
         ],
         "yaxis": "y"
        }
       ],
       "layout": {
        "height": 560,
        "legend": {
         "title": {
          "text": "class"
         },
         "tracegroupgap": 0
        },
        "margin": {
         "t": 60
        },
        "template": {
         "data": {
          "bar": [
           {
            "error_x": {
             "color": "#2a3f5f"
            },
            "error_y": {
             "color": "#2a3f5f"
            },
            "marker": {
             "line": {
              "color": "#E5ECF6",
              "width": 0.5
             },
             "pattern": {
              "fillmode": "overlay",
              "size": 10,
              "solidity": 0.2
             }
            },
            "type": "bar"
           }
          ],
          "barpolar": [
           {
            "marker": {
             "line": {
              "color": "#E5ECF6",
              "width": 0.5
             },
             "pattern": {
              "fillmode": "overlay",
              "size": 10,
              "solidity": 0.2
             }
            },
            "type": "barpolar"
           }
          ],
          "carpet": [
           {
            "aaxis": {
             "endlinecolor": "#2a3f5f",
             "gridcolor": "white",
             "linecolor": "white",
             "minorgridcolor": "white",
             "startlinecolor": "#2a3f5f"
            },
            "baxis": {
             "endlinecolor": "#2a3f5f",
             "gridcolor": "white",
             "linecolor": "white",
             "minorgridcolor": "white",
             "startlinecolor": "#2a3f5f"
            },
            "type": "carpet"
           }
          ],
          "choropleth": [
           {
            "colorbar": {
             "outlinewidth": 0,
             "ticks": ""
            },
            "type": "choropleth"
           }
          ],
          "contour": [
           {
            "colorbar": {
             "outlinewidth": 0,
             "ticks": ""
            },
            "colorscale": [
             [
              0,
              "#0d0887"
             ],
             [
              0.1111111111111111,
              "#46039f"
             ],
             [
              0.2222222222222222,
              "#7201a8"
             ],
             [
              0.3333333333333333,
              "#9c179e"
             ],
             [
              0.4444444444444444,
              "#bd3786"
             ],
             [
              0.5555555555555556,
              "#d8576b"
             ],
             [
              0.6666666666666666,
              "#ed7953"
             ],
             [
              0.7777777777777778,
              "#fb9f3a"
             ],
             [
              0.8888888888888888,
              "#fdca26"
             ],
             [
              1,
              "#f0f921"
             ]
            ],
            "type": "contour"
           }
          ],
          "contourcarpet": [
           {
            "colorbar": {
             "outlinewidth": 0,
             "ticks": ""
            },
            "type": "contourcarpet"
           }
          ],
          "heatmap": [
           {
            "colorbar": {
             "outlinewidth": 0,
             "ticks": ""
            },
            "colorscale": [
             [
              0,
              "#0d0887"
             ],
             [
              0.1111111111111111,
              "#46039f"
             ],
             [
              0.2222222222222222,
              "#7201a8"
             ],
             [
              0.3333333333333333,
              "#9c179e"
             ],
             [
              0.4444444444444444,
              "#bd3786"
             ],
             [
              0.5555555555555556,
              "#d8576b"
             ],
             [
              0.6666666666666666,
              "#ed7953"
             ],
             [
              0.7777777777777778,
              "#fb9f3a"
             ],
             [
              0.8888888888888888,
              "#fdca26"
             ],
             [
              1,
              "#f0f921"
             ]
            ],
            "type": "heatmap"
           }
          ],
          "heatmapgl": [
           {
            "colorbar": {
             "outlinewidth": 0,
             "ticks": ""
            },
            "colorscale": [
             [
              0,
              "#0d0887"
             ],
             [
              0.1111111111111111,
              "#46039f"
             ],
             [
              0.2222222222222222,
              "#7201a8"
             ],
             [
              0.3333333333333333,
              "#9c179e"
             ],
             [
              0.4444444444444444,
              "#bd3786"
             ],
             [
              0.5555555555555556,
              "#d8576b"
             ],
             [
              0.6666666666666666,
              "#ed7953"
             ],
             [
              0.7777777777777778,
              "#fb9f3a"
             ],
             [
              0.8888888888888888,
              "#fdca26"
             ],
             [
              1,
              "#f0f921"
             ]
            ],
            "type": "heatmapgl"
           }
          ],
          "histogram": [
           {
            "marker": {
             "pattern": {
              "fillmode": "overlay",
              "size": 10,
              "solidity": 0.2
             }
            },
            "type": "histogram"
           }
          ],
          "histogram2d": [
           {
            "colorbar": {
             "outlinewidth": 0,
             "ticks": ""
            },
            "colorscale": [
             [
              0,
              "#0d0887"
             ],
             [
              0.1111111111111111,
              "#46039f"
             ],
             [
              0.2222222222222222,
              "#7201a8"
             ],
             [
              0.3333333333333333,
              "#9c179e"
             ],
             [
              0.4444444444444444,
              "#bd3786"
             ],
             [
              0.5555555555555556,
              "#d8576b"
             ],
             [
              0.6666666666666666,
              "#ed7953"
             ],
             [
              0.7777777777777778,
              "#fb9f3a"
             ],
             [
              0.8888888888888888,
              "#fdca26"
             ],
             [
              1,
              "#f0f921"
             ]
            ],
            "type": "histogram2d"
           }
          ],
          "histogram2dcontour": [
           {
            "colorbar": {
             "outlinewidth": 0,
             "ticks": ""
            },
            "colorscale": [
             [
              0,
              "#0d0887"
             ],
             [
              0.1111111111111111,
              "#46039f"
             ],
             [
              0.2222222222222222,
              "#7201a8"
             ],
             [
              0.3333333333333333,
              "#9c179e"
             ],
             [
              0.4444444444444444,
              "#bd3786"
             ],
             [
              0.5555555555555556,
              "#d8576b"
             ],
             [
              0.6666666666666666,
              "#ed7953"
             ],
             [
              0.7777777777777778,
              "#fb9f3a"
             ],
             [
              0.8888888888888888,
              "#fdca26"
             ],
             [
              1,
              "#f0f921"
             ]
            ],
            "type": "histogram2dcontour"
           }
          ],
          "mesh3d": [
           {
            "colorbar": {
             "outlinewidth": 0,
             "ticks": ""
            },
            "type": "mesh3d"
           }
          ],
          "parcoords": [
           {
            "line": {
             "colorbar": {
              "outlinewidth": 0,
              "ticks": ""
             }
            },
            "type": "parcoords"
           }
          ],
          "pie": [
           {
            "automargin": true,
            "type": "pie"
           }
          ],
          "scatter": [
           {
            "fillpattern": {
             "fillmode": "overlay",
             "size": 10,
             "solidity": 0.2
            },
            "type": "scatter"
           }
          ],
          "scatter3d": [
           {
            "line": {
             "colorbar": {
              "outlinewidth": 0,
              "ticks": ""
             }
            },
            "marker": {
             "colorbar": {
              "outlinewidth": 0,
              "ticks": ""
             }
            },
            "type": "scatter3d"
           }
          ],
          "scattercarpet": [
           {
            "marker": {
             "colorbar": {
              "outlinewidth": 0,
              "ticks": ""
             }
            },
            "type": "scattercarpet"
           }
          ],
          "scattergeo": [
           {
            "marker": {
             "colorbar": {
              "outlinewidth": 0,
              "ticks": ""
             }
            },
            "type": "scattergeo"
           }
          ],
          "scattergl": [
           {
            "marker": {
             "colorbar": {
              "outlinewidth": 0,
              "ticks": ""
             }
            },
            "type": "scattergl"
           }
          ],
          "scattermapbox": [
           {
            "marker": {
             "colorbar": {
              "outlinewidth": 0,
              "ticks": ""
             }
            },
            "type": "scattermapbox"
           }
          ],
          "scatterpolar": [
           {
            "marker": {
             "colorbar": {
              "outlinewidth": 0,
              "ticks": ""
             }
            },
            "type": "scatterpolar"
           }
          ],
          "scatterpolargl": [
           {
            "marker": {
             "colorbar": {
              "outlinewidth": 0,
              "ticks": ""
             }
            },
            "type": "scatterpolargl"
           }
          ],
          "scatterternary": [
           {
            "marker": {
             "colorbar": {
              "outlinewidth": 0,
              "ticks": ""
             }
            },
            "type": "scatterternary"
           }
          ],
          "surface": [
           {
            "colorbar": {
             "outlinewidth": 0,
             "ticks": ""
            },
            "colorscale": [
             [
              0,
              "#0d0887"
             ],
             [
              0.1111111111111111,
              "#46039f"
             ],
             [
              0.2222222222222222,
              "#7201a8"
             ],
             [
              0.3333333333333333,
              "#9c179e"
             ],
             [
              0.4444444444444444,
              "#bd3786"
             ],
             [
              0.5555555555555556,
              "#d8576b"
             ],
             [
              0.6666666666666666,
              "#ed7953"
             ],
             [
              0.7777777777777778,
              "#fb9f3a"
             ],
             [
              0.8888888888888888,
              "#fdca26"
             ],
             [
              1,
              "#f0f921"
             ]
            ],
            "type": "surface"
           }
          ],
          "table": [
           {
            "cells": {
             "fill": {
              "color": "#EBF0F8"
             },
             "line": {
              "color": "white"
             }
            },
            "header": {
             "fill": {
              "color": "#C8D4E3"
             },
             "line": {
              "color": "white"
             }
            },
            "type": "table"
           }
          ]
         },
         "layout": {
          "annotationdefaults": {
           "arrowcolor": "#2a3f5f",
           "arrowhead": 0,
           "arrowwidth": 1
          },
          "autotypenumbers": "strict",
          "coloraxis": {
           "colorbar": {
            "outlinewidth": 0,
            "ticks": ""
           }
          },
          "colorscale": {
           "diverging": [
            [
             0,
             "#8e0152"
            ],
            [
             0.1,
             "#c51b7d"
            ],
            [
             0.2,
             "#de77ae"
            ],
            [
             0.3,
             "#f1b6da"
            ],
            [
             0.4,
             "#fde0ef"
            ],
            [
             0.5,
             "#f7f7f7"
            ],
            [
             0.6,
             "#e6f5d0"
            ],
            [
             0.7,
             "#b8e186"
            ],
            [
             0.8,
             "#7fbc41"
            ],
            [
             0.9,
             "#4d9221"
            ],
            [
             1,
             "#276419"
            ]
           ],
           "sequential": [
            [
             0,
             "#0d0887"
            ],
            [
             0.1111111111111111,
             "#46039f"
            ],
            [
             0.2222222222222222,
             "#7201a8"
            ],
            [
             0.3333333333333333,
             "#9c179e"
            ],
            [
             0.4444444444444444,
             "#bd3786"
            ],
            [
             0.5555555555555556,
             "#d8576b"
            ],
            [
             0.6666666666666666,
             "#ed7953"
            ],
            [
             0.7777777777777778,
             "#fb9f3a"
            ],
            [
             0.8888888888888888,
             "#fdca26"
            ],
            [
             1,
             "#f0f921"
            ]
           ],
           "sequentialminus": [
            [
             0,
             "#0d0887"
            ],
            [
             0.1111111111111111,
             "#46039f"
            ],
            [
             0.2222222222222222,
             "#7201a8"
            ],
            [
             0.3333333333333333,
             "#9c179e"
            ],
            [
             0.4444444444444444,
             "#bd3786"
            ],
            [
             0.5555555555555556,
             "#d8576b"
            ],
            [
             0.6666666666666666,
             "#ed7953"
            ],
            [
             0.7777777777777778,
             "#fb9f3a"
            ],
            [
             0.8888888888888888,
             "#fdca26"
            ],
            [
             1,
             "#f0f921"
            ]
           ]
          },
          "colorway": [
           "#636efa",
           "#EF553B",
           "#00cc96",
           "#ab63fa",
           "#FFA15A",
           "#19d3f3",
           "#FF6692",
           "#B6E880",
           "#FF97FF",
           "#FECB52"
          ],
          "font": {
           "color": "#2a3f5f"
          },
          "geo": {
           "bgcolor": "white",
           "lakecolor": "white",
           "landcolor": "#E5ECF6",
           "showlakes": true,
           "showland": true,
           "subunitcolor": "white"
          },
          "hoverlabel": {
           "align": "left"
          },
          "hovermode": "closest",
          "mapbox": {
           "style": "light"
          },
          "paper_bgcolor": "white",
          "plot_bgcolor": "#E5ECF6",
          "polar": {
           "angularaxis": {
            "gridcolor": "white",
            "linecolor": "white",
            "ticks": ""
           },
           "bgcolor": "#E5ECF6",
           "radialaxis": {
            "gridcolor": "white",
            "linecolor": "white",
            "ticks": ""
           }
          },
          "scene": {
           "xaxis": {
            "backgroundcolor": "#E5ECF6",
            "gridcolor": "white",
            "gridwidth": 2,
            "linecolor": "white",
            "showbackground": true,
            "ticks": "",
            "zerolinecolor": "white"
           },
           "yaxis": {
            "backgroundcolor": "#E5ECF6",
            "gridcolor": "white",
            "gridwidth": 2,
            "linecolor": "white",
            "showbackground": true,
            "ticks": "",
            "zerolinecolor": "white"
           },
           "zaxis": {
            "backgroundcolor": "#E5ECF6",
            "gridcolor": "white",
            "gridwidth": 2,
            "linecolor": "white",
            "showbackground": true,
            "ticks": "",
            "zerolinecolor": "white"
           }
          },
          "shapedefaults": {
           "line": {
            "color": "#2a3f5f"
           }
          },
          "ternary": {
           "aaxis": {
            "gridcolor": "white",
            "linecolor": "white",
            "ticks": ""
           },
           "baxis": {
            "gridcolor": "white",
            "linecolor": "white",
            "ticks": ""
           },
           "bgcolor": "#E5ECF6",
           "caxis": {
            "gridcolor": "white",
            "linecolor": "white",
            "ticks": ""
           }
          },
          "title": {
           "x": 0.05
          },
          "xaxis": {
           "automargin": true,
           "gridcolor": "white",
           "linecolor": "white",
           "ticks": "",
           "title": {
            "standoff": 15
           },
           "zerolinecolor": "white",
           "zerolinewidth": 2
          },
          "yaxis": {
           "automargin": true,
           "gridcolor": "white",
           "linecolor": "white",
           "ticks": "",
           "title": {
            "standoff": 15
           },
           "zerolinecolor": "white",
           "zerolinewidth": 2
          }
         }
        },
        "width": 560,
        "xaxis": {
         "anchor": "y",
         "domain": [
          0,
          1
         ],
         "title": {
          "text": "a"
         }
        },
        "yaxis": {
         "anchor": "x",
         "domain": [
          0,
          1
         ],
         "title": {
          "text": "b"
         }
        }
       }
      },
      "text/html": [
       "<div>                            <div id=\"336d798d-90ad-4871-bd50-183aa3e525a3\" class=\"plotly-graph-div\" style=\"height:560px; width:560px;\"></div>            <script type=\"text/javascript\">                require([\"plotly\"], function(Plotly) {                    window.PLOTLYENV=window.PLOTLYENV || {};                                    if (document.getElementById(\"336d798d-90ad-4871-bd50-183aa3e525a3\")) {                    Plotly.newPlot(                        \"336d798d-90ad-4871-bd50-183aa3e525a3\",                        [{\"hovertemplate\":\"class=0<br>a=%{x}<br>b=%{y}<extra></extra>\",\"legendgroup\":\"0\",\"marker\":{\"color\":\"#636efa\",\"symbol\":\"circle\"},\"mode\":\"markers\",\"name\":\"0\",\"orientation\":\"v\",\"showlegend\":true,\"x\":[5.81,5.89,8.98,7.06,2.76,6.17,8.04,6.77,4.13,8.68,3.35,5.52,6.61,6.81,2.55,6.64,5.14,8.42,5.29,6.5,8.9,5.28,5.35,7.38,3.52,3.66,4.38,7.53,8.67,0.96,5.23,7.62,5.75,1.74,5.66,6.0,3.82,8.82,7.81,5.37,5.53,4.1,6.4,2.6,3.96,8.49,8.33,6.8,8.58,5.38,2.26,2.25,6.24,4.21],\"xaxis\":\"x\",\"y\":[5.72,3.63,5.26,4.35,2.4,1.02,1.89,5.99,0.44,4.81,0.42,3.91,6.2,0.62,0.86,5.58,1.34,5.87,0.58,6.26,7.52,2.69,3.39,2.98,0.91,1.22,1.33,3.12,3.46,0.48,0.36,0.73,0.44,1.54,5.28,3.15,0.97,0.21,7.2,4.89,2.46,1.83,3.49,0.96,3.5,8.29,7.14,2.81,6.15,5.35,1.46,0.24,4.04,0.56],\"yaxis\":\"y\",\"type\":\"scatter\"},{\"hovertemplate\":\"class=1<br>a=%{x}<br>b=%{y}<extra></extra>\",\"legendgroup\":\"1\",\"marker\":{\"color\":\"#EF553B\",\"symbol\":\"circle\"},\"mode\":\"markers\",\"name\":\"1\",\"orientation\":\"v\",\"showlegend\":true,\"x\":[0.5,2.86,4.52,4.64,8.29,7.69,1.73,6.02,5.08,2.54,2.21,1.84,8.78,0.8,0.49,0.27,6.65,3.02,0.8,2.12,0.09,0.53,4.21,1.76,3.16,0.15,0.86,3.81,1.22,0.21,0.03,5.58,3.9,0.16,4.19,1.08,2.18,1.78,3.82,3.36,3.63,1.21,0.85,1.21,0.04,1.82],\"xaxis\":\"x\",\"y\":[5.94,4.89,6.2,8.21,8.62,8.43,3.51,7.16,5.89,4.9,8.41,7.49,8.87,3.72,8.43,4.09,7.67,3.21,4.27,7.24,8.38,5.21,8.85,4.21,5.02,5.52,8.89,4.95,2.01,8.57,3.88,7.51,8.5,1.97,4.93,7.52,8.27,3.66,6.11,7.8,6.21,7.02,6.44,3.71,8.05,3.87],\"yaxis\":\"y\",\"type\":\"scatter\"}],                        {\"template\":{\"data\":{\"histogram2dcontour\":[{\"type\":\"histogram2dcontour\",\"colorbar\":{\"outlinewidth\":0,\"ticks\":\"\"},\"colorscale\":[[0.0,\"#0d0887\"],[0.1111111111111111,\"#46039f\"],[0.2222222222222222,\"#7201a8\"],[0.3333333333333333,\"#9c179e\"],[0.4444444444444444,\"#bd3786\"],[0.5555555555555556,\"#d8576b\"],[0.6666666666666666,\"#ed7953\"],[0.7777777777777778,\"#fb9f3a\"],[0.8888888888888888,\"#fdca26\"],[1.0,\"#f0f921\"]]}],\"choropleth\":[{\"type\":\"choropleth\",\"colorbar\":{\"outlinewidth\":0,\"ticks\":\"\"}}],\"histogram2d\":[{\"type\":\"histogram2d\",\"colorbar\":{\"outlinewidth\":0,\"ticks\":\"\"},\"colorscale\":[[0.0,\"#0d0887\"],[0.1111111111111111,\"#46039f\"],[0.2222222222222222,\"#7201a8\"],[0.3333333333333333,\"#9c179e\"],[0.4444444444444444,\"#bd3786\"],[0.5555555555555556,\"#d8576b\"],[0.6666666666666666,\"#ed7953\"],[0.7777777777777778,\"#fb9f3a\"],[0.8888888888888888,\"#fdca26\"],[1.0,\"#f0f921\"]]}],\"heatmap\":[{\"type\":\"heatmap\",\"colorbar\":{\"outlinewidth\":0,\"ticks\":\"\"},\"colorscale\":[[0.0,\"#0d0887\"],[0.1111111111111111,\"#46039f\"],[0.2222222222222222,\"#7201a8\"],[0.3333333333333333,\"#9c179e\"],[0.4444444444444444,\"#bd3786\"],[0.5555555555555556,\"#d8576b\"],[0.6666666666666666,\"#ed7953\"],[0.7777777777777778,\"#fb9f3a\"],[0.8888888888888888,\"#fdca26\"],[1.0,\"#f0f921\"]]}],\"heatmapgl\":[{\"type\":\"heatmapgl\",\"colorbar\":{\"outlinewidth\":0,\"ticks\":\"\"},\"colorscale\":[[0.0,\"#0d0887\"],[0.1111111111111111,\"#46039f\"],[0.2222222222222222,\"#7201a8\"],[0.3333333333333333,\"#9c179e\"],[0.4444444444444444,\"#bd3786\"],[0.5555555555555556,\"#d8576b\"],[0.6666666666666666,\"#ed7953\"],[0.7777777777777778,\"#fb9f3a\"],[0.8888888888888888,\"#fdca26\"],[1.0,\"#f0f921\"]]}],\"contourcarpet\":[{\"type\":\"contourcarpet\",\"colorbar\":{\"outlinewidth\":0,\"ticks\":\"\"}}],\"contour\":[{\"type\":\"contour\",\"colorbar\":{\"outlinewidth\":0,\"ticks\":\"\"},\"colorscale\":[[0.0,\"#0d0887\"],[0.1111111111111111,\"#46039f\"],[0.2222222222222222,\"#7201a8\"],[0.3333333333333333,\"#9c179e\"],[0.4444444444444444,\"#bd3786\"],[0.5555555555555556,\"#d8576b\"],[0.6666666666666666,\"#ed7953\"],[0.7777777777777778,\"#fb9f3a\"],[0.8888888888888888,\"#fdca26\"],[1.0,\"#f0f921\"]]}],\"surface\":[{\"type\":\"surface\",\"colorbar\":{\"outlinewidth\":0,\"ticks\":\"\"},\"colorscale\":[[0.0,\"#0d0887\"],[0.1111111111111111,\"#46039f\"],[0.2222222222222222,\"#7201a8\"],[0.3333333333333333,\"#9c179e\"],[0.4444444444444444,\"#bd3786\"],[0.5555555555555556,\"#d8576b\"],[0.6666666666666666,\"#ed7953\"],[0.7777777777777778,\"#fb9f3a\"],[0.8888888888888888,\"#fdca26\"],[1.0,\"#f0f921\"]]}],\"mesh3d\":[{\"type\":\"mesh3d\",\"colorbar\":{\"outlinewidth\":0,\"ticks\":\"\"}}],\"scatter\":[{\"fillpattern\":{\"fillmode\":\"overlay\",\"size\":10,\"solidity\":0.2},\"type\":\"scatter\"}],\"parcoords\":[{\"type\":\"parcoords\",\"line\":{\"colorbar\":{\"outlinewidth\":0,\"ticks\":\"\"}}}],\"scatterpolargl\":[{\"type\":\"scatterpolargl\",\"marker\":{\"colorbar\":{\"outlinewidth\":0,\"ticks\":\"\"}}}],\"bar\":[{\"error_x\":{\"color\":\"#2a3f5f\"},\"error_y\":{\"color\":\"#2a3f5f\"},\"marker\":{\"line\":{\"color\":\"#E5ECF6\",\"width\":0.5},\"pattern\":{\"fillmode\":\"overlay\",\"size\":10,\"solidity\":0.2}},\"type\":\"bar\"}],\"scattergeo\":[{\"type\":\"scattergeo\",\"marker\":{\"colorbar\":{\"outlinewidth\":0,\"ticks\":\"\"}}}],\"scatterpolar\":[{\"type\":\"scatterpolar\",\"marker\":{\"colorbar\":{\"outlinewidth\":0,\"ticks\":\"\"}}}],\"histogram\":[{\"marker\":{\"pattern\":{\"fillmode\":\"overlay\",\"size\":10,\"solidity\":0.2}},\"type\":\"histogram\"}],\"scattergl\":[{\"type\":\"scattergl\",\"marker\":{\"colorbar\":{\"outlinewidth\":0,\"ticks\":\"\"}}}],\"scatter3d\":[{\"type\":\"scatter3d\",\"line\":{\"colorbar\":{\"outlinewidth\":0,\"ticks\":\"\"}},\"marker\":{\"colorbar\":{\"outlinewidth\":0,\"ticks\":\"\"}}}],\"scattermapbox\":[{\"type\":\"scattermapbox\",\"marker\":{\"colorbar\":{\"outlinewidth\":0,\"ticks\":\"\"}}}],\"scatterternary\":[{\"type\":\"scatterternary\",\"marker\":{\"colorbar\":{\"outlinewidth\":0,\"ticks\":\"\"}}}],\"scattercarpet\":[{\"type\":\"scattercarpet\",\"marker\":{\"colorbar\":{\"outlinewidth\":0,\"ticks\":\"\"}}}],\"carpet\":[{\"aaxis\":{\"endlinecolor\":\"#2a3f5f\",\"gridcolor\":\"white\",\"linecolor\":\"white\",\"minorgridcolor\":\"white\",\"startlinecolor\":\"#2a3f5f\"},\"baxis\":{\"endlinecolor\":\"#2a3f5f\",\"gridcolor\":\"white\",\"linecolor\":\"white\",\"minorgridcolor\":\"white\",\"startlinecolor\":\"#2a3f5f\"},\"type\":\"carpet\"}],\"table\":[{\"cells\":{\"fill\":{\"color\":\"#EBF0F8\"},\"line\":{\"color\":\"white\"}},\"header\":{\"fill\":{\"color\":\"#C8D4E3\"},\"line\":{\"color\":\"white\"}},\"type\":\"table\"}],\"barpolar\":[{\"marker\":{\"line\":{\"color\":\"#E5ECF6\",\"width\":0.5},\"pattern\":{\"fillmode\":\"overlay\",\"size\":10,\"solidity\":0.2}},\"type\":\"barpolar\"}],\"pie\":[{\"automargin\":true,\"type\":\"pie\"}]},\"layout\":{\"autotypenumbers\":\"strict\",\"colorway\":[\"#636efa\",\"#EF553B\",\"#00cc96\",\"#ab63fa\",\"#FFA15A\",\"#19d3f3\",\"#FF6692\",\"#B6E880\",\"#FF97FF\",\"#FECB52\"],\"font\":{\"color\":\"#2a3f5f\"},\"hovermode\":\"closest\",\"hoverlabel\":{\"align\":\"left\"},\"paper_bgcolor\":\"white\",\"plot_bgcolor\":\"#E5ECF6\",\"polar\":{\"bgcolor\":\"#E5ECF6\",\"angularaxis\":{\"gridcolor\":\"white\",\"linecolor\":\"white\",\"ticks\":\"\"},\"radialaxis\":{\"gridcolor\":\"white\",\"linecolor\":\"white\",\"ticks\":\"\"}},\"ternary\":{\"bgcolor\":\"#E5ECF6\",\"aaxis\":{\"gridcolor\":\"white\",\"linecolor\":\"white\",\"ticks\":\"\"},\"baxis\":{\"gridcolor\":\"white\",\"linecolor\":\"white\",\"ticks\":\"\"},\"caxis\":{\"gridcolor\":\"white\",\"linecolor\":\"white\",\"ticks\":\"\"}},\"coloraxis\":{\"colorbar\":{\"outlinewidth\":0,\"ticks\":\"\"}},\"colorscale\":{\"sequential\":[[0.0,\"#0d0887\"],[0.1111111111111111,\"#46039f\"],[0.2222222222222222,\"#7201a8\"],[0.3333333333333333,\"#9c179e\"],[0.4444444444444444,\"#bd3786\"],[0.5555555555555556,\"#d8576b\"],[0.6666666666666666,\"#ed7953\"],[0.7777777777777778,\"#fb9f3a\"],[0.8888888888888888,\"#fdca26\"],[1.0,\"#f0f921\"]],\"sequentialminus\":[[0.0,\"#0d0887\"],[0.1111111111111111,\"#46039f\"],[0.2222222222222222,\"#7201a8\"],[0.3333333333333333,\"#9c179e\"],[0.4444444444444444,\"#bd3786\"],[0.5555555555555556,\"#d8576b\"],[0.6666666666666666,\"#ed7953\"],[0.7777777777777778,\"#fb9f3a\"],[0.8888888888888888,\"#fdca26\"],[1.0,\"#f0f921\"]],\"diverging\":[[0,\"#8e0152\"],[0.1,\"#c51b7d\"],[0.2,\"#de77ae\"],[0.3,\"#f1b6da\"],[0.4,\"#fde0ef\"],[0.5,\"#f7f7f7\"],[0.6,\"#e6f5d0\"],[0.7,\"#b8e186\"],[0.8,\"#7fbc41\"],[0.9,\"#4d9221\"],[1,\"#276419\"]]},\"xaxis\":{\"gridcolor\":\"white\",\"linecolor\":\"white\",\"ticks\":\"\",\"title\":{\"standoff\":15},\"zerolinecolor\":\"white\",\"automargin\":true,\"zerolinewidth\":2},\"yaxis\":{\"gridcolor\":\"white\",\"linecolor\":\"white\",\"ticks\":\"\",\"title\":{\"standoff\":15},\"zerolinecolor\":\"white\",\"automargin\":true,\"zerolinewidth\":2},\"scene\":{\"xaxis\":{\"backgroundcolor\":\"#E5ECF6\",\"gridcolor\":\"white\",\"linecolor\":\"white\",\"showbackground\":true,\"ticks\":\"\",\"zerolinecolor\":\"white\",\"gridwidth\":2},\"yaxis\":{\"backgroundcolor\":\"#E5ECF6\",\"gridcolor\":\"white\",\"linecolor\":\"white\",\"showbackground\":true,\"ticks\":\"\",\"zerolinecolor\":\"white\",\"gridwidth\":2},\"zaxis\":{\"backgroundcolor\":\"#E5ECF6\",\"gridcolor\":\"white\",\"linecolor\":\"white\",\"showbackground\":true,\"ticks\":\"\",\"zerolinecolor\":\"white\",\"gridwidth\":2}},\"shapedefaults\":{\"line\":{\"color\":\"#2a3f5f\"}},\"annotationdefaults\":{\"arrowcolor\":\"#2a3f5f\",\"arrowhead\":0,\"arrowwidth\":1},\"geo\":{\"bgcolor\":\"white\",\"landcolor\":\"#E5ECF6\",\"subunitcolor\":\"white\",\"showland\":true,\"showlakes\":true,\"lakecolor\":\"white\"},\"title\":{\"x\":0.05},\"mapbox\":{\"style\":\"light\"}}},\"xaxis\":{\"anchor\":\"y\",\"domain\":[0.0,1.0],\"title\":{\"text\":\"a\"}},\"yaxis\":{\"anchor\":\"x\",\"domain\":[0.0,1.0],\"title\":{\"text\":\"b\"}},\"legend\":{\"title\":{\"text\":\"class\"},\"tracegroupgap\":0},\"margin\":{\"t\":60},\"height\":560,\"width\":560},                        {\"responsive\": true}                    ).then(function(){\n",
       "                            \n",
       "var gd = document.getElementById('336d798d-90ad-4871-bd50-183aa3e525a3');\n",
       "var x = new MutationObserver(function (mutations, observer) {{\n",
       "        var display = window.getComputedStyle(gd).display;\n",
       "        if (!display || display === 'none') {{\n",
       "            console.log([gd, 'removed!']);\n",
       "            Plotly.purge(gd);\n",
       "            observer.disconnect();\n",
       "        }}\n",
       "}});\n",
       "\n",
       "// Listen for the removal of the full notebook cells\n",
       "var notebookContainer = gd.closest('#notebook-container');\n",
       "if (notebookContainer) {{\n",
       "    x.observe(notebookContainer, {childList: true});\n",
       "}}\n",
       "\n",
       "// Listen for the clearing of the current output cell\n",
       "var outputEl = gd.closest('.output');\n",
       "if (outputEl) {{\n",
       "    x.observe(outputEl, {childList: true});\n",
       "}}\n",
       "\n",
       "                        })                };                });            </script>        </div>"
      ]
     },
     "metadata": {},
     "output_type": "display_data"
    }
   ],
   "source": [
    "fig = px.scatter(df, x='a',\n",
    "            y='b',\n",
    "            color='class',\n",
    "            height=560,\n",
    "            width=560,\n",
    "            )\n",
    "fig.show()"
   ]
  },
  {
   "cell_type": "code",
   "execution_count": 19,
   "metadata": {},
   "outputs": [
    {
     "name": "stdout",
     "output_type": "stream",
     "text": [
      "Rules original\n",
      "IF b = (-inf, 1.93) THEN class = {0} (p = 23.0, n = 0.0, P = 54.0, N = 46.0, weight = 1.0, pvalue = 4.3672558946068994e-08)\n",
      "IF a = <1.48, inf) AND b = (-inf, 3.18) THEN class = {0} (p = 29.0, n = 0.0, P = 54.0, N = 46.0, weight = 1.0, pvalue = 1.3562260204958005e-10)\n",
      "IF a = <8.31, inf) AND b = (-inf, 8.58) THEN class = {0} (p = 9.0, n = 0.0, P = 54.0, N = 46.0, weight = 1.0, pvalue = 0.002795629973443157)\n",
      "IF a = <5.11, inf) AND b = (-inf, 7.15) THEN class = {0} (p = 35.0, n = 0.0, P = 54.0, N = 46.0, weight = 1.0, pvalue = 1.6770654026831021e-13)\n",
      "IF a = (-inf, 0.91) THEN class = {1} (p = 14.0, n = 0.0, P = 46.0, N = 54.0, weight = 1.0, pvalue = 5.428697471936758e-06)\n",
      "IF b = <8.34, inf) THEN class = {1} (p = 10.0, n = 0.0, P = 46.0, N = 54.0, weight = 1.0, pvalue = 0.00023548686008518932)\n",
      "IF a = (-inf, 1.73) AND b = <1.23, inf) THEN class = {1} (p = 19.0, n = 0.0, P = 46.0, N = 54.0, weight = 1.0, pvalue = 3.1390337742684785e-08)\n",
      "IF a = (-inf, 2.23) AND b = <1.76, inf) THEN class = {1} (p = 26.0, n = 0.0, P = 46.0, N = 54.0, weight = 1.0, pvalue = 8.01663078038805e-12)\n",
      "IF a = (-inf, 7.75) AND b = <7.15, inf) THEN class = {1} (p = 18.0, n = 0.0, P = 46.0, N = 54.0, weight = 1.0, pvalue = 9.192884624643375e-08)\n",
      "IF a = (-inf, 3.65) AND b = <2.80, inf) THEN class = {1} (p = 30.0, n = 0.0, P = 46.0, N = 54.0, weight = 1.0, pvalue = 3.3756039000492104e-14)\n",
      "IF a = (-inf, 5.11) AND b = <3.51, inf) THEN class = {1} (p = 37.0, n = 0.0, P = 46.0, N = 54.0, weight = 1.0, pvalue = 3.2213649464148613e-19)\n",
      "\n",
      "\n",
      "Complex rules\n",
      "IF a > b THEN class = {0} (p = 54.0, n = 0.0, P = 54.0, N = 46.0, weight = 1.0, pvalue = 1.361081276455314e-29)\n",
      "IF a < b THEN class = {1} (p = 46.0, n = 0.0, P = 46.0, N = 54.0, weight = 1.0, pvalue = 1.361081276455314e-29)\n",
      "\n",
      "\n",
      "Complex rules + inners alternatives\n",
      "IF a > b THEN class = {0} (p = 54.0, n = 0.0, P = 54.0, N = 46.0, weight = 1.0, pvalue = 1.361081276455314e-29)\n",
      "IF a < b THEN class = {1} (p = 46.0, n = 0.0, P = 46.0, N = 54.0, weight = 1.0, pvalue = 1.361081276455314e-29)\n"
     ]
    }
   ],
   "source": [
    "X = df.drop(['class'], axis=1)\n",
    "y = df['class']\n",
    "\n",
    "clf_simple.fit(X, y)\n",
    "\n",
    "print(\"Rules original\")\n",
    "for rule in clf_simple.model.rules:\n",
    "    print(rule, rule.stats)\n",
    "\n",
    "print(\"\\n\\nComplex rules\")\n",
    "clf_complex.fit(X, y)\n",
    "for rule in clf_complex.model.rules:\n",
    "    print(rule, rule.stats)\n",
    "\n",
    "print(\"\\n\\nComplex rules + inners alternatives\")\n",
    "clf_complex_with_inners.fit(X, y)\n",
    "for rule in clf_complex_with_inners.model.rules:\n",
    "    print(rule, rule.stats)"
   ]
  },
  {
   "attachments": {},
   "cell_type": "markdown",
   "metadata": {},
   "source": [
    "## a>b"
   ]
  },
  {
   "cell_type": "code",
   "execution_count": 58,
   "metadata": {},
   "outputs": [
    {
     "data": {
      "text/html": [
       "<div>\n",
       "<style scoped>\n",
       "    .dataframe tbody tr th:only-of-type {\n",
       "        vertical-align: middle;\n",
       "    }\n",
       "\n",
       "    .dataframe tbody tr th {\n",
       "        vertical-align: top;\n",
       "    }\n",
       "\n",
       "    .dataframe thead th {\n",
       "        text-align: right;\n",
       "    }\n",
       "</style>\n",
       "<table border=\"1\" class=\"dataframe\">\n",
       "  <thead>\n",
       "    <tr style=\"text-align: right;\">\n",
       "      <th></th>\n",
       "      <th>a</th>\n",
       "      <th>b</th>\n",
       "      <th>class</th>\n",
       "    </tr>\n",
       "  </thead>\n",
       "  <tbody>\n",
       "    <tr>\n",
       "      <th>0</th>\n",
       "      <td>0.29</td>\n",
       "      <td>8.53</td>\n",
       "      <td>0</td>\n",
       "    </tr>\n",
       "    <tr>\n",
       "      <th>1</th>\n",
       "      <td>6.04</td>\n",
       "      <td>6.57</td>\n",
       "      <td>0</td>\n",
       "    </tr>\n",
       "    <tr>\n",
       "      <th>2</th>\n",
       "      <td>1.06</td>\n",
       "      <td>4.50</td>\n",
       "      <td>0</td>\n",
       "    </tr>\n",
       "    <tr>\n",
       "      <th>3</th>\n",
       "      <td>6.13</td>\n",
       "      <td>4.54</td>\n",
       "      <td>1</td>\n",
       "    </tr>\n",
       "    <tr>\n",
       "      <th>4</th>\n",
       "      <td>0.32</td>\n",
       "      <td>0.51</td>\n",
       "      <td>0</td>\n",
       "    </tr>\n",
       "    <tr>\n",
       "      <th>...</th>\n",
       "      <td>...</td>\n",
       "      <td>...</td>\n",
       "      <td>...</td>\n",
       "    </tr>\n",
       "    <tr>\n",
       "      <th>95</th>\n",
       "      <td>0.96</td>\n",
       "      <td>3.62</td>\n",
       "      <td>0</td>\n",
       "    </tr>\n",
       "    <tr>\n",
       "      <th>96</th>\n",
       "      <td>3.75</td>\n",
       "      <td>2.34</td>\n",
       "      <td>1</td>\n",
       "    </tr>\n",
       "    <tr>\n",
       "      <th>97</th>\n",
       "      <td>4.09</td>\n",
       "      <td>6.49</td>\n",
       "      <td>0</td>\n",
       "    </tr>\n",
       "    <tr>\n",
       "      <th>98</th>\n",
       "      <td>0.73</td>\n",
       "      <td>4.04</td>\n",
       "      <td>0</td>\n",
       "    </tr>\n",
       "    <tr>\n",
       "      <th>99</th>\n",
       "      <td>5.71</td>\n",
       "      <td>8.38</td>\n",
       "      <td>0</td>\n",
       "    </tr>\n",
       "  </tbody>\n",
       "</table>\n",
       "<p>100 rows × 3 columns</p>\n",
       "</div>"
      ],
      "text/plain": [
       "       a     b class\n",
       "0   0.29  8.53     0\n",
       "1   6.04  6.57     0\n",
       "2   1.06  4.50     0\n",
       "3   6.13  4.54     1\n",
       "4   0.32  0.51     0\n",
       "..   ...   ...   ...\n",
       "95  0.96  3.62     0\n",
       "96  3.75  2.34     1\n",
       "97  4.09  6.49     0\n",
       "98  0.73  4.04     0\n",
       "99  5.71  8.38     0\n",
       "\n",
       "[100 rows x 3 columns]"
      ]
     },
     "execution_count": 58,
     "metadata": {},
     "output_type": "execute_result"
    }
   ],
   "source": [
    "df = pd.DataFrame(columns=[\"a\", \"b\", \"class\"], index = [i for i in range(0,100)])\n",
    "\n",
    "\n",
    "a = [round(random.uniform(0, 9),2) for i in range(100)]\n",
    "b = [round(random.uniform(0, 9),2) for i in range(100)]\n",
    "\n",
    "df[\"a\"] = a\n",
    "df[\"b\"] = b\n",
    "\n",
    "df.loc[(df[\"a\"] > df[\"b\"]),\"class\"] = \"1\"\n",
    "df = df.fillna(\"0\")\n",
    "df"
   ]
  },
  {
   "cell_type": "code",
   "execution_count": 59,
   "metadata": {},
   "outputs": [
    {
     "data": {
      "application/vnd.plotly.v1+json": {
       "config": {
        "plotlyServerURL": "https://plot.ly"
       },
       "data": [
        {
         "hovertemplate": "class=0<br>a=%{x}<br>b=%{y}<extra></extra>",
         "legendgroup": "0",
         "marker": {
          "color": "#636efa",
          "symbol": "circle"
         },
         "mode": "markers",
         "name": "0",
         "orientation": "v",
         "showlegend": true,
         "type": "scatter",
         "x": [
          0.29,
          6.04,
          1.06,
          0.32,
          1.82,
          0.28,
          4.89,
          5.66,
          1.14,
          8.43,
          0.61,
          0.09,
          3.77,
          3.39,
          4.13,
          1.26,
          3.27,
          0.19,
          4.23,
          1.06,
          2.86,
          0.59,
          3.6,
          0.36,
          1.98,
          2.63,
          5.01,
          5.16,
          4.72,
          7.22,
          2.53,
          5.35,
          5.43,
          1.03,
          2.68,
          0.3,
          5.12,
          1.98,
          1.06,
          3.71,
          0.68,
          2.89,
          1.62,
          0.96,
          4.09,
          0.73,
          5.71
         ],
         "xaxis": "x",
         "y": [
          8.53,
          6.57,
          4.5,
          0.51,
          4.77,
          8.35,
          5.62,
          7.56,
          7.69,
          8.83,
          4.26,
          6.28,
          8.8,
          5.01,
          6.14,
          1.7,
          8.78,
          2.03,
          8.94,
          7.68,
          5.85,
          7.31,
          8.84,
          3.66,
          7.02,
          3.63,
          6.9,
          6.28,
          6.61,
          8.87,
          5.85,
          8.36,
          6.85,
          3.82,
          3.82,
          3.98,
          6.85,
          4.54,
          2.87,
          5.11,
          7,
          4.43,
          8.75,
          3.62,
          6.49,
          4.04,
          8.38
         ],
         "yaxis": "y"
        },
        {
         "hovertemplate": "class=1<br>a=%{x}<br>b=%{y}<extra></extra>",
         "legendgroup": "1",
         "marker": {
          "color": "#EF553B",
          "symbol": "circle"
         },
         "mode": "markers",
         "name": "1",
         "orientation": "v",
         "showlegend": true,
         "type": "scatter",
         "x": [
          6.13,
          5.13,
          5,
          6.43,
          4.74,
          6.66,
          6.49,
          6.57,
          4.15,
          7.5,
          7.8,
          6.79,
          4.76,
          4.4,
          4.66,
          3.98,
          4.69,
          7.07,
          6.49,
          0.55,
          3.66,
          5.52,
          8.57,
          5.15,
          3.83,
          6.68,
          8.76,
          4.83,
          5.62,
          5.87,
          8.39,
          5.42,
          8.57,
          3.02,
          5.33,
          8.75,
          5.75,
          8.29,
          7.36,
          5.76,
          8.19,
          8.76,
          4.41,
          6.86,
          3.94,
          2.56,
          8.22,
          6.62,
          7.86,
          8.93,
          4.08,
          8.77,
          3.75
         ],
         "xaxis": "x",
         "y": [
          4.54,
          0.79,
          1.5,
          3.68,
          4.46,
          2.55,
          0.8,
          1.73,
          2.62,
          1.58,
          1.98,
          6.65,
          0.11,
          3.32,
          3.28,
          1.62,
          3.63,
          5.77,
          3.62,
          0.04,
          2.92,
          5.4,
          5.48,
          4.85,
          1.98,
          1.48,
          4.75,
          2.76,
          2.18,
          3.08,
          5.2,
          4.39,
          1.38,
          0.29,
          0.08,
          3.36,
          0.88,
          3.02,
          2.74,
          2.45,
          3.36,
          5.03,
          0.75,
          3.62,
          3.24,
          2.48,
          3.31,
          3.38,
          3.32,
          7.69,
          3.08,
          5.03,
          2.34
         ],
         "yaxis": "y"
        }
       ],
       "layout": {
        "height": 560,
        "legend": {
         "title": {
          "text": "class"
         },
         "tracegroupgap": 0
        },
        "margin": {
         "t": 60
        },
        "template": {
         "data": {
          "bar": [
           {
            "error_x": {
             "color": "#2a3f5f"
            },
            "error_y": {
             "color": "#2a3f5f"
            },
            "marker": {
             "line": {
              "color": "#E5ECF6",
              "width": 0.5
             },
             "pattern": {
              "fillmode": "overlay",
              "size": 10,
              "solidity": 0.2
             }
            },
            "type": "bar"
           }
          ],
          "barpolar": [
           {
            "marker": {
             "line": {
              "color": "#E5ECF6",
              "width": 0.5
             },
             "pattern": {
              "fillmode": "overlay",
              "size": 10,
              "solidity": 0.2
             }
            },
            "type": "barpolar"
           }
          ],
          "carpet": [
           {
            "aaxis": {
             "endlinecolor": "#2a3f5f",
             "gridcolor": "white",
             "linecolor": "white",
             "minorgridcolor": "white",
             "startlinecolor": "#2a3f5f"
            },
            "baxis": {
             "endlinecolor": "#2a3f5f",
             "gridcolor": "white",
             "linecolor": "white",
             "minorgridcolor": "white",
             "startlinecolor": "#2a3f5f"
            },
            "type": "carpet"
           }
          ],
          "choropleth": [
           {
            "colorbar": {
             "outlinewidth": 0,
             "ticks": ""
            },
            "type": "choropleth"
           }
          ],
          "contour": [
           {
            "colorbar": {
             "outlinewidth": 0,
             "ticks": ""
            },
            "colorscale": [
             [
              0,
              "#0d0887"
             ],
             [
              0.1111111111111111,
              "#46039f"
             ],
             [
              0.2222222222222222,
              "#7201a8"
             ],
             [
              0.3333333333333333,
              "#9c179e"
             ],
             [
              0.4444444444444444,
              "#bd3786"
             ],
             [
              0.5555555555555556,
              "#d8576b"
             ],
             [
              0.6666666666666666,
              "#ed7953"
             ],
             [
              0.7777777777777778,
              "#fb9f3a"
             ],
             [
              0.8888888888888888,
              "#fdca26"
             ],
             [
              1,
              "#f0f921"
             ]
            ],
            "type": "contour"
           }
          ],
          "contourcarpet": [
           {
            "colorbar": {
             "outlinewidth": 0,
             "ticks": ""
            },
            "type": "contourcarpet"
           }
          ],
          "heatmap": [
           {
            "colorbar": {
             "outlinewidth": 0,
             "ticks": ""
            },
            "colorscale": [
             [
              0,
              "#0d0887"
             ],
             [
              0.1111111111111111,
              "#46039f"
             ],
             [
              0.2222222222222222,
              "#7201a8"
             ],
             [
              0.3333333333333333,
              "#9c179e"
             ],
             [
              0.4444444444444444,
              "#bd3786"
             ],
             [
              0.5555555555555556,
              "#d8576b"
             ],
             [
              0.6666666666666666,
              "#ed7953"
             ],
             [
              0.7777777777777778,
              "#fb9f3a"
             ],
             [
              0.8888888888888888,
              "#fdca26"
             ],
             [
              1,
              "#f0f921"
             ]
            ],
            "type": "heatmap"
           }
          ],
          "heatmapgl": [
           {
            "colorbar": {
             "outlinewidth": 0,
             "ticks": ""
            },
            "colorscale": [
             [
              0,
              "#0d0887"
             ],
             [
              0.1111111111111111,
              "#46039f"
             ],
             [
              0.2222222222222222,
              "#7201a8"
             ],
             [
              0.3333333333333333,
              "#9c179e"
             ],
             [
              0.4444444444444444,
              "#bd3786"
             ],
             [
              0.5555555555555556,
              "#d8576b"
             ],
             [
              0.6666666666666666,
              "#ed7953"
             ],
             [
              0.7777777777777778,
              "#fb9f3a"
             ],
             [
              0.8888888888888888,
              "#fdca26"
             ],
             [
              1,
              "#f0f921"
             ]
            ],
            "type": "heatmapgl"
           }
          ],
          "histogram": [
           {
            "marker": {
             "pattern": {
              "fillmode": "overlay",
              "size": 10,
              "solidity": 0.2
             }
            },
            "type": "histogram"
           }
          ],
          "histogram2d": [
           {
            "colorbar": {
             "outlinewidth": 0,
             "ticks": ""
            },
            "colorscale": [
             [
              0,
              "#0d0887"
             ],
             [
              0.1111111111111111,
              "#46039f"
             ],
             [
              0.2222222222222222,
              "#7201a8"
             ],
             [
              0.3333333333333333,
              "#9c179e"
             ],
             [
              0.4444444444444444,
              "#bd3786"
             ],
             [
              0.5555555555555556,
              "#d8576b"
             ],
             [
              0.6666666666666666,
              "#ed7953"
             ],
             [
              0.7777777777777778,
              "#fb9f3a"
             ],
             [
              0.8888888888888888,
              "#fdca26"
             ],
             [
              1,
              "#f0f921"
             ]
            ],
            "type": "histogram2d"
           }
          ],
          "histogram2dcontour": [
           {
            "colorbar": {
             "outlinewidth": 0,
             "ticks": ""
            },
            "colorscale": [
             [
              0,
              "#0d0887"
             ],
             [
              0.1111111111111111,
              "#46039f"
             ],
             [
              0.2222222222222222,
              "#7201a8"
             ],
             [
              0.3333333333333333,
              "#9c179e"
             ],
             [
              0.4444444444444444,
              "#bd3786"
             ],
             [
              0.5555555555555556,
              "#d8576b"
             ],
             [
              0.6666666666666666,
              "#ed7953"
             ],
             [
              0.7777777777777778,
              "#fb9f3a"
             ],
             [
              0.8888888888888888,
              "#fdca26"
             ],
             [
              1,
              "#f0f921"
             ]
            ],
            "type": "histogram2dcontour"
           }
          ],
          "mesh3d": [
           {
            "colorbar": {
             "outlinewidth": 0,
             "ticks": ""
            },
            "type": "mesh3d"
           }
          ],
          "parcoords": [
           {
            "line": {
             "colorbar": {
              "outlinewidth": 0,
              "ticks": ""
             }
            },
            "type": "parcoords"
           }
          ],
          "pie": [
           {
            "automargin": true,
            "type": "pie"
           }
          ],
          "scatter": [
           {
            "fillpattern": {
             "fillmode": "overlay",
             "size": 10,
             "solidity": 0.2
            },
            "type": "scatter"
           }
          ],
          "scatter3d": [
           {
            "line": {
             "colorbar": {
              "outlinewidth": 0,
              "ticks": ""
             }
            },
            "marker": {
             "colorbar": {
              "outlinewidth": 0,
              "ticks": ""
             }
            },
            "type": "scatter3d"
           }
          ],
          "scattercarpet": [
           {
            "marker": {
             "colorbar": {
              "outlinewidth": 0,
              "ticks": ""
             }
            },
            "type": "scattercarpet"
           }
          ],
          "scattergeo": [
           {
            "marker": {
             "colorbar": {
              "outlinewidth": 0,
              "ticks": ""
             }
            },
            "type": "scattergeo"
           }
          ],
          "scattergl": [
           {
            "marker": {
             "colorbar": {
              "outlinewidth": 0,
              "ticks": ""
             }
            },
            "type": "scattergl"
           }
          ],
          "scattermapbox": [
           {
            "marker": {
             "colorbar": {
              "outlinewidth": 0,
              "ticks": ""
             }
            },
            "type": "scattermapbox"
           }
          ],
          "scatterpolar": [
           {
            "marker": {
             "colorbar": {
              "outlinewidth": 0,
              "ticks": ""
             }
            },
            "type": "scatterpolar"
           }
          ],
          "scatterpolargl": [
           {
            "marker": {
             "colorbar": {
              "outlinewidth": 0,
              "ticks": ""
             }
            },
            "type": "scatterpolargl"
           }
          ],
          "scatterternary": [
           {
            "marker": {
             "colorbar": {
              "outlinewidth": 0,
              "ticks": ""
             }
            },
            "type": "scatterternary"
           }
          ],
          "surface": [
           {
            "colorbar": {
             "outlinewidth": 0,
             "ticks": ""
            },
            "colorscale": [
             [
              0,
              "#0d0887"
             ],
             [
              0.1111111111111111,
              "#46039f"
             ],
             [
              0.2222222222222222,
              "#7201a8"
             ],
             [
              0.3333333333333333,
              "#9c179e"
             ],
             [
              0.4444444444444444,
              "#bd3786"
             ],
             [
              0.5555555555555556,
              "#d8576b"
             ],
             [
              0.6666666666666666,
              "#ed7953"
             ],
             [
              0.7777777777777778,
              "#fb9f3a"
             ],
             [
              0.8888888888888888,
              "#fdca26"
             ],
             [
              1,
              "#f0f921"
             ]
            ],
            "type": "surface"
           }
          ],
          "table": [
           {
            "cells": {
             "fill": {
              "color": "#EBF0F8"
             },
             "line": {
              "color": "white"
             }
            },
            "header": {
             "fill": {
              "color": "#C8D4E3"
             },
             "line": {
              "color": "white"
             }
            },
            "type": "table"
           }
          ]
         },
         "layout": {
          "annotationdefaults": {
           "arrowcolor": "#2a3f5f",
           "arrowhead": 0,
           "arrowwidth": 1
          },
          "autotypenumbers": "strict",
          "coloraxis": {
           "colorbar": {
            "outlinewidth": 0,
            "ticks": ""
           }
          },
          "colorscale": {
           "diverging": [
            [
             0,
             "#8e0152"
            ],
            [
             0.1,
             "#c51b7d"
            ],
            [
             0.2,
             "#de77ae"
            ],
            [
             0.3,
             "#f1b6da"
            ],
            [
             0.4,
             "#fde0ef"
            ],
            [
             0.5,
             "#f7f7f7"
            ],
            [
             0.6,
             "#e6f5d0"
            ],
            [
             0.7,
             "#b8e186"
            ],
            [
             0.8,
             "#7fbc41"
            ],
            [
             0.9,
             "#4d9221"
            ],
            [
             1,
             "#276419"
            ]
           ],
           "sequential": [
            [
             0,
             "#0d0887"
            ],
            [
             0.1111111111111111,
             "#46039f"
            ],
            [
             0.2222222222222222,
             "#7201a8"
            ],
            [
             0.3333333333333333,
             "#9c179e"
            ],
            [
             0.4444444444444444,
             "#bd3786"
            ],
            [
             0.5555555555555556,
             "#d8576b"
            ],
            [
             0.6666666666666666,
             "#ed7953"
            ],
            [
             0.7777777777777778,
             "#fb9f3a"
            ],
            [
             0.8888888888888888,
             "#fdca26"
            ],
            [
             1,
             "#f0f921"
            ]
           ],
           "sequentialminus": [
            [
             0,
             "#0d0887"
            ],
            [
             0.1111111111111111,
             "#46039f"
            ],
            [
             0.2222222222222222,
             "#7201a8"
            ],
            [
             0.3333333333333333,
             "#9c179e"
            ],
            [
             0.4444444444444444,
             "#bd3786"
            ],
            [
             0.5555555555555556,
             "#d8576b"
            ],
            [
             0.6666666666666666,
             "#ed7953"
            ],
            [
             0.7777777777777778,
             "#fb9f3a"
            ],
            [
             0.8888888888888888,
             "#fdca26"
            ],
            [
             1,
             "#f0f921"
            ]
           ]
          },
          "colorway": [
           "#636efa",
           "#EF553B",
           "#00cc96",
           "#ab63fa",
           "#FFA15A",
           "#19d3f3",
           "#FF6692",
           "#B6E880",
           "#FF97FF",
           "#FECB52"
          ],
          "font": {
           "color": "#2a3f5f"
          },
          "geo": {
           "bgcolor": "white",
           "lakecolor": "white",
           "landcolor": "#E5ECF6",
           "showlakes": true,
           "showland": true,
           "subunitcolor": "white"
          },
          "hoverlabel": {
           "align": "left"
          },
          "hovermode": "closest",
          "mapbox": {
           "style": "light"
          },
          "paper_bgcolor": "white",
          "plot_bgcolor": "#E5ECF6",
          "polar": {
           "angularaxis": {
            "gridcolor": "white",
            "linecolor": "white",
            "ticks": ""
           },
           "bgcolor": "#E5ECF6",
           "radialaxis": {
            "gridcolor": "white",
            "linecolor": "white",
            "ticks": ""
           }
          },
          "scene": {
           "xaxis": {
            "backgroundcolor": "#E5ECF6",
            "gridcolor": "white",
            "gridwidth": 2,
            "linecolor": "white",
            "showbackground": true,
            "ticks": "",
            "zerolinecolor": "white"
           },
           "yaxis": {
            "backgroundcolor": "#E5ECF6",
            "gridcolor": "white",
            "gridwidth": 2,
            "linecolor": "white",
            "showbackground": true,
            "ticks": "",
            "zerolinecolor": "white"
           },
           "zaxis": {
            "backgroundcolor": "#E5ECF6",
            "gridcolor": "white",
            "gridwidth": 2,
            "linecolor": "white",
            "showbackground": true,
            "ticks": "",
            "zerolinecolor": "white"
           }
          },
          "shapedefaults": {
           "line": {
            "color": "#2a3f5f"
           }
          },
          "ternary": {
           "aaxis": {
            "gridcolor": "white",
            "linecolor": "white",
            "ticks": ""
           },
           "baxis": {
            "gridcolor": "white",
            "linecolor": "white",
            "ticks": ""
           },
           "bgcolor": "#E5ECF6",
           "caxis": {
            "gridcolor": "white",
            "linecolor": "white",
            "ticks": ""
           }
          },
          "title": {
           "x": 0.05
          },
          "xaxis": {
           "automargin": true,
           "gridcolor": "white",
           "linecolor": "white",
           "ticks": "",
           "title": {
            "standoff": 15
           },
           "zerolinecolor": "white",
           "zerolinewidth": 2
          },
          "yaxis": {
           "automargin": true,
           "gridcolor": "white",
           "linecolor": "white",
           "ticks": "",
           "title": {
            "standoff": 15
           },
           "zerolinecolor": "white",
           "zerolinewidth": 2
          }
         }
        },
        "width": 560,
        "xaxis": {
         "anchor": "y",
         "domain": [
          0,
          1
         ],
         "title": {
          "text": "a"
         }
        },
        "yaxis": {
         "anchor": "x",
         "domain": [
          0,
          1
         ],
         "title": {
          "text": "b"
         }
        }
       }
      },
      "text/html": [
       "<div>                            <div id=\"14ba5273-e43c-419d-afc5-cd0f7743e313\" class=\"plotly-graph-div\" style=\"height:560px; width:560px;\"></div>            <script type=\"text/javascript\">                require([\"plotly\"], function(Plotly) {                    window.PLOTLYENV=window.PLOTLYENV || {};                                    if (document.getElementById(\"14ba5273-e43c-419d-afc5-cd0f7743e313\")) {                    Plotly.newPlot(                        \"14ba5273-e43c-419d-afc5-cd0f7743e313\",                        [{\"hovertemplate\":\"class=0<br>a=%{x}<br>b=%{y}<extra></extra>\",\"legendgroup\":\"0\",\"marker\":{\"color\":\"#636efa\",\"symbol\":\"circle\"},\"mode\":\"markers\",\"name\":\"0\",\"orientation\":\"v\",\"showlegend\":true,\"x\":[0.29,6.04,1.06,0.32,1.82,0.28,4.89,5.66,1.14,8.43,0.61,0.09,3.77,3.39,4.13,1.26,3.27,0.19,4.23,1.06,2.86,0.59,3.6,0.36,1.98,2.63,5.01,5.16,4.72,7.22,2.53,5.35,5.43,1.03,2.68,0.3,5.12,1.98,1.06,3.71,0.68,2.89,1.62,0.96,4.09,0.73,5.71],\"xaxis\":\"x\",\"y\":[8.53,6.57,4.5,0.51,4.77,8.35,5.62,7.56,7.69,8.83,4.26,6.28,8.8,5.01,6.14,1.7,8.78,2.03,8.94,7.68,5.85,7.31,8.84,3.66,7.02,3.63,6.9,6.28,6.61,8.87,5.85,8.36,6.85,3.82,3.82,3.98,6.85,4.54,2.87,5.11,7.0,4.43,8.75,3.62,6.49,4.04,8.38],\"yaxis\":\"y\",\"type\":\"scatter\"},{\"hovertemplate\":\"class=1<br>a=%{x}<br>b=%{y}<extra></extra>\",\"legendgroup\":\"1\",\"marker\":{\"color\":\"#EF553B\",\"symbol\":\"circle\"},\"mode\":\"markers\",\"name\":\"1\",\"orientation\":\"v\",\"showlegend\":true,\"x\":[6.13,5.13,5.0,6.43,4.74,6.66,6.49,6.57,4.15,7.5,7.8,6.79,4.76,4.4,4.66,3.98,4.69,7.07,6.49,0.55,3.66,5.52,8.57,5.15,3.83,6.68,8.76,4.83,5.62,5.87,8.39,5.42,8.57,3.02,5.33,8.75,5.75,8.29,7.36,5.76,8.19,8.76,4.41,6.86,3.94,2.56,8.22,6.62,7.86,8.93,4.08,8.77,3.75],\"xaxis\":\"x\",\"y\":[4.54,0.79,1.5,3.68,4.46,2.55,0.8,1.73,2.62,1.58,1.98,6.65,0.11,3.32,3.28,1.62,3.63,5.77,3.62,0.04,2.92,5.4,5.48,4.85,1.98,1.48,4.75,2.76,2.18,3.08,5.2,4.39,1.38,0.29,0.08,3.36,0.88,3.02,2.74,2.45,3.36,5.03,0.75,3.62,3.24,2.48,3.31,3.38,3.32,7.69,3.08,5.03,2.34],\"yaxis\":\"y\",\"type\":\"scatter\"}],                        {\"template\":{\"data\":{\"histogram2dcontour\":[{\"type\":\"histogram2dcontour\",\"colorbar\":{\"outlinewidth\":0,\"ticks\":\"\"},\"colorscale\":[[0.0,\"#0d0887\"],[0.1111111111111111,\"#46039f\"],[0.2222222222222222,\"#7201a8\"],[0.3333333333333333,\"#9c179e\"],[0.4444444444444444,\"#bd3786\"],[0.5555555555555556,\"#d8576b\"],[0.6666666666666666,\"#ed7953\"],[0.7777777777777778,\"#fb9f3a\"],[0.8888888888888888,\"#fdca26\"],[1.0,\"#f0f921\"]]}],\"choropleth\":[{\"type\":\"choropleth\",\"colorbar\":{\"outlinewidth\":0,\"ticks\":\"\"}}],\"histogram2d\":[{\"type\":\"histogram2d\",\"colorbar\":{\"outlinewidth\":0,\"ticks\":\"\"},\"colorscale\":[[0.0,\"#0d0887\"],[0.1111111111111111,\"#46039f\"],[0.2222222222222222,\"#7201a8\"],[0.3333333333333333,\"#9c179e\"],[0.4444444444444444,\"#bd3786\"],[0.5555555555555556,\"#d8576b\"],[0.6666666666666666,\"#ed7953\"],[0.7777777777777778,\"#fb9f3a\"],[0.8888888888888888,\"#fdca26\"],[1.0,\"#f0f921\"]]}],\"heatmap\":[{\"type\":\"heatmap\",\"colorbar\":{\"outlinewidth\":0,\"ticks\":\"\"},\"colorscale\":[[0.0,\"#0d0887\"],[0.1111111111111111,\"#46039f\"],[0.2222222222222222,\"#7201a8\"],[0.3333333333333333,\"#9c179e\"],[0.4444444444444444,\"#bd3786\"],[0.5555555555555556,\"#d8576b\"],[0.6666666666666666,\"#ed7953\"],[0.7777777777777778,\"#fb9f3a\"],[0.8888888888888888,\"#fdca26\"],[1.0,\"#f0f921\"]]}],\"heatmapgl\":[{\"type\":\"heatmapgl\",\"colorbar\":{\"outlinewidth\":0,\"ticks\":\"\"},\"colorscale\":[[0.0,\"#0d0887\"],[0.1111111111111111,\"#46039f\"],[0.2222222222222222,\"#7201a8\"],[0.3333333333333333,\"#9c179e\"],[0.4444444444444444,\"#bd3786\"],[0.5555555555555556,\"#d8576b\"],[0.6666666666666666,\"#ed7953\"],[0.7777777777777778,\"#fb9f3a\"],[0.8888888888888888,\"#fdca26\"],[1.0,\"#f0f921\"]]}],\"contourcarpet\":[{\"type\":\"contourcarpet\",\"colorbar\":{\"outlinewidth\":0,\"ticks\":\"\"}}],\"contour\":[{\"type\":\"contour\",\"colorbar\":{\"outlinewidth\":0,\"ticks\":\"\"},\"colorscale\":[[0.0,\"#0d0887\"],[0.1111111111111111,\"#46039f\"],[0.2222222222222222,\"#7201a8\"],[0.3333333333333333,\"#9c179e\"],[0.4444444444444444,\"#bd3786\"],[0.5555555555555556,\"#d8576b\"],[0.6666666666666666,\"#ed7953\"],[0.7777777777777778,\"#fb9f3a\"],[0.8888888888888888,\"#fdca26\"],[1.0,\"#f0f921\"]]}],\"surface\":[{\"type\":\"surface\",\"colorbar\":{\"outlinewidth\":0,\"ticks\":\"\"},\"colorscale\":[[0.0,\"#0d0887\"],[0.1111111111111111,\"#46039f\"],[0.2222222222222222,\"#7201a8\"],[0.3333333333333333,\"#9c179e\"],[0.4444444444444444,\"#bd3786\"],[0.5555555555555556,\"#d8576b\"],[0.6666666666666666,\"#ed7953\"],[0.7777777777777778,\"#fb9f3a\"],[0.8888888888888888,\"#fdca26\"],[1.0,\"#f0f921\"]]}],\"mesh3d\":[{\"type\":\"mesh3d\",\"colorbar\":{\"outlinewidth\":0,\"ticks\":\"\"}}],\"scatter\":[{\"fillpattern\":{\"fillmode\":\"overlay\",\"size\":10,\"solidity\":0.2},\"type\":\"scatter\"}],\"parcoords\":[{\"type\":\"parcoords\",\"line\":{\"colorbar\":{\"outlinewidth\":0,\"ticks\":\"\"}}}],\"scatterpolargl\":[{\"type\":\"scatterpolargl\",\"marker\":{\"colorbar\":{\"outlinewidth\":0,\"ticks\":\"\"}}}],\"bar\":[{\"error_x\":{\"color\":\"#2a3f5f\"},\"error_y\":{\"color\":\"#2a3f5f\"},\"marker\":{\"line\":{\"color\":\"#E5ECF6\",\"width\":0.5},\"pattern\":{\"fillmode\":\"overlay\",\"size\":10,\"solidity\":0.2}},\"type\":\"bar\"}],\"scattergeo\":[{\"type\":\"scattergeo\",\"marker\":{\"colorbar\":{\"outlinewidth\":0,\"ticks\":\"\"}}}],\"scatterpolar\":[{\"type\":\"scatterpolar\",\"marker\":{\"colorbar\":{\"outlinewidth\":0,\"ticks\":\"\"}}}],\"histogram\":[{\"marker\":{\"pattern\":{\"fillmode\":\"overlay\",\"size\":10,\"solidity\":0.2}},\"type\":\"histogram\"}],\"scattergl\":[{\"type\":\"scattergl\",\"marker\":{\"colorbar\":{\"outlinewidth\":0,\"ticks\":\"\"}}}],\"scatter3d\":[{\"type\":\"scatter3d\",\"line\":{\"colorbar\":{\"outlinewidth\":0,\"ticks\":\"\"}},\"marker\":{\"colorbar\":{\"outlinewidth\":0,\"ticks\":\"\"}}}],\"scattermapbox\":[{\"type\":\"scattermapbox\",\"marker\":{\"colorbar\":{\"outlinewidth\":0,\"ticks\":\"\"}}}],\"scatterternary\":[{\"type\":\"scatterternary\",\"marker\":{\"colorbar\":{\"outlinewidth\":0,\"ticks\":\"\"}}}],\"scattercarpet\":[{\"type\":\"scattercarpet\",\"marker\":{\"colorbar\":{\"outlinewidth\":0,\"ticks\":\"\"}}}],\"carpet\":[{\"aaxis\":{\"endlinecolor\":\"#2a3f5f\",\"gridcolor\":\"white\",\"linecolor\":\"white\",\"minorgridcolor\":\"white\",\"startlinecolor\":\"#2a3f5f\"},\"baxis\":{\"endlinecolor\":\"#2a3f5f\",\"gridcolor\":\"white\",\"linecolor\":\"white\",\"minorgridcolor\":\"white\",\"startlinecolor\":\"#2a3f5f\"},\"type\":\"carpet\"}],\"table\":[{\"cells\":{\"fill\":{\"color\":\"#EBF0F8\"},\"line\":{\"color\":\"white\"}},\"header\":{\"fill\":{\"color\":\"#C8D4E3\"},\"line\":{\"color\":\"white\"}},\"type\":\"table\"}],\"barpolar\":[{\"marker\":{\"line\":{\"color\":\"#E5ECF6\",\"width\":0.5},\"pattern\":{\"fillmode\":\"overlay\",\"size\":10,\"solidity\":0.2}},\"type\":\"barpolar\"}],\"pie\":[{\"automargin\":true,\"type\":\"pie\"}]},\"layout\":{\"autotypenumbers\":\"strict\",\"colorway\":[\"#636efa\",\"#EF553B\",\"#00cc96\",\"#ab63fa\",\"#FFA15A\",\"#19d3f3\",\"#FF6692\",\"#B6E880\",\"#FF97FF\",\"#FECB52\"],\"font\":{\"color\":\"#2a3f5f\"},\"hovermode\":\"closest\",\"hoverlabel\":{\"align\":\"left\"},\"paper_bgcolor\":\"white\",\"plot_bgcolor\":\"#E5ECF6\",\"polar\":{\"bgcolor\":\"#E5ECF6\",\"angularaxis\":{\"gridcolor\":\"white\",\"linecolor\":\"white\",\"ticks\":\"\"},\"radialaxis\":{\"gridcolor\":\"white\",\"linecolor\":\"white\",\"ticks\":\"\"}},\"ternary\":{\"bgcolor\":\"#E5ECF6\",\"aaxis\":{\"gridcolor\":\"white\",\"linecolor\":\"white\",\"ticks\":\"\"},\"baxis\":{\"gridcolor\":\"white\",\"linecolor\":\"white\",\"ticks\":\"\"},\"caxis\":{\"gridcolor\":\"white\",\"linecolor\":\"white\",\"ticks\":\"\"}},\"coloraxis\":{\"colorbar\":{\"outlinewidth\":0,\"ticks\":\"\"}},\"colorscale\":{\"sequential\":[[0.0,\"#0d0887\"],[0.1111111111111111,\"#46039f\"],[0.2222222222222222,\"#7201a8\"],[0.3333333333333333,\"#9c179e\"],[0.4444444444444444,\"#bd3786\"],[0.5555555555555556,\"#d8576b\"],[0.6666666666666666,\"#ed7953\"],[0.7777777777777778,\"#fb9f3a\"],[0.8888888888888888,\"#fdca26\"],[1.0,\"#f0f921\"]],\"sequentialminus\":[[0.0,\"#0d0887\"],[0.1111111111111111,\"#46039f\"],[0.2222222222222222,\"#7201a8\"],[0.3333333333333333,\"#9c179e\"],[0.4444444444444444,\"#bd3786\"],[0.5555555555555556,\"#d8576b\"],[0.6666666666666666,\"#ed7953\"],[0.7777777777777778,\"#fb9f3a\"],[0.8888888888888888,\"#fdca26\"],[1.0,\"#f0f921\"]],\"diverging\":[[0,\"#8e0152\"],[0.1,\"#c51b7d\"],[0.2,\"#de77ae\"],[0.3,\"#f1b6da\"],[0.4,\"#fde0ef\"],[0.5,\"#f7f7f7\"],[0.6,\"#e6f5d0\"],[0.7,\"#b8e186\"],[0.8,\"#7fbc41\"],[0.9,\"#4d9221\"],[1,\"#276419\"]]},\"xaxis\":{\"gridcolor\":\"white\",\"linecolor\":\"white\",\"ticks\":\"\",\"title\":{\"standoff\":15},\"zerolinecolor\":\"white\",\"automargin\":true,\"zerolinewidth\":2},\"yaxis\":{\"gridcolor\":\"white\",\"linecolor\":\"white\",\"ticks\":\"\",\"title\":{\"standoff\":15},\"zerolinecolor\":\"white\",\"automargin\":true,\"zerolinewidth\":2},\"scene\":{\"xaxis\":{\"backgroundcolor\":\"#E5ECF6\",\"gridcolor\":\"white\",\"linecolor\":\"white\",\"showbackground\":true,\"ticks\":\"\",\"zerolinecolor\":\"white\",\"gridwidth\":2},\"yaxis\":{\"backgroundcolor\":\"#E5ECF6\",\"gridcolor\":\"white\",\"linecolor\":\"white\",\"showbackground\":true,\"ticks\":\"\",\"zerolinecolor\":\"white\",\"gridwidth\":2},\"zaxis\":{\"backgroundcolor\":\"#E5ECF6\",\"gridcolor\":\"white\",\"linecolor\":\"white\",\"showbackground\":true,\"ticks\":\"\",\"zerolinecolor\":\"white\",\"gridwidth\":2}},\"shapedefaults\":{\"line\":{\"color\":\"#2a3f5f\"}},\"annotationdefaults\":{\"arrowcolor\":\"#2a3f5f\",\"arrowhead\":0,\"arrowwidth\":1},\"geo\":{\"bgcolor\":\"white\",\"landcolor\":\"#E5ECF6\",\"subunitcolor\":\"white\",\"showland\":true,\"showlakes\":true,\"lakecolor\":\"white\"},\"title\":{\"x\":0.05},\"mapbox\":{\"style\":\"light\"}}},\"xaxis\":{\"anchor\":\"y\",\"domain\":[0.0,1.0],\"title\":{\"text\":\"a\"}},\"yaxis\":{\"anchor\":\"x\",\"domain\":[0.0,1.0],\"title\":{\"text\":\"b\"}},\"legend\":{\"title\":{\"text\":\"class\"},\"tracegroupgap\":0},\"margin\":{\"t\":60},\"height\":560,\"width\":560},                        {\"responsive\": true}                    ).then(function(){\n",
       "                            \n",
       "var gd = document.getElementById('14ba5273-e43c-419d-afc5-cd0f7743e313');\n",
       "var x = new MutationObserver(function (mutations, observer) {{\n",
       "        var display = window.getComputedStyle(gd).display;\n",
       "        if (!display || display === 'none') {{\n",
       "            console.log([gd, 'removed!']);\n",
       "            Plotly.purge(gd);\n",
       "            observer.disconnect();\n",
       "        }}\n",
       "}});\n",
       "\n",
       "// Listen for the removal of the full notebook cells\n",
       "var notebookContainer = gd.closest('#notebook-container');\n",
       "if (notebookContainer) {{\n",
       "    x.observe(notebookContainer, {childList: true});\n",
       "}}\n",
       "\n",
       "// Listen for the clearing of the current output cell\n",
       "var outputEl = gd.closest('.output');\n",
       "if (outputEl) {{\n",
       "    x.observe(outputEl, {childList: true});\n",
       "}}\n",
       "\n",
       "                        })                };                });            </script>        </div>"
      ]
     },
     "metadata": {},
     "output_type": "display_data"
    }
   ],
   "source": [
    "fig = px.scatter(df, x='a',\n",
    "            y='b',\n",
    "            color='class',\n",
    "            height=560,\n",
    "            width=560,\n",
    "            )\n",
    "fig.show()"
   ]
  },
  {
   "cell_type": "code",
   "execution_count": 60,
   "metadata": {},
   "outputs": [
    {
     "name": "stdout",
     "output_type": "stream",
     "text": [
      "Rules original\n",
      "IF b = <8.02, inf) THEN class = {0} (p = 11.0, n = 0.0, P = 47.0, N = 53.0, weight = 1.0, pvalue = 0.00012297647137782074)\n",
      "IF a = (-inf, 0.46) THEN class = {0} (p = 7.0, n = 0.0, P = 47.0, N = 53.0, weight = 1.0, pvalue = 0.003928862103712904)\n",
      "IF a = (-inf, 2.55) AND b = <0.28, inf) THEN class = {0} (p = 23.0, n = 0.0, P = 47.0, N = 53.0, weight = 1.0, pvalue = 6.484466745368206e-10)\n",
      "IF a = (-inf, 6.42) AND b = <5.81, inf) THEN class = {0} (p = 26.0, n = 0.0, P = 47.0, N = 53.0, weight = 1.0, pvalue = 1.7941983175154166e-11)\n",
      "IF a = (-inf, 3.73) AND b = <3.27, inf) THEN class = {0} (p = 27.0, n = 0.0, P = 47.0, N = 53.0, weight = 1.0, pvalue = 5.091643874030218e-12)\n",
      "IF a = <8.50, inf) THEN class = {1} (p = 7.0, n = 0.0, P = 53.0, N = 47.0, weight = 1.0, pvalue = 0.009629392130748654)\n",
      "IF a = <7.29, inf) AND b = (-inf, 8.26) THEN class = {1} (p = 15.0, n = 0.0, P = 53.0, N = 47.0, weight = 1.0, pvalue = 2.4671924945363415e-05)\n",
      "IF a = <6.09, inf) AND b = (-inf, 8.26) THEN class = {1} (p = 26.0, n = 0.0, P = 53.0, N = 47.0, weight = 1.0, pvalue = 1.3915162322351906e-09)\n",
      "IF a = <0.44, inf) AND b = (-inf, 1.66) THEN class = {1} (p = 13.0, n = 0.0, P = 53.0, N = 47.0, weight = 1.0, pvalue = 0.00011833034771872305)\n",
      "IF a = <1.91, inf) AND b = (-inf, 3.50) THEN class = {1} (p = 35.0, n = 0.0, P = 53.0, N = 47.0, weight = 1.0, pvalue = 5.900785676107167e-14)\n",
      "IF a = <4.32, inf) AND b = (-inf, 5.55) THEN class = {1} (p = 40.0, n = 0.0, P = 53.0, N = 47.0, weight = 1.0, pvalue = 6.120897967731068e-17)\n",
      "\n",
      "\n",
      "Complex rules\n",
      "IF a < b THEN class = {0} (p = 47.0, n = 0.0, P = 47.0, N = 53.0, weight = 1.0, pvalue = 1.1846448146925825e-29)\n",
      "IF a > b THEN class = {1} (p = 53.0, n = 0.0, P = 53.0, N = 47.0, weight = 1.0, pvalue = 1.1846448146925825e-29)\n",
      "\n",
      "\n",
      "Complex rules + inners alternatives\n",
      "IF a < b THEN class = {0} (p = 47.0, n = 0.0, P = 47.0, N = 53.0, weight = 1.0, pvalue = 1.1846448146925825e-29)\n",
      "IF a > b THEN class = {1} (p = 53.0, n = 0.0, P = 53.0, N = 47.0, weight = 1.0, pvalue = 1.1846448146925825e-29)\n"
     ]
    }
   ],
   "source": [
    "X = df.drop(['class'], axis=1)\n",
    "y = df['class']\n",
    "\n",
    "clf_simple.fit(X, y)\n",
    "\n",
    "print(\"Rules original\")\n",
    "for rule in clf_simple.model.rules:\n",
    "    print(rule, rule.stats)\n",
    "\n",
    "print(\"\\n\\nComplex rules\")\n",
    "clf_complex.fit(X, y)\n",
    "for rule in clf_complex.model.rules:\n",
    "    print(rule, rule.stats)\n",
    "\n",
    "print(\"\\n\\nComplex rules + inners alternatives\")\n",
    "clf_complex_with_inners.fit(X, y)\n",
    "for rule in clf_complex_with_inners.model.rules:\n",
    "    print(rule, rule.stats)"
   ]
  },
  {
   "attachments": {},
   "cell_type": "markdown",
   "metadata": {},
   "source": [
    "## a = b"
   ]
  },
  {
   "cell_type": "code",
   "execution_count": 23,
   "metadata": {},
   "outputs": [
    {
     "data": {
      "text/html": [
       "<div>\n",
       "<style scoped>\n",
       "    .dataframe tbody tr th:only-of-type {\n",
       "        vertical-align: middle;\n",
       "    }\n",
       "\n",
       "    .dataframe tbody tr th {\n",
       "        vertical-align: top;\n",
       "    }\n",
       "\n",
       "    .dataframe thead th {\n",
       "        text-align: right;\n",
       "    }\n",
       "</style>\n",
       "<table border=\"1\" class=\"dataframe\">\n",
       "  <thead>\n",
       "    <tr style=\"text-align: right;\">\n",
       "      <th></th>\n",
       "      <th>a</th>\n",
       "      <th>b</th>\n",
       "      <th>class</th>\n",
       "    </tr>\n",
       "  </thead>\n",
       "  <tbody>\n",
       "    <tr>\n",
       "      <th>0</th>\n",
       "      <td>8.01</td>\n",
       "      <td>8.62</td>\n",
       "      <td>0</td>\n",
       "    </tr>\n",
       "    <tr>\n",
       "      <th>1</th>\n",
       "      <td>7.93</td>\n",
       "      <td>2.99</td>\n",
       "      <td>0</td>\n",
       "    </tr>\n",
       "    <tr>\n",
       "      <th>2</th>\n",
       "      <td>6.62</td>\n",
       "      <td>8.72</td>\n",
       "      <td>0</td>\n",
       "    </tr>\n",
       "    <tr>\n",
       "      <th>3</th>\n",
       "      <td>2.51</td>\n",
       "      <td>1.79</td>\n",
       "      <td>0</td>\n",
       "    </tr>\n",
       "    <tr>\n",
       "      <th>4</th>\n",
       "      <td>7.46</td>\n",
       "      <td>6.77</td>\n",
       "      <td>0</td>\n",
       "    </tr>\n",
       "    <tr>\n",
       "      <th>...</th>\n",
       "      <td>...</td>\n",
       "      <td>...</td>\n",
       "      <td>...</td>\n",
       "    </tr>\n",
       "    <tr>\n",
       "      <th>95</th>\n",
       "      <td>4.26</td>\n",
       "      <td>4.26</td>\n",
       "      <td>1</td>\n",
       "    </tr>\n",
       "    <tr>\n",
       "      <th>96</th>\n",
       "      <td>1.92</td>\n",
       "      <td>1.92</td>\n",
       "      <td>1</td>\n",
       "    </tr>\n",
       "    <tr>\n",
       "      <th>97</th>\n",
       "      <td>8.46</td>\n",
       "      <td>8.46</td>\n",
       "      <td>1</td>\n",
       "    </tr>\n",
       "    <tr>\n",
       "      <th>98</th>\n",
       "      <td>3.69</td>\n",
       "      <td>3.69</td>\n",
       "      <td>1</td>\n",
       "    </tr>\n",
       "    <tr>\n",
       "      <th>99</th>\n",
       "      <td>0.03</td>\n",
       "      <td>0.03</td>\n",
       "      <td>1</td>\n",
       "    </tr>\n",
       "  </tbody>\n",
       "</table>\n",
       "<p>100 rows × 3 columns</p>\n",
       "</div>"
      ],
      "text/plain": [
       "       a     b class\n",
       "0   8.01  8.62     0\n",
       "1   7.93  2.99     0\n",
       "2   6.62  8.72     0\n",
       "3   2.51  1.79     0\n",
       "4   7.46  6.77     0\n",
       "..   ...   ...   ...\n",
       "95  4.26  4.26     1\n",
       "96  1.92  1.92     1\n",
       "97  8.46  8.46     1\n",
       "98  3.69  3.69     1\n",
       "99  0.03  0.03     1\n",
       "\n",
       "[100 rows x 3 columns]"
      ]
     },
     "execution_count": 23,
     "metadata": {},
     "output_type": "execute_result"
    }
   ],
   "source": [
    "df = pd.DataFrame(columns=[\"a\", \"b\", \"class\"], index = [i for i in range(0,100)])\n",
    "\n",
    "\n",
    "a = [round(random.uniform(0, 9),2) for i in range(100)]\n",
    "b = [round(random.uniform(0, 9),2) for i in range(100)]\n",
    "b[70:] = a[70:]\n",
    "df[\"a\"] = a\n",
    "df[\"b\"] = b\n",
    "\n",
    "df.loc[(df[\"a\"] == df[\"b\"]),\"class\"] = \"1\"\n",
    "df = df.fillna(\"0\")\n",
    "df"
   ]
  },
  {
   "cell_type": "code",
   "execution_count": 24,
   "metadata": {},
   "outputs": [
    {
     "data": {
      "application/vnd.plotly.v1+json": {
       "config": {
        "plotlyServerURL": "https://plot.ly"
       },
       "data": [
        {
         "hovertemplate": "class=0<br>a=%{x}<br>b=%{y}<extra></extra>",
         "legendgroup": "0",
         "marker": {
          "color": "#636efa",
          "symbol": "circle"
         },
         "mode": "markers",
         "name": "0",
         "orientation": "v",
         "showlegend": true,
         "type": "scatter",
         "x": [
          8.01,
          7.93,
          6.62,
          2.51,
          7.46,
          4.97,
          8.08,
          8.34,
          0.01,
          4.88,
          1.83,
          1.68,
          4.55,
          4.4,
          0.82,
          6.42,
          6.09,
          2.96,
          4.55,
          8.7,
          5.21,
          2.27,
          6.89,
          1.75,
          4.63,
          7.33,
          2.77,
          2.06,
          2.92,
          1.95,
          7.56,
          3.63,
          2.72,
          1.46,
          5.48,
          8.26,
          7.6,
          1.96,
          7.99,
          3.47,
          2.35,
          0.75,
          5.53,
          5.67,
          0.11,
          5.29,
          2.38,
          0.81,
          6.29,
          6.48,
          4.81,
          0.52,
          1.33,
          3.17,
          3.71,
          7.7,
          2.23,
          7.94,
          6.98,
          7.63,
          1.91,
          0.33,
          5.71,
          0.17,
          3.63,
          7.99,
          0.78,
          2.36,
          2.42,
          2.76
         ],
         "xaxis": "x",
         "y": [
          8.62,
          2.99,
          8.72,
          1.79,
          6.77,
          0.85,
          0.68,
          1.51,
          0.58,
          0.74,
          5.6,
          2.39,
          5.67,
          3.26,
          0.96,
          3.33,
          8.59,
          4.05,
          5.88,
          8.49,
          0.9,
          3.55,
          5.81,
          8.48,
          4.44,
          1.49,
          8.2,
          0.75,
          1.88,
          2.55,
          3.66,
          2.86,
          2.71,
          7.79,
          8.62,
          2.65,
          5.07,
          7.24,
          7.89,
          5.05,
          2.6,
          1.21,
          1.34,
          7.23,
          2.77,
          0.53,
          8.46,
          8.42,
          3.96,
          4.62,
          1.85,
          4.79,
          5.94,
          2.48,
          3.18,
          2.7,
          3.28,
          1.71,
          8.32,
          7.94,
          6.18,
          4.79,
          2.68,
          6.3,
          4.36,
          5.4,
          3.8,
          0.83,
          1.01,
          7.97
         ],
         "yaxis": "y"
        },
        {
         "hovertemplate": "class=1<br>a=%{x}<br>b=%{y}<extra></extra>",
         "legendgroup": "1",
         "marker": {
          "color": "#EF553B",
          "symbol": "circle"
         },
         "mode": "markers",
         "name": "1",
         "orientation": "v",
         "showlegend": true,
         "type": "scatter",
         "x": [
          8,
          7.62,
          1.49,
          0.92,
          4.68,
          8.55,
          8.93,
          8.48,
          8.05,
          8.24,
          5.31,
          5.33,
          6.07,
          8.31,
          2.12,
          6.48,
          3.77,
          5.53,
          4.87,
          1.98,
          7.68,
          4.93,
          7.54,
          4.54,
          4.52,
          4.26,
          1.92,
          8.46,
          3.69,
          0.03
         ],
         "xaxis": "x",
         "y": [
          8,
          7.62,
          1.49,
          0.92,
          4.68,
          8.55,
          8.93,
          8.48,
          8.05,
          8.24,
          5.31,
          5.33,
          6.07,
          8.31,
          2.12,
          6.48,
          3.77,
          5.53,
          4.87,
          1.98,
          7.68,
          4.93,
          7.54,
          4.54,
          4.52,
          4.26,
          1.92,
          8.46,
          3.69,
          0.03
         ],
         "yaxis": "y"
        }
       ],
       "layout": {
        "height": 560,
        "legend": {
         "title": {
          "text": "class"
         },
         "tracegroupgap": 0
        },
        "margin": {
         "t": 60
        },
        "template": {
         "data": {
          "bar": [
           {
            "error_x": {
             "color": "#2a3f5f"
            },
            "error_y": {
             "color": "#2a3f5f"
            },
            "marker": {
             "line": {
              "color": "#E5ECF6",
              "width": 0.5
             },
             "pattern": {
              "fillmode": "overlay",
              "size": 10,
              "solidity": 0.2
             }
            },
            "type": "bar"
           }
          ],
          "barpolar": [
           {
            "marker": {
             "line": {
              "color": "#E5ECF6",
              "width": 0.5
             },
             "pattern": {
              "fillmode": "overlay",
              "size": 10,
              "solidity": 0.2
             }
            },
            "type": "barpolar"
           }
          ],
          "carpet": [
           {
            "aaxis": {
             "endlinecolor": "#2a3f5f",
             "gridcolor": "white",
             "linecolor": "white",
             "minorgridcolor": "white",
             "startlinecolor": "#2a3f5f"
            },
            "baxis": {
             "endlinecolor": "#2a3f5f",
             "gridcolor": "white",
             "linecolor": "white",
             "minorgridcolor": "white",
             "startlinecolor": "#2a3f5f"
            },
            "type": "carpet"
           }
          ],
          "choropleth": [
           {
            "colorbar": {
             "outlinewidth": 0,
             "ticks": ""
            },
            "type": "choropleth"
           }
          ],
          "contour": [
           {
            "colorbar": {
             "outlinewidth": 0,
             "ticks": ""
            },
            "colorscale": [
             [
              0,
              "#0d0887"
             ],
             [
              0.1111111111111111,
              "#46039f"
             ],
             [
              0.2222222222222222,
              "#7201a8"
             ],
             [
              0.3333333333333333,
              "#9c179e"
             ],
             [
              0.4444444444444444,
              "#bd3786"
             ],
             [
              0.5555555555555556,
              "#d8576b"
             ],
             [
              0.6666666666666666,
              "#ed7953"
             ],
             [
              0.7777777777777778,
              "#fb9f3a"
             ],
             [
              0.8888888888888888,
              "#fdca26"
             ],
             [
              1,
              "#f0f921"
             ]
            ],
            "type": "contour"
           }
          ],
          "contourcarpet": [
           {
            "colorbar": {
             "outlinewidth": 0,
             "ticks": ""
            },
            "type": "contourcarpet"
           }
          ],
          "heatmap": [
           {
            "colorbar": {
             "outlinewidth": 0,
             "ticks": ""
            },
            "colorscale": [
             [
              0,
              "#0d0887"
             ],
             [
              0.1111111111111111,
              "#46039f"
             ],
             [
              0.2222222222222222,
              "#7201a8"
             ],
             [
              0.3333333333333333,
              "#9c179e"
             ],
             [
              0.4444444444444444,
              "#bd3786"
             ],
             [
              0.5555555555555556,
              "#d8576b"
             ],
             [
              0.6666666666666666,
              "#ed7953"
             ],
             [
              0.7777777777777778,
              "#fb9f3a"
             ],
             [
              0.8888888888888888,
              "#fdca26"
             ],
             [
              1,
              "#f0f921"
             ]
            ],
            "type": "heatmap"
           }
          ],
          "heatmapgl": [
           {
            "colorbar": {
             "outlinewidth": 0,
             "ticks": ""
            },
            "colorscale": [
             [
              0,
              "#0d0887"
             ],
             [
              0.1111111111111111,
              "#46039f"
             ],
             [
              0.2222222222222222,
              "#7201a8"
             ],
             [
              0.3333333333333333,
              "#9c179e"
             ],
             [
              0.4444444444444444,
              "#bd3786"
             ],
             [
              0.5555555555555556,
              "#d8576b"
             ],
             [
              0.6666666666666666,
              "#ed7953"
             ],
             [
              0.7777777777777778,
              "#fb9f3a"
             ],
             [
              0.8888888888888888,
              "#fdca26"
             ],
             [
              1,
              "#f0f921"
             ]
            ],
            "type": "heatmapgl"
           }
          ],
          "histogram": [
           {
            "marker": {
             "pattern": {
              "fillmode": "overlay",
              "size": 10,
              "solidity": 0.2
             }
            },
            "type": "histogram"
           }
          ],
          "histogram2d": [
           {
            "colorbar": {
             "outlinewidth": 0,
             "ticks": ""
            },
            "colorscale": [
             [
              0,
              "#0d0887"
             ],
             [
              0.1111111111111111,
              "#46039f"
             ],
             [
              0.2222222222222222,
              "#7201a8"
             ],
             [
              0.3333333333333333,
              "#9c179e"
             ],
             [
              0.4444444444444444,
              "#bd3786"
             ],
             [
              0.5555555555555556,
              "#d8576b"
             ],
             [
              0.6666666666666666,
              "#ed7953"
             ],
             [
              0.7777777777777778,
              "#fb9f3a"
             ],
             [
              0.8888888888888888,
              "#fdca26"
             ],
             [
              1,
              "#f0f921"
             ]
            ],
            "type": "histogram2d"
           }
          ],
          "histogram2dcontour": [
           {
            "colorbar": {
             "outlinewidth": 0,
             "ticks": ""
            },
            "colorscale": [
             [
              0,
              "#0d0887"
             ],
             [
              0.1111111111111111,
              "#46039f"
             ],
             [
              0.2222222222222222,
              "#7201a8"
             ],
             [
              0.3333333333333333,
              "#9c179e"
             ],
             [
              0.4444444444444444,
              "#bd3786"
             ],
             [
              0.5555555555555556,
              "#d8576b"
             ],
             [
              0.6666666666666666,
              "#ed7953"
             ],
             [
              0.7777777777777778,
              "#fb9f3a"
             ],
             [
              0.8888888888888888,
              "#fdca26"
             ],
             [
              1,
              "#f0f921"
             ]
            ],
            "type": "histogram2dcontour"
           }
          ],
          "mesh3d": [
           {
            "colorbar": {
             "outlinewidth": 0,
             "ticks": ""
            },
            "type": "mesh3d"
           }
          ],
          "parcoords": [
           {
            "line": {
             "colorbar": {
              "outlinewidth": 0,
              "ticks": ""
             }
            },
            "type": "parcoords"
           }
          ],
          "pie": [
           {
            "automargin": true,
            "type": "pie"
           }
          ],
          "scatter": [
           {
            "fillpattern": {
             "fillmode": "overlay",
             "size": 10,
             "solidity": 0.2
            },
            "type": "scatter"
           }
          ],
          "scatter3d": [
           {
            "line": {
             "colorbar": {
              "outlinewidth": 0,
              "ticks": ""
             }
            },
            "marker": {
             "colorbar": {
              "outlinewidth": 0,
              "ticks": ""
             }
            },
            "type": "scatter3d"
           }
          ],
          "scattercarpet": [
           {
            "marker": {
             "colorbar": {
              "outlinewidth": 0,
              "ticks": ""
             }
            },
            "type": "scattercarpet"
           }
          ],
          "scattergeo": [
           {
            "marker": {
             "colorbar": {
              "outlinewidth": 0,
              "ticks": ""
             }
            },
            "type": "scattergeo"
           }
          ],
          "scattergl": [
           {
            "marker": {
             "colorbar": {
              "outlinewidth": 0,
              "ticks": ""
             }
            },
            "type": "scattergl"
           }
          ],
          "scattermapbox": [
           {
            "marker": {
             "colorbar": {
              "outlinewidth": 0,
              "ticks": ""
             }
            },
            "type": "scattermapbox"
           }
          ],
          "scatterpolar": [
           {
            "marker": {
             "colorbar": {
              "outlinewidth": 0,
              "ticks": ""
             }
            },
            "type": "scatterpolar"
           }
          ],
          "scatterpolargl": [
           {
            "marker": {
             "colorbar": {
              "outlinewidth": 0,
              "ticks": ""
             }
            },
            "type": "scatterpolargl"
           }
          ],
          "scatterternary": [
           {
            "marker": {
             "colorbar": {
              "outlinewidth": 0,
              "ticks": ""
             }
            },
            "type": "scatterternary"
           }
          ],
          "surface": [
           {
            "colorbar": {
             "outlinewidth": 0,
             "ticks": ""
            },
            "colorscale": [
             [
              0,
              "#0d0887"
             ],
             [
              0.1111111111111111,
              "#46039f"
             ],
             [
              0.2222222222222222,
              "#7201a8"
             ],
             [
              0.3333333333333333,
              "#9c179e"
             ],
             [
              0.4444444444444444,
              "#bd3786"
             ],
             [
              0.5555555555555556,
              "#d8576b"
             ],
             [
              0.6666666666666666,
              "#ed7953"
             ],
             [
              0.7777777777777778,
              "#fb9f3a"
             ],
             [
              0.8888888888888888,
              "#fdca26"
             ],
             [
              1,
              "#f0f921"
             ]
            ],
            "type": "surface"
           }
          ],
          "table": [
           {
            "cells": {
             "fill": {
              "color": "#EBF0F8"
             },
             "line": {
              "color": "white"
             }
            },
            "header": {
             "fill": {
              "color": "#C8D4E3"
             },
             "line": {
              "color": "white"
             }
            },
            "type": "table"
           }
          ]
         },
         "layout": {
          "annotationdefaults": {
           "arrowcolor": "#2a3f5f",
           "arrowhead": 0,
           "arrowwidth": 1
          },
          "autotypenumbers": "strict",
          "coloraxis": {
           "colorbar": {
            "outlinewidth": 0,
            "ticks": ""
           }
          },
          "colorscale": {
           "diverging": [
            [
             0,
             "#8e0152"
            ],
            [
             0.1,
             "#c51b7d"
            ],
            [
             0.2,
             "#de77ae"
            ],
            [
             0.3,
             "#f1b6da"
            ],
            [
             0.4,
             "#fde0ef"
            ],
            [
             0.5,
             "#f7f7f7"
            ],
            [
             0.6,
             "#e6f5d0"
            ],
            [
             0.7,
             "#b8e186"
            ],
            [
             0.8,
             "#7fbc41"
            ],
            [
             0.9,
             "#4d9221"
            ],
            [
             1,
             "#276419"
            ]
           ],
           "sequential": [
            [
             0,
             "#0d0887"
            ],
            [
             0.1111111111111111,
             "#46039f"
            ],
            [
             0.2222222222222222,
             "#7201a8"
            ],
            [
             0.3333333333333333,
             "#9c179e"
            ],
            [
             0.4444444444444444,
             "#bd3786"
            ],
            [
             0.5555555555555556,
             "#d8576b"
            ],
            [
             0.6666666666666666,
             "#ed7953"
            ],
            [
             0.7777777777777778,
             "#fb9f3a"
            ],
            [
             0.8888888888888888,
             "#fdca26"
            ],
            [
             1,
             "#f0f921"
            ]
           ],
           "sequentialminus": [
            [
             0,
             "#0d0887"
            ],
            [
             0.1111111111111111,
             "#46039f"
            ],
            [
             0.2222222222222222,
             "#7201a8"
            ],
            [
             0.3333333333333333,
             "#9c179e"
            ],
            [
             0.4444444444444444,
             "#bd3786"
            ],
            [
             0.5555555555555556,
             "#d8576b"
            ],
            [
             0.6666666666666666,
             "#ed7953"
            ],
            [
             0.7777777777777778,
             "#fb9f3a"
            ],
            [
             0.8888888888888888,
             "#fdca26"
            ],
            [
             1,
             "#f0f921"
            ]
           ]
          },
          "colorway": [
           "#636efa",
           "#EF553B",
           "#00cc96",
           "#ab63fa",
           "#FFA15A",
           "#19d3f3",
           "#FF6692",
           "#B6E880",
           "#FF97FF",
           "#FECB52"
          ],
          "font": {
           "color": "#2a3f5f"
          },
          "geo": {
           "bgcolor": "white",
           "lakecolor": "white",
           "landcolor": "#E5ECF6",
           "showlakes": true,
           "showland": true,
           "subunitcolor": "white"
          },
          "hoverlabel": {
           "align": "left"
          },
          "hovermode": "closest",
          "mapbox": {
           "style": "light"
          },
          "paper_bgcolor": "white",
          "plot_bgcolor": "#E5ECF6",
          "polar": {
           "angularaxis": {
            "gridcolor": "white",
            "linecolor": "white",
            "ticks": ""
           },
           "bgcolor": "#E5ECF6",
           "radialaxis": {
            "gridcolor": "white",
            "linecolor": "white",
            "ticks": ""
           }
          },
          "scene": {
           "xaxis": {
            "backgroundcolor": "#E5ECF6",
            "gridcolor": "white",
            "gridwidth": 2,
            "linecolor": "white",
            "showbackground": true,
            "ticks": "",
            "zerolinecolor": "white"
           },
           "yaxis": {
            "backgroundcolor": "#E5ECF6",
            "gridcolor": "white",
            "gridwidth": 2,
            "linecolor": "white",
            "showbackground": true,
            "ticks": "",
            "zerolinecolor": "white"
           },
           "zaxis": {
            "backgroundcolor": "#E5ECF6",
            "gridcolor": "white",
            "gridwidth": 2,
            "linecolor": "white",
            "showbackground": true,
            "ticks": "",
            "zerolinecolor": "white"
           }
          },
          "shapedefaults": {
           "line": {
            "color": "#2a3f5f"
           }
          },
          "ternary": {
           "aaxis": {
            "gridcolor": "white",
            "linecolor": "white",
            "ticks": ""
           },
           "baxis": {
            "gridcolor": "white",
            "linecolor": "white",
            "ticks": ""
           },
           "bgcolor": "#E5ECF6",
           "caxis": {
            "gridcolor": "white",
            "linecolor": "white",
            "ticks": ""
           }
          },
          "title": {
           "x": 0.05
          },
          "xaxis": {
           "automargin": true,
           "gridcolor": "white",
           "linecolor": "white",
           "ticks": "",
           "title": {
            "standoff": 15
           },
           "zerolinecolor": "white",
           "zerolinewidth": 2
          },
          "yaxis": {
           "automargin": true,
           "gridcolor": "white",
           "linecolor": "white",
           "ticks": "",
           "title": {
            "standoff": 15
           },
           "zerolinecolor": "white",
           "zerolinewidth": 2
          }
         }
        },
        "width": 560,
        "xaxis": {
         "anchor": "y",
         "domain": [
          0,
          1
         ],
         "title": {
          "text": "a"
         }
        },
        "yaxis": {
         "anchor": "x",
         "domain": [
          0,
          1
         ],
         "title": {
          "text": "b"
         }
        }
       }
      },
      "text/html": [
       "<div>                            <div id=\"368df8c8-12db-457e-aeb4-8fed5f55fc47\" class=\"plotly-graph-div\" style=\"height:560px; width:560px;\"></div>            <script type=\"text/javascript\">                require([\"plotly\"], function(Plotly) {                    window.PLOTLYENV=window.PLOTLYENV || {};                                    if (document.getElementById(\"368df8c8-12db-457e-aeb4-8fed5f55fc47\")) {                    Plotly.newPlot(                        \"368df8c8-12db-457e-aeb4-8fed5f55fc47\",                        [{\"hovertemplate\":\"class=0<br>a=%{x}<br>b=%{y}<extra></extra>\",\"legendgroup\":\"0\",\"marker\":{\"color\":\"#636efa\",\"symbol\":\"circle\"},\"mode\":\"markers\",\"name\":\"0\",\"orientation\":\"v\",\"showlegend\":true,\"x\":[8.01,7.93,6.62,2.51,7.46,4.97,8.08,8.34,0.01,4.88,1.83,1.68,4.55,4.4,0.82,6.42,6.09,2.96,4.55,8.7,5.21,2.27,6.89,1.75,4.63,7.33,2.77,2.06,2.92,1.95,7.56,3.63,2.72,1.46,5.48,8.26,7.6,1.96,7.99,3.47,2.35,0.75,5.53,5.67,0.11,5.29,2.38,0.81,6.29,6.48,4.81,0.52,1.33,3.17,3.71,7.7,2.23,7.94,6.98,7.63,1.91,0.33,5.71,0.17,3.63,7.99,0.78,2.36,2.42,2.76],\"xaxis\":\"x\",\"y\":[8.62,2.99,8.72,1.79,6.77,0.85,0.68,1.51,0.58,0.74,5.6,2.39,5.67,3.26,0.96,3.33,8.59,4.05,5.88,8.49,0.9,3.55,5.81,8.48,4.44,1.49,8.2,0.75,1.88,2.55,3.66,2.86,2.71,7.79,8.62,2.65,5.07,7.24,7.89,5.05,2.6,1.21,1.34,7.23,2.77,0.53,8.46,8.42,3.96,4.62,1.85,4.79,5.94,2.48,3.18,2.7,3.28,1.71,8.32,7.94,6.18,4.79,2.68,6.3,4.36,5.4,3.8,0.83,1.01,7.97],\"yaxis\":\"y\",\"type\":\"scatter\"},{\"hovertemplate\":\"class=1<br>a=%{x}<br>b=%{y}<extra></extra>\",\"legendgroup\":\"1\",\"marker\":{\"color\":\"#EF553B\",\"symbol\":\"circle\"},\"mode\":\"markers\",\"name\":\"1\",\"orientation\":\"v\",\"showlegend\":true,\"x\":[8.0,7.62,1.49,0.92,4.68,8.55,8.93,8.48,8.05,8.24,5.31,5.33,6.07,8.31,2.12,6.48,3.77,5.53,4.87,1.98,7.68,4.93,7.54,4.54,4.52,4.26,1.92,8.46,3.69,0.03],\"xaxis\":\"x\",\"y\":[8.0,7.62,1.49,0.92,4.68,8.55,8.93,8.48,8.05,8.24,5.31,5.33,6.07,8.31,2.12,6.48,3.77,5.53,4.87,1.98,7.68,4.93,7.54,4.54,4.52,4.26,1.92,8.46,3.69,0.03],\"yaxis\":\"y\",\"type\":\"scatter\"}],                        {\"template\":{\"data\":{\"histogram2dcontour\":[{\"type\":\"histogram2dcontour\",\"colorbar\":{\"outlinewidth\":0,\"ticks\":\"\"},\"colorscale\":[[0.0,\"#0d0887\"],[0.1111111111111111,\"#46039f\"],[0.2222222222222222,\"#7201a8\"],[0.3333333333333333,\"#9c179e\"],[0.4444444444444444,\"#bd3786\"],[0.5555555555555556,\"#d8576b\"],[0.6666666666666666,\"#ed7953\"],[0.7777777777777778,\"#fb9f3a\"],[0.8888888888888888,\"#fdca26\"],[1.0,\"#f0f921\"]]}],\"choropleth\":[{\"type\":\"choropleth\",\"colorbar\":{\"outlinewidth\":0,\"ticks\":\"\"}}],\"histogram2d\":[{\"type\":\"histogram2d\",\"colorbar\":{\"outlinewidth\":0,\"ticks\":\"\"},\"colorscale\":[[0.0,\"#0d0887\"],[0.1111111111111111,\"#46039f\"],[0.2222222222222222,\"#7201a8\"],[0.3333333333333333,\"#9c179e\"],[0.4444444444444444,\"#bd3786\"],[0.5555555555555556,\"#d8576b\"],[0.6666666666666666,\"#ed7953\"],[0.7777777777777778,\"#fb9f3a\"],[0.8888888888888888,\"#fdca26\"],[1.0,\"#f0f921\"]]}],\"heatmap\":[{\"type\":\"heatmap\",\"colorbar\":{\"outlinewidth\":0,\"ticks\":\"\"},\"colorscale\":[[0.0,\"#0d0887\"],[0.1111111111111111,\"#46039f\"],[0.2222222222222222,\"#7201a8\"],[0.3333333333333333,\"#9c179e\"],[0.4444444444444444,\"#bd3786\"],[0.5555555555555556,\"#d8576b\"],[0.6666666666666666,\"#ed7953\"],[0.7777777777777778,\"#fb9f3a\"],[0.8888888888888888,\"#fdca26\"],[1.0,\"#f0f921\"]]}],\"heatmapgl\":[{\"type\":\"heatmapgl\",\"colorbar\":{\"outlinewidth\":0,\"ticks\":\"\"},\"colorscale\":[[0.0,\"#0d0887\"],[0.1111111111111111,\"#46039f\"],[0.2222222222222222,\"#7201a8\"],[0.3333333333333333,\"#9c179e\"],[0.4444444444444444,\"#bd3786\"],[0.5555555555555556,\"#d8576b\"],[0.6666666666666666,\"#ed7953\"],[0.7777777777777778,\"#fb9f3a\"],[0.8888888888888888,\"#fdca26\"],[1.0,\"#f0f921\"]]}],\"contourcarpet\":[{\"type\":\"contourcarpet\",\"colorbar\":{\"outlinewidth\":0,\"ticks\":\"\"}}],\"contour\":[{\"type\":\"contour\",\"colorbar\":{\"outlinewidth\":0,\"ticks\":\"\"},\"colorscale\":[[0.0,\"#0d0887\"],[0.1111111111111111,\"#46039f\"],[0.2222222222222222,\"#7201a8\"],[0.3333333333333333,\"#9c179e\"],[0.4444444444444444,\"#bd3786\"],[0.5555555555555556,\"#d8576b\"],[0.6666666666666666,\"#ed7953\"],[0.7777777777777778,\"#fb9f3a\"],[0.8888888888888888,\"#fdca26\"],[1.0,\"#f0f921\"]]}],\"surface\":[{\"type\":\"surface\",\"colorbar\":{\"outlinewidth\":0,\"ticks\":\"\"},\"colorscale\":[[0.0,\"#0d0887\"],[0.1111111111111111,\"#46039f\"],[0.2222222222222222,\"#7201a8\"],[0.3333333333333333,\"#9c179e\"],[0.4444444444444444,\"#bd3786\"],[0.5555555555555556,\"#d8576b\"],[0.6666666666666666,\"#ed7953\"],[0.7777777777777778,\"#fb9f3a\"],[0.8888888888888888,\"#fdca26\"],[1.0,\"#f0f921\"]]}],\"mesh3d\":[{\"type\":\"mesh3d\",\"colorbar\":{\"outlinewidth\":0,\"ticks\":\"\"}}],\"scatter\":[{\"fillpattern\":{\"fillmode\":\"overlay\",\"size\":10,\"solidity\":0.2},\"type\":\"scatter\"}],\"parcoords\":[{\"type\":\"parcoords\",\"line\":{\"colorbar\":{\"outlinewidth\":0,\"ticks\":\"\"}}}],\"scatterpolargl\":[{\"type\":\"scatterpolargl\",\"marker\":{\"colorbar\":{\"outlinewidth\":0,\"ticks\":\"\"}}}],\"bar\":[{\"error_x\":{\"color\":\"#2a3f5f\"},\"error_y\":{\"color\":\"#2a3f5f\"},\"marker\":{\"line\":{\"color\":\"#E5ECF6\",\"width\":0.5},\"pattern\":{\"fillmode\":\"overlay\",\"size\":10,\"solidity\":0.2}},\"type\":\"bar\"}],\"scattergeo\":[{\"type\":\"scattergeo\",\"marker\":{\"colorbar\":{\"outlinewidth\":0,\"ticks\":\"\"}}}],\"scatterpolar\":[{\"type\":\"scatterpolar\",\"marker\":{\"colorbar\":{\"outlinewidth\":0,\"ticks\":\"\"}}}],\"histogram\":[{\"marker\":{\"pattern\":{\"fillmode\":\"overlay\",\"size\":10,\"solidity\":0.2}},\"type\":\"histogram\"}],\"scattergl\":[{\"type\":\"scattergl\",\"marker\":{\"colorbar\":{\"outlinewidth\":0,\"ticks\":\"\"}}}],\"scatter3d\":[{\"type\":\"scatter3d\",\"line\":{\"colorbar\":{\"outlinewidth\":0,\"ticks\":\"\"}},\"marker\":{\"colorbar\":{\"outlinewidth\":0,\"ticks\":\"\"}}}],\"scattermapbox\":[{\"type\":\"scattermapbox\",\"marker\":{\"colorbar\":{\"outlinewidth\":0,\"ticks\":\"\"}}}],\"scatterternary\":[{\"type\":\"scatterternary\",\"marker\":{\"colorbar\":{\"outlinewidth\":0,\"ticks\":\"\"}}}],\"scattercarpet\":[{\"type\":\"scattercarpet\",\"marker\":{\"colorbar\":{\"outlinewidth\":0,\"ticks\":\"\"}}}],\"carpet\":[{\"aaxis\":{\"endlinecolor\":\"#2a3f5f\",\"gridcolor\":\"white\",\"linecolor\":\"white\",\"minorgridcolor\":\"white\",\"startlinecolor\":\"#2a3f5f\"},\"baxis\":{\"endlinecolor\":\"#2a3f5f\",\"gridcolor\":\"white\",\"linecolor\":\"white\",\"minorgridcolor\":\"white\",\"startlinecolor\":\"#2a3f5f\"},\"type\":\"carpet\"}],\"table\":[{\"cells\":{\"fill\":{\"color\":\"#EBF0F8\"},\"line\":{\"color\":\"white\"}},\"header\":{\"fill\":{\"color\":\"#C8D4E3\"},\"line\":{\"color\":\"white\"}},\"type\":\"table\"}],\"barpolar\":[{\"marker\":{\"line\":{\"color\":\"#E5ECF6\",\"width\":0.5},\"pattern\":{\"fillmode\":\"overlay\",\"size\":10,\"solidity\":0.2}},\"type\":\"barpolar\"}],\"pie\":[{\"automargin\":true,\"type\":\"pie\"}]},\"layout\":{\"autotypenumbers\":\"strict\",\"colorway\":[\"#636efa\",\"#EF553B\",\"#00cc96\",\"#ab63fa\",\"#FFA15A\",\"#19d3f3\",\"#FF6692\",\"#B6E880\",\"#FF97FF\",\"#FECB52\"],\"font\":{\"color\":\"#2a3f5f\"},\"hovermode\":\"closest\",\"hoverlabel\":{\"align\":\"left\"},\"paper_bgcolor\":\"white\",\"plot_bgcolor\":\"#E5ECF6\",\"polar\":{\"bgcolor\":\"#E5ECF6\",\"angularaxis\":{\"gridcolor\":\"white\",\"linecolor\":\"white\",\"ticks\":\"\"},\"radialaxis\":{\"gridcolor\":\"white\",\"linecolor\":\"white\",\"ticks\":\"\"}},\"ternary\":{\"bgcolor\":\"#E5ECF6\",\"aaxis\":{\"gridcolor\":\"white\",\"linecolor\":\"white\",\"ticks\":\"\"},\"baxis\":{\"gridcolor\":\"white\",\"linecolor\":\"white\",\"ticks\":\"\"},\"caxis\":{\"gridcolor\":\"white\",\"linecolor\":\"white\",\"ticks\":\"\"}},\"coloraxis\":{\"colorbar\":{\"outlinewidth\":0,\"ticks\":\"\"}},\"colorscale\":{\"sequential\":[[0.0,\"#0d0887\"],[0.1111111111111111,\"#46039f\"],[0.2222222222222222,\"#7201a8\"],[0.3333333333333333,\"#9c179e\"],[0.4444444444444444,\"#bd3786\"],[0.5555555555555556,\"#d8576b\"],[0.6666666666666666,\"#ed7953\"],[0.7777777777777778,\"#fb9f3a\"],[0.8888888888888888,\"#fdca26\"],[1.0,\"#f0f921\"]],\"sequentialminus\":[[0.0,\"#0d0887\"],[0.1111111111111111,\"#46039f\"],[0.2222222222222222,\"#7201a8\"],[0.3333333333333333,\"#9c179e\"],[0.4444444444444444,\"#bd3786\"],[0.5555555555555556,\"#d8576b\"],[0.6666666666666666,\"#ed7953\"],[0.7777777777777778,\"#fb9f3a\"],[0.8888888888888888,\"#fdca26\"],[1.0,\"#f0f921\"]],\"diverging\":[[0,\"#8e0152\"],[0.1,\"#c51b7d\"],[0.2,\"#de77ae\"],[0.3,\"#f1b6da\"],[0.4,\"#fde0ef\"],[0.5,\"#f7f7f7\"],[0.6,\"#e6f5d0\"],[0.7,\"#b8e186\"],[0.8,\"#7fbc41\"],[0.9,\"#4d9221\"],[1,\"#276419\"]]},\"xaxis\":{\"gridcolor\":\"white\",\"linecolor\":\"white\",\"ticks\":\"\",\"title\":{\"standoff\":15},\"zerolinecolor\":\"white\",\"automargin\":true,\"zerolinewidth\":2},\"yaxis\":{\"gridcolor\":\"white\",\"linecolor\":\"white\",\"ticks\":\"\",\"title\":{\"standoff\":15},\"zerolinecolor\":\"white\",\"automargin\":true,\"zerolinewidth\":2},\"scene\":{\"xaxis\":{\"backgroundcolor\":\"#E5ECF6\",\"gridcolor\":\"white\",\"linecolor\":\"white\",\"showbackground\":true,\"ticks\":\"\",\"zerolinecolor\":\"white\",\"gridwidth\":2},\"yaxis\":{\"backgroundcolor\":\"#E5ECF6\",\"gridcolor\":\"white\",\"linecolor\":\"white\",\"showbackground\":true,\"ticks\":\"\",\"zerolinecolor\":\"white\",\"gridwidth\":2},\"zaxis\":{\"backgroundcolor\":\"#E5ECF6\",\"gridcolor\":\"white\",\"linecolor\":\"white\",\"showbackground\":true,\"ticks\":\"\",\"zerolinecolor\":\"white\",\"gridwidth\":2}},\"shapedefaults\":{\"line\":{\"color\":\"#2a3f5f\"}},\"annotationdefaults\":{\"arrowcolor\":\"#2a3f5f\",\"arrowhead\":0,\"arrowwidth\":1},\"geo\":{\"bgcolor\":\"white\",\"landcolor\":\"#E5ECF6\",\"subunitcolor\":\"white\",\"showland\":true,\"showlakes\":true,\"lakecolor\":\"white\"},\"title\":{\"x\":0.05},\"mapbox\":{\"style\":\"light\"}}},\"xaxis\":{\"anchor\":\"y\",\"domain\":[0.0,1.0],\"title\":{\"text\":\"a\"}},\"yaxis\":{\"anchor\":\"x\",\"domain\":[0.0,1.0],\"title\":{\"text\":\"b\"}},\"legend\":{\"title\":{\"text\":\"class\"},\"tracegroupgap\":0},\"margin\":{\"t\":60},\"height\":560,\"width\":560},                        {\"responsive\": true}                    ).then(function(){\n",
       "                            \n",
       "var gd = document.getElementById('368df8c8-12db-457e-aeb4-8fed5f55fc47');\n",
       "var x = new MutationObserver(function (mutations, observer) {{\n",
       "        var display = window.getComputedStyle(gd).display;\n",
       "        if (!display || display === 'none') {{\n",
       "            console.log([gd, 'removed!']);\n",
       "            Plotly.purge(gd);\n",
       "            observer.disconnect();\n",
       "        }}\n",
       "}});\n",
       "\n",
       "// Listen for the removal of the full notebook cells\n",
       "var notebookContainer = gd.closest('#notebook-container');\n",
       "if (notebookContainer) {{\n",
       "    x.observe(notebookContainer, {childList: true});\n",
       "}}\n",
       "\n",
       "// Listen for the clearing of the current output cell\n",
       "var outputEl = gd.closest('.output');\n",
       "if (outputEl) {{\n",
       "    x.observe(outputEl, {childList: true});\n",
       "}}\n",
       "\n",
       "                        })                };                });            </script>        </div>"
      ]
     },
     "metadata": {},
     "output_type": "display_data"
    }
   ],
   "source": [
    "fig = px.scatter(df, x='a',\n",
    "            y='b',\n",
    "            color='class',\n",
    "            height=560,\n",
    "            width=560,\n",
    "            )\n",
    "fig.show()"
   ]
  },
  {
   "cell_type": "code",
   "execution_count": 25,
   "metadata": {},
   "outputs": [
    {
     "name": "stdout",
     "output_type": "stream",
     "text": [
      "Rules original\n",
      "IF a = (-inf, 0.87) AND b = <0.31, inf) THEN class = {0} (p = 9.0, n = 0.0, P = 70.0, N = 30.0, weight = 1.0, pvalue = 0.03418801445376973)\n",
      "IF b = <0.28, 0.91) THEN class = {0} (p = 8.0, n = 0.0, P = 70.0, N = 30.0, weight = 1.0, pvalue = 0.05073060209269053)\n",
      "IF a = <1.78, inf) AND b = (-inf, 1.90) THEN class = {0} (p = 15.0, n = 0.0, P = 70.0, N = 30.0, weight = 1.0, pvalue = 0.0028478923418785848)\n",
      "IF a = <2.18, inf) AND b = (-inf, 3.68) THEN class = {0} (p = 28.0, n = 0.0, P = 70.0, N = 30.0, weight = 1.0, pvalue = 5.593956006088468e-06)\n",
      "IF a = (-inf, 3.66) AND b = <2.26, inf) THEN class = {0} (p = 26.0, n = 0.0, P = 70.0, N = 30.0, weight = 1.0, pvalue = 1.5971749653747414e-05)\n",
      "IF a = (-inf, 7.50) AND b = <6.63, inf) THEN class = {0} (p = 13.0, n = 0.0, P = 70.0, N = 30.0, weight = 1.0, pvalue = 0.006675416823914652)\n",
      "IF a = (-inf, 7.50) AND b = <2.26, inf) THEN class = {0} (p = 42.0, n = 13.0, P = 70.0, N = 30.0, weight = 0.7636363636363637, pvalue = 0.09423834247582358)\n",
      "IF a = <6.08, 8.03) THEN class = {0} (p = 18.0, n = 5.0, P = 70.0, N = 30.0, weight = 0.782608695652174, pvalue = 0.23719168666363422)\n",
      "IF a = <8.29, inf) AND b = <4.91, inf) THEN class = {1} (p = 5.0, n = 1.0, P = 30.0, N = 70.0, weight = 0.8333333333333334, pvalue = 0.008866384564973758)\n",
      "IF a = <7.61, inf) AND b = <6.51, 8.49) THEN class = {1} (p = 8.0, n = 2.0, P = 30.0, N = 70.0, weight = 0.8, pvalue = 0.0008761460578255296)\n",
      "IF a = <2.52, 5.71) AND b = <4.48, 4.99) THEN class = {1} (p = 5.0, n = 0.0, P = 30.0, N = 70.0, weight = 1.0, pvalue = 0.0018928236711741827)\n",
      "IF a = <4.62, 6.55) AND b = <4.65, 6.86) THEN class = {1} (p = 8.0, n = 0.0, P = 30.0, N = 70.0, weight = 1.0, pvalue = 3.145247584221805e-05)\n",
      "IF a = <1.97, 4.33) AND b = <1.90, 4.31) THEN class = {1} (p = 5.0, n = 8.0, P = 30.0, N = 70.0, weight = 0.38461538461538464, pvalue = 0.33890156493065987)\n",
      "IF a = <0.02, 8.33) AND b = (-inf, 8.32) THEN class = {1} (p = 26.0, n = 59.0, P = 30.0, N = 70.0, weight = 0.3058823529411765, pvalue = 0.5118083897220217)\n",
      "\n",
      "\n",
      "Complex rules\n",
      "IF a < b THEN class = {0} (p = 35.0, n = 0.0, P = 70.0, N = 30.0, weight = 1.0, pvalue = 1.0244693897544603e-07)\n",
      "IF a > b THEN class = {0} (p = 35.0, n = 0.0, P = 70.0, N = 30.0, weight = 1.0, pvalue = 1.0244693897544603e-07)\n",
      "IF a = b THEN class = {1} (p = 30.0, n = 0.0, P = 30.0, N = 70.0, weight = 1.0, pvalue = 3.4045636339269025e-26)\n",
      "\n",
      "\n",
      "Complex rules + inners alternatives\n",
      "IF #(a < b OR a = <0.07, 0.78) OR a = <0.07, 0.81) OR a = <0.07, 0.82) OR a = <0.07, 0.92) OR a = <2.18, 3.47)) THEN class = {0} (p = 41.0, n = 0.0, P = 70.0, N = 30.0, weight = 1.0, pvalue = 2.0131964678865517e-09)\n",
      "IF a > b THEN class = {0} (p = 35.0, n = 0.0, P = 70.0, N = 30.0, weight = 1.0, pvalue = 1.0244693897544603e-07)\n",
      "IF a = b THEN class = {1} (p = 30.0, n = 0.0, P = 30.0, N = 70.0, weight = 1.0, pvalue = 3.4045636339269025e-26)\n"
     ]
    }
   ],
   "source": [
    "X = df.drop(['class'], axis=1)\n",
    "y = df['class']\n",
    "\n",
    "clf_simple.fit(X, y)\n",
    "\n",
    "print(\"Rules original\")\n",
    "for rule in clf_simple.model.rules:\n",
    "    print(rule, rule.stats)\n",
    "\n",
    "print(\"\\n\\nComplex rules\")\n",
    "clf_complex.fit(X, y)\n",
    "for rule in clf_complex.model.rules:\n",
    "    print(rule, rule.stats)\n",
    "\n",
    "print(\"\\n\\nComplex rules + inners alternatives\")\n",
    "clf_complex_with_inners.fit(X, y)\n",
    "for rule in clf_complex_with_inners.model.rules:\n",
    "    print(rule, rule.stats)"
   ]
  },
  {
   "attachments": {},
   "cell_type": "markdown",
   "metadata": {},
   "source": [
    "# Nominalne"
   ]
  },
  {
   "attachments": {},
   "cell_type": "markdown",
   "metadata": {},
   "source": [
    "## a E {zbiór wartości}"
   ]
  },
  {
   "cell_type": "code",
   "execution_count": 26,
   "metadata": {},
   "outputs": [
    {
     "data": {
      "text/html": [
       "<div>\n",
       "<style scoped>\n",
       "    .dataframe tbody tr th:only-of-type {\n",
       "        vertical-align: middle;\n",
       "    }\n",
       "\n",
       "    .dataframe tbody tr th {\n",
       "        vertical-align: top;\n",
       "    }\n",
       "\n",
       "    .dataframe thead th {\n",
       "        text-align: right;\n",
       "    }\n",
       "</style>\n",
       "<table border=\"1\" class=\"dataframe\">\n",
       "  <thead>\n",
       "    <tr style=\"text-align: right;\">\n",
       "      <th></th>\n",
       "      <th>a</th>\n",
       "      <th>b</th>\n",
       "      <th>class</th>\n",
       "    </tr>\n",
       "  </thead>\n",
       "  <tbody>\n",
       "    <tr>\n",
       "      <th>0</th>\n",
       "      <td>medium</td>\n",
       "      <td>6.32</td>\n",
       "      <td>1</td>\n",
       "    </tr>\n",
       "    <tr>\n",
       "      <th>1</th>\n",
       "      <td>low</td>\n",
       "      <td>8.90</td>\n",
       "      <td>1</td>\n",
       "    </tr>\n",
       "    <tr>\n",
       "      <th>2</th>\n",
       "      <td>high</td>\n",
       "      <td>4.49</td>\n",
       "      <td>0</td>\n",
       "    </tr>\n",
       "    <tr>\n",
       "      <th>3</th>\n",
       "      <td>low</td>\n",
       "      <td>3.06</td>\n",
       "      <td>1</td>\n",
       "    </tr>\n",
       "    <tr>\n",
       "      <th>4</th>\n",
       "      <td>medium</td>\n",
       "      <td>2.02</td>\n",
       "      <td>1</td>\n",
       "    </tr>\n",
       "    <tr>\n",
       "      <th>...</th>\n",
       "      <td>...</td>\n",
       "      <td>...</td>\n",
       "      <td>...</td>\n",
       "    </tr>\n",
       "    <tr>\n",
       "      <th>95</th>\n",
       "      <td>medium</td>\n",
       "      <td>4.37</td>\n",
       "      <td>1</td>\n",
       "    </tr>\n",
       "    <tr>\n",
       "      <th>96</th>\n",
       "      <td>high</td>\n",
       "      <td>5.42</td>\n",
       "      <td>0</td>\n",
       "    </tr>\n",
       "    <tr>\n",
       "      <th>97</th>\n",
       "      <td>vhigh</td>\n",
       "      <td>1.30</td>\n",
       "      <td>0</td>\n",
       "    </tr>\n",
       "    <tr>\n",
       "      <th>98</th>\n",
       "      <td>high</td>\n",
       "      <td>1.73</td>\n",
       "      <td>0</td>\n",
       "    </tr>\n",
       "    <tr>\n",
       "      <th>99</th>\n",
       "      <td>high</td>\n",
       "      <td>2.88</td>\n",
       "      <td>0</td>\n",
       "    </tr>\n",
       "  </tbody>\n",
       "</table>\n",
       "<p>100 rows × 3 columns</p>\n",
       "</div>"
      ],
      "text/plain": [
       "         a     b class\n",
       "0   medium  6.32     1\n",
       "1      low  8.90     1\n",
       "2     high  4.49     0\n",
       "3      low  3.06     1\n",
       "4   medium  2.02     1\n",
       "..     ...   ...   ...\n",
       "95  medium  4.37     1\n",
       "96    high  5.42     0\n",
       "97   vhigh  1.30     0\n",
       "98    high  1.73     0\n",
       "99    high  2.88     0\n",
       "\n",
       "[100 rows x 3 columns]"
      ]
     },
     "execution_count": 26,
     "metadata": {},
     "output_type": "execute_result"
    }
   ],
   "source": [
    "df = pd.DataFrame(columns=[\"a\", \"b\", \"class\"], index = [i for i in range(0,100)])\n",
    "\n",
    "\n",
    "a = [random.randint(0, 3) for i in range(100)]\n",
    "b = [round(random.uniform(0, 9),2) for i in range(100)]\n",
    "\n",
    "\n",
    "df[\"a\"] = a\n",
    "df[\"b\"] = b\n",
    "\n",
    "df = df.replace({'a': {0: \"low\", 1: \"medium\", 2: \"high\", 3: \"vhigh\"}})\n",
    "df.loc[(df[\"a\"] == \"low\") | (df[\"a\"] == \"medium\"),\"class\"] = \"1\"\n",
    "df = df.fillna(\"0\")\n",
    "df"
   ]
  },
  {
   "cell_type": "code",
   "execution_count": 27,
   "metadata": {},
   "outputs": [
    {
     "data": {
      "application/vnd.plotly.v1+json": {
       "config": {
        "plotlyServerURL": "https://plot.ly"
       },
       "data": [
        {
         "hovertemplate": "class=1<br>a=%{x}<br>b=%{y}<extra></extra>",
         "legendgroup": "1",
         "marker": {
          "color": "#636efa",
          "symbol": "circle"
         },
         "mode": "markers",
         "name": "1",
         "orientation": "v",
         "showlegend": true,
         "type": "scatter",
         "x": [
          "medium",
          "low",
          "low",
          "medium",
          "low",
          "medium",
          "low",
          "medium",
          "low",
          "medium",
          "low",
          "medium",
          "low",
          "low",
          "low",
          "medium",
          "medium",
          "low",
          "medium",
          "low",
          "low",
          "low",
          "low",
          "low",
          "low",
          "medium",
          "low",
          "medium",
          "medium",
          "low",
          "low",
          "medium",
          "low",
          "medium",
          "low",
          "medium",
          "low",
          "low",
          "medium",
          "medium",
          "medium",
          "medium",
          "medium"
         ],
         "xaxis": "x",
         "y": [
          6.32,
          8.9,
          3.06,
          2.02,
          6.04,
          2.31,
          7.84,
          4.46,
          8.65,
          4.83,
          3.87,
          1.45,
          7.34,
          2.98,
          1.76,
          4.47,
          7.28,
          5.66,
          0.48,
          1.15,
          5.85,
          6.26,
          0.35,
          4.16,
          7.7,
          8.21,
          8.8,
          3.11,
          2.1,
          5.09,
          1.51,
          6.05,
          8.98,
          1.64,
          0.6,
          6.82,
          7.55,
          4.51,
          7.29,
          2.63,
          0.36,
          2.05,
          4.37
         ],
         "yaxis": "y"
        },
        {
         "hovertemplate": "class=0<br>a=%{x}<br>b=%{y}<extra></extra>",
         "legendgroup": "0",
         "marker": {
          "color": "#EF553B",
          "symbol": "circle"
         },
         "mode": "markers",
         "name": "0",
         "orientation": "v",
         "showlegend": true,
         "type": "scatter",
         "x": [
          "high",
          "vhigh",
          "high",
          "vhigh",
          "vhigh",
          "vhigh",
          "vhigh",
          "high",
          "high",
          "vhigh",
          "high",
          "high",
          "high",
          "vhigh",
          "high",
          "vhigh",
          "vhigh",
          "high",
          "vhigh",
          "high",
          "vhigh",
          "vhigh",
          "high",
          "high",
          "vhigh",
          "high",
          "high",
          "high",
          "vhigh",
          "high",
          "vhigh",
          "vhigh",
          "high",
          "vhigh",
          "high",
          "high",
          "high",
          "high",
          "vhigh",
          "vhigh",
          "vhigh",
          "vhigh",
          "vhigh",
          "vhigh",
          "high",
          "vhigh",
          "vhigh",
          "vhigh",
          "high",
          "vhigh",
          "vhigh",
          "vhigh",
          "vhigh",
          "high",
          "vhigh",
          "high",
          "high"
         ],
         "xaxis": "x",
         "y": [
          4.49,
          5.83,
          3.76,
          6.23,
          3.13,
          5.96,
          7.07,
          2.78,
          8.41,
          0.47,
          1.39,
          5.25,
          4.95,
          5.04,
          3.2,
          1.32,
          2.6,
          0.25,
          1.52,
          0.26,
          5.93,
          1.89,
          5.23,
          1.52,
          3.14,
          0.87,
          0.14,
          4.36,
          5.73,
          3.05,
          4.49,
          8.33,
          4.28,
          2.53,
          0.75,
          8.2,
          2.39,
          3.78,
          1.28,
          2.07,
          2.08,
          7.04,
          6.88,
          7.34,
          4.44,
          8.4,
          5.67,
          0.67,
          4.27,
          2.38,
          7.93,
          0.25,
          8.7,
          5.42,
          1.3,
          1.73,
          2.88
         ],
         "yaxis": "y"
        }
       ],
       "layout": {
        "height": 560,
        "legend": {
         "title": {
          "text": "class"
         },
         "tracegroupgap": 0
        },
        "margin": {
         "t": 60
        },
        "template": {
         "data": {
          "bar": [
           {
            "error_x": {
             "color": "#2a3f5f"
            },
            "error_y": {
             "color": "#2a3f5f"
            },
            "marker": {
             "line": {
              "color": "#E5ECF6",
              "width": 0.5
             },
             "pattern": {
              "fillmode": "overlay",
              "size": 10,
              "solidity": 0.2
             }
            },
            "type": "bar"
           }
          ],
          "barpolar": [
           {
            "marker": {
             "line": {
              "color": "#E5ECF6",
              "width": 0.5
             },
             "pattern": {
              "fillmode": "overlay",
              "size": 10,
              "solidity": 0.2
             }
            },
            "type": "barpolar"
           }
          ],
          "carpet": [
           {
            "aaxis": {
             "endlinecolor": "#2a3f5f",
             "gridcolor": "white",
             "linecolor": "white",
             "minorgridcolor": "white",
             "startlinecolor": "#2a3f5f"
            },
            "baxis": {
             "endlinecolor": "#2a3f5f",
             "gridcolor": "white",
             "linecolor": "white",
             "minorgridcolor": "white",
             "startlinecolor": "#2a3f5f"
            },
            "type": "carpet"
           }
          ],
          "choropleth": [
           {
            "colorbar": {
             "outlinewidth": 0,
             "ticks": ""
            },
            "type": "choropleth"
           }
          ],
          "contour": [
           {
            "colorbar": {
             "outlinewidth": 0,
             "ticks": ""
            },
            "colorscale": [
             [
              0,
              "#0d0887"
             ],
             [
              0.1111111111111111,
              "#46039f"
             ],
             [
              0.2222222222222222,
              "#7201a8"
             ],
             [
              0.3333333333333333,
              "#9c179e"
             ],
             [
              0.4444444444444444,
              "#bd3786"
             ],
             [
              0.5555555555555556,
              "#d8576b"
             ],
             [
              0.6666666666666666,
              "#ed7953"
             ],
             [
              0.7777777777777778,
              "#fb9f3a"
             ],
             [
              0.8888888888888888,
              "#fdca26"
             ],
             [
              1,
              "#f0f921"
             ]
            ],
            "type": "contour"
           }
          ],
          "contourcarpet": [
           {
            "colorbar": {
             "outlinewidth": 0,
             "ticks": ""
            },
            "type": "contourcarpet"
           }
          ],
          "heatmap": [
           {
            "colorbar": {
             "outlinewidth": 0,
             "ticks": ""
            },
            "colorscale": [
             [
              0,
              "#0d0887"
             ],
             [
              0.1111111111111111,
              "#46039f"
             ],
             [
              0.2222222222222222,
              "#7201a8"
             ],
             [
              0.3333333333333333,
              "#9c179e"
             ],
             [
              0.4444444444444444,
              "#bd3786"
             ],
             [
              0.5555555555555556,
              "#d8576b"
             ],
             [
              0.6666666666666666,
              "#ed7953"
             ],
             [
              0.7777777777777778,
              "#fb9f3a"
             ],
             [
              0.8888888888888888,
              "#fdca26"
             ],
             [
              1,
              "#f0f921"
             ]
            ],
            "type": "heatmap"
           }
          ],
          "heatmapgl": [
           {
            "colorbar": {
             "outlinewidth": 0,
             "ticks": ""
            },
            "colorscale": [
             [
              0,
              "#0d0887"
             ],
             [
              0.1111111111111111,
              "#46039f"
             ],
             [
              0.2222222222222222,
              "#7201a8"
             ],
             [
              0.3333333333333333,
              "#9c179e"
             ],
             [
              0.4444444444444444,
              "#bd3786"
             ],
             [
              0.5555555555555556,
              "#d8576b"
             ],
             [
              0.6666666666666666,
              "#ed7953"
             ],
             [
              0.7777777777777778,
              "#fb9f3a"
             ],
             [
              0.8888888888888888,
              "#fdca26"
             ],
             [
              1,
              "#f0f921"
             ]
            ],
            "type": "heatmapgl"
           }
          ],
          "histogram": [
           {
            "marker": {
             "pattern": {
              "fillmode": "overlay",
              "size": 10,
              "solidity": 0.2
             }
            },
            "type": "histogram"
           }
          ],
          "histogram2d": [
           {
            "colorbar": {
             "outlinewidth": 0,
             "ticks": ""
            },
            "colorscale": [
             [
              0,
              "#0d0887"
             ],
             [
              0.1111111111111111,
              "#46039f"
             ],
             [
              0.2222222222222222,
              "#7201a8"
             ],
             [
              0.3333333333333333,
              "#9c179e"
             ],
             [
              0.4444444444444444,
              "#bd3786"
             ],
             [
              0.5555555555555556,
              "#d8576b"
             ],
             [
              0.6666666666666666,
              "#ed7953"
             ],
             [
              0.7777777777777778,
              "#fb9f3a"
             ],
             [
              0.8888888888888888,
              "#fdca26"
             ],
             [
              1,
              "#f0f921"
             ]
            ],
            "type": "histogram2d"
           }
          ],
          "histogram2dcontour": [
           {
            "colorbar": {
             "outlinewidth": 0,
             "ticks": ""
            },
            "colorscale": [
             [
              0,
              "#0d0887"
             ],
             [
              0.1111111111111111,
              "#46039f"
             ],
             [
              0.2222222222222222,
              "#7201a8"
             ],
             [
              0.3333333333333333,
              "#9c179e"
             ],
             [
              0.4444444444444444,
              "#bd3786"
             ],
             [
              0.5555555555555556,
              "#d8576b"
             ],
             [
              0.6666666666666666,
              "#ed7953"
             ],
             [
              0.7777777777777778,
              "#fb9f3a"
             ],
             [
              0.8888888888888888,
              "#fdca26"
             ],
             [
              1,
              "#f0f921"
             ]
            ],
            "type": "histogram2dcontour"
           }
          ],
          "mesh3d": [
           {
            "colorbar": {
             "outlinewidth": 0,
             "ticks": ""
            },
            "type": "mesh3d"
           }
          ],
          "parcoords": [
           {
            "line": {
             "colorbar": {
              "outlinewidth": 0,
              "ticks": ""
             }
            },
            "type": "parcoords"
           }
          ],
          "pie": [
           {
            "automargin": true,
            "type": "pie"
           }
          ],
          "scatter": [
           {
            "fillpattern": {
             "fillmode": "overlay",
             "size": 10,
             "solidity": 0.2
            },
            "type": "scatter"
           }
          ],
          "scatter3d": [
           {
            "line": {
             "colorbar": {
              "outlinewidth": 0,
              "ticks": ""
             }
            },
            "marker": {
             "colorbar": {
              "outlinewidth": 0,
              "ticks": ""
             }
            },
            "type": "scatter3d"
           }
          ],
          "scattercarpet": [
           {
            "marker": {
             "colorbar": {
              "outlinewidth": 0,
              "ticks": ""
             }
            },
            "type": "scattercarpet"
           }
          ],
          "scattergeo": [
           {
            "marker": {
             "colorbar": {
              "outlinewidth": 0,
              "ticks": ""
             }
            },
            "type": "scattergeo"
           }
          ],
          "scattergl": [
           {
            "marker": {
             "colorbar": {
              "outlinewidth": 0,
              "ticks": ""
             }
            },
            "type": "scattergl"
           }
          ],
          "scattermapbox": [
           {
            "marker": {
             "colorbar": {
              "outlinewidth": 0,
              "ticks": ""
             }
            },
            "type": "scattermapbox"
           }
          ],
          "scatterpolar": [
           {
            "marker": {
             "colorbar": {
              "outlinewidth": 0,
              "ticks": ""
             }
            },
            "type": "scatterpolar"
           }
          ],
          "scatterpolargl": [
           {
            "marker": {
             "colorbar": {
              "outlinewidth": 0,
              "ticks": ""
             }
            },
            "type": "scatterpolargl"
           }
          ],
          "scatterternary": [
           {
            "marker": {
             "colorbar": {
              "outlinewidth": 0,
              "ticks": ""
             }
            },
            "type": "scatterternary"
           }
          ],
          "surface": [
           {
            "colorbar": {
             "outlinewidth": 0,
             "ticks": ""
            },
            "colorscale": [
             [
              0,
              "#0d0887"
             ],
             [
              0.1111111111111111,
              "#46039f"
             ],
             [
              0.2222222222222222,
              "#7201a8"
             ],
             [
              0.3333333333333333,
              "#9c179e"
             ],
             [
              0.4444444444444444,
              "#bd3786"
             ],
             [
              0.5555555555555556,
              "#d8576b"
             ],
             [
              0.6666666666666666,
              "#ed7953"
             ],
             [
              0.7777777777777778,
              "#fb9f3a"
             ],
             [
              0.8888888888888888,
              "#fdca26"
             ],
             [
              1,
              "#f0f921"
             ]
            ],
            "type": "surface"
           }
          ],
          "table": [
           {
            "cells": {
             "fill": {
              "color": "#EBF0F8"
             },
             "line": {
              "color": "white"
             }
            },
            "header": {
             "fill": {
              "color": "#C8D4E3"
             },
             "line": {
              "color": "white"
             }
            },
            "type": "table"
           }
          ]
         },
         "layout": {
          "annotationdefaults": {
           "arrowcolor": "#2a3f5f",
           "arrowhead": 0,
           "arrowwidth": 1
          },
          "autotypenumbers": "strict",
          "coloraxis": {
           "colorbar": {
            "outlinewidth": 0,
            "ticks": ""
           }
          },
          "colorscale": {
           "diverging": [
            [
             0,
             "#8e0152"
            ],
            [
             0.1,
             "#c51b7d"
            ],
            [
             0.2,
             "#de77ae"
            ],
            [
             0.3,
             "#f1b6da"
            ],
            [
             0.4,
             "#fde0ef"
            ],
            [
             0.5,
             "#f7f7f7"
            ],
            [
             0.6,
             "#e6f5d0"
            ],
            [
             0.7,
             "#b8e186"
            ],
            [
             0.8,
             "#7fbc41"
            ],
            [
             0.9,
             "#4d9221"
            ],
            [
             1,
             "#276419"
            ]
           ],
           "sequential": [
            [
             0,
             "#0d0887"
            ],
            [
             0.1111111111111111,
             "#46039f"
            ],
            [
             0.2222222222222222,
             "#7201a8"
            ],
            [
             0.3333333333333333,
             "#9c179e"
            ],
            [
             0.4444444444444444,
             "#bd3786"
            ],
            [
             0.5555555555555556,
             "#d8576b"
            ],
            [
             0.6666666666666666,
             "#ed7953"
            ],
            [
             0.7777777777777778,
             "#fb9f3a"
            ],
            [
             0.8888888888888888,
             "#fdca26"
            ],
            [
             1,
             "#f0f921"
            ]
           ],
           "sequentialminus": [
            [
             0,
             "#0d0887"
            ],
            [
             0.1111111111111111,
             "#46039f"
            ],
            [
             0.2222222222222222,
             "#7201a8"
            ],
            [
             0.3333333333333333,
             "#9c179e"
            ],
            [
             0.4444444444444444,
             "#bd3786"
            ],
            [
             0.5555555555555556,
             "#d8576b"
            ],
            [
             0.6666666666666666,
             "#ed7953"
            ],
            [
             0.7777777777777778,
             "#fb9f3a"
            ],
            [
             0.8888888888888888,
             "#fdca26"
            ],
            [
             1,
             "#f0f921"
            ]
           ]
          },
          "colorway": [
           "#636efa",
           "#EF553B",
           "#00cc96",
           "#ab63fa",
           "#FFA15A",
           "#19d3f3",
           "#FF6692",
           "#B6E880",
           "#FF97FF",
           "#FECB52"
          ],
          "font": {
           "color": "#2a3f5f"
          },
          "geo": {
           "bgcolor": "white",
           "lakecolor": "white",
           "landcolor": "#E5ECF6",
           "showlakes": true,
           "showland": true,
           "subunitcolor": "white"
          },
          "hoverlabel": {
           "align": "left"
          },
          "hovermode": "closest",
          "mapbox": {
           "style": "light"
          },
          "paper_bgcolor": "white",
          "plot_bgcolor": "#E5ECF6",
          "polar": {
           "angularaxis": {
            "gridcolor": "white",
            "linecolor": "white",
            "ticks": ""
           },
           "bgcolor": "#E5ECF6",
           "radialaxis": {
            "gridcolor": "white",
            "linecolor": "white",
            "ticks": ""
           }
          },
          "scene": {
           "xaxis": {
            "backgroundcolor": "#E5ECF6",
            "gridcolor": "white",
            "gridwidth": 2,
            "linecolor": "white",
            "showbackground": true,
            "ticks": "",
            "zerolinecolor": "white"
           },
           "yaxis": {
            "backgroundcolor": "#E5ECF6",
            "gridcolor": "white",
            "gridwidth": 2,
            "linecolor": "white",
            "showbackground": true,
            "ticks": "",
            "zerolinecolor": "white"
           },
           "zaxis": {
            "backgroundcolor": "#E5ECF6",
            "gridcolor": "white",
            "gridwidth": 2,
            "linecolor": "white",
            "showbackground": true,
            "ticks": "",
            "zerolinecolor": "white"
           }
          },
          "shapedefaults": {
           "line": {
            "color": "#2a3f5f"
           }
          },
          "ternary": {
           "aaxis": {
            "gridcolor": "white",
            "linecolor": "white",
            "ticks": ""
           },
           "baxis": {
            "gridcolor": "white",
            "linecolor": "white",
            "ticks": ""
           },
           "bgcolor": "#E5ECF6",
           "caxis": {
            "gridcolor": "white",
            "linecolor": "white",
            "ticks": ""
           }
          },
          "title": {
           "x": 0.05
          },
          "xaxis": {
           "automargin": true,
           "gridcolor": "white",
           "linecolor": "white",
           "ticks": "",
           "title": {
            "standoff": 15
           },
           "zerolinecolor": "white",
           "zerolinewidth": 2
          },
          "yaxis": {
           "automargin": true,
           "gridcolor": "white",
           "linecolor": "white",
           "ticks": "",
           "title": {
            "standoff": 15
           },
           "zerolinecolor": "white",
           "zerolinewidth": 2
          }
         }
        },
        "width": 560,
        "xaxis": {
         "anchor": "y",
         "domain": [
          0,
          1
         ],
         "title": {
          "text": "a"
         }
        },
        "yaxis": {
         "anchor": "x",
         "domain": [
          0,
          1
         ],
         "title": {
          "text": "b"
         }
        }
       }
      },
      "text/html": [
       "<div>                            <div id=\"d199bd99-d0f8-4687-84b4-18de290af239\" class=\"plotly-graph-div\" style=\"height:560px; width:560px;\"></div>            <script type=\"text/javascript\">                require([\"plotly\"], function(Plotly) {                    window.PLOTLYENV=window.PLOTLYENV || {};                                    if (document.getElementById(\"d199bd99-d0f8-4687-84b4-18de290af239\")) {                    Plotly.newPlot(                        \"d199bd99-d0f8-4687-84b4-18de290af239\",                        [{\"hovertemplate\":\"class=1<br>a=%{x}<br>b=%{y}<extra></extra>\",\"legendgroup\":\"1\",\"marker\":{\"color\":\"#636efa\",\"symbol\":\"circle\"},\"mode\":\"markers\",\"name\":\"1\",\"orientation\":\"v\",\"showlegend\":true,\"x\":[\"medium\",\"low\",\"low\",\"medium\",\"low\",\"medium\",\"low\",\"medium\",\"low\",\"medium\",\"low\",\"medium\",\"low\",\"low\",\"low\",\"medium\",\"medium\",\"low\",\"medium\",\"low\",\"low\",\"low\",\"low\",\"low\",\"low\",\"medium\",\"low\",\"medium\",\"medium\",\"low\",\"low\",\"medium\",\"low\",\"medium\",\"low\",\"medium\",\"low\",\"low\",\"medium\",\"medium\",\"medium\",\"medium\",\"medium\"],\"xaxis\":\"x\",\"y\":[6.32,8.9,3.06,2.02,6.04,2.31,7.84,4.46,8.65,4.83,3.87,1.45,7.34,2.98,1.76,4.47,7.28,5.66,0.48,1.15,5.85,6.26,0.35,4.16,7.7,8.21,8.8,3.11,2.1,5.09,1.51,6.05,8.98,1.64,0.6,6.82,7.55,4.51,7.29,2.63,0.36,2.05,4.37],\"yaxis\":\"y\",\"type\":\"scatter\"},{\"hovertemplate\":\"class=0<br>a=%{x}<br>b=%{y}<extra></extra>\",\"legendgroup\":\"0\",\"marker\":{\"color\":\"#EF553B\",\"symbol\":\"circle\"},\"mode\":\"markers\",\"name\":\"0\",\"orientation\":\"v\",\"showlegend\":true,\"x\":[\"high\",\"vhigh\",\"high\",\"vhigh\",\"vhigh\",\"vhigh\",\"vhigh\",\"high\",\"high\",\"vhigh\",\"high\",\"high\",\"high\",\"vhigh\",\"high\",\"vhigh\",\"vhigh\",\"high\",\"vhigh\",\"high\",\"vhigh\",\"vhigh\",\"high\",\"high\",\"vhigh\",\"high\",\"high\",\"high\",\"vhigh\",\"high\",\"vhigh\",\"vhigh\",\"high\",\"vhigh\",\"high\",\"high\",\"high\",\"high\",\"vhigh\",\"vhigh\",\"vhigh\",\"vhigh\",\"vhigh\",\"vhigh\",\"high\",\"vhigh\",\"vhigh\",\"vhigh\",\"high\",\"vhigh\",\"vhigh\",\"vhigh\",\"vhigh\",\"high\",\"vhigh\",\"high\",\"high\"],\"xaxis\":\"x\",\"y\":[4.49,5.83,3.76,6.23,3.13,5.96,7.07,2.78,8.41,0.47,1.39,5.25,4.95,5.04,3.2,1.32,2.6,0.25,1.52,0.26,5.93,1.89,5.23,1.52,3.14,0.87,0.14,4.36,5.73,3.05,4.49,8.33,4.28,2.53,0.75,8.2,2.39,3.78,1.28,2.07,2.08,7.04,6.88,7.34,4.44,8.4,5.67,0.67,4.27,2.38,7.93,0.25,8.7,5.42,1.3,1.73,2.88],\"yaxis\":\"y\",\"type\":\"scatter\"}],                        {\"template\":{\"data\":{\"histogram2dcontour\":[{\"type\":\"histogram2dcontour\",\"colorbar\":{\"outlinewidth\":0,\"ticks\":\"\"},\"colorscale\":[[0.0,\"#0d0887\"],[0.1111111111111111,\"#46039f\"],[0.2222222222222222,\"#7201a8\"],[0.3333333333333333,\"#9c179e\"],[0.4444444444444444,\"#bd3786\"],[0.5555555555555556,\"#d8576b\"],[0.6666666666666666,\"#ed7953\"],[0.7777777777777778,\"#fb9f3a\"],[0.8888888888888888,\"#fdca26\"],[1.0,\"#f0f921\"]]}],\"choropleth\":[{\"type\":\"choropleth\",\"colorbar\":{\"outlinewidth\":0,\"ticks\":\"\"}}],\"histogram2d\":[{\"type\":\"histogram2d\",\"colorbar\":{\"outlinewidth\":0,\"ticks\":\"\"},\"colorscale\":[[0.0,\"#0d0887\"],[0.1111111111111111,\"#46039f\"],[0.2222222222222222,\"#7201a8\"],[0.3333333333333333,\"#9c179e\"],[0.4444444444444444,\"#bd3786\"],[0.5555555555555556,\"#d8576b\"],[0.6666666666666666,\"#ed7953\"],[0.7777777777777778,\"#fb9f3a\"],[0.8888888888888888,\"#fdca26\"],[1.0,\"#f0f921\"]]}],\"heatmap\":[{\"type\":\"heatmap\",\"colorbar\":{\"outlinewidth\":0,\"ticks\":\"\"},\"colorscale\":[[0.0,\"#0d0887\"],[0.1111111111111111,\"#46039f\"],[0.2222222222222222,\"#7201a8\"],[0.3333333333333333,\"#9c179e\"],[0.4444444444444444,\"#bd3786\"],[0.5555555555555556,\"#d8576b\"],[0.6666666666666666,\"#ed7953\"],[0.7777777777777778,\"#fb9f3a\"],[0.8888888888888888,\"#fdca26\"],[1.0,\"#f0f921\"]]}],\"heatmapgl\":[{\"type\":\"heatmapgl\",\"colorbar\":{\"outlinewidth\":0,\"ticks\":\"\"},\"colorscale\":[[0.0,\"#0d0887\"],[0.1111111111111111,\"#46039f\"],[0.2222222222222222,\"#7201a8\"],[0.3333333333333333,\"#9c179e\"],[0.4444444444444444,\"#bd3786\"],[0.5555555555555556,\"#d8576b\"],[0.6666666666666666,\"#ed7953\"],[0.7777777777777778,\"#fb9f3a\"],[0.8888888888888888,\"#fdca26\"],[1.0,\"#f0f921\"]]}],\"contourcarpet\":[{\"type\":\"contourcarpet\",\"colorbar\":{\"outlinewidth\":0,\"ticks\":\"\"}}],\"contour\":[{\"type\":\"contour\",\"colorbar\":{\"outlinewidth\":0,\"ticks\":\"\"},\"colorscale\":[[0.0,\"#0d0887\"],[0.1111111111111111,\"#46039f\"],[0.2222222222222222,\"#7201a8\"],[0.3333333333333333,\"#9c179e\"],[0.4444444444444444,\"#bd3786\"],[0.5555555555555556,\"#d8576b\"],[0.6666666666666666,\"#ed7953\"],[0.7777777777777778,\"#fb9f3a\"],[0.8888888888888888,\"#fdca26\"],[1.0,\"#f0f921\"]]}],\"surface\":[{\"type\":\"surface\",\"colorbar\":{\"outlinewidth\":0,\"ticks\":\"\"},\"colorscale\":[[0.0,\"#0d0887\"],[0.1111111111111111,\"#46039f\"],[0.2222222222222222,\"#7201a8\"],[0.3333333333333333,\"#9c179e\"],[0.4444444444444444,\"#bd3786\"],[0.5555555555555556,\"#d8576b\"],[0.6666666666666666,\"#ed7953\"],[0.7777777777777778,\"#fb9f3a\"],[0.8888888888888888,\"#fdca26\"],[1.0,\"#f0f921\"]]}],\"mesh3d\":[{\"type\":\"mesh3d\",\"colorbar\":{\"outlinewidth\":0,\"ticks\":\"\"}}],\"scatter\":[{\"fillpattern\":{\"fillmode\":\"overlay\",\"size\":10,\"solidity\":0.2},\"type\":\"scatter\"}],\"parcoords\":[{\"type\":\"parcoords\",\"line\":{\"colorbar\":{\"outlinewidth\":0,\"ticks\":\"\"}}}],\"scatterpolargl\":[{\"type\":\"scatterpolargl\",\"marker\":{\"colorbar\":{\"outlinewidth\":0,\"ticks\":\"\"}}}],\"bar\":[{\"error_x\":{\"color\":\"#2a3f5f\"},\"error_y\":{\"color\":\"#2a3f5f\"},\"marker\":{\"line\":{\"color\":\"#E5ECF6\",\"width\":0.5},\"pattern\":{\"fillmode\":\"overlay\",\"size\":10,\"solidity\":0.2}},\"type\":\"bar\"}],\"scattergeo\":[{\"type\":\"scattergeo\",\"marker\":{\"colorbar\":{\"outlinewidth\":0,\"ticks\":\"\"}}}],\"scatterpolar\":[{\"type\":\"scatterpolar\",\"marker\":{\"colorbar\":{\"outlinewidth\":0,\"ticks\":\"\"}}}],\"histogram\":[{\"marker\":{\"pattern\":{\"fillmode\":\"overlay\",\"size\":10,\"solidity\":0.2}},\"type\":\"histogram\"}],\"scattergl\":[{\"type\":\"scattergl\",\"marker\":{\"colorbar\":{\"outlinewidth\":0,\"ticks\":\"\"}}}],\"scatter3d\":[{\"type\":\"scatter3d\",\"line\":{\"colorbar\":{\"outlinewidth\":0,\"ticks\":\"\"}},\"marker\":{\"colorbar\":{\"outlinewidth\":0,\"ticks\":\"\"}}}],\"scattermapbox\":[{\"type\":\"scattermapbox\",\"marker\":{\"colorbar\":{\"outlinewidth\":0,\"ticks\":\"\"}}}],\"scatterternary\":[{\"type\":\"scatterternary\",\"marker\":{\"colorbar\":{\"outlinewidth\":0,\"ticks\":\"\"}}}],\"scattercarpet\":[{\"type\":\"scattercarpet\",\"marker\":{\"colorbar\":{\"outlinewidth\":0,\"ticks\":\"\"}}}],\"carpet\":[{\"aaxis\":{\"endlinecolor\":\"#2a3f5f\",\"gridcolor\":\"white\",\"linecolor\":\"white\",\"minorgridcolor\":\"white\",\"startlinecolor\":\"#2a3f5f\"},\"baxis\":{\"endlinecolor\":\"#2a3f5f\",\"gridcolor\":\"white\",\"linecolor\":\"white\",\"minorgridcolor\":\"white\",\"startlinecolor\":\"#2a3f5f\"},\"type\":\"carpet\"}],\"table\":[{\"cells\":{\"fill\":{\"color\":\"#EBF0F8\"},\"line\":{\"color\":\"white\"}},\"header\":{\"fill\":{\"color\":\"#C8D4E3\"},\"line\":{\"color\":\"white\"}},\"type\":\"table\"}],\"barpolar\":[{\"marker\":{\"line\":{\"color\":\"#E5ECF6\",\"width\":0.5},\"pattern\":{\"fillmode\":\"overlay\",\"size\":10,\"solidity\":0.2}},\"type\":\"barpolar\"}],\"pie\":[{\"automargin\":true,\"type\":\"pie\"}]},\"layout\":{\"autotypenumbers\":\"strict\",\"colorway\":[\"#636efa\",\"#EF553B\",\"#00cc96\",\"#ab63fa\",\"#FFA15A\",\"#19d3f3\",\"#FF6692\",\"#B6E880\",\"#FF97FF\",\"#FECB52\"],\"font\":{\"color\":\"#2a3f5f\"},\"hovermode\":\"closest\",\"hoverlabel\":{\"align\":\"left\"},\"paper_bgcolor\":\"white\",\"plot_bgcolor\":\"#E5ECF6\",\"polar\":{\"bgcolor\":\"#E5ECF6\",\"angularaxis\":{\"gridcolor\":\"white\",\"linecolor\":\"white\",\"ticks\":\"\"},\"radialaxis\":{\"gridcolor\":\"white\",\"linecolor\":\"white\",\"ticks\":\"\"}},\"ternary\":{\"bgcolor\":\"#E5ECF6\",\"aaxis\":{\"gridcolor\":\"white\",\"linecolor\":\"white\",\"ticks\":\"\"},\"baxis\":{\"gridcolor\":\"white\",\"linecolor\":\"white\",\"ticks\":\"\"},\"caxis\":{\"gridcolor\":\"white\",\"linecolor\":\"white\",\"ticks\":\"\"}},\"coloraxis\":{\"colorbar\":{\"outlinewidth\":0,\"ticks\":\"\"}},\"colorscale\":{\"sequential\":[[0.0,\"#0d0887\"],[0.1111111111111111,\"#46039f\"],[0.2222222222222222,\"#7201a8\"],[0.3333333333333333,\"#9c179e\"],[0.4444444444444444,\"#bd3786\"],[0.5555555555555556,\"#d8576b\"],[0.6666666666666666,\"#ed7953\"],[0.7777777777777778,\"#fb9f3a\"],[0.8888888888888888,\"#fdca26\"],[1.0,\"#f0f921\"]],\"sequentialminus\":[[0.0,\"#0d0887\"],[0.1111111111111111,\"#46039f\"],[0.2222222222222222,\"#7201a8\"],[0.3333333333333333,\"#9c179e\"],[0.4444444444444444,\"#bd3786\"],[0.5555555555555556,\"#d8576b\"],[0.6666666666666666,\"#ed7953\"],[0.7777777777777778,\"#fb9f3a\"],[0.8888888888888888,\"#fdca26\"],[1.0,\"#f0f921\"]],\"diverging\":[[0,\"#8e0152\"],[0.1,\"#c51b7d\"],[0.2,\"#de77ae\"],[0.3,\"#f1b6da\"],[0.4,\"#fde0ef\"],[0.5,\"#f7f7f7\"],[0.6,\"#e6f5d0\"],[0.7,\"#b8e186\"],[0.8,\"#7fbc41\"],[0.9,\"#4d9221\"],[1,\"#276419\"]]},\"xaxis\":{\"gridcolor\":\"white\",\"linecolor\":\"white\",\"ticks\":\"\",\"title\":{\"standoff\":15},\"zerolinecolor\":\"white\",\"automargin\":true,\"zerolinewidth\":2},\"yaxis\":{\"gridcolor\":\"white\",\"linecolor\":\"white\",\"ticks\":\"\",\"title\":{\"standoff\":15},\"zerolinecolor\":\"white\",\"automargin\":true,\"zerolinewidth\":2},\"scene\":{\"xaxis\":{\"backgroundcolor\":\"#E5ECF6\",\"gridcolor\":\"white\",\"linecolor\":\"white\",\"showbackground\":true,\"ticks\":\"\",\"zerolinecolor\":\"white\",\"gridwidth\":2},\"yaxis\":{\"backgroundcolor\":\"#E5ECF6\",\"gridcolor\":\"white\",\"linecolor\":\"white\",\"showbackground\":true,\"ticks\":\"\",\"zerolinecolor\":\"white\",\"gridwidth\":2},\"zaxis\":{\"backgroundcolor\":\"#E5ECF6\",\"gridcolor\":\"white\",\"linecolor\":\"white\",\"showbackground\":true,\"ticks\":\"\",\"zerolinecolor\":\"white\",\"gridwidth\":2}},\"shapedefaults\":{\"line\":{\"color\":\"#2a3f5f\"}},\"annotationdefaults\":{\"arrowcolor\":\"#2a3f5f\",\"arrowhead\":0,\"arrowwidth\":1},\"geo\":{\"bgcolor\":\"white\",\"landcolor\":\"#E5ECF6\",\"subunitcolor\":\"white\",\"showland\":true,\"showlakes\":true,\"lakecolor\":\"white\"},\"title\":{\"x\":0.05},\"mapbox\":{\"style\":\"light\"}}},\"xaxis\":{\"anchor\":\"y\",\"domain\":[0.0,1.0],\"title\":{\"text\":\"a\"}},\"yaxis\":{\"anchor\":\"x\",\"domain\":[0.0,1.0],\"title\":{\"text\":\"b\"}},\"legend\":{\"title\":{\"text\":\"class\"},\"tracegroupgap\":0},\"margin\":{\"t\":60},\"height\":560,\"width\":560},                        {\"responsive\": true}                    ).then(function(){\n",
       "                            \n",
       "var gd = document.getElementById('d199bd99-d0f8-4687-84b4-18de290af239');\n",
       "var x = new MutationObserver(function (mutations, observer) {{\n",
       "        var display = window.getComputedStyle(gd).display;\n",
       "        if (!display || display === 'none') {{\n",
       "            console.log([gd, 'removed!']);\n",
       "            Plotly.purge(gd);\n",
       "            observer.disconnect();\n",
       "        }}\n",
       "}});\n",
       "\n",
       "// Listen for the removal of the full notebook cells\n",
       "var notebookContainer = gd.closest('#notebook-container');\n",
       "if (notebookContainer) {{\n",
       "    x.observe(notebookContainer, {childList: true});\n",
       "}}\n",
       "\n",
       "// Listen for the clearing of the current output cell\n",
       "var outputEl = gd.closest('.output');\n",
       "if (outputEl) {{\n",
       "    x.observe(outputEl, {childList: true});\n",
       "}}\n",
       "\n",
       "                        })                };                });            </script>        </div>"
      ]
     },
     "metadata": {},
     "output_type": "display_data"
    }
   ],
   "source": [
    "fig = px.scatter(df, x='a',\n",
    "            y='b',\n",
    "            color='class',\n",
    "            height=560,\n",
    "            width=560,\n",
    "            )\n",
    "fig.show()"
   ]
  },
  {
   "cell_type": "code",
   "execution_count": 28,
   "metadata": {},
   "outputs": [
    {
     "name": "stdout",
     "output_type": "stream",
     "text": [
      "Rules original\n",
      "IF a = {low} THEN class = {1} (p = 23.0, n = 0.0, P = 43.0, N = 57.0, weight = 1.0, pvalue = 3.8630865717087334e-11)\n",
      "IF a = {medium} THEN class = {1} (p = 20.0, n = 0.0, P = 43.0, N = 57.0, weight = 1.0, pvalue = 1.7921580617255256e-09)\n",
      "IF a = {vhigh} THEN class = {0} (p = 31.0, n = 0.0, P = 57.0, N = 43.0, weight = 1.0, pvalue = 1.8425865977266838e-10)\n",
      "IF a = {high} THEN class = {0} (p = 26.0, n = 0.0, P = 57.0, N = 43.0, weight = 1.0, pvalue = 1.746902357842758e-08)\n",
      "\n",
      "\n",
      "Complex rules\n",
      "IF a = {medium, low} THEN class = {1} (p = 43.0, n = 0.0, P = 43.0, N = 57.0, weight = 1.0, pvalue = 2.6235334749066164e-29)\n",
      "IF a = {high, vhigh} THEN class = {0} (p = 57.0, n = 0.0, P = 57.0, N = 43.0, weight = 1.0, pvalue = 2.6235334749066164e-29)\n",
      "\n",
      "\n",
      "Complex rules + inners alternatives\n",
      "IF a = {medium, low} THEN class = {1} (p = 43.0, n = 0.0, P = 43.0, N = 57.0, weight = 1.0, pvalue = 2.6235334749066164e-29)\n",
      "IF a = {high, vhigh} THEN class = {0} (p = 57.0, n = 0.0, P = 57.0, N = 43.0, weight = 1.0, pvalue = 2.6235334749066164e-29)\n"
     ]
    }
   ],
   "source": [
    "X = df.drop(['class'], axis=1)\n",
    "y = df['class']\n",
    "\n",
    "clf_simple.fit(X, y)\n",
    "\n",
    "print(\"Rules original\")\n",
    "for rule in clf_simple.model.rules:\n",
    "    print(rule, rule.stats)\n",
    "\n",
    "print(\"\\n\\nComplex rules\")\n",
    "clf_complex.fit(X, y)\n",
    "for rule in clf_complex.model.rules:\n",
    "    print(rule, rule.stats)\n",
    "\n",
    "\n",
    "print(\"\\n\\nComplex rules + inners alternatives\")\n",
    "clf_complex_with_inners.fit(X, y)\n",
    "for rule in clf_complex_with_inners.model.rules:\n",
    "    print(rule, rule.stats)"
   ]
  },
  {
   "attachments": {},
   "cell_type": "markdown",
   "metadata": {},
   "source": [
    "## a != wartość"
   ]
  },
  {
   "cell_type": "code",
   "execution_count": 55,
   "metadata": {},
   "outputs": [
    {
     "data": {
      "text/html": [
       "<div>\n",
       "<style scoped>\n",
       "    .dataframe tbody tr th:only-of-type {\n",
       "        vertical-align: middle;\n",
       "    }\n",
       "\n",
       "    .dataframe tbody tr th {\n",
       "        vertical-align: top;\n",
       "    }\n",
       "\n",
       "    .dataframe thead th {\n",
       "        text-align: right;\n",
       "    }\n",
       "</style>\n",
       "<table border=\"1\" class=\"dataframe\">\n",
       "  <thead>\n",
       "    <tr style=\"text-align: right;\">\n",
       "      <th></th>\n",
       "      <th>a</th>\n",
       "      <th>b</th>\n",
       "      <th>class</th>\n",
       "    </tr>\n",
       "  </thead>\n",
       "  <tbody>\n",
       "    <tr>\n",
       "      <th>0</th>\n",
       "      <td>low</td>\n",
       "      <td>0.71</td>\n",
       "      <td>1</td>\n",
       "    </tr>\n",
       "    <tr>\n",
       "      <th>1</th>\n",
       "      <td>low</td>\n",
       "      <td>2.60</td>\n",
       "      <td>1</td>\n",
       "    </tr>\n",
       "    <tr>\n",
       "      <th>2</th>\n",
       "      <td>high</td>\n",
       "      <td>5.30</td>\n",
       "      <td>0</td>\n",
       "    </tr>\n",
       "    <tr>\n",
       "      <th>3</th>\n",
       "      <td>high</td>\n",
       "      <td>4.68</td>\n",
       "      <td>0</td>\n",
       "    </tr>\n",
       "    <tr>\n",
       "      <th>4</th>\n",
       "      <td>low</td>\n",
       "      <td>2.14</td>\n",
       "      <td>1</td>\n",
       "    </tr>\n",
       "    <tr>\n",
       "      <th>...</th>\n",
       "      <td>...</td>\n",
       "      <td>...</td>\n",
       "      <td>...</td>\n",
       "    </tr>\n",
       "    <tr>\n",
       "      <th>95</th>\n",
       "      <td>low</td>\n",
       "      <td>6.32</td>\n",
       "      <td>1</td>\n",
       "    </tr>\n",
       "    <tr>\n",
       "      <th>96</th>\n",
       "      <td>medium</td>\n",
       "      <td>6.81</td>\n",
       "      <td>1</td>\n",
       "    </tr>\n",
       "    <tr>\n",
       "      <th>97</th>\n",
       "      <td>low</td>\n",
       "      <td>0.96</td>\n",
       "      <td>1</td>\n",
       "    </tr>\n",
       "    <tr>\n",
       "      <th>98</th>\n",
       "      <td>high</td>\n",
       "      <td>1.43</td>\n",
       "      <td>0</td>\n",
       "    </tr>\n",
       "    <tr>\n",
       "      <th>99</th>\n",
       "      <td>high</td>\n",
       "      <td>5.52</td>\n",
       "      <td>0</td>\n",
       "    </tr>\n",
       "  </tbody>\n",
       "</table>\n",
       "<p>100 rows × 3 columns</p>\n",
       "</div>"
      ],
      "text/plain": [
       "         a     b class\n",
       "0      low  0.71     1\n",
       "1      low  2.60     1\n",
       "2     high  5.30     0\n",
       "3     high  4.68     0\n",
       "4      low  2.14     1\n",
       "..     ...   ...   ...\n",
       "95     low  6.32     1\n",
       "96  medium  6.81     1\n",
       "97     low  0.96     1\n",
       "98    high  1.43     0\n",
       "99    high  5.52     0\n",
       "\n",
       "[100 rows x 3 columns]"
      ]
     },
     "execution_count": 55,
     "metadata": {},
     "output_type": "execute_result"
    }
   ],
   "source": [
    "df = pd.DataFrame(columns=[\"a\", \"b\", \"class\"], index = [i for i in range(0,100)])\n",
    "\n",
    "\n",
    "a = [random.randint(0, 2) for i in range(100)]\n",
    "b = [round(random.uniform(0, 9),2) for i in range(100)]\n",
    "\n",
    "\n",
    "df[\"a\"] = a\n",
    "df[\"b\"] = b\n",
    "\n",
    "df = df.replace({'a': {0: \"low\", 1: \"medium\", 2: \"high\"}})\n",
    "df.loc[(df[\"a\"] == \"low\") | (df[\"a\"] == \"medium\"),\"class\"] = \"1\"\n",
    "df = df.fillna(\"0\")\n",
    "df"
   ]
  },
  {
   "cell_type": "code",
   "execution_count": 56,
   "metadata": {},
   "outputs": [
    {
     "data": {
      "application/vnd.plotly.v1+json": {
       "config": {
        "plotlyServerURL": "https://plot.ly"
       },
       "data": [
        {
         "hovertemplate": "class=1<br>a=%{x}<br>b=%{y}<extra></extra>",
         "legendgroup": "1",
         "marker": {
          "color": "#636efa",
          "symbol": "circle"
         },
         "mode": "markers",
         "name": "1",
         "orientation": "v",
         "showlegend": true,
         "type": "scatter",
         "x": [
          "low",
          "low",
          "low",
          "medium",
          "medium",
          "medium",
          "medium",
          "medium",
          "medium",
          "medium",
          "low",
          "medium",
          "medium",
          "medium",
          "medium",
          "medium",
          "medium",
          "medium",
          "medium",
          "medium",
          "low",
          "medium",
          "medium",
          "medium",
          "medium",
          "medium",
          "medium",
          "low",
          "medium",
          "low",
          "low",
          "medium",
          "low",
          "medium",
          "low",
          "low",
          "medium",
          "medium",
          "low",
          "medium",
          "medium",
          "low",
          "low",
          "low",
          "medium",
          "low",
          "medium",
          "low",
          "low",
          "medium",
          "low",
          "medium",
          "low",
          "low",
          "low",
          "low",
          "medium",
          "low",
          "medium",
          "low",
          "medium",
          "low"
         ],
         "xaxis": "x",
         "y": [
          0.71,
          2.6,
          2.14,
          2.63,
          5.97,
          1.39,
          4.15,
          7.66,
          1.9,
          3.79,
          4.48,
          5.29,
          6.76,
          5.97,
          1.92,
          6.32,
          7.53,
          2.3,
          7.74,
          8.16,
          7.87,
          2.64,
          6.41,
          1.42,
          1.64,
          4.83,
          3.16,
          1.76,
          5.15,
          5.42,
          8.12,
          6.16,
          0.8,
          6.57,
          2.18,
          4.14,
          5.67,
          0.83,
          2.22,
          2.49,
          8.51,
          2.89,
          7.89,
          7.91,
          3.52,
          8.17,
          8.32,
          1.52,
          8.71,
          7.82,
          2.71,
          1.99,
          0.49,
          8.97,
          0.9,
          2.68,
          5.02,
          6.46,
          5.97,
          6.32,
          6.81,
          0.96
         ],
         "yaxis": "y"
        },
        {
         "hovertemplate": "class=0<br>a=%{x}<br>b=%{y}<extra></extra>",
         "legendgroup": "0",
         "marker": {
          "color": "#EF553B",
          "symbol": "circle"
         },
         "mode": "markers",
         "name": "0",
         "orientation": "v",
         "showlegend": true,
         "type": "scatter",
         "x": [
          "high",
          "high",
          "high",
          "high",
          "high",
          "high",
          "high",
          "high",
          "high",
          "high",
          "high",
          "high",
          "high",
          "high",
          "high",
          "high",
          "high",
          "high",
          "high",
          "high",
          "high",
          "high",
          "high",
          "high",
          "high",
          "high",
          "high",
          "high",
          "high",
          "high",
          "high",
          "high",
          "high",
          "high",
          "high",
          "high",
          "high",
          "high"
         ],
         "xaxis": "x",
         "y": [
          5.3,
          4.68,
          5.11,
          4.42,
          0.02,
          6.54,
          1.35,
          7.97,
          8.88,
          2.51,
          3.47,
          8.3,
          5.24,
          2.05,
          8.47,
          6.73,
          5.27,
          7,
          2.16,
          8.95,
          6.5,
          0.84,
          6.24,
          7.54,
          2.16,
          8.37,
          7.77,
          6.39,
          7.22,
          8.06,
          1.4,
          0.78,
          0.48,
          2.14,
          0.96,
          2.37,
          1.43,
          5.52
         ],
         "yaxis": "y"
        }
       ],
       "layout": {
        "height": 560,
        "legend": {
         "title": {
          "text": "class"
         },
         "tracegroupgap": 0
        },
        "margin": {
         "t": 60
        },
        "template": {
         "data": {
          "bar": [
           {
            "error_x": {
             "color": "#2a3f5f"
            },
            "error_y": {
             "color": "#2a3f5f"
            },
            "marker": {
             "line": {
              "color": "#E5ECF6",
              "width": 0.5
             },
             "pattern": {
              "fillmode": "overlay",
              "size": 10,
              "solidity": 0.2
             }
            },
            "type": "bar"
           }
          ],
          "barpolar": [
           {
            "marker": {
             "line": {
              "color": "#E5ECF6",
              "width": 0.5
             },
             "pattern": {
              "fillmode": "overlay",
              "size": 10,
              "solidity": 0.2
             }
            },
            "type": "barpolar"
           }
          ],
          "carpet": [
           {
            "aaxis": {
             "endlinecolor": "#2a3f5f",
             "gridcolor": "white",
             "linecolor": "white",
             "minorgridcolor": "white",
             "startlinecolor": "#2a3f5f"
            },
            "baxis": {
             "endlinecolor": "#2a3f5f",
             "gridcolor": "white",
             "linecolor": "white",
             "minorgridcolor": "white",
             "startlinecolor": "#2a3f5f"
            },
            "type": "carpet"
           }
          ],
          "choropleth": [
           {
            "colorbar": {
             "outlinewidth": 0,
             "ticks": ""
            },
            "type": "choropleth"
           }
          ],
          "contour": [
           {
            "colorbar": {
             "outlinewidth": 0,
             "ticks": ""
            },
            "colorscale": [
             [
              0,
              "#0d0887"
             ],
             [
              0.1111111111111111,
              "#46039f"
             ],
             [
              0.2222222222222222,
              "#7201a8"
             ],
             [
              0.3333333333333333,
              "#9c179e"
             ],
             [
              0.4444444444444444,
              "#bd3786"
             ],
             [
              0.5555555555555556,
              "#d8576b"
             ],
             [
              0.6666666666666666,
              "#ed7953"
             ],
             [
              0.7777777777777778,
              "#fb9f3a"
             ],
             [
              0.8888888888888888,
              "#fdca26"
             ],
             [
              1,
              "#f0f921"
             ]
            ],
            "type": "contour"
           }
          ],
          "contourcarpet": [
           {
            "colorbar": {
             "outlinewidth": 0,
             "ticks": ""
            },
            "type": "contourcarpet"
           }
          ],
          "heatmap": [
           {
            "colorbar": {
             "outlinewidth": 0,
             "ticks": ""
            },
            "colorscale": [
             [
              0,
              "#0d0887"
             ],
             [
              0.1111111111111111,
              "#46039f"
             ],
             [
              0.2222222222222222,
              "#7201a8"
             ],
             [
              0.3333333333333333,
              "#9c179e"
             ],
             [
              0.4444444444444444,
              "#bd3786"
             ],
             [
              0.5555555555555556,
              "#d8576b"
             ],
             [
              0.6666666666666666,
              "#ed7953"
             ],
             [
              0.7777777777777778,
              "#fb9f3a"
             ],
             [
              0.8888888888888888,
              "#fdca26"
             ],
             [
              1,
              "#f0f921"
             ]
            ],
            "type": "heatmap"
           }
          ],
          "heatmapgl": [
           {
            "colorbar": {
             "outlinewidth": 0,
             "ticks": ""
            },
            "colorscale": [
             [
              0,
              "#0d0887"
             ],
             [
              0.1111111111111111,
              "#46039f"
             ],
             [
              0.2222222222222222,
              "#7201a8"
             ],
             [
              0.3333333333333333,
              "#9c179e"
             ],
             [
              0.4444444444444444,
              "#bd3786"
             ],
             [
              0.5555555555555556,
              "#d8576b"
             ],
             [
              0.6666666666666666,
              "#ed7953"
             ],
             [
              0.7777777777777778,
              "#fb9f3a"
             ],
             [
              0.8888888888888888,
              "#fdca26"
             ],
             [
              1,
              "#f0f921"
             ]
            ],
            "type": "heatmapgl"
           }
          ],
          "histogram": [
           {
            "marker": {
             "pattern": {
              "fillmode": "overlay",
              "size": 10,
              "solidity": 0.2
             }
            },
            "type": "histogram"
           }
          ],
          "histogram2d": [
           {
            "colorbar": {
             "outlinewidth": 0,
             "ticks": ""
            },
            "colorscale": [
             [
              0,
              "#0d0887"
             ],
             [
              0.1111111111111111,
              "#46039f"
             ],
             [
              0.2222222222222222,
              "#7201a8"
             ],
             [
              0.3333333333333333,
              "#9c179e"
             ],
             [
              0.4444444444444444,
              "#bd3786"
             ],
             [
              0.5555555555555556,
              "#d8576b"
             ],
             [
              0.6666666666666666,
              "#ed7953"
             ],
             [
              0.7777777777777778,
              "#fb9f3a"
             ],
             [
              0.8888888888888888,
              "#fdca26"
             ],
             [
              1,
              "#f0f921"
             ]
            ],
            "type": "histogram2d"
           }
          ],
          "histogram2dcontour": [
           {
            "colorbar": {
             "outlinewidth": 0,
             "ticks": ""
            },
            "colorscale": [
             [
              0,
              "#0d0887"
             ],
             [
              0.1111111111111111,
              "#46039f"
             ],
             [
              0.2222222222222222,
              "#7201a8"
             ],
             [
              0.3333333333333333,
              "#9c179e"
             ],
             [
              0.4444444444444444,
              "#bd3786"
             ],
             [
              0.5555555555555556,
              "#d8576b"
             ],
             [
              0.6666666666666666,
              "#ed7953"
             ],
             [
              0.7777777777777778,
              "#fb9f3a"
             ],
             [
              0.8888888888888888,
              "#fdca26"
             ],
             [
              1,
              "#f0f921"
             ]
            ],
            "type": "histogram2dcontour"
           }
          ],
          "mesh3d": [
           {
            "colorbar": {
             "outlinewidth": 0,
             "ticks": ""
            },
            "type": "mesh3d"
           }
          ],
          "parcoords": [
           {
            "line": {
             "colorbar": {
              "outlinewidth": 0,
              "ticks": ""
             }
            },
            "type": "parcoords"
           }
          ],
          "pie": [
           {
            "automargin": true,
            "type": "pie"
           }
          ],
          "scatter": [
           {
            "fillpattern": {
             "fillmode": "overlay",
             "size": 10,
             "solidity": 0.2
            },
            "type": "scatter"
           }
          ],
          "scatter3d": [
           {
            "line": {
             "colorbar": {
              "outlinewidth": 0,
              "ticks": ""
             }
            },
            "marker": {
             "colorbar": {
              "outlinewidth": 0,
              "ticks": ""
             }
            },
            "type": "scatter3d"
           }
          ],
          "scattercarpet": [
           {
            "marker": {
             "colorbar": {
              "outlinewidth": 0,
              "ticks": ""
             }
            },
            "type": "scattercarpet"
           }
          ],
          "scattergeo": [
           {
            "marker": {
             "colorbar": {
              "outlinewidth": 0,
              "ticks": ""
             }
            },
            "type": "scattergeo"
           }
          ],
          "scattergl": [
           {
            "marker": {
             "colorbar": {
              "outlinewidth": 0,
              "ticks": ""
             }
            },
            "type": "scattergl"
           }
          ],
          "scattermapbox": [
           {
            "marker": {
             "colorbar": {
              "outlinewidth": 0,
              "ticks": ""
             }
            },
            "type": "scattermapbox"
           }
          ],
          "scatterpolar": [
           {
            "marker": {
             "colorbar": {
              "outlinewidth": 0,
              "ticks": ""
             }
            },
            "type": "scatterpolar"
           }
          ],
          "scatterpolargl": [
           {
            "marker": {
             "colorbar": {
              "outlinewidth": 0,
              "ticks": ""
             }
            },
            "type": "scatterpolargl"
           }
          ],
          "scatterternary": [
           {
            "marker": {
             "colorbar": {
              "outlinewidth": 0,
              "ticks": ""
             }
            },
            "type": "scatterternary"
           }
          ],
          "surface": [
           {
            "colorbar": {
             "outlinewidth": 0,
             "ticks": ""
            },
            "colorscale": [
             [
              0,
              "#0d0887"
             ],
             [
              0.1111111111111111,
              "#46039f"
             ],
             [
              0.2222222222222222,
              "#7201a8"
             ],
             [
              0.3333333333333333,
              "#9c179e"
             ],
             [
              0.4444444444444444,
              "#bd3786"
             ],
             [
              0.5555555555555556,
              "#d8576b"
             ],
             [
              0.6666666666666666,
              "#ed7953"
             ],
             [
              0.7777777777777778,
              "#fb9f3a"
             ],
             [
              0.8888888888888888,
              "#fdca26"
             ],
             [
              1,
              "#f0f921"
             ]
            ],
            "type": "surface"
           }
          ],
          "table": [
           {
            "cells": {
             "fill": {
              "color": "#EBF0F8"
             },
             "line": {
              "color": "white"
             }
            },
            "header": {
             "fill": {
              "color": "#C8D4E3"
             },
             "line": {
              "color": "white"
             }
            },
            "type": "table"
           }
          ]
         },
         "layout": {
          "annotationdefaults": {
           "arrowcolor": "#2a3f5f",
           "arrowhead": 0,
           "arrowwidth": 1
          },
          "autotypenumbers": "strict",
          "coloraxis": {
           "colorbar": {
            "outlinewidth": 0,
            "ticks": ""
           }
          },
          "colorscale": {
           "diverging": [
            [
             0,
             "#8e0152"
            ],
            [
             0.1,
             "#c51b7d"
            ],
            [
             0.2,
             "#de77ae"
            ],
            [
             0.3,
             "#f1b6da"
            ],
            [
             0.4,
             "#fde0ef"
            ],
            [
             0.5,
             "#f7f7f7"
            ],
            [
             0.6,
             "#e6f5d0"
            ],
            [
             0.7,
             "#b8e186"
            ],
            [
             0.8,
             "#7fbc41"
            ],
            [
             0.9,
             "#4d9221"
            ],
            [
             1,
             "#276419"
            ]
           ],
           "sequential": [
            [
             0,
             "#0d0887"
            ],
            [
             0.1111111111111111,
             "#46039f"
            ],
            [
             0.2222222222222222,
             "#7201a8"
            ],
            [
             0.3333333333333333,
             "#9c179e"
            ],
            [
             0.4444444444444444,
             "#bd3786"
            ],
            [
             0.5555555555555556,
             "#d8576b"
            ],
            [
             0.6666666666666666,
             "#ed7953"
            ],
            [
             0.7777777777777778,
             "#fb9f3a"
            ],
            [
             0.8888888888888888,
             "#fdca26"
            ],
            [
             1,
             "#f0f921"
            ]
           ],
           "sequentialminus": [
            [
             0,
             "#0d0887"
            ],
            [
             0.1111111111111111,
             "#46039f"
            ],
            [
             0.2222222222222222,
             "#7201a8"
            ],
            [
             0.3333333333333333,
             "#9c179e"
            ],
            [
             0.4444444444444444,
             "#bd3786"
            ],
            [
             0.5555555555555556,
             "#d8576b"
            ],
            [
             0.6666666666666666,
             "#ed7953"
            ],
            [
             0.7777777777777778,
             "#fb9f3a"
            ],
            [
             0.8888888888888888,
             "#fdca26"
            ],
            [
             1,
             "#f0f921"
            ]
           ]
          },
          "colorway": [
           "#636efa",
           "#EF553B",
           "#00cc96",
           "#ab63fa",
           "#FFA15A",
           "#19d3f3",
           "#FF6692",
           "#B6E880",
           "#FF97FF",
           "#FECB52"
          ],
          "font": {
           "color": "#2a3f5f"
          },
          "geo": {
           "bgcolor": "white",
           "lakecolor": "white",
           "landcolor": "#E5ECF6",
           "showlakes": true,
           "showland": true,
           "subunitcolor": "white"
          },
          "hoverlabel": {
           "align": "left"
          },
          "hovermode": "closest",
          "mapbox": {
           "style": "light"
          },
          "paper_bgcolor": "white",
          "plot_bgcolor": "#E5ECF6",
          "polar": {
           "angularaxis": {
            "gridcolor": "white",
            "linecolor": "white",
            "ticks": ""
           },
           "bgcolor": "#E5ECF6",
           "radialaxis": {
            "gridcolor": "white",
            "linecolor": "white",
            "ticks": ""
           }
          },
          "scene": {
           "xaxis": {
            "backgroundcolor": "#E5ECF6",
            "gridcolor": "white",
            "gridwidth": 2,
            "linecolor": "white",
            "showbackground": true,
            "ticks": "",
            "zerolinecolor": "white"
           },
           "yaxis": {
            "backgroundcolor": "#E5ECF6",
            "gridcolor": "white",
            "gridwidth": 2,
            "linecolor": "white",
            "showbackground": true,
            "ticks": "",
            "zerolinecolor": "white"
           },
           "zaxis": {
            "backgroundcolor": "#E5ECF6",
            "gridcolor": "white",
            "gridwidth": 2,
            "linecolor": "white",
            "showbackground": true,
            "ticks": "",
            "zerolinecolor": "white"
           }
          },
          "shapedefaults": {
           "line": {
            "color": "#2a3f5f"
           }
          },
          "ternary": {
           "aaxis": {
            "gridcolor": "white",
            "linecolor": "white",
            "ticks": ""
           },
           "baxis": {
            "gridcolor": "white",
            "linecolor": "white",
            "ticks": ""
           },
           "bgcolor": "#E5ECF6",
           "caxis": {
            "gridcolor": "white",
            "linecolor": "white",
            "ticks": ""
           }
          },
          "title": {
           "x": 0.05
          },
          "xaxis": {
           "automargin": true,
           "gridcolor": "white",
           "linecolor": "white",
           "ticks": "",
           "title": {
            "standoff": 15
           },
           "zerolinecolor": "white",
           "zerolinewidth": 2
          },
          "yaxis": {
           "automargin": true,
           "gridcolor": "white",
           "linecolor": "white",
           "ticks": "",
           "title": {
            "standoff": 15
           },
           "zerolinecolor": "white",
           "zerolinewidth": 2
          }
         }
        },
        "width": 560,
        "xaxis": {
         "anchor": "y",
         "domain": [
          0,
          1
         ],
         "title": {
          "text": "a"
         }
        },
        "yaxis": {
         "anchor": "x",
         "domain": [
          0,
          1
         ],
         "title": {
          "text": "b"
         }
        }
       }
      },
      "text/html": [
       "<div>                            <div id=\"5afc35b1-9fb4-4922-bf12-716a1eca6b39\" class=\"plotly-graph-div\" style=\"height:560px; width:560px;\"></div>            <script type=\"text/javascript\">                require([\"plotly\"], function(Plotly) {                    window.PLOTLYENV=window.PLOTLYENV || {};                                    if (document.getElementById(\"5afc35b1-9fb4-4922-bf12-716a1eca6b39\")) {                    Plotly.newPlot(                        \"5afc35b1-9fb4-4922-bf12-716a1eca6b39\",                        [{\"hovertemplate\":\"class=1<br>a=%{x}<br>b=%{y}<extra></extra>\",\"legendgroup\":\"1\",\"marker\":{\"color\":\"#636efa\",\"symbol\":\"circle\"},\"mode\":\"markers\",\"name\":\"1\",\"orientation\":\"v\",\"showlegend\":true,\"x\":[\"low\",\"low\",\"low\",\"medium\",\"medium\",\"medium\",\"medium\",\"medium\",\"medium\",\"medium\",\"low\",\"medium\",\"medium\",\"medium\",\"medium\",\"medium\",\"medium\",\"medium\",\"medium\",\"medium\",\"low\",\"medium\",\"medium\",\"medium\",\"medium\",\"medium\",\"medium\",\"low\",\"medium\",\"low\",\"low\",\"medium\",\"low\",\"medium\",\"low\",\"low\",\"medium\",\"medium\",\"low\",\"medium\",\"medium\",\"low\",\"low\",\"low\",\"medium\",\"low\",\"medium\",\"low\",\"low\",\"medium\",\"low\",\"medium\",\"low\",\"low\",\"low\",\"low\",\"medium\",\"low\",\"medium\",\"low\",\"medium\",\"low\"],\"xaxis\":\"x\",\"y\":[0.71,2.6,2.14,2.63,5.97,1.39,4.15,7.66,1.9,3.79,4.48,5.29,6.76,5.97,1.92,6.32,7.53,2.3,7.74,8.16,7.87,2.64,6.41,1.42,1.64,4.83,3.16,1.76,5.15,5.42,8.12,6.16,0.8,6.57,2.18,4.14,5.67,0.83,2.22,2.49,8.51,2.89,7.89,7.91,3.52,8.17,8.32,1.52,8.71,7.82,2.71,1.99,0.49,8.97,0.9,2.68,5.02,6.46,5.97,6.32,6.81,0.96],\"yaxis\":\"y\",\"type\":\"scatter\"},{\"hovertemplate\":\"class=0<br>a=%{x}<br>b=%{y}<extra></extra>\",\"legendgroup\":\"0\",\"marker\":{\"color\":\"#EF553B\",\"symbol\":\"circle\"},\"mode\":\"markers\",\"name\":\"0\",\"orientation\":\"v\",\"showlegend\":true,\"x\":[\"high\",\"high\",\"high\",\"high\",\"high\",\"high\",\"high\",\"high\",\"high\",\"high\",\"high\",\"high\",\"high\",\"high\",\"high\",\"high\",\"high\",\"high\",\"high\",\"high\",\"high\",\"high\",\"high\",\"high\",\"high\",\"high\",\"high\",\"high\",\"high\",\"high\",\"high\",\"high\",\"high\",\"high\",\"high\",\"high\",\"high\",\"high\"],\"xaxis\":\"x\",\"y\":[5.3,4.68,5.11,4.42,0.02,6.54,1.35,7.97,8.88,2.51,3.47,8.3,5.24,2.05,8.47,6.73,5.27,7.0,2.16,8.95,6.5,0.84,6.24,7.54,2.16,8.37,7.77,6.39,7.22,8.06,1.4,0.78,0.48,2.14,0.96,2.37,1.43,5.52],\"yaxis\":\"y\",\"type\":\"scatter\"}],                        {\"template\":{\"data\":{\"histogram2dcontour\":[{\"type\":\"histogram2dcontour\",\"colorbar\":{\"outlinewidth\":0,\"ticks\":\"\"},\"colorscale\":[[0.0,\"#0d0887\"],[0.1111111111111111,\"#46039f\"],[0.2222222222222222,\"#7201a8\"],[0.3333333333333333,\"#9c179e\"],[0.4444444444444444,\"#bd3786\"],[0.5555555555555556,\"#d8576b\"],[0.6666666666666666,\"#ed7953\"],[0.7777777777777778,\"#fb9f3a\"],[0.8888888888888888,\"#fdca26\"],[1.0,\"#f0f921\"]]}],\"choropleth\":[{\"type\":\"choropleth\",\"colorbar\":{\"outlinewidth\":0,\"ticks\":\"\"}}],\"histogram2d\":[{\"type\":\"histogram2d\",\"colorbar\":{\"outlinewidth\":0,\"ticks\":\"\"},\"colorscale\":[[0.0,\"#0d0887\"],[0.1111111111111111,\"#46039f\"],[0.2222222222222222,\"#7201a8\"],[0.3333333333333333,\"#9c179e\"],[0.4444444444444444,\"#bd3786\"],[0.5555555555555556,\"#d8576b\"],[0.6666666666666666,\"#ed7953\"],[0.7777777777777778,\"#fb9f3a\"],[0.8888888888888888,\"#fdca26\"],[1.0,\"#f0f921\"]]}],\"heatmap\":[{\"type\":\"heatmap\",\"colorbar\":{\"outlinewidth\":0,\"ticks\":\"\"},\"colorscale\":[[0.0,\"#0d0887\"],[0.1111111111111111,\"#46039f\"],[0.2222222222222222,\"#7201a8\"],[0.3333333333333333,\"#9c179e\"],[0.4444444444444444,\"#bd3786\"],[0.5555555555555556,\"#d8576b\"],[0.6666666666666666,\"#ed7953\"],[0.7777777777777778,\"#fb9f3a\"],[0.8888888888888888,\"#fdca26\"],[1.0,\"#f0f921\"]]}],\"heatmapgl\":[{\"type\":\"heatmapgl\",\"colorbar\":{\"outlinewidth\":0,\"ticks\":\"\"},\"colorscale\":[[0.0,\"#0d0887\"],[0.1111111111111111,\"#46039f\"],[0.2222222222222222,\"#7201a8\"],[0.3333333333333333,\"#9c179e\"],[0.4444444444444444,\"#bd3786\"],[0.5555555555555556,\"#d8576b\"],[0.6666666666666666,\"#ed7953\"],[0.7777777777777778,\"#fb9f3a\"],[0.8888888888888888,\"#fdca26\"],[1.0,\"#f0f921\"]]}],\"contourcarpet\":[{\"type\":\"contourcarpet\",\"colorbar\":{\"outlinewidth\":0,\"ticks\":\"\"}}],\"contour\":[{\"type\":\"contour\",\"colorbar\":{\"outlinewidth\":0,\"ticks\":\"\"},\"colorscale\":[[0.0,\"#0d0887\"],[0.1111111111111111,\"#46039f\"],[0.2222222222222222,\"#7201a8\"],[0.3333333333333333,\"#9c179e\"],[0.4444444444444444,\"#bd3786\"],[0.5555555555555556,\"#d8576b\"],[0.6666666666666666,\"#ed7953\"],[0.7777777777777778,\"#fb9f3a\"],[0.8888888888888888,\"#fdca26\"],[1.0,\"#f0f921\"]]}],\"surface\":[{\"type\":\"surface\",\"colorbar\":{\"outlinewidth\":0,\"ticks\":\"\"},\"colorscale\":[[0.0,\"#0d0887\"],[0.1111111111111111,\"#46039f\"],[0.2222222222222222,\"#7201a8\"],[0.3333333333333333,\"#9c179e\"],[0.4444444444444444,\"#bd3786\"],[0.5555555555555556,\"#d8576b\"],[0.6666666666666666,\"#ed7953\"],[0.7777777777777778,\"#fb9f3a\"],[0.8888888888888888,\"#fdca26\"],[1.0,\"#f0f921\"]]}],\"mesh3d\":[{\"type\":\"mesh3d\",\"colorbar\":{\"outlinewidth\":0,\"ticks\":\"\"}}],\"scatter\":[{\"fillpattern\":{\"fillmode\":\"overlay\",\"size\":10,\"solidity\":0.2},\"type\":\"scatter\"}],\"parcoords\":[{\"type\":\"parcoords\",\"line\":{\"colorbar\":{\"outlinewidth\":0,\"ticks\":\"\"}}}],\"scatterpolargl\":[{\"type\":\"scatterpolargl\",\"marker\":{\"colorbar\":{\"outlinewidth\":0,\"ticks\":\"\"}}}],\"bar\":[{\"error_x\":{\"color\":\"#2a3f5f\"},\"error_y\":{\"color\":\"#2a3f5f\"},\"marker\":{\"line\":{\"color\":\"#E5ECF6\",\"width\":0.5},\"pattern\":{\"fillmode\":\"overlay\",\"size\":10,\"solidity\":0.2}},\"type\":\"bar\"}],\"scattergeo\":[{\"type\":\"scattergeo\",\"marker\":{\"colorbar\":{\"outlinewidth\":0,\"ticks\":\"\"}}}],\"scatterpolar\":[{\"type\":\"scatterpolar\",\"marker\":{\"colorbar\":{\"outlinewidth\":0,\"ticks\":\"\"}}}],\"histogram\":[{\"marker\":{\"pattern\":{\"fillmode\":\"overlay\",\"size\":10,\"solidity\":0.2}},\"type\":\"histogram\"}],\"scattergl\":[{\"type\":\"scattergl\",\"marker\":{\"colorbar\":{\"outlinewidth\":0,\"ticks\":\"\"}}}],\"scatter3d\":[{\"type\":\"scatter3d\",\"line\":{\"colorbar\":{\"outlinewidth\":0,\"ticks\":\"\"}},\"marker\":{\"colorbar\":{\"outlinewidth\":0,\"ticks\":\"\"}}}],\"scattermapbox\":[{\"type\":\"scattermapbox\",\"marker\":{\"colorbar\":{\"outlinewidth\":0,\"ticks\":\"\"}}}],\"scatterternary\":[{\"type\":\"scatterternary\",\"marker\":{\"colorbar\":{\"outlinewidth\":0,\"ticks\":\"\"}}}],\"scattercarpet\":[{\"type\":\"scattercarpet\",\"marker\":{\"colorbar\":{\"outlinewidth\":0,\"ticks\":\"\"}}}],\"carpet\":[{\"aaxis\":{\"endlinecolor\":\"#2a3f5f\",\"gridcolor\":\"white\",\"linecolor\":\"white\",\"minorgridcolor\":\"white\",\"startlinecolor\":\"#2a3f5f\"},\"baxis\":{\"endlinecolor\":\"#2a3f5f\",\"gridcolor\":\"white\",\"linecolor\":\"white\",\"minorgridcolor\":\"white\",\"startlinecolor\":\"#2a3f5f\"},\"type\":\"carpet\"}],\"table\":[{\"cells\":{\"fill\":{\"color\":\"#EBF0F8\"},\"line\":{\"color\":\"white\"}},\"header\":{\"fill\":{\"color\":\"#C8D4E3\"},\"line\":{\"color\":\"white\"}},\"type\":\"table\"}],\"barpolar\":[{\"marker\":{\"line\":{\"color\":\"#E5ECF6\",\"width\":0.5},\"pattern\":{\"fillmode\":\"overlay\",\"size\":10,\"solidity\":0.2}},\"type\":\"barpolar\"}],\"pie\":[{\"automargin\":true,\"type\":\"pie\"}]},\"layout\":{\"autotypenumbers\":\"strict\",\"colorway\":[\"#636efa\",\"#EF553B\",\"#00cc96\",\"#ab63fa\",\"#FFA15A\",\"#19d3f3\",\"#FF6692\",\"#B6E880\",\"#FF97FF\",\"#FECB52\"],\"font\":{\"color\":\"#2a3f5f\"},\"hovermode\":\"closest\",\"hoverlabel\":{\"align\":\"left\"},\"paper_bgcolor\":\"white\",\"plot_bgcolor\":\"#E5ECF6\",\"polar\":{\"bgcolor\":\"#E5ECF6\",\"angularaxis\":{\"gridcolor\":\"white\",\"linecolor\":\"white\",\"ticks\":\"\"},\"radialaxis\":{\"gridcolor\":\"white\",\"linecolor\":\"white\",\"ticks\":\"\"}},\"ternary\":{\"bgcolor\":\"#E5ECF6\",\"aaxis\":{\"gridcolor\":\"white\",\"linecolor\":\"white\",\"ticks\":\"\"},\"baxis\":{\"gridcolor\":\"white\",\"linecolor\":\"white\",\"ticks\":\"\"},\"caxis\":{\"gridcolor\":\"white\",\"linecolor\":\"white\",\"ticks\":\"\"}},\"coloraxis\":{\"colorbar\":{\"outlinewidth\":0,\"ticks\":\"\"}},\"colorscale\":{\"sequential\":[[0.0,\"#0d0887\"],[0.1111111111111111,\"#46039f\"],[0.2222222222222222,\"#7201a8\"],[0.3333333333333333,\"#9c179e\"],[0.4444444444444444,\"#bd3786\"],[0.5555555555555556,\"#d8576b\"],[0.6666666666666666,\"#ed7953\"],[0.7777777777777778,\"#fb9f3a\"],[0.8888888888888888,\"#fdca26\"],[1.0,\"#f0f921\"]],\"sequentialminus\":[[0.0,\"#0d0887\"],[0.1111111111111111,\"#46039f\"],[0.2222222222222222,\"#7201a8\"],[0.3333333333333333,\"#9c179e\"],[0.4444444444444444,\"#bd3786\"],[0.5555555555555556,\"#d8576b\"],[0.6666666666666666,\"#ed7953\"],[0.7777777777777778,\"#fb9f3a\"],[0.8888888888888888,\"#fdca26\"],[1.0,\"#f0f921\"]],\"diverging\":[[0,\"#8e0152\"],[0.1,\"#c51b7d\"],[0.2,\"#de77ae\"],[0.3,\"#f1b6da\"],[0.4,\"#fde0ef\"],[0.5,\"#f7f7f7\"],[0.6,\"#e6f5d0\"],[0.7,\"#b8e186\"],[0.8,\"#7fbc41\"],[0.9,\"#4d9221\"],[1,\"#276419\"]]},\"xaxis\":{\"gridcolor\":\"white\",\"linecolor\":\"white\",\"ticks\":\"\",\"title\":{\"standoff\":15},\"zerolinecolor\":\"white\",\"automargin\":true,\"zerolinewidth\":2},\"yaxis\":{\"gridcolor\":\"white\",\"linecolor\":\"white\",\"ticks\":\"\",\"title\":{\"standoff\":15},\"zerolinecolor\":\"white\",\"automargin\":true,\"zerolinewidth\":2},\"scene\":{\"xaxis\":{\"backgroundcolor\":\"#E5ECF6\",\"gridcolor\":\"white\",\"linecolor\":\"white\",\"showbackground\":true,\"ticks\":\"\",\"zerolinecolor\":\"white\",\"gridwidth\":2},\"yaxis\":{\"backgroundcolor\":\"#E5ECF6\",\"gridcolor\":\"white\",\"linecolor\":\"white\",\"showbackground\":true,\"ticks\":\"\",\"zerolinecolor\":\"white\",\"gridwidth\":2},\"zaxis\":{\"backgroundcolor\":\"#E5ECF6\",\"gridcolor\":\"white\",\"linecolor\":\"white\",\"showbackground\":true,\"ticks\":\"\",\"zerolinecolor\":\"white\",\"gridwidth\":2}},\"shapedefaults\":{\"line\":{\"color\":\"#2a3f5f\"}},\"annotationdefaults\":{\"arrowcolor\":\"#2a3f5f\",\"arrowhead\":0,\"arrowwidth\":1},\"geo\":{\"bgcolor\":\"white\",\"landcolor\":\"#E5ECF6\",\"subunitcolor\":\"white\",\"showland\":true,\"showlakes\":true,\"lakecolor\":\"white\"},\"title\":{\"x\":0.05},\"mapbox\":{\"style\":\"light\"}}},\"xaxis\":{\"anchor\":\"y\",\"domain\":[0.0,1.0],\"title\":{\"text\":\"a\"}},\"yaxis\":{\"anchor\":\"x\",\"domain\":[0.0,1.0],\"title\":{\"text\":\"b\"}},\"legend\":{\"title\":{\"text\":\"class\"},\"tracegroupgap\":0},\"margin\":{\"t\":60},\"height\":560,\"width\":560},                        {\"responsive\": true}                    ).then(function(){\n",
       "                            \n",
       "var gd = document.getElementById('5afc35b1-9fb4-4922-bf12-716a1eca6b39');\n",
       "var x = new MutationObserver(function (mutations, observer) {{\n",
       "        var display = window.getComputedStyle(gd).display;\n",
       "        if (!display || display === 'none') {{\n",
       "            console.log([gd, 'removed!']);\n",
       "            Plotly.purge(gd);\n",
       "            observer.disconnect();\n",
       "        }}\n",
       "}});\n",
       "\n",
       "// Listen for the removal of the full notebook cells\n",
       "var notebookContainer = gd.closest('#notebook-container');\n",
       "if (notebookContainer) {{\n",
       "    x.observe(notebookContainer, {childList: true});\n",
       "}}\n",
       "\n",
       "// Listen for the clearing of the current output cell\n",
       "var outputEl = gd.closest('.output');\n",
       "if (outputEl) {{\n",
       "    x.observe(outputEl, {childList: true});\n",
       "}}\n",
       "\n",
       "                        })                };                });            </script>        </div>"
      ]
     },
     "metadata": {},
     "output_type": "display_data"
    }
   ],
   "source": [
    "fig = px.scatter(df, x='a',\n",
    "            y='b',\n",
    "            color='class',\n",
    "            height=560,\n",
    "            width=560,\n",
    "            )\n",
    "fig.show()"
   ]
  },
  {
   "cell_type": "code",
   "execution_count": 57,
   "metadata": {},
   "outputs": [
    {
     "name": "stdout",
     "output_type": "stream",
     "text": [
      "Rules original\n",
      "IF a = {medium} THEN class = {1} (p = 36.0, n = 0.0, P = 62.0, N = 38.0, weight = 1.0, pvalue = 1.060939428469097e-10)\n",
      "IF a = {low} THEN class = {1} (p = 26.0, n = 0.0, P = 62.0, N = 38.0, weight = 1.0, pvalue = 2.998527462493941e-07)\n",
      "IF a = {high} THEN class = {0} (p = 38.0, n = 0.0, P = 38.0, N = 62.0, weight = 1.0, pvalue = 1.7636531930450345e-28)\n",
      "\n",
      "\n",
      "Complex rules\n",
      "IF a != {high} THEN class = {1} (p = 62.0, n = 0.0, P = 62.0, N = 38.0, weight = 1.0, pvalue = 1.7636531930450345e-28)\n",
      "IF a = {high} THEN class = {0} (p = 38.0, n = 0.0, P = 38.0, N = 62.0, weight = 1.0, pvalue = 1.7636531930450345e-28)\n",
      "\n",
      "\n",
      "Complex rules + inners alternatives\n",
      "IF a != {high} THEN class = {1} (p = 62.0, n = 0.0, P = 62.0, N = 38.0, weight = 1.0, pvalue = 1.7636531930450345e-28)\n",
      "IF a = {high} THEN class = {0} (p = 38.0, n = 0.0, P = 38.0, N = 62.0, weight = 1.0, pvalue = 1.7636531930450345e-28)\n"
     ]
    }
   ],
   "source": [
    "X = df.drop(['class'], axis=1)\n",
    "y = df['class']\n",
    "\n",
    "clf_simple.fit(X, y)\n",
    "\n",
    "print(\"Rules original\")\n",
    "for rule in clf_simple.model.rules:\n",
    "    print(rule, rule.stats)\n",
    "\n",
    "print(\"\\n\\nComplex rules\")\n",
    "clf_complex.fit(X, y)\n",
    "for rule in clf_complex.model.rules:\n",
    "    print(rule, rule.stats)\n",
    "\n",
    "print(\"\\n\\nComplex rules + inners alternatives\")\n",
    "clf_complex_with_inners.fit(X, y)\n",
    "for rule in clf_complex_with_inners.model.rules:\n",
    "    print(rule, rule.stats)"
   ]
  },
  {
   "attachments": {},
   "cell_type": "markdown",
   "metadata": {},
   "source": [
    "## a = b "
   ]
  },
  {
   "cell_type": "code",
   "execution_count": 31,
   "metadata": {},
   "outputs": [
    {
     "data": {
      "text/html": [
       "<div>\n",
       "<style scoped>\n",
       "    .dataframe tbody tr th:only-of-type {\n",
       "        vertical-align: middle;\n",
       "    }\n",
       "\n",
       "    .dataframe tbody tr th {\n",
       "        vertical-align: top;\n",
       "    }\n",
       "\n",
       "    .dataframe thead th {\n",
       "        text-align: right;\n",
       "    }\n",
       "</style>\n",
       "<table border=\"1\" class=\"dataframe\">\n",
       "  <thead>\n",
       "    <tr style=\"text-align: right;\">\n",
       "      <th></th>\n",
       "      <th>a</th>\n",
       "      <th>b</th>\n",
       "      <th>class</th>\n",
       "    </tr>\n",
       "  </thead>\n",
       "  <tbody>\n",
       "    <tr>\n",
       "      <th>0</th>\n",
       "      <td>medium</td>\n",
       "      <td>low</td>\n",
       "      <td>0</td>\n",
       "    </tr>\n",
       "    <tr>\n",
       "      <th>1</th>\n",
       "      <td>low</td>\n",
       "      <td>low</td>\n",
       "      <td>1</td>\n",
       "    </tr>\n",
       "    <tr>\n",
       "      <th>2</th>\n",
       "      <td>medium</td>\n",
       "      <td>low</td>\n",
       "      <td>0</td>\n",
       "    </tr>\n",
       "    <tr>\n",
       "      <th>3</th>\n",
       "      <td>medium</td>\n",
       "      <td>medium</td>\n",
       "      <td>1</td>\n",
       "    </tr>\n",
       "    <tr>\n",
       "      <th>4</th>\n",
       "      <td>medium</td>\n",
       "      <td>high</td>\n",
       "      <td>0</td>\n",
       "    </tr>\n",
       "    <tr>\n",
       "      <th>...</th>\n",
       "      <td>...</td>\n",
       "      <td>...</td>\n",
       "      <td>...</td>\n",
       "    </tr>\n",
       "    <tr>\n",
       "      <th>95</th>\n",
       "      <td>high</td>\n",
       "      <td>low</td>\n",
       "      <td>0</td>\n",
       "    </tr>\n",
       "    <tr>\n",
       "      <th>96</th>\n",
       "      <td>medium</td>\n",
       "      <td>medium</td>\n",
       "      <td>1</td>\n",
       "    </tr>\n",
       "    <tr>\n",
       "      <th>97</th>\n",
       "      <td>medium</td>\n",
       "      <td>low</td>\n",
       "      <td>0</td>\n",
       "    </tr>\n",
       "    <tr>\n",
       "      <th>98</th>\n",
       "      <td>low</td>\n",
       "      <td>medium</td>\n",
       "      <td>0</td>\n",
       "    </tr>\n",
       "    <tr>\n",
       "      <th>99</th>\n",
       "      <td>low</td>\n",
       "      <td>medium</td>\n",
       "      <td>0</td>\n",
       "    </tr>\n",
       "  </tbody>\n",
       "</table>\n",
       "<p>100 rows × 3 columns</p>\n",
       "</div>"
      ],
      "text/plain": [
       "         a       b class\n",
       "0   medium     low     0\n",
       "1      low     low     1\n",
       "2   medium     low     0\n",
       "3   medium  medium     1\n",
       "4   medium    high     0\n",
       "..     ...     ...   ...\n",
       "95    high     low     0\n",
       "96  medium  medium     1\n",
       "97  medium     low     0\n",
       "98     low  medium     0\n",
       "99     low  medium     0\n",
       "\n",
       "[100 rows x 3 columns]"
      ]
     },
     "execution_count": 31,
     "metadata": {},
     "output_type": "execute_result"
    }
   ],
   "source": [
    "df = pd.DataFrame(columns=[\"a\", \"b\", \"class\"], index = [i for i in range(0,100)])\n",
    "\n",
    "\n",
    "a = [random.randint(0, 2) for i in range(100)]\n",
    "b = [random.randint(0, 2) for i in range(100)]\n",
    "\n",
    "\n",
    "df[\"a\"] = a\n",
    "df[\"b\"] = b\n",
    "\n",
    "df = df.replace({'a': {0: \"low\", 1: \"medium\", 2: \"high\"}, 'b': {0: \"low\", 1: \"medium\", 2: \"high\"}})\n",
    "df.loc[(df[\"a\"] == df[\"b\"]),\"class\"] = \"1\"\n",
    "df = df.fillna(\"0\")\n",
    "df"
   ]
  },
  {
   "cell_type": "code",
   "execution_count": 33,
   "metadata": {},
   "outputs": [
    {
     "data": {
      "application/vnd.plotly.v1+json": {
       "config": {
        "plotlyServerURL": "https://plot.ly"
       },
       "data": [
        {
         "hovertemplate": "class=0<br>a=%{x}<br>b=%{y}<extra></extra>",
         "legendgroup": "0",
         "marker": {
          "color": "#636efa",
          "symbol": "circle"
         },
         "mode": "markers",
         "name": "0",
         "orientation": "v",
         "showlegend": true,
         "type": "scatter",
         "x": [
          "medium",
          "medium",
          "medium",
          "high",
          "medium",
          "medium",
          "high",
          "medium",
          "medium",
          "high",
          "low",
          "medium",
          "low",
          "low",
          "low",
          "low",
          "high",
          "medium",
          "medium",
          "high",
          "medium",
          "low",
          "medium",
          "low",
          "high",
          "low",
          "high",
          "low",
          "low",
          "medium",
          "medium",
          "medium",
          "medium",
          "low",
          "high",
          "high",
          "high",
          "high",
          "low",
          "medium",
          "medium",
          "medium",
          "low",
          "medium",
          "medium",
          "high",
          "high",
          "medium",
          "low",
          "low",
          "low",
          "low",
          "medium",
          "high",
          "medium",
          "medium",
          "medium",
          "medium",
          "medium",
          "medium",
          "medium",
          "low",
          "low",
          "low",
          "low",
          "high",
          "medium",
          "low",
          "low"
         ],
         "xaxis": "x",
         "y": [
          "low",
          "low",
          "high",
          "low",
          "high",
          "high",
          "medium",
          "high",
          "low",
          "low",
          "medium",
          "high",
          "medium",
          "medium",
          "high",
          "medium",
          "low",
          "high",
          "low",
          "medium",
          "high",
          "medium",
          "low",
          "high",
          "medium",
          "high",
          "medium",
          "medium",
          "high",
          "high",
          "low",
          "high",
          "low",
          "medium",
          "low",
          "low",
          "low",
          "medium",
          "high",
          "high",
          "high",
          "low",
          "high",
          "low",
          "high",
          "low",
          "medium",
          "low",
          "medium",
          "medium",
          "medium",
          "medium",
          "low",
          "medium",
          "low",
          "high",
          "high",
          "low",
          "high",
          "high",
          "high",
          "high",
          "high",
          "medium",
          "high",
          "low",
          "low",
          "medium",
          "medium"
         ],
         "yaxis": "y"
        },
        {
         "hovertemplate": "class=1<br>a=%{x}<br>b=%{y}<extra></extra>",
         "legendgroup": "1",
         "marker": {
          "color": "#EF553B",
          "symbol": "circle"
         },
         "mode": "markers",
         "name": "1",
         "orientation": "v",
         "showlegend": true,
         "type": "scatter",
         "x": [
          "low",
          "medium",
          "low",
          "high",
          "medium",
          "high",
          "medium",
          "low",
          "high",
          "medium",
          "medium",
          "high",
          "medium",
          "medium",
          "high",
          "medium",
          "medium",
          "low",
          "high",
          "high",
          "medium",
          "medium",
          "medium",
          "medium",
          "medium",
          "high",
          "low",
          "medium",
          "high",
          "medium",
          "medium"
         ],
         "xaxis": "x",
         "y": [
          "low",
          "medium",
          "low",
          "high",
          "medium",
          "high",
          "medium",
          "low",
          "high",
          "medium",
          "medium",
          "high",
          "medium",
          "medium",
          "high",
          "medium",
          "medium",
          "low",
          "high",
          "high",
          "medium",
          "medium",
          "medium",
          "medium",
          "medium",
          "high",
          "low",
          "medium",
          "high",
          "medium",
          "medium"
         ],
         "yaxis": "y"
        }
       ],
       "layout": {
        "height": 560,
        "legend": {
         "title": {
          "text": "class"
         },
         "tracegroupgap": 0
        },
        "margin": {
         "t": 60
        },
        "template": {
         "data": {
          "bar": [
           {
            "error_x": {
             "color": "#2a3f5f"
            },
            "error_y": {
             "color": "#2a3f5f"
            },
            "marker": {
             "line": {
              "color": "#E5ECF6",
              "width": 0.5
             },
             "pattern": {
              "fillmode": "overlay",
              "size": 10,
              "solidity": 0.2
             }
            },
            "type": "bar"
           }
          ],
          "barpolar": [
           {
            "marker": {
             "line": {
              "color": "#E5ECF6",
              "width": 0.5
             },
             "pattern": {
              "fillmode": "overlay",
              "size": 10,
              "solidity": 0.2
             }
            },
            "type": "barpolar"
           }
          ],
          "carpet": [
           {
            "aaxis": {
             "endlinecolor": "#2a3f5f",
             "gridcolor": "white",
             "linecolor": "white",
             "minorgridcolor": "white",
             "startlinecolor": "#2a3f5f"
            },
            "baxis": {
             "endlinecolor": "#2a3f5f",
             "gridcolor": "white",
             "linecolor": "white",
             "minorgridcolor": "white",
             "startlinecolor": "#2a3f5f"
            },
            "type": "carpet"
           }
          ],
          "choropleth": [
           {
            "colorbar": {
             "outlinewidth": 0,
             "ticks": ""
            },
            "type": "choropleth"
           }
          ],
          "contour": [
           {
            "colorbar": {
             "outlinewidth": 0,
             "ticks": ""
            },
            "colorscale": [
             [
              0,
              "#0d0887"
             ],
             [
              0.1111111111111111,
              "#46039f"
             ],
             [
              0.2222222222222222,
              "#7201a8"
             ],
             [
              0.3333333333333333,
              "#9c179e"
             ],
             [
              0.4444444444444444,
              "#bd3786"
             ],
             [
              0.5555555555555556,
              "#d8576b"
             ],
             [
              0.6666666666666666,
              "#ed7953"
             ],
             [
              0.7777777777777778,
              "#fb9f3a"
             ],
             [
              0.8888888888888888,
              "#fdca26"
             ],
             [
              1,
              "#f0f921"
             ]
            ],
            "type": "contour"
           }
          ],
          "contourcarpet": [
           {
            "colorbar": {
             "outlinewidth": 0,
             "ticks": ""
            },
            "type": "contourcarpet"
           }
          ],
          "heatmap": [
           {
            "colorbar": {
             "outlinewidth": 0,
             "ticks": ""
            },
            "colorscale": [
             [
              0,
              "#0d0887"
             ],
             [
              0.1111111111111111,
              "#46039f"
             ],
             [
              0.2222222222222222,
              "#7201a8"
             ],
             [
              0.3333333333333333,
              "#9c179e"
             ],
             [
              0.4444444444444444,
              "#bd3786"
             ],
             [
              0.5555555555555556,
              "#d8576b"
             ],
             [
              0.6666666666666666,
              "#ed7953"
             ],
             [
              0.7777777777777778,
              "#fb9f3a"
             ],
             [
              0.8888888888888888,
              "#fdca26"
             ],
             [
              1,
              "#f0f921"
             ]
            ],
            "type": "heatmap"
           }
          ],
          "heatmapgl": [
           {
            "colorbar": {
             "outlinewidth": 0,
             "ticks": ""
            },
            "colorscale": [
             [
              0,
              "#0d0887"
             ],
             [
              0.1111111111111111,
              "#46039f"
             ],
             [
              0.2222222222222222,
              "#7201a8"
             ],
             [
              0.3333333333333333,
              "#9c179e"
             ],
             [
              0.4444444444444444,
              "#bd3786"
             ],
             [
              0.5555555555555556,
              "#d8576b"
             ],
             [
              0.6666666666666666,
              "#ed7953"
             ],
             [
              0.7777777777777778,
              "#fb9f3a"
             ],
             [
              0.8888888888888888,
              "#fdca26"
             ],
             [
              1,
              "#f0f921"
             ]
            ],
            "type": "heatmapgl"
           }
          ],
          "histogram": [
           {
            "marker": {
             "pattern": {
              "fillmode": "overlay",
              "size": 10,
              "solidity": 0.2
             }
            },
            "type": "histogram"
           }
          ],
          "histogram2d": [
           {
            "colorbar": {
             "outlinewidth": 0,
             "ticks": ""
            },
            "colorscale": [
             [
              0,
              "#0d0887"
             ],
             [
              0.1111111111111111,
              "#46039f"
             ],
             [
              0.2222222222222222,
              "#7201a8"
             ],
             [
              0.3333333333333333,
              "#9c179e"
             ],
             [
              0.4444444444444444,
              "#bd3786"
             ],
             [
              0.5555555555555556,
              "#d8576b"
             ],
             [
              0.6666666666666666,
              "#ed7953"
             ],
             [
              0.7777777777777778,
              "#fb9f3a"
             ],
             [
              0.8888888888888888,
              "#fdca26"
             ],
             [
              1,
              "#f0f921"
             ]
            ],
            "type": "histogram2d"
           }
          ],
          "histogram2dcontour": [
           {
            "colorbar": {
             "outlinewidth": 0,
             "ticks": ""
            },
            "colorscale": [
             [
              0,
              "#0d0887"
             ],
             [
              0.1111111111111111,
              "#46039f"
             ],
             [
              0.2222222222222222,
              "#7201a8"
             ],
             [
              0.3333333333333333,
              "#9c179e"
             ],
             [
              0.4444444444444444,
              "#bd3786"
             ],
             [
              0.5555555555555556,
              "#d8576b"
             ],
             [
              0.6666666666666666,
              "#ed7953"
             ],
             [
              0.7777777777777778,
              "#fb9f3a"
             ],
             [
              0.8888888888888888,
              "#fdca26"
             ],
             [
              1,
              "#f0f921"
             ]
            ],
            "type": "histogram2dcontour"
           }
          ],
          "mesh3d": [
           {
            "colorbar": {
             "outlinewidth": 0,
             "ticks": ""
            },
            "type": "mesh3d"
           }
          ],
          "parcoords": [
           {
            "line": {
             "colorbar": {
              "outlinewidth": 0,
              "ticks": ""
             }
            },
            "type": "parcoords"
           }
          ],
          "pie": [
           {
            "automargin": true,
            "type": "pie"
           }
          ],
          "scatter": [
           {
            "fillpattern": {
             "fillmode": "overlay",
             "size": 10,
             "solidity": 0.2
            },
            "type": "scatter"
           }
          ],
          "scatter3d": [
           {
            "line": {
             "colorbar": {
              "outlinewidth": 0,
              "ticks": ""
             }
            },
            "marker": {
             "colorbar": {
              "outlinewidth": 0,
              "ticks": ""
             }
            },
            "type": "scatter3d"
           }
          ],
          "scattercarpet": [
           {
            "marker": {
             "colorbar": {
              "outlinewidth": 0,
              "ticks": ""
             }
            },
            "type": "scattercarpet"
           }
          ],
          "scattergeo": [
           {
            "marker": {
             "colorbar": {
              "outlinewidth": 0,
              "ticks": ""
             }
            },
            "type": "scattergeo"
           }
          ],
          "scattergl": [
           {
            "marker": {
             "colorbar": {
              "outlinewidth": 0,
              "ticks": ""
             }
            },
            "type": "scattergl"
           }
          ],
          "scattermapbox": [
           {
            "marker": {
             "colorbar": {
              "outlinewidth": 0,
              "ticks": ""
             }
            },
            "type": "scattermapbox"
           }
          ],
          "scatterpolar": [
           {
            "marker": {
             "colorbar": {
              "outlinewidth": 0,
              "ticks": ""
             }
            },
            "type": "scatterpolar"
           }
          ],
          "scatterpolargl": [
           {
            "marker": {
             "colorbar": {
              "outlinewidth": 0,
              "ticks": ""
             }
            },
            "type": "scatterpolargl"
           }
          ],
          "scatterternary": [
           {
            "marker": {
             "colorbar": {
              "outlinewidth": 0,
              "ticks": ""
             }
            },
            "type": "scatterternary"
           }
          ],
          "surface": [
           {
            "colorbar": {
             "outlinewidth": 0,
             "ticks": ""
            },
            "colorscale": [
             [
              0,
              "#0d0887"
             ],
             [
              0.1111111111111111,
              "#46039f"
             ],
             [
              0.2222222222222222,
              "#7201a8"
             ],
             [
              0.3333333333333333,
              "#9c179e"
             ],
             [
              0.4444444444444444,
              "#bd3786"
             ],
             [
              0.5555555555555556,
              "#d8576b"
             ],
             [
              0.6666666666666666,
              "#ed7953"
             ],
             [
              0.7777777777777778,
              "#fb9f3a"
             ],
             [
              0.8888888888888888,
              "#fdca26"
             ],
             [
              1,
              "#f0f921"
             ]
            ],
            "type": "surface"
           }
          ],
          "table": [
           {
            "cells": {
             "fill": {
              "color": "#EBF0F8"
             },
             "line": {
              "color": "white"
             }
            },
            "header": {
             "fill": {
              "color": "#C8D4E3"
             },
             "line": {
              "color": "white"
             }
            },
            "type": "table"
           }
          ]
         },
         "layout": {
          "annotationdefaults": {
           "arrowcolor": "#2a3f5f",
           "arrowhead": 0,
           "arrowwidth": 1
          },
          "autotypenumbers": "strict",
          "coloraxis": {
           "colorbar": {
            "outlinewidth": 0,
            "ticks": ""
           }
          },
          "colorscale": {
           "diverging": [
            [
             0,
             "#8e0152"
            ],
            [
             0.1,
             "#c51b7d"
            ],
            [
             0.2,
             "#de77ae"
            ],
            [
             0.3,
             "#f1b6da"
            ],
            [
             0.4,
             "#fde0ef"
            ],
            [
             0.5,
             "#f7f7f7"
            ],
            [
             0.6,
             "#e6f5d0"
            ],
            [
             0.7,
             "#b8e186"
            ],
            [
             0.8,
             "#7fbc41"
            ],
            [
             0.9,
             "#4d9221"
            ],
            [
             1,
             "#276419"
            ]
           ],
           "sequential": [
            [
             0,
             "#0d0887"
            ],
            [
             0.1111111111111111,
             "#46039f"
            ],
            [
             0.2222222222222222,
             "#7201a8"
            ],
            [
             0.3333333333333333,
             "#9c179e"
            ],
            [
             0.4444444444444444,
             "#bd3786"
            ],
            [
             0.5555555555555556,
             "#d8576b"
            ],
            [
             0.6666666666666666,
             "#ed7953"
            ],
            [
             0.7777777777777778,
             "#fb9f3a"
            ],
            [
             0.8888888888888888,
             "#fdca26"
            ],
            [
             1,
             "#f0f921"
            ]
           ],
           "sequentialminus": [
            [
             0,
             "#0d0887"
            ],
            [
             0.1111111111111111,
             "#46039f"
            ],
            [
             0.2222222222222222,
             "#7201a8"
            ],
            [
             0.3333333333333333,
             "#9c179e"
            ],
            [
             0.4444444444444444,
             "#bd3786"
            ],
            [
             0.5555555555555556,
             "#d8576b"
            ],
            [
             0.6666666666666666,
             "#ed7953"
            ],
            [
             0.7777777777777778,
             "#fb9f3a"
            ],
            [
             0.8888888888888888,
             "#fdca26"
            ],
            [
             1,
             "#f0f921"
            ]
           ]
          },
          "colorway": [
           "#636efa",
           "#EF553B",
           "#00cc96",
           "#ab63fa",
           "#FFA15A",
           "#19d3f3",
           "#FF6692",
           "#B6E880",
           "#FF97FF",
           "#FECB52"
          ],
          "font": {
           "color": "#2a3f5f"
          },
          "geo": {
           "bgcolor": "white",
           "lakecolor": "white",
           "landcolor": "#E5ECF6",
           "showlakes": true,
           "showland": true,
           "subunitcolor": "white"
          },
          "hoverlabel": {
           "align": "left"
          },
          "hovermode": "closest",
          "mapbox": {
           "style": "light"
          },
          "paper_bgcolor": "white",
          "plot_bgcolor": "#E5ECF6",
          "polar": {
           "angularaxis": {
            "gridcolor": "white",
            "linecolor": "white",
            "ticks": ""
           },
           "bgcolor": "#E5ECF6",
           "radialaxis": {
            "gridcolor": "white",
            "linecolor": "white",
            "ticks": ""
           }
          },
          "scene": {
           "xaxis": {
            "backgroundcolor": "#E5ECF6",
            "gridcolor": "white",
            "gridwidth": 2,
            "linecolor": "white",
            "showbackground": true,
            "ticks": "",
            "zerolinecolor": "white"
           },
           "yaxis": {
            "backgroundcolor": "#E5ECF6",
            "gridcolor": "white",
            "gridwidth": 2,
            "linecolor": "white",
            "showbackground": true,
            "ticks": "",
            "zerolinecolor": "white"
           },
           "zaxis": {
            "backgroundcolor": "#E5ECF6",
            "gridcolor": "white",
            "gridwidth": 2,
            "linecolor": "white",
            "showbackground": true,
            "ticks": "",
            "zerolinecolor": "white"
           }
          },
          "shapedefaults": {
           "line": {
            "color": "#2a3f5f"
           }
          },
          "ternary": {
           "aaxis": {
            "gridcolor": "white",
            "linecolor": "white",
            "ticks": ""
           },
           "baxis": {
            "gridcolor": "white",
            "linecolor": "white",
            "ticks": ""
           },
           "bgcolor": "#E5ECF6",
           "caxis": {
            "gridcolor": "white",
            "linecolor": "white",
            "ticks": ""
           }
          },
          "title": {
           "x": 0.05
          },
          "xaxis": {
           "automargin": true,
           "gridcolor": "white",
           "linecolor": "white",
           "ticks": "",
           "title": {
            "standoff": 15
           },
           "zerolinecolor": "white",
           "zerolinewidth": 2
          },
          "yaxis": {
           "automargin": true,
           "gridcolor": "white",
           "linecolor": "white",
           "ticks": "",
           "title": {
            "standoff": 15
           },
           "zerolinecolor": "white",
           "zerolinewidth": 2
          }
         }
        },
        "width": 560,
        "xaxis": {
         "anchor": "y",
         "domain": [
          0,
          1
         ],
         "title": {
          "text": "a"
         }
        },
        "yaxis": {
         "anchor": "x",
         "domain": [
          0,
          1
         ],
         "title": {
          "text": "b"
         }
        }
       }
      },
      "text/html": [
       "<div>                            <div id=\"b76c377b-2b01-466d-bd5f-5b97a38d720a\" class=\"plotly-graph-div\" style=\"height:560px; width:560px;\"></div>            <script type=\"text/javascript\">                require([\"plotly\"], function(Plotly) {                    window.PLOTLYENV=window.PLOTLYENV || {};                                    if (document.getElementById(\"b76c377b-2b01-466d-bd5f-5b97a38d720a\")) {                    Plotly.newPlot(                        \"b76c377b-2b01-466d-bd5f-5b97a38d720a\",                        [{\"hovertemplate\":\"class=0<br>a=%{x}<br>b=%{y}<extra></extra>\",\"legendgroup\":\"0\",\"marker\":{\"color\":\"#636efa\",\"symbol\":\"circle\"},\"mode\":\"markers\",\"name\":\"0\",\"orientation\":\"v\",\"showlegend\":true,\"x\":[\"medium\",\"medium\",\"medium\",\"high\",\"medium\",\"medium\",\"high\",\"medium\",\"medium\",\"high\",\"low\",\"medium\",\"low\",\"low\",\"low\",\"low\",\"high\",\"medium\",\"medium\",\"high\",\"medium\",\"low\",\"medium\",\"low\",\"high\",\"low\",\"high\",\"low\",\"low\",\"medium\",\"medium\",\"medium\",\"medium\",\"low\",\"high\",\"high\",\"high\",\"high\",\"low\",\"medium\",\"medium\",\"medium\",\"low\",\"medium\",\"medium\",\"high\",\"high\",\"medium\",\"low\",\"low\",\"low\",\"low\",\"medium\",\"high\",\"medium\",\"medium\",\"medium\",\"medium\",\"medium\",\"medium\",\"medium\",\"low\",\"low\",\"low\",\"low\",\"high\",\"medium\",\"low\",\"low\"],\"xaxis\":\"x\",\"y\":[\"low\",\"low\",\"high\",\"low\",\"high\",\"high\",\"medium\",\"high\",\"low\",\"low\",\"medium\",\"high\",\"medium\",\"medium\",\"high\",\"medium\",\"low\",\"high\",\"low\",\"medium\",\"high\",\"medium\",\"low\",\"high\",\"medium\",\"high\",\"medium\",\"medium\",\"high\",\"high\",\"low\",\"high\",\"low\",\"medium\",\"low\",\"low\",\"low\",\"medium\",\"high\",\"high\",\"high\",\"low\",\"high\",\"low\",\"high\",\"low\",\"medium\",\"low\",\"medium\",\"medium\",\"medium\",\"medium\",\"low\",\"medium\",\"low\",\"high\",\"high\",\"low\",\"high\",\"high\",\"high\",\"high\",\"high\",\"medium\",\"high\",\"low\",\"low\",\"medium\",\"medium\"],\"yaxis\":\"y\",\"type\":\"scatter\"},{\"hovertemplate\":\"class=1<br>a=%{x}<br>b=%{y}<extra></extra>\",\"legendgroup\":\"1\",\"marker\":{\"color\":\"#EF553B\",\"symbol\":\"circle\"},\"mode\":\"markers\",\"name\":\"1\",\"orientation\":\"v\",\"showlegend\":true,\"x\":[\"low\",\"medium\",\"low\",\"high\",\"medium\",\"high\",\"medium\",\"low\",\"high\",\"medium\",\"medium\",\"high\",\"medium\",\"medium\",\"high\",\"medium\",\"medium\",\"low\",\"high\",\"high\",\"medium\",\"medium\",\"medium\",\"medium\",\"medium\",\"high\",\"low\",\"medium\",\"high\",\"medium\",\"medium\"],\"xaxis\":\"x\",\"y\":[\"low\",\"medium\",\"low\",\"high\",\"medium\",\"high\",\"medium\",\"low\",\"high\",\"medium\",\"medium\",\"high\",\"medium\",\"medium\",\"high\",\"medium\",\"medium\",\"low\",\"high\",\"high\",\"medium\",\"medium\",\"medium\",\"medium\",\"medium\",\"high\",\"low\",\"medium\",\"high\",\"medium\",\"medium\"],\"yaxis\":\"y\",\"type\":\"scatter\"}],                        {\"template\":{\"data\":{\"histogram2dcontour\":[{\"type\":\"histogram2dcontour\",\"colorbar\":{\"outlinewidth\":0,\"ticks\":\"\"},\"colorscale\":[[0.0,\"#0d0887\"],[0.1111111111111111,\"#46039f\"],[0.2222222222222222,\"#7201a8\"],[0.3333333333333333,\"#9c179e\"],[0.4444444444444444,\"#bd3786\"],[0.5555555555555556,\"#d8576b\"],[0.6666666666666666,\"#ed7953\"],[0.7777777777777778,\"#fb9f3a\"],[0.8888888888888888,\"#fdca26\"],[1.0,\"#f0f921\"]]}],\"choropleth\":[{\"type\":\"choropleth\",\"colorbar\":{\"outlinewidth\":0,\"ticks\":\"\"}}],\"histogram2d\":[{\"type\":\"histogram2d\",\"colorbar\":{\"outlinewidth\":0,\"ticks\":\"\"},\"colorscale\":[[0.0,\"#0d0887\"],[0.1111111111111111,\"#46039f\"],[0.2222222222222222,\"#7201a8\"],[0.3333333333333333,\"#9c179e\"],[0.4444444444444444,\"#bd3786\"],[0.5555555555555556,\"#d8576b\"],[0.6666666666666666,\"#ed7953\"],[0.7777777777777778,\"#fb9f3a\"],[0.8888888888888888,\"#fdca26\"],[1.0,\"#f0f921\"]]}],\"heatmap\":[{\"type\":\"heatmap\",\"colorbar\":{\"outlinewidth\":0,\"ticks\":\"\"},\"colorscale\":[[0.0,\"#0d0887\"],[0.1111111111111111,\"#46039f\"],[0.2222222222222222,\"#7201a8\"],[0.3333333333333333,\"#9c179e\"],[0.4444444444444444,\"#bd3786\"],[0.5555555555555556,\"#d8576b\"],[0.6666666666666666,\"#ed7953\"],[0.7777777777777778,\"#fb9f3a\"],[0.8888888888888888,\"#fdca26\"],[1.0,\"#f0f921\"]]}],\"heatmapgl\":[{\"type\":\"heatmapgl\",\"colorbar\":{\"outlinewidth\":0,\"ticks\":\"\"},\"colorscale\":[[0.0,\"#0d0887\"],[0.1111111111111111,\"#46039f\"],[0.2222222222222222,\"#7201a8\"],[0.3333333333333333,\"#9c179e\"],[0.4444444444444444,\"#bd3786\"],[0.5555555555555556,\"#d8576b\"],[0.6666666666666666,\"#ed7953\"],[0.7777777777777778,\"#fb9f3a\"],[0.8888888888888888,\"#fdca26\"],[1.0,\"#f0f921\"]]}],\"contourcarpet\":[{\"type\":\"contourcarpet\",\"colorbar\":{\"outlinewidth\":0,\"ticks\":\"\"}}],\"contour\":[{\"type\":\"contour\",\"colorbar\":{\"outlinewidth\":0,\"ticks\":\"\"},\"colorscale\":[[0.0,\"#0d0887\"],[0.1111111111111111,\"#46039f\"],[0.2222222222222222,\"#7201a8\"],[0.3333333333333333,\"#9c179e\"],[0.4444444444444444,\"#bd3786\"],[0.5555555555555556,\"#d8576b\"],[0.6666666666666666,\"#ed7953\"],[0.7777777777777778,\"#fb9f3a\"],[0.8888888888888888,\"#fdca26\"],[1.0,\"#f0f921\"]]}],\"surface\":[{\"type\":\"surface\",\"colorbar\":{\"outlinewidth\":0,\"ticks\":\"\"},\"colorscale\":[[0.0,\"#0d0887\"],[0.1111111111111111,\"#46039f\"],[0.2222222222222222,\"#7201a8\"],[0.3333333333333333,\"#9c179e\"],[0.4444444444444444,\"#bd3786\"],[0.5555555555555556,\"#d8576b\"],[0.6666666666666666,\"#ed7953\"],[0.7777777777777778,\"#fb9f3a\"],[0.8888888888888888,\"#fdca26\"],[1.0,\"#f0f921\"]]}],\"mesh3d\":[{\"type\":\"mesh3d\",\"colorbar\":{\"outlinewidth\":0,\"ticks\":\"\"}}],\"scatter\":[{\"fillpattern\":{\"fillmode\":\"overlay\",\"size\":10,\"solidity\":0.2},\"type\":\"scatter\"}],\"parcoords\":[{\"type\":\"parcoords\",\"line\":{\"colorbar\":{\"outlinewidth\":0,\"ticks\":\"\"}}}],\"scatterpolargl\":[{\"type\":\"scatterpolargl\",\"marker\":{\"colorbar\":{\"outlinewidth\":0,\"ticks\":\"\"}}}],\"bar\":[{\"error_x\":{\"color\":\"#2a3f5f\"},\"error_y\":{\"color\":\"#2a3f5f\"},\"marker\":{\"line\":{\"color\":\"#E5ECF6\",\"width\":0.5},\"pattern\":{\"fillmode\":\"overlay\",\"size\":10,\"solidity\":0.2}},\"type\":\"bar\"}],\"scattergeo\":[{\"type\":\"scattergeo\",\"marker\":{\"colorbar\":{\"outlinewidth\":0,\"ticks\":\"\"}}}],\"scatterpolar\":[{\"type\":\"scatterpolar\",\"marker\":{\"colorbar\":{\"outlinewidth\":0,\"ticks\":\"\"}}}],\"histogram\":[{\"marker\":{\"pattern\":{\"fillmode\":\"overlay\",\"size\":10,\"solidity\":0.2}},\"type\":\"histogram\"}],\"scattergl\":[{\"type\":\"scattergl\",\"marker\":{\"colorbar\":{\"outlinewidth\":0,\"ticks\":\"\"}}}],\"scatter3d\":[{\"type\":\"scatter3d\",\"line\":{\"colorbar\":{\"outlinewidth\":0,\"ticks\":\"\"}},\"marker\":{\"colorbar\":{\"outlinewidth\":0,\"ticks\":\"\"}}}],\"scattermapbox\":[{\"type\":\"scattermapbox\",\"marker\":{\"colorbar\":{\"outlinewidth\":0,\"ticks\":\"\"}}}],\"scatterternary\":[{\"type\":\"scatterternary\",\"marker\":{\"colorbar\":{\"outlinewidth\":0,\"ticks\":\"\"}}}],\"scattercarpet\":[{\"type\":\"scattercarpet\",\"marker\":{\"colorbar\":{\"outlinewidth\":0,\"ticks\":\"\"}}}],\"carpet\":[{\"aaxis\":{\"endlinecolor\":\"#2a3f5f\",\"gridcolor\":\"white\",\"linecolor\":\"white\",\"minorgridcolor\":\"white\",\"startlinecolor\":\"#2a3f5f\"},\"baxis\":{\"endlinecolor\":\"#2a3f5f\",\"gridcolor\":\"white\",\"linecolor\":\"white\",\"minorgridcolor\":\"white\",\"startlinecolor\":\"#2a3f5f\"},\"type\":\"carpet\"}],\"table\":[{\"cells\":{\"fill\":{\"color\":\"#EBF0F8\"},\"line\":{\"color\":\"white\"}},\"header\":{\"fill\":{\"color\":\"#C8D4E3\"},\"line\":{\"color\":\"white\"}},\"type\":\"table\"}],\"barpolar\":[{\"marker\":{\"line\":{\"color\":\"#E5ECF6\",\"width\":0.5},\"pattern\":{\"fillmode\":\"overlay\",\"size\":10,\"solidity\":0.2}},\"type\":\"barpolar\"}],\"pie\":[{\"automargin\":true,\"type\":\"pie\"}]},\"layout\":{\"autotypenumbers\":\"strict\",\"colorway\":[\"#636efa\",\"#EF553B\",\"#00cc96\",\"#ab63fa\",\"#FFA15A\",\"#19d3f3\",\"#FF6692\",\"#B6E880\",\"#FF97FF\",\"#FECB52\"],\"font\":{\"color\":\"#2a3f5f\"},\"hovermode\":\"closest\",\"hoverlabel\":{\"align\":\"left\"},\"paper_bgcolor\":\"white\",\"plot_bgcolor\":\"#E5ECF6\",\"polar\":{\"bgcolor\":\"#E5ECF6\",\"angularaxis\":{\"gridcolor\":\"white\",\"linecolor\":\"white\",\"ticks\":\"\"},\"radialaxis\":{\"gridcolor\":\"white\",\"linecolor\":\"white\",\"ticks\":\"\"}},\"ternary\":{\"bgcolor\":\"#E5ECF6\",\"aaxis\":{\"gridcolor\":\"white\",\"linecolor\":\"white\",\"ticks\":\"\"},\"baxis\":{\"gridcolor\":\"white\",\"linecolor\":\"white\",\"ticks\":\"\"},\"caxis\":{\"gridcolor\":\"white\",\"linecolor\":\"white\",\"ticks\":\"\"}},\"coloraxis\":{\"colorbar\":{\"outlinewidth\":0,\"ticks\":\"\"}},\"colorscale\":{\"sequential\":[[0.0,\"#0d0887\"],[0.1111111111111111,\"#46039f\"],[0.2222222222222222,\"#7201a8\"],[0.3333333333333333,\"#9c179e\"],[0.4444444444444444,\"#bd3786\"],[0.5555555555555556,\"#d8576b\"],[0.6666666666666666,\"#ed7953\"],[0.7777777777777778,\"#fb9f3a\"],[0.8888888888888888,\"#fdca26\"],[1.0,\"#f0f921\"]],\"sequentialminus\":[[0.0,\"#0d0887\"],[0.1111111111111111,\"#46039f\"],[0.2222222222222222,\"#7201a8\"],[0.3333333333333333,\"#9c179e\"],[0.4444444444444444,\"#bd3786\"],[0.5555555555555556,\"#d8576b\"],[0.6666666666666666,\"#ed7953\"],[0.7777777777777778,\"#fb9f3a\"],[0.8888888888888888,\"#fdca26\"],[1.0,\"#f0f921\"]],\"diverging\":[[0,\"#8e0152\"],[0.1,\"#c51b7d\"],[0.2,\"#de77ae\"],[0.3,\"#f1b6da\"],[0.4,\"#fde0ef\"],[0.5,\"#f7f7f7\"],[0.6,\"#e6f5d0\"],[0.7,\"#b8e186\"],[0.8,\"#7fbc41\"],[0.9,\"#4d9221\"],[1,\"#276419\"]]},\"xaxis\":{\"gridcolor\":\"white\",\"linecolor\":\"white\",\"ticks\":\"\",\"title\":{\"standoff\":15},\"zerolinecolor\":\"white\",\"automargin\":true,\"zerolinewidth\":2},\"yaxis\":{\"gridcolor\":\"white\",\"linecolor\":\"white\",\"ticks\":\"\",\"title\":{\"standoff\":15},\"zerolinecolor\":\"white\",\"automargin\":true,\"zerolinewidth\":2},\"scene\":{\"xaxis\":{\"backgroundcolor\":\"#E5ECF6\",\"gridcolor\":\"white\",\"linecolor\":\"white\",\"showbackground\":true,\"ticks\":\"\",\"zerolinecolor\":\"white\",\"gridwidth\":2},\"yaxis\":{\"backgroundcolor\":\"#E5ECF6\",\"gridcolor\":\"white\",\"linecolor\":\"white\",\"showbackground\":true,\"ticks\":\"\",\"zerolinecolor\":\"white\",\"gridwidth\":2},\"zaxis\":{\"backgroundcolor\":\"#E5ECF6\",\"gridcolor\":\"white\",\"linecolor\":\"white\",\"showbackground\":true,\"ticks\":\"\",\"zerolinecolor\":\"white\",\"gridwidth\":2}},\"shapedefaults\":{\"line\":{\"color\":\"#2a3f5f\"}},\"annotationdefaults\":{\"arrowcolor\":\"#2a3f5f\",\"arrowhead\":0,\"arrowwidth\":1},\"geo\":{\"bgcolor\":\"white\",\"landcolor\":\"#E5ECF6\",\"subunitcolor\":\"white\",\"showland\":true,\"showlakes\":true,\"lakecolor\":\"white\"},\"title\":{\"x\":0.05},\"mapbox\":{\"style\":\"light\"}}},\"xaxis\":{\"anchor\":\"y\",\"domain\":[0.0,1.0],\"title\":{\"text\":\"a\"}},\"yaxis\":{\"anchor\":\"x\",\"domain\":[0.0,1.0],\"title\":{\"text\":\"b\"}},\"legend\":{\"title\":{\"text\":\"class\"},\"tracegroupgap\":0},\"margin\":{\"t\":60},\"height\":560,\"width\":560},                        {\"responsive\": true}                    ).then(function(){\n",
       "                            \n",
       "var gd = document.getElementById('b76c377b-2b01-466d-bd5f-5b97a38d720a');\n",
       "var x = new MutationObserver(function (mutations, observer) {{\n",
       "        var display = window.getComputedStyle(gd).display;\n",
       "        if (!display || display === 'none') {{\n",
       "            console.log([gd, 'removed!']);\n",
       "            Plotly.purge(gd);\n",
       "            observer.disconnect();\n",
       "        }}\n",
       "}});\n",
       "\n",
       "// Listen for the removal of the full notebook cells\n",
       "var notebookContainer = gd.closest('#notebook-container');\n",
       "if (notebookContainer) {{\n",
       "    x.observe(notebookContainer, {childList: true});\n",
       "}}\n",
       "\n",
       "// Listen for the clearing of the current output cell\n",
       "var outputEl = gd.closest('.output');\n",
       "if (outputEl) {{\n",
       "    x.observe(outputEl, {childList: true});\n",
       "}}\n",
       "\n",
       "                        })                };                });            </script>        </div>"
      ]
     },
     "metadata": {},
     "output_type": "display_data"
    }
   ],
   "source": [
    "fig = px.scatter(df, x='a',\n",
    "            y='b',\n",
    "            color='class',\n",
    "            height=560,\n",
    "            width=560,\n",
    "            )\n",
    "fig.show()"
   ]
  },
  {
   "cell_type": "code",
   "execution_count": 34,
   "metadata": {},
   "outputs": [
    {
     "name": "stdout",
     "output_type": "stream",
     "text": [
      "Rules original\n",
      "IF a = {low} AND b = {medium} THEN class = {0} (p = 14.0, n = 0.0, P = 69.0, N = 31.0, weight = 1.0, pvalue = 0.0034988391628794106)\n",
      "IF a = {low} AND b = {high} THEN class = {0} (p = 9.0, n = 0.0, P = 69.0, N = 31.0, weight = 1.0, pvalue = 0.02979241259542801)\n",
      "IF a = {medium} AND b = {low} THEN class = {0} (p = 14.0, n = 0.0, P = 69.0, N = 31.0, weight = 1.0, pvalue = 0.0034988391628794106)\n",
      "IF a = {high} AND b = {low} THEN class = {0} (p = 8.0, n = 0.0, P = 69.0, N = 31.0, weight = 1.0, pvalue = 0.04493281899638327)\n",
      "IF a = {medium} AND b = {high} THEN class = {0} (p = 17.0, n = 0.0, P = 69.0, N = 31.0, weight = 1.0, pvalue = 0.0008969322399662095)\n",
      "IF a = {medium} AND b = {medium} THEN class = {1} (p = 17.0, n = 0.0, P = 31.0, N = 69.0, weight = 1.0, pvalue = 3.987626267238035e-11)\n",
      "IF a = {high} AND b = {high} THEN class = {1} (p = 9.0, n = 0.0, P = 31.0, N = 69.0, weight = 1.0, pvalue = 1.0598116859877885e-05)\n",
      "\n",
      "\n",
      "Complex rules\n",
      "IF a != b THEN class = {0} (p = 69.0, n = 0.0, P = 69.0, N = 31.0, weight = 1.0, pvalue = 1.5077353235962045e-26)\n",
      "IF a = b THEN class = {1} (p = 31.0, n = 0.0, P = 31.0, N = 69.0, weight = 1.0, pvalue = 1.5077353235962045e-26)\n",
      "\n",
      "\n",
      "Complex rules + inners alternatives\n",
      "IF a != b THEN class = {0} (p = 69.0, n = 0.0, P = 69.0, N = 31.0, weight = 1.0, pvalue = 1.5077353235962045e-26)\n",
      "IF a = b THEN class = {1} (p = 31.0, n = 0.0, P = 31.0, N = 69.0, weight = 1.0, pvalue = 1.5077353235962045e-26)\n"
     ]
    }
   ],
   "source": [
    "X = df.drop(['class'], axis=1)\n",
    "y = df['class']\n",
    "\n",
    "clf_simple.fit(X, y)\n",
    "\n",
    "print(\"Rules original\")\n",
    "for rule in clf_simple.model.rules:\n",
    "    print(rule, rule.stats)\n",
    "\n",
    "print(\"\\n\\nComplex rules\")\n",
    "clf_complex.fit(X, y)\n",
    "for rule in clf_complex.model.rules:\n",
    "    print(rule, rule.stats)\n",
    "\n",
    "print(\"\\n\\nComplex rules + inners alternatives\")\n",
    "clf_complex_with_inners.fit(X, y)\n",
    "for rule in clf_complex_with_inners.model.rules:\n",
    "    print(rule, rule.stats)"
   ]
  },
  {
   "attachments": {},
   "cell_type": "markdown",
   "metadata": {},
   "source": [
    "# XOR"
   ]
  },
  {
   "cell_type": "code",
   "execution_count": 35,
   "metadata": {},
   "outputs": [
    {
     "data": {
      "text/html": [
       "<div>\n",
       "<style scoped>\n",
       "    .dataframe tbody tr th:only-of-type {\n",
       "        vertical-align: middle;\n",
       "    }\n",
       "\n",
       "    .dataframe tbody tr th {\n",
       "        vertical-align: top;\n",
       "    }\n",
       "\n",
       "    .dataframe thead th {\n",
       "        text-align: right;\n",
       "    }\n",
       "</style>\n",
       "<table border=\"1\" class=\"dataframe\">\n",
       "  <thead>\n",
       "    <tr style=\"text-align: right;\">\n",
       "      <th></th>\n",
       "      <th>a</th>\n",
       "      <th>b</th>\n",
       "      <th>class</th>\n",
       "    </tr>\n",
       "  </thead>\n",
       "  <tbody>\n",
       "    <tr>\n",
       "      <th>0</th>\n",
       "      <td>0</td>\n",
       "      <td>0</td>\n",
       "      <td>0</td>\n",
       "    </tr>\n",
       "    <tr>\n",
       "      <th>1</th>\n",
       "      <td>0</td>\n",
       "      <td>1</td>\n",
       "      <td>1</td>\n",
       "    </tr>\n",
       "    <tr>\n",
       "      <th>2</th>\n",
       "      <td>1</td>\n",
       "      <td>0</td>\n",
       "      <td>1</td>\n",
       "    </tr>\n",
       "    <tr>\n",
       "      <th>3</th>\n",
       "      <td>1</td>\n",
       "      <td>1</td>\n",
       "      <td>0</td>\n",
       "    </tr>\n",
       "  </tbody>\n",
       "</table>\n",
       "</div>"
      ],
      "text/plain": [
       "   a  b class\n",
       "0  0  0     0\n",
       "1  0  1     1\n",
       "2  1  0     1\n",
       "3  1  1     0"
      ]
     },
     "execution_count": 35,
     "metadata": {},
     "output_type": "execute_result"
    }
   ],
   "source": [
    "df = pd.DataFrame(columns=[\"a\", \"b\", \"class\"], index = [i for i in range(0,4)])\n",
    "\n",
    "\n",
    "a = [\"0\",\"0\",\"1\",\"1\"]\n",
    "b = [\"0\",\"1\",\"0\",\"1\"]\n",
    "\n",
    "df[\"a\"] = a\n",
    "df[\"b\"] = b\n",
    "\n",
    "df.loc[((df[\"a\"] == \"0\") & (df[\"b\"] == \"1\")) | ((df[\"a\"] == \"1\") & (df[\"b\"] == \"0\")) ,\"class\"] = \"1\"\n",
    "df = df.fillna(\"0\")\n",
    "df"
   ]
  },
  {
   "cell_type": "code",
   "execution_count": 36,
   "metadata": {},
   "outputs": [
    {
     "data": {
      "application/vnd.plotly.v1+json": {
       "config": {
        "plotlyServerURL": "https://plot.ly"
       },
       "data": [
        {
         "hovertemplate": "class=0<br>a=%{x}<br>b=%{y}<extra></extra>",
         "legendgroup": "0",
         "marker": {
          "color": "#636efa",
          "symbol": "circle"
         },
         "mode": "markers",
         "name": "0",
         "orientation": "v",
         "showlegend": true,
         "type": "scatter",
         "x": [
          "0",
          "1"
         ],
         "xaxis": "x",
         "y": [
          "0",
          "1"
         ],
         "yaxis": "y"
        },
        {
         "hovertemplate": "class=1<br>a=%{x}<br>b=%{y}<extra></extra>",
         "legendgroup": "1",
         "marker": {
          "color": "#EF553B",
          "symbol": "circle"
         },
         "mode": "markers",
         "name": "1",
         "orientation": "v",
         "showlegend": true,
         "type": "scatter",
         "x": [
          "0",
          "1"
         ],
         "xaxis": "x",
         "y": [
          "1",
          "0"
         ],
         "yaxis": "y"
        }
       ],
       "layout": {
        "height": 560,
        "legend": {
         "title": {
          "text": "class"
         },
         "tracegroupgap": 0
        },
        "margin": {
         "t": 60
        },
        "template": {
         "data": {
          "bar": [
           {
            "error_x": {
             "color": "#2a3f5f"
            },
            "error_y": {
             "color": "#2a3f5f"
            },
            "marker": {
             "line": {
              "color": "#E5ECF6",
              "width": 0.5
             },
             "pattern": {
              "fillmode": "overlay",
              "size": 10,
              "solidity": 0.2
             }
            },
            "type": "bar"
           }
          ],
          "barpolar": [
           {
            "marker": {
             "line": {
              "color": "#E5ECF6",
              "width": 0.5
             },
             "pattern": {
              "fillmode": "overlay",
              "size": 10,
              "solidity": 0.2
             }
            },
            "type": "barpolar"
           }
          ],
          "carpet": [
           {
            "aaxis": {
             "endlinecolor": "#2a3f5f",
             "gridcolor": "white",
             "linecolor": "white",
             "minorgridcolor": "white",
             "startlinecolor": "#2a3f5f"
            },
            "baxis": {
             "endlinecolor": "#2a3f5f",
             "gridcolor": "white",
             "linecolor": "white",
             "minorgridcolor": "white",
             "startlinecolor": "#2a3f5f"
            },
            "type": "carpet"
           }
          ],
          "choropleth": [
           {
            "colorbar": {
             "outlinewidth": 0,
             "ticks": ""
            },
            "type": "choropleth"
           }
          ],
          "contour": [
           {
            "colorbar": {
             "outlinewidth": 0,
             "ticks": ""
            },
            "colorscale": [
             [
              0,
              "#0d0887"
             ],
             [
              0.1111111111111111,
              "#46039f"
             ],
             [
              0.2222222222222222,
              "#7201a8"
             ],
             [
              0.3333333333333333,
              "#9c179e"
             ],
             [
              0.4444444444444444,
              "#bd3786"
             ],
             [
              0.5555555555555556,
              "#d8576b"
             ],
             [
              0.6666666666666666,
              "#ed7953"
             ],
             [
              0.7777777777777778,
              "#fb9f3a"
             ],
             [
              0.8888888888888888,
              "#fdca26"
             ],
             [
              1,
              "#f0f921"
             ]
            ],
            "type": "contour"
           }
          ],
          "contourcarpet": [
           {
            "colorbar": {
             "outlinewidth": 0,
             "ticks": ""
            },
            "type": "contourcarpet"
           }
          ],
          "heatmap": [
           {
            "colorbar": {
             "outlinewidth": 0,
             "ticks": ""
            },
            "colorscale": [
             [
              0,
              "#0d0887"
             ],
             [
              0.1111111111111111,
              "#46039f"
             ],
             [
              0.2222222222222222,
              "#7201a8"
             ],
             [
              0.3333333333333333,
              "#9c179e"
             ],
             [
              0.4444444444444444,
              "#bd3786"
             ],
             [
              0.5555555555555556,
              "#d8576b"
             ],
             [
              0.6666666666666666,
              "#ed7953"
             ],
             [
              0.7777777777777778,
              "#fb9f3a"
             ],
             [
              0.8888888888888888,
              "#fdca26"
             ],
             [
              1,
              "#f0f921"
             ]
            ],
            "type": "heatmap"
           }
          ],
          "heatmapgl": [
           {
            "colorbar": {
             "outlinewidth": 0,
             "ticks": ""
            },
            "colorscale": [
             [
              0,
              "#0d0887"
             ],
             [
              0.1111111111111111,
              "#46039f"
             ],
             [
              0.2222222222222222,
              "#7201a8"
             ],
             [
              0.3333333333333333,
              "#9c179e"
             ],
             [
              0.4444444444444444,
              "#bd3786"
             ],
             [
              0.5555555555555556,
              "#d8576b"
             ],
             [
              0.6666666666666666,
              "#ed7953"
             ],
             [
              0.7777777777777778,
              "#fb9f3a"
             ],
             [
              0.8888888888888888,
              "#fdca26"
             ],
             [
              1,
              "#f0f921"
             ]
            ],
            "type": "heatmapgl"
           }
          ],
          "histogram": [
           {
            "marker": {
             "pattern": {
              "fillmode": "overlay",
              "size": 10,
              "solidity": 0.2
             }
            },
            "type": "histogram"
           }
          ],
          "histogram2d": [
           {
            "colorbar": {
             "outlinewidth": 0,
             "ticks": ""
            },
            "colorscale": [
             [
              0,
              "#0d0887"
             ],
             [
              0.1111111111111111,
              "#46039f"
             ],
             [
              0.2222222222222222,
              "#7201a8"
             ],
             [
              0.3333333333333333,
              "#9c179e"
             ],
             [
              0.4444444444444444,
              "#bd3786"
             ],
             [
              0.5555555555555556,
              "#d8576b"
             ],
             [
              0.6666666666666666,
              "#ed7953"
             ],
             [
              0.7777777777777778,
              "#fb9f3a"
             ],
             [
              0.8888888888888888,
              "#fdca26"
             ],
             [
              1,
              "#f0f921"
             ]
            ],
            "type": "histogram2d"
           }
          ],
          "histogram2dcontour": [
           {
            "colorbar": {
             "outlinewidth": 0,
             "ticks": ""
            },
            "colorscale": [
             [
              0,
              "#0d0887"
             ],
             [
              0.1111111111111111,
              "#46039f"
             ],
             [
              0.2222222222222222,
              "#7201a8"
             ],
             [
              0.3333333333333333,
              "#9c179e"
             ],
             [
              0.4444444444444444,
              "#bd3786"
             ],
             [
              0.5555555555555556,
              "#d8576b"
             ],
             [
              0.6666666666666666,
              "#ed7953"
             ],
             [
              0.7777777777777778,
              "#fb9f3a"
             ],
             [
              0.8888888888888888,
              "#fdca26"
             ],
             [
              1,
              "#f0f921"
             ]
            ],
            "type": "histogram2dcontour"
           }
          ],
          "mesh3d": [
           {
            "colorbar": {
             "outlinewidth": 0,
             "ticks": ""
            },
            "type": "mesh3d"
           }
          ],
          "parcoords": [
           {
            "line": {
             "colorbar": {
              "outlinewidth": 0,
              "ticks": ""
             }
            },
            "type": "parcoords"
           }
          ],
          "pie": [
           {
            "automargin": true,
            "type": "pie"
           }
          ],
          "scatter": [
           {
            "fillpattern": {
             "fillmode": "overlay",
             "size": 10,
             "solidity": 0.2
            },
            "type": "scatter"
           }
          ],
          "scatter3d": [
           {
            "line": {
             "colorbar": {
              "outlinewidth": 0,
              "ticks": ""
             }
            },
            "marker": {
             "colorbar": {
              "outlinewidth": 0,
              "ticks": ""
             }
            },
            "type": "scatter3d"
           }
          ],
          "scattercarpet": [
           {
            "marker": {
             "colorbar": {
              "outlinewidth": 0,
              "ticks": ""
             }
            },
            "type": "scattercarpet"
           }
          ],
          "scattergeo": [
           {
            "marker": {
             "colorbar": {
              "outlinewidth": 0,
              "ticks": ""
             }
            },
            "type": "scattergeo"
           }
          ],
          "scattergl": [
           {
            "marker": {
             "colorbar": {
              "outlinewidth": 0,
              "ticks": ""
             }
            },
            "type": "scattergl"
           }
          ],
          "scattermapbox": [
           {
            "marker": {
             "colorbar": {
              "outlinewidth": 0,
              "ticks": ""
             }
            },
            "type": "scattermapbox"
           }
          ],
          "scatterpolar": [
           {
            "marker": {
             "colorbar": {
              "outlinewidth": 0,
              "ticks": ""
             }
            },
            "type": "scatterpolar"
           }
          ],
          "scatterpolargl": [
           {
            "marker": {
             "colorbar": {
              "outlinewidth": 0,
              "ticks": ""
             }
            },
            "type": "scatterpolargl"
           }
          ],
          "scatterternary": [
           {
            "marker": {
             "colorbar": {
              "outlinewidth": 0,
              "ticks": ""
             }
            },
            "type": "scatterternary"
           }
          ],
          "surface": [
           {
            "colorbar": {
             "outlinewidth": 0,
             "ticks": ""
            },
            "colorscale": [
             [
              0,
              "#0d0887"
             ],
             [
              0.1111111111111111,
              "#46039f"
             ],
             [
              0.2222222222222222,
              "#7201a8"
             ],
             [
              0.3333333333333333,
              "#9c179e"
             ],
             [
              0.4444444444444444,
              "#bd3786"
             ],
             [
              0.5555555555555556,
              "#d8576b"
             ],
             [
              0.6666666666666666,
              "#ed7953"
             ],
             [
              0.7777777777777778,
              "#fb9f3a"
             ],
             [
              0.8888888888888888,
              "#fdca26"
             ],
             [
              1,
              "#f0f921"
             ]
            ],
            "type": "surface"
           }
          ],
          "table": [
           {
            "cells": {
             "fill": {
              "color": "#EBF0F8"
             },
             "line": {
              "color": "white"
             }
            },
            "header": {
             "fill": {
              "color": "#C8D4E3"
             },
             "line": {
              "color": "white"
             }
            },
            "type": "table"
           }
          ]
         },
         "layout": {
          "annotationdefaults": {
           "arrowcolor": "#2a3f5f",
           "arrowhead": 0,
           "arrowwidth": 1
          },
          "autotypenumbers": "strict",
          "coloraxis": {
           "colorbar": {
            "outlinewidth": 0,
            "ticks": ""
           }
          },
          "colorscale": {
           "diverging": [
            [
             0,
             "#8e0152"
            ],
            [
             0.1,
             "#c51b7d"
            ],
            [
             0.2,
             "#de77ae"
            ],
            [
             0.3,
             "#f1b6da"
            ],
            [
             0.4,
             "#fde0ef"
            ],
            [
             0.5,
             "#f7f7f7"
            ],
            [
             0.6,
             "#e6f5d0"
            ],
            [
             0.7,
             "#b8e186"
            ],
            [
             0.8,
             "#7fbc41"
            ],
            [
             0.9,
             "#4d9221"
            ],
            [
             1,
             "#276419"
            ]
           ],
           "sequential": [
            [
             0,
             "#0d0887"
            ],
            [
             0.1111111111111111,
             "#46039f"
            ],
            [
             0.2222222222222222,
             "#7201a8"
            ],
            [
             0.3333333333333333,
             "#9c179e"
            ],
            [
             0.4444444444444444,
             "#bd3786"
            ],
            [
             0.5555555555555556,
             "#d8576b"
            ],
            [
             0.6666666666666666,
             "#ed7953"
            ],
            [
             0.7777777777777778,
             "#fb9f3a"
            ],
            [
             0.8888888888888888,
             "#fdca26"
            ],
            [
             1,
             "#f0f921"
            ]
           ],
           "sequentialminus": [
            [
             0,
             "#0d0887"
            ],
            [
             0.1111111111111111,
             "#46039f"
            ],
            [
             0.2222222222222222,
             "#7201a8"
            ],
            [
             0.3333333333333333,
             "#9c179e"
            ],
            [
             0.4444444444444444,
             "#bd3786"
            ],
            [
             0.5555555555555556,
             "#d8576b"
            ],
            [
             0.6666666666666666,
             "#ed7953"
            ],
            [
             0.7777777777777778,
             "#fb9f3a"
            ],
            [
             0.8888888888888888,
             "#fdca26"
            ],
            [
             1,
             "#f0f921"
            ]
           ]
          },
          "colorway": [
           "#636efa",
           "#EF553B",
           "#00cc96",
           "#ab63fa",
           "#FFA15A",
           "#19d3f3",
           "#FF6692",
           "#B6E880",
           "#FF97FF",
           "#FECB52"
          ],
          "font": {
           "color": "#2a3f5f"
          },
          "geo": {
           "bgcolor": "white",
           "lakecolor": "white",
           "landcolor": "#E5ECF6",
           "showlakes": true,
           "showland": true,
           "subunitcolor": "white"
          },
          "hoverlabel": {
           "align": "left"
          },
          "hovermode": "closest",
          "mapbox": {
           "style": "light"
          },
          "paper_bgcolor": "white",
          "plot_bgcolor": "#E5ECF6",
          "polar": {
           "angularaxis": {
            "gridcolor": "white",
            "linecolor": "white",
            "ticks": ""
           },
           "bgcolor": "#E5ECF6",
           "radialaxis": {
            "gridcolor": "white",
            "linecolor": "white",
            "ticks": ""
           }
          },
          "scene": {
           "xaxis": {
            "backgroundcolor": "#E5ECF6",
            "gridcolor": "white",
            "gridwidth": 2,
            "linecolor": "white",
            "showbackground": true,
            "ticks": "",
            "zerolinecolor": "white"
           },
           "yaxis": {
            "backgroundcolor": "#E5ECF6",
            "gridcolor": "white",
            "gridwidth": 2,
            "linecolor": "white",
            "showbackground": true,
            "ticks": "",
            "zerolinecolor": "white"
           },
           "zaxis": {
            "backgroundcolor": "#E5ECF6",
            "gridcolor": "white",
            "gridwidth": 2,
            "linecolor": "white",
            "showbackground": true,
            "ticks": "",
            "zerolinecolor": "white"
           }
          },
          "shapedefaults": {
           "line": {
            "color": "#2a3f5f"
           }
          },
          "ternary": {
           "aaxis": {
            "gridcolor": "white",
            "linecolor": "white",
            "ticks": ""
           },
           "baxis": {
            "gridcolor": "white",
            "linecolor": "white",
            "ticks": ""
           },
           "bgcolor": "#E5ECF6",
           "caxis": {
            "gridcolor": "white",
            "linecolor": "white",
            "ticks": ""
           }
          },
          "title": {
           "x": 0.05
          },
          "xaxis": {
           "automargin": true,
           "gridcolor": "white",
           "linecolor": "white",
           "ticks": "",
           "title": {
            "standoff": 15
           },
           "zerolinecolor": "white",
           "zerolinewidth": 2
          },
          "yaxis": {
           "automargin": true,
           "gridcolor": "white",
           "linecolor": "white",
           "ticks": "",
           "title": {
            "standoff": 15
           },
           "zerolinecolor": "white",
           "zerolinewidth": 2
          }
         }
        },
        "width": 560,
        "xaxis": {
         "anchor": "y",
         "domain": [
          0,
          1
         ],
         "title": {
          "text": "a"
         }
        },
        "yaxis": {
         "anchor": "x",
         "domain": [
          0,
          1
         ],
         "title": {
          "text": "b"
         }
        }
       }
      },
      "text/html": [
       "<div>                            <div id=\"ca29c923-a89d-4f2c-87d4-addefc3b803f\" class=\"plotly-graph-div\" style=\"height:560px; width:560px;\"></div>            <script type=\"text/javascript\">                require([\"plotly\"], function(Plotly) {                    window.PLOTLYENV=window.PLOTLYENV || {};                                    if (document.getElementById(\"ca29c923-a89d-4f2c-87d4-addefc3b803f\")) {                    Plotly.newPlot(                        \"ca29c923-a89d-4f2c-87d4-addefc3b803f\",                        [{\"hovertemplate\":\"class=0<br>a=%{x}<br>b=%{y}<extra></extra>\",\"legendgroup\":\"0\",\"marker\":{\"color\":\"#636efa\",\"symbol\":\"circle\"},\"mode\":\"markers\",\"name\":\"0\",\"orientation\":\"v\",\"showlegend\":true,\"x\":[\"0\",\"1\"],\"xaxis\":\"x\",\"y\":[\"0\",\"1\"],\"yaxis\":\"y\",\"type\":\"scatter\"},{\"hovertemplate\":\"class=1<br>a=%{x}<br>b=%{y}<extra></extra>\",\"legendgroup\":\"1\",\"marker\":{\"color\":\"#EF553B\",\"symbol\":\"circle\"},\"mode\":\"markers\",\"name\":\"1\",\"orientation\":\"v\",\"showlegend\":true,\"x\":[\"0\",\"1\"],\"xaxis\":\"x\",\"y\":[\"1\",\"0\"],\"yaxis\":\"y\",\"type\":\"scatter\"}],                        {\"template\":{\"data\":{\"histogram2dcontour\":[{\"type\":\"histogram2dcontour\",\"colorbar\":{\"outlinewidth\":0,\"ticks\":\"\"},\"colorscale\":[[0.0,\"#0d0887\"],[0.1111111111111111,\"#46039f\"],[0.2222222222222222,\"#7201a8\"],[0.3333333333333333,\"#9c179e\"],[0.4444444444444444,\"#bd3786\"],[0.5555555555555556,\"#d8576b\"],[0.6666666666666666,\"#ed7953\"],[0.7777777777777778,\"#fb9f3a\"],[0.8888888888888888,\"#fdca26\"],[1.0,\"#f0f921\"]]}],\"choropleth\":[{\"type\":\"choropleth\",\"colorbar\":{\"outlinewidth\":0,\"ticks\":\"\"}}],\"histogram2d\":[{\"type\":\"histogram2d\",\"colorbar\":{\"outlinewidth\":0,\"ticks\":\"\"},\"colorscale\":[[0.0,\"#0d0887\"],[0.1111111111111111,\"#46039f\"],[0.2222222222222222,\"#7201a8\"],[0.3333333333333333,\"#9c179e\"],[0.4444444444444444,\"#bd3786\"],[0.5555555555555556,\"#d8576b\"],[0.6666666666666666,\"#ed7953\"],[0.7777777777777778,\"#fb9f3a\"],[0.8888888888888888,\"#fdca26\"],[1.0,\"#f0f921\"]]}],\"heatmap\":[{\"type\":\"heatmap\",\"colorbar\":{\"outlinewidth\":0,\"ticks\":\"\"},\"colorscale\":[[0.0,\"#0d0887\"],[0.1111111111111111,\"#46039f\"],[0.2222222222222222,\"#7201a8\"],[0.3333333333333333,\"#9c179e\"],[0.4444444444444444,\"#bd3786\"],[0.5555555555555556,\"#d8576b\"],[0.6666666666666666,\"#ed7953\"],[0.7777777777777778,\"#fb9f3a\"],[0.8888888888888888,\"#fdca26\"],[1.0,\"#f0f921\"]]}],\"heatmapgl\":[{\"type\":\"heatmapgl\",\"colorbar\":{\"outlinewidth\":0,\"ticks\":\"\"},\"colorscale\":[[0.0,\"#0d0887\"],[0.1111111111111111,\"#46039f\"],[0.2222222222222222,\"#7201a8\"],[0.3333333333333333,\"#9c179e\"],[0.4444444444444444,\"#bd3786\"],[0.5555555555555556,\"#d8576b\"],[0.6666666666666666,\"#ed7953\"],[0.7777777777777778,\"#fb9f3a\"],[0.8888888888888888,\"#fdca26\"],[1.0,\"#f0f921\"]]}],\"contourcarpet\":[{\"type\":\"contourcarpet\",\"colorbar\":{\"outlinewidth\":0,\"ticks\":\"\"}}],\"contour\":[{\"type\":\"contour\",\"colorbar\":{\"outlinewidth\":0,\"ticks\":\"\"},\"colorscale\":[[0.0,\"#0d0887\"],[0.1111111111111111,\"#46039f\"],[0.2222222222222222,\"#7201a8\"],[0.3333333333333333,\"#9c179e\"],[0.4444444444444444,\"#bd3786\"],[0.5555555555555556,\"#d8576b\"],[0.6666666666666666,\"#ed7953\"],[0.7777777777777778,\"#fb9f3a\"],[0.8888888888888888,\"#fdca26\"],[1.0,\"#f0f921\"]]}],\"surface\":[{\"type\":\"surface\",\"colorbar\":{\"outlinewidth\":0,\"ticks\":\"\"},\"colorscale\":[[0.0,\"#0d0887\"],[0.1111111111111111,\"#46039f\"],[0.2222222222222222,\"#7201a8\"],[0.3333333333333333,\"#9c179e\"],[0.4444444444444444,\"#bd3786\"],[0.5555555555555556,\"#d8576b\"],[0.6666666666666666,\"#ed7953\"],[0.7777777777777778,\"#fb9f3a\"],[0.8888888888888888,\"#fdca26\"],[1.0,\"#f0f921\"]]}],\"mesh3d\":[{\"type\":\"mesh3d\",\"colorbar\":{\"outlinewidth\":0,\"ticks\":\"\"}}],\"scatter\":[{\"fillpattern\":{\"fillmode\":\"overlay\",\"size\":10,\"solidity\":0.2},\"type\":\"scatter\"}],\"parcoords\":[{\"type\":\"parcoords\",\"line\":{\"colorbar\":{\"outlinewidth\":0,\"ticks\":\"\"}}}],\"scatterpolargl\":[{\"type\":\"scatterpolargl\",\"marker\":{\"colorbar\":{\"outlinewidth\":0,\"ticks\":\"\"}}}],\"bar\":[{\"error_x\":{\"color\":\"#2a3f5f\"},\"error_y\":{\"color\":\"#2a3f5f\"},\"marker\":{\"line\":{\"color\":\"#E5ECF6\",\"width\":0.5},\"pattern\":{\"fillmode\":\"overlay\",\"size\":10,\"solidity\":0.2}},\"type\":\"bar\"}],\"scattergeo\":[{\"type\":\"scattergeo\",\"marker\":{\"colorbar\":{\"outlinewidth\":0,\"ticks\":\"\"}}}],\"scatterpolar\":[{\"type\":\"scatterpolar\",\"marker\":{\"colorbar\":{\"outlinewidth\":0,\"ticks\":\"\"}}}],\"histogram\":[{\"marker\":{\"pattern\":{\"fillmode\":\"overlay\",\"size\":10,\"solidity\":0.2}},\"type\":\"histogram\"}],\"scattergl\":[{\"type\":\"scattergl\",\"marker\":{\"colorbar\":{\"outlinewidth\":0,\"ticks\":\"\"}}}],\"scatter3d\":[{\"type\":\"scatter3d\",\"line\":{\"colorbar\":{\"outlinewidth\":0,\"ticks\":\"\"}},\"marker\":{\"colorbar\":{\"outlinewidth\":0,\"ticks\":\"\"}}}],\"scattermapbox\":[{\"type\":\"scattermapbox\",\"marker\":{\"colorbar\":{\"outlinewidth\":0,\"ticks\":\"\"}}}],\"scatterternary\":[{\"type\":\"scatterternary\",\"marker\":{\"colorbar\":{\"outlinewidth\":0,\"ticks\":\"\"}}}],\"scattercarpet\":[{\"type\":\"scattercarpet\",\"marker\":{\"colorbar\":{\"outlinewidth\":0,\"ticks\":\"\"}}}],\"carpet\":[{\"aaxis\":{\"endlinecolor\":\"#2a3f5f\",\"gridcolor\":\"white\",\"linecolor\":\"white\",\"minorgridcolor\":\"white\",\"startlinecolor\":\"#2a3f5f\"},\"baxis\":{\"endlinecolor\":\"#2a3f5f\",\"gridcolor\":\"white\",\"linecolor\":\"white\",\"minorgridcolor\":\"white\",\"startlinecolor\":\"#2a3f5f\"},\"type\":\"carpet\"}],\"table\":[{\"cells\":{\"fill\":{\"color\":\"#EBF0F8\"},\"line\":{\"color\":\"white\"}},\"header\":{\"fill\":{\"color\":\"#C8D4E3\"},\"line\":{\"color\":\"white\"}},\"type\":\"table\"}],\"barpolar\":[{\"marker\":{\"line\":{\"color\":\"#E5ECF6\",\"width\":0.5},\"pattern\":{\"fillmode\":\"overlay\",\"size\":10,\"solidity\":0.2}},\"type\":\"barpolar\"}],\"pie\":[{\"automargin\":true,\"type\":\"pie\"}]},\"layout\":{\"autotypenumbers\":\"strict\",\"colorway\":[\"#636efa\",\"#EF553B\",\"#00cc96\",\"#ab63fa\",\"#FFA15A\",\"#19d3f3\",\"#FF6692\",\"#B6E880\",\"#FF97FF\",\"#FECB52\"],\"font\":{\"color\":\"#2a3f5f\"},\"hovermode\":\"closest\",\"hoverlabel\":{\"align\":\"left\"},\"paper_bgcolor\":\"white\",\"plot_bgcolor\":\"#E5ECF6\",\"polar\":{\"bgcolor\":\"#E5ECF6\",\"angularaxis\":{\"gridcolor\":\"white\",\"linecolor\":\"white\",\"ticks\":\"\"},\"radialaxis\":{\"gridcolor\":\"white\",\"linecolor\":\"white\",\"ticks\":\"\"}},\"ternary\":{\"bgcolor\":\"#E5ECF6\",\"aaxis\":{\"gridcolor\":\"white\",\"linecolor\":\"white\",\"ticks\":\"\"},\"baxis\":{\"gridcolor\":\"white\",\"linecolor\":\"white\",\"ticks\":\"\"},\"caxis\":{\"gridcolor\":\"white\",\"linecolor\":\"white\",\"ticks\":\"\"}},\"coloraxis\":{\"colorbar\":{\"outlinewidth\":0,\"ticks\":\"\"}},\"colorscale\":{\"sequential\":[[0.0,\"#0d0887\"],[0.1111111111111111,\"#46039f\"],[0.2222222222222222,\"#7201a8\"],[0.3333333333333333,\"#9c179e\"],[0.4444444444444444,\"#bd3786\"],[0.5555555555555556,\"#d8576b\"],[0.6666666666666666,\"#ed7953\"],[0.7777777777777778,\"#fb9f3a\"],[0.8888888888888888,\"#fdca26\"],[1.0,\"#f0f921\"]],\"sequentialminus\":[[0.0,\"#0d0887\"],[0.1111111111111111,\"#46039f\"],[0.2222222222222222,\"#7201a8\"],[0.3333333333333333,\"#9c179e\"],[0.4444444444444444,\"#bd3786\"],[0.5555555555555556,\"#d8576b\"],[0.6666666666666666,\"#ed7953\"],[0.7777777777777778,\"#fb9f3a\"],[0.8888888888888888,\"#fdca26\"],[1.0,\"#f0f921\"]],\"diverging\":[[0,\"#8e0152\"],[0.1,\"#c51b7d\"],[0.2,\"#de77ae\"],[0.3,\"#f1b6da\"],[0.4,\"#fde0ef\"],[0.5,\"#f7f7f7\"],[0.6,\"#e6f5d0\"],[0.7,\"#b8e186\"],[0.8,\"#7fbc41\"],[0.9,\"#4d9221\"],[1,\"#276419\"]]},\"xaxis\":{\"gridcolor\":\"white\",\"linecolor\":\"white\",\"ticks\":\"\",\"title\":{\"standoff\":15},\"zerolinecolor\":\"white\",\"automargin\":true,\"zerolinewidth\":2},\"yaxis\":{\"gridcolor\":\"white\",\"linecolor\":\"white\",\"ticks\":\"\",\"title\":{\"standoff\":15},\"zerolinecolor\":\"white\",\"automargin\":true,\"zerolinewidth\":2},\"scene\":{\"xaxis\":{\"backgroundcolor\":\"#E5ECF6\",\"gridcolor\":\"white\",\"linecolor\":\"white\",\"showbackground\":true,\"ticks\":\"\",\"zerolinecolor\":\"white\",\"gridwidth\":2},\"yaxis\":{\"backgroundcolor\":\"#E5ECF6\",\"gridcolor\":\"white\",\"linecolor\":\"white\",\"showbackground\":true,\"ticks\":\"\",\"zerolinecolor\":\"white\",\"gridwidth\":2},\"zaxis\":{\"backgroundcolor\":\"#E5ECF6\",\"gridcolor\":\"white\",\"linecolor\":\"white\",\"showbackground\":true,\"ticks\":\"\",\"zerolinecolor\":\"white\",\"gridwidth\":2}},\"shapedefaults\":{\"line\":{\"color\":\"#2a3f5f\"}},\"annotationdefaults\":{\"arrowcolor\":\"#2a3f5f\",\"arrowhead\":0,\"arrowwidth\":1},\"geo\":{\"bgcolor\":\"white\",\"landcolor\":\"#E5ECF6\",\"subunitcolor\":\"white\",\"showland\":true,\"showlakes\":true,\"lakecolor\":\"white\"},\"title\":{\"x\":0.05},\"mapbox\":{\"style\":\"light\"}}},\"xaxis\":{\"anchor\":\"y\",\"domain\":[0.0,1.0],\"title\":{\"text\":\"a\"}},\"yaxis\":{\"anchor\":\"x\",\"domain\":[0.0,1.0],\"title\":{\"text\":\"b\"}},\"legend\":{\"title\":{\"text\":\"class\"},\"tracegroupgap\":0},\"margin\":{\"t\":60},\"height\":560,\"width\":560},                        {\"responsive\": true}                    ).then(function(){\n",
       "                            \n",
       "var gd = document.getElementById('ca29c923-a89d-4f2c-87d4-addefc3b803f');\n",
       "var x = new MutationObserver(function (mutations, observer) {{\n",
       "        var display = window.getComputedStyle(gd).display;\n",
       "        if (!display || display === 'none') {{\n",
       "            console.log([gd, 'removed!']);\n",
       "            Plotly.purge(gd);\n",
       "            observer.disconnect();\n",
       "        }}\n",
       "}});\n",
       "\n",
       "// Listen for the removal of the full notebook cells\n",
       "var notebookContainer = gd.closest('#notebook-container');\n",
       "if (notebookContainer) {{\n",
       "    x.observe(notebookContainer, {childList: true});\n",
       "}}\n",
       "\n",
       "// Listen for the clearing of the current output cell\n",
       "var outputEl = gd.closest('.output');\n",
       "if (outputEl) {{\n",
       "    x.observe(outputEl, {childList: true});\n",
       "}}\n",
       "\n",
       "                        })                };                });            </script>        </div>"
      ]
     },
     "metadata": {},
     "output_type": "display_data"
    }
   ],
   "source": [
    "fig = px.scatter(df, x='a',\n",
    "            y='b',\n",
    "            color='class',\n",
    "            height=560,\n",
    "            width=560,\n",
    "            )\n",
    "fig.show()"
   ]
  },
  {
   "cell_type": "code",
   "execution_count": 37,
   "metadata": {},
   "outputs": [
    {
     "name": "stdout",
     "output_type": "stream",
     "text": [
      "Rules original\n",
      "\n",
      "\n",
      "Complex rules\n",
      "IF a = b THEN class = {0} (p = 2.0, n = 0.0, P = 2.0, N = 2.0, weight = 1.0, pvalue = 0.16666666666666669)\n",
      "IF a != b THEN class = {1} (p = 2.0, n = 0.0, P = 2.0, N = 2.0, weight = 1.0, pvalue = 0.16666666666666669)\n",
      "\n",
      "\n",
      "Complex rules + inners alternatives\n",
      "IF a = b THEN class = {0} (p = 2.0, n = 0.0, P = 2.0, N = 2.0, weight = 1.0, pvalue = 0.16666666666666669)\n",
      "IF a != b THEN class = {1} (p = 2.0, n = 0.0, P = 2.0, N = 2.0, weight = 1.0, pvalue = 0.16666666666666669)\n"
     ]
    }
   ],
   "source": [
    "X = df.drop(['class'], axis=1)\n",
    "y = df['class']\n",
    "\n",
    "clf_simple.fit(X, y)\n",
    "\n",
    "print(\"Rules original\")\n",
    "for rule in clf_simple.model.rules:\n",
    "    print(rule, rule.stats)\n",
    "\n",
    "print(\"\\n\\nComplex rules\")\n",
    "clf_complex.fit(X, y)\n",
    "for rule in clf_complex.model.rules:\n",
    "    print(rule, rule.stats)\n",
    "\n",
    "print(\"\\n\\nComplex rules + inners alternatives\")\n",
    "clf_complex_with_inners.fit(X, y)\n",
    "for rule in clf_complex_with_inners.model.rules:\n",
    "    print(rule, rule.stats)\n"
   ]
  },
  {
   "attachments": {},
   "cell_type": "markdown",
   "metadata": {},
   "source": [
    "# Parity problem \n",
    "AN EMPIRICAL INVESTIGATION INTO DEEP AND SHALLOW RULE LEARNING\n",
    "\n",
    "Consider, e.g., the following example: the parity concept, which is known to be hard to learn for heuristic, greedy learning algorithms,\n",
    "checks whether an odd or an even number of R relevant attributes (out of a possibly higher total number of attributes) are\n",
    "set to true. Figure 1a shows a flat rule-based representation of the target concept for R = 5, which requires 2^R−1 = 16\n",
    "rules. On the other hand, a structured representation, which introduces three auxiliary predicates (parity2345,\n",
    "parity345 and parity45 as shown in Figure 1b), is much more concise using only 2 · (R − 1) = 8 rules."
   ]
  },
  {
   "cell_type": "code",
   "execution_count": 38,
   "metadata": {},
   "outputs": [
    {
     "data": {
      "text/html": [
       "<div>\n",
       "<style scoped>\n",
       "    .dataframe tbody tr th:only-of-type {\n",
       "        vertical-align: middle;\n",
       "    }\n",
       "\n",
       "    .dataframe tbody tr th {\n",
       "        vertical-align: top;\n",
       "    }\n",
       "\n",
       "    .dataframe thead th {\n",
       "        text-align: right;\n",
       "    }\n",
       "</style>\n",
       "<table border=\"1\" class=\"dataframe\">\n",
       "  <thead>\n",
       "    <tr style=\"text-align: right;\">\n",
       "      <th></th>\n",
       "      <th>x1</th>\n",
       "      <th>x2</th>\n",
       "      <th>x3</th>\n",
       "      <th>x4</th>\n",
       "      <th>x5</th>\n",
       "      <th>class</th>\n",
       "    </tr>\n",
       "  </thead>\n",
       "  <tbody>\n",
       "    <tr>\n",
       "      <th>0</th>\n",
       "      <td>0</td>\n",
       "      <td>0</td>\n",
       "      <td>0</td>\n",
       "      <td>0</td>\n",
       "      <td>0</td>\n",
       "      <td>1</td>\n",
       "    </tr>\n",
       "    <tr>\n",
       "      <th>1</th>\n",
       "      <td>1</td>\n",
       "      <td>1</td>\n",
       "      <td>1</td>\n",
       "      <td>1</td>\n",
       "      <td>1</td>\n",
       "      <td>0</td>\n",
       "    </tr>\n",
       "    <tr>\n",
       "      <th>2</th>\n",
       "      <td>0</td>\n",
       "      <td>1</td>\n",
       "      <td>0</td>\n",
       "      <td>1</td>\n",
       "      <td>0</td>\n",
       "      <td>1</td>\n",
       "    </tr>\n",
       "    <tr>\n",
       "      <th>3</th>\n",
       "      <td>1</td>\n",
       "      <td>0</td>\n",
       "      <td>0</td>\n",
       "      <td>0</td>\n",
       "      <td>0</td>\n",
       "      <td>0</td>\n",
       "    </tr>\n",
       "    <tr>\n",
       "      <th>4</th>\n",
       "      <td>0</td>\n",
       "      <td>0</td>\n",
       "      <td>1</td>\n",
       "      <td>0</td>\n",
       "      <td>0</td>\n",
       "      <td>0</td>\n",
       "    </tr>\n",
       "    <tr>\n",
       "      <th>...</th>\n",
       "      <td>...</td>\n",
       "      <td>...</td>\n",
       "      <td>...</td>\n",
       "      <td>...</td>\n",
       "      <td>...</td>\n",
       "      <td>...</td>\n",
       "    </tr>\n",
       "    <tr>\n",
       "      <th>95</th>\n",
       "      <td>0</td>\n",
       "      <td>1</td>\n",
       "      <td>0</td>\n",
       "      <td>0</td>\n",
       "      <td>1</td>\n",
       "      <td>1</td>\n",
       "    </tr>\n",
       "    <tr>\n",
       "      <th>96</th>\n",
       "      <td>0</td>\n",
       "      <td>0</td>\n",
       "      <td>0</td>\n",
       "      <td>0</td>\n",
       "      <td>1</td>\n",
       "      <td>0</td>\n",
       "    </tr>\n",
       "    <tr>\n",
       "      <th>97</th>\n",
       "      <td>0</td>\n",
       "      <td>0</td>\n",
       "      <td>0</td>\n",
       "      <td>1</td>\n",
       "      <td>1</td>\n",
       "      <td>1</td>\n",
       "    </tr>\n",
       "    <tr>\n",
       "      <th>98</th>\n",
       "      <td>1</td>\n",
       "      <td>1</td>\n",
       "      <td>0</td>\n",
       "      <td>0</td>\n",
       "      <td>0</td>\n",
       "      <td>1</td>\n",
       "    </tr>\n",
       "    <tr>\n",
       "      <th>99</th>\n",
       "      <td>0</td>\n",
       "      <td>0</td>\n",
       "      <td>1</td>\n",
       "      <td>0</td>\n",
       "      <td>1</td>\n",
       "      <td>1</td>\n",
       "    </tr>\n",
       "  </tbody>\n",
       "</table>\n",
       "<p>100 rows × 6 columns</p>\n",
       "</div>"
      ],
      "text/plain": [
       "   x1 x2 x3 x4 x5 class\n",
       "0   0  0  0  0  0     1\n",
       "1   1  1  1  1  1     0\n",
       "2   0  1  0  1  0     1\n",
       "3   1  0  0  0  0     0\n",
       "4   0  0  1  0  0     0\n",
       ".. .. .. .. .. ..   ...\n",
       "95  0  1  0  0  1     1\n",
       "96  0  0  0  0  1     0\n",
       "97  0  0  0  1  1     1\n",
       "98  1  1  0  0  0     1\n",
       "99  0  0  1  0  1     1\n",
       "\n",
       "[100 rows x 6 columns]"
      ]
     },
     "execution_count": 38,
     "metadata": {},
     "output_type": "execute_result"
    }
   ],
   "source": [
    "df = pd.DataFrame(columns=[\"x1\", \"x2\", \"x3\",\"x4\", \"x5\", \"class\"], index = [i for i in range(0,100)])\n",
    "\n",
    "df[\"x1\"] = [random.randint(0, 1) for i in range(100)]\n",
    "df[\"x2\"] = [random.randint(0, 1) for i in range(100)]\n",
    "df[\"x3\"] = [random.randint(0, 1) for i in range(100)]\n",
    "df[\"x4\"] = [random.randint(0, 1) for i in range(100)]\n",
    "df[\"x5\"] = [random.randint(0, 1) for i in range(100)]\n",
    "\n",
    "df.loc[(df[[\"x1\", \"x2\", \"x3\",\"x4\", \"x5\"]].sum(axis=1)%2) == 0, \"class\"] = \"1\"\n",
    "df = df.fillna(\"0\")\n",
    "df = df.astype(\"str\")\n",
    "df"
   ]
  },
  {
   "cell_type": "code",
   "execution_count": 39,
   "metadata": {},
   "outputs": [
    {
     "data": {
      "text/plain": [
       "x1       object\n",
       "x2       object\n",
       "x3       object\n",
       "x4       object\n",
       "x5       object\n",
       "class    object\n",
       "dtype: object"
      ]
     },
     "execution_count": 39,
     "metadata": {},
     "output_type": "execute_result"
    }
   ],
   "source": [
    "df.dtypes"
   ]
  },
  {
   "cell_type": "code",
   "execution_count": 40,
   "metadata": {},
   "outputs": [
    {
     "name": "stdout",
     "output_type": "stream",
     "text": [
      "Rules original\n",
      "IF x1 = {1} AND x2 = {0} AND x3 = {0} AND x4 = {1} AND x5 = {0} THEN class = {1} (p = 5.0, n = 0.0, P = 52.0, N = 48.0, weight = 1.0, pvalue = 0.03452046235551369)\n",
      "IF x1 = {1} AND x2 = {0} AND x3 = {0} AND x4 = {0} AND x5 = {1} THEN class = {1} (p = 7.0, n = 0.0, P = 52.0, N = 48.0, weight = 1.0, pvalue = 0.008357585622913864)\n",
      "IF x1 = {0} AND x3 = {0} THEN class = {1} (p = 14.0, n = 6.0, P = 52.0, N = 48.0, weight = 0.7, pvalue = 0.0593849499001276)\n",
      "IF x2 = {0} AND x4 = {1} THEN class = {1} (p = 13.0, n = 8.0, P = 52.0, N = 48.0, weight = 0.6190476190476191, pvalue = 0.21926675708858187)\n",
      "IF x1 = {1} AND x2 = {0} AND x3 = {1} AND x4 = {0} AND x5 = {0} THEN class = {1} (p = 5.0, n = 0.0, P = 52.0, N = 48.0, weight = 1.0, pvalue = 0.03452046235551369)\n",
      "IF x3 = {0} THEN class = {1} (p = 32.0, n = 22.0, P = 52.0, N = 48.0, weight = 0.5925925925925926, pvalue = 0.08467798638098872)\n",
      "IF x1 = {0} AND x3 = {1} AND x5 = {1} THEN class = {1} (p = 7.0, n = 6.0, P = 52.0, N = 48.0, weight = 0.5384615384615384, pvalue = 0.5623322242187863)\n",
      "IF x1 = {0} AND x2 = {1} AND x4 = {0} THEN class = {0} (p = 5.0, n = 1.0, P = 48.0, N = 52.0, weight = 0.8333333333333334, pvalue = 0.0849889820279708)\n",
      "IF x2 = {1} AND x4 = {0} THEN class = {0} (p = 13.0, n = 6.0, P = 48.0, N = 52.0, weight = 0.6842105263157895, pvalue = 0.04180916289703851)\n",
      "IF x2 = {1} AND x3 = {1} THEN class = {0} (p = 14.0, n = 7.0, P = 48.0, N = 52.0, weight = 0.6666666666666666, pvalue = 0.04602281383711642)\n",
      "IF x1 = {1} AND x2 = {1} AND x3 = {0} AND x4 = {1} AND x5 = {0} THEN class = {0} (p = 5.0, n = 0.0, P = 48.0, N = 52.0, weight = 1.0, pvalue = 0.022743530401851366)\n",
      "IF x3 = {1} AND x4 = {0} THEN class = {0} (p = 15.0, n = 10.0, P = 48.0, N = 52.0, weight = 0.6, pvalue = 0.12390088367856726)\n",
      "IF x3 = {1} THEN class = {0} (p = 26.0, n = 20.0, P = 48.0, N = 52.0, weight = 0.5652173913043478, pvalue = 0.08467798638098872)\n",
      "IF x1 = {1} AND x2 = {0} AND x3 = {0} AND x4 = {0} AND x5 = {0} THEN class = {0} (p = 5.0, n = 0.0, P = 48.0, N = 52.0, weight = 1.0, pvalue = 0.022743530401851366)\n",
      "\n",
      "\n",
      "Complex rules\n",
      "IF x1 = x3 = x5 AND x2 = x4 AND x1 != {1} THEN class = {1} (p = 10.0, n = 0.0, P = 52.0, N = 48.0, weight = 1.0, pvalue = 0.0009139076490694591)\n",
      "IF x4 != x5 AND x1 != x3 AND x2 != {1} THEN class = {1} (p = 19.0, n = 0.0, P = 52.0, N = 48.0, weight = 1.0, pvalue = 5.76994657430692e-07)\n",
      "IF x1 != x4 AND x3 != x5 AND x2 != {1} THEN class = {1} (p = 19.0, n = 0.0, P = 52.0, N = 48.0, weight = 1.0, pvalue = 5.76994657430692e-07)\n",
      "IF x4 = x5 AND x1 = x2 AND x3 != {1} THEN class = {1} (p = 13.0, n = 0.0, P = 52.0, N = 48.0, weight = 1.0, pvalue = 8.930592280658334e-05)\n",
      "IF x1 != x4 AND x2 = x3 AND x5 != {0} THEN class = {1} (p = 16.0, n = 0.0, P = 52.0, N = 48.0, weight = 1.0, pvalue = 7.700050271516282e-06)\n",
      "IF x1 = x4 AND x2 = x5 AND x3 != {0} THEN class = {0} (p = 14.0, n = 0.0, P = 48.0, N = 52.0, weight = 1.0, pvalue = 1.0915455879402155e-05)\n",
      "IF x1 = x4 AND x3 = x5 AND x2 != {0} THEN class = {0} (p = 13.0, n = 0.0, P = 48.0, N = 52.0, weight = 1.0, pvalue = 2.7132704614513943e-05)\n",
      "IF x3 != x5 AND x1 != x4 AND x2 != {0} THEN class = {0} (p = 13.0, n = 0.0, P = 48.0, N = 52.0, weight = 1.0, pvalue = 2.7132704614513943e-05)\n",
      "IF x2 != x5 AND x1 != x4 AND x3 != {0} THEN class = {0} (p = 12.0, n = 0.0, P = 48.0, N = 52.0, weight = 1.0, pvalue = 6.632438905770083e-05)\n",
      "IF x1 != x5 AND x2 = x3 = x4 AND x2 != {1} THEN class = {0} (p = 7.0, n = 0.0, P = 48.0, N = 52.0, weight = 1.0, pvalue = 0.0045996434384931095)\n",
      "\n",
      "\n",
      "Complex rules + inners alternatives\n",
      "IF x1 = x3 = x5 AND x2 = x4 AND x1 != {1} THEN class = {1} (p = 10.0, n = 0.0, P = 52.0, N = 48.0, weight = 1.0, pvalue = 0.0009139076490694591)\n",
      "IF x4 != x5 AND x1 != x3 AND x2 != {1} THEN class = {1} (p = 19.0, n = 0.0, P = 52.0, N = 48.0, weight = 1.0, pvalue = 5.76994657430692e-07)\n",
      "IF x1 != x4 AND x3 != x5 AND x2 != {1} THEN class = {1} (p = 19.0, n = 0.0, P = 52.0, N = 48.0, weight = 1.0, pvalue = 5.76994657430692e-07)\n",
      "IF x4 = x5 AND x1 = x2 AND x3 != {1} THEN class = {1} (p = 13.0, n = 0.0, P = 52.0, N = 48.0, weight = 1.0, pvalue = 8.930592280658334e-05)\n",
      "IF x1 != x4 AND x2 = x3 AND x5 != {0} THEN class = {1} (p = 16.0, n = 0.0, P = 52.0, N = 48.0, weight = 1.0, pvalue = 7.700050271516282e-06)\n",
      "IF x1 = x4 AND x2 = x5 AND x3 != {0} THEN class = {0} (p = 14.0, n = 0.0, P = 48.0, N = 52.0, weight = 1.0, pvalue = 1.0915455879402155e-05)\n",
      "IF x1 = x4 AND x3 = x5 AND x2 != {0} THEN class = {0} (p = 13.0, n = 0.0, P = 48.0, N = 52.0, weight = 1.0, pvalue = 2.7132704614513943e-05)\n",
      "IF x3 != x5 AND x1 != x4 AND x2 != {0} THEN class = {0} (p = 13.0, n = 0.0, P = 48.0, N = 52.0, weight = 1.0, pvalue = 2.7132704614513943e-05)\n",
      "IF x2 != x5 AND x1 != x4 AND x3 != {0} THEN class = {0} (p = 12.0, n = 0.0, P = 48.0, N = 52.0, weight = 1.0, pvalue = 6.632438905770083e-05)\n",
      "IF x1 != x5 AND x2 = x3 = x4 AND x2 != {1} THEN class = {0} (p = 7.0, n = 0.0, P = 48.0, N = 52.0, weight = 1.0, pvalue = 0.0045996434384931095)\n"
     ]
    }
   ],
   "source": [
    "X = df.drop(['class'], axis=1)\n",
    "y = df['class']\n",
    "\n",
    "clf_simple.fit(X, y)\n",
    "\n",
    "print(\"Rules original\")\n",
    "for rule in clf_simple.model.rules:\n",
    "    print(rule, rule.stats)\n",
    "\n",
    "print(\"\\n\\nComplex rules\")\n",
    "clf_complex.fit(X, y)\n",
    "for rule in clf_complex.model.rules:\n",
    "    print(rule, rule.stats)\n",
    "\n",
    "print(\"\\n\\nComplex rules + inners alternatives\")\n",
    "clf_complex_with_inners.fit(X, y)\n",
    "for rule in clf_complex_with_inners.model.rules:\n",
    "    print(rule, rule.stats)"
   ]
  },
  {
   "cell_type": "code",
   "execution_count": 41,
   "metadata": {},
   "outputs": [
    {
     "data": {
      "text/html": [
       "<div>\n",
       "<style scoped>\n",
       "    .dataframe tbody tr th:only-of-type {\n",
       "        vertical-align: middle;\n",
       "    }\n",
       "\n",
       "    .dataframe tbody tr th {\n",
       "        vertical-align: top;\n",
       "    }\n",
       "\n",
       "    .dataframe thead th {\n",
       "        text-align: right;\n",
       "    }\n",
       "</style>\n",
       "<table border=\"1\" class=\"dataframe\">\n",
       "  <thead>\n",
       "    <tr style=\"text-align: right;\">\n",
       "      <th></th>\n",
       "      <th>x1</th>\n",
       "      <th>x2</th>\n",
       "      <th>x3</th>\n",
       "      <th>x4</th>\n",
       "      <th>x5</th>\n",
       "      <th>class</th>\n",
       "    </tr>\n",
       "  </thead>\n",
       "  <tbody>\n",
       "    <tr>\n",
       "      <th>0</th>\n",
       "      <td>0</td>\n",
       "      <td>0</td>\n",
       "      <td>0</td>\n",
       "      <td>0</td>\n",
       "      <td>0</td>\n",
       "      <td>1</td>\n",
       "    </tr>\n",
       "    <tr>\n",
       "      <th>1</th>\n",
       "      <td>0</td>\n",
       "      <td>1</td>\n",
       "      <td>1</td>\n",
       "      <td>1</td>\n",
       "      <td>0</td>\n",
       "      <td>0</td>\n",
       "    </tr>\n",
       "    <tr>\n",
       "      <th>2</th>\n",
       "      <td>1</td>\n",
       "      <td>0</td>\n",
       "      <td>0</td>\n",
       "      <td>1</td>\n",
       "      <td>1</td>\n",
       "      <td>0</td>\n",
       "    </tr>\n",
       "    <tr>\n",
       "      <th>3</th>\n",
       "      <td>0</td>\n",
       "      <td>0</td>\n",
       "      <td>0</td>\n",
       "      <td>1</td>\n",
       "      <td>1</td>\n",
       "      <td>1</td>\n",
       "    </tr>\n",
       "    <tr>\n",
       "      <th>4</th>\n",
       "      <td>0</td>\n",
       "      <td>1</td>\n",
       "      <td>0</td>\n",
       "      <td>0</td>\n",
       "      <td>1</td>\n",
       "      <td>1</td>\n",
       "    </tr>\n",
       "    <tr>\n",
       "      <th>...</th>\n",
       "      <td>...</td>\n",
       "      <td>...</td>\n",
       "      <td>...</td>\n",
       "      <td>...</td>\n",
       "      <td>...</td>\n",
       "      <td>...</td>\n",
       "    </tr>\n",
       "    <tr>\n",
       "      <th>95</th>\n",
       "      <td>0</td>\n",
       "      <td>0</td>\n",
       "      <td>0</td>\n",
       "      <td>1</td>\n",
       "      <td>0</td>\n",
       "      <td>0</td>\n",
       "    </tr>\n",
       "    <tr>\n",
       "      <th>96</th>\n",
       "      <td>1</td>\n",
       "      <td>1</td>\n",
       "      <td>1</td>\n",
       "      <td>1</td>\n",
       "      <td>1</td>\n",
       "      <td>0</td>\n",
       "    </tr>\n",
       "    <tr>\n",
       "      <th>97</th>\n",
       "      <td>0</td>\n",
       "      <td>1</td>\n",
       "      <td>1</td>\n",
       "      <td>1</td>\n",
       "      <td>0</td>\n",
       "      <td>0</td>\n",
       "    </tr>\n",
       "    <tr>\n",
       "      <th>98</th>\n",
       "      <td>1</td>\n",
       "      <td>0</td>\n",
       "      <td>0</td>\n",
       "      <td>0</td>\n",
       "      <td>0</td>\n",
       "      <td>0</td>\n",
       "    </tr>\n",
       "    <tr>\n",
       "      <th>99</th>\n",
       "      <td>1</td>\n",
       "      <td>0</td>\n",
       "      <td>0</td>\n",
       "      <td>1</td>\n",
       "      <td>1</td>\n",
       "      <td>0</td>\n",
       "    </tr>\n",
       "  </tbody>\n",
       "</table>\n",
       "<p>100 rows × 6 columns</p>\n",
       "</div>"
      ],
      "text/plain": [
       "   x1 x2 x3 x4 x5 class\n",
       "0   0  0  0  0  0     1\n",
       "1   0  1  1  1  0     0\n",
       "2   1  0  0  1  1     0\n",
       "3   0  0  0  1  1     1\n",
       "4   0  1  0  0  1     1\n",
       ".. .. .. .. .. ..   ...\n",
       "95  0  0  0  1  0     0\n",
       "96  1  1  1  1  1     0\n",
       "97  0  1  1  1  0     0\n",
       "98  1  0  0  0  0     0\n",
       "99  1  0  0  1  1     0\n",
       "\n",
       "[100 rows x 6 columns]"
      ]
     },
     "execution_count": 41,
     "metadata": {},
     "output_type": "execute_result"
    }
   ],
   "source": [
    "df = pd.DataFrame(columns=[\"x1\", \"x2\", \"x3\",\"x4\", \"x5\", \"class\"], index = [i for i in range(0,100)])\n",
    "\n",
    "df[\"x1\"] = [random.randint(0, 1) for i in range(100)]\n",
    "df[\"x2\"] = [random.randint(0, 1) for i in range(100)]\n",
    "df[\"x3\"] = [random.randint(0, 1) for i in range(100)]\n",
    "df[\"x4\"] = [random.randint(0, 1) for i in range(100)]\n",
    "df[\"x5\"] = [random.randint(0, 1) for i in range(100)]\n",
    "\n",
    "df.loc[(df[[\"x1\", \"x2\", \"x3\",\"x4\", \"x5\"]].sum(axis=1)%2) == 0, \"class\"] = \"1\"\n",
    "df = df.fillna(\"0\")\n",
    "df = df.astype(\"str\")\n",
    "df"
   ]
  },
  {
   "cell_type": "code",
   "execution_count": 42,
   "metadata": {},
   "outputs": [
    {
     "name": "stdout",
     "output_type": "stream",
     "text": [
      "Rules original score: 0.62\n",
      "Complex rules score: 0.92\n"
     ]
    }
   ],
   "source": [
    "X = df.drop(['class'], axis=1)\n",
    "y = df['class']\n",
    "\n",
    "print(f\"Rules original score: {clf_simple.score(X, y)}\")\n",
    "\n",
    "print(f\"Complex rules score: {clf_complex.score(X, y)}\")"
   ]
  },
  {
   "attachments": {},
   "cell_type": "markdown",
   "metadata": {},
   "source": [
    "# Complex cases 1"
   ]
  },
  {
   "cell_type": "code",
   "execution_count": 49,
   "metadata": {},
   "outputs": [
    {
     "data": {
      "text/html": [
       "<div>\n",
       "<style scoped>\n",
       "    .dataframe tbody tr th:only-of-type {\n",
       "        vertical-align: middle;\n",
       "    }\n",
       "\n",
       "    .dataframe tbody tr th {\n",
       "        vertical-align: top;\n",
       "    }\n",
       "\n",
       "    .dataframe thead th {\n",
       "        text-align: right;\n",
       "    }\n",
       "</style>\n",
       "<table border=\"1\" class=\"dataframe\">\n",
       "  <thead>\n",
       "    <tr style=\"text-align: right;\">\n",
       "      <th></th>\n",
       "      <th>a</th>\n",
       "      <th>b</th>\n",
       "      <th>class</th>\n",
       "    </tr>\n",
       "  </thead>\n",
       "  <tbody>\n",
       "    <tr>\n",
       "      <th>0</th>\n",
       "      <td>1.38</td>\n",
       "      <td>3.01</td>\n",
       "      <td>0</td>\n",
       "    </tr>\n",
       "    <tr>\n",
       "      <th>1</th>\n",
       "      <td>4.50</td>\n",
       "      <td>4.76</td>\n",
       "      <td>0</td>\n",
       "    </tr>\n",
       "    <tr>\n",
       "      <th>2</th>\n",
       "      <td>5.33</td>\n",
       "      <td>4.91</td>\n",
       "      <td>0</td>\n",
       "    </tr>\n",
       "    <tr>\n",
       "      <th>3</th>\n",
       "      <td>5.19</td>\n",
       "      <td>4.09</td>\n",
       "      <td>0</td>\n",
       "    </tr>\n",
       "    <tr>\n",
       "      <th>4</th>\n",
       "      <td>6.57</td>\n",
       "      <td>1.77</td>\n",
       "      <td>0</td>\n",
       "    </tr>\n",
       "    <tr>\n",
       "      <th>...</th>\n",
       "      <td>...</td>\n",
       "      <td>...</td>\n",
       "      <td>...</td>\n",
       "    </tr>\n",
       "    <tr>\n",
       "      <th>95</th>\n",
       "      <td>3.11</td>\n",
       "      <td>1.63</td>\n",
       "      <td>0</td>\n",
       "    </tr>\n",
       "    <tr>\n",
       "      <th>96</th>\n",
       "      <td>7.03</td>\n",
       "      <td>3.95</td>\n",
       "      <td>0</td>\n",
       "    </tr>\n",
       "    <tr>\n",
       "      <th>97</th>\n",
       "      <td>0.01</td>\n",
       "      <td>5.63</td>\n",
       "      <td>0</td>\n",
       "    </tr>\n",
       "    <tr>\n",
       "      <th>98</th>\n",
       "      <td>7.35</td>\n",
       "      <td>5.00</td>\n",
       "      <td>0</td>\n",
       "    </tr>\n",
       "    <tr>\n",
       "      <th>99</th>\n",
       "      <td>8.27</td>\n",
       "      <td>8.49</td>\n",
       "      <td>0</td>\n",
       "    </tr>\n",
       "  </tbody>\n",
       "</table>\n",
       "<p>100 rows × 3 columns</p>\n",
       "</div>"
      ],
      "text/plain": [
       "       a     b class\n",
       "0   1.38  3.01     0\n",
       "1   4.50  4.76     0\n",
       "2   5.33  4.91     0\n",
       "3   5.19  4.09     0\n",
       "4   6.57  1.77     0\n",
       "..   ...   ...   ...\n",
       "95  3.11  1.63     0\n",
       "96  7.03  3.95     0\n",
       "97  0.01  5.63     0\n",
       "98  7.35  5.00     0\n",
       "99  8.27  8.49     0\n",
       "\n",
       "[100 rows x 3 columns]"
      ]
     },
     "execution_count": 49,
     "metadata": {},
     "output_type": "execute_result"
    }
   ],
   "source": [
    "df = pd.DataFrame(columns=[\"a\", \"b\", \"class\"], index = [i for i in range(0,100)])\n",
    "\n",
    "\n",
    "a = [round(random.uniform(0, 9),2) for i in range(100)]\n",
    "b = [round(random.uniform(0, 9),2)for i in range(100)]\n",
    "\n",
    "df[\"a\"] = a\n",
    "df[\"b\"] = b\n",
    "\n",
    "df.loc[((df[\"a\"] >= 7) & (df[\"b\"] <= 3)) | ((df[\"a\"] <=3) & (df[\"b\"] >= 7)) ,\"class\"] = \"1\"\n",
    "df = df.fillna(\"0\")\n",
    "df"
   ]
  },
  {
   "cell_type": "code",
   "execution_count": 50,
   "metadata": {},
   "outputs": [
    {
     "data": {
      "application/vnd.plotly.v1+json": {
       "config": {
        "plotlyServerURL": "https://plot.ly"
       },
       "data": [
        {
         "hovertemplate": "class=0<br>a=%{x}<br>b=%{y}<extra></extra>",
         "legendgroup": "0",
         "marker": {
          "color": "#636efa",
          "symbol": "circle"
         },
         "mode": "markers",
         "name": "0",
         "orientation": "v",
         "showlegend": true,
         "type": "scatter",
         "x": [
          1.38,
          4.5,
          5.33,
          5.19,
          6.57,
          6.92,
          7.26,
          2.96,
          3.28,
          5.21,
          0.32,
          1.76,
          0.67,
          6.54,
          5.86,
          2.07,
          1.98,
          7.75,
          1.84,
          1.77,
          2.95,
          8.28,
          3.53,
          4.91,
          8.64,
          5.69,
          8.31,
          1.07,
          1.86,
          8.7,
          6.96,
          6.05,
          2.41,
          0.83,
          7.8,
          3.39,
          6.4,
          0.28,
          1.99,
          5,
          8.73,
          8.84,
          5.99,
          2.77,
          7.79,
          3.84,
          2.11,
          3.41,
          5.3,
          5.08,
          3.49,
          4.52,
          7.85,
          1.69,
          0.41,
          8.71,
          6.52,
          5.27,
          4.98,
          7.81,
          7.65,
          7.8,
          1.39,
          6.62,
          5.25,
          4.05,
          8.12,
          4.21,
          4.67,
          6,
          5.79,
          7.43,
          1.92,
          6.19,
          5.43,
          3.89,
          1.49,
          4.41,
          4.37,
          3.11,
          7.03,
          0.01,
          7.35,
          8.27
         ],
         "xaxis": "x",
         "y": [
          3.01,
          4.76,
          4.91,
          4.09,
          1.77,
          5.02,
          6.2,
          1.73,
          7.61,
          1.07,
          6.07,
          0.4,
          5.99,
          5.93,
          1.07,
          2.44,
          3.24,
          7.86,
          2.36,
          5.99,
          4.15,
          7.33,
          3.52,
          5.47,
          3.95,
          0.45,
          8.58,
          1.04,
          0.25,
          4.9,
          7.05,
          4.62,
          4.96,
          6.28,
          5.5,
          1.06,
          7.56,
          0.27,
          3.83,
          8.44,
          7.79,
          7.24,
          0.25,
          4.82,
          3.36,
          5.88,
          0.78,
          1.54,
          1.51,
          8.68,
          2.69,
          6.77,
          6,
          5.34,
          6.19,
          3.67,
          1.42,
          2.05,
          8.03,
          4.49,
          7.64,
          6.32,
          5.54,
          2.67,
          7.61,
          8.45,
          7.04,
          0.2,
          3.82,
          5.27,
          0.86,
          7.62,
          4.45,
          3.32,
          1.88,
          3.25,
          1.86,
          2.2,
          6.93,
          1.63,
          3.95,
          5.63,
          5,
          8.49
         ],
         "yaxis": "y"
        },
        {
         "hovertemplate": "class=1<br>a=%{x}<br>b=%{y}<extra></extra>",
         "legendgroup": "1",
         "marker": {
          "color": "#EF553B",
          "symbol": "circle"
         },
         "mode": "markers",
         "name": "1",
         "orientation": "v",
         "showlegend": true,
         "type": "scatter",
         "x": [
          0,
          2.39,
          0.46,
          8.52,
          2.67,
          2.08,
          1.29,
          8.78,
          1.08,
          2.99,
          8.1,
          0.58,
          7.23,
          0.89,
          8.63,
          8.46
         ],
         "xaxis": "x",
         "y": [
          8.28,
          7.25,
          8.51,
          1.14,
          7.46,
          8.07,
          8.63,
          2.45,
          7,
          8.73,
          1.05,
          7.77,
          1.93,
          8.12,
          2.4,
          2.88
         ],
         "yaxis": "y"
        }
       ],
       "layout": {
        "height": 560,
        "legend": {
         "title": {
          "text": "class"
         },
         "tracegroupgap": 0
        },
        "margin": {
         "t": 60
        },
        "template": {
         "data": {
          "bar": [
           {
            "error_x": {
             "color": "#2a3f5f"
            },
            "error_y": {
             "color": "#2a3f5f"
            },
            "marker": {
             "line": {
              "color": "#E5ECF6",
              "width": 0.5
             },
             "pattern": {
              "fillmode": "overlay",
              "size": 10,
              "solidity": 0.2
             }
            },
            "type": "bar"
           }
          ],
          "barpolar": [
           {
            "marker": {
             "line": {
              "color": "#E5ECF6",
              "width": 0.5
             },
             "pattern": {
              "fillmode": "overlay",
              "size": 10,
              "solidity": 0.2
             }
            },
            "type": "barpolar"
           }
          ],
          "carpet": [
           {
            "aaxis": {
             "endlinecolor": "#2a3f5f",
             "gridcolor": "white",
             "linecolor": "white",
             "minorgridcolor": "white",
             "startlinecolor": "#2a3f5f"
            },
            "baxis": {
             "endlinecolor": "#2a3f5f",
             "gridcolor": "white",
             "linecolor": "white",
             "minorgridcolor": "white",
             "startlinecolor": "#2a3f5f"
            },
            "type": "carpet"
           }
          ],
          "choropleth": [
           {
            "colorbar": {
             "outlinewidth": 0,
             "ticks": ""
            },
            "type": "choropleth"
           }
          ],
          "contour": [
           {
            "colorbar": {
             "outlinewidth": 0,
             "ticks": ""
            },
            "colorscale": [
             [
              0,
              "#0d0887"
             ],
             [
              0.1111111111111111,
              "#46039f"
             ],
             [
              0.2222222222222222,
              "#7201a8"
             ],
             [
              0.3333333333333333,
              "#9c179e"
             ],
             [
              0.4444444444444444,
              "#bd3786"
             ],
             [
              0.5555555555555556,
              "#d8576b"
             ],
             [
              0.6666666666666666,
              "#ed7953"
             ],
             [
              0.7777777777777778,
              "#fb9f3a"
             ],
             [
              0.8888888888888888,
              "#fdca26"
             ],
             [
              1,
              "#f0f921"
             ]
            ],
            "type": "contour"
           }
          ],
          "contourcarpet": [
           {
            "colorbar": {
             "outlinewidth": 0,
             "ticks": ""
            },
            "type": "contourcarpet"
           }
          ],
          "heatmap": [
           {
            "colorbar": {
             "outlinewidth": 0,
             "ticks": ""
            },
            "colorscale": [
             [
              0,
              "#0d0887"
             ],
             [
              0.1111111111111111,
              "#46039f"
             ],
             [
              0.2222222222222222,
              "#7201a8"
             ],
             [
              0.3333333333333333,
              "#9c179e"
             ],
             [
              0.4444444444444444,
              "#bd3786"
             ],
             [
              0.5555555555555556,
              "#d8576b"
             ],
             [
              0.6666666666666666,
              "#ed7953"
             ],
             [
              0.7777777777777778,
              "#fb9f3a"
             ],
             [
              0.8888888888888888,
              "#fdca26"
             ],
             [
              1,
              "#f0f921"
             ]
            ],
            "type": "heatmap"
           }
          ],
          "heatmapgl": [
           {
            "colorbar": {
             "outlinewidth": 0,
             "ticks": ""
            },
            "colorscale": [
             [
              0,
              "#0d0887"
             ],
             [
              0.1111111111111111,
              "#46039f"
             ],
             [
              0.2222222222222222,
              "#7201a8"
             ],
             [
              0.3333333333333333,
              "#9c179e"
             ],
             [
              0.4444444444444444,
              "#bd3786"
             ],
             [
              0.5555555555555556,
              "#d8576b"
             ],
             [
              0.6666666666666666,
              "#ed7953"
             ],
             [
              0.7777777777777778,
              "#fb9f3a"
             ],
             [
              0.8888888888888888,
              "#fdca26"
             ],
             [
              1,
              "#f0f921"
             ]
            ],
            "type": "heatmapgl"
           }
          ],
          "histogram": [
           {
            "marker": {
             "pattern": {
              "fillmode": "overlay",
              "size": 10,
              "solidity": 0.2
             }
            },
            "type": "histogram"
           }
          ],
          "histogram2d": [
           {
            "colorbar": {
             "outlinewidth": 0,
             "ticks": ""
            },
            "colorscale": [
             [
              0,
              "#0d0887"
             ],
             [
              0.1111111111111111,
              "#46039f"
             ],
             [
              0.2222222222222222,
              "#7201a8"
             ],
             [
              0.3333333333333333,
              "#9c179e"
             ],
             [
              0.4444444444444444,
              "#bd3786"
             ],
             [
              0.5555555555555556,
              "#d8576b"
             ],
             [
              0.6666666666666666,
              "#ed7953"
             ],
             [
              0.7777777777777778,
              "#fb9f3a"
             ],
             [
              0.8888888888888888,
              "#fdca26"
             ],
             [
              1,
              "#f0f921"
             ]
            ],
            "type": "histogram2d"
           }
          ],
          "histogram2dcontour": [
           {
            "colorbar": {
             "outlinewidth": 0,
             "ticks": ""
            },
            "colorscale": [
             [
              0,
              "#0d0887"
             ],
             [
              0.1111111111111111,
              "#46039f"
             ],
             [
              0.2222222222222222,
              "#7201a8"
             ],
             [
              0.3333333333333333,
              "#9c179e"
             ],
             [
              0.4444444444444444,
              "#bd3786"
             ],
             [
              0.5555555555555556,
              "#d8576b"
             ],
             [
              0.6666666666666666,
              "#ed7953"
             ],
             [
              0.7777777777777778,
              "#fb9f3a"
             ],
             [
              0.8888888888888888,
              "#fdca26"
             ],
             [
              1,
              "#f0f921"
             ]
            ],
            "type": "histogram2dcontour"
           }
          ],
          "mesh3d": [
           {
            "colorbar": {
             "outlinewidth": 0,
             "ticks": ""
            },
            "type": "mesh3d"
           }
          ],
          "parcoords": [
           {
            "line": {
             "colorbar": {
              "outlinewidth": 0,
              "ticks": ""
             }
            },
            "type": "parcoords"
           }
          ],
          "pie": [
           {
            "automargin": true,
            "type": "pie"
           }
          ],
          "scatter": [
           {
            "fillpattern": {
             "fillmode": "overlay",
             "size": 10,
             "solidity": 0.2
            },
            "type": "scatter"
           }
          ],
          "scatter3d": [
           {
            "line": {
             "colorbar": {
              "outlinewidth": 0,
              "ticks": ""
             }
            },
            "marker": {
             "colorbar": {
              "outlinewidth": 0,
              "ticks": ""
             }
            },
            "type": "scatter3d"
           }
          ],
          "scattercarpet": [
           {
            "marker": {
             "colorbar": {
              "outlinewidth": 0,
              "ticks": ""
             }
            },
            "type": "scattercarpet"
           }
          ],
          "scattergeo": [
           {
            "marker": {
             "colorbar": {
              "outlinewidth": 0,
              "ticks": ""
             }
            },
            "type": "scattergeo"
           }
          ],
          "scattergl": [
           {
            "marker": {
             "colorbar": {
              "outlinewidth": 0,
              "ticks": ""
             }
            },
            "type": "scattergl"
           }
          ],
          "scattermapbox": [
           {
            "marker": {
             "colorbar": {
              "outlinewidth": 0,
              "ticks": ""
             }
            },
            "type": "scattermapbox"
           }
          ],
          "scatterpolar": [
           {
            "marker": {
             "colorbar": {
              "outlinewidth": 0,
              "ticks": ""
             }
            },
            "type": "scatterpolar"
           }
          ],
          "scatterpolargl": [
           {
            "marker": {
             "colorbar": {
              "outlinewidth": 0,
              "ticks": ""
             }
            },
            "type": "scatterpolargl"
           }
          ],
          "scatterternary": [
           {
            "marker": {
             "colorbar": {
              "outlinewidth": 0,
              "ticks": ""
             }
            },
            "type": "scatterternary"
           }
          ],
          "surface": [
           {
            "colorbar": {
             "outlinewidth": 0,
             "ticks": ""
            },
            "colorscale": [
             [
              0,
              "#0d0887"
             ],
             [
              0.1111111111111111,
              "#46039f"
             ],
             [
              0.2222222222222222,
              "#7201a8"
             ],
             [
              0.3333333333333333,
              "#9c179e"
             ],
             [
              0.4444444444444444,
              "#bd3786"
             ],
             [
              0.5555555555555556,
              "#d8576b"
             ],
             [
              0.6666666666666666,
              "#ed7953"
             ],
             [
              0.7777777777777778,
              "#fb9f3a"
             ],
             [
              0.8888888888888888,
              "#fdca26"
             ],
             [
              1,
              "#f0f921"
             ]
            ],
            "type": "surface"
           }
          ],
          "table": [
           {
            "cells": {
             "fill": {
              "color": "#EBF0F8"
             },
             "line": {
              "color": "white"
             }
            },
            "header": {
             "fill": {
              "color": "#C8D4E3"
             },
             "line": {
              "color": "white"
             }
            },
            "type": "table"
           }
          ]
         },
         "layout": {
          "annotationdefaults": {
           "arrowcolor": "#2a3f5f",
           "arrowhead": 0,
           "arrowwidth": 1
          },
          "autotypenumbers": "strict",
          "coloraxis": {
           "colorbar": {
            "outlinewidth": 0,
            "ticks": ""
           }
          },
          "colorscale": {
           "diverging": [
            [
             0,
             "#8e0152"
            ],
            [
             0.1,
             "#c51b7d"
            ],
            [
             0.2,
             "#de77ae"
            ],
            [
             0.3,
             "#f1b6da"
            ],
            [
             0.4,
             "#fde0ef"
            ],
            [
             0.5,
             "#f7f7f7"
            ],
            [
             0.6,
             "#e6f5d0"
            ],
            [
             0.7,
             "#b8e186"
            ],
            [
             0.8,
             "#7fbc41"
            ],
            [
             0.9,
             "#4d9221"
            ],
            [
             1,
             "#276419"
            ]
           ],
           "sequential": [
            [
             0,
             "#0d0887"
            ],
            [
             0.1111111111111111,
             "#46039f"
            ],
            [
             0.2222222222222222,
             "#7201a8"
            ],
            [
             0.3333333333333333,
             "#9c179e"
            ],
            [
             0.4444444444444444,
             "#bd3786"
            ],
            [
             0.5555555555555556,
             "#d8576b"
            ],
            [
             0.6666666666666666,
             "#ed7953"
            ],
            [
             0.7777777777777778,
             "#fb9f3a"
            ],
            [
             0.8888888888888888,
             "#fdca26"
            ],
            [
             1,
             "#f0f921"
            ]
           ],
           "sequentialminus": [
            [
             0,
             "#0d0887"
            ],
            [
             0.1111111111111111,
             "#46039f"
            ],
            [
             0.2222222222222222,
             "#7201a8"
            ],
            [
             0.3333333333333333,
             "#9c179e"
            ],
            [
             0.4444444444444444,
             "#bd3786"
            ],
            [
             0.5555555555555556,
             "#d8576b"
            ],
            [
             0.6666666666666666,
             "#ed7953"
            ],
            [
             0.7777777777777778,
             "#fb9f3a"
            ],
            [
             0.8888888888888888,
             "#fdca26"
            ],
            [
             1,
             "#f0f921"
            ]
           ]
          },
          "colorway": [
           "#636efa",
           "#EF553B",
           "#00cc96",
           "#ab63fa",
           "#FFA15A",
           "#19d3f3",
           "#FF6692",
           "#B6E880",
           "#FF97FF",
           "#FECB52"
          ],
          "font": {
           "color": "#2a3f5f"
          },
          "geo": {
           "bgcolor": "white",
           "lakecolor": "white",
           "landcolor": "#E5ECF6",
           "showlakes": true,
           "showland": true,
           "subunitcolor": "white"
          },
          "hoverlabel": {
           "align": "left"
          },
          "hovermode": "closest",
          "mapbox": {
           "style": "light"
          },
          "paper_bgcolor": "white",
          "plot_bgcolor": "#E5ECF6",
          "polar": {
           "angularaxis": {
            "gridcolor": "white",
            "linecolor": "white",
            "ticks": ""
           },
           "bgcolor": "#E5ECF6",
           "radialaxis": {
            "gridcolor": "white",
            "linecolor": "white",
            "ticks": ""
           }
          },
          "scene": {
           "xaxis": {
            "backgroundcolor": "#E5ECF6",
            "gridcolor": "white",
            "gridwidth": 2,
            "linecolor": "white",
            "showbackground": true,
            "ticks": "",
            "zerolinecolor": "white"
           },
           "yaxis": {
            "backgroundcolor": "#E5ECF6",
            "gridcolor": "white",
            "gridwidth": 2,
            "linecolor": "white",
            "showbackground": true,
            "ticks": "",
            "zerolinecolor": "white"
           },
           "zaxis": {
            "backgroundcolor": "#E5ECF6",
            "gridcolor": "white",
            "gridwidth": 2,
            "linecolor": "white",
            "showbackground": true,
            "ticks": "",
            "zerolinecolor": "white"
           }
          },
          "shapedefaults": {
           "line": {
            "color": "#2a3f5f"
           }
          },
          "ternary": {
           "aaxis": {
            "gridcolor": "white",
            "linecolor": "white",
            "ticks": ""
           },
           "baxis": {
            "gridcolor": "white",
            "linecolor": "white",
            "ticks": ""
           },
           "bgcolor": "#E5ECF6",
           "caxis": {
            "gridcolor": "white",
            "linecolor": "white",
            "ticks": ""
           }
          },
          "title": {
           "x": 0.05
          },
          "xaxis": {
           "automargin": true,
           "gridcolor": "white",
           "linecolor": "white",
           "ticks": "",
           "title": {
            "standoff": 15
           },
           "zerolinecolor": "white",
           "zerolinewidth": 2
          },
          "yaxis": {
           "automargin": true,
           "gridcolor": "white",
           "linecolor": "white",
           "ticks": "",
           "title": {
            "standoff": 15
           },
           "zerolinecolor": "white",
           "zerolinewidth": 2
          }
         }
        },
        "width": 560,
        "xaxis": {
         "anchor": "y",
         "domain": [
          0,
          1
         ],
         "title": {
          "text": "a"
         }
        },
        "yaxis": {
         "anchor": "x",
         "domain": [
          0,
          1
         ],
         "title": {
          "text": "b"
         }
        }
       }
      },
      "text/html": [
       "<div>                            <div id=\"c3e9baf2-bba4-44e2-b21e-c98402ccb765\" class=\"plotly-graph-div\" style=\"height:560px; width:560px;\"></div>            <script type=\"text/javascript\">                require([\"plotly\"], function(Plotly) {                    window.PLOTLYENV=window.PLOTLYENV || {};                                    if (document.getElementById(\"c3e9baf2-bba4-44e2-b21e-c98402ccb765\")) {                    Plotly.newPlot(                        \"c3e9baf2-bba4-44e2-b21e-c98402ccb765\",                        [{\"hovertemplate\":\"class=0<br>a=%{x}<br>b=%{y}<extra></extra>\",\"legendgroup\":\"0\",\"marker\":{\"color\":\"#636efa\",\"symbol\":\"circle\"},\"mode\":\"markers\",\"name\":\"0\",\"orientation\":\"v\",\"showlegend\":true,\"x\":[1.38,4.5,5.33,5.19,6.57,6.92,7.26,2.96,3.28,5.21,0.32,1.76,0.67,6.54,5.86,2.07,1.98,7.75,1.84,1.77,2.95,8.28,3.53,4.91,8.64,5.69,8.31,1.07,1.86,8.7,6.96,6.05,2.41,0.83,7.8,3.39,6.4,0.28,1.99,5.0,8.73,8.84,5.99,2.77,7.79,3.84,2.11,3.41,5.3,5.08,3.49,4.52,7.85,1.69,0.41,8.71,6.52,5.27,4.98,7.81,7.65,7.8,1.39,6.62,5.25,4.05,8.12,4.21,4.67,6.0,5.79,7.43,1.92,6.19,5.43,3.89,1.49,4.41,4.37,3.11,7.03,0.01,7.35,8.27],\"xaxis\":\"x\",\"y\":[3.01,4.76,4.91,4.09,1.77,5.02,6.2,1.73,7.61,1.07,6.07,0.4,5.99,5.93,1.07,2.44,3.24,7.86,2.36,5.99,4.15,7.33,3.52,5.47,3.95,0.45,8.58,1.04,0.25,4.9,7.05,4.62,4.96,6.28,5.5,1.06,7.56,0.27,3.83,8.44,7.79,7.24,0.25,4.82,3.36,5.88,0.78,1.54,1.51,8.68,2.69,6.77,6.0,5.34,6.19,3.67,1.42,2.05,8.03,4.49,7.64,6.32,5.54,2.67,7.61,8.45,7.04,0.2,3.82,5.27,0.86,7.62,4.45,3.32,1.88,3.25,1.86,2.2,6.93,1.63,3.95,5.63,5.0,8.49],\"yaxis\":\"y\",\"type\":\"scatter\"},{\"hovertemplate\":\"class=1<br>a=%{x}<br>b=%{y}<extra></extra>\",\"legendgroup\":\"1\",\"marker\":{\"color\":\"#EF553B\",\"symbol\":\"circle\"},\"mode\":\"markers\",\"name\":\"1\",\"orientation\":\"v\",\"showlegend\":true,\"x\":[0.0,2.39,0.46,8.52,2.67,2.08,1.29,8.78,1.08,2.99,8.1,0.58,7.23,0.89,8.63,8.46],\"xaxis\":\"x\",\"y\":[8.28,7.25,8.51,1.14,7.46,8.07,8.63,2.45,7.0,8.73,1.05,7.77,1.93,8.12,2.4,2.88],\"yaxis\":\"y\",\"type\":\"scatter\"}],                        {\"template\":{\"data\":{\"histogram2dcontour\":[{\"type\":\"histogram2dcontour\",\"colorbar\":{\"outlinewidth\":0,\"ticks\":\"\"},\"colorscale\":[[0.0,\"#0d0887\"],[0.1111111111111111,\"#46039f\"],[0.2222222222222222,\"#7201a8\"],[0.3333333333333333,\"#9c179e\"],[0.4444444444444444,\"#bd3786\"],[0.5555555555555556,\"#d8576b\"],[0.6666666666666666,\"#ed7953\"],[0.7777777777777778,\"#fb9f3a\"],[0.8888888888888888,\"#fdca26\"],[1.0,\"#f0f921\"]]}],\"choropleth\":[{\"type\":\"choropleth\",\"colorbar\":{\"outlinewidth\":0,\"ticks\":\"\"}}],\"histogram2d\":[{\"type\":\"histogram2d\",\"colorbar\":{\"outlinewidth\":0,\"ticks\":\"\"},\"colorscale\":[[0.0,\"#0d0887\"],[0.1111111111111111,\"#46039f\"],[0.2222222222222222,\"#7201a8\"],[0.3333333333333333,\"#9c179e\"],[0.4444444444444444,\"#bd3786\"],[0.5555555555555556,\"#d8576b\"],[0.6666666666666666,\"#ed7953\"],[0.7777777777777778,\"#fb9f3a\"],[0.8888888888888888,\"#fdca26\"],[1.0,\"#f0f921\"]]}],\"heatmap\":[{\"type\":\"heatmap\",\"colorbar\":{\"outlinewidth\":0,\"ticks\":\"\"},\"colorscale\":[[0.0,\"#0d0887\"],[0.1111111111111111,\"#46039f\"],[0.2222222222222222,\"#7201a8\"],[0.3333333333333333,\"#9c179e\"],[0.4444444444444444,\"#bd3786\"],[0.5555555555555556,\"#d8576b\"],[0.6666666666666666,\"#ed7953\"],[0.7777777777777778,\"#fb9f3a\"],[0.8888888888888888,\"#fdca26\"],[1.0,\"#f0f921\"]]}],\"heatmapgl\":[{\"type\":\"heatmapgl\",\"colorbar\":{\"outlinewidth\":0,\"ticks\":\"\"},\"colorscale\":[[0.0,\"#0d0887\"],[0.1111111111111111,\"#46039f\"],[0.2222222222222222,\"#7201a8\"],[0.3333333333333333,\"#9c179e\"],[0.4444444444444444,\"#bd3786\"],[0.5555555555555556,\"#d8576b\"],[0.6666666666666666,\"#ed7953\"],[0.7777777777777778,\"#fb9f3a\"],[0.8888888888888888,\"#fdca26\"],[1.0,\"#f0f921\"]]}],\"contourcarpet\":[{\"type\":\"contourcarpet\",\"colorbar\":{\"outlinewidth\":0,\"ticks\":\"\"}}],\"contour\":[{\"type\":\"contour\",\"colorbar\":{\"outlinewidth\":0,\"ticks\":\"\"},\"colorscale\":[[0.0,\"#0d0887\"],[0.1111111111111111,\"#46039f\"],[0.2222222222222222,\"#7201a8\"],[0.3333333333333333,\"#9c179e\"],[0.4444444444444444,\"#bd3786\"],[0.5555555555555556,\"#d8576b\"],[0.6666666666666666,\"#ed7953\"],[0.7777777777777778,\"#fb9f3a\"],[0.8888888888888888,\"#fdca26\"],[1.0,\"#f0f921\"]]}],\"surface\":[{\"type\":\"surface\",\"colorbar\":{\"outlinewidth\":0,\"ticks\":\"\"},\"colorscale\":[[0.0,\"#0d0887\"],[0.1111111111111111,\"#46039f\"],[0.2222222222222222,\"#7201a8\"],[0.3333333333333333,\"#9c179e\"],[0.4444444444444444,\"#bd3786\"],[0.5555555555555556,\"#d8576b\"],[0.6666666666666666,\"#ed7953\"],[0.7777777777777778,\"#fb9f3a\"],[0.8888888888888888,\"#fdca26\"],[1.0,\"#f0f921\"]]}],\"mesh3d\":[{\"type\":\"mesh3d\",\"colorbar\":{\"outlinewidth\":0,\"ticks\":\"\"}}],\"scatter\":[{\"fillpattern\":{\"fillmode\":\"overlay\",\"size\":10,\"solidity\":0.2},\"type\":\"scatter\"}],\"parcoords\":[{\"type\":\"parcoords\",\"line\":{\"colorbar\":{\"outlinewidth\":0,\"ticks\":\"\"}}}],\"scatterpolargl\":[{\"type\":\"scatterpolargl\",\"marker\":{\"colorbar\":{\"outlinewidth\":0,\"ticks\":\"\"}}}],\"bar\":[{\"error_x\":{\"color\":\"#2a3f5f\"},\"error_y\":{\"color\":\"#2a3f5f\"},\"marker\":{\"line\":{\"color\":\"#E5ECF6\",\"width\":0.5},\"pattern\":{\"fillmode\":\"overlay\",\"size\":10,\"solidity\":0.2}},\"type\":\"bar\"}],\"scattergeo\":[{\"type\":\"scattergeo\",\"marker\":{\"colorbar\":{\"outlinewidth\":0,\"ticks\":\"\"}}}],\"scatterpolar\":[{\"type\":\"scatterpolar\",\"marker\":{\"colorbar\":{\"outlinewidth\":0,\"ticks\":\"\"}}}],\"histogram\":[{\"marker\":{\"pattern\":{\"fillmode\":\"overlay\",\"size\":10,\"solidity\":0.2}},\"type\":\"histogram\"}],\"scattergl\":[{\"type\":\"scattergl\",\"marker\":{\"colorbar\":{\"outlinewidth\":0,\"ticks\":\"\"}}}],\"scatter3d\":[{\"type\":\"scatter3d\",\"line\":{\"colorbar\":{\"outlinewidth\":0,\"ticks\":\"\"}},\"marker\":{\"colorbar\":{\"outlinewidth\":0,\"ticks\":\"\"}}}],\"scattermapbox\":[{\"type\":\"scattermapbox\",\"marker\":{\"colorbar\":{\"outlinewidth\":0,\"ticks\":\"\"}}}],\"scatterternary\":[{\"type\":\"scatterternary\",\"marker\":{\"colorbar\":{\"outlinewidth\":0,\"ticks\":\"\"}}}],\"scattercarpet\":[{\"type\":\"scattercarpet\",\"marker\":{\"colorbar\":{\"outlinewidth\":0,\"ticks\":\"\"}}}],\"carpet\":[{\"aaxis\":{\"endlinecolor\":\"#2a3f5f\",\"gridcolor\":\"white\",\"linecolor\":\"white\",\"minorgridcolor\":\"white\",\"startlinecolor\":\"#2a3f5f\"},\"baxis\":{\"endlinecolor\":\"#2a3f5f\",\"gridcolor\":\"white\",\"linecolor\":\"white\",\"minorgridcolor\":\"white\",\"startlinecolor\":\"#2a3f5f\"},\"type\":\"carpet\"}],\"table\":[{\"cells\":{\"fill\":{\"color\":\"#EBF0F8\"},\"line\":{\"color\":\"white\"}},\"header\":{\"fill\":{\"color\":\"#C8D4E3\"},\"line\":{\"color\":\"white\"}},\"type\":\"table\"}],\"barpolar\":[{\"marker\":{\"line\":{\"color\":\"#E5ECF6\",\"width\":0.5},\"pattern\":{\"fillmode\":\"overlay\",\"size\":10,\"solidity\":0.2}},\"type\":\"barpolar\"}],\"pie\":[{\"automargin\":true,\"type\":\"pie\"}]},\"layout\":{\"autotypenumbers\":\"strict\",\"colorway\":[\"#636efa\",\"#EF553B\",\"#00cc96\",\"#ab63fa\",\"#FFA15A\",\"#19d3f3\",\"#FF6692\",\"#B6E880\",\"#FF97FF\",\"#FECB52\"],\"font\":{\"color\":\"#2a3f5f\"},\"hovermode\":\"closest\",\"hoverlabel\":{\"align\":\"left\"},\"paper_bgcolor\":\"white\",\"plot_bgcolor\":\"#E5ECF6\",\"polar\":{\"bgcolor\":\"#E5ECF6\",\"angularaxis\":{\"gridcolor\":\"white\",\"linecolor\":\"white\",\"ticks\":\"\"},\"radialaxis\":{\"gridcolor\":\"white\",\"linecolor\":\"white\",\"ticks\":\"\"}},\"ternary\":{\"bgcolor\":\"#E5ECF6\",\"aaxis\":{\"gridcolor\":\"white\",\"linecolor\":\"white\",\"ticks\":\"\"},\"baxis\":{\"gridcolor\":\"white\",\"linecolor\":\"white\",\"ticks\":\"\"},\"caxis\":{\"gridcolor\":\"white\",\"linecolor\":\"white\",\"ticks\":\"\"}},\"coloraxis\":{\"colorbar\":{\"outlinewidth\":0,\"ticks\":\"\"}},\"colorscale\":{\"sequential\":[[0.0,\"#0d0887\"],[0.1111111111111111,\"#46039f\"],[0.2222222222222222,\"#7201a8\"],[0.3333333333333333,\"#9c179e\"],[0.4444444444444444,\"#bd3786\"],[0.5555555555555556,\"#d8576b\"],[0.6666666666666666,\"#ed7953\"],[0.7777777777777778,\"#fb9f3a\"],[0.8888888888888888,\"#fdca26\"],[1.0,\"#f0f921\"]],\"sequentialminus\":[[0.0,\"#0d0887\"],[0.1111111111111111,\"#46039f\"],[0.2222222222222222,\"#7201a8\"],[0.3333333333333333,\"#9c179e\"],[0.4444444444444444,\"#bd3786\"],[0.5555555555555556,\"#d8576b\"],[0.6666666666666666,\"#ed7953\"],[0.7777777777777778,\"#fb9f3a\"],[0.8888888888888888,\"#fdca26\"],[1.0,\"#f0f921\"]],\"diverging\":[[0,\"#8e0152\"],[0.1,\"#c51b7d\"],[0.2,\"#de77ae\"],[0.3,\"#f1b6da\"],[0.4,\"#fde0ef\"],[0.5,\"#f7f7f7\"],[0.6,\"#e6f5d0\"],[0.7,\"#b8e186\"],[0.8,\"#7fbc41\"],[0.9,\"#4d9221\"],[1,\"#276419\"]]},\"xaxis\":{\"gridcolor\":\"white\",\"linecolor\":\"white\",\"ticks\":\"\",\"title\":{\"standoff\":15},\"zerolinecolor\":\"white\",\"automargin\":true,\"zerolinewidth\":2},\"yaxis\":{\"gridcolor\":\"white\",\"linecolor\":\"white\",\"ticks\":\"\",\"title\":{\"standoff\":15},\"zerolinecolor\":\"white\",\"automargin\":true,\"zerolinewidth\":2},\"scene\":{\"xaxis\":{\"backgroundcolor\":\"#E5ECF6\",\"gridcolor\":\"white\",\"linecolor\":\"white\",\"showbackground\":true,\"ticks\":\"\",\"zerolinecolor\":\"white\",\"gridwidth\":2},\"yaxis\":{\"backgroundcolor\":\"#E5ECF6\",\"gridcolor\":\"white\",\"linecolor\":\"white\",\"showbackground\":true,\"ticks\":\"\",\"zerolinecolor\":\"white\",\"gridwidth\":2},\"zaxis\":{\"backgroundcolor\":\"#E5ECF6\",\"gridcolor\":\"white\",\"linecolor\":\"white\",\"showbackground\":true,\"ticks\":\"\",\"zerolinecolor\":\"white\",\"gridwidth\":2}},\"shapedefaults\":{\"line\":{\"color\":\"#2a3f5f\"}},\"annotationdefaults\":{\"arrowcolor\":\"#2a3f5f\",\"arrowhead\":0,\"arrowwidth\":1},\"geo\":{\"bgcolor\":\"white\",\"landcolor\":\"#E5ECF6\",\"subunitcolor\":\"white\",\"showland\":true,\"showlakes\":true,\"lakecolor\":\"white\"},\"title\":{\"x\":0.05},\"mapbox\":{\"style\":\"light\"}}},\"xaxis\":{\"anchor\":\"y\",\"domain\":[0.0,1.0],\"title\":{\"text\":\"a\"}},\"yaxis\":{\"anchor\":\"x\",\"domain\":[0.0,1.0],\"title\":{\"text\":\"b\"}},\"legend\":{\"title\":{\"text\":\"class\"},\"tracegroupgap\":0},\"margin\":{\"t\":60},\"height\":560,\"width\":560},                        {\"responsive\": true}                    ).then(function(){\n",
       "                            \n",
       "var gd = document.getElementById('c3e9baf2-bba4-44e2-b21e-c98402ccb765');\n",
       "var x = new MutationObserver(function (mutations, observer) {{\n",
       "        var display = window.getComputedStyle(gd).display;\n",
       "        if (!display || display === 'none') {{\n",
       "            console.log([gd, 'removed!']);\n",
       "            Plotly.purge(gd);\n",
       "            observer.disconnect();\n",
       "        }}\n",
       "}});\n",
       "\n",
       "// Listen for the removal of the full notebook cells\n",
       "var notebookContainer = gd.closest('#notebook-container');\n",
       "if (notebookContainer) {{\n",
       "    x.observe(notebookContainer, {childList: true});\n",
       "}}\n",
       "\n",
       "// Listen for the clearing of the current output cell\n",
       "var outputEl = gd.closest('.output');\n",
       "if (outputEl) {{\n",
       "    x.observe(outputEl, {childList: true});\n",
       "}}\n",
       "\n",
       "                        })                };                });            </script>        </div>"
      ]
     },
     "metadata": {},
     "output_type": "display_data"
    }
   ],
   "source": [
    "fig = px.scatter(df, x='a',\n",
    "            y='b',\n",
    "            color='class',\n",
    "            height=560,\n",
    "            width=560,\n",
    "            )\n",
    "fig.show()"
   ]
  },
  {
   "cell_type": "code",
   "execution_count": 51,
   "metadata": {},
   "outputs": [
    {
     "name": "stdout",
     "output_type": "stream",
     "text": [
      "Rules original\n",
      "IF b = (-inf, 1.05) THEN class = {0} (p = 9.0, n = 0.0, P = 84.0, N = 16.0, weight = 1.0, pvalue = 0.19352887665444188)\n",
      "IF a = (-inf, 7.13) AND b = (-inf, 6.97) THEN class = {0} (p = 57.0, n = 0.0, P = 84.0, N = 16.0, weight = 1.0, pvalue = 1.9703537163860036e-07)\n",
      "IF b = <2.95, 6.97) THEN class = {0} (p = 41.0, n = 0.0, P = 84.0, N = 16.0, weight = 1.0, pvalue = 8.15187000734892e-05)\n",
      "IF a = <3.05, inf) AND b = <3.07, inf) THEN class = {0} (p = 43.0, n = 0.0, P = 84.0, N = 16.0, weight = 1.0, pvalue = 4.302243493066098e-05)\n",
      "IF a = (-inf, 3.52) AND b = <8.05, inf) THEN class = {1} (p = 6.0, n = 0.0, P = 16.0, N = 84.0, weight = 1.0, pvalue = 6.717825491563948e-06)\n",
      "IF a = <8.39, inf) AND b = (-inf, 3.28) THEN class = {1} (p = 4.0, n = 0.0, P = 16.0, N = 84.0, weight = 1.0, pvalue = 0.0004641406703262369)\n",
      "IF a = (-inf, 3.14) AND b = <6.97, inf) THEN class = {1} (p = 10.0, n = 0.0, P = 16.0, N = 84.0, weight = 1.0, pvalue = 4.626144911014731e-10)\n",
      "\n",
      "\n",
      "Complex rules\n",
      "IF a = <3.05, 7.23) THEN class = {0} (p = 41.0, n = 0.0, P = 84.0, N = 16.0, weight = 1.0, pvalue = 8.15187000734892e-05)\n",
      "IF b = <2.95, 7) THEN class = {0} (p = 41.0, n = 0.0, P = 84.0, N = 16.0, weight = 1.0, pvalue = 8.15187000734892e-05)\n",
      "IF a = <1.34, 2.08) THEN class = {0} (p = 12.0, n = 0.0, P = 84.0, N = 16.0, weight = 1.0, pvalue = 0.10756914348348487)\n",
      "IF a = <3.05, 8.46) AND b = <1.99, inf) THEN class = {0} (p = 42.0, n = 0.0, P = 84.0, N = 16.0, weight = 1.0, pvalue = 5.9411933951865014e-05)\n",
      "IF a > b AND b != <1.05, 3.25) THEN class = {0} (p = 35.0, n = 0.0, P = 84.0, N = 16.0, weight = 1.0, pvalue = 0.00048151043500044256)\n",
      "IF a = <0.44, 1.38) AND b = <6.64, inf) THEN class = {1} (p = 5.0, n = 0.0, P = 16.0, N = 84.0, weight = 1.0, pvalue = 5.80175837907797e-05)\n",
      "IF a = (-inf, 8.64) AND a != <0.005, 8.46) THEN class = {1} (p = 4.0, n = 0.0, P = 16.0, N = 84.0, weight = 1.0, pvalue = 0.0004641406703262369)\n",
      "IF a = <2.08, 3.11) AND b = <6.11, inf) THEN class = {1} (p = 4.0, n = 0.0, P = 16.0, N = 84.0, weight = 1.0, pvalue = 0.0004641406703262369)\n",
      "\n",
      "\n",
      "Complex rules + inners alternatives\n",
      "IF #(a = <1.34, 1.99) OR a = <1.34, 2.08) OR a = <1.34, 1.77) OR a = <1.34, 1.84) OR a = <1.34, 1.86) OR a = <3.05, 7.23)) THEN class = {0} (p = 53.0, n = 0.0, P = 84.0, N = 16.0, weight = 1.0, pvalue = 1.1169303690551099e-06)\n",
      "IF #(b = <2.95, 4.62)) THEN class = {0} (p = 41.0, n = 0.0, P = 84.0, N = 16.0, weight = 1.0, pvalue = 8.15187000734892e-05)\n",
      "IF #(a = <3.05, 8.28)) AND #(b = <1.99, 8.03)) THEN class = {0} (p = 42.0, n = 0.0, P = 84.0, N = 16.0, weight = 1.0, pvalue = 5.9411933951865014e-05)\n",
      "IF #(a > b OR a != <0.30, 1.38) OR a != <0.37, 1.38) OR a != <0.54, 1.38) OR a != <0.75, 1.38) OR a != <0.95, 1.38)) AND #(a != <5.24, 8.64) OR a != <5.29, 8.64) OR a != <5.31, 8.64) OR a != <5.38, 8.64) OR a != <5.56, 8.64) OR a != <7.98, 8.64)) AND #(b != <1.53, 2.67) OR b != <1.59, 2.67) OR b != <1.68, 2.67) OR b != <1.90, 2.67)) AND b = (-inf, 7.25) THEN class = {0} (p = 65.0, n = 0.0, P = 84.0, N = 16.0, weight = 1.0, pvalue = 3.0166042919877845e-09)\n",
      "IF #(a = <0.44, 1.29)) AND b = <6.64, inf) THEN class = {1} (p = 5.0, n = 0.0, P = 16.0, N = 84.0, weight = 1.0, pvalue = 5.80175837907797e-05)\n",
      "IF a = (-inf, 8.64) AND a != <0.005, 8.46) THEN class = {1} (p = 4.0, n = 0.0, P = 16.0, N = 84.0, weight = 1.0, pvalue = 0.0004641406703262369)\n",
      "IF a = <2.08, 3.11) AND b = <6.11, inf) THEN class = {1} (p = 4.0, n = 0.0, P = 16.0, N = 84.0, weight = 1.0, pvalue = 0.0004641406703262369)\n"
     ]
    }
   ],
   "source": [
    "X = df.drop(['class'], axis=1)\n",
    "y = df['class']\n",
    "\n",
    "clf_simple.fit(X, y)\n",
    "\n",
    "print(\"Rules original\")\n",
    "for rule in clf_simple.model.rules:\n",
    "    print(rule, rule.stats)\n",
    "\n",
    "print(\"\\n\\nComplex rules\")\n",
    "clf_complex.fit(X, y)\n",
    "for rule in clf_complex.model.rules:\n",
    "    print(rule, rule.stats)\n",
    "\n",
    "print(\"\\n\\nComplex rules + inners alternatives\")\n",
    "clf_complex_with_inners.fit(X, y)\n",
    "for rule in clf_complex_with_inners.model.rules:\n",
    "    print(rule, rule.stats)"
   ]
  },
  {
   "attachments": {},
   "cell_type": "markdown",
   "metadata": {},
   "source": [
    "# Complex case 2"
   ]
  },
  {
   "cell_type": "code",
   "execution_count": 52,
   "metadata": {},
   "outputs": [
    {
     "data": {
      "text/html": [
       "<div>\n",
       "<style scoped>\n",
       "    .dataframe tbody tr th:only-of-type {\n",
       "        vertical-align: middle;\n",
       "    }\n",
       "\n",
       "    .dataframe tbody tr th {\n",
       "        vertical-align: top;\n",
       "    }\n",
       "\n",
       "    .dataframe thead th {\n",
       "        text-align: right;\n",
       "    }\n",
       "</style>\n",
       "<table border=\"1\" class=\"dataframe\">\n",
       "  <thead>\n",
       "    <tr style=\"text-align: right;\">\n",
       "      <th></th>\n",
       "      <th>a</th>\n",
       "      <th>b</th>\n",
       "      <th>class</th>\n",
       "    </tr>\n",
       "  </thead>\n",
       "  <tbody>\n",
       "    <tr>\n",
       "      <th>0</th>\n",
       "      <td>8.34</td>\n",
       "      <td>2.67</td>\n",
       "      <td>0</td>\n",
       "    </tr>\n",
       "    <tr>\n",
       "      <th>1</th>\n",
       "      <td>9.04</td>\n",
       "      <td>5.46</td>\n",
       "      <td>0</td>\n",
       "    </tr>\n",
       "    <tr>\n",
       "      <th>2</th>\n",
       "      <td>19.07</td>\n",
       "      <td>3.15</td>\n",
       "      <td>1</td>\n",
       "    </tr>\n",
       "    <tr>\n",
       "      <th>3</th>\n",
       "      <td>9.13</td>\n",
       "      <td>3.67</td>\n",
       "      <td>0</td>\n",
       "    </tr>\n",
       "    <tr>\n",
       "      <th>4</th>\n",
       "      <td>1.31</td>\n",
       "      <td>2.00</td>\n",
       "      <td>1</td>\n",
       "    </tr>\n",
       "    <tr>\n",
       "      <th>...</th>\n",
       "      <td>...</td>\n",
       "      <td>...</td>\n",
       "      <td>...</td>\n",
       "    </tr>\n",
       "    <tr>\n",
       "      <th>95</th>\n",
       "      <td>16.64</td>\n",
       "      <td>0.04</td>\n",
       "      <td>1</td>\n",
       "    </tr>\n",
       "    <tr>\n",
       "      <th>96</th>\n",
       "      <td>16.90</td>\n",
       "      <td>8.07</td>\n",
       "      <td>1</td>\n",
       "    </tr>\n",
       "    <tr>\n",
       "      <th>97</th>\n",
       "      <td>13.74</td>\n",
       "      <td>5.92</td>\n",
       "      <td>0</td>\n",
       "    </tr>\n",
       "    <tr>\n",
       "      <th>98</th>\n",
       "      <td>13.20</td>\n",
       "      <td>1.31</td>\n",
       "      <td>0</td>\n",
       "    </tr>\n",
       "    <tr>\n",
       "      <th>99</th>\n",
       "      <td>11.35</td>\n",
       "      <td>6.22</td>\n",
       "      <td>0</td>\n",
       "    </tr>\n",
       "  </tbody>\n",
       "</table>\n",
       "<p>100 rows × 3 columns</p>\n",
       "</div>"
      ],
      "text/plain": [
       "        a     b class\n",
       "0    8.34  2.67     0\n",
       "1    9.04  5.46     0\n",
       "2   19.07  3.15     1\n",
       "3    9.13  3.67     0\n",
       "4    1.31  2.00     1\n",
       "..    ...   ...   ...\n",
       "95  16.64  0.04     1\n",
       "96  16.90  8.07     1\n",
       "97  13.74  5.92     0\n",
       "98  13.20  1.31     0\n",
       "99  11.35  6.22     0\n",
       "\n",
       "[100 rows x 3 columns]"
      ]
     },
     "execution_count": 52,
     "metadata": {},
     "output_type": "execute_result"
    }
   ],
   "source": [
    "df = pd.DataFrame(columns=[\"a\", \"b\", \"class\"], index = [i for i in range(0,100)])\n",
    "\n",
    "\n",
    "a = [round(random.uniform(0, 20),2) for i in range(100)]\n",
    "b = [round(random.uniform(0, 9),2) for i in range(100)]\n",
    "\n",
    "df[\"a\"] = a\n",
    "df[\"b\"] = b\n",
    "\n",
    "df.loc[(df[\"a\"] <= 3) | ((df[\"a\"] >=5) & (df[\"a\"] <= 7) | ((df[\"a\"] >=14))) ,\"class\"] = \"1\"\n",
    "df = df.fillna(\"0\")\n",
    "df"
   ]
  },
  {
   "cell_type": "code",
   "execution_count": 53,
   "metadata": {},
   "outputs": [
    {
     "data": {
      "application/vnd.plotly.v1+json": {
       "config": {
        "plotlyServerURL": "https://plot.ly"
       },
       "data": [
        {
         "hovertemplate": "class=0<br>a=%{x}<br>b=%{y}<extra></extra>",
         "legendgroup": "0",
         "marker": {
          "color": "#636efa",
          "symbol": "circle"
         },
         "mode": "markers",
         "name": "0",
         "orientation": "v",
         "showlegend": true,
         "type": "scatter",
         "x": [
          8.34,
          9.04,
          9.13,
          13.6,
          13.37,
          9.64,
          4.11,
          4.66,
          3.66,
          7.13,
          10.51,
          11.21,
          13.47,
          12.94,
          12.62,
          7.54,
          7.52,
          12.31,
          9.37,
          3.72,
          10.72,
          12.47,
          8.87,
          10.18,
          10.31,
          12.44,
          12.39,
          7.8,
          10.2,
          10.19,
          8.24,
          13.11,
          9.55,
          10.68,
          8.74,
          3.85,
          11.74,
          10.87,
          3.7,
          11.63,
          12.24,
          7.51,
          7.92,
          13.74,
          13.2,
          11.35
         ],
         "xaxis": "x",
         "y": [
          2.67,
          5.46,
          3.67,
          2,
          5.59,
          5.94,
          8.86,
          8.37,
          2.5,
          5.19,
          5.06,
          4.62,
          3.42,
          0.23,
          1.47,
          5.67,
          5.39,
          2.02,
          7.53,
          5.77,
          0.48,
          0.94,
          4.54,
          7.73,
          8.51,
          8.93,
          8.01,
          6.65,
          8.79,
          0.73,
          5.46,
          3.47,
          1.71,
          0.25,
          3.61,
          0.2,
          2.08,
          8.26,
          4.09,
          0.74,
          8.39,
          5.04,
          3.92,
          5.92,
          1.31,
          6.22
         ],
         "yaxis": "y"
        },
        {
         "hovertemplate": "class=1<br>a=%{x}<br>b=%{y}<extra></extra>",
         "legendgroup": "1",
         "marker": {
          "color": "#EF553B",
          "symbol": "circle"
         },
         "mode": "markers",
         "name": "1",
         "orientation": "v",
         "showlegend": true,
         "type": "scatter",
         "x": [
          19.07,
          1.31,
          15.74,
          14.25,
          1.61,
          2.77,
          14.52,
          0.23,
          17.28,
          17.45,
          17.04,
          19.51,
          6.23,
          0.93,
          6.57,
          6.41,
          17.74,
          15.88,
          14.89,
          1.76,
          5.7,
          2.33,
          0.76,
          0.18,
          19.82,
          18,
          19.44,
          2.94,
          2.5,
          0.91,
          0.56,
          2.3,
          19.49,
          16,
          18.23,
          0.45,
          15.47,
          1.04,
          6.03,
          6.99,
          0.78,
          5.68,
          5.82,
          5.38,
          5.77,
          15.3,
          15.47,
          19.22,
          14.25,
          18.71,
          1.96,
          19.78,
          16.64,
          16.9
         ],
         "xaxis": "x",
         "y": [
          3.15,
          2,
          3.64,
          8.46,
          7.59,
          5.72,
          4.33,
          7.33,
          3,
          6.55,
          5.89,
          8.22,
          3.61,
          7.08,
          8.63,
          6.4,
          6.91,
          0.8,
          6.42,
          4.31,
          2.07,
          6.29,
          1.94,
          2.7,
          3.2,
          0.56,
          5.13,
          4.83,
          4.02,
          8.48,
          8.48,
          4.03,
          8.03,
          6.42,
          5.06,
          2.27,
          3.19,
          4.96,
          0.81,
          5.27,
          8.78,
          7.38,
          7.03,
          6.77,
          1.71,
          0.38,
          8.75,
          4.33,
          0.07,
          2.59,
          2.52,
          6.32,
          0.04,
          8.07
         ],
         "yaxis": "y"
        }
       ],
       "layout": {
        "height": 560,
        "legend": {
         "title": {
          "text": "class"
         },
         "tracegroupgap": 0
        },
        "margin": {
         "t": 60
        },
        "template": {
         "data": {
          "bar": [
           {
            "error_x": {
             "color": "#2a3f5f"
            },
            "error_y": {
             "color": "#2a3f5f"
            },
            "marker": {
             "line": {
              "color": "#E5ECF6",
              "width": 0.5
             },
             "pattern": {
              "fillmode": "overlay",
              "size": 10,
              "solidity": 0.2
             }
            },
            "type": "bar"
           }
          ],
          "barpolar": [
           {
            "marker": {
             "line": {
              "color": "#E5ECF6",
              "width": 0.5
             },
             "pattern": {
              "fillmode": "overlay",
              "size": 10,
              "solidity": 0.2
             }
            },
            "type": "barpolar"
           }
          ],
          "carpet": [
           {
            "aaxis": {
             "endlinecolor": "#2a3f5f",
             "gridcolor": "white",
             "linecolor": "white",
             "minorgridcolor": "white",
             "startlinecolor": "#2a3f5f"
            },
            "baxis": {
             "endlinecolor": "#2a3f5f",
             "gridcolor": "white",
             "linecolor": "white",
             "minorgridcolor": "white",
             "startlinecolor": "#2a3f5f"
            },
            "type": "carpet"
           }
          ],
          "choropleth": [
           {
            "colorbar": {
             "outlinewidth": 0,
             "ticks": ""
            },
            "type": "choropleth"
           }
          ],
          "contour": [
           {
            "colorbar": {
             "outlinewidth": 0,
             "ticks": ""
            },
            "colorscale": [
             [
              0,
              "#0d0887"
             ],
             [
              0.1111111111111111,
              "#46039f"
             ],
             [
              0.2222222222222222,
              "#7201a8"
             ],
             [
              0.3333333333333333,
              "#9c179e"
             ],
             [
              0.4444444444444444,
              "#bd3786"
             ],
             [
              0.5555555555555556,
              "#d8576b"
             ],
             [
              0.6666666666666666,
              "#ed7953"
             ],
             [
              0.7777777777777778,
              "#fb9f3a"
             ],
             [
              0.8888888888888888,
              "#fdca26"
             ],
             [
              1,
              "#f0f921"
             ]
            ],
            "type": "contour"
           }
          ],
          "contourcarpet": [
           {
            "colorbar": {
             "outlinewidth": 0,
             "ticks": ""
            },
            "type": "contourcarpet"
           }
          ],
          "heatmap": [
           {
            "colorbar": {
             "outlinewidth": 0,
             "ticks": ""
            },
            "colorscale": [
             [
              0,
              "#0d0887"
             ],
             [
              0.1111111111111111,
              "#46039f"
             ],
             [
              0.2222222222222222,
              "#7201a8"
             ],
             [
              0.3333333333333333,
              "#9c179e"
             ],
             [
              0.4444444444444444,
              "#bd3786"
             ],
             [
              0.5555555555555556,
              "#d8576b"
             ],
             [
              0.6666666666666666,
              "#ed7953"
             ],
             [
              0.7777777777777778,
              "#fb9f3a"
             ],
             [
              0.8888888888888888,
              "#fdca26"
             ],
             [
              1,
              "#f0f921"
             ]
            ],
            "type": "heatmap"
           }
          ],
          "heatmapgl": [
           {
            "colorbar": {
             "outlinewidth": 0,
             "ticks": ""
            },
            "colorscale": [
             [
              0,
              "#0d0887"
             ],
             [
              0.1111111111111111,
              "#46039f"
             ],
             [
              0.2222222222222222,
              "#7201a8"
             ],
             [
              0.3333333333333333,
              "#9c179e"
             ],
             [
              0.4444444444444444,
              "#bd3786"
             ],
             [
              0.5555555555555556,
              "#d8576b"
             ],
             [
              0.6666666666666666,
              "#ed7953"
             ],
             [
              0.7777777777777778,
              "#fb9f3a"
             ],
             [
              0.8888888888888888,
              "#fdca26"
             ],
             [
              1,
              "#f0f921"
             ]
            ],
            "type": "heatmapgl"
           }
          ],
          "histogram": [
           {
            "marker": {
             "pattern": {
              "fillmode": "overlay",
              "size": 10,
              "solidity": 0.2
             }
            },
            "type": "histogram"
           }
          ],
          "histogram2d": [
           {
            "colorbar": {
             "outlinewidth": 0,
             "ticks": ""
            },
            "colorscale": [
             [
              0,
              "#0d0887"
             ],
             [
              0.1111111111111111,
              "#46039f"
             ],
             [
              0.2222222222222222,
              "#7201a8"
             ],
             [
              0.3333333333333333,
              "#9c179e"
             ],
             [
              0.4444444444444444,
              "#bd3786"
             ],
             [
              0.5555555555555556,
              "#d8576b"
             ],
             [
              0.6666666666666666,
              "#ed7953"
             ],
             [
              0.7777777777777778,
              "#fb9f3a"
             ],
             [
              0.8888888888888888,
              "#fdca26"
             ],
             [
              1,
              "#f0f921"
             ]
            ],
            "type": "histogram2d"
           }
          ],
          "histogram2dcontour": [
           {
            "colorbar": {
             "outlinewidth": 0,
             "ticks": ""
            },
            "colorscale": [
             [
              0,
              "#0d0887"
             ],
             [
              0.1111111111111111,
              "#46039f"
             ],
             [
              0.2222222222222222,
              "#7201a8"
             ],
             [
              0.3333333333333333,
              "#9c179e"
             ],
             [
              0.4444444444444444,
              "#bd3786"
             ],
             [
              0.5555555555555556,
              "#d8576b"
             ],
             [
              0.6666666666666666,
              "#ed7953"
             ],
             [
              0.7777777777777778,
              "#fb9f3a"
             ],
             [
              0.8888888888888888,
              "#fdca26"
             ],
             [
              1,
              "#f0f921"
             ]
            ],
            "type": "histogram2dcontour"
           }
          ],
          "mesh3d": [
           {
            "colorbar": {
             "outlinewidth": 0,
             "ticks": ""
            },
            "type": "mesh3d"
           }
          ],
          "parcoords": [
           {
            "line": {
             "colorbar": {
              "outlinewidth": 0,
              "ticks": ""
             }
            },
            "type": "parcoords"
           }
          ],
          "pie": [
           {
            "automargin": true,
            "type": "pie"
           }
          ],
          "scatter": [
           {
            "fillpattern": {
             "fillmode": "overlay",
             "size": 10,
             "solidity": 0.2
            },
            "type": "scatter"
           }
          ],
          "scatter3d": [
           {
            "line": {
             "colorbar": {
              "outlinewidth": 0,
              "ticks": ""
             }
            },
            "marker": {
             "colorbar": {
              "outlinewidth": 0,
              "ticks": ""
             }
            },
            "type": "scatter3d"
           }
          ],
          "scattercarpet": [
           {
            "marker": {
             "colorbar": {
              "outlinewidth": 0,
              "ticks": ""
             }
            },
            "type": "scattercarpet"
           }
          ],
          "scattergeo": [
           {
            "marker": {
             "colorbar": {
              "outlinewidth": 0,
              "ticks": ""
             }
            },
            "type": "scattergeo"
           }
          ],
          "scattergl": [
           {
            "marker": {
             "colorbar": {
              "outlinewidth": 0,
              "ticks": ""
             }
            },
            "type": "scattergl"
           }
          ],
          "scattermapbox": [
           {
            "marker": {
             "colorbar": {
              "outlinewidth": 0,
              "ticks": ""
             }
            },
            "type": "scattermapbox"
           }
          ],
          "scatterpolar": [
           {
            "marker": {
             "colorbar": {
              "outlinewidth": 0,
              "ticks": ""
             }
            },
            "type": "scatterpolar"
           }
          ],
          "scatterpolargl": [
           {
            "marker": {
             "colorbar": {
              "outlinewidth": 0,
              "ticks": ""
             }
            },
            "type": "scatterpolargl"
           }
          ],
          "scatterternary": [
           {
            "marker": {
             "colorbar": {
              "outlinewidth": 0,
              "ticks": ""
             }
            },
            "type": "scatterternary"
           }
          ],
          "surface": [
           {
            "colorbar": {
             "outlinewidth": 0,
             "ticks": ""
            },
            "colorscale": [
             [
              0,
              "#0d0887"
             ],
             [
              0.1111111111111111,
              "#46039f"
             ],
             [
              0.2222222222222222,
              "#7201a8"
             ],
             [
              0.3333333333333333,
              "#9c179e"
             ],
             [
              0.4444444444444444,
              "#bd3786"
             ],
             [
              0.5555555555555556,
              "#d8576b"
             ],
             [
              0.6666666666666666,
              "#ed7953"
             ],
             [
              0.7777777777777778,
              "#fb9f3a"
             ],
             [
              0.8888888888888888,
              "#fdca26"
             ],
             [
              1,
              "#f0f921"
             ]
            ],
            "type": "surface"
           }
          ],
          "table": [
           {
            "cells": {
             "fill": {
              "color": "#EBF0F8"
             },
             "line": {
              "color": "white"
             }
            },
            "header": {
             "fill": {
              "color": "#C8D4E3"
             },
             "line": {
              "color": "white"
             }
            },
            "type": "table"
           }
          ]
         },
         "layout": {
          "annotationdefaults": {
           "arrowcolor": "#2a3f5f",
           "arrowhead": 0,
           "arrowwidth": 1
          },
          "autotypenumbers": "strict",
          "coloraxis": {
           "colorbar": {
            "outlinewidth": 0,
            "ticks": ""
           }
          },
          "colorscale": {
           "diverging": [
            [
             0,
             "#8e0152"
            ],
            [
             0.1,
             "#c51b7d"
            ],
            [
             0.2,
             "#de77ae"
            ],
            [
             0.3,
             "#f1b6da"
            ],
            [
             0.4,
             "#fde0ef"
            ],
            [
             0.5,
             "#f7f7f7"
            ],
            [
             0.6,
             "#e6f5d0"
            ],
            [
             0.7,
             "#b8e186"
            ],
            [
             0.8,
             "#7fbc41"
            ],
            [
             0.9,
             "#4d9221"
            ],
            [
             1,
             "#276419"
            ]
           ],
           "sequential": [
            [
             0,
             "#0d0887"
            ],
            [
             0.1111111111111111,
             "#46039f"
            ],
            [
             0.2222222222222222,
             "#7201a8"
            ],
            [
             0.3333333333333333,
             "#9c179e"
            ],
            [
             0.4444444444444444,
             "#bd3786"
            ],
            [
             0.5555555555555556,
             "#d8576b"
            ],
            [
             0.6666666666666666,
             "#ed7953"
            ],
            [
             0.7777777777777778,
             "#fb9f3a"
            ],
            [
             0.8888888888888888,
             "#fdca26"
            ],
            [
             1,
             "#f0f921"
            ]
           ],
           "sequentialminus": [
            [
             0,
             "#0d0887"
            ],
            [
             0.1111111111111111,
             "#46039f"
            ],
            [
             0.2222222222222222,
             "#7201a8"
            ],
            [
             0.3333333333333333,
             "#9c179e"
            ],
            [
             0.4444444444444444,
             "#bd3786"
            ],
            [
             0.5555555555555556,
             "#d8576b"
            ],
            [
             0.6666666666666666,
             "#ed7953"
            ],
            [
             0.7777777777777778,
             "#fb9f3a"
            ],
            [
             0.8888888888888888,
             "#fdca26"
            ],
            [
             1,
             "#f0f921"
            ]
           ]
          },
          "colorway": [
           "#636efa",
           "#EF553B",
           "#00cc96",
           "#ab63fa",
           "#FFA15A",
           "#19d3f3",
           "#FF6692",
           "#B6E880",
           "#FF97FF",
           "#FECB52"
          ],
          "font": {
           "color": "#2a3f5f"
          },
          "geo": {
           "bgcolor": "white",
           "lakecolor": "white",
           "landcolor": "#E5ECF6",
           "showlakes": true,
           "showland": true,
           "subunitcolor": "white"
          },
          "hoverlabel": {
           "align": "left"
          },
          "hovermode": "closest",
          "mapbox": {
           "style": "light"
          },
          "paper_bgcolor": "white",
          "plot_bgcolor": "#E5ECF6",
          "polar": {
           "angularaxis": {
            "gridcolor": "white",
            "linecolor": "white",
            "ticks": ""
           },
           "bgcolor": "#E5ECF6",
           "radialaxis": {
            "gridcolor": "white",
            "linecolor": "white",
            "ticks": ""
           }
          },
          "scene": {
           "xaxis": {
            "backgroundcolor": "#E5ECF6",
            "gridcolor": "white",
            "gridwidth": 2,
            "linecolor": "white",
            "showbackground": true,
            "ticks": "",
            "zerolinecolor": "white"
           },
           "yaxis": {
            "backgroundcolor": "#E5ECF6",
            "gridcolor": "white",
            "gridwidth": 2,
            "linecolor": "white",
            "showbackground": true,
            "ticks": "",
            "zerolinecolor": "white"
           },
           "zaxis": {
            "backgroundcolor": "#E5ECF6",
            "gridcolor": "white",
            "gridwidth": 2,
            "linecolor": "white",
            "showbackground": true,
            "ticks": "",
            "zerolinecolor": "white"
           }
          },
          "shapedefaults": {
           "line": {
            "color": "#2a3f5f"
           }
          },
          "ternary": {
           "aaxis": {
            "gridcolor": "white",
            "linecolor": "white",
            "ticks": ""
           },
           "baxis": {
            "gridcolor": "white",
            "linecolor": "white",
            "ticks": ""
           },
           "bgcolor": "#E5ECF6",
           "caxis": {
            "gridcolor": "white",
            "linecolor": "white",
            "ticks": ""
           }
          },
          "title": {
           "x": 0.05
          },
          "xaxis": {
           "automargin": true,
           "gridcolor": "white",
           "linecolor": "white",
           "ticks": "",
           "title": {
            "standoff": 15
           },
           "zerolinecolor": "white",
           "zerolinewidth": 2
          },
          "yaxis": {
           "automargin": true,
           "gridcolor": "white",
           "linecolor": "white",
           "ticks": "",
           "title": {
            "standoff": 15
           },
           "zerolinecolor": "white",
           "zerolinewidth": 2
          }
         }
        },
        "width": 560,
        "xaxis": {
         "anchor": "y",
         "domain": [
          0,
          1
         ],
         "title": {
          "text": "a"
         }
        },
        "yaxis": {
         "anchor": "x",
         "domain": [
          0,
          1
         ],
         "title": {
          "text": "b"
         }
        }
       }
      },
      "text/html": [
       "<div>                            <div id=\"dd18cd4d-1ce8-4ccc-8ec9-6eb4b61f50a2\" class=\"plotly-graph-div\" style=\"height:560px; width:560px;\"></div>            <script type=\"text/javascript\">                require([\"plotly\"], function(Plotly) {                    window.PLOTLYENV=window.PLOTLYENV || {};                                    if (document.getElementById(\"dd18cd4d-1ce8-4ccc-8ec9-6eb4b61f50a2\")) {                    Plotly.newPlot(                        \"dd18cd4d-1ce8-4ccc-8ec9-6eb4b61f50a2\",                        [{\"hovertemplate\":\"class=0<br>a=%{x}<br>b=%{y}<extra></extra>\",\"legendgroup\":\"0\",\"marker\":{\"color\":\"#636efa\",\"symbol\":\"circle\"},\"mode\":\"markers\",\"name\":\"0\",\"orientation\":\"v\",\"showlegend\":true,\"x\":[8.34,9.04,9.13,13.6,13.37,9.64,4.11,4.66,3.66,7.13,10.51,11.21,13.47,12.94,12.62,7.54,7.52,12.31,9.37,3.72,10.72,12.47,8.87,10.18,10.31,12.44,12.39,7.8,10.2,10.19,8.24,13.11,9.55,10.68,8.74,3.85,11.74,10.87,3.7,11.63,12.24,7.51,7.92,13.74,13.2,11.35],\"xaxis\":\"x\",\"y\":[2.67,5.46,3.67,2.0,5.59,5.94,8.86,8.37,2.5,5.19,5.06,4.62,3.42,0.23,1.47,5.67,5.39,2.02,7.53,5.77,0.48,0.94,4.54,7.73,8.51,8.93,8.01,6.65,8.79,0.73,5.46,3.47,1.71,0.25,3.61,0.2,2.08,8.26,4.09,0.74,8.39,5.04,3.92,5.92,1.31,6.22],\"yaxis\":\"y\",\"type\":\"scatter\"},{\"hovertemplate\":\"class=1<br>a=%{x}<br>b=%{y}<extra></extra>\",\"legendgroup\":\"1\",\"marker\":{\"color\":\"#EF553B\",\"symbol\":\"circle\"},\"mode\":\"markers\",\"name\":\"1\",\"orientation\":\"v\",\"showlegend\":true,\"x\":[19.07,1.31,15.74,14.25,1.61,2.77,14.52,0.23,17.28,17.45,17.04,19.51,6.23,0.93,6.57,6.41,17.74,15.88,14.89,1.76,5.7,2.33,0.76,0.18,19.82,18.0,19.44,2.94,2.5,0.91,0.56,2.3,19.49,16.0,18.23,0.45,15.47,1.04,6.03,6.99,0.78,5.68,5.82,5.38,5.77,15.3,15.47,19.22,14.25,18.71,1.96,19.78,16.64,16.9],\"xaxis\":\"x\",\"y\":[3.15,2.0,3.64,8.46,7.59,5.72,4.33,7.33,3.0,6.55,5.89,8.22,3.61,7.08,8.63,6.4,6.91,0.8,6.42,4.31,2.07,6.29,1.94,2.7,3.2,0.56,5.13,4.83,4.02,8.48,8.48,4.03,8.03,6.42,5.06,2.27,3.19,4.96,0.81,5.27,8.78,7.38,7.03,6.77,1.71,0.38,8.75,4.33,0.07,2.59,2.52,6.32,0.04,8.07],\"yaxis\":\"y\",\"type\":\"scatter\"}],                        {\"template\":{\"data\":{\"histogram2dcontour\":[{\"type\":\"histogram2dcontour\",\"colorbar\":{\"outlinewidth\":0,\"ticks\":\"\"},\"colorscale\":[[0.0,\"#0d0887\"],[0.1111111111111111,\"#46039f\"],[0.2222222222222222,\"#7201a8\"],[0.3333333333333333,\"#9c179e\"],[0.4444444444444444,\"#bd3786\"],[0.5555555555555556,\"#d8576b\"],[0.6666666666666666,\"#ed7953\"],[0.7777777777777778,\"#fb9f3a\"],[0.8888888888888888,\"#fdca26\"],[1.0,\"#f0f921\"]]}],\"choropleth\":[{\"type\":\"choropleth\",\"colorbar\":{\"outlinewidth\":0,\"ticks\":\"\"}}],\"histogram2d\":[{\"type\":\"histogram2d\",\"colorbar\":{\"outlinewidth\":0,\"ticks\":\"\"},\"colorscale\":[[0.0,\"#0d0887\"],[0.1111111111111111,\"#46039f\"],[0.2222222222222222,\"#7201a8\"],[0.3333333333333333,\"#9c179e\"],[0.4444444444444444,\"#bd3786\"],[0.5555555555555556,\"#d8576b\"],[0.6666666666666666,\"#ed7953\"],[0.7777777777777778,\"#fb9f3a\"],[0.8888888888888888,\"#fdca26\"],[1.0,\"#f0f921\"]]}],\"heatmap\":[{\"type\":\"heatmap\",\"colorbar\":{\"outlinewidth\":0,\"ticks\":\"\"},\"colorscale\":[[0.0,\"#0d0887\"],[0.1111111111111111,\"#46039f\"],[0.2222222222222222,\"#7201a8\"],[0.3333333333333333,\"#9c179e\"],[0.4444444444444444,\"#bd3786\"],[0.5555555555555556,\"#d8576b\"],[0.6666666666666666,\"#ed7953\"],[0.7777777777777778,\"#fb9f3a\"],[0.8888888888888888,\"#fdca26\"],[1.0,\"#f0f921\"]]}],\"heatmapgl\":[{\"type\":\"heatmapgl\",\"colorbar\":{\"outlinewidth\":0,\"ticks\":\"\"},\"colorscale\":[[0.0,\"#0d0887\"],[0.1111111111111111,\"#46039f\"],[0.2222222222222222,\"#7201a8\"],[0.3333333333333333,\"#9c179e\"],[0.4444444444444444,\"#bd3786\"],[0.5555555555555556,\"#d8576b\"],[0.6666666666666666,\"#ed7953\"],[0.7777777777777778,\"#fb9f3a\"],[0.8888888888888888,\"#fdca26\"],[1.0,\"#f0f921\"]]}],\"contourcarpet\":[{\"type\":\"contourcarpet\",\"colorbar\":{\"outlinewidth\":0,\"ticks\":\"\"}}],\"contour\":[{\"type\":\"contour\",\"colorbar\":{\"outlinewidth\":0,\"ticks\":\"\"},\"colorscale\":[[0.0,\"#0d0887\"],[0.1111111111111111,\"#46039f\"],[0.2222222222222222,\"#7201a8\"],[0.3333333333333333,\"#9c179e\"],[0.4444444444444444,\"#bd3786\"],[0.5555555555555556,\"#d8576b\"],[0.6666666666666666,\"#ed7953\"],[0.7777777777777778,\"#fb9f3a\"],[0.8888888888888888,\"#fdca26\"],[1.0,\"#f0f921\"]]}],\"surface\":[{\"type\":\"surface\",\"colorbar\":{\"outlinewidth\":0,\"ticks\":\"\"},\"colorscale\":[[0.0,\"#0d0887\"],[0.1111111111111111,\"#46039f\"],[0.2222222222222222,\"#7201a8\"],[0.3333333333333333,\"#9c179e\"],[0.4444444444444444,\"#bd3786\"],[0.5555555555555556,\"#d8576b\"],[0.6666666666666666,\"#ed7953\"],[0.7777777777777778,\"#fb9f3a\"],[0.8888888888888888,\"#fdca26\"],[1.0,\"#f0f921\"]]}],\"mesh3d\":[{\"type\":\"mesh3d\",\"colorbar\":{\"outlinewidth\":0,\"ticks\":\"\"}}],\"scatter\":[{\"fillpattern\":{\"fillmode\":\"overlay\",\"size\":10,\"solidity\":0.2},\"type\":\"scatter\"}],\"parcoords\":[{\"type\":\"parcoords\",\"line\":{\"colorbar\":{\"outlinewidth\":0,\"ticks\":\"\"}}}],\"scatterpolargl\":[{\"type\":\"scatterpolargl\",\"marker\":{\"colorbar\":{\"outlinewidth\":0,\"ticks\":\"\"}}}],\"bar\":[{\"error_x\":{\"color\":\"#2a3f5f\"},\"error_y\":{\"color\":\"#2a3f5f\"},\"marker\":{\"line\":{\"color\":\"#E5ECF6\",\"width\":0.5},\"pattern\":{\"fillmode\":\"overlay\",\"size\":10,\"solidity\":0.2}},\"type\":\"bar\"}],\"scattergeo\":[{\"type\":\"scattergeo\",\"marker\":{\"colorbar\":{\"outlinewidth\":0,\"ticks\":\"\"}}}],\"scatterpolar\":[{\"type\":\"scatterpolar\",\"marker\":{\"colorbar\":{\"outlinewidth\":0,\"ticks\":\"\"}}}],\"histogram\":[{\"marker\":{\"pattern\":{\"fillmode\":\"overlay\",\"size\":10,\"solidity\":0.2}},\"type\":\"histogram\"}],\"scattergl\":[{\"type\":\"scattergl\",\"marker\":{\"colorbar\":{\"outlinewidth\":0,\"ticks\":\"\"}}}],\"scatter3d\":[{\"type\":\"scatter3d\",\"line\":{\"colorbar\":{\"outlinewidth\":0,\"ticks\":\"\"}},\"marker\":{\"colorbar\":{\"outlinewidth\":0,\"ticks\":\"\"}}}],\"scattermapbox\":[{\"type\":\"scattermapbox\",\"marker\":{\"colorbar\":{\"outlinewidth\":0,\"ticks\":\"\"}}}],\"scatterternary\":[{\"type\":\"scatterternary\",\"marker\":{\"colorbar\":{\"outlinewidth\":0,\"ticks\":\"\"}}}],\"scattercarpet\":[{\"type\":\"scattercarpet\",\"marker\":{\"colorbar\":{\"outlinewidth\":0,\"ticks\":\"\"}}}],\"carpet\":[{\"aaxis\":{\"endlinecolor\":\"#2a3f5f\",\"gridcolor\":\"white\",\"linecolor\":\"white\",\"minorgridcolor\":\"white\",\"startlinecolor\":\"#2a3f5f\"},\"baxis\":{\"endlinecolor\":\"#2a3f5f\",\"gridcolor\":\"white\",\"linecolor\":\"white\",\"minorgridcolor\":\"white\",\"startlinecolor\":\"#2a3f5f\"},\"type\":\"carpet\"}],\"table\":[{\"cells\":{\"fill\":{\"color\":\"#EBF0F8\"},\"line\":{\"color\":\"white\"}},\"header\":{\"fill\":{\"color\":\"#C8D4E3\"},\"line\":{\"color\":\"white\"}},\"type\":\"table\"}],\"barpolar\":[{\"marker\":{\"line\":{\"color\":\"#E5ECF6\",\"width\":0.5},\"pattern\":{\"fillmode\":\"overlay\",\"size\":10,\"solidity\":0.2}},\"type\":\"barpolar\"}],\"pie\":[{\"automargin\":true,\"type\":\"pie\"}]},\"layout\":{\"autotypenumbers\":\"strict\",\"colorway\":[\"#636efa\",\"#EF553B\",\"#00cc96\",\"#ab63fa\",\"#FFA15A\",\"#19d3f3\",\"#FF6692\",\"#B6E880\",\"#FF97FF\",\"#FECB52\"],\"font\":{\"color\":\"#2a3f5f\"},\"hovermode\":\"closest\",\"hoverlabel\":{\"align\":\"left\"},\"paper_bgcolor\":\"white\",\"plot_bgcolor\":\"#E5ECF6\",\"polar\":{\"bgcolor\":\"#E5ECF6\",\"angularaxis\":{\"gridcolor\":\"white\",\"linecolor\":\"white\",\"ticks\":\"\"},\"radialaxis\":{\"gridcolor\":\"white\",\"linecolor\":\"white\",\"ticks\":\"\"}},\"ternary\":{\"bgcolor\":\"#E5ECF6\",\"aaxis\":{\"gridcolor\":\"white\",\"linecolor\":\"white\",\"ticks\":\"\"},\"baxis\":{\"gridcolor\":\"white\",\"linecolor\":\"white\",\"ticks\":\"\"},\"caxis\":{\"gridcolor\":\"white\",\"linecolor\":\"white\",\"ticks\":\"\"}},\"coloraxis\":{\"colorbar\":{\"outlinewidth\":0,\"ticks\":\"\"}},\"colorscale\":{\"sequential\":[[0.0,\"#0d0887\"],[0.1111111111111111,\"#46039f\"],[0.2222222222222222,\"#7201a8\"],[0.3333333333333333,\"#9c179e\"],[0.4444444444444444,\"#bd3786\"],[0.5555555555555556,\"#d8576b\"],[0.6666666666666666,\"#ed7953\"],[0.7777777777777778,\"#fb9f3a\"],[0.8888888888888888,\"#fdca26\"],[1.0,\"#f0f921\"]],\"sequentialminus\":[[0.0,\"#0d0887\"],[0.1111111111111111,\"#46039f\"],[0.2222222222222222,\"#7201a8\"],[0.3333333333333333,\"#9c179e\"],[0.4444444444444444,\"#bd3786\"],[0.5555555555555556,\"#d8576b\"],[0.6666666666666666,\"#ed7953\"],[0.7777777777777778,\"#fb9f3a\"],[0.8888888888888888,\"#fdca26\"],[1.0,\"#f0f921\"]],\"diverging\":[[0,\"#8e0152\"],[0.1,\"#c51b7d\"],[0.2,\"#de77ae\"],[0.3,\"#f1b6da\"],[0.4,\"#fde0ef\"],[0.5,\"#f7f7f7\"],[0.6,\"#e6f5d0\"],[0.7,\"#b8e186\"],[0.8,\"#7fbc41\"],[0.9,\"#4d9221\"],[1,\"#276419\"]]},\"xaxis\":{\"gridcolor\":\"white\",\"linecolor\":\"white\",\"ticks\":\"\",\"title\":{\"standoff\":15},\"zerolinecolor\":\"white\",\"automargin\":true,\"zerolinewidth\":2},\"yaxis\":{\"gridcolor\":\"white\",\"linecolor\":\"white\",\"ticks\":\"\",\"title\":{\"standoff\":15},\"zerolinecolor\":\"white\",\"automargin\":true,\"zerolinewidth\":2},\"scene\":{\"xaxis\":{\"backgroundcolor\":\"#E5ECF6\",\"gridcolor\":\"white\",\"linecolor\":\"white\",\"showbackground\":true,\"ticks\":\"\",\"zerolinecolor\":\"white\",\"gridwidth\":2},\"yaxis\":{\"backgroundcolor\":\"#E5ECF6\",\"gridcolor\":\"white\",\"linecolor\":\"white\",\"showbackground\":true,\"ticks\":\"\",\"zerolinecolor\":\"white\",\"gridwidth\":2},\"zaxis\":{\"backgroundcolor\":\"#E5ECF6\",\"gridcolor\":\"white\",\"linecolor\":\"white\",\"showbackground\":true,\"ticks\":\"\",\"zerolinecolor\":\"white\",\"gridwidth\":2}},\"shapedefaults\":{\"line\":{\"color\":\"#2a3f5f\"}},\"annotationdefaults\":{\"arrowcolor\":\"#2a3f5f\",\"arrowhead\":0,\"arrowwidth\":1},\"geo\":{\"bgcolor\":\"white\",\"landcolor\":\"#E5ECF6\",\"subunitcolor\":\"white\",\"showland\":true,\"showlakes\":true,\"lakecolor\":\"white\"},\"title\":{\"x\":0.05},\"mapbox\":{\"style\":\"light\"}}},\"xaxis\":{\"anchor\":\"y\",\"domain\":[0.0,1.0],\"title\":{\"text\":\"a\"}},\"yaxis\":{\"anchor\":\"x\",\"domain\":[0.0,1.0],\"title\":{\"text\":\"b\"}},\"legend\":{\"title\":{\"text\":\"class\"},\"tracegroupgap\":0},\"margin\":{\"t\":60},\"height\":560,\"width\":560},                        {\"responsive\": true}                    ).then(function(){\n",
       "                            \n",
       "var gd = document.getElementById('dd18cd4d-1ce8-4ccc-8ec9-6eb4b61f50a2');\n",
       "var x = new MutationObserver(function (mutations, observer) {{\n",
       "        var display = window.getComputedStyle(gd).display;\n",
       "        if (!display || display === 'none') {{\n",
       "            console.log([gd, 'removed!']);\n",
       "            Plotly.purge(gd);\n",
       "            observer.disconnect();\n",
       "        }}\n",
       "}});\n",
       "\n",
       "// Listen for the removal of the full notebook cells\n",
       "var notebookContainer = gd.closest('#notebook-container');\n",
       "if (notebookContainer) {{\n",
       "    x.observe(notebookContainer, {childList: true});\n",
       "}}\n",
       "\n",
       "// Listen for the clearing of the current output cell\n",
       "var outputEl = gd.closest('.output');\n",
       "if (outputEl) {{\n",
       "    x.observe(outputEl, {childList: true});\n",
       "}}\n",
       "\n",
       "                        })                };                });            </script>        </div>"
      ]
     },
     "metadata": {},
     "output_type": "display_data"
    }
   ],
   "source": [
    "fig = px.scatter(df, x='a',\n",
    "            y='b',\n",
    "            color='class',\n",
    "            height=560,\n",
    "            width=560,\n",
    "            )\n",
    "fig.show()"
   ]
  },
  {
   "cell_type": "code",
   "execution_count": 54,
   "metadata": {},
   "outputs": [
    {
     "name": "stdout",
     "output_type": "stream",
     "text": [
      "Rules original\n",
      "IF a = <7.06, 14.00) THEN class = {0} (p = 40.0, n = 0.0, P = 46.0, N = 54.0, weight = 1.0, pvalue = 6.8140982473079975e-22)\n",
      "IF a = <3.30, 5.02) THEN class = {0} (p = 6.0, n = 0.0, P = 46.0, N = 54.0, weight = 1.0, pvalue = 0.007857724207425823)\n",
      "IF a = <14.00, inf) THEN class = {1} (p = 26.0, n = 0.0, P = 54.0, N = 46.0, weight = 1.0, pvalue = 2.6836384478821624e-09)\n",
      "IF a = (-inf, 3.30) THEN class = {1} (p = 18.0, n = 0.0, P = 54.0, N = 46.0, weight = 1.0, pvalue = 3.1608640099081543e-06)\n",
      "IF a = <5.02, 7.06) THEN class = {1} (p = 10.0, n = 0.0, P = 54.0, N = 46.0, weight = 1.0, pvalue = 0.001382454382471896)\n",
      "\n",
      "\n",
      "Complex rules\n",
      "IF a = <7.06, 14.25) THEN class = {0} (p = 40.0, n = 0.0, P = 46.0, N = 54.0, weight = 1.0, pvalue = 6.8140982473079975e-22)\n",
      "IF a = <3.30, 5.38) THEN class = {0} (p = 6.0, n = 0.0, P = 46.0, N = 54.0, weight = 1.0, pvalue = 0.007857724207425823)\n",
      "IF a != <2.13, 14.25) THEN class = {1} (p = 39.0, n = 0.0, P = 54.0, N = 46.0, weight = 1.0, pvalue = 9.601065669383949e-16)\n",
      "IF a != <3.30, 15.88) THEN class = {1} (p = 36.0, n = 0.0, P = 54.0, N = 46.0, weight = 1.0, pvalue = 4.9021911770736793e-14)\n",
      "IF a = <5.02, 7.13) THEN class = {1} (p = 10.0, n = 0.0, P = 54.0, N = 46.0, weight = 1.0, pvalue = 0.001382454382471896)\n",
      "\n",
      "\n",
      "Complex rules + inners alternatives\n",
      "IF #(a = <3.30, 4.66) OR a = <3.30, 5.38) OR a = <7.06, 10.18)) THEN class = {0} (p = 46.0, n = 0.0, P = 46.0, N = 54.0, weight = 1.0, pvalue = 1.361081276455314e-29)\n",
      "IF #(a = (-inf, 3.30) OR a != <0.21, 14.25) OR a != <0.21, 14.52) OR a != <0.21, 14.89) OR a != <0.21, 15.30) OR a != <2.13, 14.25)) THEN class = {1} (p = 44.0, n = 0.0, P = 54.0, N = 46.0, weight = 1.0, pvalue = 4.846409107920845e-19)\n",
      "IF #(a = <5.02, 6.03)) THEN class = {1} (p = 10.0, n = 0.0, P = 54.0, N = 46.0, weight = 1.0, pvalue = 0.001382454382471896)\n"
     ]
    }
   ],
   "source": [
    "X = df.drop(['class'], axis=1)\n",
    "y = df['class']\n",
    "\n",
    "clf_simple.fit(X, y)\n",
    "\n",
    "print(\"Rules original\")\n",
    "for rule in clf_simple.model.rules:\n",
    "    print(rule, rule.stats)\n",
    "\n",
    "print(\"\\n\\nComplex rules\")\n",
    "clf_complex.fit(X, y)\n",
    "for rule in clf_complex.model.rules:\n",
    "    print(rule, rule.stats)\n",
    "\n",
    "print(\"\\n\\nComplex rules + inners alternatives\")\n",
    "clf_complex_with_inners.fit(X, y)\n",
    "for rule in clf_complex_with_inners.model.rules:\n",
    "    print(rule, rule.stats)"
   ]
  },
  {
   "attachments": {},
   "cell_type": "markdown",
   "metadata": {},
   "source": [
    "# Monk-1"
   ]
  },
  {
   "cell_type": "code",
   "execution_count": 43,
   "metadata": {},
   "outputs": [],
   "source": [
    "train = pd.read_parquet(\"./data/monk_1/train.parquet\")\n",
    "test = pd.read_parquet(\"./data/monk_1/train.parquet\")"
   ]
  },
  {
   "cell_type": "code",
   "execution_count": 44,
   "metadata": {},
   "outputs": [
    {
     "data": {
      "text/html": [
       "<div>\n",
       "<style scoped>\n",
       "    .dataframe tbody tr th:only-of-type {\n",
       "        vertical-align: middle;\n",
       "    }\n",
       "\n",
       "    .dataframe tbody tr th {\n",
       "        vertical-align: top;\n",
       "    }\n",
       "\n",
       "    .dataframe thead th {\n",
       "        text-align: right;\n",
       "    }\n",
       "</style>\n",
       "<table border=\"1\" class=\"dataframe\">\n",
       "  <thead>\n",
       "    <tr style=\"text-align: right;\">\n",
       "      <th></th>\n",
       "      <th>a1</th>\n",
       "      <th>a2</th>\n",
       "      <th>a3</th>\n",
       "      <th>a4</th>\n",
       "      <th>a5</th>\n",
       "      <th>a6</th>\n",
       "      <th>class</th>\n",
       "    </tr>\n",
       "  </thead>\n",
       "  <tbody>\n",
       "    <tr>\n",
       "      <th>0</th>\n",
       "      <td>1</td>\n",
       "      <td>1</td>\n",
       "      <td>1</td>\n",
       "      <td>1</td>\n",
       "      <td>3</td>\n",
       "      <td>1</td>\n",
       "      <td>True</td>\n",
       "    </tr>\n",
       "    <tr>\n",
       "      <th>1</th>\n",
       "      <td>1</td>\n",
       "      <td>1</td>\n",
       "      <td>1</td>\n",
       "      <td>1</td>\n",
       "      <td>3</td>\n",
       "      <td>2</td>\n",
       "      <td>True</td>\n",
       "    </tr>\n",
       "    <tr>\n",
       "      <th>2</th>\n",
       "      <td>1</td>\n",
       "      <td>1</td>\n",
       "      <td>1</td>\n",
       "      <td>3</td>\n",
       "      <td>2</td>\n",
       "      <td>1</td>\n",
       "      <td>True</td>\n",
       "    </tr>\n",
       "    <tr>\n",
       "      <th>3</th>\n",
       "      <td>1</td>\n",
       "      <td>1</td>\n",
       "      <td>1</td>\n",
       "      <td>3</td>\n",
       "      <td>3</td>\n",
       "      <td>2</td>\n",
       "      <td>True</td>\n",
       "    </tr>\n",
       "    <tr>\n",
       "      <th>4</th>\n",
       "      <td>1</td>\n",
       "      <td>1</td>\n",
       "      <td>2</td>\n",
       "      <td>1</td>\n",
       "      <td>2</td>\n",
       "      <td>1</td>\n",
       "      <td>True</td>\n",
       "    </tr>\n",
       "    <tr>\n",
       "      <th>...</th>\n",
       "      <td>...</td>\n",
       "      <td>...</td>\n",
       "      <td>...</td>\n",
       "      <td>...</td>\n",
       "      <td>...</td>\n",
       "      <td>...</td>\n",
       "      <td>...</td>\n",
       "    </tr>\n",
       "    <tr>\n",
       "      <th>119</th>\n",
       "      <td>3</td>\n",
       "      <td>3</td>\n",
       "      <td>2</td>\n",
       "      <td>1</td>\n",
       "      <td>4</td>\n",
       "      <td>2</td>\n",
       "      <td>True</td>\n",
       "    </tr>\n",
       "    <tr>\n",
       "      <th>120</th>\n",
       "      <td>3</td>\n",
       "      <td>3</td>\n",
       "      <td>2</td>\n",
       "      <td>3</td>\n",
       "      <td>1</td>\n",
       "      <td>2</td>\n",
       "      <td>True</td>\n",
       "    </tr>\n",
       "    <tr>\n",
       "      <th>121</th>\n",
       "      <td>3</td>\n",
       "      <td>3</td>\n",
       "      <td>2</td>\n",
       "      <td>3</td>\n",
       "      <td>2</td>\n",
       "      <td>2</td>\n",
       "      <td>True</td>\n",
       "    </tr>\n",
       "    <tr>\n",
       "      <th>122</th>\n",
       "      <td>3</td>\n",
       "      <td>3</td>\n",
       "      <td>2</td>\n",
       "      <td>3</td>\n",
       "      <td>3</td>\n",
       "      <td>2</td>\n",
       "      <td>True</td>\n",
       "    </tr>\n",
       "    <tr>\n",
       "      <th>123</th>\n",
       "      <td>3</td>\n",
       "      <td>3</td>\n",
       "      <td>2</td>\n",
       "      <td>3</td>\n",
       "      <td>4</td>\n",
       "      <td>2</td>\n",
       "      <td>True</td>\n",
       "    </tr>\n",
       "  </tbody>\n",
       "</table>\n",
       "<p>124 rows × 7 columns</p>\n",
       "</div>"
      ],
      "text/plain": [
       "    a1 a2 a3 a4 a5 a6 class\n",
       "0    1  1  1  1  3  1  True\n",
       "1    1  1  1  1  3  2  True\n",
       "2    1  1  1  3  2  1  True\n",
       "3    1  1  1  3  3  2  True\n",
       "4    1  1  2  1  2  1  True\n",
       "..  .. .. .. .. .. ..   ...\n",
       "119  3  3  2  1  4  2  True\n",
       "120  3  3  2  3  1  2  True\n",
       "121  3  3  2  3  2  2  True\n",
       "122  3  3  2  3  3  2  True\n",
       "123  3  3  2  3  4  2  True\n",
       "\n",
       "[124 rows x 7 columns]"
      ]
     },
     "execution_count": 44,
     "metadata": {},
     "output_type": "execute_result"
    }
   ],
   "source": [
    "train"
   ]
  },
  {
   "cell_type": "code",
   "execution_count": 45,
   "metadata": {},
   "outputs": [
    {
     "name": "stdout",
     "output_type": "stream",
     "text": [
      "Rules original\n",
      "IF a5 = {1} THEN class = {True} (p = 29.0, n = 0.0, P = 62.0, N = 62.0, weight = 1.0, pvalue = 2.4856745128420078e-11)\n",
      "IF a1 = {3} AND a2 = {3} THEN class = {True} (p = 17.0, n = 0.0, P = 62.0, N = 62.0, weight = 1.0, pvalue = 2.142364554238474e-06)\n",
      "IF a4 = {1} AND a6 = {1} THEN class = {True} (p = 15.0, n = 6.0, P = 62.0, N = 62.0, weight = 0.7142857142857143, pvalue = 0.02680801791894211)\n",
      "IF a4 = {1} THEN class = {True} (p = 26.0, n = 16.0, P = 62.0, N = 62.0, weight = 0.6190476190476191, pvalue = 0.043548750924814826)\n",
      "IF a3 = {1} AND a6 = {2} THEN class = {True} (p = 20.0, n = 14.0, P = 62.0, N = 62.0, weight = 0.5882352941176471, pvalue = 0.15710116246905934)\n",
      "IF a6 = {1} THEN class = {True} (p = 29.0, n = 27.0, P = 62.0, N = 62.0, weight = 0.5178571428571429, pvalue = 0.42844949591782744)\n",
      "IF a1 = {1} AND a2 = {3} AND a5 = {4} THEN class = {False} (p = 8.0, n = 0.0, P = 62.0, N = 62.0, weight = 1.0, pvalue = 0.003071215409809354)\n",
      "IF a1 = {1} AND a2 = {2} AND a5 = {4} THEN class = {False} (p = 5.0, n = 0.0, P = 62.0, N = 62.0, weight = 1.0, pvalue = 0.028740845259692085)\n",
      "IF a1 = {1} AND a2 = {2} AND a3 = {2} THEN class = {False} (p = 7.0, n = 0.0, P = 62.0, N = 62.0, weight = 1.0, pvalue = 0.006533312780867199)\n",
      "IF a1 = {1} AND a2 = {2} THEN class = {False} (p = 15.0, n = 2.0, P = 62.0, N = 62.0, weight = 0.8823529411764706, pvalue = 0.0005609110733838037)\n",
      "IF a1 = {1} AND a2 = {3} AND a5 = {2} THEN class = {False} (p = 6.0, n = 0.0, P = 62.0, N = 62.0, weight = 1.0, pvalue = 0.013766623359684566)\n",
      "IF a1 = {2} AND a2 = {1} AND a5 = {4} THEN class = {False} (p = 6.0, n = 0.0, P = 62.0, N = 62.0, weight = 1.0, pvalue = 0.013766623359684566)\n",
      "IF a2 = {1} AND a5 = {2} AND a6 = {2} THEN class = {False} (p = 8.0, n = 1.0, P = 62.0, N = 62.0, weight = 0.8888888888888888, pvalue = 0.016203308886235498)\n",
      "IF a1 = {2} AND a5 = {3} AND a6 = {1} THEN class = {False} (p = 6.0, n = 1.0, P = 62.0, N = 62.0, weight = 0.8571428571428571, pvalue = 0.05716648683258794)\n",
      "IF a3 = {2} AND a5 = {3} THEN class = {False} (p = 10.0, n = 4.0, P = 62.0, N = 62.0, weight = 0.7142857142857143, pvalue = 0.07706613361841333)\n",
      "\n",
      "\n",
      "Complex rules\n",
      "IF a1 = a2 THEN class = {True} (p = 41.0, n = 0.0, P = 62.0, N = 62.0, weight = 1.0, pvalue = 1.6135829774090917e-17)\n",
      "IF a5 = {1} THEN class = {True} (p = 29.0, n = 0.0, P = 62.0, N = 62.0, weight = 1.0, pvalue = 2.4856745128420078e-11)\n",
      "IF a1 != a2 AND a5 != {1} THEN class = {False} (p = 62.0, n = 0.0, P = 62.0, N = 62.0, weight = 1.0, pvalue = 6.575471549018231e-37)\n",
      "\n",
      "\n",
      "Complex rules + inners alternatives\n",
      "IF a1 = a2 THEN class = {True} (p = 41.0, n = 0.0, P = 62.0, N = 62.0, weight = 1.0, pvalue = 1.6135829774090917e-17)\n",
      "IF a5 = {1} THEN class = {True} (p = 29.0, n = 0.0, P = 62.0, N = 62.0, weight = 1.0, pvalue = 2.4856745128420078e-11)\n",
      "IF a1 != a2 AND a5 != {1} THEN class = {False} (p = 62.0, n = 0.0, P = 62.0, N = 62.0, weight = 1.0, pvalue = 6.575471549018231e-37)\n"
     ]
    }
   ],
   "source": [
    "X = train.drop(['class'], axis=1)\n",
    "y = train['class']\n",
    "\n",
    "clf_simple.fit(X, y)\n",
    "\n",
    "print(\"Rules original\")\n",
    "for rule in clf_simple.model.rules:\n",
    "    print(rule, rule.stats)\n",
    "\n",
    "print(\"\\n\\nComplex rules\")\n",
    "clf_complex.fit(X, y)\n",
    "for rule in clf_complex.model.rules:\n",
    "    print(rule, rule.stats)\n",
    "\n",
    "print(\"\\n\\nComplex rules + inners alternatives\")\n",
    "clf_complex_with_inners.fit(X, y)\n",
    "for rule in clf_complex_with_inners.model.rules:\n",
    "    print(rule, rule.stats)"
   ]
  },
  {
   "attachments": {},
   "cell_type": "markdown",
   "metadata": {},
   "source": [
    "The Monk's Problems: Problem 1\n",
    "Once upon a time, in July 1991, the monks of Corsendonk Priory were faced with a school held in their priory, namely the 2nd European Summer School on Machine Learning. After listening more than one week to a wide variety of learning algorithms, they felt rather confused: Which algorithm would be optimal? And which one to avoid? As a consequence of this dilemma, they created a simple task on which all learning algorithms ought to be compared: the three MONK's problems.\n",
    "\n",
    "The target concept associated with the 1st Monk's problem is the binary outcome of the logical formula:\n",
    "MONK-1: (a1 == a2) or (a5 == 1)\n",
    "\n",
    "In this dataset, the original train and test sets were merged to allow other sampling procedures. However, the original train-test splits can be found as one of the OpenML tasks."
   ]
  },
  {
   "attachments": {},
   "cell_type": "markdown",
   "metadata": {},
   "source": [
    "# Monk-2"
   ]
  },
  {
   "cell_type": "code",
   "execution_count": 46,
   "metadata": {},
   "outputs": [],
   "source": [
    "train = pd.read_parquet(\"./data/monk_2/train.parquet\")\n",
    "test = pd.read_parquet(\"./data/monk_2/train.parquet\")"
   ]
  },
  {
   "cell_type": "code",
   "execution_count": 47,
   "metadata": {},
   "outputs": [
    {
     "data": {
      "text/html": [
       "<div>\n",
       "<style scoped>\n",
       "    .dataframe tbody tr th:only-of-type {\n",
       "        vertical-align: middle;\n",
       "    }\n",
       "\n",
       "    .dataframe tbody tr th {\n",
       "        vertical-align: top;\n",
       "    }\n",
       "\n",
       "    .dataframe thead th {\n",
       "        text-align: right;\n",
       "    }\n",
       "</style>\n",
       "<table border=\"1\" class=\"dataframe\">\n",
       "  <thead>\n",
       "    <tr style=\"text-align: right;\">\n",
       "      <th></th>\n",
       "      <th>a1</th>\n",
       "      <th>a2</th>\n",
       "      <th>a3</th>\n",
       "      <th>a4</th>\n",
       "      <th>a5</th>\n",
       "      <th>a6</th>\n",
       "      <th>class</th>\n",
       "    </tr>\n",
       "  </thead>\n",
       "  <tbody>\n",
       "    <tr>\n",
       "      <th>0</th>\n",
       "      <td>1</td>\n",
       "      <td>1</td>\n",
       "      <td>1</td>\n",
       "      <td>1</td>\n",
       "      <td>2</td>\n",
       "      <td>2</td>\n",
       "      <td>False</td>\n",
       "    </tr>\n",
       "    <tr>\n",
       "      <th>1</th>\n",
       "      <td>1</td>\n",
       "      <td>1</td>\n",
       "      <td>1</td>\n",
       "      <td>1</td>\n",
       "      <td>4</td>\n",
       "      <td>1</td>\n",
       "      <td>False</td>\n",
       "    </tr>\n",
       "    <tr>\n",
       "      <th>2</th>\n",
       "      <td>1</td>\n",
       "      <td>1</td>\n",
       "      <td>1</td>\n",
       "      <td>2</td>\n",
       "      <td>1</td>\n",
       "      <td>1</td>\n",
       "      <td>False</td>\n",
       "    </tr>\n",
       "    <tr>\n",
       "      <th>3</th>\n",
       "      <td>1</td>\n",
       "      <td>1</td>\n",
       "      <td>1</td>\n",
       "      <td>2</td>\n",
       "      <td>1</td>\n",
       "      <td>2</td>\n",
       "      <td>False</td>\n",
       "    </tr>\n",
       "    <tr>\n",
       "      <th>4</th>\n",
       "      <td>1</td>\n",
       "      <td>1</td>\n",
       "      <td>1</td>\n",
       "      <td>2</td>\n",
       "      <td>2</td>\n",
       "      <td>1</td>\n",
       "      <td>False</td>\n",
       "    </tr>\n",
       "    <tr>\n",
       "      <th>...</th>\n",
       "      <td>...</td>\n",
       "      <td>...</td>\n",
       "      <td>...</td>\n",
       "      <td>...</td>\n",
       "      <td>...</td>\n",
       "      <td>...</td>\n",
       "      <td>...</td>\n",
       "    </tr>\n",
       "    <tr>\n",
       "      <th>164</th>\n",
       "      <td>3</td>\n",
       "      <td>3</td>\n",
       "      <td>2</td>\n",
       "      <td>2</td>\n",
       "      <td>3</td>\n",
       "      <td>1</td>\n",
       "      <td>False</td>\n",
       "    </tr>\n",
       "    <tr>\n",
       "      <th>165</th>\n",
       "      <td>3</td>\n",
       "      <td>3</td>\n",
       "      <td>2</td>\n",
       "      <td>2</td>\n",
       "      <td>3</td>\n",
       "      <td>2</td>\n",
       "      <td>False</td>\n",
       "    </tr>\n",
       "    <tr>\n",
       "      <th>166</th>\n",
       "      <td>3</td>\n",
       "      <td>3</td>\n",
       "      <td>2</td>\n",
       "      <td>3</td>\n",
       "      <td>1</td>\n",
       "      <td>1</td>\n",
       "      <td>True</td>\n",
       "    </tr>\n",
       "    <tr>\n",
       "      <th>167</th>\n",
       "      <td>3</td>\n",
       "      <td>3</td>\n",
       "      <td>2</td>\n",
       "      <td>3</td>\n",
       "      <td>2</td>\n",
       "      <td>1</td>\n",
       "      <td>False</td>\n",
       "    </tr>\n",
       "    <tr>\n",
       "      <th>168</th>\n",
       "      <td>3</td>\n",
       "      <td>3</td>\n",
       "      <td>2</td>\n",
       "      <td>3</td>\n",
       "      <td>4</td>\n",
       "      <td>2</td>\n",
       "      <td>False</td>\n",
       "    </tr>\n",
       "  </tbody>\n",
       "</table>\n",
       "<p>169 rows × 7 columns</p>\n",
       "</div>"
      ],
      "text/plain": [
       "    a1 a2 a3 a4 a5 a6  class\n",
       "0    1  1  1  1  2  2  False\n",
       "1    1  1  1  1  4  1  False\n",
       "2    1  1  1  2  1  1  False\n",
       "3    1  1  1  2  1  2  False\n",
       "4    1  1  1  2  2  1  False\n",
       "..  .. .. .. .. .. ..    ...\n",
       "164  3  3  2  2  3  1  False\n",
       "165  3  3  2  2  3  2  False\n",
       "166  3  3  2  3  1  1   True\n",
       "167  3  3  2  3  2  1  False\n",
       "168  3  3  2  3  4  2  False\n",
       "\n",
       "[169 rows x 7 columns]"
      ]
     },
     "execution_count": 47,
     "metadata": {},
     "output_type": "execute_result"
    }
   ],
   "source": [
    "train"
   ]
  },
  {
   "cell_type": "code",
   "execution_count": 48,
   "metadata": {},
   "outputs": [
    {
     "name": "stdout",
     "output_type": "stream",
     "text": [
      "Rules original\n",
      "IF a4 = {1} AND a5 = {1} AND a6 = {1} THEN class = {False} (p = 9.0, n = 0.0, P = 105.0, N = 64.0, weight = 1.0, pvalue = 0.012043080252488826)\n",
      "IF a4 = {1} AND a5 = {1} THEN class = {False} (p = 14.0, n = 1.0, P = 105.0, N = 64.0, weight = 0.9333333333333333, pvalue = 0.0060842019563005865)\n",
      "IF a1 = {1} AND a3 = {1} AND a4 = {1} THEN class = {False} (p = 7.0, n = 0.0, P = 105.0, N = 64.0, weight = 1.0, pvalue = 0.03304309058967097)\n",
      "IF a3 = {1} AND a4 = {1} AND a6 = {1} THEN class = {False} (p = 11.0, n = 0.0, P = 105.0, N = 64.0, weight = 1.0, pvalue = 0.004317330656552595)\n",
      "IF a4 = {1} AND a6 = {1} THEN class = {False} (p = 24.0, n = 4.0, P = 105.0, N = 64.0, weight = 0.8571428571428571, pvalue = 0.0032296489767082346)\n",
      "IF a2 = {2} AND a3 = {2} AND a4 = {1} AND a6 = {2} THEN class = {False} (p = 5.0, n = 0.0, P = 105.0, N = 64.0, weight = 1.0, pvalue = 0.08922301996394814)\n",
      "IF a2 = {1} AND a5 = {4} AND a6 = {1} THEN class = {False} (p = 9.0, n = 0.0, P = 105.0, N = 64.0, weight = 1.0, pvalue = 0.012043080252488826)\n",
      "IF a2 = {3} AND a5 = {4} AND a6 = {2} THEN class = {False} (p = 5.0, n = 1.0, P = 105.0, N = 64.0, weight = 0.8333333333333334, pvalue = 0.2633167174545783)\n",
      "IF a3 = {2} AND a4 = {3} AND a5 = {4} AND a6 = {2} THEN class = {False} (p = 7.0, n = 0.0, P = 105.0, N = 64.0, weight = 1.0, pvalue = 0.03304309058967097)\n",
      "IF a3 = {1} AND a5 = {1} AND a6 = {1} THEN class = {False} (p = 9.0, n = 0.0, P = 105.0, N = 64.0, weight = 1.0, pvalue = 0.012043080252488826)\n",
      "IF a3 = {1} AND a5 = {1} THEN class = {False} (p = 19.0, n = 2.0, P = 105.0, N = 64.0, weight = 0.9047619047619048, pvalue = 0.0025915846665164445)\n",
      "IF a2 = {1} AND a6 = {1} THEN class = {False} (p = 22.0, n = 3.0, P = 105.0, N = 64.0, weight = 0.88, pvalue = 0.002447338970446227)\n",
      "IF a1 = {1} AND a3 = {1} AND a6 = {1} THEN class = {False} (p = 16.0, n = 0.0, P = 105.0, N = 64.0, weight = 1.0, pvalue = 0.0003078676710004183)\n",
      "IF a6 = {1} THEN class = {False} (p = 56.0, n = 28.0, P = 105.0, N = 64.0, weight = 0.6666666666666666, pvalue = 0.1468372547999042)\n",
      "IF a2 = {1} THEN class = {False} (p = 36.0, n = 19.0, P = 105.0, N = 64.0, weight = 0.6545454545454545, pvalue = 0.3280162888472601)\n",
      "IF a3 = {2} AND a5 = {3} AND a6 = {2} THEN class = {False} (p = 10.0, n = 2.0, P = 105.0, N = 64.0, weight = 0.8333333333333334, pvalue = 0.10009591626526415)\n",
      "IF a2 = {2} AND a3 = {1} AND a5 = {2} THEN class = {True} (p = 5.0, n = 0.0, P = 64.0, N = 105.0, weight = 1.0, pvalue = 0.007045126711262497)\n",
      "IF a3 = {1} AND a5 = {2} AND a6 = {2} THEN class = {True} (p = 9.0, n = 3.0, P = 64.0, N = 105.0, weight = 0.75, pvalue = 0.007990203972144639)\n",
      "IF a2 = {1} AND a3 = {2} AND a5 = {2} THEN class = {True} (p = 6.0, n = 2.0, P = 64.0, N = 105.0, weight = 0.75, pvalue = 0.034341376272907044)\n",
      "IF a2 = {3} AND a4 = {3} THEN class = {True} (p = 7.0, n = 6.0, P = 64.0, N = 105.0, weight = 0.5384615384615384, pvalue = 0.1734465305316244)\n",
      "IF a3 = {1} AND a4 = {3} AND a5 = {3} THEN class = {True} (p = 5.0, n = 4.0, P = 64.0, N = 105.0, weight = 0.5555555555555556, pvalue = 0.21795722867852807)\n",
      "IF a2 = {2} AND a4 = {3} AND a6 = {1} THEN class = {True} (p = 8.0, n = 6.0, P = 64.0, N = 105.0, weight = 0.5714285714285714, pvalue = 0.10430612654333069)\n",
      "IF a1 = {3} AND a3 = {1} AND a6 = {2} THEN class = {True} (p = 9.0, n = 5.0, P = 64.0, N = 105.0, weight = 0.6428571428571429, pvalue = 0.034641931615732834)\n",
      "IF a3 = {1} AND a6 = {2} THEN class = {True} (p = 24.0, n = 19.0, P = 64.0, N = 105.0, weight = 0.5581395348837209, pvalue = 0.004612510701651317)\n",
      "IF a2 = {1} AND a6 = {2} THEN class = {True} (p = 16.0, n = 14.0, P = 64.0, N = 105.0, weight = 0.5333333333333333, pvalue = 0.04421057790798895)\n",
      "IF a2 = {2} AND a4 = {2} AND a6 = {1} THEN class = {True} (p = 6.0, n = 5.0, P = 64.0, N = 105.0, weight = 0.5454545454545454, pvalue = 0.19418142702550237)\n",
      "IF a1 = {2} AND a6 = {1} THEN class = {True} (p = 13.0, n = 15.0, P = 64.0, N = 105.0, weight = 0.4642857142857143, pvalue = 0.20827277218318285)\n",
      "\n",
      "\n",
      "Complex rules\n",
      "IF a1 = a2 AND a1 != {1} AND a5 = {2} THEN class = {False} (p = 7.0, n = 0.0, P = 105.0, N = 64.0, weight = 1.0, pvalue = 0.03304309058967097)\n",
      "IF a1 = a2 AND a1 = {1} AND a6 != {2} THEN class = {False} (p = 10.0, n = 0.0, P = 105.0, N = 64.0, weight = 1.0, pvalue = 0.007225848151493258)\n",
      "IF a1 = a2 AND a3 != a6 AND a5 = {2, 3} THEN class = {False} (p = 9.0, n = 1.0, P = 105.0, N = 64.0, weight = 0.9, pvalue = 0.05539816916144873)\n",
      "IF a1 = a2 AND a3 = a6 AND a1 != {2} AND a5 = {1, 3} THEN class = {False} (p = 7.0, n = 0.0, P = 105.0, N = 64.0, weight = 1.0, pvalue = 0.03304309058967097)\n",
      "IF a1 = a2 AND a3 = a6 AND a4 != {2} AND a5 != {2} THEN class = {False} (p = 11.0, n = 2.0, P = 105.0, N = 64.0, weight = 0.8461538461538461, pvalue = 0.06986918982304371)\n",
      "IF a3 = a6 AND a1 != a2 AND a1 = {1} AND a5 = {4} THEN class = {False} (p = 5.0, n = 0.0, P = 105.0, N = 64.0, weight = 1.0, pvalue = 0.08922301996394814)\n",
      "IF a3 = a6 AND a2 != a4 AND a1 != a2 AND a5 = {4} THEN class = {False} (p = 11.0, n = 0.0, P = 105.0, N = 64.0, weight = 1.0, pvalue = 0.004317330656552595)\n",
      "IF a3 = a6 AND a1 = {1} AND a3 != {2} THEN class = {False} (p = 16.0, n = 0.0, P = 105.0, N = 64.0, weight = 1.0, pvalue = 0.0003078676710004183)\n",
      "IF a3 = a6 AND a3 != {1} AND a4 = {3} AND a5 = {4, 3} THEN class = {False} (p = 11.0, n = 0.0, P = 105.0, N = 64.0, weight = 1.0, pvalue = 0.004317330656552595)\n",
      "IF a3 = a6 AND a1 != a4 AND a1 != a2 AND a1 != {2} AND a5 = {4, 3} THEN class = {False} (p = 15.0, n = 2.0, P = 105.0, N = 64.0, weight = 0.8823529411764706, pvalue = 0.01462834244861985)\n",
      "IF a3 = a6 AND a2 != a4 AND a1 != a2 AND a2 != {3} THEN class = {False} (p = 20.0, n = 5.0, P = 105.0, N = 64.0, weight = 0.8, pvalue = 0.034890827160057265)\n",
      "IF a3 != {2} AND a4 != {3} AND a5 != {2} AND a6 != {2} THEN class = {False} (p = 19.0, n = 2.0, P = 105.0, N = 64.0, weight = 0.9047619047619048, pvalue = 0.0025915846665164445)\n",
      "IF a3 != a6 AND a4 = {1} AND a5 = {1} THEN class = {False} (p = 10.0, n = 0.0, P = 105.0, N = 64.0, weight = 1.0, pvalue = 0.007225848151493258)\n",
      "IF a1 = a4 AND a3 != a6 AND a4 = {1} THEN class = {False} (p = 10.0, n = 0.0, P = 105.0, N = 64.0, weight = 1.0, pvalue = 0.007225848151493258)\n",
      "IF a3 != a6 AND a2 = {1} AND a4 != {2} AND a5 = {4, 1} THEN class = {False} (p = 8.0, n = 0.0, P = 105.0, N = 64.0, weight = 1.0, pvalue = 0.019989030109800937)\n",
      "IF a3 != {2} AND a5 = {4, 1} THEN class = {False} (p = 29.0, n = 8.0, P = 105.0, N = 64.0, weight = 0.7837837837837838, pvalue = 0.01541273838698815)\n",
      "IF a6 != {2} THEN class = {False} (p = 56.0, n = 28.0, P = 105.0, N = 64.0, weight = 0.6666666666666666, pvalue = 0.1468372547999042)\n",
      "IF a1 != a2 AND a3 != {2} AND a4 = {3} AND a5 = {2} THEN class = {True} (p = 6.0, n = 0.0, P = 64.0, N = 105.0, weight = 1.0, pvalue = 0.0025345272924664087)\n",
      "IF a1 != a2 AND a3 != {2} AND a4 != {1} AND a5 = {2} THEN class = {True} (p = 11.0, n = 1.0, P = 64.0, N = 105.0, weight = 0.9166666666666666, pvalue = 0.00010707950007636132)\n",
      "IF a1 != {1} AND a2 = {1} AND a5 = {2} THEN class = {True} (p = 9.0, n = 3.0, P = 64.0, N = 105.0, weight = 0.75, pvalue = 0.007990203972144639)\n",
      "IF a3 != a6 AND a1 = {1} AND a4 = {3} AND a5 != {1} THEN class = {True} (p = 8.0, n = 0.0, P = 64.0, N = 105.0, weight = 1.0, pvalue = 0.00031731982234696384)\n",
      "IF a3 != a6 AND a4 = {3} THEN class = {True} (p = 17.0, n = 10.0, P = 64.0, N = 105.0, weight = 0.6296296296296297, pvalue = 0.003682783405509532)\n",
      "IF a3 != a6 AND a2 = a4 AND a1 != {2} AND a2 != {1} AND a5 != {2} THEN class = {True} (p = 7.0, n = 1.0, P = 64.0, N = 105.0, weight = 0.875, pvalue = 0.004993611941144367)\n",
      "IF a3 != a6 AND a4 != {1} THEN class = {True} (p = 34.0, n = 23.0, P = 64.0, N = 105.0, weight = 0.5964912280701754, pvalue = 3.4711275182449175e-05)\n",
      "IF a3 != a6 AND a1 != a4 AND a2 = {2} AND a4 = {1} AND a5 != {1} THEN class = {True} (p = 5.0, n = 0.0, P = 64.0, N = 105.0, weight = 1.0, pvalue = 0.007045126711262497)\n",
      "IF a4 = {3} AND a5 != {4} THEN class = {True} (p = 22.0, n = 24.0, P = 64.0, N = 105.0, weight = 0.4782608695652174, pvalue = 0.07377002203699835)\n",
      "IF a1 != a2 AND a1 != {1} AND a2 != {2} AND a4 != {3} AND a5 = {2, 3} THEN class = {True} (p = 12.0, n = 6.0, P = 64.0, N = 105.0, weight = 0.6666666666666666, pvalue = 0.008818011266926523)\n",
      "IF a1 != a2 THEN class = {True} (p = 52.0, n = 69.0, P = 64.0, N = 105.0, weight = 0.4297520661157025, pvalue = 0.021541887835356918)\n",
      "\n",
      "\n",
      "Complex rules + inners alternatives\n",
      "IF a1 = a2 AND a1 != {1} AND a5 = {2} THEN class = {False} (p = 7.0, n = 0.0, P = 105.0, N = 64.0, weight = 1.0, pvalue = 0.03304309058967097)\n",
      "IF a1 = a2 AND a1 = {1} AND a6 != {2} THEN class = {False} (p = 10.0, n = 0.0, P = 105.0, N = 64.0, weight = 1.0, pvalue = 0.007225848151493258)\n",
      "IF a1 = a2 AND a3 != a6 AND a5 = {2, 3} THEN class = {False} (p = 9.0, n = 1.0, P = 105.0, N = 64.0, weight = 0.9, pvalue = 0.05539816916144873)\n",
      "IF a1 = a2 AND a3 = a6 AND a1 != {2} AND a5 = {1, 3} THEN class = {False} (p = 7.0, n = 0.0, P = 105.0, N = 64.0, weight = 1.0, pvalue = 0.03304309058967097)\n",
      "IF a1 = a2 AND a3 = a6 AND a4 != {2} AND a5 != {2} THEN class = {False} (p = 11.0, n = 2.0, P = 105.0, N = 64.0, weight = 0.8461538461538461, pvalue = 0.06986918982304371)\n",
      "IF a3 = a6 AND a1 != a2 AND a1 = {1} AND a5 = {4} THEN class = {False} (p = 5.0, n = 0.0, P = 105.0, N = 64.0, weight = 1.0, pvalue = 0.08922301996394814)\n",
      "IF a3 = a6 AND a2 != a4 AND a1 != a2 AND a5 = {4} THEN class = {False} (p = 11.0, n = 0.0, P = 105.0, N = 64.0, weight = 1.0, pvalue = 0.004317330656552595)\n",
      "IF a3 = a6 AND a1 = {1} AND a3 != {2} THEN class = {False} (p = 16.0, n = 0.0, P = 105.0, N = 64.0, weight = 1.0, pvalue = 0.0003078676710004183)\n",
      "IF a3 = a6 AND a3 != {1} AND a4 = {3} AND a5 = {4, 3} THEN class = {False} (p = 11.0, n = 0.0, P = 105.0, N = 64.0, weight = 1.0, pvalue = 0.004317330656552595)\n",
      "IF a3 = a6 AND a1 != a4 AND a1 != a2 AND a1 != {2} AND a5 = {4, 3} THEN class = {False} (p = 15.0, n = 2.0, P = 105.0, N = 64.0, weight = 0.8823529411764706, pvalue = 0.01462834244861985)\n",
      "IF a3 = a6 AND a2 != a4 AND a1 != a2 AND a2 != {3} THEN class = {False} (p = 20.0, n = 5.0, P = 105.0, N = 64.0, weight = 0.8, pvalue = 0.034890827160057265)\n",
      "IF a3 != {2} AND a4 != {3} AND a5 != {2} AND a6 != {2} THEN class = {False} (p = 19.0, n = 2.0, P = 105.0, N = 64.0, weight = 0.9047619047619048, pvalue = 0.0025915846665164445)\n",
      "IF a3 != a6 AND a4 = {1} AND a5 = {1} THEN class = {False} (p = 10.0, n = 0.0, P = 105.0, N = 64.0, weight = 1.0, pvalue = 0.007225848151493258)\n",
      "IF a1 = a4 AND a3 != a6 AND a4 = {1} THEN class = {False} (p = 10.0, n = 0.0, P = 105.0, N = 64.0, weight = 1.0, pvalue = 0.007225848151493258)\n",
      "IF a3 != a6 AND a2 = {1} AND a4 != {2} AND a5 = {4, 1} THEN class = {False} (p = 8.0, n = 0.0, P = 105.0, N = 64.0, weight = 1.0, pvalue = 0.019989030109800937)\n",
      "IF a3 != {2} AND a5 = {4, 1} THEN class = {False} (p = 29.0, n = 8.0, P = 105.0, N = 64.0, weight = 0.7837837837837838, pvalue = 0.01541273838698815)\n",
      "IF a6 != {2} THEN class = {False} (p = 56.0, n = 28.0, P = 105.0, N = 64.0, weight = 0.6666666666666666, pvalue = 0.1468372547999042)\n",
      "IF a1 != a2 AND a3 != {2} AND a4 = {3} AND a5 = {2} THEN class = {True} (p = 6.0, n = 0.0, P = 64.0, N = 105.0, weight = 1.0, pvalue = 0.0025345272924664087)\n",
      "IF a1 != a2 AND a3 != {2} AND a4 != {1} AND a5 = {2} THEN class = {True} (p = 11.0, n = 1.0, P = 64.0, N = 105.0, weight = 0.9166666666666666, pvalue = 0.00010707950007636132)\n",
      "IF a1 != {1} AND a2 = {1} AND a5 = {2} THEN class = {True} (p = 9.0, n = 3.0, P = 64.0, N = 105.0, weight = 0.75, pvalue = 0.007990203972144639)\n",
      "IF a3 != a6 AND a1 = {1} AND a4 = {3} AND a5 != {1} THEN class = {True} (p = 8.0, n = 0.0, P = 64.0, N = 105.0, weight = 1.0, pvalue = 0.00031731982234696384)\n",
      "IF a3 != a6 AND a4 = {3} THEN class = {True} (p = 17.0, n = 10.0, P = 64.0, N = 105.0, weight = 0.6296296296296297, pvalue = 0.003682783405509532)\n",
      "IF a3 != a6 AND a2 = a4 AND a1 != {2} AND a2 != {1} AND a5 != {2} THEN class = {True} (p = 7.0, n = 1.0, P = 64.0, N = 105.0, weight = 0.875, pvalue = 0.004993611941144367)\n",
      "IF a3 != a6 AND a4 != {1} THEN class = {True} (p = 34.0, n = 23.0, P = 64.0, N = 105.0, weight = 0.5964912280701754, pvalue = 3.4711275182449175e-05)\n",
      "IF a3 != a6 AND a1 != a4 AND a2 = {2} AND a4 = {1} AND a5 != {1} THEN class = {True} (p = 5.0, n = 0.0, P = 64.0, N = 105.0, weight = 1.0, pvalue = 0.007045126711262497)\n",
      "IF a4 = {3} AND a5 != {4} THEN class = {True} (p = 22.0, n = 24.0, P = 64.0, N = 105.0, weight = 0.4782608695652174, pvalue = 0.07377002203699835)\n",
      "IF a1 != a2 AND a1 != {1} AND a2 != {2} AND a4 != {3} AND a5 = {2, 3} THEN class = {True} (p = 12.0, n = 6.0, P = 64.0, N = 105.0, weight = 0.6666666666666666, pvalue = 0.008818011266926523)\n",
      "IF a1 != a2 THEN class = {True} (p = 52.0, n = 69.0, P = 64.0, N = 105.0, weight = 0.4297520661157025, pvalue = 0.021541887835356918)\n"
     ]
    }
   ],
   "source": [
    "X = train.drop(['class'], axis=1)\n",
    "y = train['class']\n",
    "\n",
    "clf_simple.fit(X, y)\n",
    "\n",
    "print(\"Rules original\")\n",
    "for rule in clf_simple.model.rules:\n",
    "    print(rule, rule.stats)\n",
    "\n",
    "print(\"\\n\\nComplex rules\")\n",
    "clf_complex.fit(X, y)\n",
    "for rule in clf_complex.model.rules:\n",
    "    print(rule, rule.stats)\n",
    "\n",
    "print(\"\\n\\nComplex rules + inners alternatives\")\n",
    "clf_complex_with_inners.fit(X, y)\n",
    "for rule in clf_complex_with_inners.model.rules:\n",
    "    print(rule, rule.stats)"
   ]
  },
  {
   "attachments": {},
   "cell_type": "markdown",
   "metadata": {},
   "source": [
    "# Monk-3"
   ]
  },
  {
   "cell_type": "code",
   "execution_count": 49,
   "metadata": {},
   "outputs": [],
   "source": [
    "train = pd.read_parquet(\"./data/monk_3/train.parquet\")\n",
    "test = pd.read_parquet(\"./data/monk_3/train.parquet\")"
   ]
  },
  {
   "cell_type": "code",
   "execution_count": 50,
   "metadata": {},
   "outputs": [
    {
     "data": {
      "text/html": [
       "<div>\n",
       "<style scoped>\n",
       "    .dataframe tbody tr th:only-of-type {\n",
       "        vertical-align: middle;\n",
       "    }\n",
       "\n",
       "    .dataframe tbody tr th {\n",
       "        vertical-align: top;\n",
       "    }\n",
       "\n",
       "    .dataframe thead th {\n",
       "        text-align: right;\n",
       "    }\n",
       "</style>\n",
       "<table border=\"1\" class=\"dataframe\">\n",
       "  <thead>\n",
       "    <tr style=\"text-align: right;\">\n",
       "      <th></th>\n",
       "      <th>a1</th>\n",
       "      <th>a2</th>\n",
       "      <th>a3</th>\n",
       "      <th>a4</th>\n",
       "      <th>a5</th>\n",
       "      <th>a6</th>\n",
       "      <th>class</th>\n",
       "    </tr>\n",
       "  </thead>\n",
       "  <tbody>\n",
       "    <tr>\n",
       "      <th>0</th>\n",
       "      <td>1</td>\n",
       "      <td>1</td>\n",
       "      <td>1</td>\n",
       "      <td>1</td>\n",
       "      <td>1</td>\n",
       "      <td>2</td>\n",
       "      <td>True</td>\n",
       "    </tr>\n",
       "    <tr>\n",
       "      <th>1</th>\n",
       "      <td>1</td>\n",
       "      <td>1</td>\n",
       "      <td>1</td>\n",
       "      <td>1</td>\n",
       "      <td>2</td>\n",
       "      <td>1</td>\n",
       "      <td>True</td>\n",
       "    </tr>\n",
       "    <tr>\n",
       "      <th>2</th>\n",
       "      <td>1</td>\n",
       "      <td>1</td>\n",
       "      <td>1</td>\n",
       "      <td>1</td>\n",
       "      <td>2</td>\n",
       "      <td>2</td>\n",
       "      <td>True</td>\n",
       "    </tr>\n",
       "    <tr>\n",
       "      <th>3</th>\n",
       "      <td>1</td>\n",
       "      <td>1</td>\n",
       "      <td>1</td>\n",
       "      <td>1</td>\n",
       "      <td>3</td>\n",
       "      <td>1</td>\n",
       "      <td>False</td>\n",
       "    </tr>\n",
       "    <tr>\n",
       "      <th>4</th>\n",
       "      <td>1</td>\n",
       "      <td>1</td>\n",
       "      <td>1</td>\n",
       "      <td>1</td>\n",
       "      <td>4</td>\n",
       "      <td>1</td>\n",
       "      <td>False</td>\n",
       "    </tr>\n",
       "    <tr>\n",
       "      <th>...</th>\n",
       "      <td>...</td>\n",
       "      <td>...</td>\n",
       "      <td>...</td>\n",
       "      <td>...</td>\n",
       "      <td>...</td>\n",
       "      <td>...</td>\n",
       "      <td>...</td>\n",
       "    </tr>\n",
       "    <tr>\n",
       "      <th>117</th>\n",
       "      <td>3</td>\n",
       "      <td>3</td>\n",
       "      <td>2</td>\n",
       "      <td>2</td>\n",
       "      <td>2</td>\n",
       "      <td>2</td>\n",
       "      <td>False</td>\n",
       "    </tr>\n",
       "    <tr>\n",
       "      <th>118</th>\n",
       "      <td>3</td>\n",
       "      <td>3</td>\n",
       "      <td>2</td>\n",
       "      <td>2</td>\n",
       "      <td>3</td>\n",
       "      <td>2</td>\n",
       "      <td>False</td>\n",
       "    </tr>\n",
       "    <tr>\n",
       "      <th>119</th>\n",
       "      <td>3</td>\n",
       "      <td>3</td>\n",
       "      <td>2</td>\n",
       "      <td>3</td>\n",
       "      <td>1</td>\n",
       "      <td>1</td>\n",
       "      <td>False</td>\n",
       "    </tr>\n",
       "    <tr>\n",
       "      <th>120</th>\n",
       "      <td>3</td>\n",
       "      <td>3</td>\n",
       "      <td>2</td>\n",
       "      <td>3</td>\n",
       "      <td>3</td>\n",
       "      <td>2</td>\n",
       "      <td>False</td>\n",
       "    </tr>\n",
       "    <tr>\n",
       "      <th>121</th>\n",
       "      <td>3</td>\n",
       "      <td>3</td>\n",
       "      <td>2</td>\n",
       "      <td>3</td>\n",
       "      <td>4</td>\n",
       "      <td>2</td>\n",
       "      <td>False</td>\n",
       "    </tr>\n",
       "  </tbody>\n",
       "</table>\n",
       "<p>122 rows × 7 columns</p>\n",
       "</div>"
      ],
      "text/plain": [
       "    a1 a2 a3 a4 a5 a6  class\n",
       "0    1  1  1  1  1  2   True\n",
       "1    1  1  1  1  2  1   True\n",
       "2    1  1  1  1  2  2   True\n",
       "3    1  1  1  1  3  1  False\n",
       "4    1  1  1  1  4  1  False\n",
       "..  .. .. .. .. .. ..    ...\n",
       "117  3  3  2  2  2  2  False\n",
       "118  3  3  2  2  3  2  False\n",
       "119  3  3  2  3  1  1  False\n",
       "120  3  3  2  3  3  2  False\n",
       "121  3  3  2  3  4  2  False\n",
       "\n",
       "[122 rows x 7 columns]"
      ]
     },
     "execution_count": 50,
     "metadata": {},
     "output_type": "execute_result"
    }
   ],
   "source": [
    "train"
   ]
  },
  {
   "cell_type": "code",
   "execution_count": 51,
   "metadata": {},
   "outputs": [
    {
     "name": "stdout",
     "output_type": "stream",
     "text": [
      "Rules original\n",
      "IF a2 = {2} AND a5 = {1} THEN class = {True} (p = 10.0, n = 0.0, P = 60.0, N = 62.0, weight = 1.0, pvalue = 0.0005470406191995192)\n",
      "IF a1 = {1} AND a2 = {2} AND a5 = {2} THEN class = {True} (p = 8.0, n = 0.0, P = 60.0, N = 62.0, weight = 1.0, pvalue = 0.0026572312430347715)\n",
      "IF a2 = {2} AND a3 = {2} AND a5 = {3} THEN class = {True} (p = 5.0, n = 0.0, P = 60.0, N = 62.0, weight = 1.0, pvalue = 0.0263474580998908)\n",
      "IF a2 = {2} AND a6 = {2} THEN class = {True} (p = 18.0, n = 4.0, P = 60.0, N = 62.0, weight = 0.8181818181818182, pvalue = 0.0006392617157850593)\n",
      "IF a2 = {1} AND a5 = {1} THEN class = {True} (p = 12.0, n = 0.0, P = 60.0, N = 62.0, weight = 1.0, pvalue = 0.00010780642833323966)\n",
      "IF a2 = {1} AND a5 = {2} THEN class = {True} (p = 9.0, n = 0.0, P = 60.0, N = 62.0, weight = 1.0, pvalue = 0.001212070391559723)\n",
      "IF a2 = {1} AND a5 = {3} THEN class = {True} (p = 5.0, n = 1.0, P = 60.0, N = 62.0, weight = 0.8333333333333334, pvalue = 0.09615696246712296)\n",
      "IF a3 = {1} THEN class = {True} (p = 33.0, n = 32.0, P = 60.0, N = 62.0, weight = 0.5076923076923077, pvalue = 0.4234066267547958)\n",
      "IF a5 = {4} AND a6 = {2} THEN class = {False} (p = 16.0, n = 0.0, P = 62.0, N = 60.0, weight = 1.0, pvalue = 6.638631487453308e-06)\n",
      "IF a3 = {2} AND a5 = {4} THEN class = {False} (p = 15.0, n = 0.0, P = 62.0, N = 60.0, weight = 1.0, pvalue = 1.5113480194840506e-05)\n",
      "IF a5 = {4} THEN class = {False} (p = 30.0, n = 1.0, P = 62.0, N = 60.0, weight = 0.967741935483871, pvalue = 3.09801768792834e-10)\n",
      "IF a2 = {3} AND a3 = {2} THEN class = {False} (p = 22.0, n = 0.0, P = 62.0, N = 60.0, weight = 1.0, pvalue = 3.645154261777064e-08)\n",
      "IF a2 = {3} AND a4 = {3} THEN class = {False} (p = 14.0, n = 0.0, P = 62.0, N = 60.0, weight = 1.0, pvalue = 3.400533043839085e-05)\n",
      "IF a2 = {3} AND a4 = {2} THEN class = {False} (p = 13.0, n = 0.0, P = 62.0, N = 60.0, weight = 1.0, pvalue = 7.564451056703308e-05)\n",
      "IF a3 = {1} AND a6 = {1} THEN class = {False} (p = 20.0, n = 15.0, P = 62.0, N = 60.0, weight = 0.5714285714285714, pvalue = 0.24663513748401622)\n",
      "\n",
      "\n",
      "Complex rules\n",
      "IF a2 = {2} AND a5 = {1} THEN class = {True} (p = 10.0, n = 0.0, P = 60.0, N = 62.0, weight = 1.0, pvalue = 0.0005470406191995192)\n",
      "IF a1 != a4 AND a2 = {2} AND a5 = {1, 2} THEN class = {True} (p = 18.0, n = 0.0, P = 60.0, N = 62.0, weight = 1.0, pvalue = 6.176655083621046e-07)\n",
      "IF a2 = {2} AND a3 != {1} AND a5 != {4} THEN class = {True} (p = 16.0, n = 0.0, P = 60.0, N = 62.0, weight = 1.0, pvalue = 3.6335185560624915e-06)\n",
      "IF a2 != {3} AND a5 = {1} THEN class = {True} (p = 22.0, n = 0.0, P = 60.0, N = 62.0, weight = 1.0, pvalue = 1.503553846740394e-08)\n",
      "IF a1 != a4 AND a2 != {3} AND a5 = {1, 2} THEN class = {True} (p = 31.0, n = 0.0, P = 60.0, N = 62.0, weight = 1.0, pvalue = 1.2884695614022744e-12)\n",
      "IF a1 != a2 AND a2 != {3} AND a5 != {4} THEN class = {True} (p = 38.0, n = 1.0, P = 60.0, N = 62.0, weight = 0.9743589743589743, pvalue = 7.217116589866141e-15)\n",
      "IF a1 != {2} AND a2 != {3} AND a4 != {2} AND a5 != {4} THEN class = {True} (p = 30.0, n = 1.0, P = 60.0, N = 62.0, weight = 0.967741935483871, pvalue = 8.38364194619084e-11)\n",
      "IF a1 != {3} AND a5 = {4} THEN class = {False} (p = 22.0, n = 0.0, P = 62.0, N = 60.0, weight = 1.0, pvalue = 3.645154261777064e-08)\n",
      "IF a4 != {1} AND a5 = {4} THEN class = {False} (p = 20.0, n = 0.0, P = 62.0, N = 60.0, weight = 1.0, pvalue = 2.1807421141014682e-07)\n",
      "IF a2 = {3} AND a4 != {1} THEN class = {False} (p = 27.0, n = 0.0, P = 62.0, N = 60.0, weight = 1.0, pvalue = 3.1858409806610427e-10)\n",
      "IF a2 = {3} AND a3 != {1} THEN class = {False} (p = 22.0, n = 0.0, P = 62.0, N = 60.0, weight = 1.0, pvalue = 3.645154261777064e-08)\n",
      "IF a3 != {2} AND a5 = {3, 4} THEN class = {False} (p = 23.0, n = 9.0, P = 62.0, N = 60.0, weight = 0.71875, pvalue = 0.004748657049570998)\n",
      "\n",
      "\n",
      "Complex rules + inners alternatives\n",
      "IF a2 = {2} AND a5 = {1} THEN class = {True} (p = 10.0, n = 0.0, P = 60.0, N = 62.0, weight = 1.0, pvalue = 0.0005470406191995192)\n",
      "IF a1 != a2 AND a2 = {2} AND a5 = {1, 2} THEN class = {True} (p = 17.0, n = 0.0, P = 60.0, N = 62.0, weight = 1.0, pvalue = 1.5082529855353761e-06)\n",
      "IF a2 = {2} AND a3 != {1} AND a5 != {4} THEN class = {True} (p = 16.0, n = 0.0, P = 60.0, N = 62.0, weight = 1.0, pvalue = 3.6335185560624915e-06)\n",
      "IF a2 = {2} AND a5 != {4} THEN class = {True} (p = 31.0, n = 4.0, P = 60.0, N = 62.0, weight = 0.8857142857142857, pvalue = 1.4984110000307148e-08)\n",
      "IF a2 != {3} AND a5 = {1} THEN class = {True} (p = 22.0, n = 0.0, P = 60.0, N = 62.0, weight = 1.0, pvalue = 1.503553846740394e-08)\n",
      "IF a1 != {2} AND a2 != {3} AND a5 = {1, 2} THEN class = {True} (p = 31.0, n = 0.0, P = 60.0, N = 62.0, weight = 1.0, pvalue = 1.2884695614022744e-12)\n",
      "IF a1 != a2 AND a1 != {1} AND a2 != {3} AND a5 != {4} THEN class = {True} (p = 23.0, n = 0.0, P = 60.0, N = 62.0, weight = 1.0, pvalue = 5.713504617613504e-09)\n",
      "IF a4 != {2} THEN class = {True} (p = 43.0, n = 41.0, P = 60.0, N = 62.0, weight = 0.5119047619047619, pvalue = 0.32132165805952917)\n",
      "IF a1 != {3} AND a5 = {4} THEN class = {False} (p = 22.0, n = 0.0, P = 62.0, N = 60.0, weight = 1.0, pvalue = 3.645154261777064e-08)\n",
      "IF a4 != {1} AND a5 = {4} THEN class = {False} (p = 20.0, n = 0.0, P = 62.0, N = 60.0, weight = 1.0, pvalue = 2.1807421141014682e-07)\n",
      "IF a2 = {3} AND a4 != {1} THEN class = {False} (p = 27.0, n = 0.0, P = 62.0, N = 60.0, weight = 1.0, pvalue = 3.1858409806610427e-10)\n",
      "IF a2 = {3} AND a3 != {1} THEN class = {False} (p = 22.0, n = 0.0, P = 62.0, N = 60.0, weight = 1.0, pvalue = 3.645154261777064e-08)\n",
      "IF a3 != {2} AND a5 = {3, 4} THEN class = {False} (p = 23.0, n = 9.0, P = 62.0, N = 60.0, weight = 0.71875, pvalue = 0.004748657049570998)\n"
     ]
    }
   ],
   "source": [
    "X = train.drop(['class'], axis=1)\n",
    "y = train['class']\n",
    "\n",
    "clf_simple.fit(X, y)\n",
    "\n",
    "print(\"Rules original\")\n",
    "for rule in clf_simple.model.rules:\n",
    "    print(rule, rule.stats)\n",
    "\n",
    "print(\"\\n\\nComplex rules\")\n",
    "clf_complex.fit(X, y)\n",
    "for rule in clf_complex.model.rules:\n",
    "    print(rule, rule.stats)\n",
    "\n",
    "print(\"\\n\\nComplex rules + inners alternatives\")\n",
    "clf_complex_with_inners.fit(X, y)\n",
    "for rule in clf_complex_with_inners.model.rules:\n",
    "    print(rule, rule.stats)"
   ]
  },
  {
   "attachments": {},
   "cell_type": "markdown",
   "metadata": {},
   "source": [
    "# Trains"
   ]
  },
  {
   "cell_type": "code",
   "execution_count": 52,
   "metadata": {},
   "outputs": [],
   "source": [
    "train = pd.read_csv(\"./data/trains/trains-transformed.csv\")"
   ]
  },
  {
   "cell_type": "code",
   "execution_count": 53,
   "metadata": {},
   "outputs": [
    {
     "data": {
      "text/html": [
       "<div>\n",
       "<style scoped>\n",
       "    .dataframe tbody tr th:only-of-type {\n",
       "        vertical-align: middle;\n",
       "    }\n",
       "\n",
       "    .dataframe tbody tr th {\n",
       "        vertical-align: top;\n",
       "    }\n",
       "\n",
       "    .dataframe thead th {\n",
       "        text-align: right;\n",
       "    }\n",
       "</style>\n",
       "<table border=\"1\" class=\"dataframe\">\n",
       "  <thead>\n",
       "    <tr style=\"text-align: right;\">\n",
       "      <th></th>\n",
       "      <th>Number_of_cars</th>\n",
       "      <th>Number_of_different_loads</th>\n",
       "      <th>num_wheels_car_2</th>\n",
       "      <th>length_car_2</th>\n",
       "      <th>shape_car_2</th>\n",
       "      <th>num_loads_car_2</th>\n",
       "      <th>load_shape_car_2</th>\n",
       "      <th>num_wheels_car_3</th>\n",
       "      <th>length_car_3</th>\n",
       "      <th>shape_car_3</th>\n",
       "      <th>...</th>\n",
       "      <th>Rectangle_next_to_triangle</th>\n",
       "      <th>Rectangle_next_to_hexagon</th>\n",
       "      <th>Rectangle_next_to_circle</th>\n",
       "      <th>Triangle_next_to_triangle</th>\n",
       "      <th>Triangle_next_to_hexagon</th>\n",
       "      <th>Triangle_next_to_circle</th>\n",
       "      <th>Hexagon_next_to_hexagon</th>\n",
       "      <th>Hexagon_next_to_circle</th>\n",
       "      <th>Circle_next_to_circle</th>\n",
       "      <th>class</th>\n",
       "    </tr>\n",
       "  </thead>\n",
       "  <tbody>\n",
       "    <tr>\n",
       "      <th>0</th>\n",
       "      <td>5</td>\n",
       "      <td>4</td>\n",
       "      <td>2</td>\n",
       "      <td>long</td>\n",
       "      <td>openrect</td>\n",
       "      <td>3</td>\n",
       "      <td>rectanglod</td>\n",
       "      <td>2</td>\n",
       "      <td>short</td>\n",
       "      <td>slopetop</td>\n",
       "      <td>...</td>\n",
       "      <td>1</td>\n",
       "      <td>0</td>\n",
       "      <td>0</td>\n",
       "      <td>0</td>\n",
       "      <td>1</td>\n",
       "      <td>0</td>\n",
       "      <td>0</td>\n",
       "      <td>1</td>\n",
       "      <td>0</td>\n",
       "      <td>east</td>\n",
       "    </tr>\n",
       "    <tr>\n",
       "      <th>1</th>\n",
       "      <td>4</td>\n",
       "      <td>3</td>\n",
       "      <td>2</td>\n",
       "      <td>short</td>\n",
       "      <td>ushaped</td>\n",
       "      <td>1</td>\n",
       "      <td>trianglod</td>\n",
       "      <td>2</td>\n",
       "      <td>short</td>\n",
       "      <td>opentrap</td>\n",
       "      <td>...</td>\n",
       "      <td>1</td>\n",
       "      <td>0</td>\n",
       "      <td>1</td>\n",
       "      <td>0</td>\n",
       "      <td>0</td>\n",
       "      <td>0</td>\n",
       "      <td>0</td>\n",
       "      <td>0</td>\n",
       "      <td>0</td>\n",
       "      <td>east</td>\n",
       "    </tr>\n",
       "    <tr>\n",
       "      <th>2</th>\n",
       "      <td>4</td>\n",
       "      <td>2</td>\n",
       "      <td>2</td>\n",
       "      <td>short</td>\n",
       "      <td>openrect</td>\n",
       "      <td>1</td>\n",
       "      <td>circlelod</td>\n",
       "      <td>2</td>\n",
       "      <td>short</td>\n",
       "      <td>hexagon</td>\n",
       "      <td>...</td>\n",
       "      <td>0</td>\n",
       "      <td>0</td>\n",
       "      <td>0</td>\n",
       "      <td>1</td>\n",
       "      <td>0</td>\n",
       "      <td>1</td>\n",
       "      <td>0</td>\n",
       "      <td>0</td>\n",
       "      <td>0</td>\n",
       "      <td>east</td>\n",
       "    </tr>\n",
       "    <tr>\n",
       "      <th>3</th>\n",
       "      <td>5</td>\n",
       "      <td>2</td>\n",
       "      <td>2</td>\n",
       "      <td>short</td>\n",
       "      <td>opentrap</td>\n",
       "      <td>1</td>\n",
       "      <td>trianglod</td>\n",
       "      <td>2</td>\n",
       "      <td>short</td>\n",
       "      <td>dblopnrect</td>\n",
       "      <td>...</td>\n",
       "      <td>1</td>\n",
       "      <td>0</td>\n",
       "      <td>0</td>\n",
       "      <td>1</td>\n",
       "      <td>0</td>\n",
       "      <td>0</td>\n",
       "      <td>0</td>\n",
       "      <td>0</td>\n",
       "      <td>0</td>\n",
       "      <td>east</td>\n",
       "    </tr>\n",
       "    <tr>\n",
       "      <th>4</th>\n",
       "      <td>4</td>\n",
       "      <td>3</td>\n",
       "      <td>2</td>\n",
       "      <td>short</td>\n",
       "      <td>dblopnrect</td>\n",
       "      <td>1</td>\n",
       "      <td>trianglod</td>\n",
       "      <td>3</td>\n",
       "      <td>long</td>\n",
       "      <td>closedrect</td>\n",
       "      <td>...</td>\n",
       "      <td>1</td>\n",
       "      <td>0</td>\n",
       "      <td>1</td>\n",
       "      <td>0</td>\n",
       "      <td>0</td>\n",
       "      <td>0</td>\n",
       "      <td>0</td>\n",
       "      <td>0</td>\n",
       "      <td>0</td>\n",
       "      <td>east</td>\n",
       "    </tr>\n",
       "    <tr>\n",
       "      <th>5</th>\n",
       "      <td>3</td>\n",
       "      <td>2</td>\n",
       "      <td>2</td>\n",
       "      <td>long</td>\n",
       "      <td>closedrect</td>\n",
       "      <td>3</td>\n",
       "      <td>circlelod</td>\n",
       "      <td>2</td>\n",
       "      <td>short</td>\n",
       "      <td>openrect</td>\n",
       "      <td>...</td>\n",
       "      <td>0</td>\n",
       "      <td>0</td>\n",
       "      <td>0</td>\n",
       "      <td>0</td>\n",
       "      <td>0</td>\n",
       "      <td>1</td>\n",
       "      <td>0</td>\n",
       "      <td>0</td>\n",
       "      <td>0</td>\n",
       "      <td>west</td>\n",
       "    </tr>\n",
       "    <tr>\n",
       "      <th>6</th>\n",
       "      <td>4</td>\n",
       "      <td>2</td>\n",
       "      <td>2</td>\n",
       "      <td>short</td>\n",
       "      <td>dblopnrect</td>\n",
       "      <td>1</td>\n",
       "      <td>circlelod</td>\n",
       "      <td>2</td>\n",
       "      <td>short</td>\n",
       "      <td>ushaped</td>\n",
       "      <td>...</td>\n",
       "      <td>0</td>\n",
       "      <td>0</td>\n",
       "      <td>0</td>\n",
       "      <td>0</td>\n",
       "      <td>0</td>\n",
       "      <td>1</td>\n",
       "      <td>0</td>\n",
       "      <td>0</td>\n",
       "      <td>0</td>\n",
       "      <td>west</td>\n",
       "    </tr>\n",
       "    <tr>\n",
       "      <th>7</th>\n",
       "      <td>3</td>\n",
       "      <td>2</td>\n",
       "      <td>3</td>\n",
       "      <td>long</td>\n",
       "      <td>closedrect</td>\n",
       "      <td>1</td>\n",
       "      <td>rectanglod</td>\n",
       "      <td>2</td>\n",
       "      <td>short</td>\n",
       "      <td>ushaped</td>\n",
       "      <td>...</td>\n",
       "      <td>0</td>\n",
       "      <td>0</td>\n",
       "      <td>1</td>\n",
       "      <td>0</td>\n",
       "      <td>0</td>\n",
       "      <td>0</td>\n",
       "      <td>0</td>\n",
       "      <td>0</td>\n",
       "      <td>0</td>\n",
       "      <td>west</td>\n",
       "    </tr>\n",
       "    <tr>\n",
       "      <th>8</th>\n",
       "      <td>5</td>\n",
       "      <td>2</td>\n",
       "      <td>2</td>\n",
       "      <td>short</td>\n",
       "      <td>opentrap</td>\n",
       "      <td>1</td>\n",
       "      <td>circlelod</td>\n",
       "      <td>2</td>\n",
       "      <td>long</td>\n",
       "      <td>jaggedtop</td>\n",
       "      <td>...</td>\n",
       "      <td>0</td>\n",
       "      <td>0</td>\n",
       "      <td>1</td>\n",
       "      <td>0</td>\n",
       "      <td>0</td>\n",
       "      <td>0</td>\n",
       "      <td>0</td>\n",
       "      <td>0</td>\n",
       "      <td>0</td>\n",
       "      <td>west</td>\n",
       "    </tr>\n",
       "    <tr>\n",
       "      <th>9</th>\n",
       "      <td>3</td>\n",
       "      <td>1</td>\n",
       "      <td>2</td>\n",
       "      <td>short</td>\n",
       "      <td>ushaped</td>\n",
       "      <td>1</td>\n",
       "      <td>rectanglod</td>\n",
       "      <td>2</td>\n",
       "      <td>long</td>\n",
       "      <td>openrect</td>\n",
       "      <td>...</td>\n",
       "      <td>0</td>\n",
       "      <td>0</td>\n",
       "      <td>0</td>\n",
       "      <td>0</td>\n",
       "      <td>0</td>\n",
       "      <td>0</td>\n",
       "      <td>0</td>\n",
       "      <td>0</td>\n",
       "      <td>0</td>\n",
       "      <td>west</td>\n",
       "    </tr>\n",
       "  </tbody>\n",
       "</table>\n",
       "<p>10 rows × 33 columns</p>\n",
       "</div>"
      ],
      "text/plain": [
       "   Number_of_cars  Number_of_different_loads  num_wheels_car_2 length_car_2  \\\n",
       "0               5                          4                 2         long   \n",
       "1               4                          3                 2        short   \n",
       "2               4                          2                 2        short   \n",
       "3               5                          2                 2        short   \n",
       "4               4                          3                 2        short   \n",
       "5               3                          2                 2         long   \n",
       "6               4                          2                 2        short   \n",
       "7               3                          2                 3         long   \n",
       "8               5                          2                 2        short   \n",
       "9               3                          1                 2        short   \n",
       "\n",
       "  shape_car_2  num_loads_car_2 load_shape_car_2  num_wheels_car_3  \\\n",
       "0    openrect                3       rectanglod                 2   \n",
       "1     ushaped                1        trianglod                 2   \n",
       "2    openrect                1        circlelod                 2   \n",
       "3    opentrap                1        trianglod                 2   \n",
       "4  dblopnrect                1        trianglod                 3   \n",
       "5  closedrect                3        circlelod                 2   \n",
       "6  dblopnrect                1        circlelod                 2   \n",
       "7  closedrect                1       rectanglod                 2   \n",
       "8    opentrap                1        circlelod                 2   \n",
       "9     ushaped                1       rectanglod                 2   \n",
       "\n",
       "  length_car_3 shape_car_3  ...  Rectangle_next_to_triangle  \\\n",
       "0        short    slopetop  ...                           1   \n",
       "1        short    opentrap  ...                           1   \n",
       "2        short     hexagon  ...                           0   \n",
       "3        short  dblopnrect  ...                           1   \n",
       "4         long  closedrect  ...                           1   \n",
       "5        short    openrect  ...                           0   \n",
       "6        short     ushaped  ...                           0   \n",
       "7        short     ushaped  ...                           0   \n",
       "8         long   jaggedtop  ...                           0   \n",
       "9         long    openrect  ...                           0   \n",
       "\n",
       "  Rectangle_next_to_hexagon Rectangle_next_to_circle  \\\n",
       "0                         0                        0   \n",
       "1                         0                        1   \n",
       "2                         0                        0   \n",
       "3                         0                        0   \n",
       "4                         0                        1   \n",
       "5                         0                        0   \n",
       "6                         0                        0   \n",
       "7                         0                        1   \n",
       "8                         0                        1   \n",
       "9                         0                        0   \n",
       "\n",
       "  Triangle_next_to_triangle Triangle_next_to_hexagon Triangle_next_to_circle  \\\n",
       "0                         0                        1                       0   \n",
       "1                         0                        0                       0   \n",
       "2                         1                        0                       1   \n",
       "3                         1                        0                       0   \n",
       "4                         0                        0                       0   \n",
       "5                         0                        0                       1   \n",
       "6                         0                        0                       1   \n",
       "7                         0                        0                       0   \n",
       "8                         0                        0                       0   \n",
       "9                         0                        0                       0   \n",
       "\n",
       "  Hexagon_next_to_hexagon Hexagon_next_to_circle Circle_next_to_circle class  \n",
       "0                       0                      1                     0  east  \n",
       "1                       0                      0                     0  east  \n",
       "2                       0                      0                     0  east  \n",
       "3                       0                      0                     0  east  \n",
       "4                       0                      0                     0  east  \n",
       "5                       0                      0                     0  west  \n",
       "6                       0                      0                     0  west  \n",
       "7                       0                      0                     0  west  \n",
       "8                       0                      0                     0  west  \n",
       "9                       0                      0                     0  west  \n",
       "\n",
       "[10 rows x 33 columns]"
      ]
     },
     "execution_count": 53,
     "metadata": {},
     "output_type": "execute_result"
    }
   ],
   "source": [
    "train"
   ]
  },
  {
   "cell_type": "code",
   "execution_count": 54,
   "metadata": {},
   "outputs": [
    {
     "data": {
      "text/plain": [
       "Number_of_cars                  int64\n",
       "Number_of_different_loads       int64\n",
       "num_wheels_car_2                int64\n",
       "length_car_2                   object\n",
       "shape_car_2                    object\n",
       "num_loads_car_2                 int64\n",
       "load_shape_car_2               object\n",
       "num_wheels_car_3                int64\n",
       "length_car_3                   object\n",
       "shape_car_3                    object\n",
       "num_loads_car_3                 int64\n",
       "load_shape_car_3               object\n",
       "num_wheels_car_4               object\n",
       "length_car_4                   object\n",
       "shape_car_4                    object\n",
       "num_loads_car_4                object\n",
       "load_shape_car_4               object\n",
       "num_wheels_car_5               object\n",
       "length_car_5                   object\n",
       "shape_car_5                    object\n",
       "num_loads_car_5                object\n",
       "load_shape_car_5               object\n",
       "Rectangle_next_to_rectangle     int64\n",
       "Rectangle_next_to_triangle      int64\n",
       "Rectangle_next_to_hexagon       int64\n",
       "Rectangle_next_to_circle        int64\n",
       "Triangle_next_to_triangle       int64\n",
       "Triangle_next_to_hexagon        int64\n",
       "Triangle_next_to_circle         int64\n",
       "Hexagon_next_to_hexagon         int64\n",
       "Hexagon_next_to_circle          int64\n",
       "Circle_next_to_circle           int64\n",
       "class                          object\n",
       "dtype: object"
      ]
     },
     "execution_count": 54,
     "metadata": {},
     "output_type": "execute_result"
    }
   ],
   "source": [
    "train.dtypes"
   ]
  },
  {
   "cell_type": "code",
   "execution_count": 55,
   "metadata": {},
   "outputs": [],
   "source": [
    "train= train.astype('str')"
   ]
  },
  {
   "cell_type": "code",
   "execution_count": 56,
   "metadata": {},
   "outputs": [
    {
     "data": {
      "text/plain": [
       "Number_of_cars                 object\n",
       "Number_of_different_loads      object\n",
       "num_wheels_car_2               object\n",
       "length_car_2                   object\n",
       "shape_car_2                    object\n",
       "num_loads_car_2                object\n",
       "load_shape_car_2               object\n",
       "num_wheels_car_3               object\n",
       "length_car_3                   object\n",
       "shape_car_3                    object\n",
       "num_loads_car_3                object\n",
       "load_shape_car_3               object\n",
       "num_wheels_car_4               object\n",
       "length_car_4                   object\n",
       "shape_car_4                    object\n",
       "num_loads_car_4                object\n",
       "load_shape_car_4               object\n",
       "num_wheels_car_5               object\n",
       "length_car_5                   object\n",
       "shape_car_5                    object\n",
       "num_loads_car_5                object\n",
       "load_shape_car_5               object\n",
       "Rectangle_next_to_rectangle    object\n",
       "Rectangle_next_to_triangle     object\n",
       "Rectangle_next_to_hexagon      object\n",
       "Rectangle_next_to_circle       object\n",
       "Triangle_next_to_triangle      object\n",
       "Triangle_next_to_hexagon       object\n",
       "Triangle_next_to_circle        object\n",
       "Hexagon_next_to_hexagon        object\n",
       "Hexagon_next_to_circle         object\n",
       "Circle_next_to_circle          object\n",
       "class                          object\n",
       "dtype: object"
      ]
     },
     "execution_count": 56,
     "metadata": {},
     "output_type": "execute_result"
    }
   ],
   "source": [
    "train.dtypes"
   ]
  },
  {
   "cell_type": "code",
   "execution_count": 57,
   "metadata": {},
   "outputs": [
    {
     "name": "stdout",
     "output_type": "stream",
     "text": [
      "Rules original\n",
      "IF Rectangle_next_to_triangle = {1} THEN class = {east} (p = 4.0, n = 0.0, P = 5.0, N = 5.0, weight = 1.0, pvalue = 0.023809523809523808)\n",
      "IF shape_car_4 = {closedrect} THEN class = {east} (p = 3.0, n = 0.0, P = 5.0, N = 5.0, weight = 1.0, pvalue = 0.08333333333333333)\n",
      "IF load_shape_car_4 = {-} THEN class = {west} (p = 4.0, n = 0.0, P = 5.0, N = 5.0, weight = 1.0, pvalue = 0.023809523809523808)\n",
      "IF shape_car_3 = {jaggedtop} THEN class = {west} (p = 1.0, n = 0.0, P = 5.0, N = 5.0, weight = 1.0, pvalue = 0.49999999999999994)\n",
      "\n",
      "\n",
      "Complex rules\n",
      "IF Triangle_next_to_triangle != Rectangle_next_to_triangle THEN class = {east} (p = 4.0, n = 0.0, P = 5.0, N = 5.0, weight = 1.0, pvalue = 0.023809523809523808)\n",
      "IF Rectangle_next_to_triangle != {0} THEN class = {east} (p = 4.0, n = 0.0, P = 5.0, N = 5.0, weight = 1.0, pvalue = 0.023809523809523808)\n",
      "IF Triangle_next_to_triangle = Hexagon_next_to_circle = Rectangle_next_to_triangle THEN class = {west} (p = 5.0, n = 0.0, P = 5.0, N = 5.0, weight = 1.0, pvalue = 0.003968253968253968)\n",
      "\n",
      "\n",
      "Complex rules + inners alternatives\n",
      "IF Triangle_next_to_triangle != Rectangle_next_to_triangle THEN class = {east} (p = 4.0, n = 0.0, P = 5.0, N = 5.0, weight = 1.0, pvalue = 0.023809523809523808)\n",
      "IF Rectangle_next_to_triangle != {0} THEN class = {east} (p = 4.0, n = 0.0, P = 5.0, N = 5.0, weight = 1.0, pvalue = 0.023809523809523808)\n",
      "IF Triangle_next_to_triangle = Hexagon_next_to_circle = Rectangle_next_to_triangle THEN class = {west} (p = 5.0, n = 0.0, P = 5.0, N = 5.0, weight = 1.0, pvalue = 0.003968253968253968)\n"
     ]
    }
   ],
   "source": [
    "X = train.drop(['class'], axis=1)\n",
    "y = train['class']\n",
    "\n",
    "clf_simple.fit(X, y)\n",
    "\n",
    "print(\"Rules original\")\n",
    "for rule in clf_simple.model.rules:\n",
    "    print(rule, rule.stats)\n",
    "\n",
    "print(\"\\n\\nComplex rules\")\n",
    "clf_complex.fit(X, y)\n",
    "for rule in clf_complex.model.rules:\n",
    "    print(rule, rule.stats)\n",
    "\n",
    "print(\"\\n\\nComplex rules + inners alternatives\")\n",
    "clf_complex_with_inners.fit(X, y)\n",
    "for rule in clf_complex_with_inners.model.rules:\n",
    "    print(rule, rule.stats)"
   ]
  },
  {
   "attachments": {},
   "cell_type": "markdown",
   "metadata": {},
   "source": [
    "# balance-scale"
   ]
  },
  {
   "cell_type": "code",
   "execution_count": 58,
   "metadata": {},
   "outputs": [],
   "source": [
    "train = pd.read_parquet(\"./data/balance-scale.parquet\")"
   ]
  },
  {
   "cell_type": "code",
   "execution_count": 59,
   "metadata": {},
   "outputs": [
    {
     "data": {
      "text/html": [
       "<div>\n",
       "<style scoped>\n",
       "    .dataframe tbody tr th:only-of-type {\n",
       "        vertical-align: middle;\n",
       "    }\n",
       "\n",
       "    .dataframe tbody tr th {\n",
       "        vertical-align: top;\n",
       "    }\n",
       "\n",
       "    .dataframe thead th {\n",
       "        text-align: right;\n",
       "    }\n",
       "</style>\n",
       "<table border=\"1\" class=\"dataframe\">\n",
       "  <thead>\n",
       "    <tr style=\"text-align: right;\">\n",
       "      <th></th>\n",
       "      <th>left-weight</th>\n",
       "      <th>left-distance</th>\n",
       "      <th>right-weight</th>\n",
       "      <th>right-distance</th>\n",
       "      <th>class</th>\n",
       "    </tr>\n",
       "  </thead>\n",
       "  <tbody>\n",
       "    <tr>\n",
       "      <th>0</th>\n",
       "      <td>1.0</td>\n",
       "      <td>1.0</td>\n",
       "      <td>1.0</td>\n",
       "      <td>1.0</td>\n",
       "      <td>B</td>\n",
       "    </tr>\n",
       "    <tr>\n",
       "      <th>1</th>\n",
       "      <td>1.0</td>\n",
       "      <td>1.0</td>\n",
       "      <td>1.0</td>\n",
       "      <td>2.0</td>\n",
       "      <td>R</td>\n",
       "    </tr>\n",
       "    <tr>\n",
       "      <th>2</th>\n",
       "      <td>1.0</td>\n",
       "      <td>1.0</td>\n",
       "      <td>1.0</td>\n",
       "      <td>3.0</td>\n",
       "      <td>R</td>\n",
       "    </tr>\n",
       "    <tr>\n",
       "      <th>3</th>\n",
       "      <td>1.0</td>\n",
       "      <td>1.0</td>\n",
       "      <td>1.0</td>\n",
       "      <td>4.0</td>\n",
       "      <td>R</td>\n",
       "    </tr>\n",
       "    <tr>\n",
       "      <th>4</th>\n",
       "      <td>1.0</td>\n",
       "      <td>1.0</td>\n",
       "      <td>1.0</td>\n",
       "      <td>5.0</td>\n",
       "      <td>R</td>\n",
       "    </tr>\n",
       "    <tr>\n",
       "      <th>...</th>\n",
       "      <td>...</td>\n",
       "      <td>...</td>\n",
       "      <td>...</td>\n",
       "      <td>...</td>\n",
       "      <td>...</td>\n",
       "    </tr>\n",
       "    <tr>\n",
       "      <th>620</th>\n",
       "      <td>5.0</td>\n",
       "      <td>5.0</td>\n",
       "      <td>5.0</td>\n",
       "      <td>1.0</td>\n",
       "      <td>L</td>\n",
       "    </tr>\n",
       "    <tr>\n",
       "      <th>621</th>\n",
       "      <td>5.0</td>\n",
       "      <td>5.0</td>\n",
       "      <td>5.0</td>\n",
       "      <td>2.0</td>\n",
       "      <td>L</td>\n",
       "    </tr>\n",
       "    <tr>\n",
       "      <th>622</th>\n",
       "      <td>5.0</td>\n",
       "      <td>5.0</td>\n",
       "      <td>5.0</td>\n",
       "      <td>3.0</td>\n",
       "      <td>L</td>\n",
       "    </tr>\n",
       "    <tr>\n",
       "      <th>623</th>\n",
       "      <td>5.0</td>\n",
       "      <td>5.0</td>\n",
       "      <td>5.0</td>\n",
       "      <td>4.0</td>\n",
       "      <td>L</td>\n",
       "    </tr>\n",
       "    <tr>\n",
       "      <th>624</th>\n",
       "      <td>5.0</td>\n",
       "      <td>5.0</td>\n",
       "      <td>5.0</td>\n",
       "      <td>5.0</td>\n",
       "      <td>B</td>\n",
       "    </tr>\n",
       "  </tbody>\n",
       "</table>\n",
       "<p>625 rows × 5 columns</p>\n",
       "</div>"
      ],
      "text/plain": [
       "     left-weight  left-distance  right-weight  right-distance class\n",
       "0            1.0            1.0           1.0             1.0     B\n",
       "1            1.0            1.0           1.0             2.0     R\n",
       "2            1.0            1.0           1.0             3.0     R\n",
       "3            1.0            1.0           1.0             4.0     R\n",
       "4            1.0            1.0           1.0             5.0     R\n",
       "..           ...            ...           ...             ...   ...\n",
       "620          5.0            5.0           5.0             1.0     L\n",
       "621          5.0            5.0           5.0             2.0     L\n",
       "622          5.0            5.0           5.0             3.0     L\n",
       "623          5.0            5.0           5.0             4.0     L\n",
       "624          5.0            5.0           5.0             5.0     B\n",
       "\n",
       "[625 rows x 5 columns]"
      ]
     },
     "execution_count": 59,
     "metadata": {},
     "output_type": "execute_result"
    }
   ],
   "source": [
    "train"
   ]
  },
  {
   "cell_type": "code",
   "execution_count": 60,
   "metadata": {},
   "outputs": [
    {
     "name": "stdout",
     "output_type": "stream",
     "text": [
      "Rules original\n",
      "IF right-distance = (-inf, 2.50) AND left-weight = (-inf, 2.50) AND left-distance = (-inf, 2.50) AND right-weight = (-inf, 2.50) THEN class = {B} (p = 6.0, n = 10.0, P = 49.0, N = 576.0, weight = 0.375, pvalue = 0.0007499248952481466)\n",
      "IF right-distance = (-inf, 2.50) AND left-weight = <1.50, 4.50) AND left-distance = (-inf, 2.50) AND right-weight = <1.50, 4.50) THEN class = {B} (p = 8.0, n = 28.0, P = 49.0, N = 576.0, weight = 0.2222222222222222, pvalue = 0.004434784254422619)\n",
      "IF left-weight = <1.50, 4.50) AND right-distance = <1.50, 4.50) AND left-distance = (-inf, 2.50) AND right-weight = (-inf, 2.50) THEN class = {B} (p = 8.0, n = 28.0, P = 49.0, N = 576.0, weight = 0.2222222222222222, pvalue = 0.004434784254422619)\n",
      "IF left-weight = (-inf, 2.50) AND right-distance = (-inf, 2.50) AND left-distance = <1.50, 4.50) AND right-weight = <1.50, 4.50) THEN class = {B} (p = 8.0, n = 28.0, P = 49.0, N = 576.0, weight = 0.2222222222222222, pvalue = 0.004434784254422619)\n",
      "IF left-weight = (-inf, 2.50) AND right-distance = <2.50, inf) AND left-distance = <2.50, inf) AND right-weight = (-inf, 2.50) THEN class = {B} (p = 6.0, n = 30.0, P = 49.0, N = 576.0, weight = 0.16666666666666666, pvalue = 0.053657480623010456)\n",
      "IF right-distance = <2.50, 4.50) AND left-weight = <2.50, 4.50) AND left-distance = <2.50, 4.50) AND right-weight = <2.50, 4.50) THEN class = {B} (p = 6.0, n = 10.0, P = 49.0, N = 576.0, weight = 0.375, pvalue = 0.0007499248952481466)\n",
      "IF left-weight = <4.50, inf) AND right-distance = <2.50, inf) AND left-distance = <1.50, 4.50) AND right-weight = <1.50, inf) THEN class = {B} (p = 5.0, n = 31.0, P = 49.0, N = 576.0, weight = 0.1388888888888889, pvalue = 0.1420865714288501)\n",
      "IF left-weight = <1.50, 4.50) AND right-distance = <1.50, inf) AND left-distance = <4.50, inf) AND right-weight = <2.50, inf) THEN class = {B} (p = 5.0, n = 31.0, P = 49.0, N = 576.0, weight = 0.1388888888888889, pvalue = 0.1420865714288501)\n",
      "IF left-weight = (-inf, 1.50) AND right-distance = <1.50, inf) AND left-distance = (-inf, 1.50) THEN class = {R} (p = 20.0, n = 0.0, P = 288.0, N = 337.0, weight = 1.0, pvalue = 1.2896194113566907e-07)\n",
      "IF right-distance = <4.50, inf) AND left-weight = (-inf, 4.50) AND left-distance = (-inf, 1.50) THEN class = {R} (p = 20.0, n = 0.0, P = 288.0, N = 337.0, weight = 1.0, pvalue = 1.2896194113566907e-07)\n",
      "IF left-weight = (-inf, 4.50) AND left-distance = (-inf, 1.50) AND right-weight = <4.50, inf) THEN class = {R} (p = 20.0, n = 0.0, P = 288.0, N = 337.0, weight = 1.0, pvalue = 1.2896194113566907e-07)\n",
      "IF right-distance = <3.50, inf) AND left-distance = (-inf, 1.50) AND right-weight = <1.50, inf) THEN class = {R} (p = 40.0, n = 0.0, P = 288.0, N = 337.0, weight = 1.0, pvalue = 7.249072890265189e-15)\n",
      "IF right-distance = <1.50, inf) AND left-distance = (-inf, 1.50) AND right-weight = <3.50, inf) THEN class = {R} (p = 40.0, n = 0.0, P = 288.0, N = 337.0, weight = 1.0, pvalue = 7.249072890265189e-15)\n",
      "IF right-distance = <2.50, inf) AND left-distance = (-inf, 1.50) AND right-weight = <1.50, inf) THEN class = {R} (p = 60.0, n = 0.0, P = 288.0, N = 337.0, weight = 1.0, pvalue = 1.6107926972609196e-22)\n",
      "IF left-weight = (-inf, 2.50) AND left-distance = (-inf, 1.50) AND right-weight = <2.50, inf) THEN class = {R} (p = 30.0, n = 0.0, P = 288.0, N = 337.0, weight = 1.0, pvalue = 3.411373545255373e-11)\n",
      "IF right-distance = <1.50, inf) AND left-distance = (-inf, 1.50) AND right-weight = <1.50, inf) THEN class = {R} (p = 78.0, n = 2.0, P = 288.0, N = 337.0, weight = 0.975, pvalue = 1.0422928485751968e-26)\n",
      "IF left-weight = (-inf, 3.50) AND left-distance = (-inf, 1.50) THEN class = {R} (p = 66.0, n = 9.0, P = 288.0, N = 337.0, weight = 0.88, pvalue = 9.291794882374715e-16)\n",
      "IF left-weight = (-inf, 1.50) AND right-distance = <4.50, inf) AND left-distance = (-inf, 4.50) THEN class = {R} (p = 20.0, n = 0.0, P = 288.0, N = 337.0, weight = 1.0, pvalue = 1.2896194113566907e-07)\n",
      "IF left-weight = (-inf, 1.50) AND left-distance = (-inf, 4.50) AND right-weight = <4.50, inf) THEN class = {R} (p = 20.0, n = 0.0, P = 288.0, N = 337.0, weight = 1.0, pvalue = 1.2896194113566907e-07)\n",
      "IF left-weight = (-inf, 1.50) AND right-distance = <3.50, inf) AND right-weight = <1.50, inf) THEN class = {R} (p = 40.0, n = 0.0, P = 288.0, N = 337.0, weight = 1.0, pvalue = 7.249072890265189e-15)\n",
      "IF left-weight = (-inf, 1.50) AND right-distance = <1.50, inf) AND right-weight = <3.50, inf) THEN class = {R} (p = 40.0, n = 0.0, P = 288.0, N = 337.0, weight = 1.0, pvalue = 7.249072890265189e-15)\n",
      "IF left-weight = (-inf, 1.50) AND right-distance = <2.50, inf) AND right-weight = <1.50, inf) THEN class = {R} (p = 60.0, n = 0.0, P = 288.0, N = 337.0, weight = 1.0, pvalue = 1.6107926972609196e-22)\n",
      "IF left-weight = (-inf, 1.50) AND left-distance = (-inf, 3.50) AND right-weight = <2.50, inf) THEN class = {R} (p = 44.0, n = 1.0, P = 288.0, N = 337.0, weight = 0.9777777777777777, pvalue = 6.123086044349444e-15)\n",
      "IF left-weight = (-inf, 1.50) AND right-distance = <1.50, inf) AND left-distance = (-inf, 3.50) THEN class = {R} (p = 57.0, n = 3.0, P = 288.0, N = 337.0, weight = 0.95, pvalue = 1.78126735627173e-17)\n",
      "IF right-distance = <4.50, inf) AND left-distance = (-inf, 4.50) AND right-weight = <4.50, inf) THEN class = {R} (p = 20.0, n = 0.0, P = 288.0, N = 337.0, weight = 1.0, pvalue = 1.2896194113566907e-07)\n",
      "IF right-distance = <4.50, inf) AND left-distance = (-inf, 3.50) AND right-weight = <3.50, inf) THEN class = {R} (p = 30.0, n = 0.0, P = 288.0, N = 337.0, weight = 1.0, pvalue = 3.411373545255373e-11)\n",
      "IF right-distance = <4.50, inf) AND left-weight = (-inf, 3.50) AND right-weight = <3.50, inf) THEN class = {R} (p = 30.0, n = 0.0, P = 288.0, N = 337.0, weight = 1.0, pvalue = 3.411373545255373e-11)\n",
      "IF right-distance = <4.50, inf) AND left-weight = (-inf, 4.50) AND left-distance = (-inf, 2.50) AND right-weight = <1.50, inf) THEN class = {R} (p = 32.0, n = 0.0, P = 288.0, N = 337.0, weight = 1.0, pvalue = 6.399981164352201e-12)\n",
      "IF right-distance = <4.50, inf) AND left-weight = (-inf, 2.50) AND right-weight = <1.50, inf) THEN class = {R} (p = 39.0, n = 1.0, P = 288.0, N = 337.0, weight = 0.975, pvalue = 3.9968884221063155e-13)\n",
      "IF right-distance = <4.50, inf) AND left-distance = (-inf, 4.50) AND right-weight = <2.50, inf) THEN class = {R} (p = 56.0, n = 4.0, P = 288.0, N = 337.0, weight = 0.9333333333333333, pvalue = 3.703715800916643e-16)\n",
      "IF right-distance = <3.50, inf) AND left-distance = (-inf, 3.50) AND right-weight = <4.50, inf) THEN class = {R} (p = 30.0, n = 0.0, P = 288.0, N = 337.0, weight = 1.0, pvalue = 3.411373545255373e-11)\n",
      "IF right-distance = <3.50, inf) AND left-weight = (-inf, 4.50) AND right-weight = <4.50, inf) THEN class = {R} (p = 39.0, n = 1.0, P = 288.0, N = 337.0, weight = 0.975, pvalue = 3.9968884221063155e-13)\n",
      "IF right-distance = <1.50, inf) AND left-weight = (-inf, 4.50) AND left-distance = (-inf, 2.50) AND right-weight = <4.50, inf) THEN class = {R} (p = 32.0, n = 0.0, P = 288.0, N = 337.0, weight = 1.0, pvalue = 6.399981164352201e-12)\n",
      "IF left-weight = (-inf, 2.50) AND right-distance = <1.50, inf) AND right-weight = <4.50, inf) THEN class = {R} (p = 39.0, n = 1.0, P = 288.0, N = 337.0, weight = 0.975, pvalue = 3.9968884221063155e-13)\n",
      "IF left-distance = (-inf, 3.50) AND right-weight = <4.50, inf) THEN class = {R} (p = 63.0, n = 12.0, P = 288.0, N = 337.0, weight = 0.84, pvalue = 6.274433554232463e-13)\n",
      "IF right-distance = <3.50, inf) AND left-distance = (-inf, 2.50) AND right-weight = <2.50, inf) THEN class = {R} (p = 60.0, n = 0.0, P = 288.0, N = 337.0, weight = 1.0, pvalue = 1.6107926972609196e-22)\n",
      "IF right-distance = <1.50, inf) AND left-weight = (-inf, 4.50) AND left-distance = (-inf, 2.50) AND right-weight = <3.50, inf) THEN class = {R} (p = 63.0, n = 1.0, P = 288.0, N = 337.0, weight = 0.984375, pvalue = 4.072429286566297e-22)\n",
      "IF left-weight = (-inf, 2.50) AND right-distance = <1.50, inf) AND left-distance = (-inf, 2.50) THEN class = {R} (p = 74.0, n = 6.0, P = 288.0, N = 337.0, weight = 0.925, pvalue = 6.237363967320059e-21)\n",
      "IF left-weight = (-inf, 2.50) AND right-distance = <3.50, inf) AND right-weight = <2.50, inf) THEN class = {R} (p = 60.0, n = 0.0, P = 288.0, N = 337.0, weight = 1.0, pvalue = 1.6107926972609196e-22)\n",
      "IF left-weight = (-inf, 2.50) AND right-distance = <2.50, inf) AND right-weight = <2.50, inf) THEN class = {R} (p = 89.0, n = 1.0, P = 288.0, N = 337.0, weight = 0.9888888888888889, pvalue = 1.1040887865598233e-32)\n",
      "IF right-distance = <3.50, inf) AND right-weight = <3.50, inf) THEN class = {R} (p = 89.0, n = 11.0, P = 288.0, N = 337.0, weight = 0.89, pvalue = 1.6913299252690303e-22)\n",
      "IF right-distance = <2.50, inf) AND left-distance = (-inf, 3.50) AND right-weight = <2.50, inf) THEN class = {R} (p = 125.0, n = 10.0, P = 288.0, N = 337.0, weight = 0.9259259259259259, pvalue = 5.414852632518837e-38)\n",
      "IF left-weight = (-inf, 3.50) AND right-distance = <1.50, inf) AND left-distance = (-inf, 4.50) AND right-weight = <1.50, inf) THEN class = {R} (p = 163.0, n = 29.0, P = 288.0, N = 337.0, weight = 0.8489583333333334, pvalue = 1.4385652051856521e-40)\n",
      "IF right-distance = (-inf, 1.50) AND left-weight = <1.50, inf) AND left-distance = <4.50, inf) THEN class = {L} (p = 20.0, n = 0.0, P = 288.0, N = 337.0, weight = 1.0, pvalue = 1.2896194113566907e-07)\n",
      "IF right-distance = (-inf, 1.50) AND left-weight = <4.50, inf) AND left-distance = <1.50, inf) THEN class = {L} (p = 20.0, n = 0.0, P = 288.0, N = 337.0, weight = 1.0, pvalue = 1.2896194113566907e-07)\n",
      "IF right-distance = (-inf, 1.50) AND left-distance = <1.50, inf) AND right-weight = (-inf, 1.50) THEN class = {L} (p = 20.0, n = 0.0, P = 288.0, N = 337.0, weight = 1.0, pvalue = 1.2896194113566907e-07)\n",
      "IF right-distance = (-inf, 1.50) AND left-weight = <1.50, inf) AND left-distance = <3.50, inf) THEN class = {L} (p = 40.0, n = 0.0, P = 288.0, N = 337.0, weight = 1.0, pvalue = 7.249072890265189e-15)\n",
      "IF right-distance = (-inf, 1.50) AND left-distance = <3.50, inf) AND right-weight = (-inf, 4.50) THEN class = {L} (p = 39.0, n = 1.0, P = 288.0, N = 337.0, weight = 0.975, pvalue = 3.9968884221063155e-13)\n",
      "IF right-distance = (-inf, 1.50) AND left-weight = <3.50, inf) AND left-distance = <1.50, inf) THEN class = {L} (p = 40.0, n = 0.0, P = 288.0, N = 337.0, weight = 1.0, pvalue = 7.249072890265189e-15)\n",
      "IF right-distance = (-inf, 1.50) AND left-weight = <3.50, inf) AND right-weight = (-inf, 3.50) THEN class = {L} (p = 30.0, n = 0.0, P = 288.0, N = 337.0, weight = 1.0, pvalue = 3.411373545255373e-11)\n",
      "IF right-distance = (-inf, 1.50) AND left-weight = <1.50, inf) AND left-distance = <2.50, inf) THEN class = {L} (p = 60.0, n = 0.0, P = 288.0, N = 337.0, weight = 1.0, pvalue = 1.6107926972609196e-22)\n",
      "IF right-distance = (-inf, 1.50) AND left-weight = <2.50, inf) AND right-weight = (-inf, 4.50) THEN class = {L} (p = 57.0, n = 3.0, P = 288.0, N = 337.0, weight = 0.95, pvalue = 1.78126735627173e-17)\n",
      "IF right-distance = (-inf, 1.50) THEN class = {L} (p = 98.0, n = 27.0, P = 288.0, N = 337.0, weight = 0.784, pvalue = 1.9615277492041807e-16)\n",
      "IF left-weight = <1.50, inf) AND left-distance = <4.50, inf) AND right-weight = (-inf, 1.50) THEN class = {L} (p = 20.0, n = 0.0, P = 288.0, N = 337.0, weight = 1.0, pvalue = 1.2896194113566907e-07)\n",
      "IF left-weight = <4.50, inf) AND left-distance = <1.50, inf) AND right-weight = (-inf, 1.50) THEN class = {L} (p = 20.0, n = 0.0, P = 288.0, N = 337.0, weight = 1.0, pvalue = 1.2896194113566907e-07)\n",
      "IF left-weight = <1.50, inf) AND left-distance = <3.50, inf) AND right-weight = (-inf, 1.50) THEN class = {L} (p = 40.0, n = 0.0, P = 288.0, N = 337.0, weight = 1.0, pvalue = 7.249072890265189e-15)\n",
      "IF right-distance = (-inf, 4.50) AND left-distance = <3.50, inf) AND right-weight = (-inf, 1.50) THEN class = {L} (p = 39.0, n = 1.0, P = 288.0, N = 337.0, weight = 0.975, pvalue = 3.9968884221063155e-13)\n",
      "IF left-weight = <3.50, inf) AND left-distance = <1.50, inf) AND right-weight = (-inf, 1.50) THEN class = {L} (p = 40.0, n = 0.0, P = 288.0, N = 337.0, weight = 1.0, pvalue = 7.249072890265189e-15)\n",
      "IF left-weight = <3.50, inf) AND right-distance = (-inf, 4.50) AND right-weight = (-inf, 1.50) THEN class = {L} (p = 39.0, n = 1.0, P = 288.0, N = 337.0, weight = 0.975, pvalue = 3.9968884221063155e-13)\n",
      "IF left-weight = <1.50, inf) AND left-distance = <2.50, inf) AND right-weight = (-inf, 1.50) THEN class = {L} (p = 60.0, n = 0.0, P = 288.0, N = 337.0, weight = 1.0, pvalue = 1.6107926972609196e-22)\n",
      "IF left-weight = <2.50, inf) AND right-weight = (-inf, 1.50) THEN class = {L} (p = 69.0, n = 6.0, P = 288.0, N = 337.0, weight = 0.92, pvalue = 4.3152436697584666e-19)\n",
      "IF left-weight = <4.50, inf) AND right-distance = (-inf, 4.50) AND left-distance = <4.50, inf) THEN class = {L} (p = 20.0, n = 0.0, P = 288.0, N = 337.0, weight = 1.0, pvalue = 1.2896194113566907e-07)\n",
      "IF left-weight = <3.50, inf) AND right-distance = (-inf, 3.50) AND left-distance = <4.50, inf) THEN class = {L} (p = 30.0, n = 0.0, P = 288.0, N = 337.0, weight = 1.0, pvalue = 3.411373545255373e-11)\n",
      "IF left-weight = <3.50, inf) AND left-distance = <4.50, inf) AND right-weight = (-inf, 3.50) THEN class = {L} (p = 30.0, n = 0.0, P = 288.0, N = 337.0, weight = 1.0, pvalue = 3.411373545255373e-11)\n",
      "IF right-distance = (-inf, 2.50) AND left-weight = <1.50, inf) AND left-distance = <4.50, inf) AND right-weight = (-inf, 4.50) THEN class = {L} (p = 32.0, n = 0.0, P = 288.0, N = 337.0, weight = 1.0, pvalue = 6.399981164352201e-12)\n",
      "IF left-weight = <1.50, inf) AND left-distance = <4.50, inf) AND right-weight = (-inf, 2.50) THEN class = {L} (p = 39.0, n = 1.0, P = 288.0, N = 337.0, weight = 0.975, pvalue = 3.9968884221063155e-13)\n",
      "IF left-weight = <2.50, inf) AND right-distance = (-inf, 4.50) AND left-distance = <4.50, inf) THEN class = {L} (p = 56.0, n = 4.0, P = 288.0, N = 337.0, weight = 0.9333333333333333, pvalue = 3.703715800916643e-16)\n",
      "IF left-weight = <4.50, inf) AND right-distance = (-inf, 3.50) AND left-distance = <3.50, inf) THEN class = {L} (p = 30.0, n = 0.0, P = 288.0, N = 337.0, weight = 1.0, pvalue = 3.411373545255373e-11)\n",
      "IF left-weight = <4.50, inf) AND left-distance = <3.50, inf) AND right-weight = (-inf, 4.50) THEN class = {L} (p = 39.0, n = 1.0, P = 288.0, N = 337.0, weight = 0.975, pvalue = 3.9968884221063155e-13)\n",
      "IF left-weight = <4.50, inf) AND right-distance = (-inf, 2.50) AND left-distance = <1.50, inf) AND right-weight = (-inf, 4.50) THEN class = {L} (p = 32.0, n = 0.0, P = 288.0, N = 337.0, weight = 1.0, pvalue = 6.399981164352201e-12)\n",
      "IF left-weight = <4.50, inf) AND left-distance = <1.50, inf) AND right-weight = (-inf, 2.50) THEN class = {L} (p = 39.0, n = 1.0, P = 288.0, N = 337.0, weight = 0.975, pvalue = 3.9968884221063155e-13)\n",
      "IF left-weight = <4.50, inf) AND right-distance = (-inf, 3.50) THEN class = {L} (p = 63.0, n = 12.0, P = 288.0, N = 337.0, weight = 0.84, pvalue = 6.274433554232463e-13)\n",
      "IF right-distance = (-inf, 2.50) AND left-weight = <2.50, inf) AND left-distance = <3.50, inf) THEN class = {L} (p = 60.0, n = 0.0, P = 288.0, N = 337.0, weight = 1.0, pvalue = 1.6107926972609196e-22)\n",
      "IF right-distance = (-inf, 2.50) AND left-weight = <3.50, inf) AND left-distance = <1.50, inf) AND right-weight = (-inf, 4.50) THEN class = {L} (p = 63.0, n = 1.0, P = 288.0, N = 337.0, weight = 0.984375, pvalue = 4.072429286566297e-22)\n",
      "IF right-distance = (-inf, 2.50) AND left-distance = <2.50, inf) AND right-weight = (-inf, 2.50) THEN class = {L} (p = 58.0, n = 2.0, P = 288.0, N = 337.0, weight = 0.9666666666666667, pvalue = 6.273250356210534e-19)\n",
      "IF right-distance = (-inf, 2.50) AND left-weight = <1.50, inf) AND left-distance = <1.50, inf) AND right-weight = (-inf, 4.50) THEN class = {L} (p = 118.0, n = 10.0, P = 288.0, N = 337.0, weight = 0.921875, pvalue = 6.210683326516766e-35)\n",
      "IF left-weight = <2.50, inf) AND left-distance = <3.50, inf) AND right-weight = (-inf, 2.50) THEN class = {L} (p = 60.0, n = 0.0, P = 288.0, N = 337.0, weight = 1.0, pvalue = 1.6107926972609196e-22)\n",
      "IF left-weight = <2.50, inf) AND left-distance = <2.50, inf) AND right-weight = (-inf, 2.50) THEN class = {L} (p = 89.0, n = 1.0, P = 288.0, N = 337.0, weight = 0.9888888888888889, pvalue = 1.1040887865598233e-32)\n",
      "IF left-weight = <3.50, inf) AND left-distance = <3.50, inf) THEN class = {L} (p = 89.0, n = 11.0, P = 288.0, N = 337.0, weight = 0.89, pvalue = 1.6913299252690303e-22)\n",
      "IF right-distance = (-inf, 3.50) AND left-weight = <1.50, inf) AND left-distance = <2.50, inf) THEN class = {L} (p = 155.0, n = 25.0, P = 288.0, N = 337.0, weight = 0.8611111111111112, pvalue = 1.3683262988068391e-39)\n",
      "\n",
      "\n",
      "Complex rules\n",
      "IF left-distance = right-distance AND left-weight = right-weight THEN class = {B} (p = 25.0, n = 0.0, P = 49.0, N = 576.0, weight = 1.0, pvalue = 2.0213367172641366e-31)\n",
      "IF left-distance = right-weight AND left-weight = right-distance THEN class = {B} (p = 25.0, n = 0.0, P = 49.0, N = 576.0, weight = 1.0, pvalue = 2.0213367172641366e-31)\n",
      "IF left-weight < right-distance AND left-distance = (-inf, 1.50) THEN class = {R} (p = 50.0, n = 0.0, P = 288.0, N = 337.0, weight = 1.0, pvalue = 1.2218020967013836e-18)\n",
      "IF left-weight < right-weight AND left-distance = (-inf, 1.50) THEN class = {R} (p = 50.0, n = 0.0, P = 288.0, N = 337.0, weight = 1.0, pvalue = 1.2218020967013836e-18)\n",
      "IF left-distance < right-weight AND right-distance = <3.50, inf) AND left-distance = (-inf, 1.50) THEN class = {R} (p = 40.0, n = 0.0, P = 288.0, N = 337.0, weight = 1.0, pvalue = 7.249072890265189e-15)\n",
      "IF left-distance < right-distance AND left-distance = (-inf, 1.50) AND right-weight = <3.50, inf) THEN class = {R} (p = 40.0, n = 0.0, P = 288.0, N = 337.0, weight = 1.0, pvalue = 7.249072890265189e-15)\n",
      "IF left-distance < right-weight AND right-distance = <2.50, inf) AND left-distance = (-inf, 1.50) THEN class = {R} (p = 60.0, n = 0.0, P = 288.0, N = 337.0, weight = 1.0, pvalue = 1.6107926972609196e-22)\n",
      "IF left-distance < right-distance AND left-distance < right-weight THEN class = {R} (p = 147.0, n = 3.0, P = 288.0, N = 337.0, weight = 0.98, pvalue = 9.816838509212715e-57)\n",
      "IF left-distance < right-distance AND left-weight = (-inf, 1.50) THEN class = {R} (p = 50.0, n = 0.0, P = 288.0, N = 337.0, weight = 1.0, pvalue = 1.2218020967013836e-18)\n",
      "IF left-distance < right-weight AND left-weight = (-inf, 1.50) THEN class = {R} (p = 50.0, n = 0.0, P = 288.0, N = 337.0, weight = 1.0, pvalue = 1.2218020967013836e-18)\n",
      "IF left-weight < right-weight AND left-weight = (-inf, 1.50) AND right-distance = <3.50, inf) THEN class = {R} (p = 40.0, n = 0.0, P = 288.0, N = 337.0, weight = 1.0, pvalue = 7.249072890265189e-15)\n",
      "IF left-weight < right-distance AND left-weight = (-inf, 1.50) AND right-weight = <3.50, inf) THEN class = {R} (p = 40.0, n = 0.0, P = 288.0, N = 337.0, weight = 1.0, pvalue = 7.249072890265189e-15)\n",
      "IF left-weight < right-weight AND left-weight = (-inf, 1.50) AND right-distance = <2.50, inf) THEN class = {R} (p = 60.0, n = 0.0, P = 288.0, N = 337.0, weight = 1.0, pvalue = 1.6107926972609196e-22)\n",
      "IF left-weight < right-distance AND left-weight < right-weight THEN class = {R} (p = 147.0, n = 3.0, P = 288.0, N = 337.0, weight = 0.98, pvalue = 9.816838509212715e-57)\n",
      "IF left-distance < right-distance AND left-weight = right-weight THEN class = {R} (p = 50.0, n = 0.0, P = 288.0, N = 337.0, weight = 1.0, pvalue = 1.2218020967013836e-18)\n",
      "IF left-distance < right-distance AND left-weight < right-distance AND left-distance = (-inf, 3.50) AND right-weight = <1.50, inf) THEN class = {R} (p = 102.0, n = 2.0, P = 288.0, N = 337.0, weight = 0.9807692307692307, pvalue = 8.600021010835578e-37)\n",
      "IF left-distance < right-weight AND left-weight = right-distance THEN class = {R} (p = 50.0, n = 0.0, P = 288.0, N = 337.0, weight = 1.0, pvalue = 1.2218020967013836e-18)\n",
      "IF left-distance < right-weight AND left-weight < right-weight AND right-distance = <1.50, inf) AND left-distance = (-inf, 3.50) THEN class = {R} (p = 102.0, n = 2.0, P = 288.0, N = 337.0, weight = 0.9807692307692307, pvalue = 8.600021010835578e-37)\n",
      "IF left-distance > right-weight AND right-distance = (-inf, 1.50) THEN class = {L} (p = 50.0, n = 0.0, P = 288.0, N = 337.0, weight = 1.0, pvalue = 1.2218020967013836e-18)\n",
      "IF left-weight > right-weight AND right-distance = (-inf, 1.50) THEN class = {L} (p = 50.0, n = 0.0, P = 288.0, N = 337.0, weight = 1.0, pvalue = 1.2218020967013836e-18)\n",
      "IF left-weight > right-distance AND right-distance = (-inf, 1.50) AND left-distance = <3.50, inf) THEN class = {L} (p = 40.0, n = 0.0, P = 288.0, N = 337.0, weight = 1.0, pvalue = 7.249072890265189e-15)\n",
      "IF left-distance > right-distance AND right-distance = (-inf, 1.50) AND left-weight = <3.50, inf) THEN class = {L} (p = 40.0, n = 0.0, P = 288.0, N = 337.0, weight = 1.0, pvalue = 7.249072890265189e-15)\n",
      "IF left-weight > right-distance AND right-distance = (-inf, 1.50) AND left-distance = <2.50, inf) THEN class = {L} (p = 60.0, n = 0.0, P = 288.0, N = 337.0, weight = 1.0, pvalue = 1.6107926972609196e-22)\n",
      "IF left-distance > right-distance AND left-weight > right-distance THEN class = {L} (p = 147.0, n = 3.0, P = 288.0, N = 337.0, weight = 0.98, pvalue = 9.816838509212715e-57)\n",
      "IF left-distance > right-distance AND right-weight = (-inf, 1.50) THEN class = {L} (p = 50.0, n = 0.0, P = 288.0, N = 337.0, weight = 1.0, pvalue = 1.2218020967013836e-18)\n",
      "IF left-weight > right-distance AND right-weight = (-inf, 1.50) THEN class = {L} (p = 50.0, n = 0.0, P = 288.0, N = 337.0, weight = 1.0, pvalue = 1.2218020967013836e-18)\n",
      "IF left-weight > right-weight AND left-distance = <3.50, inf) AND right-weight = (-inf, 1.50) THEN class = {L} (p = 40.0, n = 0.0, P = 288.0, N = 337.0, weight = 1.0, pvalue = 7.249072890265189e-15)\n",
      "IF left-distance > right-weight AND left-weight = <3.50, inf) AND right-weight = (-inf, 1.50) THEN class = {L} (p = 40.0, n = 0.0, P = 288.0, N = 337.0, weight = 1.0, pvalue = 7.249072890265189e-15)\n",
      "IF left-weight > right-weight AND left-distance = <2.50, inf) AND right-weight = (-inf, 1.50) THEN class = {L} (p = 60.0, n = 0.0, P = 288.0, N = 337.0, weight = 1.0, pvalue = 1.6107926972609196e-22)\n",
      "IF left-distance > right-weight AND left-weight > right-weight THEN class = {L} (p = 147.0, n = 3.0, P = 288.0, N = 337.0, weight = 0.98, pvalue = 9.816838509212715e-57)\n",
      "IF left-distance > right-distance AND left-weight = right-weight THEN class = {L} (p = 50.0, n = 0.0, P = 288.0, N = 337.0, weight = 1.0, pvalue = 1.2218020967013836e-18)\n",
      "IF left-distance > right-distance AND left-distance > right-weight AND left-weight = <1.50, inf) AND right-distance = (-inf, 3.50) THEN class = {L} (p = 102.0, n = 2.0, P = 288.0, N = 337.0, weight = 0.9807692307692307, pvalue = 8.600021010835578e-37)\n",
      "IF left-weight > right-distance AND left-distance = right-weight THEN class = {L} (p = 50.0, n = 0.0, P = 288.0, N = 337.0, weight = 1.0, pvalue = 1.2218020967013836e-18)\n",
      "IF left-weight > right-distance AND left-weight > right-weight AND right-distance = (-inf, 3.50) AND left-distance = <1.50, inf) THEN class = {L} (p = 102.0, n = 2.0, P = 288.0, N = 337.0, weight = 0.9807692307692307, pvalue = 8.600021010835578e-37)\n",
      "\n",
      "\n",
      "Complex rules + inners alternatives\n",
      "IF left-distance = right-distance AND left-weight = right-weight THEN class = {B} (p = 25.0, n = 0.0, P = 49.0, N = 576.0, weight = 1.0, pvalue = 2.0213367172641366e-31)\n",
      "IF left-distance = right-weight AND left-weight = right-distance THEN class = {B} (p = 25.0, n = 0.0, P = 49.0, N = 576.0, weight = 1.0, pvalue = 2.0213367172641366e-31)\n",
      "IF left-weight < right-distance AND left-distance = (-inf, 1.50) THEN class = {R} (p = 50.0, n = 0.0, P = 288.0, N = 337.0, weight = 1.0, pvalue = 1.2218020967013836e-18)\n",
      "IF left-weight < right-weight AND left-distance = (-inf, 1.50) THEN class = {R} (p = 50.0, n = 0.0, P = 288.0, N = 337.0, weight = 1.0, pvalue = 1.2218020967013836e-18)\n",
      "IF left-distance < right-weight AND right-distance = <3.50, inf) AND left-distance = (-inf, 1.50) THEN class = {R} (p = 40.0, n = 0.0, P = 288.0, N = 337.0, weight = 1.0, pvalue = 7.249072890265189e-15)\n",
      "IF left-distance < right-distance AND left-distance = (-inf, 1.50) AND right-weight = <3.50, inf) THEN class = {R} (p = 40.0, n = 0.0, P = 288.0, N = 337.0, weight = 1.0, pvalue = 7.249072890265189e-15)\n",
      "IF left-distance < right-weight AND right-distance = <2.50, inf) AND left-distance = (-inf, 1.50) THEN class = {R} (p = 60.0, n = 0.0, P = 288.0, N = 337.0, weight = 1.0, pvalue = 1.6107926972609196e-22)\n",
      "IF left-distance < right-distance AND left-distance < right-weight THEN class = {R} (p = 147.0, n = 3.0, P = 288.0, N = 337.0, weight = 0.98, pvalue = 9.816838509212715e-57)\n",
      "IF left-distance < right-distance AND left-weight = (-inf, 1.50) THEN class = {R} (p = 50.0, n = 0.0, P = 288.0, N = 337.0, weight = 1.0, pvalue = 1.2218020967013836e-18)\n",
      "IF left-distance < right-weight AND left-weight = (-inf, 1.50) THEN class = {R} (p = 50.0, n = 0.0, P = 288.0, N = 337.0, weight = 1.0, pvalue = 1.2218020967013836e-18)\n",
      "IF left-weight < right-weight AND left-weight = (-inf, 1.50) AND right-distance = <3.50, inf) THEN class = {R} (p = 40.0, n = 0.0, P = 288.0, N = 337.0, weight = 1.0, pvalue = 7.249072890265189e-15)\n",
      "IF left-weight < right-distance AND left-weight = (-inf, 1.50) AND right-weight = <3.50, inf) THEN class = {R} (p = 40.0, n = 0.0, P = 288.0, N = 337.0, weight = 1.0, pvalue = 7.249072890265189e-15)\n",
      "IF left-weight < right-weight AND left-weight = (-inf, 1.50) AND right-distance = <2.50, inf) THEN class = {R} (p = 60.0, n = 0.0, P = 288.0, N = 337.0, weight = 1.0, pvalue = 1.6107926972609196e-22)\n",
      "IF left-weight < right-distance AND left-weight < right-weight THEN class = {R} (p = 147.0, n = 3.0, P = 288.0, N = 337.0, weight = 0.98, pvalue = 9.816838509212715e-57)\n",
      "IF left-distance < right-distance AND left-weight = right-weight THEN class = {R} (p = 50.0, n = 0.0, P = 288.0, N = 337.0, weight = 1.0, pvalue = 1.2218020967013836e-18)\n",
      "IF left-distance < right-distance AND #(right-weight = <1.50, 4)) AND left-weight < right-distance AND left-distance = (-inf, 3.50) THEN class = {R} (p = 102.0, n = 2.0, P = 288.0, N = 337.0, weight = 0.9807692307692307, pvalue = 8.600021010835578e-37)\n",
      "IF left-distance < right-weight AND left-weight = right-distance THEN class = {R} (p = 50.0, n = 0.0, P = 288.0, N = 337.0, weight = 1.0, pvalue = 1.2218020967013836e-18)\n",
      "IF left-distance < right-weight AND #(right-distance = <1.50, 4)) AND left-weight < right-weight AND left-distance = (-inf, 3.50) THEN class = {R} (p = 102.0, n = 2.0, P = 288.0, N = 337.0, weight = 0.9807692307692307, pvalue = 8.600021010835578e-37)\n",
      "IF left-distance > right-weight AND right-distance = (-inf, 1.50) THEN class = {L} (p = 50.0, n = 0.0, P = 288.0, N = 337.0, weight = 1.0, pvalue = 1.2218020967013836e-18)\n",
      "IF left-weight > right-weight AND right-distance = (-inf, 1.50) THEN class = {L} (p = 50.0, n = 0.0, P = 288.0, N = 337.0, weight = 1.0, pvalue = 1.2218020967013836e-18)\n",
      "IF left-weight > right-distance AND right-distance = (-inf, 1.50) AND left-distance = <3.50, inf) THEN class = {L} (p = 40.0, n = 0.0, P = 288.0, N = 337.0, weight = 1.0, pvalue = 7.249072890265189e-15)\n",
      "IF left-distance > right-distance AND right-distance = (-inf, 1.50) AND left-weight = <3.50, inf) THEN class = {L} (p = 40.0, n = 0.0, P = 288.0, N = 337.0, weight = 1.0, pvalue = 7.249072890265189e-15)\n",
      "IF left-weight > right-distance AND right-distance = (-inf, 1.50) AND left-distance = <2.50, inf) THEN class = {L} (p = 60.0, n = 0.0, P = 288.0, N = 337.0, weight = 1.0, pvalue = 1.6107926972609196e-22)\n",
      "IF left-distance > right-distance AND left-weight > right-distance THEN class = {L} (p = 147.0, n = 3.0, P = 288.0, N = 337.0, weight = 0.98, pvalue = 9.816838509212715e-57)\n",
      "IF left-distance > right-distance AND right-weight = (-inf, 1.50) THEN class = {L} (p = 50.0, n = 0.0, P = 288.0, N = 337.0, weight = 1.0, pvalue = 1.2218020967013836e-18)\n",
      "IF left-weight > right-distance AND right-weight = (-inf, 1.50) THEN class = {L} (p = 50.0, n = 0.0, P = 288.0, N = 337.0, weight = 1.0, pvalue = 1.2218020967013836e-18)\n",
      "IF left-weight > right-weight AND left-distance = <3.50, inf) AND right-weight = (-inf, 1.50) THEN class = {L} (p = 40.0, n = 0.0, P = 288.0, N = 337.0, weight = 1.0, pvalue = 7.249072890265189e-15)\n",
      "IF left-distance > right-weight AND left-weight = <3.50, inf) AND right-weight = (-inf, 1.50) THEN class = {L} (p = 40.0, n = 0.0, P = 288.0, N = 337.0, weight = 1.0, pvalue = 7.249072890265189e-15)\n",
      "IF left-weight > right-weight AND left-distance = <2.50, inf) AND right-weight = (-inf, 1.50) THEN class = {L} (p = 60.0, n = 0.0, P = 288.0, N = 337.0, weight = 1.0, pvalue = 1.6107926972609196e-22)\n",
      "IF left-distance > right-weight AND left-weight > right-weight THEN class = {L} (p = 147.0, n = 3.0, P = 288.0, N = 337.0, weight = 0.98, pvalue = 9.816838509212715e-57)\n",
      "IF left-distance > right-distance AND left-weight = right-weight THEN class = {L} (p = 50.0, n = 0.0, P = 288.0, N = 337.0, weight = 1.0, pvalue = 1.2218020967013836e-18)\n",
      "IF left-distance > right-distance AND #(left-weight = <1.50, 4)) AND left-distance > right-weight AND right-distance = (-inf, 3.50) THEN class = {L} (p = 102.0, n = 2.0, P = 288.0, N = 337.0, weight = 0.9807692307692307, pvalue = 8.600021010835578e-37)\n",
      "IF left-weight > right-distance AND left-distance = right-weight THEN class = {L} (p = 50.0, n = 0.0, P = 288.0, N = 337.0, weight = 1.0, pvalue = 1.2218020967013836e-18)\n",
      "IF left-weight > right-distance AND #(left-distance = <1.50, 4)) AND left-weight > right-weight AND right-distance = (-inf, 3.50) THEN class = {L} (p = 102.0, n = 2.0, P = 288.0, N = 337.0, weight = 0.9807692307692307, pvalue = 8.600021010835578e-37)\n"
     ]
    }
   ],
   "source": [
    "X = train.drop(['class'], axis=1)\n",
    "y = train['class']\n",
    "\n",
    "clf_simple.fit(X, y)\n",
    "\n",
    "print(\"Rules original\")\n",
    "for rule in clf_simple.model.rules:\n",
    "    print(rule, rule.stats)\n",
    "\n",
    "print(\"\\n\\nComplex rules\")\n",
    "clf_complex.fit(X, y)\n",
    "for rule in clf_complex.model.rules:\n",
    "    print(rule, rule.stats)\n",
    "\n",
    "print(\"\\n\\nComplex rules + inners alternatives\")\n",
    "clf_complex_with_inners.fit(X, y)\n",
    "for rule in clf_complex_with_inners.model.rules:\n",
    "    print(rule, rule.stats)"
   ]
  },
  {
   "attachments": {},
   "cell_type": "markdown",
   "metadata": {},
   "source": [
    "# flag"
   ]
  },
  {
   "cell_type": "code",
   "execution_count": 61,
   "metadata": {},
   "outputs": [],
   "source": [
    "train = pd.read_parquet(\"./data/flag.parquet\")"
   ]
  },
  {
   "cell_type": "code",
   "execution_count": 62,
   "metadata": {},
   "outputs": [
    {
     "data": {
      "text/html": [
       "<div>\n",
       "<style scoped>\n",
       "    .dataframe tbody tr th:only-of-type {\n",
       "        vertical-align: middle;\n",
       "    }\n",
       "\n",
       "    .dataframe tbody tr th {\n",
       "        vertical-align: top;\n",
       "    }\n",
       "\n",
       "    .dataframe thead th {\n",
       "        text-align: right;\n",
       "    }\n",
       "</style>\n",
       "<table border=\"1\" class=\"dataframe\">\n",
       "  <thead>\n",
       "    <tr style=\"text-align: right;\">\n",
       "      <th></th>\n",
       "      <th>landmass</th>\n",
       "      <th>botright</th>\n",
       "      <th>area</th>\n",
       "      <th>population</th>\n",
       "      <th>language</th>\n",
       "      <th>religion</th>\n",
       "      <th>bars</th>\n",
       "      <th>stripes</th>\n",
       "      <th>colours</th>\n",
       "      <th>red</th>\n",
       "      <th>...</th>\n",
       "      <th>saltires</th>\n",
       "      <th>quarters</th>\n",
       "      <th>sunstars</th>\n",
       "      <th>crescent</th>\n",
       "      <th>triangle</th>\n",
       "      <th>icon</th>\n",
       "      <th>animate</th>\n",
       "      <th>text</th>\n",
       "      <th>topleft</th>\n",
       "      <th>class</th>\n",
       "    </tr>\n",
       "  </thead>\n",
       "  <tbody>\n",
       "    <tr>\n",
       "      <th>0</th>\n",
       "      <td>5</td>\n",
       "      <td>green</td>\n",
       "      <td>648.0</td>\n",
       "      <td>16.0</td>\n",
       "      <td>10</td>\n",
       "      <td>2</td>\n",
       "      <td>0.0</td>\n",
       "      <td>3.0</td>\n",
       "      <td>5.0</td>\n",
       "      <td>1</td>\n",
       "      <td>...</td>\n",
       "      <td>0.0</td>\n",
       "      <td>0.0</td>\n",
       "      <td>1.0</td>\n",
       "      <td>0</td>\n",
       "      <td>0</td>\n",
       "      <td>1</td>\n",
       "      <td>0</td>\n",
       "      <td>0</td>\n",
       "      <td>black</td>\n",
       "      <td>1</td>\n",
       "    </tr>\n",
       "    <tr>\n",
       "      <th>1</th>\n",
       "      <td>3</td>\n",
       "      <td>red</td>\n",
       "      <td>29.0</td>\n",
       "      <td>3.0</td>\n",
       "      <td>6</td>\n",
       "      <td>6</td>\n",
       "      <td>0.0</td>\n",
       "      <td>0.0</td>\n",
       "      <td>3.0</td>\n",
       "      <td>1</td>\n",
       "      <td>...</td>\n",
       "      <td>0.0</td>\n",
       "      <td>0.0</td>\n",
       "      <td>1.0</td>\n",
       "      <td>0</td>\n",
       "      <td>0</td>\n",
       "      <td>0</td>\n",
       "      <td>1</td>\n",
       "      <td>0</td>\n",
       "      <td>red</td>\n",
       "      <td>1</td>\n",
       "    </tr>\n",
       "    <tr>\n",
       "      <th>2</th>\n",
       "      <td>4</td>\n",
       "      <td>white</td>\n",
       "      <td>2388.0</td>\n",
       "      <td>20.0</td>\n",
       "      <td>8</td>\n",
       "      <td>2</td>\n",
       "      <td>2.0</td>\n",
       "      <td>0.0</td>\n",
       "      <td>3.0</td>\n",
       "      <td>1</td>\n",
       "      <td>...</td>\n",
       "      <td>0.0</td>\n",
       "      <td>0.0</td>\n",
       "      <td>1.0</td>\n",
       "      <td>1</td>\n",
       "      <td>0</td>\n",
       "      <td>0</td>\n",
       "      <td>0</td>\n",
       "      <td>0</td>\n",
       "      <td>green</td>\n",
       "      <td>1</td>\n",
       "    </tr>\n",
       "    <tr>\n",
       "      <th>3</th>\n",
       "      <td>6</td>\n",
       "      <td>red</td>\n",
       "      <td>0.0</td>\n",
       "      <td>0.0</td>\n",
       "      <td>1</td>\n",
       "      <td>1</td>\n",
       "      <td>0.0</td>\n",
       "      <td>0.0</td>\n",
       "      <td>5.0</td>\n",
       "      <td>1</td>\n",
       "      <td>...</td>\n",
       "      <td>0.0</td>\n",
       "      <td>0.0</td>\n",
       "      <td>0.0</td>\n",
       "      <td>0</td>\n",
       "      <td>1</td>\n",
       "      <td>1</td>\n",
       "      <td>1</td>\n",
       "      <td>0</td>\n",
       "      <td>blue</td>\n",
       "      <td>3</td>\n",
       "    </tr>\n",
       "    <tr>\n",
       "      <th>4</th>\n",
       "      <td>3</td>\n",
       "      <td>red</td>\n",
       "      <td>0.0</td>\n",
       "      <td>0.0</td>\n",
       "      <td>6</td>\n",
       "      <td>0</td>\n",
       "      <td>3.0</td>\n",
       "      <td>0.0</td>\n",
       "      <td>3.0</td>\n",
       "      <td>1</td>\n",
       "      <td>...</td>\n",
       "      <td>0.0</td>\n",
       "      <td>0.0</td>\n",
       "      <td>0.0</td>\n",
       "      <td>0</td>\n",
       "      <td>0</td>\n",
       "      <td>0</td>\n",
       "      <td>0</td>\n",
       "      <td>0</td>\n",
       "      <td>blue</td>\n",
       "      <td>1</td>\n",
       "    </tr>\n",
       "    <tr>\n",
       "      <th>...</th>\n",
       "      <td>...</td>\n",
       "      <td>...</td>\n",
       "      <td>...</td>\n",
       "      <td>...</td>\n",
       "      <td>...</td>\n",
       "      <td>...</td>\n",
       "      <td>...</td>\n",
       "      <td>...</td>\n",
       "      <td>...</td>\n",
       "      <td>...</td>\n",
       "      <td>...</td>\n",
       "      <td>...</td>\n",
       "      <td>...</td>\n",
       "      <td>...</td>\n",
       "      <td>...</td>\n",
       "      <td>...</td>\n",
       "      <td>...</td>\n",
       "      <td>...</td>\n",
       "      <td>...</td>\n",
       "      <td>...</td>\n",
       "      <td>...</td>\n",
       "    </tr>\n",
       "    <tr>\n",
       "      <th>189</th>\n",
       "      <td>6</td>\n",
       "      <td>red</td>\n",
       "      <td>3.0</td>\n",
       "      <td>0.0</td>\n",
       "      <td>1</td>\n",
       "      <td>1</td>\n",
       "      <td>0.0</td>\n",
       "      <td>0.0</td>\n",
       "      <td>3.0</td>\n",
       "      <td>1</td>\n",
       "      <td>...</td>\n",
       "      <td>0.0</td>\n",
       "      <td>1.0</td>\n",
       "      <td>5.0</td>\n",
       "      <td>0</td>\n",
       "      <td>0</td>\n",
       "      <td>0</td>\n",
       "      <td>0</td>\n",
       "      <td>0</td>\n",
       "      <td>blue</td>\n",
       "      <td>3</td>\n",
       "    </tr>\n",
       "    <tr>\n",
       "      <th>190</th>\n",
       "      <td>3</td>\n",
       "      <td>red</td>\n",
       "      <td>256.0</td>\n",
       "      <td>22.0</td>\n",
       "      <td>6</td>\n",
       "      <td>6</td>\n",
       "      <td>0.0</td>\n",
       "      <td>3.0</td>\n",
       "      <td>4.0</td>\n",
       "      <td>1</td>\n",
       "      <td>...</td>\n",
       "      <td>0.0</td>\n",
       "      <td>0.0</td>\n",
       "      <td>1.0</td>\n",
       "      <td>0</td>\n",
       "      <td>0</td>\n",
       "      <td>0</td>\n",
       "      <td>0</td>\n",
       "      <td>0</td>\n",
       "      <td>blue</td>\n",
       "      <td>1</td>\n",
       "    </tr>\n",
       "    <tr>\n",
       "      <th>191</th>\n",
       "      <td>4</td>\n",
       "      <td>green</td>\n",
       "      <td>905.0</td>\n",
       "      <td>28.0</td>\n",
       "      <td>10</td>\n",
       "      <td>5</td>\n",
       "      <td>0.0</td>\n",
       "      <td>0.0</td>\n",
       "      <td>4.0</td>\n",
       "      <td>1</td>\n",
       "      <td>...</td>\n",
       "      <td>0.0</td>\n",
       "      <td>0.0</td>\n",
       "      <td>0.0</td>\n",
       "      <td>0</td>\n",
       "      <td>0</td>\n",
       "      <td>1</td>\n",
       "      <td>1</td>\n",
       "      <td>0</td>\n",
       "      <td>green</td>\n",
       "      <td>2</td>\n",
       "    </tr>\n",
       "    <tr>\n",
       "      <th>192</th>\n",
       "      <td>4</td>\n",
       "      <td>brown</td>\n",
       "      <td>753.0</td>\n",
       "      <td>6.0</td>\n",
       "      <td>10</td>\n",
       "      <td>5</td>\n",
       "      <td>3.0</td>\n",
       "      <td>0.0</td>\n",
       "      <td>4.0</td>\n",
       "      <td>1</td>\n",
       "      <td>...</td>\n",
       "      <td>0.0</td>\n",
       "      <td>0.0</td>\n",
       "      <td>0.0</td>\n",
       "      <td>0</td>\n",
       "      <td>0</td>\n",
       "      <td>0</td>\n",
       "      <td>1</td>\n",
       "      <td>0</td>\n",
       "      <td>green</td>\n",
       "      <td>2</td>\n",
       "    </tr>\n",
       "    <tr>\n",
       "      <th>193</th>\n",
       "      <td>4</td>\n",
       "      <td>green</td>\n",
       "      <td>391.0</td>\n",
       "      <td>8.0</td>\n",
       "      <td>10</td>\n",
       "      <td>5</td>\n",
       "      <td>0.0</td>\n",
       "      <td>7.0</td>\n",
       "      <td>5.0</td>\n",
       "      <td>1</td>\n",
       "      <td>...</td>\n",
       "      <td>0.0</td>\n",
       "      <td>0.0</td>\n",
       "      <td>1.0</td>\n",
       "      <td>0</td>\n",
       "      <td>1</td>\n",
       "      <td>1</td>\n",
       "      <td>1</td>\n",
       "      <td>0</td>\n",
       "      <td>green</td>\n",
       "      <td>2</td>\n",
       "    </tr>\n",
       "  </tbody>\n",
       "</table>\n",
       "<p>194 rows × 29 columns</p>\n",
       "</div>"
      ],
      "text/plain": [
       "    landmass botright    area  population language religion  bars  stripes  \\\n",
       "0          5    green   648.0        16.0       10        2   0.0      3.0   \n",
       "1          3      red    29.0         3.0        6        6   0.0      0.0   \n",
       "2          4    white  2388.0        20.0        8        2   2.0      0.0   \n",
       "3          6      red     0.0         0.0        1        1   0.0      0.0   \n",
       "4          3      red     0.0         0.0        6        0   3.0      0.0   \n",
       "..       ...      ...     ...         ...      ...      ...   ...      ...   \n",
       "189        6      red     3.0         0.0        1        1   0.0      0.0   \n",
       "190        3      red   256.0        22.0        6        6   0.0      3.0   \n",
       "191        4    green   905.0        28.0       10        5   0.0      0.0   \n",
       "192        4    brown   753.0         6.0       10        5   3.0      0.0   \n",
       "193        4    green   391.0         8.0       10        5   0.0      7.0   \n",
       "\n",
       "     colours red  ... saltires quarters sunstars crescent triangle icon  \\\n",
       "0        5.0   1  ...      0.0      0.0      1.0        0        0    1   \n",
       "1        3.0   1  ...      0.0      0.0      1.0        0        0    0   \n",
       "2        3.0   1  ...      0.0      0.0      1.0        1        0    0   \n",
       "3        5.0   1  ...      0.0      0.0      0.0        0        1    1   \n",
       "4        3.0   1  ...      0.0      0.0      0.0        0        0    0   \n",
       "..       ...  ..  ...      ...      ...      ...      ...      ...  ...   \n",
       "189      3.0   1  ...      0.0      1.0      5.0        0        0    0   \n",
       "190      4.0   1  ...      0.0      0.0      1.0        0        0    0   \n",
       "191      4.0   1  ...      0.0      0.0      0.0        0        0    1   \n",
       "192      4.0   1  ...      0.0      0.0      0.0        0        0    0   \n",
       "193      5.0   1  ...      0.0      0.0      1.0        0        1    1   \n",
       "\n",
       "    animate  text  topleft  class  \n",
       "0         0     0    black      1  \n",
       "1         1     0      red      1  \n",
       "2         0     0    green      1  \n",
       "3         1     0     blue      3  \n",
       "4         0     0     blue      1  \n",
       "..      ...   ...      ...    ...  \n",
       "189       0     0     blue      3  \n",
       "190       0     0     blue      1  \n",
       "191       1     0    green      2  \n",
       "192       1     0    green      2  \n",
       "193       1     0    green      2  \n",
       "\n",
       "[194 rows x 29 columns]"
      ]
     },
     "execution_count": 62,
     "metadata": {},
     "output_type": "execute_result"
    }
   ],
   "source": [
    "train"
   ]
  },
  {
   "cell_type": "code",
   "execution_count": 63,
   "metadata": {},
   "outputs": [
    {
     "name": "stdout",
     "output_type": "stream",
     "text": [
      "Rules original\n",
      "IF landmass = {5} THEN class = {1} (p = 39.0, n = 0.0, P = 91.0, N = 103.0, weight = 1.0, pvalue = 6.039529644312067e-16)\n",
      "IF language = {4} THEN class = {1} (p = 6.0, n = 0.0, P = 91.0, N = 103.0, weight = 1.0, pvalue = 0.009733415084710487)\n",
      "IF stripes = (-inf, 4) AND religion = {6} THEN class = {1} (p = 13.0, n = 0.0, P = 91.0, N = 103.0, weight = 1.0, pvalue = 3.2661270084870434e-05)\n",
      "IF language = {8} AND population = <2.50, inf) THEN class = {1} (p = 10.0, n = 1.0, P = 91.0, N = 103.0, weight = 0.9090909090909091, pvalue = 0.0025797174195113966)\n",
      "IF area = (-inf, 477.50) AND landmass = {3} AND colours = (-inf, 2.50) THEN class = {1} (p = 9.0, n = 0.0, P = 91.0, N = 103.0, weight = 1.0, pvalue = 0.0008821230055869394)\n",
      "IF red = {1} AND landmass = {3} AND bars = <1, inf) THEN class = {1} (p = 7.0, n = 0.0, P = 91.0, N = 103.0, weight = 1.0, pvalue = 0.004400746181916965)\n",
      "IF area = (-inf, 935) AND white = {1} AND crosses = (-inf, 0.50) AND population = <12.50, inf) AND colours = (-inf, 6) THEN class = {1} (p = 22.0, n = 0.0, P = 91.0, N = 103.0, weight = 1.0, pvalue = 1.2688002921409975e-08)\n",
      "IF stripes = (-inf, 8) AND blue = {1} AND white = {1} AND black = {0} AND language = {10} AND bars = (-inf, 1.50) THEN class = {1} (p = 12.0, n = 1.0, P = 91.0, N = 103.0, weight = 0.9230769230769231, pvalue = 0.0005862491263335043)\n",
      "IF area = <323.50, 1284.50) AND quarters = (-inf, 0.50) AND icon = {0} AND animate = {0} AND saltires = (-inf, 0.50) AND triangle = {0} AND population = <3.50, inf) THEN class = {1} (p = 16.0, n = 6.0, P = 91.0, N = 103.0, weight = 0.7272727272727273, pvalue = 0.00897972071665286)\n",
      "IF stripes = (-inf, 7) AND area = (-inf, 114) AND red = {1} AND sunstars = <0.50, 2.50) AND quarters = (-inf, 2.50) AND bars = (-inf, 0.50) AND colours = (-inf, 4.50) THEN class = {1} (p = 8.0, n = 2.0, P = 91.0, N = 103.0, weight = 0.8, pvalue = 0.032462241502767206)\n",
      "IF area = <1212, inf) AND landmass = {2} THEN class = {3} (p = 4.0, n = 0.0, P = 16.0, N = 178.0, weight = 1.0, pvalue = 3.181185504085751e-05)\n",
      "IF landmass = {2} AND population = <2.50, 14.50) THEN class = {3} (p = 6.0, n = 0.0, P = 16.0, N = 178.0, weight = 1.0, pvalue = 1.1693580800315234e-07)\n",
      "IF blue = {1} AND white = {1} AND language = {1} AND animate = {0} AND triangle = {0} AND population = (-inf, 0.50) THEN class = {3} (p = 4.0, n = 1.0, P = 16.0, N = 178.0, weight = 0.8, pvalue = 0.00015102259603607198)\n",
      "IF icon = {1} AND circles = (-inf, 0.50) AND religion = {5} THEN class = {2} (p = 5.0, n = 0.0, P = 29.0, N = 165.0, weight = 1.0, pvalue = 5.46243037214726e-05)\n",
      "IF area = <332.50, 1265.50) AND religion = {5} AND colours = (-inf, 4.50) THEN class = {2} (p = 7.0, n = 1.0, P = 29.0, N = 165.0, weight = 0.875, pvalue = 6.089985348449555e-06)\n",
      "IF area = <9.50, inf) AND landmass = {6} AND population = (-inf, 31.50) THEN class = {2} (p = 6.0, n = 0.0, P = 29.0, N = 165.0, weight = 1.0, pvalue = 6.936419520187005e-06)\n",
      "IF area = (-inf, 611.50) AND quarters = (-inf, 0.50) AND language = {10} AND landmass = {4} AND population = <0.50, 12.50) THEN class = {2} (p = 10.0, n = 0.0, P = 29.0, N = 165.0, weight = 1.0, pvalue = 1.2185715391297728e-09)\n",
      "IF stripes = (-inf, 4) AND white = {1} AND black = {0} AND icon = {0} AND circles = (-inf, 0.50) AND animate = {0} AND religion = {1} AND population = (-inf, 42.50) THEN class = {2} (p = 9.0, n = 10.0, P = 29.0, N = 165.0, weight = 0.47368421052631576, pvalue = 0.00036730787001437455)\n",
      "IF landmass = {1} THEN class = {4} (p = 31.0, n = 0.0, P = 58.0, N = 136.0, weight = 1.0, pvalue = 3.255292841970164e-20)\n",
      "IF area = (-inf, 351) AND blue = {0} AND language = {1} THEN class = {4} (p = 8.0, n = 1.0, P = 58.0, N = 136.0, weight = 0.8888888888888888, pvalue = 0.0003053828914893349)\n",
      "IF area = (-inf, 1262) AND language = {3} AND bars = <2.50, inf) AND population = (-inf, 7.50) THEN class = {4} (p = 5.0, n = 0.0, P = 58.0, N = 136.0, weight = 1.0, pvalue = 0.002107657749745455)\n",
      "IF area = <40, 1212) AND stripes = (-inf, 7) AND text = {0} AND religion = {0} AND population = (-inf, 43) THEN class = {4} (p = 12.0, n = 4.0, P = 58.0, N = 136.0, weight = 0.75, pvalue = 0.0001329880782876189)\n",
      "IF area = <0.50, inf) AND icon = {0} AND language = {6} AND triangle = {0} AND population = (-inf, 1.50) THEN class = {4} (p = 6.0, n = 0.0, P = 58.0, N = 136.0, weight = 1.0, pvalue = 0.000591036300193166)\n",
      "IF area = <3.50, 1065) AND icon = {0} AND black = {0} AND circles = (-inf, 0.50) AND landmass = {4} AND triangle = {0} AND population = (-inf, 7.50) AND colours = (-inf, 4.50) THEN class = {4} (p = 8.0, n = 4.0, P = 58.0, N = 136.0, weight = 0.6666666666666666, pvalue = 0.007395802615033593)\n",
      "\n",
      "\n",
      "Complex rules\n",
      "IF landmass = {5} THEN class = {1} (p = 39.0, n = 0.0, P = 91.0, N = 103.0, weight = 1.0, pvalue = 6.039529644312067e-16)\n",
      "IF language = {7, 4, 5} THEN class = {1} (p = 14.0, n = 0.0, P = 91.0, N = 103.0, weight = 1.0, pvalue = 1.4075022467513244e-05)\n",
      "IF landmass != {1} AND religion = {6, 3, 7} THEN class = {1} (p = 26.0, n = 0.0, P = 91.0, N = 103.0, weight = 1.0, pvalue = 3.115371398040468e-10)\n",
      "IF gold = animate AND red = white AND language = {8, 4, 5} THEN class = {1} (p = 20.0, n = 0.0, P = 91.0, N = 103.0, weight = 1.0, pvalue = 7.684794043064066e-08)\n",
      "IF orange = red AND landmass = {5, 3} THEN class = {1} (p = 12.0, n = 0.0, P = 91.0, N = 103.0, weight = 1.0, pvalue = 7.524495133476525e-05)\n",
      "IF topleft = {black, red, orange} AND language != {2} AND landmass = {5, 3} THEN class = {1} (p = 33.0, n = 0.0, P = 91.0, N = 103.0, weight = 1.0, pvalue = 3.284764533515556e-13)\n",
      "IF botright != {orange} AND landmass = {5, 3} AND religion != {1} AND colours = <2.50, 5) THEN class = {1} (p = 37.0, n = 0.0, P = 91.0, N = 103.0, weight = 1.0, pvalue = 5.1684192889060856e-15)\n",
      "IF blue != black AND orange = green AND gold = red AND sunstars = (-inf, 4.50) AND landmass = {5, 3, 6} AND crosses = (-inf, 0.50) THEN class = {1} (p = 20.0, n = 0.0, P = 91.0, N = 103.0, weight = 1.0, pvalue = 7.684794043064066e-08)\n",
      "IF crescent = black AND mainhue != {red} AND language = {8, 4, 3} AND landmass = {5, 3, 4} AND population != <5.50, 8) THEN class = {1} (p = 10.0, n = 0.0, P = 91.0, N = 103.0, weight = 1.0, pvalue = 0.0003909950619358349)\n",
      "IF sunstars = bars AND orange != red AND language = {10, 8, 4} AND landmass != {6} THEN class = {1} (p = 23.0, n = 0.0, P = 91.0, N = 103.0, weight = 1.0, pvalue = 5.0899546603330435e-09)\n",
      "IF landmass = {2} AND population = <2.50, 15) THEN class = {3} (p = 6.0, n = 0.0, P = 16.0, N = 178.0, weight = 1.0, pvalue = 1.1693580800315234e-07)\n",
      "IF red = icon = animate AND orange = crescent = triangle AND landmass = {2} THEN class = {3} (p = 6.0, n = 0.0, P = 16.0, N = 178.0, weight = 1.0, pvalue = 1.1693580800315234e-07)\n",
      "IF orange = animate = triangle AND red = white = blue AND bars < colours AND botright = {red, gold} AND landmass = {2, 6} THEN class = {3} (p = 5.0, n = 0.0, P = 16.0, N = 178.0, weight = 1.0, pvalue = 2.009169792054163e-06)\n",
      "IF red = green = animate AND religion = {5} THEN class = {2} (p = 5.0, n = 0.0, P = 29.0, N = 165.0, weight = 1.0, pvalue = 5.46243037214726e-05)\n",
      "IF botright = {white, blue, black} AND language != {1} AND religion = {5} THEN class = {2} (p = 6.0, n = 0.0, P = 29.0, N = 165.0, weight = 1.0, pvalue = 6.936419520187005e-06)\n",
      "IF crosses > circles AND landmass = {6} THEN class = {2} (p = 5.0, n = 0.0, P = 29.0, N = 165.0, weight = 1.0, pvalue = 5.46243037214726e-05)\n",
      "IF quarters = bars AND icon != {1} AND landmass = {6} AND religion != {0} THEN class = {2} (p = 5.0, n = 1.0, P = 29.0, N = 165.0, weight = 0.8333333333333334, pvalue = 0.00029306372472789855)\n",
      "IF orange = blue AND language = {10, 2} AND landmass = {4, 6} AND population = <0.50, 13) THEN class = {2} (p = 9.0, n = 0.0, P = 29.0, N = 165.0, weight = 1.0, pvalue = 1.127178673695045e-08)\n",
      "IF landmass = {1} THEN class = {4} (p = 31.0, n = 0.0, P = 58.0, N = 136.0, weight = 1.0, pvalue = 3.255292841970164e-20)\n",
      "IF orange = text AND landmass = {1, 2} AND population = (-inf, 2.50) THEN class = {4} (p = 21.0, n = 0.0, P = 58.0, N = 136.0, weight = 1.0, pvalue = 4.744646934422135e-13)\n",
      "IF area > colours AND language = {1} AND landmass = {3, 4, 1} THEN class = {4} (p = 10.0, n = 0.0, P = 58.0, N = 136.0, weight = 1.0, pvalue = 3.1744583314899793e-06)\n",
      "IF stripes < colours AND language = {2, 1, 3} AND population = <5.50, 8) THEN class = {4} (p = 7.0, n = 0.0, P = 58.0, N = 136.0, weight = 1.0, pvalue = 0.00016347812558534418)\n",
      "IF saltires = bars AND red != text AND area != <0.50, 49) AND language = {6, 2, 1} AND landmass = {3, 1} THEN class = {4} (p = 14.0, n = 2.0, P = 58.0, N = 136.0, weight = 0.875, pvalue = 9.543777896571075e-07)\n",
      "IF white = blue AND icon = text AND red != crescent AND area = (-inf, 1126) AND botright = {green, red, blue} AND topleft != {black} AND language != {3} AND landmass = {4, 1} AND triangle != {1} THEN class = {4} (p = 13.0, n = 0.0, P = 58.0, N = 136.0, weight = 1.0, pvalue = 5.3755914818962104e-08)\n",
      "\n",
      "\n",
      "Complex rules + inners alternatives\n",
      "IF landmass = {5} THEN class = {1} (p = 39.0, n = 0.0, P = 91.0, N = 103.0, weight = 1.0, pvalue = 6.039529644312067e-16)\n",
      "IF language = {7, 4, 5} THEN class = {1} (p = 14.0, n = 0.0, P = 91.0, N = 103.0, weight = 1.0, pvalue = 1.4075022467513244e-05)\n",
      "IF landmass != {1} AND religion = {6, 3, 7} THEN class = {1} (p = 26.0, n = 0.0, P = 91.0, N = 103.0, weight = 1.0, pvalue = 3.115371398040468e-10)\n",
      "IF gold = animate AND red = white AND language = {8, 4, 5} THEN class = {1} (p = 20.0, n = 0.0, P = 91.0, N = 103.0, weight = 1.0, pvalue = 7.684794043064066e-08)\n",
      "IF orange = red AND landmass = {5, 3} THEN class = {1} (p = 12.0, n = 0.0, P = 91.0, N = 103.0, weight = 1.0, pvalue = 7.524495133476525e-05)\n",
      "IF topleft = {black, red, orange} AND language != {2} AND landmass = {5, 3} THEN class = {1} (p = 33.0, n = 0.0, P = 91.0, N = 103.0, weight = 1.0, pvalue = 3.284764533515556e-13)\n",
      "IF botright != {orange} AND landmass = {5, 3} AND religion != {1} AND colours = <2.50, 5) THEN class = {1} (p = 37.0, n = 0.0, P = 91.0, N = 103.0, weight = 1.0, pvalue = 5.1684192889060856e-15)\n",
      "IF blue != black AND orange = green AND gold = red AND sunstars = (-inf, 4.50) AND landmass = {5, 3, 6} AND crosses = (-inf, 0.50) THEN class = {1} (p = 20.0, n = 0.0, P = 91.0, N = 103.0, weight = 1.0, pvalue = 7.684794043064066e-08)\n",
      "IF crescent = black AND #(population != <1.50, 8) OR population != <5.50, 8)) AND mainhue != {red} AND language = {8, 4, 3} AND landmass = {5, 3, 4} THEN class = {1} (p = 10.0, n = 0.0, P = 91.0, N = 103.0, weight = 1.0, pvalue = 0.0003909950619358349)\n",
      "IF sunstars = bars AND orange != red AND language = {10, 8, 4} AND landmass != {6} THEN class = {1} (p = 23.0, n = 0.0, P = 91.0, N = 103.0, weight = 1.0, pvalue = 5.0899546603330435e-09)\n",
      "IF #(population = <2.50, 11)) AND landmass = {2} THEN class = {3} (p = 6.0, n = 0.0, P = 16.0, N = 178.0, weight = 1.0, pvalue = 1.1693580800315234e-07)\n",
      "IF red = icon = animate AND orange = crescent = triangle AND landmass = {2} THEN class = {3} (p = 6.0, n = 0.0, P = 16.0, N = 178.0, weight = 1.0, pvalue = 1.1693580800315234e-07)\n",
      "IF orange = animate = triangle AND red = white = blue AND bars < colours AND botright = {red, gold} AND landmass = {2, 6} THEN class = {3} (p = 5.0, n = 0.0, P = 16.0, N = 178.0, weight = 1.0, pvalue = 2.009169792054163e-06)\n",
      "IF red = green = animate AND religion = {5} THEN class = {2} (p = 5.0, n = 0.0, P = 29.0, N = 165.0, weight = 1.0, pvalue = 5.46243037214726e-05)\n",
      "IF botright = {white, blue, black} AND language != {1} AND religion = {5} THEN class = {2} (p = 6.0, n = 0.0, P = 29.0, N = 165.0, weight = 1.0, pvalue = 6.936419520187005e-06)\n",
      "IF circles < crosses AND landmass = {6} THEN class = {2} (p = 5.0, n = 0.0, P = 29.0, N = 165.0, weight = 1.0, pvalue = 5.46243037214726e-05)\n",
      "IF quarters = bars AND icon != {1} AND landmass = {6} AND religion != {0} THEN class = {2} (p = 5.0, n = 1.0, P = 29.0, N = 165.0, weight = 0.8333333333333334, pvalue = 0.00029306372472789855)\n",
      "IF orange = blue AND language = {10, 2} AND landmass = {4, 6} AND population = <0.50, 13) THEN class = {2} (p = 9.0, n = 0.0, P = 29.0, N = 165.0, weight = 1.0, pvalue = 1.127178673695045e-08)\n",
      "IF landmass = {1} THEN class = {4} (p = 31.0, n = 0.0, P = 58.0, N = 136.0, weight = 1.0, pvalue = 3.255292841970164e-20)\n",
      "IF orange = text AND landmass = {1, 2} AND population = (-inf, 2.50) THEN class = {4} (p = 21.0, n = 0.0, P = 58.0, N = 136.0, weight = 1.0, pvalue = 4.744646934422135e-13)\n",
      "IF area > colours AND language = {1} AND landmass = {3, 4, 1} THEN class = {4} (p = 10.0, n = 0.0, P = 58.0, N = 136.0, weight = 1.0, pvalue = 3.1744583314899793e-06)\n",
      "IF stripes < colours AND language = {2, 1, 3} AND population = <5.50, 8) THEN class = {4} (p = 7.0, n = 0.0, P = 58.0, N = 136.0, weight = 1.0, pvalue = 0.00016347812558534418)\n",
      "IF saltires = bars AND red != text AND area != <0.50, 49) AND language = {6, 2, 1} AND landmass = {3, 1} THEN class = {4} (p = 14.0, n = 2.0, P = 58.0, N = 136.0, weight = 0.875, pvalue = 9.543777896571075e-07)\n",
      "IF white = blue AND icon = text AND red != crescent AND area = (-inf, 1126) AND botright = {green, red, blue} AND topleft != {black} AND language != {3} AND landmass = {4, 1} AND triangle != {1} THEN class = {4} (p = 13.0, n = 0.0, P = 58.0, N = 136.0, weight = 1.0, pvalue = 5.3755914818962104e-08)\n"
     ]
    }
   ],
   "source": [
    "X = train.drop(['class'], axis=1)\n",
    "y = train['class']\n",
    "\n",
    "clf_simple.fit(X, y)\n",
    "\n",
    "print(\"Rules original\")\n",
    "for rule in clf_simple.model.rules:\n",
    "    print(rule, rule.stats)\n",
    "\n",
    "print(\"\\n\\nComplex rules\")\n",
    "clf_complex.fit(X, y)\n",
    "for rule in clf_complex.model.rules:\n",
    "    print(rule, rule.stats)\n",
    "\n",
    "print(\"\\n\\nComplex rules + inners alternatives\")\n",
    "clf_complex_with_inners.fit(X, y)\n",
    "for rule in clf_complex_with_inners.model.rules:\n",
    "    print(rule, rule.stats)"
   ]
  },
  {
   "attachments": {},
   "cell_type": "markdown",
   "metadata": {},
   "source": [
    "# mushroom"
   ]
  },
  {
   "cell_type": "code",
   "execution_count": 64,
   "metadata": {},
   "outputs": [],
   "source": [
    "train = pd.read_parquet(\"./data/mushroom.parquet\")"
   ]
  },
  {
   "cell_type": "code",
   "execution_count": 65,
   "metadata": {},
   "outputs": [
    {
     "data": {
      "text/html": [
       "<div>\n",
       "<style scoped>\n",
       "    .dataframe tbody tr th:only-of-type {\n",
       "        vertical-align: middle;\n",
       "    }\n",
       "\n",
       "    .dataframe tbody tr th {\n",
       "        vertical-align: top;\n",
       "    }\n",
       "\n",
       "    .dataframe thead th {\n",
       "        text-align: right;\n",
       "    }\n",
       "</style>\n",
       "<table border=\"1\" class=\"dataframe\">\n",
       "  <thead>\n",
       "    <tr style=\"text-align: right;\">\n",
       "      <th></th>\n",
       "      <th>cap-shape</th>\n",
       "      <th>cap-surface</th>\n",
       "      <th>cap-color</th>\n",
       "      <th>bruises?</th>\n",
       "      <th>odor</th>\n",
       "      <th>gill-attachment</th>\n",
       "      <th>gill-spacing</th>\n",
       "      <th>gill-size</th>\n",
       "      <th>gill-color</th>\n",
       "      <th>stalk-shape</th>\n",
       "      <th>...</th>\n",
       "      <th>stalk-color-above-ring</th>\n",
       "      <th>stalk-color-below-ring</th>\n",
       "      <th>veil-type</th>\n",
       "      <th>veil-color</th>\n",
       "      <th>ring-number</th>\n",
       "      <th>ring-type</th>\n",
       "      <th>spore-print-color</th>\n",
       "      <th>population</th>\n",
       "      <th>habitat</th>\n",
       "      <th>class</th>\n",
       "    </tr>\n",
       "  </thead>\n",
       "  <tbody>\n",
       "    <tr>\n",
       "      <th>0</th>\n",
       "      <td>x</td>\n",
       "      <td>s</td>\n",
       "      <td>n</td>\n",
       "      <td>t</td>\n",
       "      <td>p</td>\n",
       "      <td>f</td>\n",
       "      <td>c</td>\n",
       "      <td>n</td>\n",
       "      <td>k</td>\n",
       "      <td>e</td>\n",
       "      <td>...</td>\n",
       "      <td>w</td>\n",
       "      <td>w</td>\n",
       "      <td>p</td>\n",
       "      <td>w</td>\n",
       "      <td>o</td>\n",
       "      <td>p</td>\n",
       "      <td>k</td>\n",
       "      <td>s</td>\n",
       "      <td>u</td>\n",
       "      <td>p</td>\n",
       "    </tr>\n",
       "    <tr>\n",
       "      <th>1</th>\n",
       "      <td>x</td>\n",
       "      <td>s</td>\n",
       "      <td>y</td>\n",
       "      <td>t</td>\n",
       "      <td>a</td>\n",
       "      <td>f</td>\n",
       "      <td>c</td>\n",
       "      <td>b</td>\n",
       "      <td>k</td>\n",
       "      <td>e</td>\n",
       "      <td>...</td>\n",
       "      <td>w</td>\n",
       "      <td>w</td>\n",
       "      <td>p</td>\n",
       "      <td>w</td>\n",
       "      <td>o</td>\n",
       "      <td>p</td>\n",
       "      <td>n</td>\n",
       "      <td>n</td>\n",
       "      <td>g</td>\n",
       "      <td>e</td>\n",
       "    </tr>\n",
       "    <tr>\n",
       "      <th>2</th>\n",
       "      <td>b</td>\n",
       "      <td>s</td>\n",
       "      <td>w</td>\n",
       "      <td>t</td>\n",
       "      <td>l</td>\n",
       "      <td>f</td>\n",
       "      <td>c</td>\n",
       "      <td>b</td>\n",
       "      <td>n</td>\n",
       "      <td>e</td>\n",
       "      <td>...</td>\n",
       "      <td>w</td>\n",
       "      <td>w</td>\n",
       "      <td>p</td>\n",
       "      <td>w</td>\n",
       "      <td>o</td>\n",
       "      <td>p</td>\n",
       "      <td>n</td>\n",
       "      <td>n</td>\n",
       "      <td>m</td>\n",
       "      <td>e</td>\n",
       "    </tr>\n",
       "    <tr>\n",
       "      <th>3</th>\n",
       "      <td>x</td>\n",
       "      <td>y</td>\n",
       "      <td>w</td>\n",
       "      <td>t</td>\n",
       "      <td>p</td>\n",
       "      <td>f</td>\n",
       "      <td>c</td>\n",
       "      <td>n</td>\n",
       "      <td>n</td>\n",
       "      <td>e</td>\n",
       "      <td>...</td>\n",
       "      <td>w</td>\n",
       "      <td>w</td>\n",
       "      <td>p</td>\n",
       "      <td>w</td>\n",
       "      <td>o</td>\n",
       "      <td>p</td>\n",
       "      <td>k</td>\n",
       "      <td>s</td>\n",
       "      <td>u</td>\n",
       "      <td>p</td>\n",
       "    </tr>\n",
       "    <tr>\n",
       "      <th>4</th>\n",
       "      <td>x</td>\n",
       "      <td>s</td>\n",
       "      <td>g</td>\n",
       "      <td>f</td>\n",
       "      <td>n</td>\n",
       "      <td>f</td>\n",
       "      <td>w</td>\n",
       "      <td>b</td>\n",
       "      <td>k</td>\n",
       "      <td>t</td>\n",
       "      <td>...</td>\n",
       "      <td>w</td>\n",
       "      <td>w</td>\n",
       "      <td>p</td>\n",
       "      <td>w</td>\n",
       "      <td>o</td>\n",
       "      <td>e</td>\n",
       "      <td>n</td>\n",
       "      <td>a</td>\n",
       "      <td>g</td>\n",
       "      <td>e</td>\n",
       "    </tr>\n",
       "    <tr>\n",
       "      <th>...</th>\n",
       "      <td>...</td>\n",
       "      <td>...</td>\n",
       "      <td>...</td>\n",
       "      <td>...</td>\n",
       "      <td>...</td>\n",
       "      <td>...</td>\n",
       "      <td>...</td>\n",
       "      <td>...</td>\n",
       "      <td>...</td>\n",
       "      <td>...</td>\n",
       "      <td>...</td>\n",
       "      <td>...</td>\n",
       "      <td>...</td>\n",
       "      <td>...</td>\n",
       "      <td>...</td>\n",
       "      <td>...</td>\n",
       "      <td>...</td>\n",
       "      <td>...</td>\n",
       "      <td>...</td>\n",
       "      <td>...</td>\n",
       "      <td>...</td>\n",
       "    </tr>\n",
       "    <tr>\n",
       "      <th>8119</th>\n",
       "      <td>k</td>\n",
       "      <td>s</td>\n",
       "      <td>n</td>\n",
       "      <td>f</td>\n",
       "      <td>n</td>\n",
       "      <td>a</td>\n",
       "      <td>c</td>\n",
       "      <td>b</td>\n",
       "      <td>y</td>\n",
       "      <td>e</td>\n",
       "      <td>...</td>\n",
       "      <td>o</td>\n",
       "      <td>o</td>\n",
       "      <td>p</td>\n",
       "      <td>o</td>\n",
       "      <td>o</td>\n",
       "      <td>p</td>\n",
       "      <td>b</td>\n",
       "      <td>c</td>\n",
       "      <td>l</td>\n",
       "      <td>e</td>\n",
       "    </tr>\n",
       "    <tr>\n",
       "      <th>8120</th>\n",
       "      <td>x</td>\n",
       "      <td>s</td>\n",
       "      <td>n</td>\n",
       "      <td>f</td>\n",
       "      <td>n</td>\n",
       "      <td>a</td>\n",
       "      <td>c</td>\n",
       "      <td>b</td>\n",
       "      <td>y</td>\n",
       "      <td>e</td>\n",
       "      <td>...</td>\n",
       "      <td>o</td>\n",
       "      <td>o</td>\n",
       "      <td>p</td>\n",
       "      <td>n</td>\n",
       "      <td>o</td>\n",
       "      <td>p</td>\n",
       "      <td>b</td>\n",
       "      <td>v</td>\n",
       "      <td>l</td>\n",
       "      <td>e</td>\n",
       "    </tr>\n",
       "    <tr>\n",
       "      <th>8121</th>\n",
       "      <td>f</td>\n",
       "      <td>s</td>\n",
       "      <td>n</td>\n",
       "      <td>f</td>\n",
       "      <td>n</td>\n",
       "      <td>a</td>\n",
       "      <td>c</td>\n",
       "      <td>b</td>\n",
       "      <td>n</td>\n",
       "      <td>e</td>\n",
       "      <td>...</td>\n",
       "      <td>o</td>\n",
       "      <td>o</td>\n",
       "      <td>p</td>\n",
       "      <td>o</td>\n",
       "      <td>o</td>\n",
       "      <td>p</td>\n",
       "      <td>b</td>\n",
       "      <td>c</td>\n",
       "      <td>l</td>\n",
       "      <td>e</td>\n",
       "    </tr>\n",
       "    <tr>\n",
       "      <th>8122</th>\n",
       "      <td>k</td>\n",
       "      <td>y</td>\n",
       "      <td>n</td>\n",
       "      <td>f</td>\n",
       "      <td>y</td>\n",
       "      <td>f</td>\n",
       "      <td>c</td>\n",
       "      <td>n</td>\n",
       "      <td>b</td>\n",
       "      <td>t</td>\n",
       "      <td>...</td>\n",
       "      <td>w</td>\n",
       "      <td>w</td>\n",
       "      <td>p</td>\n",
       "      <td>w</td>\n",
       "      <td>o</td>\n",
       "      <td>e</td>\n",
       "      <td>w</td>\n",
       "      <td>v</td>\n",
       "      <td>l</td>\n",
       "      <td>p</td>\n",
       "    </tr>\n",
       "    <tr>\n",
       "      <th>8123</th>\n",
       "      <td>x</td>\n",
       "      <td>s</td>\n",
       "      <td>n</td>\n",
       "      <td>f</td>\n",
       "      <td>n</td>\n",
       "      <td>a</td>\n",
       "      <td>c</td>\n",
       "      <td>b</td>\n",
       "      <td>y</td>\n",
       "      <td>e</td>\n",
       "      <td>...</td>\n",
       "      <td>o</td>\n",
       "      <td>o</td>\n",
       "      <td>p</td>\n",
       "      <td>o</td>\n",
       "      <td>o</td>\n",
       "      <td>p</td>\n",
       "      <td>o</td>\n",
       "      <td>c</td>\n",
       "      <td>l</td>\n",
       "      <td>e</td>\n",
       "    </tr>\n",
       "  </tbody>\n",
       "</table>\n",
       "<p>8124 rows × 23 columns</p>\n",
       "</div>"
      ],
      "text/plain": [
       "     cap-shape cap-surface cap-color bruises? odor gill-attachment  \\\n",
       "0            x           s         n        t    p               f   \n",
       "1            x           s         y        t    a               f   \n",
       "2            b           s         w        t    l               f   \n",
       "3            x           y         w        t    p               f   \n",
       "4            x           s         g        f    n               f   \n",
       "...        ...         ...       ...      ...  ...             ...   \n",
       "8119         k           s         n        f    n               a   \n",
       "8120         x           s         n        f    n               a   \n",
       "8121         f           s         n        f    n               a   \n",
       "8122         k           y         n        f    y               f   \n",
       "8123         x           s         n        f    n               a   \n",
       "\n",
       "     gill-spacing gill-size gill-color stalk-shape  ...  \\\n",
       "0               c         n          k           e  ...   \n",
       "1               c         b          k           e  ...   \n",
       "2               c         b          n           e  ...   \n",
       "3               c         n          n           e  ...   \n",
       "4               w         b          k           t  ...   \n",
       "...           ...       ...        ...         ...  ...   \n",
       "8119            c         b          y           e  ...   \n",
       "8120            c         b          y           e  ...   \n",
       "8121            c         b          n           e  ...   \n",
       "8122            c         n          b           t  ...   \n",
       "8123            c         b          y           e  ...   \n",
       "\n",
       "     stalk-color-above-ring stalk-color-below-ring veil-type veil-color  \\\n",
       "0                         w                      w         p          w   \n",
       "1                         w                      w         p          w   \n",
       "2                         w                      w         p          w   \n",
       "3                         w                      w         p          w   \n",
       "4                         w                      w         p          w   \n",
       "...                     ...                    ...       ...        ...   \n",
       "8119                      o                      o         p          o   \n",
       "8120                      o                      o         p          n   \n",
       "8121                      o                      o         p          o   \n",
       "8122                      w                      w         p          w   \n",
       "8123                      o                      o         p          o   \n",
       "\n",
       "     ring-number ring-type spore-print-color population habitat class  \n",
       "0              o         p                 k          s       u     p  \n",
       "1              o         p                 n          n       g     e  \n",
       "2              o         p                 n          n       m     e  \n",
       "3              o         p                 k          s       u     p  \n",
       "4              o         e                 n          a       g     e  \n",
       "...          ...       ...               ...        ...     ...   ...  \n",
       "8119           o         p                 b          c       l     e  \n",
       "8120           o         p                 b          v       l     e  \n",
       "8121           o         p                 b          c       l     e  \n",
       "8122           o         e                 w          v       l     p  \n",
       "8123           o         p                 o          c       l     e  \n",
       "\n",
       "[8124 rows x 23 columns]"
      ]
     },
     "execution_count": 65,
     "metadata": {},
     "output_type": "execute_result"
    }
   ],
   "source": [
    "train"
   ]
  },
  {
   "cell_type": "code",
   "execution_count": 66,
   "metadata": {},
   "outputs": [
    {
     "name": "stdout",
     "output_type": "stream",
     "text": [
      "Rules original\n",
      "IF odor = {f} THEN class = {p} (p = 2160.0, n = 0.0, P = 3916.0, N = 4208.0, weight = 1.0, pvalue = 0.0)\n",
      "IF gill-color = {b} THEN class = {p} (p = 1728.0, n = 0.0, P = 3916.0, N = 4208.0, weight = 1.0, pvalue = 0.0)\n",
      "IF odor = {p} THEN class = {p} (p = 256.0, n = 0.0, P = 3916.0, N = 4208.0, weight = 1.0, pvalue = 8.488489938344628e-84)\n",
      "IF odor = {c} THEN class = {p} (p = 192.0, n = 0.0, P = 3916.0, N = 4208.0, weight = 1.0, pvalue = 1.1762049276390926e-62)\n",
      "IF spore-print-color = {r} THEN class = {p} (p = 72.0, n = 0.0, P = 3916.0, N = 4208.0, weight = 1.0, pvalue = 1.0791281224127857e-23)\n",
      "IF odor = {m} THEN class = {p} (p = 36.0, n = 0.0, P = 3916.0, N = 4208.0, weight = 1.0, pvalue = 3.583164811701358e-12)\n",
      "IF stalk-color-below-ring = {y} THEN class = {p} (p = 24.0, n = 0.0, P = 3916.0, N = 4208.0, weight = 1.0, pvalue = 2.3869571934119588e-08)\n",
      "IF stalk-surface-above-ring = {k} AND gill-spacing = {c} THEN class = {p} (p = 2228.0, n = 0.0, P = 3916.0, N = 4208.0, weight = 1.0, pvalue = 0.0)\n",
      "IF gill-size = {n} AND population = {c} THEN class = {p} (p = 16.0, n = 0.0, P = 3916.0, N = 4208.0, weight = 1.0, pvalue = 8.36098531461693e-06)\n",
      "IF stalk-color-above-ring = {g} THEN class = {e} (p = 576.0, n = 0.0, P = 4208.0, N = 3916.0, weight = 1.0, pvalue = 3.8133874998272253e-174)\n",
      "IF stalk-color-below-ring = {g} THEN class = {e} (p = 576.0, n = 0.0, P = 4208.0, N = 3916.0, weight = 1.0, pvalue = 3.8133874998272253e-174)\n",
      "IF odor = {a} THEN class = {e} (p = 400.0, n = 0.0, P = 4208.0, N = 3916.0, weight = 1.0, pvalue = 3.550778114829302e-119)\n",
      "IF odor = {l} THEN class = {e} (p = 400.0, n = 0.0, P = 4208.0, N = 3916.0, weight = 1.0, pvalue = 3.550778114829302e-119)\n",
      "IF population = {n} THEN class = {e} (p = 400.0, n = 0.0, P = 4208.0, N = 3916.0, weight = 1.0, pvalue = 3.550778114829302e-119)\n",
      "IF population = {a} THEN class = {e} (p = 384.0, n = 0.0, P = 4208.0, N = 3916.0, weight = 1.0, pvalue = 2.8628721896327405e-114)\n",
      "IF habitat = {w} THEN class = {e} (p = 192.0, n = 0.0, P = 4208.0, N = 3916.0, weight = 1.0, pvalue = 1.6328299334588307e-56)\n",
      "IF stalk-color-above-ring = {o} THEN class = {e} (p = 192.0, n = 0.0, P = 4208.0, N = 3916.0, weight = 1.0, pvalue = 1.6328299334588307e-56)\n",
      "IF ring-type = {f} THEN class = {e} (p = 48.0, n = 0.0, P = 4208.0, N = 3916.0, weight = 1.0, pvalue = 1.6991825660361697e-14)\n",
      "IF cap-shape = {s} THEN class = {e} (p = 32.0, n = 0.0, P = 4208.0, N = 3916.0, weight = 1.0, pvalue = 6.80795874586065e-10)\n",
      "IF stalk-shape = {t} AND odor = {n} THEN class = {e} (p = 2496.0, n = 0.0, P = 4208.0, N = 3916.0, weight = 1.0, pvalue = 0.0)\n",
      "IF spore-print-color = {n} AND odor = {n} THEN class = {e} (p = 1344.0, n = 0.0, P = 4208.0, N = 3916.0, weight = 1.0, pvalue = 0.0)\n",
      "IF spore-print-color = {k} AND odor = {n} THEN class = {e} (p = 1296.0, n = 0.0, P = 4208.0, N = 3916.0, weight = 1.0, pvalue = 0.0)\n",
      "IF odor = {n} AND cap-color = {g} THEN class = {e} (p = 1032.0, n = 0.0, P = 4208.0, N = 3916.0, weight = 1.0, pvalue = 0.0)\n",
      "IF odor = {n} AND population = {y} THEN class = {e} (p = 968.0, n = 0.0, P = 4208.0, N = 3916.0, weight = 1.0, pvalue = 1.0572189711445907e-303)\n",
      "IF gill-color = {p} AND odor = {n} THEN class = {e} (p = 756.0, n = 0.0, P = 4208.0, N = 3916.0, weight = 1.0, pvalue = 2.362124819002773e-232)\n",
      "IF odor = {n} AND population = {s} THEN class = {e} (p = 528.0, n = 0.0, P = 4208.0, N = 3916.0, weight = 1.0, pvalue = 5.72484161141898e-159)\n",
      "IF stalk-surface-below-ring = {f} AND odor = {n} THEN class = {e} (p = 456.0, n = 0.0, P = 4208.0, N = 3916.0, weight = 1.0, pvalue = 1.8217514678835427e-136)\n",
      "IF odor = {n} AND stalk-surface-above-ring = {f} THEN class = {e} (p = 408.0, n = 0.0, P = 4208.0, N = 3916.0, weight = 1.0, pvalue = 1.2346400091619822e-121)\n",
      "IF habitat = {p} AND odor = {n} THEN class = {e} (p = 40.0, n = 0.0, P = 4208.0, N = 3916.0, weight = 1.0, pvalue = 3.413841669531174e-12)\n",
      "IF odor = {n} AND cap-color = {c} THEN class = {e} (p = 32.0, n = 0.0, P = 4208.0, N = 3916.0, weight = 1.0, pvalue = 6.80795874586065e-10)\n",
      "IF odor = {n} AND cap-color = {n} AND stalk-surface-above-ring = {s} THEN class = {e} (p = 1012.0, n = 0.0, P = 4208.0, N = 3916.0, weight = 1.0, pvalue = 6.4984e-319)\n",
      "\n",
      "\n",
      "Complex rules\n",
      "IF odor = {f, y, s} THEN class = {p} (p = 3312.0, n = 0.0, P = 3916.0, N = 4208.0, weight = 1.0, pvalue = 0.0)\n",
      "IF odor = {p, f, y} THEN class = {p} (p = 2992.0, n = 0.0, P = 3916.0, N = 4208.0, weight = 1.0, pvalue = 0.0)\n",
      "IF odor = {f, c, y} THEN class = {p} (p = 2928.0, n = 0.0, P = 3916.0, N = 4208.0, weight = 1.0, pvalue = 0.0)\n",
      "IF odor = {f, m, y} THEN class = {p} (p = 2772.0, n = 0.0, P = 3916.0, N = 4208.0, weight = 1.0, pvalue = 0.0)\n",
      "IF gill-color = {b, r} THEN class = {p} (p = 1752.0, n = 0.0, P = 3916.0, N = 4208.0, weight = 1.0, pvalue = 0.0)\n",
      "IF stalk-color-below-ring = {c, b, y} THEN class = {p} (p = 492.0, n = 0.0, P = 3916.0, N = 4208.0, weight = 1.0, pvalue = 4.668134936754393e-164)\n",
      "IF spore-print-color = {r} THEN class = {p} (p = 72.0, n = 0.0, P = 3916.0, N = 4208.0, weight = 1.0, pvalue = 1.0791281224127857e-23)\n",
      "IF stalk-surface-above-ring = {k} AND gill-spacing != {w} THEN class = {p} (p = 2228.0, n = 0.0, P = 3916.0, N = 4208.0, weight = 1.0, pvalue = 0.0)\n",
      "IF gill-size != {b} AND population = {s, c} THEN class = {p} (p = 240.0, n = 0.0, P = 3916.0, N = 4208.0, weight = 1.0, pvalue = 1.7312141657764283e-78)\n",
      "IF stalk-color-above-ring = {g, e, o} THEN class = {e} (p = 864.0, n = 0.0, P = 4208.0, N = 3916.0, weight = 1.0, pvalue = 2.62324763542763e-268)\n",
      "IF stalk-color-below-ring = {g, e, o} THEN class = {e} (p = 864.0, n = 0.0, P = 4208.0, N = 3916.0, weight = 1.0, pvalue = 2.62324763542763e-268)\n",
      "IF odor = {a, l} THEN class = {e} (p = 800.0, n = 0.0, P = 4208.0, N = 3916.0, weight = 1.0, pvalue = 6.628051338595938e-247)\n",
      "IF population = {n, a} THEN class = {e} (p = 784.0, n = 0.0, P = 4208.0, N = 3916.0, weight = 1.0, pvalue = 1.3431396230882748e-241)\n",
      "IF habitat = {w} THEN class = {e} (p = 192.0, n = 0.0, P = 4208.0, N = 3916.0, weight = 1.0, pvalue = 1.6328299334588307e-56)\n",
      "IF ring-type = {f} THEN class = {e} (p = 48.0, n = 0.0, P = 4208.0, N = 3916.0, weight = 1.0, pvalue = 1.6991825660361697e-14)\n",
      "IF cap-shape = {s} THEN class = {e} (p = 32.0, n = 0.0, P = 4208.0, N = 3916.0, weight = 1.0, pvalue = 6.80795874586065e-10)\n",
      "IF spore-print-color = {k, n, u} AND odor = {a, l, n} THEN class = {e} (p = 3440.0, n = 0.0, P = 4208.0, N = 3916.0, weight = 1.0, pvalue = 0.0)\n",
      "IF odor = {a, l, n} AND population = {s, n, y} THEN class = {e} (p = 2344.0, n = 0.0, P = 4208.0, N = 3916.0, weight = 1.0, pvalue = 0.0)\n",
      "IF odor = {a, l, n} AND cap-color = {e, c, g} THEN class = {e} (p = 1688.0, n = 0.0, P = 4208.0, N = 3916.0, weight = 1.0, pvalue = 0.0)\n",
      "IF stalk-surface-below-ring = {f, k} AND odor = {a, l, n} THEN class = {e} (p = 600.0, n = 0.0, P = 4208.0, N = 3916.0, weight = 1.0, pvalue = 8.702993200748013e-182)\n",
      "IF habitat = {u, p, w} AND odor = {a, l, n} THEN class = {e} (p = 424.0, n = 0.0, P = 4208.0, N = 3916.0, weight = 1.0, pvalue = 1.454882296404022e-126)\n",
      "IF odor = {a, l, n} AND stalk-surface-above-ring = {f} THEN class = {e} (p = 408.0, n = 0.0, P = 4208.0, N = 3916.0, weight = 1.0, pvalue = 1.2346400091619822e-121)\n",
      "IF odor = {a, l, n} AND cap-color = {n, e, g} AND stalk-surface-above-ring != {k} THEN class = {e} (p = 2848.0, n = 0.0, P = 4208.0, N = 3916.0, weight = 1.0, pvalue = 0.0)\n",
      "\n",
      "\n",
      "Complex rules + inners alternatives\n",
      "IF odor = {f, y, s} THEN class = {p} (p = 3312.0, n = 0.0, P = 3916.0, N = 4208.0, weight = 1.0, pvalue = 0.0)\n",
      "IF odor = {p, f, y} THEN class = {p} (p = 2992.0, n = 0.0, P = 3916.0, N = 4208.0, weight = 1.0, pvalue = 0.0)\n",
      "IF odor = {f, c, y} THEN class = {p} (p = 2928.0, n = 0.0, P = 3916.0, N = 4208.0, weight = 1.0, pvalue = 0.0)\n",
      "IF odor = {f, m, y} THEN class = {p} (p = 2772.0, n = 0.0, P = 3916.0, N = 4208.0, weight = 1.0, pvalue = 0.0)\n",
      "IF gill-color = {b, r} THEN class = {p} (p = 1752.0, n = 0.0, P = 3916.0, N = 4208.0, weight = 1.0, pvalue = 0.0)\n",
      "IF stalk-color-below-ring = {c, b, y} THEN class = {p} (p = 492.0, n = 0.0, P = 3916.0, N = 4208.0, weight = 1.0, pvalue = 4.668134936754393e-164)\n",
      "IF spore-print-color = {r} THEN class = {p} (p = 72.0, n = 0.0, P = 3916.0, N = 4208.0, weight = 1.0, pvalue = 1.0791281224127857e-23)\n",
      "IF stalk-surface-above-ring = {k} AND gill-spacing != {w} THEN class = {p} (p = 2228.0, n = 0.0, P = 3916.0, N = 4208.0, weight = 1.0, pvalue = 0.0)\n",
      "IF gill-size != {b} AND population = {s, c} THEN class = {p} (p = 240.0, n = 0.0, P = 3916.0, N = 4208.0, weight = 1.0, pvalue = 1.7312141657764283e-78)\n",
      "IF stalk-color-above-ring = {g, e, o} THEN class = {e} (p = 864.0, n = 0.0, P = 4208.0, N = 3916.0, weight = 1.0, pvalue = 2.62324763542763e-268)\n",
      "IF stalk-color-below-ring = {g, e, o} THEN class = {e} (p = 864.0, n = 0.0, P = 4208.0, N = 3916.0, weight = 1.0, pvalue = 2.62324763542763e-268)\n",
      "IF odor = {a, l} THEN class = {e} (p = 800.0, n = 0.0, P = 4208.0, N = 3916.0, weight = 1.0, pvalue = 6.628051338595938e-247)\n",
      "IF population = {n, a} THEN class = {e} (p = 784.0, n = 0.0, P = 4208.0, N = 3916.0, weight = 1.0, pvalue = 1.3431396230882748e-241)\n",
      "IF habitat = {w} THEN class = {e} (p = 192.0, n = 0.0, P = 4208.0, N = 3916.0, weight = 1.0, pvalue = 1.6328299334588307e-56)\n",
      "IF ring-type = {f} THEN class = {e} (p = 48.0, n = 0.0, P = 4208.0, N = 3916.0, weight = 1.0, pvalue = 1.6991825660361697e-14)\n",
      "IF cap-shape = {s} THEN class = {e} (p = 32.0, n = 0.0, P = 4208.0, N = 3916.0, weight = 1.0, pvalue = 6.80795874586065e-10)\n",
      "IF spore-print-color = {k, n, u} AND odor = {a, l, n} THEN class = {e} (p = 3440.0, n = 0.0, P = 4208.0, N = 3916.0, weight = 1.0, pvalue = 0.0)\n",
      "IF odor = {a, l, n} AND population = {s, n, y} THEN class = {e} (p = 2344.0, n = 0.0, P = 4208.0, N = 3916.0, weight = 1.0, pvalue = 0.0)\n",
      "IF odor = {a, l, n} AND cap-color = {e, c, g} THEN class = {e} (p = 1688.0, n = 0.0, P = 4208.0, N = 3916.0, weight = 1.0, pvalue = 0.0)\n",
      "IF stalk-surface-below-ring = {f, k} AND odor = {a, l, n} THEN class = {e} (p = 600.0, n = 0.0, P = 4208.0, N = 3916.0, weight = 1.0, pvalue = 8.702993200748013e-182)\n",
      "IF habitat = {u, p, w} AND odor = {a, l, n} THEN class = {e} (p = 424.0, n = 0.0, P = 4208.0, N = 3916.0, weight = 1.0, pvalue = 1.454882296404022e-126)\n",
      "IF odor = {a, l, n} AND stalk-surface-above-ring = {f} THEN class = {e} (p = 408.0, n = 0.0, P = 4208.0, N = 3916.0, weight = 1.0, pvalue = 1.2346400091619822e-121)\n",
      "IF odor = {a, l, n} AND cap-color = {n, e, g} AND stalk-surface-above-ring != {k} THEN class = {e} (p = 2848.0, n = 0.0, P = 4208.0, N = 3916.0, weight = 1.0, pvalue = 0.0)\n"
     ]
    }
   ],
   "source": [
    "X = train.drop(['class'], axis=1)\n",
    "y = train['class']\n",
    "\n",
    "clf_simple.fit(X, y)\n",
    "\n",
    "print(\"Rules original\")\n",
    "for rule in clf_simple.model.rules:\n",
    "    print(rule, rule.stats)\n",
    "\n",
    "print(\"\\n\\nComplex rules\")\n",
    "clf_complex.fit(X, y)\n",
    "for rule in clf_complex.model.rules:\n",
    "    print(rule, rule.stats)\n",
    "\n",
    "print(\"\\n\\nComplex rules + inners alternatives\")\n",
    "clf_complex_with_inners.fit(X, y)\n",
    "for rule in clf_complex_with_inners.model.rules:\n",
    "    print(rule, rule.stats)"
   ]
  },
  {
   "attachments": {},
   "cell_type": "markdown",
   "metadata": {},
   "source": [
    "# tic-tac-toe"
   ]
  },
  {
   "cell_type": "code",
   "execution_count": 67,
   "metadata": {},
   "outputs": [],
   "source": [
    "train = pd.read_parquet(\"./data/tic-tac-toe.parquet\")"
   ]
  },
  {
   "cell_type": "code",
   "execution_count": 68,
   "metadata": {},
   "outputs": [
    {
     "data": {
      "text/html": [
       "<div>\n",
       "<style scoped>\n",
       "    .dataframe tbody tr th:only-of-type {\n",
       "        vertical-align: middle;\n",
       "    }\n",
       "\n",
       "    .dataframe tbody tr th {\n",
       "        vertical-align: top;\n",
       "    }\n",
       "\n",
       "    .dataframe thead th {\n",
       "        text-align: right;\n",
       "    }\n",
       "</style>\n",
       "<table border=\"1\" class=\"dataframe\">\n",
       "  <thead>\n",
       "    <tr style=\"text-align: right;\">\n",
       "      <th></th>\n",
       "      <th>top-left-square</th>\n",
       "      <th>top-middle-square</th>\n",
       "      <th>top-right-square</th>\n",
       "      <th>middle-left-square</th>\n",
       "      <th>middle-middle-square</th>\n",
       "      <th>middle-right-square</th>\n",
       "      <th>bottom-left-square</th>\n",
       "      <th>bottom-middle-square</th>\n",
       "      <th>bottom-right-square</th>\n",
       "      <th>class</th>\n",
       "    </tr>\n",
       "  </thead>\n",
       "  <tbody>\n",
       "    <tr>\n",
       "      <th>0</th>\n",
       "      <td>x</td>\n",
       "      <td>x</td>\n",
       "      <td>x</td>\n",
       "      <td>x</td>\n",
       "      <td>o</td>\n",
       "      <td>o</td>\n",
       "      <td>x</td>\n",
       "      <td>o</td>\n",
       "      <td>o</td>\n",
       "      <td>positive</td>\n",
       "    </tr>\n",
       "    <tr>\n",
       "      <th>1</th>\n",
       "      <td>x</td>\n",
       "      <td>x</td>\n",
       "      <td>x</td>\n",
       "      <td>x</td>\n",
       "      <td>o</td>\n",
       "      <td>o</td>\n",
       "      <td>o</td>\n",
       "      <td>x</td>\n",
       "      <td>o</td>\n",
       "      <td>positive</td>\n",
       "    </tr>\n",
       "    <tr>\n",
       "      <th>2</th>\n",
       "      <td>x</td>\n",
       "      <td>x</td>\n",
       "      <td>x</td>\n",
       "      <td>x</td>\n",
       "      <td>o</td>\n",
       "      <td>o</td>\n",
       "      <td>o</td>\n",
       "      <td>o</td>\n",
       "      <td>x</td>\n",
       "      <td>positive</td>\n",
       "    </tr>\n",
       "    <tr>\n",
       "      <th>3</th>\n",
       "      <td>x</td>\n",
       "      <td>x</td>\n",
       "      <td>x</td>\n",
       "      <td>x</td>\n",
       "      <td>o</td>\n",
       "      <td>o</td>\n",
       "      <td>o</td>\n",
       "      <td>b</td>\n",
       "      <td>b</td>\n",
       "      <td>positive</td>\n",
       "    </tr>\n",
       "    <tr>\n",
       "      <th>4</th>\n",
       "      <td>x</td>\n",
       "      <td>x</td>\n",
       "      <td>x</td>\n",
       "      <td>x</td>\n",
       "      <td>o</td>\n",
       "      <td>o</td>\n",
       "      <td>b</td>\n",
       "      <td>o</td>\n",
       "      <td>b</td>\n",
       "      <td>positive</td>\n",
       "    </tr>\n",
       "    <tr>\n",
       "      <th>...</th>\n",
       "      <td>...</td>\n",
       "      <td>...</td>\n",
       "      <td>...</td>\n",
       "      <td>...</td>\n",
       "      <td>...</td>\n",
       "      <td>...</td>\n",
       "      <td>...</td>\n",
       "      <td>...</td>\n",
       "      <td>...</td>\n",
       "      <td>...</td>\n",
       "    </tr>\n",
       "    <tr>\n",
       "      <th>953</th>\n",
       "      <td>o</td>\n",
       "      <td>x</td>\n",
       "      <td>x</td>\n",
       "      <td>x</td>\n",
       "      <td>o</td>\n",
       "      <td>o</td>\n",
       "      <td>o</td>\n",
       "      <td>x</td>\n",
       "      <td>x</td>\n",
       "      <td>negative</td>\n",
       "    </tr>\n",
       "    <tr>\n",
       "      <th>954</th>\n",
       "      <td>o</td>\n",
       "      <td>x</td>\n",
       "      <td>o</td>\n",
       "      <td>x</td>\n",
       "      <td>x</td>\n",
       "      <td>o</td>\n",
       "      <td>x</td>\n",
       "      <td>o</td>\n",
       "      <td>x</td>\n",
       "      <td>negative</td>\n",
       "    </tr>\n",
       "    <tr>\n",
       "      <th>955</th>\n",
       "      <td>o</td>\n",
       "      <td>x</td>\n",
       "      <td>o</td>\n",
       "      <td>x</td>\n",
       "      <td>o</td>\n",
       "      <td>x</td>\n",
       "      <td>x</td>\n",
       "      <td>o</td>\n",
       "      <td>x</td>\n",
       "      <td>negative</td>\n",
       "    </tr>\n",
       "    <tr>\n",
       "      <th>956</th>\n",
       "      <td>o</td>\n",
       "      <td>x</td>\n",
       "      <td>o</td>\n",
       "      <td>o</td>\n",
       "      <td>x</td>\n",
       "      <td>x</td>\n",
       "      <td>x</td>\n",
       "      <td>o</td>\n",
       "      <td>x</td>\n",
       "      <td>negative</td>\n",
       "    </tr>\n",
       "    <tr>\n",
       "      <th>957</th>\n",
       "      <td>o</td>\n",
       "      <td>o</td>\n",
       "      <td>x</td>\n",
       "      <td>x</td>\n",
       "      <td>x</td>\n",
       "      <td>o</td>\n",
       "      <td>o</td>\n",
       "      <td>x</td>\n",
       "      <td>x</td>\n",
       "      <td>negative</td>\n",
       "    </tr>\n",
       "  </tbody>\n",
       "</table>\n",
       "<p>958 rows × 10 columns</p>\n",
       "</div>"
      ],
      "text/plain": [
       "    top-left-square top-middle-square top-right-square middle-left-square  \\\n",
       "0                 x                 x                x                  x   \n",
       "1                 x                 x                x                  x   \n",
       "2                 x                 x                x                  x   \n",
       "3                 x                 x                x                  x   \n",
       "4                 x                 x                x                  x   \n",
       "..              ...               ...              ...                ...   \n",
       "953               o                 x                x                  x   \n",
       "954               o                 x                o                  x   \n",
       "955               o                 x                o                  x   \n",
       "956               o                 x                o                  o   \n",
       "957               o                 o                x                  x   \n",
       "\n",
       "    middle-middle-square middle-right-square bottom-left-square  \\\n",
       "0                      o                   o                  x   \n",
       "1                      o                   o                  o   \n",
       "2                      o                   o                  o   \n",
       "3                      o                   o                  o   \n",
       "4                      o                   o                  b   \n",
       "..                   ...                 ...                ...   \n",
       "953                    o                   o                  o   \n",
       "954                    x                   o                  x   \n",
       "955                    o                   x                  x   \n",
       "956                    x                   x                  x   \n",
       "957                    x                   o                  o   \n",
       "\n",
       "    bottom-middle-square bottom-right-square     class  \n",
       "0                      o                   o  positive  \n",
       "1                      x                   o  positive  \n",
       "2                      o                   x  positive  \n",
       "3                      b                   b  positive  \n",
       "4                      o                   b  positive  \n",
       "..                   ...                 ...       ...  \n",
       "953                    x                   x  negative  \n",
       "954                    o                   x  negative  \n",
       "955                    o                   x  negative  \n",
       "956                    o                   x  negative  \n",
       "957                    x                   x  negative  \n",
       "\n",
       "[958 rows x 10 columns]"
      ]
     },
     "execution_count": 68,
     "metadata": {},
     "output_type": "execute_result"
    }
   ],
   "source": [
    "train"
   ]
  },
  {
   "cell_type": "code",
   "execution_count": 69,
   "metadata": {},
   "outputs": [
    {
     "name": "stdout",
     "output_type": "stream",
     "text": [
      "Rules original\n",
      "IF middle-middle-square = {x} AND bottom-left-square = {b} AND top-right-square = {b} THEN class = {positive} (p = 30.0, n = 0.0, P = 626.0, N = 332.0, weight = 1.0, pvalue = 2.232953092174273e-06)\n",
      "IF middle-middle-square = {x} AND bottom-left-square = {b} AND top-right-square = {x} THEN class = {positive} (p = 20.0, n = 0.0, P = 626.0, N = 332.0, weight = 1.0, pvalue = 0.00018100703894850716)\n",
      "IF middle-middle-square = {x} AND bottom-middle-square = {o} AND bottom-right-square = {x} AND bottom-left-square = {b} THEN class = {positive} (p = 22.0, n = 0.0, P = 626.0, N = 332.0, weight = 1.0, pvalue = 7.550592519529088e-05)\n",
      "IF middle-middle-square = {x} AND bottom-middle-square = {o} AND bottom-left-square = {b} AND middle-right-square = {x} THEN class = {positive} (p = 22.0, n = 0.0, P = 626.0, N = 332.0, weight = 1.0, pvalue = 7.550592519529088e-05)\n",
      "IF middle-middle-square = {x} AND top-left-square = {x} AND middle-left-square = {o} AND bottom-left-square = {b} THEN class = {positive} (p = 22.0, n = 0.0, P = 626.0, N = 332.0, weight = 1.0, pvalue = 7.550592519529088e-05)\n",
      "IF middle-middle-square = {x} AND top-middle-square = {x} AND middle-left-square = {o} AND bottom-left-square = {b} THEN class = {positive} (p = 22.0, n = 0.0, P = 626.0, N = 332.0, weight = 1.0, pvalue = 7.550592519529088e-05)\n",
      "IF middle-middle-square = {x} AND middle-left-square = {x} AND middle-right-square = {x} THEN class = {positive} (p = 78.0, n = 0.0, P = 626.0, N = 332.0, weight = 1.0, pvalue = 6.468907239907097e-16)\n",
      "IF middle-middle-square = {x} AND top-middle-square = {x} AND bottom-middle-square = {x} THEN class = {positive} (p = 78.0, n = 0.0, P = 626.0, N = 332.0, weight = 1.0, pvalue = 6.468907239907097e-16)\n",
      "IF middle-middle-square = {x} AND top-left-square = {b} AND bottom-right-square = {b} THEN class = {positive} (p = 30.0, n = 0.0, P = 626.0, N = 332.0, weight = 1.0, pvalue = 2.232953092174273e-06)\n",
      "IF middle-middle-square = {x} AND top-left-square = {x} AND bottom-right-square = {b} THEN class = {positive} (p = 20.0, n = 0.0, P = 626.0, N = 332.0, weight = 1.0, pvalue = 0.00018100703894850716)\n",
      "IF middle-middle-square = {x} AND bottom-right-square = {b} AND bottom-middle-square = {o} AND bottom-left-square = {x} THEN class = {positive} (p = 22.0, n = 0.0, P = 626.0, N = 332.0, weight = 1.0, pvalue = 7.550592519529088e-05)\n",
      "IF middle-middle-square = {x} AND bottom-right-square = {b} AND middle-right-square = {o} AND top-right-square = {x} THEN class = {positive} (p = 22.0, n = 0.0, P = 626.0, N = 332.0, weight = 1.0, pvalue = 7.550592519529088e-05)\n",
      "IF middle-middle-square = {x} AND top-left-square = {b} AND bottom-right-square = {x} THEN class = {positive} (p = 20.0, n = 0.0, P = 626.0, N = 332.0, weight = 1.0, pvalue = 0.00018100703894850716)\n",
      "IF middle-middle-square = {x} AND top-left-square = {b} AND middle-left-square = {o} AND bottom-left-square = {x} THEN class = {positive} (p = 22.0, n = 0.0, P = 626.0, N = 332.0, weight = 1.0, pvalue = 7.550592519529088e-05)\n",
      "IF middle-middle-square = {x} AND top-left-square = {b} AND top-middle-square = {o} AND top-right-square = {x} THEN class = {positive} (p = 22.0, n = 0.0, P = 626.0, N = 332.0, weight = 1.0, pvalue = 7.550592519529088e-05)\n",
      "IF middle-middle-square = {x} AND bottom-left-square = {x} AND top-right-square = {b} THEN class = {positive} (p = 20.0, n = 0.0, P = 626.0, N = 332.0, weight = 1.0, pvalue = 0.00018100703894850716)\n",
      "IF middle-middle-square = {x} AND bottom-right-square = {x} AND middle-right-square = {o} AND top-right-square = {b} THEN class = {positive} (p = 22.0, n = 0.0, P = 626.0, N = 332.0, weight = 1.0, pvalue = 7.550592519529088e-05)\n",
      "IF middle-middle-square = {x} AND top-left-square = {x} AND top-middle-square = {o} AND top-right-square = {b} THEN class = {positive} (p = 22.0, n = 0.0, P = 626.0, N = 332.0, weight = 1.0, pvalue = 7.550592519529088e-05)\n",
      "IF middle-middle-square = {x} AND bottom-left-square = {x} AND top-right-square = {x} THEN class = {positive} (p = 90.0, n = 0.0, P = 626.0, N = 332.0, weight = 1.0, pvalue = 2.1010924382106886e-18)\n",
      "IF middle-middle-square = {x} AND top-left-square = {x} AND bottom-right-square = {x} THEN class = {positive} (p = 90.0, n = 0.0, P = 626.0, N = 332.0, weight = 1.0, pvalue = 2.1010924382106886e-18)\n",
      "IF middle-middle-square = {x} THEN class = {positive} (p = 366.0, n = 92.0, P = 626.0, N = 332.0, weight = 0.7991266375545851, pvalue = 3.658102739045527e-20)\n",
      "IF middle-middle-square = {b} AND bottom-left-square = {x} AND top-right-square = {b} THEN class = {positive} (p = 20.0, n = 0.0, P = 626.0, N = 332.0, weight = 1.0, pvalue = 0.00018100703894850716)\n",
      "IF middle-middle-square = {b} AND bottom-left-square = {x} AND top-right-square = {x} THEN class = {positive} (p = 16.0, n = 0.0, P = 626.0, N = 332.0, weight = 1.0, pvalue = 0.00103297554023323)\n",
      "IF middle-middle-square = {b} AND top-left-square = {x} AND bottom-middle-square = {o} AND bottom-left-square = {x} THEN class = {positive} (p = 19.0, n = 0.0, P = 626.0, N = 332.0, weight = 1.0, pvalue = 0.00028000924147060334)\n",
      "IF middle-middle-square = {b} AND bottom-right-square = {x} AND middle-left-square = {o} AND bottom-left-square = {x} THEN class = {positive} (p = 19.0, n = 0.0, P = 626.0, N = 332.0, weight = 1.0, pvalue = 0.00028000924147060334)\n",
      "IF bottom-right-square = {x} AND bottom-middle-square = {x} AND bottom-left-square = {x} THEN class = {positive} (p = 78.0, n = 0.0, P = 626.0, N = 332.0, weight = 1.0, pvalue = 6.468907239907097e-16)\n",
      "IF top-left-square = {x} AND middle-left-square = {x} AND bottom-left-square = {x} THEN class = {positive} (p = 78.0, n = 0.0, P = 626.0, N = 332.0, weight = 1.0, pvalue = 6.468907239907097e-16)\n",
      "IF bottom-right-square = {x} AND middle-right-square = {x} AND top-right-square = {x} THEN class = {positive} (p = 78.0, n = 0.0, P = 626.0, N = 332.0, weight = 1.0, pvalue = 6.468907239907097e-16)\n",
      "IF top-left-square = {x} AND top-middle-square = {x} AND top-right-square = {x} THEN class = {positive} (p = 78.0, n = 0.0, P = 626.0, N = 332.0, weight = 1.0, pvalue = 6.468907239907097e-16)\n",
      "IF middle-middle-square = {o} AND bottom-left-square = {o} AND top-right-square = {o} THEN class = {negative} (p = 50.0, n = 0.0, P = 332.0, N = 626.0, weight = 1.0, pvalue = 7.331205837871162e-25)\n",
      "IF middle-middle-square = {o} AND bottom-left-square = {o} AND top-right-square = {b} THEN class = {negative} (p = 5.0, n = 0.0, P = 332.0, N = 626.0, weight = 1.0, pvalue = 0.004900751410696514)\n",
      "IF middle-middle-square = {o} AND bottom-middle-square = {x} AND middle-left-square = {x} AND bottom-left-square = {o} THEN class = {negative} (p = 22.0, n = 2.0, P = 332.0, N = 626.0, weight = 0.9166666666666666, pvalue = 6.047497419898437e-09)\n",
      "IF middle-middle-square = {o} AND bottom-middle-square = {x} AND bottom-left-square = {o} THEN class = {negative} (p = 43.0, n = 10.0, P = 332.0, N = 626.0, weight = 0.8113207547169812, pvalue = 1.17595235275647e-12)\n",
      "IF middle-middle-square = {o} AND middle-left-square = {x} AND bottom-left-square = {o} THEN class = {negative} (p = 43.0, n = 10.0, P = 332.0, N = 626.0, weight = 0.8113207547169812, pvalue = 1.17595235275647e-12)\n",
      "IF middle-middle-square = {o} AND top-left-square = {o} AND bottom-right-square = {o} THEN class = {negative} (p = 50.0, n = 0.0, P = 332.0, N = 626.0, weight = 1.0, pvalue = 7.331205837871162e-25)\n",
      "IF middle-middle-square = {o} AND top-middle-square = {x} AND bottom-right-square = {o} AND bottom-middle-square = {x} AND bottom-left-square = {x} THEN class = {negative} (p = 12.0, n = 0.0, P = 332.0, N = 626.0, weight = 1.0, pvalue = 2.630033763947565e-06)\n",
      "IF middle-middle-square = {o} AND bottom-right-square = {o} THEN class = {negative} (p = 70.0, n = 33.0, P = 332.0, N = 626.0, weight = 0.6796116504854369, pvalue = 2.8528200363000807e-13)\n",
      "IF middle-middle-square = {o} AND top-left-square = {o} AND middle-left-square = {x} AND bottom-left-square = {x} AND middle-right-square = {x} THEN class = {negative} (p = 12.0, n = 0.0, P = 332.0, N = 626.0, weight = 1.0, pvalue = 2.630033763947565e-06)\n",
      "IF middle-middle-square = {o} AND top-left-square = {o} THEN class = {negative} (p = 70.0, n = 33.0, P = 332.0, N = 626.0, weight = 0.6796116504854369, pvalue = 2.8528200363000807e-13)\n",
      "IF middle-middle-square = {o} AND top-left-square = {x} AND bottom-right-square = {x} AND top-right-square = {o} THEN class = {negative} (p = 21.0, n = 9.0, P = 332.0, N = 626.0, weight = 0.7, pvalue = 6.567032020332016e-05)\n",
      "IF middle-middle-square = {o} AND middle-left-square = {o} AND middle-right-square = {o} THEN class = {negative} (p = 36.0, n = 0.0, P = 332.0, N = 626.0, weight = 1.0, pvalue = 7.342482835464128e-18)\n",
      "IF middle-middle-square = {o} AND top-middle-square = {o} AND bottom-middle-square = {o} THEN class = {negative} (p = 36.0, n = 0.0, P = 332.0, N = 626.0, weight = 1.0, pvalue = 7.342482835464128e-18)\n",
      "IF bottom-right-square = {o} AND bottom-middle-square = {o} AND bottom-left-square = {o} THEN class = {negative} (p = 36.0, n = 0.0, P = 332.0, N = 626.0, weight = 1.0, pvalue = 7.342482835464128e-18)\n",
      "IF top-left-square = {x} AND bottom-right-square = {o} AND bottom-left-square = {o} THEN class = {negative} (p = 31.0, n = 20.0, P = 332.0, N = 626.0, weight = 0.6078431372549019, pvalue = 8.10395667152605e-05)\n",
      "IF top-left-square = {o} AND middle-left-square = {o} AND bottom-left-square = {o} THEN class = {negative} (p = 36.0, n = 0.0, P = 332.0, N = 626.0, weight = 1.0, pvalue = 7.342482835464128e-18)\n",
      "IF top-left-square = {o} AND bottom-right-square = {x} AND bottom-left-square = {o} THEN class = {negative} (p = 31.0, n = 20.0, P = 332.0, N = 626.0, weight = 0.6078431372549019, pvalue = 8.10395667152605e-05)\n",
      "IF bottom-right-square = {o} AND middle-right-square = {o} AND top-right-square = {o} THEN class = {negative} (p = 36.0, n = 0.0, P = 332.0, N = 626.0, weight = 1.0, pvalue = 7.342482835464128e-18)\n",
      "IF bottom-right-square = {o} AND bottom-left-square = {x} AND top-right-square = {o} THEN class = {negative} (p = 31.0, n = 20.0, P = 332.0, N = 626.0, weight = 0.6078431372549019, pvalue = 8.10395667152605e-05)\n",
      "IF top-left-square = {o} AND top-middle-square = {o} AND top-right-square = {o} THEN class = {negative} (p = 36.0, n = 0.0, P = 332.0, N = 626.0, weight = 1.0, pvalue = 7.342482835464128e-18)\n",
      "\n",
      "\n",
      "Complex rules\n",
      "IF middle-middle-square = bottom-left-square = top-right-square AND middle-middle-square = {x} THEN class = {positive} (p = 90.0, n = 0.0, P = 626.0, N = 332.0, weight = 1.0, pvalue = 2.1010924382106886e-18)\n",
      "IF top-left-square = middle-middle-square = bottom-right-square AND middle-middle-square = {x} THEN class = {positive} (p = 90.0, n = 0.0, P = 626.0, N = 332.0, weight = 1.0, pvalue = 2.1010924382106886e-18)\n",
      "IF middle-middle-square = middle-left-square = middle-right-square AND middle-middle-square = {x} THEN class = {positive} (p = 78.0, n = 0.0, P = 626.0, N = 332.0, weight = 1.0, pvalue = 6.468907239907097e-16)\n",
      "IF middle-middle-square = top-middle-square = bottom-middle-square AND middle-middle-square = {x} THEN class = {positive} (p = 78.0, n = 0.0, P = 626.0, N = 332.0, weight = 1.0, pvalue = 6.468907239907097e-16)\n",
      "IF middle-left-square = middle-right-square AND bottom-right-square != top-right-square AND middle-middle-square = {x} AND middle-left-square != {b} THEN class = {positive} (p = 94.0, n = 0.0, P = 626.0, N = 332.0, weight = 1.0, pvalue = 3.042001160383574e-19)\n",
      "IF top-middle-square = bottom-middle-square AND bottom-right-square != bottom-left-square AND middle-middle-square = {x} AND bottom-middle-square != {b} THEN class = {positive} (p = 94.0, n = 0.0, P = 626.0, N = 332.0, weight = 1.0, pvalue = 3.042001160383574e-19)\n",
      "IF middle-middle-square = {x} AND bottom-left-square != {o} AND top-right-square != {o} THEN class = {positive} (p = 160.0, n = 0.0, P = 626.0, N = 332.0, weight = 1.0, pvalue = 7.281915526826546e-34)\n",
      "IF bottom-right-square != middle-right-square AND top-left-square != top-right-square AND bottom-right-square != middle-left-square AND middle-middle-square = {x} AND bottom-left-square != {o} THEN class = {positive} (p = 110.0, n = 0.0, P = 626.0, N = 332.0, weight = 1.0, pvalue = 1.1892731932005817e-22)\n",
      "IF middle-left-square != bottom-left-square AND middle-middle-square != middle-left-square AND middle-left-square != middle-right-square AND top-middle-square != bottom-right-square AND bottom-left-square != top-right-square AND top-middle-square != bottom-middle-square AND bottom-right-square != {o} AND middle-left-square != {x} THEN class = {positive} (p = 43.0, n = 4.0, P = 626.0, N = 332.0, weight = 0.9148936170212766, pvalue = 2.432123854638649e-05)\n",
      "IF bottom-middle-square != bottom-right-square AND top-middle-square != bottom-right-square AND middle-middle-square = {x} AND top-left-square != {o} AND top-right-square != {o} THEN class = {positive} (p = 85.0, n = 0.0, P = 626.0, N = 332.0, weight = 1.0, pvalue = 2.31524375255625e-17)\n",
      "IF middle-middle-square = middle-left-square = middle-right-square AND middle-middle-square != {o} THEN class = {positive} (p = 84.0, n = 0.0, P = 626.0, N = 332.0, weight = 1.0, pvalue = 3.733437342682929e-17)\n",
      "IF middle-middle-square = top-middle-square = bottom-middle-square AND middle-middle-square != {o} THEN class = {positive} (p = 84.0, n = 0.0, P = 626.0, N = 332.0, weight = 1.0, pvalue = 3.733437342682929e-17)\n",
      "IF bottom-left-square = top-right-square AND middle-middle-square != {o} AND bottom-left-square != {o} THEN class = {positive} (p = 136.0, n = 0.0, P = 626.0, N = 332.0, weight = 1.0, pvalue = 2.269144649595562e-28)\n",
      "IF top-left-square = bottom-right-square AND middle-middle-square != {o} AND bottom-right-square != {o} THEN class = {positive} (p = 136.0, n = 0.0, P = 626.0, N = 332.0, weight = 1.0, pvalue = 2.269144649595562e-28)\n",
      "IF top-left-square != bottom-left-square AND middle-left-square != bottom-left-square AND bottom-middle-square != middle-right-square AND top-middle-square != middle-left-square AND top-left-square != bottom-right-square AND bottom-left-square != top-right-square AND middle-middle-square != bottom-middle-square AND middle-middle-square != top-middle-square AND middle-middle-square != middle-left-square AND middle-middle-square != middle-right-square THEN class = {positive} (p = 10.0, n = 1.0, P = 626.0, N = 332.0, weight = 0.9090909090909091, pvalue = 0.06231516563495797)\n",
      "IF middle-left-square = middle-right-square AND bottom-middle-square != bottom-left-square AND middle-left-square != top-right-square AND middle-middle-square != {o} AND top-left-square != {o} THEN class = {positive} (p = 77.0, n = 0.0, P = 626.0, N = 332.0, weight = 1.0, pvalue = 1.0380887574423533e-15)\n",
      "IF bottom-middle-square != middle-right-square AND top-middle-square != middle-right-square AND middle-middle-square != bottom-right-square AND middle-middle-square != top-right-square AND bottom-middle-square != middle-left-square AND top-middle-square != middle-left-square AND middle-middle-square != bottom-middle-square AND middle-middle-square != top-middle-square AND middle-middle-square != {o} THEN class = {positive} (p = 51.0, n = 8.0, P = 626.0, N = 332.0, weight = 0.864406779661017, pvalue = 0.00016433521969918492)\n",
      "IF middle-middle-square != {o} AND bottom-left-square = {b} AND top-right-square != {o} THEN class = {positive} (p = 70.0, n = 0.0, P = 626.0, N = 332.0, weight = 1.0, pvalue = 2.7910883418874043e-14)\n",
      "IF middle-middle-square != {o} AND top-left-square != {o} AND bottom-right-square = {b} THEN class = {positive} (p = 70.0, n = 0.0, P = 626.0, N = 332.0, weight = 1.0, pvalue = 2.7910883418874043e-14)\n",
      "IF middle-middle-square != {o} AND top-left-square = {b} AND bottom-right-square != {o} THEN class = {positive} (p = 70.0, n = 0.0, P = 626.0, N = 332.0, weight = 1.0, pvalue = 2.7910883418874043e-14)\n",
      "IF middle-middle-square != {o} AND bottom-left-square != {o} AND top-right-square = {b} THEN class = {positive} (p = 70.0, n = 0.0, P = 626.0, N = 332.0, weight = 1.0, pvalue = 2.7910883418874043e-14)\n",
      "IF middle-right-square = top-right-square AND top-left-square != middle-left-square AND middle-middle-square != bottom-left-square AND middle-middle-square != {o} AND bottom-right-square != {o} AND bottom-left-square != {b} THEN class = {positive} (p = 45.0, n = 0.0, P = 626.0, N = 332.0, weight = 1.0, pvalue = 2.732819710336399e-09)\n",
      "IF bottom-middle-square = bottom-right-square = bottom-left-square AND bottom-left-square = {x} THEN class = {positive} (p = 78.0, n = 0.0, P = 626.0, N = 332.0, weight = 1.0, pvalue = 6.468907239907097e-16)\n",
      "IF top-left-square = middle-left-square = bottom-left-square AND bottom-left-square = {x} THEN class = {positive} (p = 78.0, n = 0.0, P = 626.0, N = 332.0, weight = 1.0, pvalue = 6.468907239907097e-16)\n",
      "IF bottom-right-square = bottom-left-square AND bottom-left-square = middle-right-square = top-right-square AND bottom-left-square = {x} THEN class = {positive} (p = 12.0, n = 0.0, P = 626.0, N = 332.0, weight = 1.0, pvalue = 0.005840838416671311)\n",
      "IF top-left-square = bottom-left-square AND top-left-square = top-middle-square = top-right-square AND bottom-left-square = {x} THEN class = {positive} (p = 12.0, n = 0.0, P = 626.0, N = 332.0, weight = 1.0, pvalue = 0.005840838416671311)\n",
      "IF bottom-right-square = middle-right-square = top-right-square AND bottom-right-square = {x} THEN class = {positive} (p = 78.0, n = 0.0, P = 626.0, N = 332.0, weight = 1.0, pvalue = 6.468907239907097e-16)\n",
      "IF bottom-right-square = top-right-square AND top-left-square = top-middle-square = bottom-right-square AND bottom-right-square = {x} THEN class = {positive} (p = 12.0, n = 0.0, P = 626.0, N = 332.0, weight = 1.0, pvalue = 0.005840838416671311)\n",
      "IF top-left-square = top-middle-square = top-right-square AND top-left-square = {x} THEN class = {positive} (p = 78.0, n = 0.0, P = 626.0, N = 332.0, weight = 1.0, pvalue = 6.468907239907097e-16)\n",
      "IF middle-middle-square = bottom-left-square = top-right-square AND middle-middle-square = {o} THEN class = {negative} (p = 50.0, n = 0.0, P = 332.0, N = 626.0, weight = 1.0, pvalue = 7.331205837871162e-25)\n",
      "IF top-left-square = middle-middle-square = bottom-right-square AND middle-middle-square = {o} THEN class = {negative} (p = 50.0, n = 0.0, P = 332.0, N = 626.0, weight = 1.0, pvalue = 7.331205837871162e-25)\n",
      "IF middle-middle-square = middle-left-square = middle-right-square AND middle-middle-square = {o} THEN class = {negative} (p = 36.0, n = 0.0, P = 332.0, N = 626.0, weight = 1.0, pvalue = 7.342482835464128e-18)\n",
      "IF middle-middle-square = top-middle-square = bottom-middle-square AND middle-middle-square = {o} THEN class = {negative} (p = 36.0, n = 0.0, P = 332.0, N = 626.0, weight = 1.0, pvalue = 7.342482835464128e-18)\n",
      "IF middle-left-square = middle-right-square AND bottom-right-square = bottom-left-square AND middle-middle-square = {o} AND middle-left-square != {b} THEN class = {negative} (p = 28.0, n = 0.0, P = 332.0, N = 626.0, weight = 1.0, pvalue = 5.997094570143059e-14)\n",
      "IF top-middle-square = bottom-middle-square AND bottom-right-square = top-right-square AND middle-middle-square = {o} AND bottom-middle-square != {b} THEN class = {negative} (p = 28.0, n = 0.0, P = 332.0, N = 626.0, weight = 1.0, pvalue = 5.997094570143059e-14)\n",
      "IF top-left-square = middle-middle-square AND bottom-middle-square = middle-right-square AND middle-middle-square = {o} AND top-middle-square != {b} AND middle-left-square != {b} THEN class = {negative} (p = 14.0, n = 3.0, P = 332.0, N = 626.0, weight = 0.8235294117647058, pvalue = 6.591103322114095e-05)\n",
      "IF bottom-middle-square = middle-left-square = top-right-square AND top-middle-square = bottom-left-square = middle-right-square THEN class = {negative} (p = 8.0, n = 0.0, P = 332.0, N = 626.0, weight = 1.0, pvalue = 0.00019678909176654215)\n",
      "IF top-left-square = bottom-middle-square = middle-right-square AND top-middle-square = bottom-right-square = middle-left-square THEN class = {negative} (p = 8.0, n = 0.0, P = 332.0, N = 626.0, weight = 1.0, pvalue = 0.00019678909176654215)\n",
      "IF middle-left-square = middle-right-square AND bottom-right-square = bottom-left-square AND middle-middle-square != {x} AND middle-left-square = {x} THEN class = {negative} (p = 24.0, n = 0.0, P = 332.0, N = 626.0, weight = 1.0, pvalue = 5.1383614755356434e-12)\n",
      "IF middle-left-square = middle-right-square AND top-middle-square = top-right-square AND top-left-square != middle-middle-square AND middle-middle-square != {x} AND top-left-square != {x} THEN class = {negative} (p = 17.0, n = 0.0, P = 332.0, N = 626.0, weight = 1.0, pvalue = 1.1408220728025724e-08)\n",
      "IF top-middle-square = bottom-middle-square AND bottom-right-square = top-right-square AND middle-middle-square != {x} AND bottom-middle-square = {x} THEN class = {negative} (p = 24.0, n = 0.0, P = 332.0, N = 626.0, weight = 1.0, pvalue = 5.1383614755356434e-12)\n",
      "IF middle-middle-square != {x} AND bottom-left-square = {o} AND top-right-square != {x} THEN class = {negative} (p = 67.0, n = 0.0, P = 332.0, N = 626.0, weight = 1.0, pvalue = 1.2126662151860296e-33)\n",
      "IF top-left-square = middle-left-square = bottom-left-square AND bottom-left-square = {o} THEN class = {negative} (p = 36.0, n = 0.0, P = 332.0, N = 626.0, weight = 1.0, pvalue = 7.342482835464128e-18)\n",
      "IF bottom-right-square = middle-right-square = top-right-square AND bottom-right-square = {o} THEN class = {negative} (p = 36.0, n = 0.0, P = 332.0, N = 626.0, weight = 1.0, pvalue = 7.342482835464128e-18)\n",
      "IF top-left-square = top-middle-square = top-right-square AND top-left-square = {o} THEN class = {negative} (p = 36.0, n = 0.0, P = 332.0, N = 626.0, weight = 1.0, pvalue = 7.342482835464128e-18)\n",
      "IF bottom-middle-square = bottom-right-square = bottom-left-square AND bottom-left-square = {o} THEN class = {negative} (p = 36.0, n = 0.0, P = 332.0, N = 626.0, weight = 1.0, pvalue = 7.342482835464128e-18)\n",
      "\n",
      "\n",
      "Complex rules + inners alternatives\n",
      "IF middle-middle-square = bottom-left-square = top-right-square AND middle-middle-square = {x} THEN class = {positive} (p = 90.0, n = 0.0, P = 626.0, N = 332.0, weight = 1.0, pvalue = 2.1010924382106886e-18)\n",
      "IF top-left-square = middle-middle-square = bottom-right-square AND middle-middle-square = {x} THEN class = {positive} (p = 90.0, n = 0.0, P = 626.0, N = 332.0, weight = 1.0, pvalue = 2.1010924382106886e-18)\n",
      "IF middle-middle-square = middle-left-square = middle-right-square AND middle-middle-square = {x} THEN class = {positive} (p = 78.0, n = 0.0, P = 626.0, N = 332.0, weight = 1.0, pvalue = 6.468907239907097e-16)\n",
      "IF middle-middle-square = top-middle-square = bottom-middle-square AND middle-middle-square = {x} THEN class = {positive} (p = 78.0, n = 0.0, P = 626.0, N = 332.0, weight = 1.0, pvalue = 6.468907239907097e-16)\n",
      "IF middle-left-square = middle-right-square AND bottom-right-square != top-right-square AND middle-middle-square = {x} AND middle-left-square != {b} THEN class = {positive} (p = 94.0, n = 0.0, P = 626.0, N = 332.0, weight = 1.0, pvalue = 3.042001160383574e-19)\n",
      "IF top-middle-square = bottom-middle-square AND bottom-right-square != bottom-left-square AND middle-middle-square = {x} AND bottom-middle-square != {b} THEN class = {positive} (p = 94.0, n = 0.0, P = 626.0, N = 332.0, weight = 1.0, pvalue = 3.042001160383574e-19)\n",
      "IF middle-middle-square = {x} AND bottom-left-square != {o} AND top-right-square != {o} THEN class = {positive} (p = 160.0, n = 0.0, P = 626.0, N = 332.0, weight = 1.0, pvalue = 7.281915526826546e-34)\n",
      "IF bottom-right-square != middle-right-square AND top-left-square != top-right-square AND bottom-right-square != middle-left-square AND middle-middle-square = {x} AND bottom-left-square != {o} THEN class = {positive} (p = 110.0, n = 0.0, P = 626.0, N = 332.0, weight = 1.0, pvalue = 1.1892731932005817e-22)\n",
      "IF middle-left-square != bottom-left-square AND middle-middle-square != middle-left-square AND middle-left-square != middle-right-square AND top-middle-square != bottom-right-square AND bottom-left-square != top-right-square AND top-middle-square != bottom-middle-square AND bottom-right-square != {o} AND middle-left-square != {x} THEN class = {positive} (p = 43.0, n = 4.0, P = 626.0, N = 332.0, weight = 0.9148936170212766, pvalue = 2.432123854638649e-05)\n",
      "IF bottom-middle-square != bottom-right-square AND top-middle-square != bottom-right-square AND middle-middle-square = {x} AND top-left-square != {o} AND top-right-square != {o} THEN class = {positive} (p = 85.0, n = 0.0, P = 626.0, N = 332.0, weight = 1.0, pvalue = 2.31524375255625e-17)\n",
      "IF middle-middle-square = middle-left-square = middle-right-square AND middle-middle-square != {o} THEN class = {positive} (p = 84.0, n = 0.0, P = 626.0, N = 332.0, weight = 1.0, pvalue = 3.733437342682929e-17)\n",
      "IF middle-middle-square = top-middle-square = bottom-middle-square AND middle-middle-square != {o} THEN class = {positive} (p = 84.0, n = 0.0, P = 626.0, N = 332.0, weight = 1.0, pvalue = 3.733437342682929e-17)\n",
      "IF bottom-left-square = top-right-square AND middle-middle-square != {o} AND bottom-left-square != {o} THEN class = {positive} (p = 136.0, n = 0.0, P = 626.0, N = 332.0, weight = 1.0, pvalue = 2.269144649595562e-28)\n",
      "IF top-left-square = bottom-right-square AND middle-middle-square != {o} AND bottom-right-square != {o} THEN class = {positive} (p = 136.0, n = 0.0, P = 626.0, N = 332.0, weight = 1.0, pvalue = 2.269144649595562e-28)\n",
      "IF top-left-square != bottom-left-square AND middle-left-square != bottom-left-square AND bottom-middle-square != middle-right-square AND top-middle-square != middle-left-square AND top-left-square != bottom-right-square AND bottom-left-square != top-right-square AND middle-middle-square != bottom-middle-square AND middle-middle-square != top-middle-square AND middle-middle-square != middle-left-square AND middle-middle-square != middle-right-square THEN class = {positive} (p = 10.0, n = 1.0, P = 626.0, N = 332.0, weight = 0.9090909090909091, pvalue = 0.06231516563495797)\n",
      "IF middle-left-square = middle-right-square AND bottom-middle-square != bottom-left-square AND middle-left-square != top-right-square AND middle-middle-square != {o} AND top-left-square != {o} THEN class = {positive} (p = 77.0, n = 0.0, P = 626.0, N = 332.0, weight = 1.0, pvalue = 1.0380887574423533e-15)\n",
      "IF bottom-middle-square != middle-right-square AND top-middle-square != middle-right-square AND middle-middle-square != bottom-right-square AND middle-middle-square != top-right-square AND bottom-middle-square != middle-left-square AND top-middle-square != middle-left-square AND middle-middle-square != bottom-middle-square AND middle-middle-square != top-middle-square AND middle-middle-square != {o} THEN class = {positive} (p = 51.0, n = 8.0, P = 626.0, N = 332.0, weight = 0.864406779661017, pvalue = 0.00016433521969918492)\n",
      "IF middle-middle-square != {o} AND bottom-left-square = {b} AND top-right-square != {o} THEN class = {positive} (p = 70.0, n = 0.0, P = 626.0, N = 332.0, weight = 1.0, pvalue = 2.7910883418874043e-14)\n",
      "IF middle-middle-square != {o} AND top-left-square != {o} AND bottom-right-square = {b} THEN class = {positive} (p = 70.0, n = 0.0, P = 626.0, N = 332.0, weight = 1.0, pvalue = 2.7910883418874043e-14)\n",
      "IF middle-middle-square != {o} AND top-left-square = {b} AND bottom-right-square != {o} THEN class = {positive} (p = 70.0, n = 0.0, P = 626.0, N = 332.0, weight = 1.0, pvalue = 2.7910883418874043e-14)\n",
      "IF middle-middle-square != {o} AND bottom-left-square != {o} AND top-right-square = {b} THEN class = {positive} (p = 70.0, n = 0.0, P = 626.0, N = 332.0, weight = 1.0, pvalue = 2.7910883418874043e-14)\n",
      "IF middle-right-square = top-right-square AND top-left-square != middle-left-square AND middle-middle-square != bottom-left-square AND middle-middle-square != {o} AND bottom-right-square != {o} AND bottom-left-square != {b} THEN class = {positive} (p = 45.0, n = 0.0, P = 626.0, N = 332.0, weight = 1.0, pvalue = 2.732819710336399e-09)\n",
      "IF bottom-middle-square = bottom-right-square = bottom-left-square AND bottom-left-square = {x} THEN class = {positive} (p = 78.0, n = 0.0, P = 626.0, N = 332.0, weight = 1.0, pvalue = 6.468907239907097e-16)\n",
      "IF top-left-square = middle-left-square = bottom-left-square AND bottom-left-square = {x} THEN class = {positive} (p = 78.0, n = 0.0, P = 626.0, N = 332.0, weight = 1.0, pvalue = 6.468907239907097e-16)\n",
      "IF bottom-right-square = bottom-left-square AND bottom-left-square = middle-right-square = top-right-square AND bottom-left-square = {x} THEN class = {positive} (p = 12.0, n = 0.0, P = 626.0, N = 332.0, weight = 1.0, pvalue = 0.005840838416671311)\n",
      "IF top-left-square = bottom-left-square AND top-left-square = top-middle-square = top-right-square AND bottom-left-square = {x} THEN class = {positive} (p = 12.0, n = 0.0, P = 626.0, N = 332.0, weight = 1.0, pvalue = 0.005840838416671311)\n",
      "IF bottom-right-square = middle-right-square = top-right-square AND bottom-right-square = {x} THEN class = {positive} (p = 78.0, n = 0.0, P = 626.0, N = 332.0, weight = 1.0, pvalue = 6.468907239907097e-16)\n",
      "IF bottom-right-square = top-right-square AND top-left-square = top-middle-square = bottom-right-square AND bottom-right-square = {x} THEN class = {positive} (p = 12.0, n = 0.0, P = 626.0, N = 332.0, weight = 1.0, pvalue = 0.005840838416671311)\n",
      "IF top-left-square = top-middle-square = top-right-square AND top-left-square = {x} THEN class = {positive} (p = 78.0, n = 0.0, P = 626.0, N = 332.0, weight = 1.0, pvalue = 6.468907239907097e-16)\n",
      "IF middle-middle-square = bottom-left-square = top-right-square AND middle-middle-square = {o} THEN class = {negative} (p = 50.0, n = 0.0, P = 332.0, N = 626.0, weight = 1.0, pvalue = 7.331205837871162e-25)\n",
      "IF top-left-square = middle-middle-square = bottom-right-square AND middle-middle-square = {o} THEN class = {negative} (p = 50.0, n = 0.0, P = 332.0, N = 626.0, weight = 1.0, pvalue = 7.331205837871162e-25)\n",
      "IF middle-middle-square = middle-left-square = middle-right-square AND middle-middle-square = {o} THEN class = {negative} (p = 36.0, n = 0.0, P = 332.0, N = 626.0, weight = 1.0, pvalue = 7.342482835464128e-18)\n",
      "IF middle-middle-square = top-middle-square = bottom-middle-square AND middle-middle-square = {o} THEN class = {negative} (p = 36.0, n = 0.0, P = 332.0, N = 626.0, weight = 1.0, pvalue = 7.342482835464128e-18)\n",
      "IF middle-left-square = middle-right-square AND bottom-right-square = bottom-left-square AND middle-middle-square = {o} AND middle-left-square != {b} THEN class = {negative} (p = 28.0, n = 0.0, P = 332.0, N = 626.0, weight = 1.0, pvalue = 5.997094570143059e-14)\n",
      "IF top-middle-square = bottom-middle-square AND bottom-right-square = top-right-square AND middle-middle-square = {o} AND bottom-middle-square != {b} THEN class = {negative} (p = 28.0, n = 0.0, P = 332.0, N = 626.0, weight = 1.0, pvalue = 5.997094570143059e-14)\n",
      "IF top-left-square = middle-middle-square AND bottom-middle-square = middle-right-square AND middle-middle-square = {o} AND top-middle-square != {b} AND middle-left-square != {b} THEN class = {negative} (p = 14.0, n = 3.0, P = 332.0, N = 626.0, weight = 0.8235294117647058, pvalue = 6.591103322114095e-05)\n",
      "IF bottom-middle-square = middle-left-square = top-right-square AND top-middle-square = bottom-left-square = middle-right-square THEN class = {negative} (p = 8.0, n = 0.0, P = 332.0, N = 626.0, weight = 1.0, pvalue = 0.00019678909176654215)\n",
      "IF top-left-square = bottom-middle-square = middle-right-square AND top-middle-square = bottom-right-square = middle-left-square THEN class = {negative} (p = 8.0, n = 0.0, P = 332.0, N = 626.0, weight = 1.0, pvalue = 0.00019678909176654215)\n",
      "IF middle-left-square = middle-right-square AND bottom-right-square = bottom-left-square AND middle-middle-square != {x} AND middle-left-square = {x} THEN class = {negative} (p = 24.0, n = 0.0, P = 332.0, N = 626.0, weight = 1.0, pvalue = 5.1383614755356434e-12)\n",
      "IF middle-left-square = middle-right-square AND top-middle-square = top-right-square AND top-left-square != middle-middle-square AND middle-middle-square != {x} AND top-left-square != {x} THEN class = {negative} (p = 17.0, n = 0.0, P = 332.0, N = 626.0, weight = 1.0, pvalue = 1.1408220728025724e-08)\n",
      "IF top-middle-square = bottom-middle-square AND bottom-right-square = top-right-square AND middle-middle-square != {x} AND bottom-middle-square = {x} THEN class = {negative} (p = 24.0, n = 0.0, P = 332.0, N = 626.0, weight = 1.0, pvalue = 5.1383614755356434e-12)\n",
      "IF middle-middle-square != {x} AND bottom-left-square = {o} AND top-right-square != {x} THEN class = {negative} (p = 67.0, n = 0.0, P = 332.0, N = 626.0, weight = 1.0, pvalue = 1.2126662151860296e-33)\n",
      "IF top-left-square = middle-left-square = bottom-left-square AND bottom-left-square = {o} THEN class = {negative} (p = 36.0, n = 0.0, P = 332.0, N = 626.0, weight = 1.0, pvalue = 7.342482835464128e-18)\n",
      "IF bottom-right-square = middle-right-square = top-right-square AND bottom-right-square = {o} THEN class = {negative} (p = 36.0, n = 0.0, P = 332.0, N = 626.0, weight = 1.0, pvalue = 7.342482835464128e-18)\n",
      "IF top-left-square = top-middle-square = top-right-square AND top-left-square = {o} THEN class = {negative} (p = 36.0, n = 0.0, P = 332.0, N = 626.0, weight = 1.0, pvalue = 7.342482835464128e-18)\n",
      "IF bottom-middle-square = bottom-right-square = bottom-left-square AND bottom-left-square = {o} THEN class = {negative} (p = 36.0, n = 0.0, P = 332.0, N = 626.0, weight = 1.0, pvalue = 7.342482835464128e-18)\n"
     ]
    }
   ],
   "source": [
    "X = train.drop(['class'], axis=1)\n",
    "y = train['class']\n",
    "\n",
    "clf_simple.fit(X, y)\n",
    "\n",
    "print(\"Rules original\")\n",
    "for rule in clf_simple.model.rules:\n",
    "    print(rule, rule.stats)\n",
    "\n",
    "print(\"\\n\\nComplex rules\")\n",
    "clf_complex.fit(X, y)\n",
    "for rule in clf_complex.model.rules:\n",
    "    print(rule, rule.stats)\n",
    "\n",
    "print(\"\\n\\nComplex rules + inners alternatives\")\n",
    "clf_complex_with_inners.fit(X, y)\n",
    "for rule in clf_complex_with_inners.model.rules:\n",
    "    print(rule, rule.stats)"
   ]
  }
 ],
 "metadata": {
  "kernelspec": {
   "display_name": "base",
   "language": "python",
   "name": "python3"
  },
  "language_info": {
   "codemirror_mode": {
    "name": "ipython",
    "version": 3
   },
   "file_extension": ".py",
   "mimetype": "text/x-python",
   "name": "python",
   "nbconvert_exporter": "python",
   "pygments_lexer": "ipython3",
   "version": "3.9.13 (main, Aug 25 2022, 23:51:50) [MSC v.1916 64 bit (AMD64)]"
  },
  "orig_nbformat": 4,
  "vscode": {
   "interpreter": {
    "hash": "d54b9262b065611f7f2e7a0525ca4f571538a2ada7ca0b9df067034628c9b638"
   }
  }
 },
 "nbformat": 4,
 "nbformat_minor": 2
}
